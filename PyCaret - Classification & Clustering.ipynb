{
 "cells": [
  {
   "cell_type": "markdown",
   "metadata": {},
   "source": [
    "##### PyCaret - Classification & Clustering"
   ]
  },
  {
   "cell_type": "code",
   "execution_count": 5,
   "metadata": {},
   "outputs": [
    {
     "data": {
      "text/plain": [
       "'2.1.2'"
      ]
     },
     "execution_count": 5,
     "metadata": {},
     "output_type": "execute_result"
    }
   ],
   "source": [
    "from pycaret.utils import version\n",
    "version()"
   ]
  },
  {
   "cell_type": "code",
   "execution_count": 7,
   "metadata": {},
   "outputs": [],
   "source": [
    "from pycaret.datasets import get_data"
   ]
  },
  {
   "cell_type": "code",
   "execution_count": 8,
   "metadata": {},
   "outputs": [
    {
     "data": {
      "text/html": [
       "<div>\n",
       "<style scoped>\n",
       "    .dataframe tbody tr th:only-of-type {\n",
       "        vertical-align: middle;\n",
       "    }\n",
       "\n",
       "    .dataframe tbody tr th {\n",
       "        vertical-align: top;\n",
       "    }\n",
       "\n",
       "    .dataframe thead th {\n",
       "        text-align: right;\n",
       "    }\n",
       "</style>\n",
       "<table border=\"1\" class=\"dataframe\">\n",
       "  <thead>\n",
       "    <tr style=\"text-align: right;\">\n",
       "      <th></th>\n",
       "      <th>crim</th>\n",
       "      <th>zn</th>\n",
       "      <th>indus</th>\n",
       "      <th>chas</th>\n",
       "      <th>nox</th>\n",
       "      <th>rm</th>\n",
       "      <th>age</th>\n",
       "      <th>dis</th>\n",
       "      <th>rad</th>\n",
       "      <th>tax</th>\n",
       "      <th>ptratio</th>\n",
       "      <th>black</th>\n",
       "      <th>lstat</th>\n",
       "      <th>medv</th>\n",
       "    </tr>\n",
       "  </thead>\n",
       "  <tbody>\n",
       "    <tr>\n",
       "      <th>0</th>\n",
       "      <td>0.00632</td>\n",
       "      <td>18.0</td>\n",
       "      <td>2.31</td>\n",
       "      <td>0</td>\n",
       "      <td>0.538</td>\n",
       "      <td>6.575</td>\n",
       "      <td>65.2</td>\n",
       "      <td>4.0900</td>\n",
       "      <td>1</td>\n",
       "      <td>296</td>\n",
       "      <td>15.3</td>\n",
       "      <td>396.90</td>\n",
       "      <td>4.98</td>\n",
       "      <td>24.0</td>\n",
       "    </tr>\n",
       "    <tr>\n",
       "      <th>1</th>\n",
       "      <td>0.02731</td>\n",
       "      <td>0.0</td>\n",
       "      <td>7.07</td>\n",
       "      <td>0</td>\n",
       "      <td>0.469</td>\n",
       "      <td>6.421</td>\n",
       "      <td>78.9</td>\n",
       "      <td>4.9671</td>\n",
       "      <td>2</td>\n",
       "      <td>242</td>\n",
       "      <td>17.8</td>\n",
       "      <td>396.90</td>\n",
       "      <td>9.14</td>\n",
       "      <td>21.6</td>\n",
       "    </tr>\n",
       "    <tr>\n",
       "      <th>2</th>\n",
       "      <td>0.02729</td>\n",
       "      <td>0.0</td>\n",
       "      <td>7.07</td>\n",
       "      <td>0</td>\n",
       "      <td>0.469</td>\n",
       "      <td>7.185</td>\n",
       "      <td>61.1</td>\n",
       "      <td>4.9671</td>\n",
       "      <td>2</td>\n",
       "      <td>242</td>\n",
       "      <td>17.8</td>\n",
       "      <td>392.83</td>\n",
       "      <td>4.03</td>\n",
       "      <td>34.7</td>\n",
       "    </tr>\n",
       "    <tr>\n",
       "      <th>3</th>\n",
       "      <td>0.03237</td>\n",
       "      <td>0.0</td>\n",
       "      <td>2.18</td>\n",
       "      <td>0</td>\n",
       "      <td>0.458</td>\n",
       "      <td>6.998</td>\n",
       "      <td>45.8</td>\n",
       "      <td>6.0622</td>\n",
       "      <td>3</td>\n",
       "      <td>222</td>\n",
       "      <td>18.7</td>\n",
       "      <td>394.63</td>\n",
       "      <td>2.94</td>\n",
       "      <td>33.4</td>\n",
       "    </tr>\n",
       "    <tr>\n",
       "      <th>4</th>\n",
       "      <td>0.06905</td>\n",
       "      <td>0.0</td>\n",
       "      <td>2.18</td>\n",
       "      <td>0</td>\n",
       "      <td>0.458</td>\n",
       "      <td>7.147</td>\n",
       "      <td>54.2</td>\n",
       "      <td>6.0622</td>\n",
       "      <td>3</td>\n",
       "      <td>222</td>\n",
       "      <td>18.7</td>\n",
       "      <td>396.90</td>\n",
       "      <td>5.33</td>\n",
       "      <td>36.2</td>\n",
       "    </tr>\n",
       "  </tbody>\n",
       "</table>\n",
       "</div>"
      ],
      "text/plain": [
       "      crim    zn  indus  chas    nox     rm   age     dis  rad  tax  ptratio  \\\n",
       "0  0.00632  18.0   2.31     0  0.538  6.575  65.2  4.0900    1  296     15.3   \n",
       "1  0.02731   0.0   7.07     0  0.469  6.421  78.9  4.9671    2  242     17.8   \n",
       "2  0.02729   0.0   7.07     0  0.469  7.185  61.1  4.9671    2  242     17.8   \n",
       "3  0.03237   0.0   2.18     0  0.458  6.998  45.8  6.0622    3  222     18.7   \n",
       "4  0.06905   0.0   2.18     0  0.458  7.147  54.2  6.0622    3  222     18.7   \n",
       "\n",
       "    black  lstat  medv  \n",
       "0  396.90   4.98  24.0  \n",
       "1  396.90   9.14  21.6  \n",
       "2  392.83   4.03  34.7  \n",
       "3  394.63   2.94  33.4  \n",
       "4  396.90   5.33  36.2  "
      ]
     },
     "metadata": {},
     "output_type": "display_data"
    }
   ],
   "source": [
    "## Way 1 - importing from PyCaret\n",
    "ds = get_data('boston')"
   ]
  },
  {
   "cell_type": "code",
   "execution_count": 9,
   "metadata": {
    "collapsed": true
   },
   "outputs": [
    {
     "name": "stdout",
     "output_type": "stream",
     "text": [
      "        crim    zn  indus  chas    nox     rm   age     dis  rad  tax  \\\n",
      "0    0.00632  18.0   2.31     0  0.538  6.575  65.2  4.0900    1  296   \n",
      "1    0.02731   0.0   7.07     0  0.469  6.421  78.9  4.9671    2  242   \n",
      "2    0.02729   0.0   7.07     0  0.469  7.185  61.1  4.9671    2  242   \n",
      "3    0.03237   0.0   2.18     0  0.458  6.998  45.8  6.0622    3  222   \n",
      "4    0.06905   0.0   2.18     0  0.458  7.147  54.2  6.0622    3  222   \n",
      "..       ...   ...    ...   ...    ...    ...   ...     ...  ...  ...   \n",
      "501  0.06263   0.0  11.93     0  0.573  6.593  69.1  2.4786    1  273   \n",
      "502  0.04527   0.0  11.93     0  0.573  6.120  76.7  2.2875    1  273   \n",
      "503  0.06076   0.0  11.93     0  0.573  6.976  91.0  2.1675    1  273   \n",
      "504  0.10959   0.0  11.93     0  0.573  6.794  89.3  2.3889    1  273   \n",
      "505  0.04741   0.0  11.93     0  0.573  6.030  80.8  2.5050    1  273   \n",
      "\n",
      "     ptratio   black  lstat  medv  \n",
      "0       15.3  396.90   4.98  24.0  \n",
      "1       17.8  396.90   9.14  21.6  \n",
      "2       17.8  392.83   4.03  34.7  \n",
      "3       18.7  394.63   2.94  33.4  \n",
      "4       18.7  396.90   5.33  36.2  \n",
      "..       ...     ...    ...   ...  \n",
      "501     21.0  391.99   9.67  22.4  \n",
      "502     21.0  396.90   9.08  20.6  \n",
      "503     21.0  396.90   5.64  23.9  \n",
      "504     21.0  393.45   6.48  22.0  \n",
      "505     21.0  396.90   7.88  11.9  \n",
      "\n",
      "[506 rows x 14 columns]\n"
     ]
    }
   ],
   "source": [
    "print(ds)"
   ]
  },
  {
   "cell_type": "code",
   "execution_count": 10,
   "metadata": {},
   "outputs": [],
   "source": [
    "import pandas as pd"
   ]
  },
  {
   "cell_type": "code",
   "execution_count": 11,
   "metadata": {},
   "outputs": [],
   "source": [
    "## Way 2 - Importing from Local Directory\n",
    "ds = pd.read_csv('Iris.csv')"
   ]
  },
  {
   "cell_type": "code",
   "execution_count": 12,
   "metadata": {
    "collapsed": true
   },
   "outputs": [
    {
     "name": "stdout",
     "output_type": "stream",
     "text": [
      "      Id  SepalLengthCm  SepalWidthCm  PetalLengthCm  PetalWidthCm  \\\n",
      "0      1            5.1           3.5            1.4           0.2   \n",
      "1      2            4.9           3.0            1.4           0.2   \n",
      "2      3            4.7           3.2            1.3           0.2   \n",
      "3      4            4.6           3.1            1.5           0.2   \n",
      "4      5            5.0           3.6            1.4           0.2   \n",
      "..   ...            ...           ...            ...           ...   \n",
      "145  146            6.7           3.0            5.2           2.3   \n",
      "146  147            6.3           2.5            5.0           1.9   \n",
      "147  148            6.5           3.0            5.2           2.0   \n",
      "148  149            6.2           3.4            5.4           2.3   \n",
      "149  150            5.9           3.0            5.1           1.8   \n",
      "\n",
      "            Species  \n",
      "0       Iris-setosa  \n",
      "1       Iris-setosa  \n",
      "2       Iris-setosa  \n",
      "3       Iris-setosa  \n",
      "4       Iris-setosa  \n",
      "..              ...  \n",
      "145  Iris-virginica  \n",
      "146  Iris-virginica  \n",
      "147  Iris-virginica  \n",
      "148  Iris-virginica  \n",
      "149  Iris-virginica  \n",
      "\n",
      "[150 rows x 6 columns]\n"
     ]
    }
   ],
   "source": [
    "print(ds)"
   ]
  },
  {
   "cell_type": "code",
   "execution_count": 13,
   "metadata": {},
   "outputs": [],
   "source": [
    "## Way 3 - Importing from a link\n",
    "ds1 = pd.read_csv('https://raw.githubusercontent.com/datasciencedojo/datasets/master/titanic.csv')"
   ]
  },
  {
   "cell_type": "code",
   "execution_count": 14,
   "metadata": {
    "collapsed": true
   },
   "outputs": [
    {
     "name": "stdout",
     "output_type": "stream",
     "text": [
      "     PassengerId  Survived  Pclass  \\\n",
      "0              1         0       3   \n",
      "1              2         1       1   \n",
      "2              3         1       3   \n",
      "3              4         1       1   \n",
      "4              5         0       3   \n",
      "..           ...       ...     ...   \n",
      "886          887         0       2   \n",
      "887          888         1       1   \n",
      "888          889         0       3   \n",
      "889          890         1       1   \n",
      "890          891         0       3   \n",
      "\n",
      "                                                  Name     Sex   Age  SibSp  \\\n",
      "0                              Braund, Mr. Owen Harris    male  22.0      1   \n",
      "1    Cumings, Mrs. John Bradley (Florence Briggs Th...  female  38.0      1   \n",
      "2                               Heikkinen, Miss. Laina  female  26.0      0   \n",
      "3         Futrelle, Mrs. Jacques Heath (Lily May Peel)  female  35.0      1   \n",
      "4                             Allen, Mr. William Henry    male  35.0      0   \n",
      "..                                                 ...     ...   ...    ...   \n",
      "886                              Montvila, Rev. Juozas    male  27.0      0   \n",
      "887                       Graham, Miss. Margaret Edith  female  19.0      0   \n",
      "888           Johnston, Miss. Catherine Helen \"Carrie\"  female   NaN      1   \n",
      "889                              Behr, Mr. Karl Howell    male  26.0      0   \n",
      "890                                Dooley, Mr. Patrick    male  32.0      0   \n",
      "\n",
      "     Parch            Ticket     Fare Cabin Embarked  \n",
      "0        0         A/5 21171   7.2500   NaN        S  \n",
      "1        0          PC 17599  71.2833   C85        C  \n",
      "2        0  STON/O2. 3101282   7.9250   NaN        S  \n",
      "3        0            113803  53.1000  C123        S  \n",
      "4        0            373450   8.0500   NaN        S  \n",
      "..     ...               ...      ...   ...      ...  \n",
      "886      0            211536  13.0000   NaN        S  \n",
      "887      0            112053  30.0000   B42        S  \n",
      "888      2        W./C. 6607  23.4500   NaN        S  \n",
      "889      0            111369  30.0000  C148        C  \n",
      "890      0            370376   7.7500   NaN        Q  \n",
      "\n",
      "[891 rows x 12 columns]\n"
     ]
    }
   ],
   "source": [
    "print(ds1)"
   ]
  },
  {
   "cell_type": "code",
   "execution_count": 15,
   "metadata": {},
   "outputs": [
    {
     "data": {
      "text/html": [
       "<div>\n",
       "<style scoped>\n",
       "    .dataframe tbody tr th:only-of-type {\n",
       "        vertical-align: middle;\n",
       "    }\n",
       "\n",
       "    .dataframe tbody tr th {\n",
       "        vertical-align: top;\n",
       "    }\n",
       "\n",
       "    .dataframe thead th {\n",
       "        text-align: right;\n",
       "    }\n",
       "</style>\n",
       "<table border=\"1\" class=\"dataframe\">\n",
       "  <thead>\n",
       "    <tr style=\"text-align: right;\">\n",
       "      <th></th>\n",
       "      <th>Dataset</th>\n",
       "      <th>Data Types</th>\n",
       "      <th>Default Task</th>\n",
       "      <th>Target Variable 1</th>\n",
       "      <th>Target Variable 2</th>\n",
       "      <th># Instances</th>\n",
       "      <th># Attributes</th>\n",
       "      <th>Missing Values</th>\n",
       "    </tr>\n",
       "  </thead>\n",
       "  <tbody>\n",
       "    <tr>\n",
       "      <th>0</th>\n",
       "      <td>anomaly</td>\n",
       "      <td>Multivariate</td>\n",
       "      <td>Anomaly Detection</td>\n",
       "      <td>None</td>\n",
       "      <td>None</td>\n",
       "      <td>1000</td>\n",
       "      <td>10</td>\n",
       "      <td>N</td>\n",
       "    </tr>\n",
       "    <tr>\n",
       "      <th>1</th>\n",
       "      <td>france</td>\n",
       "      <td>Multivariate</td>\n",
       "      <td>Association Rule Mining</td>\n",
       "      <td>InvoiceNo</td>\n",
       "      <td>Description</td>\n",
       "      <td>8557</td>\n",
       "      <td>8</td>\n",
       "      <td>N</td>\n",
       "    </tr>\n",
       "    <tr>\n",
       "      <th>2</th>\n",
       "      <td>germany</td>\n",
       "      <td>Multivariate</td>\n",
       "      <td>Association Rule Mining</td>\n",
       "      <td>InvoiceNo</td>\n",
       "      <td>Description</td>\n",
       "      <td>9495</td>\n",
       "      <td>8</td>\n",
       "      <td>N</td>\n",
       "    </tr>\n",
       "    <tr>\n",
       "      <th>3</th>\n",
       "      <td>bank</td>\n",
       "      <td>Multivariate</td>\n",
       "      <td>Classification (Binary)</td>\n",
       "      <td>deposit</td>\n",
       "      <td>None</td>\n",
       "      <td>45211</td>\n",
       "      <td>17</td>\n",
       "      <td>N</td>\n",
       "    </tr>\n",
       "    <tr>\n",
       "      <th>4</th>\n",
       "      <td>blood</td>\n",
       "      <td>Multivariate</td>\n",
       "      <td>Classification (Binary)</td>\n",
       "      <td>Class</td>\n",
       "      <td>None</td>\n",
       "      <td>748</td>\n",
       "      <td>5</td>\n",
       "      <td>N</td>\n",
       "    </tr>\n",
       "    <tr>\n",
       "      <th>5</th>\n",
       "      <td>cancer</td>\n",
       "      <td>Multivariate</td>\n",
       "      <td>Classification (Binary)</td>\n",
       "      <td>Class</td>\n",
       "      <td>None</td>\n",
       "      <td>683</td>\n",
       "      <td>10</td>\n",
       "      <td>N</td>\n",
       "    </tr>\n",
       "    <tr>\n",
       "      <th>6</th>\n",
       "      <td>credit</td>\n",
       "      <td>Multivariate</td>\n",
       "      <td>Classification (Binary)</td>\n",
       "      <td>default</td>\n",
       "      <td>None</td>\n",
       "      <td>24000</td>\n",
       "      <td>24</td>\n",
       "      <td>N</td>\n",
       "    </tr>\n",
       "    <tr>\n",
       "      <th>7</th>\n",
       "      <td>diabetes</td>\n",
       "      <td>Multivariate</td>\n",
       "      <td>Classification (Binary)</td>\n",
       "      <td>Class variable</td>\n",
       "      <td>None</td>\n",
       "      <td>768</td>\n",
       "      <td>9</td>\n",
       "      <td>N</td>\n",
       "    </tr>\n",
       "    <tr>\n",
       "      <th>8</th>\n",
       "      <td>electrical_grid</td>\n",
       "      <td>Multivariate</td>\n",
       "      <td>Classification (Binary)</td>\n",
       "      <td>stabf</td>\n",
       "      <td>None</td>\n",
       "      <td>10000</td>\n",
       "      <td>14</td>\n",
       "      <td>N</td>\n",
       "    </tr>\n",
       "    <tr>\n",
       "      <th>9</th>\n",
       "      <td>employee</td>\n",
       "      <td>Multivariate</td>\n",
       "      <td>Classification (Binary)</td>\n",
       "      <td>left</td>\n",
       "      <td>None</td>\n",
       "      <td>14999</td>\n",
       "      <td>10</td>\n",
       "      <td>N</td>\n",
       "    </tr>\n",
       "    <tr>\n",
       "      <th>10</th>\n",
       "      <td>heart</td>\n",
       "      <td>Multivariate</td>\n",
       "      <td>Classification (Binary)</td>\n",
       "      <td>DEATH</td>\n",
       "      <td>None</td>\n",
       "      <td>200</td>\n",
       "      <td>16</td>\n",
       "      <td>N</td>\n",
       "    </tr>\n",
       "    <tr>\n",
       "      <th>11</th>\n",
       "      <td>heart_disease</td>\n",
       "      <td>Multivariate</td>\n",
       "      <td>Classification (Binary)</td>\n",
       "      <td>Disease</td>\n",
       "      <td>None</td>\n",
       "      <td>270</td>\n",
       "      <td>14</td>\n",
       "      <td>N</td>\n",
       "    </tr>\n",
       "    <tr>\n",
       "      <th>12</th>\n",
       "      <td>hepatitis</td>\n",
       "      <td>Multivariate</td>\n",
       "      <td>Classification (Binary)</td>\n",
       "      <td>Class</td>\n",
       "      <td>None</td>\n",
       "      <td>154</td>\n",
       "      <td>32</td>\n",
       "      <td>Y</td>\n",
       "    </tr>\n",
       "    <tr>\n",
       "      <th>13</th>\n",
       "      <td>income</td>\n",
       "      <td>Multivariate</td>\n",
       "      <td>Classification (Binary)</td>\n",
       "      <td>income &gt;50K</td>\n",
       "      <td>None</td>\n",
       "      <td>32561</td>\n",
       "      <td>14</td>\n",
       "      <td>Y</td>\n",
       "    </tr>\n",
       "    <tr>\n",
       "      <th>14</th>\n",
       "      <td>juice</td>\n",
       "      <td>Multivariate</td>\n",
       "      <td>Classification (Binary)</td>\n",
       "      <td>Purchase</td>\n",
       "      <td>None</td>\n",
       "      <td>1070</td>\n",
       "      <td>15</td>\n",
       "      <td>N</td>\n",
       "    </tr>\n",
       "    <tr>\n",
       "      <th>15</th>\n",
       "      <td>nba</td>\n",
       "      <td>Multivariate</td>\n",
       "      <td>Classification (Binary)</td>\n",
       "      <td>TARGET_5Yrs</td>\n",
       "      <td>None</td>\n",
       "      <td>1340</td>\n",
       "      <td>21</td>\n",
       "      <td>N</td>\n",
       "    </tr>\n",
       "    <tr>\n",
       "      <th>16</th>\n",
       "      <td>wine</td>\n",
       "      <td>Multivariate</td>\n",
       "      <td>Classification (Binary)</td>\n",
       "      <td>type</td>\n",
       "      <td>None</td>\n",
       "      <td>6498</td>\n",
       "      <td>13</td>\n",
       "      <td>N</td>\n",
       "    </tr>\n",
       "    <tr>\n",
       "      <th>17</th>\n",
       "      <td>telescope</td>\n",
       "      <td>Multivariate</td>\n",
       "      <td>Classification (Binary)</td>\n",
       "      <td>Class</td>\n",
       "      <td>None</td>\n",
       "      <td>19020</td>\n",
       "      <td>11</td>\n",
       "      <td>N</td>\n",
       "    </tr>\n",
       "    <tr>\n",
       "      <th>18</th>\n",
       "      <td>titanic</td>\n",
       "      <td>Multivariate</td>\n",
       "      <td>Classification (Binary)</td>\n",
       "      <td>Survived</td>\n",
       "      <td>None</td>\n",
       "      <td>891</td>\n",
       "      <td>11</td>\n",
       "      <td>Y</td>\n",
       "    </tr>\n",
       "    <tr>\n",
       "      <th>19</th>\n",
       "      <td>us_presidential_election_results</td>\n",
       "      <td>Multivariate</td>\n",
       "      <td>Classification (Binary)</td>\n",
       "      <td>party_winner</td>\n",
       "      <td>None</td>\n",
       "      <td>497</td>\n",
       "      <td>7</td>\n",
       "      <td>N</td>\n",
       "    </tr>\n",
       "    <tr>\n",
       "      <th>20</th>\n",
       "      <td>glass</td>\n",
       "      <td>Multivariate</td>\n",
       "      <td>Classification (Multiclass)</td>\n",
       "      <td>Type</td>\n",
       "      <td>None</td>\n",
       "      <td>214</td>\n",
       "      <td>10</td>\n",
       "      <td>N</td>\n",
       "    </tr>\n",
       "    <tr>\n",
       "      <th>21</th>\n",
       "      <td>iris</td>\n",
       "      <td>Multivariate</td>\n",
       "      <td>Classification (Multiclass)</td>\n",
       "      <td>species</td>\n",
       "      <td>None</td>\n",
       "      <td>150</td>\n",
       "      <td>5</td>\n",
       "      <td>N</td>\n",
       "    </tr>\n",
       "    <tr>\n",
       "      <th>22</th>\n",
       "      <td>poker</td>\n",
       "      <td>Multivariate</td>\n",
       "      <td>Classification (Multiclass)</td>\n",
       "      <td>CLASS</td>\n",
       "      <td>None</td>\n",
       "      <td>100000</td>\n",
       "      <td>11</td>\n",
       "      <td>N</td>\n",
       "    </tr>\n",
       "    <tr>\n",
       "      <th>23</th>\n",
       "      <td>questions</td>\n",
       "      <td>Multivariate</td>\n",
       "      <td>Classification (Multiclass)</td>\n",
       "      <td>Next_Question</td>\n",
       "      <td>None</td>\n",
       "      <td>499</td>\n",
       "      <td>4</td>\n",
       "      <td>N</td>\n",
       "    </tr>\n",
       "    <tr>\n",
       "      <th>24</th>\n",
       "      <td>satellite</td>\n",
       "      <td>Multivariate</td>\n",
       "      <td>Classification (Multiclass)</td>\n",
       "      <td>Class</td>\n",
       "      <td>None</td>\n",
       "      <td>6435</td>\n",
       "      <td>37</td>\n",
       "      <td>N</td>\n",
       "    </tr>\n",
       "    <tr>\n",
       "      <th>25</th>\n",
       "      <td>CTG</td>\n",
       "      <td>Multivariate</td>\n",
       "      <td>Classification (Multiclass)</td>\n",
       "      <td>NSP</td>\n",
       "      <td>None</td>\n",
       "      <td>2129</td>\n",
       "      <td>40</td>\n",
       "      <td>Y</td>\n",
       "    </tr>\n",
       "    <tr>\n",
       "      <th>26</th>\n",
       "      <td>asia_gdp</td>\n",
       "      <td>Multivariate</td>\n",
       "      <td>Clustering</td>\n",
       "      <td>None</td>\n",
       "      <td>None</td>\n",
       "      <td>40</td>\n",
       "      <td>11</td>\n",
       "      <td>N</td>\n",
       "    </tr>\n",
       "    <tr>\n",
       "      <th>27</th>\n",
       "      <td>elections</td>\n",
       "      <td>Multivariate</td>\n",
       "      <td>Clustering</td>\n",
       "      <td>None</td>\n",
       "      <td>None</td>\n",
       "      <td>3195</td>\n",
       "      <td>54</td>\n",
       "      <td>Y</td>\n",
       "    </tr>\n",
       "    <tr>\n",
       "      <th>28</th>\n",
       "      <td>facebook</td>\n",
       "      <td>Multivariate</td>\n",
       "      <td>Clustering</td>\n",
       "      <td>None</td>\n",
       "      <td>None</td>\n",
       "      <td>7050</td>\n",
       "      <td>12</td>\n",
       "      <td>N</td>\n",
       "    </tr>\n",
       "    <tr>\n",
       "      <th>29</th>\n",
       "      <td>ipl</td>\n",
       "      <td>Multivariate</td>\n",
       "      <td>Clustering</td>\n",
       "      <td>None</td>\n",
       "      <td>None</td>\n",
       "      <td>153</td>\n",
       "      <td>25</td>\n",
       "      <td>N</td>\n",
       "    </tr>\n",
       "    <tr>\n",
       "      <th>30</th>\n",
       "      <td>jewellery</td>\n",
       "      <td>Multivariate</td>\n",
       "      <td>Clustering</td>\n",
       "      <td>None</td>\n",
       "      <td>None</td>\n",
       "      <td>505</td>\n",
       "      <td>4</td>\n",
       "      <td>N</td>\n",
       "    </tr>\n",
       "    <tr>\n",
       "      <th>31</th>\n",
       "      <td>mice</td>\n",
       "      <td>Multivariate</td>\n",
       "      <td>Clustering</td>\n",
       "      <td>None</td>\n",
       "      <td>None</td>\n",
       "      <td>1080</td>\n",
       "      <td>82</td>\n",
       "      <td>Y</td>\n",
       "    </tr>\n",
       "    <tr>\n",
       "      <th>32</th>\n",
       "      <td>migration</td>\n",
       "      <td>Multivariate</td>\n",
       "      <td>Clustering</td>\n",
       "      <td>None</td>\n",
       "      <td>None</td>\n",
       "      <td>233</td>\n",
       "      <td>12</td>\n",
       "      <td>N</td>\n",
       "    </tr>\n",
       "    <tr>\n",
       "      <th>33</th>\n",
       "      <td>perfume</td>\n",
       "      <td>Multivariate</td>\n",
       "      <td>Clustering</td>\n",
       "      <td>None</td>\n",
       "      <td>None</td>\n",
       "      <td>20</td>\n",
       "      <td>29</td>\n",
       "      <td>N</td>\n",
       "    </tr>\n",
       "    <tr>\n",
       "      <th>34</th>\n",
       "      <td>pokemon</td>\n",
       "      <td>Multivariate</td>\n",
       "      <td>Clustering</td>\n",
       "      <td>None</td>\n",
       "      <td>None</td>\n",
       "      <td>800</td>\n",
       "      <td>13</td>\n",
       "      <td>Y</td>\n",
       "    </tr>\n",
       "    <tr>\n",
       "      <th>35</th>\n",
       "      <td>population</td>\n",
       "      <td>Multivariate</td>\n",
       "      <td>Clustering</td>\n",
       "      <td>None</td>\n",
       "      <td>None</td>\n",
       "      <td>255</td>\n",
       "      <td>56</td>\n",
       "      <td>Y</td>\n",
       "    </tr>\n",
       "    <tr>\n",
       "      <th>36</th>\n",
       "      <td>public_health</td>\n",
       "      <td>Multivariate</td>\n",
       "      <td>Clustering</td>\n",
       "      <td>None</td>\n",
       "      <td>None</td>\n",
       "      <td>224</td>\n",
       "      <td>21</td>\n",
       "      <td>N</td>\n",
       "    </tr>\n",
       "    <tr>\n",
       "      <th>37</th>\n",
       "      <td>seeds</td>\n",
       "      <td>Multivariate</td>\n",
       "      <td>Clustering</td>\n",
       "      <td>None</td>\n",
       "      <td>None</td>\n",
       "      <td>210</td>\n",
       "      <td>7</td>\n",
       "      <td>N</td>\n",
       "    </tr>\n",
       "    <tr>\n",
       "      <th>38</th>\n",
       "      <td>wholesale</td>\n",
       "      <td>Multivariate</td>\n",
       "      <td>Clustering</td>\n",
       "      <td>None</td>\n",
       "      <td>None</td>\n",
       "      <td>440</td>\n",
       "      <td>8</td>\n",
       "      <td>N</td>\n",
       "    </tr>\n",
       "    <tr>\n",
       "      <th>39</th>\n",
       "      <td>tweets</td>\n",
       "      <td>Text</td>\n",
       "      <td>NLP</td>\n",
       "      <td>tweet</td>\n",
       "      <td>None</td>\n",
       "      <td>8594</td>\n",
       "      <td>2</td>\n",
       "      <td>N</td>\n",
       "    </tr>\n",
       "    <tr>\n",
       "      <th>40</th>\n",
       "      <td>amazon</td>\n",
       "      <td>Text</td>\n",
       "      <td>NLP / Classification</td>\n",
       "      <td>reviewText</td>\n",
       "      <td>None</td>\n",
       "      <td>20000</td>\n",
       "      <td>2</td>\n",
       "      <td>N</td>\n",
       "    </tr>\n",
       "    <tr>\n",
       "      <th>41</th>\n",
       "      <td>kiva</td>\n",
       "      <td>Text</td>\n",
       "      <td>NLP / Classification</td>\n",
       "      <td>en</td>\n",
       "      <td>None</td>\n",
       "      <td>6818</td>\n",
       "      <td>7</td>\n",
       "      <td>N</td>\n",
       "    </tr>\n",
       "    <tr>\n",
       "      <th>42</th>\n",
       "      <td>spx</td>\n",
       "      <td>Text</td>\n",
       "      <td>NLP / Regression</td>\n",
       "      <td>text</td>\n",
       "      <td>None</td>\n",
       "      <td>874</td>\n",
       "      <td>4</td>\n",
       "      <td>N</td>\n",
       "    </tr>\n",
       "    <tr>\n",
       "      <th>43</th>\n",
       "      <td>wikipedia</td>\n",
       "      <td>Text</td>\n",
       "      <td>NLP / Classification</td>\n",
       "      <td>Text</td>\n",
       "      <td>None</td>\n",
       "      <td>500</td>\n",
       "      <td>3</td>\n",
       "      <td>N</td>\n",
       "    </tr>\n",
       "    <tr>\n",
       "      <th>44</th>\n",
       "      <td>automobile</td>\n",
       "      <td>Multivariate</td>\n",
       "      <td>Regression</td>\n",
       "      <td>price</td>\n",
       "      <td>None</td>\n",
       "      <td>202</td>\n",
       "      <td>26</td>\n",
       "      <td>Y</td>\n",
       "    </tr>\n",
       "    <tr>\n",
       "      <th>45</th>\n",
       "      <td>bike</td>\n",
       "      <td>Multivariate</td>\n",
       "      <td>Regression</td>\n",
       "      <td>cnt</td>\n",
       "      <td>None</td>\n",
       "      <td>17379</td>\n",
       "      <td>15</td>\n",
       "      <td>N</td>\n",
       "    </tr>\n",
       "    <tr>\n",
       "      <th>46</th>\n",
       "      <td>boston</td>\n",
       "      <td>Multivariate</td>\n",
       "      <td>Regression</td>\n",
       "      <td>medv</td>\n",
       "      <td>None</td>\n",
       "      <td>506</td>\n",
       "      <td>14</td>\n",
       "      <td>N</td>\n",
       "    </tr>\n",
       "    <tr>\n",
       "      <th>47</th>\n",
       "      <td>concrete</td>\n",
       "      <td>Multivariate</td>\n",
       "      <td>Regression</td>\n",
       "      <td>strength</td>\n",
       "      <td>None</td>\n",
       "      <td>1030</td>\n",
       "      <td>9</td>\n",
       "      <td>N</td>\n",
       "    </tr>\n",
       "    <tr>\n",
       "      <th>48</th>\n",
       "      <td>diamond</td>\n",
       "      <td>Multivariate</td>\n",
       "      <td>Regression</td>\n",
       "      <td>Price</td>\n",
       "      <td>None</td>\n",
       "      <td>6000</td>\n",
       "      <td>8</td>\n",
       "      <td>N</td>\n",
       "    </tr>\n",
       "    <tr>\n",
       "      <th>49</th>\n",
       "      <td>energy</td>\n",
       "      <td>Multivariate</td>\n",
       "      <td>Regression</td>\n",
       "      <td>Heating Load</td>\n",
       "      <td>Cooling Load</td>\n",
       "      <td>768</td>\n",
       "      <td>10</td>\n",
       "      <td>N</td>\n",
       "    </tr>\n",
       "    <tr>\n",
       "      <th>50</th>\n",
       "      <td>forest</td>\n",
       "      <td>Multivariate</td>\n",
       "      <td>Regression</td>\n",
       "      <td>area</td>\n",
       "      <td>None</td>\n",
       "      <td>517</td>\n",
       "      <td>13</td>\n",
       "      <td>N</td>\n",
       "    </tr>\n",
       "    <tr>\n",
       "      <th>51</th>\n",
       "      <td>gold</td>\n",
       "      <td>Multivariate</td>\n",
       "      <td>Regression</td>\n",
       "      <td>Gold_T+22</td>\n",
       "      <td>None</td>\n",
       "      <td>2558</td>\n",
       "      <td>121</td>\n",
       "      <td>N</td>\n",
       "    </tr>\n",
       "    <tr>\n",
       "      <th>52</th>\n",
       "      <td>house</td>\n",
       "      <td>Multivariate</td>\n",
       "      <td>Regression</td>\n",
       "      <td>SalePrice</td>\n",
       "      <td>None</td>\n",
       "      <td>1461</td>\n",
       "      <td>81</td>\n",
       "      <td>Y</td>\n",
       "    </tr>\n",
       "    <tr>\n",
       "      <th>53</th>\n",
       "      <td>insurance</td>\n",
       "      <td>Multivariate</td>\n",
       "      <td>Regression</td>\n",
       "      <td>charges</td>\n",
       "      <td>None</td>\n",
       "      <td>1338</td>\n",
       "      <td>7</td>\n",
       "      <td>N</td>\n",
       "    </tr>\n",
       "    <tr>\n",
       "      <th>54</th>\n",
       "      <td>parkinsons</td>\n",
       "      <td>Multivariate</td>\n",
       "      <td>Regression</td>\n",
       "      <td>PPE</td>\n",
       "      <td>None</td>\n",
       "      <td>5875</td>\n",
       "      <td>22</td>\n",
       "      <td>N</td>\n",
       "    </tr>\n",
       "    <tr>\n",
       "      <th>55</th>\n",
       "      <td>traffic</td>\n",
       "      <td>Multivariate</td>\n",
       "      <td>Regression</td>\n",
       "      <td>traffic_volume</td>\n",
       "      <td>None</td>\n",
       "      <td>48204</td>\n",
       "      <td>8</td>\n",
       "      <td>N</td>\n",
       "    </tr>\n",
       "  </tbody>\n",
       "</table>\n",
       "</div>"
      ],
      "text/plain": [
       "                             Dataset    Data Types  \\\n",
       "0                            anomaly  Multivariate   \n",
       "1                             france  Multivariate   \n",
       "2                            germany  Multivariate   \n",
       "3                               bank  Multivariate   \n",
       "4                              blood  Multivariate   \n",
       "5                             cancer  Multivariate   \n",
       "6                             credit  Multivariate   \n",
       "7                           diabetes  Multivariate   \n",
       "8                    electrical_grid  Multivariate   \n",
       "9                           employee  Multivariate   \n",
       "10                             heart  Multivariate   \n",
       "11                     heart_disease  Multivariate   \n",
       "12                         hepatitis  Multivariate   \n",
       "13                            income  Multivariate   \n",
       "14                             juice  Multivariate   \n",
       "15                               nba  Multivariate   \n",
       "16                              wine  Multivariate   \n",
       "17                         telescope  Multivariate   \n",
       "18                           titanic  Multivariate   \n",
       "19  us_presidential_election_results  Multivariate   \n",
       "20                             glass  Multivariate   \n",
       "21                              iris  Multivariate   \n",
       "22                             poker  Multivariate   \n",
       "23                         questions  Multivariate   \n",
       "24                         satellite  Multivariate   \n",
       "25                               CTG  Multivariate   \n",
       "26                          asia_gdp  Multivariate   \n",
       "27                         elections  Multivariate   \n",
       "28                          facebook  Multivariate   \n",
       "29                               ipl  Multivariate   \n",
       "30                         jewellery  Multivariate   \n",
       "31                              mice  Multivariate   \n",
       "32                         migration  Multivariate   \n",
       "33                           perfume  Multivariate   \n",
       "34                           pokemon  Multivariate   \n",
       "35                        population  Multivariate   \n",
       "36                     public_health  Multivariate   \n",
       "37                             seeds  Multivariate   \n",
       "38                         wholesale  Multivariate   \n",
       "39                            tweets          Text   \n",
       "40                            amazon          Text   \n",
       "41                              kiva          Text   \n",
       "42                               spx          Text   \n",
       "43                         wikipedia          Text   \n",
       "44                        automobile  Multivariate   \n",
       "45                              bike  Multivariate   \n",
       "46                            boston  Multivariate   \n",
       "47                          concrete  Multivariate   \n",
       "48                           diamond  Multivariate   \n",
       "49                            energy  Multivariate   \n",
       "50                            forest  Multivariate   \n",
       "51                              gold  Multivariate   \n",
       "52                             house  Multivariate   \n",
       "53                         insurance  Multivariate   \n",
       "54                        parkinsons  Multivariate   \n",
       "55                           traffic  Multivariate   \n",
       "\n",
       "                   Default Task Target Variable 1 Target Variable 2  \\\n",
       "0             Anomaly Detection              None              None   \n",
       "1       Association Rule Mining         InvoiceNo       Description   \n",
       "2       Association Rule Mining         InvoiceNo       Description   \n",
       "3       Classification (Binary)           deposit              None   \n",
       "4       Classification (Binary)             Class              None   \n",
       "5       Classification (Binary)             Class              None   \n",
       "6       Classification (Binary)           default              None   \n",
       "7       Classification (Binary)    Class variable              None   \n",
       "8       Classification (Binary)             stabf              None   \n",
       "9       Classification (Binary)              left              None   \n",
       "10      Classification (Binary)             DEATH              None   \n",
       "11      Classification (Binary)           Disease              None   \n",
       "12      Classification (Binary)             Class              None   \n",
       "13      Classification (Binary)       income >50K              None   \n",
       "14      Classification (Binary)          Purchase              None   \n",
       "15      Classification (Binary)       TARGET_5Yrs              None   \n",
       "16      Classification (Binary)              type              None   \n",
       "17      Classification (Binary)             Class              None   \n",
       "18      Classification (Binary)          Survived              None   \n",
       "19      Classification (Binary)      party_winner              None   \n",
       "20  Classification (Multiclass)              Type              None   \n",
       "21  Classification (Multiclass)           species              None   \n",
       "22  Classification (Multiclass)             CLASS              None   \n",
       "23  Classification (Multiclass)     Next_Question              None   \n",
       "24  Classification (Multiclass)             Class              None   \n",
       "25  Classification (Multiclass)               NSP              None   \n",
       "26                   Clustering              None              None   \n",
       "27                   Clustering              None              None   \n",
       "28                   Clustering              None              None   \n",
       "29                   Clustering              None              None   \n",
       "30                   Clustering              None              None   \n",
       "31                   Clustering              None              None   \n",
       "32                   Clustering              None              None   \n",
       "33                   Clustering              None              None   \n",
       "34                   Clustering              None              None   \n",
       "35                   Clustering              None              None   \n",
       "36                   Clustering              None              None   \n",
       "37                   Clustering              None              None   \n",
       "38                   Clustering              None              None   \n",
       "39                          NLP             tweet              None   \n",
       "40         NLP / Classification        reviewText              None   \n",
       "41         NLP / Classification                en              None   \n",
       "42             NLP / Regression              text              None   \n",
       "43         NLP / Classification              Text              None   \n",
       "44                   Regression             price              None   \n",
       "45                   Regression               cnt              None   \n",
       "46                   Regression              medv              None   \n",
       "47                   Regression          strength              None   \n",
       "48                   Regression             Price              None   \n",
       "49                   Regression      Heating Load      Cooling Load   \n",
       "50                   Regression              area              None   \n",
       "51                   Regression         Gold_T+22              None   \n",
       "52                   Regression         SalePrice              None   \n",
       "53                   Regression           charges              None   \n",
       "54                   Regression               PPE              None   \n",
       "55                   Regression    traffic_volume              None   \n",
       "\n",
       "    # Instances  # Attributes Missing Values  \n",
       "0          1000            10              N  \n",
       "1          8557             8              N  \n",
       "2          9495             8              N  \n",
       "3         45211            17              N  \n",
       "4           748             5              N  \n",
       "5           683            10              N  \n",
       "6         24000            24              N  \n",
       "7           768             9              N  \n",
       "8         10000            14              N  \n",
       "9         14999            10              N  \n",
       "10          200            16              N  \n",
       "11          270            14              N  \n",
       "12          154            32              Y  \n",
       "13        32561            14              Y  \n",
       "14         1070            15              N  \n",
       "15         1340            21              N  \n",
       "16         6498            13              N  \n",
       "17        19020            11              N  \n",
       "18          891            11              Y  \n",
       "19          497             7              N  \n",
       "20          214            10              N  \n",
       "21          150             5              N  \n",
       "22       100000            11              N  \n",
       "23          499             4              N  \n",
       "24         6435            37              N  \n",
       "25         2129            40              Y  \n",
       "26           40            11              N  \n",
       "27         3195            54              Y  \n",
       "28         7050            12              N  \n",
       "29          153            25              N  \n",
       "30          505             4              N  \n",
       "31         1080            82              Y  \n",
       "32          233            12              N  \n",
       "33           20            29              N  \n",
       "34          800            13              Y  \n",
       "35          255            56              Y  \n",
       "36          224            21              N  \n",
       "37          210             7              N  \n",
       "38          440             8              N  \n",
       "39         8594             2              N  \n",
       "40        20000             2              N  \n",
       "41         6818             7              N  \n",
       "42          874             4              N  \n",
       "43          500             3              N  \n",
       "44          202            26              Y  \n",
       "45        17379            15              N  \n",
       "46          506            14              N  \n",
       "47         1030             9              N  \n",
       "48         6000             8              N  \n",
       "49          768            10              N  \n",
       "50          517            13              N  \n",
       "51         2558           121              N  \n",
       "52         1461            81              Y  \n",
       "53         1338             7              N  \n",
       "54         5875            22              N  \n",
       "55        48204             8              N  "
      ]
     },
     "metadata": {},
     "output_type": "display_data"
    },
    {
     "data": {
      "text/html": [
       "<div>\n",
       "<style scoped>\n",
       "    .dataframe tbody tr th:only-of-type {\n",
       "        vertical-align: middle;\n",
       "    }\n",
       "\n",
       "    .dataframe tbody tr th {\n",
       "        vertical-align: top;\n",
       "    }\n",
       "\n",
       "    .dataframe thead th {\n",
       "        text-align: right;\n",
       "    }\n",
       "</style>\n",
       "<table border=\"1\" class=\"dataframe\">\n",
       "  <thead>\n",
       "    <tr style=\"text-align: right;\">\n",
       "      <th></th>\n",
       "      <th>Dataset</th>\n",
       "      <th>Data Types</th>\n",
       "      <th>Default Task</th>\n",
       "      <th>Target Variable 1</th>\n",
       "      <th>Target Variable 2</th>\n",
       "      <th># Instances</th>\n",
       "      <th># Attributes</th>\n",
       "      <th>Missing Values</th>\n",
       "    </tr>\n",
       "  </thead>\n",
       "  <tbody>\n",
       "    <tr>\n",
       "      <th>0</th>\n",
       "      <td>anomaly</td>\n",
       "      <td>Multivariate</td>\n",
       "      <td>Anomaly Detection</td>\n",
       "      <td>None</td>\n",
       "      <td>None</td>\n",
       "      <td>1000</td>\n",
       "      <td>10</td>\n",
       "      <td>N</td>\n",
       "    </tr>\n",
       "    <tr>\n",
       "      <th>1</th>\n",
       "      <td>france</td>\n",
       "      <td>Multivariate</td>\n",
       "      <td>Association Rule Mining</td>\n",
       "      <td>InvoiceNo</td>\n",
       "      <td>Description</td>\n",
       "      <td>8557</td>\n",
       "      <td>8</td>\n",
       "      <td>N</td>\n",
       "    </tr>\n",
       "    <tr>\n",
       "      <th>2</th>\n",
       "      <td>germany</td>\n",
       "      <td>Multivariate</td>\n",
       "      <td>Association Rule Mining</td>\n",
       "      <td>InvoiceNo</td>\n",
       "      <td>Description</td>\n",
       "      <td>9495</td>\n",
       "      <td>8</td>\n",
       "      <td>N</td>\n",
       "    </tr>\n",
       "    <tr>\n",
       "      <th>3</th>\n",
       "      <td>bank</td>\n",
       "      <td>Multivariate</td>\n",
       "      <td>Classification (Binary)</td>\n",
       "      <td>deposit</td>\n",
       "      <td>None</td>\n",
       "      <td>45211</td>\n",
       "      <td>17</td>\n",
       "      <td>N</td>\n",
       "    </tr>\n",
       "    <tr>\n",
       "      <th>4</th>\n",
       "      <td>blood</td>\n",
       "      <td>Multivariate</td>\n",
       "      <td>Classification (Binary)</td>\n",
       "      <td>Class</td>\n",
       "      <td>None</td>\n",
       "      <td>748</td>\n",
       "      <td>5</td>\n",
       "      <td>N</td>\n",
       "    </tr>\n",
       "    <tr>\n",
       "      <th>5</th>\n",
       "      <td>cancer</td>\n",
       "      <td>Multivariate</td>\n",
       "      <td>Classification (Binary)</td>\n",
       "      <td>Class</td>\n",
       "      <td>None</td>\n",
       "      <td>683</td>\n",
       "      <td>10</td>\n",
       "      <td>N</td>\n",
       "    </tr>\n",
       "    <tr>\n",
       "      <th>6</th>\n",
       "      <td>credit</td>\n",
       "      <td>Multivariate</td>\n",
       "      <td>Classification (Binary)</td>\n",
       "      <td>default</td>\n",
       "      <td>None</td>\n",
       "      <td>24000</td>\n",
       "      <td>24</td>\n",
       "      <td>N</td>\n",
       "    </tr>\n",
       "    <tr>\n",
       "      <th>7</th>\n",
       "      <td>diabetes</td>\n",
       "      <td>Multivariate</td>\n",
       "      <td>Classification (Binary)</td>\n",
       "      <td>Class variable</td>\n",
       "      <td>None</td>\n",
       "      <td>768</td>\n",
       "      <td>9</td>\n",
       "      <td>N</td>\n",
       "    </tr>\n",
       "    <tr>\n",
       "      <th>8</th>\n",
       "      <td>electrical_grid</td>\n",
       "      <td>Multivariate</td>\n",
       "      <td>Classification (Binary)</td>\n",
       "      <td>stabf</td>\n",
       "      <td>None</td>\n",
       "      <td>10000</td>\n",
       "      <td>14</td>\n",
       "      <td>N</td>\n",
       "    </tr>\n",
       "    <tr>\n",
       "      <th>9</th>\n",
       "      <td>employee</td>\n",
       "      <td>Multivariate</td>\n",
       "      <td>Classification (Binary)</td>\n",
       "      <td>left</td>\n",
       "      <td>None</td>\n",
       "      <td>14999</td>\n",
       "      <td>10</td>\n",
       "      <td>N</td>\n",
       "    </tr>\n",
       "    <tr>\n",
       "      <th>10</th>\n",
       "      <td>heart</td>\n",
       "      <td>Multivariate</td>\n",
       "      <td>Classification (Binary)</td>\n",
       "      <td>DEATH</td>\n",
       "      <td>None</td>\n",
       "      <td>200</td>\n",
       "      <td>16</td>\n",
       "      <td>N</td>\n",
       "    </tr>\n",
       "    <tr>\n",
       "      <th>11</th>\n",
       "      <td>heart_disease</td>\n",
       "      <td>Multivariate</td>\n",
       "      <td>Classification (Binary)</td>\n",
       "      <td>Disease</td>\n",
       "      <td>None</td>\n",
       "      <td>270</td>\n",
       "      <td>14</td>\n",
       "      <td>N</td>\n",
       "    </tr>\n",
       "    <tr>\n",
       "      <th>12</th>\n",
       "      <td>hepatitis</td>\n",
       "      <td>Multivariate</td>\n",
       "      <td>Classification (Binary)</td>\n",
       "      <td>Class</td>\n",
       "      <td>None</td>\n",
       "      <td>154</td>\n",
       "      <td>32</td>\n",
       "      <td>Y</td>\n",
       "    </tr>\n",
       "    <tr>\n",
       "      <th>13</th>\n",
       "      <td>income</td>\n",
       "      <td>Multivariate</td>\n",
       "      <td>Classification (Binary)</td>\n",
       "      <td>income &gt;50K</td>\n",
       "      <td>None</td>\n",
       "      <td>32561</td>\n",
       "      <td>14</td>\n",
       "      <td>Y</td>\n",
       "    </tr>\n",
       "    <tr>\n",
       "      <th>14</th>\n",
       "      <td>juice</td>\n",
       "      <td>Multivariate</td>\n",
       "      <td>Classification (Binary)</td>\n",
       "      <td>Purchase</td>\n",
       "      <td>None</td>\n",
       "      <td>1070</td>\n",
       "      <td>15</td>\n",
       "      <td>N</td>\n",
       "    </tr>\n",
       "    <tr>\n",
       "      <th>15</th>\n",
       "      <td>nba</td>\n",
       "      <td>Multivariate</td>\n",
       "      <td>Classification (Binary)</td>\n",
       "      <td>TARGET_5Yrs</td>\n",
       "      <td>None</td>\n",
       "      <td>1340</td>\n",
       "      <td>21</td>\n",
       "      <td>N</td>\n",
       "    </tr>\n",
       "    <tr>\n",
       "      <th>16</th>\n",
       "      <td>wine</td>\n",
       "      <td>Multivariate</td>\n",
       "      <td>Classification (Binary)</td>\n",
       "      <td>type</td>\n",
       "      <td>None</td>\n",
       "      <td>6498</td>\n",
       "      <td>13</td>\n",
       "      <td>N</td>\n",
       "    </tr>\n",
       "    <tr>\n",
       "      <th>17</th>\n",
       "      <td>telescope</td>\n",
       "      <td>Multivariate</td>\n",
       "      <td>Classification (Binary)</td>\n",
       "      <td>Class</td>\n",
       "      <td>None</td>\n",
       "      <td>19020</td>\n",
       "      <td>11</td>\n",
       "      <td>N</td>\n",
       "    </tr>\n",
       "    <tr>\n",
       "      <th>18</th>\n",
       "      <td>titanic</td>\n",
       "      <td>Multivariate</td>\n",
       "      <td>Classification (Binary)</td>\n",
       "      <td>Survived</td>\n",
       "      <td>None</td>\n",
       "      <td>891</td>\n",
       "      <td>11</td>\n",
       "      <td>Y</td>\n",
       "    </tr>\n",
       "    <tr>\n",
       "      <th>19</th>\n",
       "      <td>us_presidential_election_results</td>\n",
       "      <td>Multivariate</td>\n",
       "      <td>Classification (Binary)</td>\n",
       "      <td>party_winner</td>\n",
       "      <td>None</td>\n",
       "      <td>497</td>\n",
       "      <td>7</td>\n",
       "      <td>N</td>\n",
       "    </tr>\n",
       "    <tr>\n",
       "      <th>20</th>\n",
       "      <td>glass</td>\n",
       "      <td>Multivariate</td>\n",
       "      <td>Classification (Multiclass)</td>\n",
       "      <td>Type</td>\n",
       "      <td>None</td>\n",
       "      <td>214</td>\n",
       "      <td>10</td>\n",
       "      <td>N</td>\n",
       "    </tr>\n",
       "    <tr>\n",
       "      <th>21</th>\n",
       "      <td>iris</td>\n",
       "      <td>Multivariate</td>\n",
       "      <td>Classification (Multiclass)</td>\n",
       "      <td>species</td>\n",
       "      <td>None</td>\n",
       "      <td>150</td>\n",
       "      <td>5</td>\n",
       "      <td>N</td>\n",
       "    </tr>\n",
       "    <tr>\n",
       "      <th>22</th>\n",
       "      <td>poker</td>\n",
       "      <td>Multivariate</td>\n",
       "      <td>Classification (Multiclass)</td>\n",
       "      <td>CLASS</td>\n",
       "      <td>None</td>\n",
       "      <td>100000</td>\n",
       "      <td>11</td>\n",
       "      <td>N</td>\n",
       "    </tr>\n",
       "    <tr>\n",
       "      <th>23</th>\n",
       "      <td>questions</td>\n",
       "      <td>Multivariate</td>\n",
       "      <td>Classification (Multiclass)</td>\n",
       "      <td>Next_Question</td>\n",
       "      <td>None</td>\n",
       "      <td>499</td>\n",
       "      <td>4</td>\n",
       "      <td>N</td>\n",
       "    </tr>\n",
       "    <tr>\n",
       "      <th>24</th>\n",
       "      <td>satellite</td>\n",
       "      <td>Multivariate</td>\n",
       "      <td>Classification (Multiclass)</td>\n",
       "      <td>Class</td>\n",
       "      <td>None</td>\n",
       "      <td>6435</td>\n",
       "      <td>37</td>\n",
       "      <td>N</td>\n",
       "    </tr>\n",
       "    <tr>\n",
       "      <th>25</th>\n",
       "      <td>CTG</td>\n",
       "      <td>Multivariate</td>\n",
       "      <td>Classification (Multiclass)</td>\n",
       "      <td>NSP</td>\n",
       "      <td>None</td>\n",
       "      <td>2129</td>\n",
       "      <td>40</td>\n",
       "      <td>Y</td>\n",
       "    </tr>\n",
       "    <tr>\n",
       "      <th>26</th>\n",
       "      <td>asia_gdp</td>\n",
       "      <td>Multivariate</td>\n",
       "      <td>Clustering</td>\n",
       "      <td>None</td>\n",
       "      <td>None</td>\n",
       "      <td>40</td>\n",
       "      <td>11</td>\n",
       "      <td>N</td>\n",
       "    </tr>\n",
       "    <tr>\n",
       "      <th>27</th>\n",
       "      <td>elections</td>\n",
       "      <td>Multivariate</td>\n",
       "      <td>Clustering</td>\n",
       "      <td>None</td>\n",
       "      <td>None</td>\n",
       "      <td>3195</td>\n",
       "      <td>54</td>\n",
       "      <td>Y</td>\n",
       "    </tr>\n",
       "    <tr>\n",
       "      <th>28</th>\n",
       "      <td>facebook</td>\n",
       "      <td>Multivariate</td>\n",
       "      <td>Clustering</td>\n",
       "      <td>None</td>\n",
       "      <td>None</td>\n",
       "      <td>7050</td>\n",
       "      <td>12</td>\n",
       "      <td>N</td>\n",
       "    </tr>\n",
       "    <tr>\n",
       "      <th>29</th>\n",
       "      <td>ipl</td>\n",
       "      <td>Multivariate</td>\n",
       "      <td>Clustering</td>\n",
       "      <td>None</td>\n",
       "      <td>None</td>\n",
       "      <td>153</td>\n",
       "      <td>25</td>\n",
       "      <td>N</td>\n",
       "    </tr>\n",
       "    <tr>\n",
       "      <th>30</th>\n",
       "      <td>jewellery</td>\n",
       "      <td>Multivariate</td>\n",
       "      <td>Clustering</td>\n",
       "      <td>None</td>\n",
       "      <td>None</td>\n",
       "      <td>505</td>\n",
       "      <td>4</td>\n",
       "      <td>N</td>\n",
       "    </tr>\n",
       "    <tr>\n",
       "      <th>31</th>\n",
       "      <td>mice</td>\n",
       "      <td>Multivariate</td>\n",
       "      <td>Clustering</td>\n",
       "      <td>None</td>\n",
       "      <td>None</td>\n",
       "      <td>1080</td>\n",
       "      <td>82</td>\n",
       "      <td>Y</td>\n",
       "    </tr>\n",
       "    <tr>\n",
       "      <th>32</th>\n",
       "      <td>migration</td>\n",
       "      <td>Multivariate</td>\n",
       "      <td>Clustering</td>\n",
       "      <td>None</td>\n",
       "      <td>None</td>\n",
       "      <td>233</td>\n",
       "      <td>12</td>\n",
       "      <td>N</td>\n",
       "    </tr>\n",
       "    <tr>\n",
       "      <th>33</th>\n",
       "      <td>perfume</td>\n",
       "      <td>Multivariate</td>\n",
       "      <td>Clustering</td>\n",
       "      <td>None</td>\n",
       "      <td>None</td>\n",
       "      <td>20</td>\n",
       "      <td>29</td>\n",
       "      <td>N</td>\n",
       "    </tr>\n",
       "    <tr>\n",
       "      <th>34</th>\n",
       "      <td>pokemon</td>\n",
       "      <td>Multivariate</td>\n",
       "      <td>Clustering</td>\n",
       "      <td>None</td>\n",
       "      <td>None</td>\n",
       "      <td>800</td>\n",
       "      <td>13</td>\n",
       "      <td>Y</td>\n",
       "    </tr>\n",
       "    <tr>\n",
       "      <th>35</th>\n",
       "      <td>population</td>\n",
       "      <td>Multivariate</td>\n",
       "      <td>Clustering</td>\n",
       "      <td>None</td>\n",
       "      <td>None</td>\n",
       "      <td>255</td>\n",
       "      <td>56</td>\n",
       "      <td>Y</td>\n",
       "    </tr>\n",
       "    <tr>\n",
       "      <th>36</th>\n",
       "      <td>public_health</td>\n",
       "      <td>Multivariate</td>\n",
       "      <td>Clustering</td>\n",
       "      <td>None</td>\n",
       "      <td>None</td>\n",
       "      <td>224</td>\n",
       "      <td>21</td>\n",
       "      <td>N</td>\n",
       "    </tr>\n",
       "    <tr>\n",
       "      <th>37</th>\n",
       "      <td>seeds</td>\n",
       "      <td>Multivariate</td>\n",
       "      <td>Clustering</td>\n",
       "      <td>None</td>\n",
       "      <td>None</td>\n",
       "      <td>210</td>\n",
       "      <td>7</td>\n",
       "      <td>N</td>\n",
       "    </tr>\n",
       "    <tr>\n",
       "      <th>38</th>\n",
       "      <td>wholesale</td>\n",
       "      <td>Multivariate</td>\n",
       "      <td>Clustering</td>\n",
       "      <td>None</td>\n",
       "      <td>None</td>\n",
       "      <td>440</td>\n",
       "      <td>8</td>\n",
       "      <td>N</td>\n",
       "    </tr>\n",
       "    <tr>\n",
       "      <th>39</th>\n",
       "      <td>tweets</td>\n",
       "      <td>Text</td>\n",
       "      <td>NLP</td>\n",
       "      <td>tweet</td>\n",
       "      <td>None</td>\n",
       "      <td>8594</td>\n",
       "      <td>2</td>\n",
       "      <td>N</td>\n",
       "    </tr>\n",
       "    <tr>\n",
       "      <th>40</th>\n",
       "      <td>amazon</td>\n",
       "      <td>Text</td>\n",
       "      <td>NLP / Classification</td>\n",
       "      <td>reviewText</td>\n",
       "      <td>None</td>\n",
       "      <td>20000</td>\n",
       "      <td>2</td>\n",
       "      <td>N</td>\n",
       "    </tr>\n",
       "    <tr>\n",
       "      <th>41</th>\n",
       "      <td>kiva</td>\n",
       "      <td>Text</td>\n",
       "      <td>NLP / Classification</td>\n",
       "      <td>en</td>\n",
       "      <td>None</td>\n",
       "      <td>6818</td>\n",
       "      <td>7</td>\n",
       "      <td>N</td>\n",
       "    </tr>\n",
       "    <tr>\n",
       "      <th>42</th>\n",
       "      <td>spx</td>\n",
       "      <td>Text</td>\n",
       "      <td>NLP / Regression</td>\n",
       "      <td>text</td>\n",
       "      <td>None</td>\n",
       "      <td>874</td>\n",
       "      <td>4</td>\n",
       "      <td>N</td>\n",
       "    </tr>\n",
       "    <tr>\n",
       "      <th>43</th>\n",
       "      <td>wikipedia</td>\n",
       "      <td>Text</td>\n",
       "      <td>NLP / Classification</td>\n",
       "      <td>Text</td>\n",
       "      <td>None</td>\n",
       "      <td>500</td>\n",
       "      <td>3</td>\n",
       "      <td>N</td>\n",
       "    </tr>\n",
       "    <tr>\n",
       "      <th>44</th>\n",
       "      <td>automobile</td>\n",
       "      <td>Multivariate</td>\n",
       "      <td>Regression</td>\n",
       "      <td>price</td>\n",
       "      <td>None</td>\n",
       "      <td>202</td>\n",
       "      <td>26</td>\n",
       "      <td>Y</td>\n",
       "    </tr>\n",
       "    <tr>\n",
       "      <th>45</th>\n",
       "      <td>bike</td>\n",
       "      <td>Multivariate</td>\n",
       "      <td>Regression</td>\n",
       "      <td>cnt</td>\n",
       "      <td>None</td>\n",
       "      <td>17379</td>\n",
       "      <td>15</td>\n",
       "      <td>N</td>\n",
       "    </tr>\n",
       "    <tr>\n",
       "      <th>46</th>\n",
       "      <td>boston</td>\n",
       "      <td>Multivariate</td>\n",
       "      <td>Regression</td>\n",
       "      <td>medv</td>\n",
       "      <td>None</td>\n",
       "      <td>506</td>\n",
       "      <td>14</td>\n",
       "      <td>N</td>\n",
       "    </tr>\n",
       "    <tr>\n",
       "      <th>47</th>\n",
       "      <td>concrete</td>\n",
       "      <td>Multivariate</td>\n",
       "      <td>Regression</td>\n",
       "      <td>strength</td>\n",
       "      <td>None</td>\n",
       "      <td>1030</td>\n",
       "      <td>9</td>\n",
       "      <td>N</td>\n",
       "    </tr>\n",
       "    <tr>\n",
       "      <th>48</th>\n",
       "      <td>diamond</td>\n",
       "      <td>Multivariate</td>\n",
       "      <td>Regression</td>\n",
       "      <td>Price</td>\n",
       "      <td>None</td>\n",
       "      <td>6000</td>\n",
       "      <td>8</td>\n",
       "      <td>N</td>\n",
       "    </tr>\n",
       "    <tr>\n",
       "      <th>49</th>\n",
       "      <td>energy</td>\n",
       "      <td>Multivariate</td>\n",
       "      <td>Regression</td>\n",
       "      <td>Heating Load</td>\n",
       "      <td>Cooling Load</td>\n",
       "      <td>768</td>\n",
       "      <td>10</td>\n",
       "      <td>N</td>\n",
       "    </tr>\n",
       "    <tr>\n",
       "      <th>50</th>\n",
       "      <td>forest</td>\n",
       "      <td>Multivariate</td>\n",
       "      <td>Regression</td>\n",
       "      <td>area</td>\n",
       "      <td>None</td>\n",
       "      <td>517</td>\n",
       "      <td>13</td>\n",
       "      <td>N</td>\n",
       "    </tr>\n",
       "    <tr>\n",
       "      <th>51</th>\n",
       "      <td>gold</td>\n",
       "      <td>Multivariate</td>\n",
       "      <td>Regression</td>\n",
       "      <td>Gold_T+22</td>\n",
       "      <td>None</td>\n",
       "      <td>2558</td>\n",
       "      <td>121</td>\n",
       "      <td>N</td>\n",
       "    </tr>\n",
       "    <tr>\n",
       "      <th>52</th>\n",
       "      <td>house</td>\n",
       "      <td>Multivariate</td>\n",
       "      <td>Regression</td>\n",
       "      <td>SalePrice</td>\n",
       "      <td>None</td>\n",
       "      <td>1461</td>\n",
       "      <td>81</td>\n",
       "      <td>Y</td>\n",
       "    </tr>\n",
       "    <tr>\n",
       "      <th>53</th>\n",
       "      <td>insurance</td>\n",
       "      <td>Multivariate</td>\n",
       "      <td>Regression</td>\n",
       "      <td>charges</td>\n",
       "      <td>None</td>\n",
       "      <td>1338</td>\n",
       "      <td>7</td>\n",
       "      <td>N</td>\n",
       "    </tr>\n",
       "    <tr>\n",
       "      <th>54</th>\n",
       "      <td>parkinsons</td>\n",
       "      <td>Multivariate</td>\n",
       "      <td>Regression</td>\n",
       "      <td>PPE</td>\n",
       "      <td>None</td>\n",
       "      <td>5875</td>\n",
       "      <td>22</td>\n",
       "      <td>N</td>\n",
       "    </tr>\n",
       "    <tr>\n",
       "      <th>55</th>\n",
       "      <td>traffic</td>\n",
       "      <td>Multivariate</td>\n",
       "      <td>Regression</td>\n",
       "      <td>traffic_volume</td>\n",
       "      <td>None</td>\n",
       "      <td>48204</td>\n",
       "      <td>8</td>\n",
       "      <td>N</td>\n",
       "    </tr>\n",
       "  </tbody>\n",
       "</table>\n",
       "</div>"
      ],
      "text/plain": [
       "                             Dataset    Data Types  \\\n",
       "0                            anomaly  Multivariate   \n",
       "1                             france  Multivariate   \n",
       "2                            germany  Multivariate   \n",
       "3                               bank  Multivariate   \n",
       "4                              blood  Multivariate   \n",
       "5                             cancer  Multivariate   \n",
       "6                             credit  Multivariate   \n",
       "7                           diabetes  Multivariate   \n",
       "8                    electrical_grid  Multivariate   \n",
       "9                           employee  Multivariate   \n",
       "10                             heart  Multivariate   \n",
       "11                     heart_disease  Multivariate   \n",
       "12                         hepatitis  Multivariate   \n",
       "13                            income  Multivariate   \n",
       "14                             juice  Multivariate   \n",
       "15                               nba  Multivariate   \n",
       "16                              wine  Multivariate   \n",
       "17                         telescope  Multivariate   \n",
       "18                           titanic  Multivariate   \n",
       "19  us_presidential_election_results  Multivariate   \n",
       "20                             glass  Multivariate   \n",
       "21                              iris  Multivariate   \n",
       "22                             poker  Multivariate   \n",
       "23                         questions  Multivariate   \n",
       "24                         satellite  Multivariate   \n",
       "25                               CTG  Multivariate   \n",
       "26                          asia_gdp  Multivariate   \n",
       "27                         elections  Multivariate   \n",
       "28                          facebook  Multivariate   \n",
       "29                               ipl  Multivariate   \n",
       "30                         jewellery  Multivariate   \n",
       "31                              mice  Multivariate   \n",
       "32                         migration  Multivariate   \n",
       "33                           perfume  Multivariate   \n",
       "34                           pokemon  Multivariate   \n",
       "35                        population  Multivariate   \n",
       "36                     public_health  Multivariate   \n",
       "37                             seeds  Multivariate   \n",
       "38                         wholesale  Multivariate   \n",
       "39                            tweets          Text   \n",
       "40                            amazon          Text   \n",
       "41                              kiva          Text   \n",
       "42                               spx          Text   \n",
       "43                         wikipedia          Text   \n",
       "44                        automobile  Multivariate   \n",
       "45                              bike  Multivariate   \n",
       "46                            boston  Multivariate   \n",
       "47                          concrete  Multivariate   \n",
       "48                           diamond  Multivariate   \n",
       "49                            energy  Multivariate   \n",
       "50                            forest  Multivariate   \n",
       "51                              gold  Multivariate   \n",
       "52                             house  Multivariate   \n",
       "53                         insurance  Multivariate   \n",
       "54                        parkinsons  Multivariate   \n",
       "55                           traffic  Multivariate   \n",
       "\n",
       "                   Default Task Target Variable 1 Target Variable 2  \\\n",
       "0             Anomaly Detection              None              None   \n",
       "1       Association Rule Mining         InvoiceNo       Description   \n",
       "2       Association Rule Mining         InvoiceNo       Description   \n",
       "3       Classification (Binary)           deposit              None   \n",
       "4       Classification (Binary)             Class              None   \n",
       "5       Classification (Binary)             Class              None   \n",
       "6       Classification (Binary)           default              None   \n",
       "7       Classification (Binary)    Class variable              None   \n",
       "8       Classification (Binary)             stabf              None   \n",
       "9       Classification (Binary)              left              None   \n",
       "10      Classification (Binary)             DEATH              None   \n",
       "11      Classification (Binary)           Disease              None   \n",
       "12      Classification (Binary)             Class              None   \n",
       "13      Classification (Binary)       income >50K              None   \n",
       "14      Classification (Binary)          Purchase              None   \n",
       "15      Classification (Binary)       TARGET_5Yrs              None   \n",
       "16      Classification (Binary)              type              None   \n",
       "17      Classification (Binary)             Class              None   \n",
       "18      Classification (Binary)          Survived              None   \n",
       "19      Classification (Binary)      party_winner              None   \n",
       "20  Classification (Multiclass)              Type              None   \n",
       "21  Classification (Multiclass)           species              None   \n",
       "22  Classification (Multiclass)             CLASS              None   \n",
       "23  Classification (Multiclass)     Next_Question              None   \n",
       "24  Classification (Multiclass)             Class              None   \n",
       "25  Classification (Multiclass)               NSP              None   \n",
       "26                   Clustering              None              None   \n",
       "27                   Clustering              None              None   \n",
       "28                   Clustering              None              None   \n",
       "29                   Clustering              None              None   \n",
       "30                   Clustering              None              None   \n",
       "31                   Clustering              None              None   \n",
       "32                   Clustering              None              None   \n",
       "33                   Clustering              None              None   \n",
       "34                   Clustering              None              None   \n",
       "35                   Clustering              None              None   \n",
       "36                   Clustering              None              None   \n",
       "37                   Clustering              None              None   \n",
       "38                   Clustering              None              None   \n",
       "39                          NLP             tweet              None   \n",
       "40         NLP / Classification        reviewText              None   \n",
       "41         NLP / Classification                en              None   \n",
       "42             NLP / Regression              text              None   \n",
       "43         NLP / Classification              Text              None   \n",
       "44                   Regression             price              None   \n",
       "45                   Regression               cnt              None   \n",
       "46                   Regression              medv              None   \n",
       "47                   Regression          strength              None   \n",
       "48                   Regression             Price              None   \n",
       "49                   Regression      Heating Load      Cooling Load   \n",
       "50                   Regression              area              None   \n",
       "51                   Regression         Gold_T+22              None   \n",
       "52                   Regression         SalePrice              None   \n",
       "53                   Regression           charges              None   \n",
       "54                   Regression               PPE              None   \n",
       "55                   Regression    traffic_volume              None   \n",
       "\n",
       "    # Instances  # Attributes Missing Values  \n",
       "0          1000            10              N  \n",
       "1          8557             8              N  \n",
       "2          9495             8              N  \n",
       "3         45211            17              N  \n",
       "4           748             5              N  \n",
       "5           683            10              N  \n",
       "6         24000            24              N  \n",
       "7           768             9              N  \n",
       "8         10000            14              N  \n",
       "9         14999            10              N  \n",
       "10          200            16              N  \n",
       "11          270            14              N  \n",
       "12          154            32              Y  \n",
       "13        32561            14              Y  \n",
       "14         1070            15              N  \n",
       "15         1340            21              N  \n",
       "16         6498            13              N  \n",
       "17        19020            11              N  \n",
       "18          891            11              Y  \n",
       "19          497             7              N  \n",
       "20          214            10              N  \n",
       "21          150             5              N  \n",
       "22       100000            11              N  \n",
       "23          499             4              N  \n",
       "24         6435            37              N  \n",
       "25         2129            40              Y  \n",
       "26           40            11              N  \n",
       "27         3195            54              Y  \n",
       "28         7050            12              N  \n",
       "29          153            25              N  \n",
       "30          505             4              N  \n",
       "31         1080            82              Y  \n",
       "32          233            12              N  \n",
       "33           20            29              N  \n",
       "34          800            13              Y  \n",
       "35          255            56              Y  \n",
       "36          224            21              N  \n",
       "37          210             7              N  \n",
       "38          440             8              N  \n",
       "39         8594             2              N  \n",
       "40        20000             2              N  \n",
       "41         6818             7              N  \n",
       "42          874             4              N  \n",
       "43          500             3              N  \n",
       "44          202            26              Y  \n",
       "45        17379            15              N  \n",
       "46          506            14              N  \n",
       "47         1030             9              N  \n",
       "48         6000             8              N  \n",
       "49          768            10              N  \n",
       "50          517            13              N  \n",
       "51         2558           121              N  \n",
       "52         1461            81              Y  \n",
       "53         1338             7              N  \n",
       "54         5875            22              N  \n",
       "55        48204             8              N  "
      ]
     },
     "execution_count": 15,
     "metadata": {},
     "output_type": "execute_result"
    }
   ],
   "source": [
    "get_data('index')"
   ]
  },
  {
   "cell_type": "code",
   "execution_count": 16,
   "metadata": {},
   "outputs": [
    {
     "data": {
      "text/html": [
       "<div>\n",
       "<style scoped>\n",
       "    .dataframe tbody tr th:only-of-type {\n",
       "        vertical-align: middle;\n",
       "    }\n",
       "\n",
       "    .dataframe tbody tr th {\n",
       "        vertical-align: top;\n",
       "    }\n",
       "\n",
       "    .dataframe thead th {\n",
       "        text-align: right;\n",
       "    }\n",
       "</style>\n",
       "<table border=\"1\" class=\"dataframe\">\n",
       "  <thead>\n",
       "    <tr style=\"text-align: right;\">\n",
       "      <th></th>\n",
       "      <th>Number of times pregnant</th>\n",
       "      <th>Plasma glucose concentration a 2 hours in an oral glucose tolerance test</th>\n",
       "      <th>Diastolic blood pressure (mm Hg)</th>\n",
       "      <th>Triceps skin fold thickness (mm)</th>\n",
       "      <th>2-Hour serum insulin (mu U/ml)</th>\n",
       "      <th>Body mass index (weight in kg/(height in m)^2)</th>\n",
       "      <th>Diabetes pedigree function</th>\n",
       "      <th>Age (years)</th>\n",
       "      <th>Class variable</th>\n",
       "    </tr>\n",
       "  </thead>\n",
       "  <tbody>\n",
       "    <tr>\n",
       "      <th>0</th>\n",
       "      <td>6</td>\n",
       "      <td>148</td>\n",
       "      <td>72</td>\n",
       "      <td>35</td>\n",
       "      <td>0</td>\n",
       "      <td>33.6</td>\n",
       "      <td>0.627</td>\n",
       "      <td>50</td>\n",
       "      <td>1</td>\n",
       "    </tr>\n",
       "    <tr>\n",
       "      <th>1</th>\n",
       "      <td>1</td>\n",
       "      <td>85</td>\n",
       "      <td>66</td>\n",
       "      <td>29</td>\n",
       "      <td>0</td>\n",
       "      <td>26.6</td>\n",
       "      <td>0.351</td>\n",
       "      <td>31</td>\n",
       "      <td>0</td>\n",
       "    </tr>\n",
       "    <tr>\n",
       "      <th>2</th>\n",
       "      <td>8</td>\n",
       "      <td>183</td>\n",
       "      <td>64</td>\n",
       "      <td>0</td>\n",
       "      <td>0</td>\n",
       "      <td>23.3</td>\n",
       "      <td>0.672</td>\n",
       "      <td>32</td>\n",
       "      <td>1</td>\n",
       "    </tr>\n",
       "    <tr>\n",
       "      <th>3</th>\n",
       "      <td>1</td>\n",
       "      <td>89</td>\n",
       "      <td>66</td>\n",
       "      <td>23</td>\n",
       "      <td>94</td>\n",
       "      <td>28.1</td>\n",
       "      <td>0.167</td>\n",
       "      <td>21</td>\n",
       "      <td>0</td>\n",
       "    </tr>\n",
       "    <tr>\n",
       "      <th>4</th>\n",
       "      <td>0</td>\n",
       "      <td>137</td>\n",
       "      <td>40</td>\n",
       "      <td>35</td>\n",
       "      <td>168</td>\n",
       "      <td>43.1</td>\n",
       "      <td>2.288</td>\n",
       "      <td>33</td>\n",
       "      <td>1</td>\n",
       "    </tr>\n",
       "  </tbody>\n",
       "</table>\n",
       "</div>"
      ],
      "text/plain": [
       "   Number of times pregnant  \\\n",
       "0                         6   \n",
       "1                         1   \n",
       "2                         8   \n",
       "3                         1   \n",
       "4                         0   \n",
       "\n",
       "   Plasma glucose concentration a 2 hours in an oral glucose tolerance test  \\\n",
       "0                                                148                          \n",
       "1                                                 85                          \n",
       "2                                                183                          \n",
       "3                                                 89                          \n",
       "4                                                137                          \n",
       "\n",
       "   Diastolic blood pressure (mm Hg)  Triceps skin fold thickness (mm)  \\\n",
       "0                                72                                35   \n",
       "1                                66                                29   \n",
       "2                                64                                 0   \n",
       "3                                66                                23   \n",
       "4                                40                                35   \n",
       "\n",
       "   2-Hour serum insulin (mu U/ml)  \\\n",
       "0                               0   \n",
       "1                               0   \n",
       "2                               0   \n",
       "3                              94   \n",
       "4                             168   \n",
       "\n",
       "   Body mass index (weight in kg/(height in m)^2)  Diabetes pedigree function  \\\n",
       "0                                            33.6                       0.627   \n",
       "1                                            26.6                       0.351   \n",
       "2                                            23.3                       0.672   \n",
       "3                                            28.1                       0.167   \n",
       "4                                            43.1                       2.288   \n",
       "\n",
       "   Age (years)  Class variable  \n",
       "0           50               1  \n",
       "1           31               0  \n",
       "2           32               1  \n",
       "3           21               0  \n",
       "4           33               1  "
      ]
     },
     "metadata": {},
     "output_type": "display_data"
    }
   ],
   "source": [
    "## Importing a Classification Dataset\n",
    "dataset = get_data('diabetes')"
   ]
  },
  {
   "cell_type": "code",
   "execution_count": 17,
   "metadata": {},
   "outputs": [
    {
     "data": {
      "text/plain": [
       "(768, 9)"
      ]
     },
     "execution_count": 17,
     "metadata": {},
     "output_type": "execute_result"
    }
   ],
   "source": [
    "dataset.shape"
   ]
  },
  {
   "cell_type": "code",
   "execution_count": 18,
   "metadata": {
    "scrolled": true
   },
   "outputs": [
    {
     "data": {
      "text/html": [
       "<div>\n",
       "<style scoped>\n",
       "    .dataframe tbody tr th:only-of-type {\n",
       "        vertical-align: middle;\n",
       "    }\n",
       "\n",
       "    .dataframe tbody tr th {\n",
       "        vertical-align: top;\n",
       "    }\n",
       "\n",
       "    .dataframe thead th {\n",
       "        text-align: right;\n",
       "    }\n",
       "</style>\n",
       "<table border=\"1\" class=\"dataframe\">\n",
       "  <thead>\n",
       "    <tr style=\"text-align: right;\">\n",
       "      <th></th>\n",
       "      <th>Number of times pregnant</th>\n",
       "      <th>Plasma glucose concentration a 2 hours in an oral glucose tolerance test</th>\n",
       "      <th>Diastolic blood pressure (mm Hg)</th>\n",
       "      <th>Triceps skin fold thickness (mm)</th>\n",
       "      <th>2-Hour serum insulin (mu U/ml)</th>\n",
       "      <th>Body mass index (weight in kg/(height in m)^2)</th>\n",
       "      <th>Diabetes pedigree function</th>\n",
       "      <th>Age (years)</th>\n",
       "      <th>Class variable</th>\n",
       "    </tr>\n",
       "  </thead>\n",
       "  <tbody>\n",
       "    <tr>\n",
       "      <th>0</th>\n",
       "      <td>6</td>\n",
       "      <td>148</td>\n",
       "      <td>72</td>\n",
       "      <td>35</td>\n",
       "      <td>0</td>\n",
       "      <td>33.6</td>\n",
       "      <td>0.627</td>\n",
       "      <td>50</td>\n",
       "      <td>1</td>\n",
       "    </tr>\n",
       "    <tr>\n",
       "      <th>1</th>\n",
       "      <td>1</td>\n",
       "      <td>85</td>\n",
       "      <td>66</td>\n",
       "      <td>29</td>\n",
       "      <td>0</td>\n",
       "      <td>26.6</td>\n",
       "      <td>0.351</td>\n",
       "      <td>31</td>\n",
       "      <td>0</td>\n",
       "    </tr>\n",
       "    <tr>\n",
       "      <th>2</th>\n",
       "      <td>8</td>\n",
       "      <td>183</td>\n",
       "      <td>64</td>\n",
       "      <td>0</td>\n",
       "      <td>0</td>\n",
       "      <td>23.3</td>\n",
       "      <td>0.672</td>\n",
       "      <td>32</td>\n",
       "      <td>1</td>\n",
       "    </tr>\n",
       "    <tr>\n",
       "      <th>3</th>\n",
       "      <td>1</td>\n",
       "      <td>89</td>\n",
       "      <td>66</td>\n",
       "      <td>23</td>\n",
       "      <td>94</td>\n",
       "      <td>28.1</td>\n",
       "      <td>0.167</td>\n",
       "      <td>21</td>\n",
       "      <td>0</td>\n",
       "    </tr>\n",
       "    <tr>\n",
       "      <th>4</th>\n",
       "      <td>0</td>\n",
       "      <td>137</td>\n",
       "      <td>40</td>\n",
       "      <td>35</td>\n",
       "      <td>168</td>\n",
       "      <td>43.1</td>\n",
       "      <td>2.288</td>\n",
       "      <td>33</td>\n",
       "      <td>1</td>\n",
       "    </tr>\n",
       "    <tr>\n",
       "      <th>...</th>\n",
       "      <td>...</td>\n",
       "      <td>...</td>\n",
       "      <td>...</td>\n",
       "      <td>...</td>\n",
       "      <td>...</td>\n",
       "      <td>...</td>\n",
       "      <td>...</td>\n",
       "      <td>...</td>\n",
       "      <td>...</td>\n",
       "    </tr>\n",
       "    <tr>\n",
       "      <th>763</th>\n",
       "      <td>10</td>\n",
       "      <td>101</td>\n",
       "      <td>76</td>\n",
       "      <td>48</td>\n",
       "      <td>180</td>\n",
       "      <td>32.9</td>\n",
       "      <td>0.171</td>\n",
       "      <td>63</td>\n",
       "      <td>0</td>\n",
       "    </tr>\n",
       "    <tr>\n",
       "      <th>764</th>\n",
       "      <td>2</td>\n",
       "      <td>122</td>\n",
       "      <td>70</td>\n",
       "      <td>27</td>\n",
       "      <td>0</td>\n",
       "      <td>36.8</td>\n",
       "      <td>0.340</td>\n",
       "      <td>27</td>\n",
       "      <td>0</td>\n",
       "    </tr>\n",
       "    <tr>\n",
       "      <th>765</th>\n",
       "      <td>5</td>\n",
       "      <td>121</td>\n",
       "      <td>72</td>\n",
       "      <td>23</td>\n",
       "      <td>112</td>\n",
       "      <td>26.2</td>\n",
       "      <td>0.245</td>\n",
       "      <td>30</td>\n",
       "      <td>0</td>\n",
       "    </tr>\n",
       "    <tr>\n",
       "      <th>766</th>\n",
       "      <td>1</td>\n",
       "      <td>126</td>\n",
       "      <td>60</td>\n",
       "      <td>0</td>\n",
       "      <td>0</td>\n",
       "      <td>30.1</td>\n",
       "      <td>0.349</td>\n",
       "      <td>47</td>\n",
       "      <td>1</td>\n",
       "    </tr>\n",
       "    <tr>\n",
       "      <th>767</th>\n",
       "      <td>1</td>\n",
       "      <td>93</td>\n",
       "      <td>70</td>\n",
       "      <td>31</td>\n",
       "      <td>0</td>\n",
       "      <td>30.4</td>\n",
       "      <td>0.315</td>\n",
       "      <td>23</td>\n",
       "      <td>0</td>\n",
       "    </tr>\n",
       "  </tbody>\n",
       "</table>\n",
       "<p>768 rows × 9 columns</p>\n",
       "</div>"
      ],
      "text/plain": [
       "     Number of times pregnant  \\\n",
       "0                           6   \n",
       "1                           1   \n",
       "2                           8   \n",
       "3                           1   \n",
       "4                           0   \n",
       "..                        ...   \n",
       "763                        10   \n",
       "764                         2   \n",
       "765                         5   \n",
       "766                         1   \n",
       "767                         1   \n",
       "\n",
       "     Plasma glucose concentration a 2 hours in an oral glucose tolerance test  \\\n",
       "0                                                  148                          \n",
       "1                                                   85                          \n",
       "2                                                  183                          \n",
       "3                                                   89                          \n",
       "4                                                  137                          \n",
       "..                                                 ...                          \n",
       "763                                                101                          \n",
       "764                                                122                          \n",
       "765                                                121                          \n",
       "766                                                126                          \n",
       "767                                                 93                          \n",
       "\n",
       "     Diastolic blood pressure (mm Hg)  Triceps skin fold thickness (mm)  \\\n",
       "0                                  72                                35   \n",
       "1                                  66                                29   \n",
       "2                                  64                                 0   \n",
       "3                                  66                                23   \n",
       "4                                  40                                35   \n",
       "..                                ...                               ...   \n",
       "763                                76                                48   \n",
       "764                                70                                27   \n",
       "765                                72                                23   \n",
       "766                                60                                 0   \n",
       "767                                70                                31   \n",
       "\n",
       "     2-Hour serum insulin (mu U/ml)  \\\n",
       "0                                 0   \n",
       "1                                 0   \n",
       "2                                 0   \n",
       "3                                94   \n",
       "4                               168   \n",
       "..                              ...   \n",
       "763                             180   \n",
       "764                               0   \n",
       "765                             112   \n",
       "766                               0   \n",
       "767                               0   \n",
       "\n",
       "     Body mass index (weight in kg/(height in m)^2)  \\\n",
       "0                                              33.6   \n",
       "1                                              26.6   \n",
       "2                                              23.3   \n",
       "3                                              28.1   \n",
       "4                                              43.1   \n",
       "..                                              ...   \n",
       "763                                            32.9   \n",
       "764                                            36.8   \n",
       "765                                            26.2   \n",
       "766                                            30.1   \n",
       "767                                            30.4   \n",
       "\n",
       "     Diabetes pedigree function  Age (years)  Class variable  \n",
       "0                         0.627           50               1  \n",
       "1                         0.351           31               0  \n",
       "2                         0.672           32               1  \n",
       "3                         0.167           21               0  \n",
       "4                         2.288           33               1  \n",
       "..                          ...          ...             ...  \n",
       "763                       0.171           63               0  \n",
       "764                       0.340           27               0  \n",
       "765                       0.245           30               0  \n",
       "766                       0.349           47               1  \n",
       "767                       0.315           23               0  \n",
       "\n",
       "[768 rows x 9 columns]"
      ]
     },
     "execution_count": 18,
     "metadata": {},
     "output_type": "execute_result"
    }
   ],
   "source": [
    "dataset.drop_duplicates()"
   ]
  },
  {
   "cell_type": "code",
   "execution_count": 19,
   "metadata": {},
   "outputs": [
    {
     "data": {
      "text/plain": [
       "(768, 9)"
      ]
     },
     "execution_count": 19,
     "metadata": {},
     "output_type": "execute_result"
    }
   ],
   "source": [
    "dataset.shape"
   ]
  },
  {
   "cell_type": "markdown",
   "metadata": {},
   "source": [
    "##### Assigning Setup"
   ]
  },
  {
   "cell_type": "code",
   "execution_count": 30,
   "metadata": {},
   "outputs": [],
   "source": [
    "from pycaret.classification import *"
   ]
  },
  {
   "cell_type": "code",
   "execution_count": 28,
   "metadata": {},
   "outputs": [
    {
     "name": "stdout",
     "output_type": "stream",
     "text": [
      "Setup Succesfully Completed!\n"
     ]
    },
    {
     "data": {
      "text/html": [
       "<style  type=\"text/css\" >\n",
       "</style><table id=\"T_11e44cb6_349f_11eb_9052_e23c87d3252e\" ><thead>    <tr>        <th class=\"blank level0\" ></th>        <th class=\"col_heading level0 col0\" >Description</th>        <th class=\"col_heading level0 col1\" >Value</th>    </tr></thead><tbody>\n",
       "                <tr>\n",
       "                        <th id=\"T_11e44cb6_349f_11eb_9052_e23c87d3252elevel0_row0\" class=\"row_heading level0 row0\" >0</th>\n",
       "                        <td id=\"T_11e44cb6_349f_11eb_9052_e23c87d3252erow0_col0\" class=\"data row0 col0\" >session_id</td>\n",
       "                        <td id=\"T_11e44cb6_349f_11eb_9052_e23c87d3252erow0_col1\" class=\"data row0 col1\" >2233</td>\n",
       "            </tr>\n",
       "            <tr>\n",
       "                        <th id=\"T_11e44cb6_349f_11eb_9052_e23c87d3252elevel0_row1\" class=\"row_heading level0 row1\" >1</th>\n",
       "                        <td id=\"T_11e44cb6_349f_11eb_9052_e23c87d3252erow1_col0\" class=\"data row1 col0\" >Target Type</td>\n",
       "                        <td id=\"T_11e44cb6_349f_11eb_9052_e23c87d3252erow1_col1\" class=\"data row1 col1\" >Binary</td>\n",
       "            </tr>\n",
       "            <tr>\n",
       "                        <th id=\"T_11e44cb6_349f_11eb_9052_e23c87d3252elevel0_row2\" class=\"row_heading level0 row2\" >2</th>\n",
       "                        <td id=\"T_11e44cb6_349f_11eb_9052_e23c87d3252erow2_col0\" class=\"data row2 col0\" >Label Encoded</td>\n",
       "                        <td id=\"T_11e44cb6_349f_11eb_9052_e23c87d3252erow2_col1\" class=\"data row2 col1\" >0: 0, 1: 1</td>\n",
       "            </tr>\n",
       "            <tr>\n",
       "                        <th id=\"T_11e44cb6_349f_11eb_9052_e23c87d3252elevel0_row3\" class=\"row_heading level0 row3\" >3</th>\n",
       "                        <td id=\"T_11e44cb6_349f_11eb_9052_e23c87d3252erow3_col0\" class=\"data row3 col0\" >Original Data</td>\n",
       "                        <td id=\"T_11e44cb6_349f_11eb_9052_e23c87d3252erow3_col1\" class=\"data row3 col1\" >(768, 9)</td>\n",
       "            </tr>\n",
       "            <tr>\n",
       "                        <th id=\"T_11e44cb6_349f_11eb_9052_e23c87d3252elevel0_row4\" class=\"row_heading level0 row4\" >4</th>\n",
       "                        <td id=\"T_11e44cb6_349f_11eb_9052_e23c87d3252erow4_col0\" class=\"data row4 col0\" >Missing Values </td>\n",
       "                        <td id=\"T_11e44cb6_349f_11eb_9052_e23c87d3252erow4_col1\" class=\"data row4 col1\" >False</td>\n",
       "            </tr>\n",
       "            <tr>\n",
       "                        <th id=\"T_11e44cb6_349f_11eb_9052_e23c87d3252elevel0_row5\" class=\"row_heading level0 row5\" >5</th>\n",
       "                        <td id=\"T_11e44cb6_349f_11eb_9052_e23c87d3252erow5_col0\" class=\"data row5 col0\" >Numeric Features </td>\n",
       "                        <td id=\"T_11e44cb6_349f_11eb_9052_e23c87d3252erow5_col1\" class=\"data row5 col1\" >7</td>\n",
       "            </tr>\n",
       "            <tr>\n",
       "                        <th id=\"T_11e44cb6_349f_11eb_9052_e23c87d3252elevel0_row6\" class=\"row_heading level0 row6\" >6</th>\n",
       "                        <td id=\"T_11e44cb6_349f_11eb_9052_e23c87d3252erow6_col0\" class=\"data row6 col0\" >Categorical Features </td>\n",
       "                        <td id=\"T_11e44cb6_349f_11eb_9052_e23c87d3252erow6_col1\" class=\"data row6 col1\" >1</td>\n",
       "            </tr>\n",
       "            <tr>\n",
       "                        <th id=\"T_11e44cb6_349f_11eb_9052_e23c87d3252elevel0_row7\" class=\"row_heading level0 row7\" >7</th>\n",
       "                        <td id=\"T_11e44cb6_349f_11eb_9052_e23c87d3252erow7_col0\" class=\"data row7 col0\" >Ordinal Features </td>\n",
       "                        <td id=\"T_11e44cb6_349f_11eb_9052_e23c87d3252erow7_col1\" class=\"data row7 col1\" >False</td>\n",
       "            </tr>\n",
       "            <tr>\n",
       "                        <th id=\"T_11e44cb6_349f_11eb_9052_e23c87d3252elevel0_row8\" class=\"row_heading level0 row8\" >8</th>\n",
       "                        <td id=\"T_11e44cb6_349f_11eb_9052_e23c87d3252erow8_col0\" class=\"data row8 col0\" >High Cardinality Features </td>\n",
       "                        <td id=\"T_11e44cb6_349f_11eb_9052_e23c87d3252erow8_col1\" class=\"data row8 col1\" >False</td>\n",
       "            </tr>\n",
       "            <tr>\n",
       "                        <th id=\"T_11e44cb6_349f_11eb_9052_e23c87d3252elevel0_row9\" class=\"row_heading level0 row9\" >9</th>\n",
       "                        <td id=\"T_11e44cb6_349f_11eb_9052_e23c87d3252erow9_col0\" class=\"data row9 col0\" >High Cardinality Method </td>\n",
       "                        <td id=\"T_11e44cb6_349f_11eb_9052_e23c87d3252erow9_col1\" class=\"data row9 col1\" >None</td>\n",
       "            </tr>\n",
       "            <tr>\n",
       "                        <th id=\"T_11e44cb6_349f_11eb_9052_e23c87d3252elevel0_row10\" class=\"row_heading level0 row10\" >10</th>\n",
       "                        <td id=\"T_11e44cb6_349f_11eb_9052_e23c87d3252erow10_col0\" class=\"data row10 col0\" >Sampled Data</td>\n",
       "                        <td id=\"T_11e44cb6_349f_11eb_9052_e23c87d3252erow10_col1\" class=\"data row10 col1\" >(768, 9)</td>\n",
       "            </tr>\n",
       "            <tr>\n",
       "                        <th id=\"T_11e44cb6_349f_11eb_9052_e23c87d3252elevel0_row11\" class=\"row_heading level0 row11\" >11</th>\n",
       "                        <td id=\"T_11e44cb6_349f_11eb_9052_e23c87d3252erow11_col0\" class=\"data row11 col0\" >Transformed Train Set</td>\n",
       "                        <td id=\"T_11e44cb6_349f_11eb_9052_e23c87d3252erow11_col1\" class=\"data row11 col1\" >(537, 24)</td>\n",
       "            </tr>\n",
       "            <tr>\n",
       "                        <th id=\"T_11e44cb6_349f_11eb_9052_e23c87d3252elevel0_row12\" class=\"row_heading level0 row12\" >12</th>\n",
       "                        <td id=\"T_11e44cb6_349f_11eb_9052_e23c87d3252erow12_col0\" class=\"data row12 col0\" >Transformed Test Set</td>\n",
       "                        <td id=\"T_11e44cb6_349f_11eb_9052_e23c87d3252erow12_col1\" class=\"data row12 col1\" >(231, 24)</td>\n",
       "            </tr>\n",
       "            <tr>\n",
       "                        <th id=\"T_11e44cb6_349f_11eb_9052_e23c87d3252elevel0_row13\" class=\"row_heading level0 row13\" >13</th>\n",
       "                        <td id=\"T_11e44cb6_349f_11eb_9052_e23c87d3252erow13_col0\" class=\"data row13 col0\" >Numeric Imputer </td>\n",
       "                        <td id=\"T_11e44cb6_349f_11eb_9052_e23c87d3252erow13_col1\" class=\"data row13 col1\" >mean</td>\n",
       "            </tr>\n",
       "            <tr>\n",
       "                        <th id=\"T_11e44cb6_349f_11eb_9052_e23c87d3252elevel0_row14\" class=\"row_heading level0 row14\" >14</th>\n",
       "                        <td id=\"T_11e44cb6_349f_11eb_9052_e23c87d3252erow14_col0\" class=\"data row14 col0\" >Categorical Imputer </td>\n",
       "                        <td id=\"T_11e44cb6_349f_11eb_9052_e23c87d3252erow14_col1\" class=\"data row14 col1\" >constant</td>\n",
       "            </tr>\n",
       "            <tr>\n",
       "                        <th id=\"T_11e44cb6_349f_11eb_9052_e23c87d3252elevel0_row15\" class=\"row_heading level0 row15\" >15</th>\n",
       "                        <td id=\"T_11e44cb6_349f_11eb_9052_e23c87d3252erow15_col0\" class=\"data row15 col0\" >Normalize </td>\n",
       "                        <td id=\"T_11e44cb6_349f_11eb_9052_e23c87d3252erow15_col1\" class=\"data row15 col1\" >False</td>\n",
       "            </tr>\n",
       "            <tr>\n",
       "                        <th id=\"T_11e44cb6_349f_11eb_9052_e23c87d3252elevel0_row16\" class=\"row_heading level0 row16\" >16</th>\n",
       "                        <td id=\"T_11e44cb6_349f_11eb_9052_e23c87d3252erow16_col0\" class=\"data row16 col0\" >Normalize Method </td>\n",
       "                        <td id=\"T_11e44cb6_349f_11eb_9052_e23c87d3252erow16_col1\" class=\"data row16 col1\" >None</td>\n",
       "            </tr>\n",
       "            <tr>\n",
       "                        <th id=\"T_11e44cb6_349f_11eb_9052_e23c87d3252elevel0_row17\" class=\"row_heading level0 row17\" >17</th>\n",
       "                        <td id=\"T_11e44cb6_349f_11eb_9052_e23c87d3252erow17_col0\" class=\"data row17 col0\" >Transformation </td>\n",
       "                        <td id=\"T_11e44cb6_349f_11eb_9052_e23c87d3252erow17_col1\" class=\"data row17 col1\" >False</td>\n",
       "            </tr>\n",
       "            <tr>\n",
       "                        <th id=\"T_11e44cb6_349f_11eb_9052_e23c87d3252elevel0_row18\" class=\"row_heading level0 row18\" >18</th>\n",
       "                        <td id=\"T_11e44cb6_349f_11eb_9052_e23c87d3252erow18_col0\" class=\"data row18 col0\" >Transformation Method </td>\n",
       "                        <td id=\"T_11e44cb6_349f_11eb_9052_e23c87d3252erow18_col1\" class=\"data row18 col1\" >None</td>\n",
       "            </tr>\n",
       "            <tr>\n",
       "                        <th id=\"T_11e44cb6_349f_11eb_9052_e23c87d3252elevel0_row19\" class=\"row_heading level0 row19\" >19</th>\n",
       "                        <td id=\"T_11e44cb6_349f_11eb_9052_e23c87d3252erow19_col0\" class=\"data row19 col0\" >PCA </td>\n",
       "                        <td id=\"T_11e44cb6_349f_11eb_9052_e23c87d3252erow19_col1\" class=\"data row19 col1\" >False</td>\n",
       "            </tr>\n",
       "            <tr>\n",
       "                        <th id=\"T_11e44cb6_349f_11eb_9052_e23c87d3252elevel0_row20\" class=\"row_heading level0 row20\" >20</th>\n",
       "                        <td id=\"T_11e44cb6_349f_11eb_9052_e23c87d3252erow20_col0\" class=\"data row20 col0\" >PCA Method </td>\n",
       "                        <td id=\"T_11e44cb6_349f_11eb_9052_e23c87d3252erow20_col1\" class=\"data row20 col1\" >None</td>\n",
       "            </tr>\n",
       "            <tr>\n",
       "                        <th id=\"T_11e44cb6_349f_11eb_9052_e23c87d3252elevel0_row21\" class=\"row_heading level0 row21\" >21</th>\n",
       "                        <td id=\"T_11e44cb6_349f_11eb_9052_e23c87d3252erow21_col0\" class=\"data row21 col0\" >PCA Components </td>\n",
       "                        <td id=\"T_11e44cb6_349f_11eb_9052_e23c87d3252erow21_col1\" class=\"data row21 col1\" >None</td>\n",
       "            </tr>\n",
       "            <tr>\n",
       "                        <th id=\"T_11e44cb6_349f_11eb_9052_e23c87d3252elevel0_row22\" class=\"row_heading level0 row22\" >22</th>\n",
       "                        <td id=\"T_11e44cb6_349f_11eb_9052_e23c87d3252erow22_col0\" class=\"data row22 col0\" >Ignore Low Variance </td>\n",
       "                        <td id=\"T_11e44cb6_349f_11eb_9052_e23c87d3252erow22_col1\" class=\"data row22 col1\" >False</td>\n",
       "            </tr>\n",
       "            <tr>\n",
       "                        <th id=\"T_11e44cb6_349f_11eb_9052_e23c87d3252elevel0_row23\" class=\"row_heading level0 row23\" >23</th>\n",
       "                        <td id=\"T_11e44cb6_349f_11eb_9052_e23c87d3252erow23_col0\" class=\"data row23 col0\" >Combine Rare Levels </td>\n",
       "                        <td id=\"T_11e44cb6_349f_11eb_9052_e23c87d3252erow23_col1\" class=\"data row23 col1\" >False</td>\n",
       "            </tr>\n",
       "            <tr>\n",
       "                        <th id=\"T_11e44cb6_349f_11eb_9052_e23c87d3252elevel0_row24\" class=\"row_heading level0 row24\" >24</th>\n",
       "                        <td id=\"T_11e44cb6_349f_11eb_9052_e23c87d3252erow24_col0\" class=\"data row24 col0\" >Rare Level Threshold </td>\n",
       "                        <td id=\"T_11e44cb6_349f_11eb_9052_e23c87d3252erow24_col1\" class=\"data row24 col1\" >None</td>\n",
       "            </tr>\n",
       "            <tr>\n",
       "                        <th id=\"T_11e44cb6_349f_11eb_9052_e23c87d3252elevel0_row25\" class=\"row_heading level0 row25\" >25</th>\n",
       "                        <td id=\"T_11e44cb6_349f_11eb_9052_e23c87d3252erow25_col0\" class=\"data row25 col0\" >Numeric Binning </td>\n",
       "                        <td id=\"T_11e44cb6_349f_11eb_9052_e23c87d3252erow25_col1\" class=\"data row25 col1\" >False</td>\n",
       "            </tr>\n",
       "            <tr>\n",
       "                        <th id=\"T_11e44cb6_349f_11eb_9052_e23c87d3252elevel0_row26\" class=\"row_heading level0 row26\" >26</th>\n",
       "                        <td id=\"T_11e44cb6_349f_11eb_9052_e23c87d3252erow26_col0\" class=\"data row26 col0\" >Remove Outliers </td>\n",
       "                        <td id=\"T_11e44cb6_349f_11eb_9052_e23c87d3252erow26_col1\" class=\"data row26 col1\" >False</td>\n",
       "            </tr>\n",
       "            <tr>\n",
       "                        <th id=\"T_11e44cb6_349f_11eb_9052_e23c87d3252elevel0_row27\" class=\"row_heading level0 row27\" >27</th>\n",
       "                        <td id=\"T_11e44cb6_349f_11eb_9052_e23c87d3252erow27_col0\" class=\"data row27 col0\" >Outliers Threshold </td>\n",
       "                        <td id=\"T_11e44cb6_349f_11eb_9052_e23c87d3252erow27_col1\" class=\"data row27 col1\" >None</td>\n",
       "            </tr>\n",
       "            <tr>\n",
       "                        <th id=\"T_11e44cb6_349f_11eb_9052_e23c87d3252elevel0_row28\" class=\"row_heading level0 row28\" >28</th>\n",
       "                        <td id=\"T_11e44cb6_349f_11eb_9052_e23c87d3252erow28_col0\" class=\"data row28 col0\" >Remove Multicollinearity </td>\n",
       "                        <td id=\"T_11e44cb6_349f_11eb_9052_e23c87d3252erow28_col1\" class=\"data row28 col1\" >False</td>\n",
       "            </tr>\n",
       "            <tr>\n",
       "                        <th id=\"T_11e44cb6_349f_11eb_9052_e23c87d3252elevel0_row29\" class=\"row_heading level0 row29\" >29</th>\n",
       "                        <td id=\"T_11e44cb6_349f_11eb_9052_e23c87d3252erow29_col0\" class=\"data row29 col0\" >Multicollinearity Threshold </td>\n",
       "                        <td id=\"T_11e44cb6_349f_11eb_9052_e23c87d3252erow29_col1\" class=\"data row29 col1\" >None</td>\n",
       "            </tr>\n",
       "            <tr>\n",
       "                        <th id=\"T_11e44cb6_349f_11eb_9052_e23c87d3252elevel0_row30\" class=\"row_heading level0 row30\" >30</th>\n",
       "                        <td id=\"T_11e44cb6_349f_11eb_9052_e23c87d3252erow30_col0\" class=\"data row30 col0\" >Clustering </td>\n",
       "                        <td id=\"T_11e44cb6_349f_11eb_9052_e23c87d3252erow30_col1\" class=\"data row30 col1\" >False</td>\n",
       "            </tr>\n",
       "            <tr>\n",
       "                        <th id=\"T_11e44cb6_349f_11eb_9052_e23c87d3252elevel0_row31\" class=\"row_heading level0 row31\" >31</th>\n",
       "                        <td id=\"T_11e44cb6_349f_11eb_9052_e23c87d3252erow31_col0\" class=\"data row31 col0\" >Clustering Iteration </td>\n",
       "                        <td id=\"T_11e44cb6_349f_11eb_9052_e23c87d3252erow31_col1\" class=\"data row31 col1\" >None</td>\n",
       "            </tr>\n",
       "            <tr>\n",
       "                        <th id=\"T_11e44cb6_349f_11eb_9052_e23c87d3252elevel0_row32\" class=\"row_heading level0 row32\" >32</th>\n",
       "                        <td id=\"T_11e44cb6_349f_11eb_9052_e23c87d3252erow32_col0\" class=\"data row32 col0\" >Polynomial Features </td>\n",
       "                        <td id=\"T_11e44cb6_349f_11eb_9052_e23c87d3252erow32_col1\" class=\"data row32 col1\" >False</td>\n",
       "            </tr>\n",
       "            <tr>\n",
       "                        <th id=\"T_11e44cb6_349f_11eb_9052_e23c87d3252elevel0_row33\" class=\"row_heading level0 row33\" >33</th>\n",
       "                        <td id=\"T_11e44cb6_349f_11eb_9052_e23c87d3252erow33_col0\" class=\"data row33 col0\" >Polynomial Degree </td>\n",
       "                        <td id=\"T_11e44cb6_349f_11eb_9052_e23c87d3252erow33_col1\" class=\"data row33 col1\" >None</td>\n",
       "            </tr>\n",
       "            <tr>\n",
       "                        <th id=\"T_11e44cb6_349f_11eb_9052_e23c87d3252elevel0_row34\" class=\"row_heading level0 row34\" >34</th>\n",
       "                        <td id=\"T_11e44cb6_349f_11eb_9052_e23c87d3252erow34_col0\" class=\"data row34 col0\" >Trignometry Features </td>\n",
       "                        <td id=\"T_11e44cb6_349f_11eb_9052_e23c87d3252erow34_col1\" class=\"data row34 col1\" >False</td>\n",
       "            </tr>\n",
       "            <tr>\n",
       "                        <th id=\"T_11e44cb6_349f_11eb_9052_e23c87d3252elevel0_row35\" class=\"row_heading level0 row35\" >35</th>\n",
       "                        <td id=\"T_11e44cb6_349f_11eb_9052_e23c87d3252erow35_col0\" class=\"data row35 col0\" >Polynomial Threshold </td>\n",
       "                        <td id=\"T_11e44cb6_349f_11eb_9052_e23c87d3252erow35_col1\" class=\"data row35 col1\" >None</td>\n",
       "            </tr>\n",
       "            <tr>\n",
       "                        <th id=\"T_11e44cb6_349f_11eb_9052_e23c87d3252elevel0_row36\" class=\"row_heading level0 row36\" >36</th>\n",
       "                        <td id=\"T_11e44cb6_349f_11eb_9052_e23c87d3252erow36_col0\" class=\"data row36 col0\" >Group Features </td>\n",
       "                        <td id=\"T_11e44cb6_349f_11eb_9052_e23c87d3252erow36_col1\" class=\"data row36 col1\" >False</td>\n",
       "            </tr>\n",
       "            <tr>\n",
       "                        <th id=\"T_11e44cb6_349f_11eb_9052_e23c87d3252elevel0_row37\" class=\"row_heading level0 row37\" >37</th>\n",
       "                        <td id=\"T_11e44cb6_349f_11eb_9052_e23c87d3252erow37_col0\" class=\"data row37 col0\" >Feature Selection </td>\n",
       "                        <td id=\"T_11e44cb6_349f_11eb_9052_e23c87d3252erow37_col1\" class=\"data row37 col1\" >False</td>\n",
       "            </tr>\n",
       "            <tr>\n",
       "                        <th id=\"T_11e44cb6_349f_11eb_9052_e23c87d3252elevel0_row38\" class=\"row_heading level0 row38\" >38</th>\n",
       "                        <td id=\"T_11e44cb6_349f_11eb_9052_e23c87d3252erow38_col0\" class=\"data row38 col0\" >Features Selection Threshold </td>\n",
       "                        <td id=\"T_11e44cb6_349f_11eb_9052_e23c87d3252erow38_col1\" class=\"data row38 col1\" >None</td>\n",
       "            </tr>\n",
       "            <tr>\n",
       "                        <th id=\"T_11e44cb6_349f_11eb_9052_e23c87d3252elevel0_row39\" class=\"row_heading level0 row39\" >39</th>\n",
       "                        <td id=\"T_11e44cb6_349f_11eb_9052_e23c87d3252erow39_col0\" class=\"data row39 col0\" >Feature Interaction </td>\n",
       "                        <td id=\"T_11e44cb6_349f_11eb_9052_e23c87d3252erow39_col1\" class=\"data row39 col1\" >False</td>\n",
       "            </tr>\n",
       "            <tr>\n",
       "                        <th id=\"T_11e44cb6_349f_11eb_9052_e23c87d3252elevel0_row40\" class=\"row_heading level0 row40\" >40</th>\n",
       "                        <td id=\"T_11e44cb6_349f_11eb_9052_e23c87d3252erow40_col0\" class=\"data row40 col0\" >Feature Ratio </td>\n",
       "                        <td id=\"T_11e44cb6_349f_11eb_9052_e23c87d3252erow40_col1\" class=\"data row40 col1\" >False</td>\n",
       "            </tr>\n",
       "            <tr>\n",
       "                        <th id=\"T_11e44cb6_349f_11eb_9052_e23c87d3252elevel0_row41\" class=\"row_heading level0 row41\" >41</th>\n",
       "                        <td id=\"T_11e44cb6_349f_11eb_9052_e23c87d3252erow41_col0\" class=\"data row41 col0\" >Interaction Threshold </td>\n",
       "                        <td id=\"T_11e44cb6_349f_11eb_9052_e23c87d3252erow41_col1\" class=\"data row41 col1\" >None</td>\n",
       "            </tr>\n",
       "            <tr>\n",
       "                        <th id=\"T_11e44cb6_349f_11eb_9052_e23c87d3252elevel0_row42\" class=\"row_heading level0 row42\" >42</th>\n",
       "                        <td id=\"T_11e44cb6_349f_11eb_9052_e23c87d3252erow42_col0\" class=\"data row42 col0\" >Fix Imbalance</td>\n",
       "                        <td id=\"T_11e44cb6_349f_11eb_9052_e23c87d3252erow42_col1\" class=\"data row42 col1\" >False</td>\n",
       "            </tr>\n",
       "            <tr>\n",
       "                        <th id=\"T_11e44cb6_349f_11eb_9052_e23c87d3252elevel0_row43\" class=\"row_heading level0 row43\" >43</th>\n",
       "                        <td id=\"T_11e44cb6_349f_11eb_9052_e23c87d3252erow43_col0\" class=\"data row43 col0\" >Fix Imbalance Method</td>\n",
       "                        <td id=\"T_11e44cb6_349f_11eb_9052_e23c87d3252erow43_col1\" class=\"data row43 col1\" >SMOTE</td>\n",
       "            </tr>\n",
       "    </tbody></table>"
      ],
      "text/plain": [
       "<pandas.io.formats.style.Styler at 0x227e3bdec08>"
      ]
     },
     "metadata": {},
     "output_type": "display_data"
    },
    {
     "data": {
      "text/plain": [
       "(     Plasma glucose concentration a 2 hours in an oral glucose tolerance test  \\\n",
       " 0                                                148.0                          \n",
       " 1                                                 85.0                          \n",
       " 2                                                183.0                          \n",
       " 3                                                 89.0                          \n",
       " 4                                                137.0                          \n",
       " ..                                                 ...                          \n",
       " 763                                              101.0                          \n",
       " 764                                              122.0                          \n",
       " 765                                              121.0                          \n",
       " 766                                              126.0                          \n",
       " 767                                               93.0                          \n",
       " \n",
       "      Diastolic blood pressure (mm Hg)  Triceps skin fold thickness (mm)  \\\n",
       " 0                                72.0                              35.0   \n",
       " 1                                66.0                              29.0   \n",
       " 2                                64.0                               0.0   \n",
       " 3                                66.0                              23.0   \n",
       " 4                                40.0                              35.0   \n",
       " ..                                ...                               ...   \n",
       " 763                              76.0                              48.0   \n",
       " 764                              70.0                              27.0   \n",
       " 765                              72.0                              23.0   \n",
       " 766                              60.0                               0.0   \n",
       " 767                              70.0                              31.0   \n",
       " \n",
       "      2-Hour serum insulin (mu U/ml)  \\\n",
       " 0                               0.0   \n",
       " 1                               0.0   \n",
       " 2                               0.0   \n",
       " 3                              94.0   \n",
       " 4                             168.0   \n",
       " ..                              ...   \n",
       " 763                           180.0   \n",
       " 764                             0.0   \n",
       " 765                           112.0   \n",
       " 766                             0.0   \n",
       " 767                             0.0   \n",
       " \n",
       "      Body mass index (weight in kg/(height in m)^2)  \\\n",
       " 0                                              33.6   \n",
       " 1                                              26.6   \n",
       " 2                                              23.3   \n",
       " 3                                              28.1   \n",
       " 4                                              43.1   \n",
       " ..                                              ...   \n",
       " 763                                            32.9   \n",
       " 764                                            36.8   \n",
       " 765                                            26.2   \n",
       " 766                                            30.1   \n",
       " 767                                            30.4   \n",
       " \n",
       "      Diabetes pedigree function  Age (years)  Number of times pregnant_0  \\\n",
       " 0                         0.627         50.0                         0.0   \n",
       " 1                         0.351         31.0                         0.0   \n",
       " 2                         0.672         32.0                         0.0   \n",
       " 3                         0.167         21.0                         0.0   \n",
       " 4                         2.288         33.0                         1.0   \n",
       " ..                          ...          ...                         ...   \n",
       " 763                       0.171         63.0                         0.0   \n",
       " 764                       0.340         27.0                         0.0   \n",
       " 765                       0.245         30.0                         0.0   \n",
       " 766                       0.349         47.0                         0.0   \n",
       " 767                       0.315         23.0                         0.0   \n",
       " \n",
       "      Number of times pregnant_1  Number of times pregnant_10  ...  \\\n",
       " 0                           0.0                          0.0  ...   \n",
       " 1                           1.0                          0.0  ...   \n",
       " 2                           0.0                          0.0  ...   \n",
       " 3                           1.0                          0.0  ...   \n",
       " 4                           0.0                          0.0  ...   \n",
       " ..                          ...                          ...  ...   \n",
       " 763                         0.0                          1.0  ...   \n",
       " 764                         0.0                          0.0  ...   \n",
       " 765                         0.0                          0.0  ...   \n",
       " 766                         1.0                          0.0  ...   \n",
       " 767                         1.0                          0.0  ...   \n",
       " \n",
       "      Number of times pregnant_15  Number of times pregnant_17  \\\n",
       " 0                            0.0                          0.0   \n",
       " 1                            0.0                          0.0   \n",
       " 2                            0.0                          0.0   \n",
       " 3                            0.0                          0.0   \n",
       " 4                            0.0                          0.0   \n",
       " ..                           ...                          ...   \n",
       " 763                          0.0                          0.0   \n",
       " 764                          0.0                          0.0   \n",
       " 765                          0.0                          0.0   \n",
       " 766                          0.0                          0.0   \n",
       " 767                          0.0                          0.0   \n",
       " \n",
       "      Number of times pregnant_2  Number of times pregnant_3  \\\n",
       " 0                           0.0                         0.0   \n",
       " 1                           0.0                         0.0   \n",
       " 2                           0.0                         0.0   \n",
       " 3                           0.0                         0.0   \n",
       " 4                           0.0                         0.0   \n",
       " ..                          ...                         ...   \n",
       " 763                         0.0                         0.0   \n",
       " 764                         1.0                         0.0   \n",
       " 765                         0.0                         0.0   \n",
       " 766                         0.0                         0.0   \n",
       " 767                         0.0                         0.0   \n",
       " \n",
       "      Number of times pregnant_4  Number of times pregnant_5  \\\n",
       " 0                           0.0                         0.0   \n",
       " 1                           0.0                         0.0   \n",
       " 2                           0.0                         0.0   \n",
       " 3                           0.0                         0.0   \n",
       " 4                           0.0                         0.0   \n",
       " ..                          ...                         ...   \n",
       " 763                         0.0                         0.0   \n",
       " 764                         0.0                         0.0   \n",
       " 765                         0.0                         1.0   \n",
       " 766                         0.0                         0.0   \n",
       " 767                         0.0                         0.0   \n",
       " \n",
       "      Number of times pregnant_6  Number of times pregnant_7  \\\n",
       " 0                           1.0                         0.0   \n",
       " 1                           0.0                         0.0   \n",
       " 2                           0.0                         0.0   \n",
       " 3                           0.0                         0.0   \n",
       " 4                           0.0                         0.0   \n",
       " ..                          ...                         ...   \n",
       " 763                         0.0                         0.0   \n",
       " 764                         0.0                         0.0   \n",
       " 765                         0.0                         0.0   \n",
       " 766                         0.0                         0.0   \n",
       " 767                         0.0                         0.0   \n",
       " \n",
       "      Number of times pregnant_8  Number of times pregnant_9  \n",
       " 0                           0.0                         0.0  \n",
       " 1                           0.0                         0.0  \n",
       " 2                           1.0                         0.0  \n",
       " 3                           0.0                         0.0  \n",
       " 4                           0.0                         0.0  \n",
       " ..                          ...                         ...  \n",
       " 763                         0.0                         0.0  \n",
       " 764                         0.0                         0.0  \n",
       " 765                         0.0                         0.0  \n",
       " 766                         0.0                         0.0  \n",
       " 767                         0.0                         0.0  \n",
       " \n",
       " [768 rows x 24 columns],\n",
       " 0      1\n",
       " 1      0\n",
       " 2      1\n",
       " 3      0\n",
       " 4      1\n",
       "       ..\n",
       " 763    0\n",
       " 764    0\n",
       " 765    0\n",
       " 766    1\n",
       " 767    0\n",
       " Name: Class variable, Length: 768, dtype: int32,\n",
       "      Plasma glucose concentration a 2 hours in an oral glucose tolerance test  \\\n",
       " 505                                               75.0                          \n",
       " 640                                              102.0                          \n",
       " 584                                              124.0                          \n",
       " 644                                              103.0                          \n",
       " 315                                              112.0                          \n",
       " ..                                                 ...                          \n",
       " 485                                              135.0                          \n",
       " 138                                              129.0                          \n",
       " 286                                              155.0                          \n",
       " 467                                               97.0                          \n",
       " 179                                              130.0                          \n",
       " \n",
       "      Diastolic blood pressure (mm Hg)  Triceps skin fold thickness (mm)  \\\n",
       " 505                              82.0                               0.0   \n",
       " 640                              86.0                              17.0   \n",
       " 584                              76.0                              24.0   \n",
       " 644                              72.0                              30.0   \n",
       " 315                              68.0                              22.0   \n",
       " ..                                ...                               ...   \n",
       " 485                              68.0                              42.0   \n",
       " 138                              80.0                               0.0   \n",
       " 286                              84.0                              44.0   \n",
       " 467                              64.0                              36.0   \n",
       " 179                              82.0                               0.0   \n",
       " \n",
       "      2-Hour serum insulin (mu U/ml)  \\\n",
       " 505                             0.0   \n",
       " 640                           105.0   \n",
       " 584                           600.0   \n",
       " 644                           152.0   \n",
       " 315                            94.0   \n",
       " ..                              ...   \n",
       " 485                           250.0   \n",
       " 138                             0.0   \n",
       " 286                           545.0   \n",
       " 467                           100.0   \n",
       " 179                             0.0   \n",
       " \n",
       "      Body mass index (weight in kg/(height in m)^2)  \\\n",
       " 505                                            33.3   \n",
       " 640                                            29.3   \n",
       " 584                                            28.7   \n",
       " 644                                            27.6   \n",
       " 315                                            34.1   \n",
       " ..                                              ...   \n",
       " 485                                            42.3   \n",
       " 138                                            31.2   \n",
       " 286                                            38.7   \n",
       " 467                                            36.8   \n",
       " 179                                            39.1   \n",
       " \n",
       "      Diabetes pedigree function  Age (years)  Number of times pregnant_0  \\\n",
       " 505                       0.263         38.0                         0.0   \n",
       " 640                       0.695         27.0                         1.0   \n",
       " 584                       0.687         52.0                         0.0   \n",
       " 644                       0.730         27.0                         0.0   \n",
       " 315                       0.315         26.0                         0.0   \n",
       " ..                          ...          ...                         ...   \n",
       " 485                       0.365         24.0                         1.0   \n",
       " 138                       0.703         29.0                         1.0   \n",
       " 286                       0.619         34.0                         0.0   \n",
       " 467                       0.600         25.0                         1.0   \n",
       " 179                       0.956         37.0                         0.0   \n",
       " \n",
       "      Number of times pregnant_1  Number of times pregnant_10  ...  \\\n",
       " 505                         0.0                          1.0  ...   \n",
       " 640                         0.0                          0.0  ...   \n",
       " 584                         0.0                          0.0  ...   \n",
       " 644                         0.0                          0.0  ...   \n",
       " 315                         0.0                          0.0  ...   \n",
       " ..                          ...                          ...  ...   \n",
       " 485                         0.0                          0.0  ...   \n",
       " 138                         0.0                          0.0  ...   \n",
       " 286                         0.0                          0.0  ...   \n",
       " 467                         0.0                          0.0  ...   \n",
       " 179                         0.0                          0.0  ...   \n",
       " \n",
       "      Number of times pregnant_15  Number of times pregnant_17  \\\n",
       " 505                          0.0                          0.0   \n",
       " 640                          0.0                          0.0   \n",
       " 584                          0.0                          0.0   \n",
       " 644                          0.0                          0.0   \n",
       " 315                          0.0                          0.0   \n",
       " ..                           ...                          ...   \n",
       " 485                          0.0                          0.0   \n",
       " 138                          0.0                          0.0   \n",
       " 286                          0.0                          0.0   \n",
       " 467                          0.0                          0.0   \n",
       " 179                          0.0                          0.0   \n",
       " \n",
       "      Number of times pregnant_2  Number of times pregnant_3  \\\n",
       " 505                         0.0                         0.0   \n",
       " 640                         0.0                         0.0   \n",
       " 584                         0.0                         0.0   \n",
       " 644                         0.0                         1.0   \n",
       " 315                         1.0                         0.0   \n",
       " ..                          ...                         ...   \n",
       " 485                         0.0                         0.0   \n",
       " 138                         0.0                         0.0   \n",
       " 286                         0.0                         0.0   \n",
       " 467                         0.0                         0.0   \n",
       " 179                         0.0                         0.0   \n",
       " \n",
       "      Number of times pregnant_4  Number of times pregnant_5  \\\n",
       " 505                         0.0                         0.0   \n",
       " 640                         0.0                         0.0   \n",
       " 584                         0.0                         0.0   \n",
       " 644                         0.0                         0.0   \n",
       " 315                         0.0                         0.0   \n",
       " ..                          ...                         ...   \n",
       " 485                         0.0                         0.0   \n",
       " 138                         0.0                         0.0   \n",
       " 286                         0.0                         1.0   \n",
       " 467                         0.0                         0.0   \n",
       " 179                         0.0                         1.0   \n",
       " \n",
       "      Number of times pregnant_6  Number of times pregnant_7  \\\n",
       " 505                         0.0                         0.0   \n",
       " 640                         0.0                         0.0   \n",
       " 584                         0.0                         0.0   \n",
       " 644                         0.0                         0.0   \n",
       " 315                         0.0                         0.0   \n",
       " ..                          ...                         ...   \n",
       " 485                         0.0                         0.0   \n",
       " 138                         0.0                         0.0   \n",
       " 286                         0.0                         0.0   \n",
       " 467                         0.0                         0.0   \n",
       " 179                         0.0                         0.0   \n",
       " \n",
       "      Number of times pregnant_8  Number of times pregnant_9  \n",
       " 505                         0.0                         0.0  \n",
       " 640                         0.0                         0.0  \n",
       " 584                         1.0                         0.0  \n",
       " 644                         0.0                         0.0  \n",
       " 315                         0.0                         0.0  \n",
       " ..                          ...                         ...  \n",
       " 485                         0.0                         0.0  \n",
       " 138                         0.0                         0.0  \n",
       " 286                         0.0                         0.0  \n",
       " 467                         0.0                         0.0  \n",
       " 179                         0.0                         0.0  \n",
       " \n",
       " [537 rows x 24 columns],\n",
       "      Plasma glucose concentration a 2 hours in an oral glucose tolerance test  \\\n",
       " 647                                              179.0                          \n",
       " 58                                               146.0                          \n",
       " 664                                              115.0                          \n",
       " 532                                               86.0                          \n",
       " 9                                                125.0                          \n",
       " ..                                                 ...                          \n",
       " 633                                              128.0                          \n",
       " 670                                              165.0                          \n",
       " 243                                              119.0                          \n",
       " 59                                               105.0                          \n",
       " 610                                              106.0                          \n",
       " \n",
       "      Diastolic blood pressure (mm Hg)  Triceps skin fold thickness (mm)  \\\n",
       " 647                              50.0                              36.0   \n",
       " 58                               82.0                               0.0   \n",
       " 664                              60.0                              39.0   \n",
       " 532                              66.0                              52.0   \n",
       " 9                                96.0                               0.0   \n",
       " ..                                ...                               ...   \n",
       " 633                              82.0                              17.0   \n",
       " 670                              68.0                              26.0   \n",
       " 243                              50.0                              22.0   \n",
       " 59                               64.0                              41.0   \n",
       " 610                              54.0                              21.0   \n",
       " \n",
       "      2-Hour serum insulin (mu U/ml)  \\\n",
       " 647                           159.0   \n",
       " 58                              0.0   \n",
       " 664                             0.0   \n",
       " 532                            65.0   \n",
       " 9                               0.0   \n",
       " ..                              ...   \n",
       " 633                           183.0   \n",
       " 670                           168.0   \n",
       " 243                           176.0   \n",
       " 59                            142.0   \n",
       " 610                           158.0   \n",
       " \n",
       "      Body mass index (weight in kg/(height in m)^2)  \\\n",
       " 647                                            37.8   \n",
       " 58                                             40.5   \n",
       " 664                                            33.7   \n",
       " 532                                            41.3   \n",
       " 9                                               0.0   \n",
       " ..                                              ...   \n",
       " 633                                            27.5   \n",
       " 670                                            33.6   \n",
       " 243                                            27.1   \n",
       " 59                                             41.5   \n",
       " 610                                            30.9   \n",
       " \n",
       "      Diabetes pedigree function  Age (years)  Number of times pregnant_0  \\\n",
       " 647                       0.455         22.0                         1.0   \n",
       " 58                        1.781         44.0                         1.0   \n",
       " 664                       0.245         40.0                         0.0   \n",
       " 532                       0.917         29.0                         0.0   \n",
       " 9                         0.232         54.0                         0.0   \n",
       " ..                          ...          ...                         ...   \n",
       " 633                       0.115         22.0                         0.0   \n",
       " 670                       0.631         49.0                         0.0   \n",
       " 243                       1.318         33.0                         0.0   \n",
       " 59                        0.173         22.0                         1.0   \n",
       " 610                       0.292         24.0                         0.0   \n",
       " \n",
       "      Number of times pregnant_1  Number of times pregnant_10  ...  \\\n",
       " 647                         0.0                          0.0  ...   \n",
       " 58                          0.0                          0.0  ...   \n",
       " 664                         0.0                          0.0  ...   \n",
       " 532                         1.0                          0.0  ...   \n",
       " 9                           0.0                          0.0  ...   \n",
       " ..                          ...                          ...  ...   \n",
       " 633                         1.0                          0.0  ...   \n",
       " 670                         0.0                          0.0  ...   \n",
       " 243                         0.0                          0.0  ...   \n",
       " 59                          0.0                          0.0  ...   \n",
       " 610                         0.0                          0.0  ...   \n",
       " \n",
       "      Number of times pregnant_15  Number of times pregnant_17  \\\n",
       " 647                          0.0                          0.0   \n",
       " 58                           0.0                          0.0   \n",
       " 664                          0.0                          0.0   \n",
       " 532                          0.0                          0.0   \n",
       " 9                            0.0                          0.0   \n",
       " ..                           ...                          ...   \n",
       " 633                          0.0                          0.0   \n",
       " 670                          0.0                          0.0   \n",
       " 243                          0.0                          0.0   \n",
       " 59                           0.0                          0.0   \n",
       " 610                          0.0                          0.0   \n",
       " \n",
       "      Number of times pregnant_2  Number of times pregnant_3  \\\n",
       " 647                         0.0                         0.0   \n",
       " 58                          0.0                         0.0   \n",
       " 664                         0.0                         0.0   \n",
       " 532                         0.0                         0.0   \n",
       " 9                           0.0                         0.0   \n",
       " ..                          ...                         ...   \n",
       " 633                         0.0                         0.0   \n",
       " 670                         0.0                         0.0   \n",
       " 243                         0.0                         0.0   \n",
       " 59                          0.0                         0.0   \n",
       " 610                         0.0                         1.0   \n",
       " \n",
       "      Number of times pregnant_4  Number of times pregnant_5  \\\n",
       " 647                         0.0                         0.0   \n",
       " 58                          0.0                         0.0   \n",
       " 664                         0.0                         0.0   \n",
       " 532                         0.0                         0.0   \n",
       " 9                           0.0                         0.0   \n",
       " ..                          ...                         ...   \n",
       " 633                         0.0                         0.0   \n",
       " 670                         0.0                         0.0   \n",
       " 243                         0.0                         0.0   \n",
       " 59                          0.0                         0.0   \n",
       " 610                         0.0                         0.0   \n",
       " \n",
       "      Number of times pregnant_6  Number of times pregnant_7  \\\n",
       " 647                         0.0                         0.0   \n",
       " 58                          0.0                         0.0   \n",
       " 664                         1.0                         0.0   \n",
       " 532                         0.0                         0.0   \n",
       " 9                           0.0                         0.0   \n",
       " ..                          ...                         ...   \n",
       " 633                         0.0                         0.0   \n",
       " 670                         1.0                         0.0   \n",
       " 243                         1.0                         0.0   \n",
       " 59                          0.0                         0.0   \n",
       " 610                         0.0                         0.0   \n",
       " \n",
       "      Number of times pregnant_8  Number of times pregnant_9  \n",
       " 647                         0.0                         0.0  \n",
       " 58                          0.0                         0.0  \n",
       " 664                         0.0                         0.0  \n",
       " 532                         0.0                         0.0  \n",
       " 9                           1.0                         0.0  \n",
       " ..                          ...                         ...  \n",
       " 633                         0.0                         0.0  \n",
       " 670                         0.0                         0.0  \n",
       " 243                         0.0                         0.0  \n",
       " 59                          0.0                         0.0  \n",
       " 610                         0.0                         0.0  \n",
       " \n",
       " [231 rows x 24 columns],\n",
       " 505    0\n",
       " 640    0\n",
       " 584    1\n",
       " 644    0\n",
       " 315    0\n",
       "       ..\n",
       " 485    1\n",
       " 138    0\n",
       " 286    0\n",
       " 467    0\n",
       " 179    1\n",
       " Name: Class variable, Length: 537, dtype: int32,\n",
       " 647    1\n",
       " 58     0\n",
       " 664    1\n",
       " 532    0\n",
       " 9      1\n",
       "       ..\n",
       " 633    0\n",
       " 670    0\n",
       " 243    1\n",
       " 59     0\n",
       " 610    0\n",
       " Name: Class variable, Length: 231, dtype: int32,\n",
       " 2233,\n",
       " Pipeline(memory=None,\n",
       "          steps=[('dtypes',\n",
       "                  DataTypes_Auto_infer(categorical_features=[],\n",
       "                                       display_types=True, features_todrop=[],\n",
       "                                       ml_usecase='classification',\n",
       "                                       numerical_features=[],\n",
       "                                       target='Class variable',\n",
       "                                       time_features=[])),\n",
       "                 ('imputer',\n",
       "                  Simple_Imputer(categorical_strategy='not_available',\n",
       "                                 numeric_strategy='mean',\n",
       "                                 target_variable=None)),\n",
       "                 ('new_levels1',\n",
       "                  New_Catagori...\n",
       "                 ('group', Empty()), ('nonliner', Empty()), ('scaling', Empty()),\n",
       "                 ('P_transform', Empty()), ('pt_target', Empty()),\n",
       "                 ('binn', Empty()), ('rem_outliers', Empty()),\n",
       "                 ('cluster_all', Empty()),\n",
       "                 ('dummy', Dummify(target='Class variable')),\n",
       "                 ('fix_perfect', Empty()), ('clean_names', Clean_Colum_Names()),\n",
       "                 ('feature_select', Empty()), ('fix_multi', Empty()),\n",
       "                 ('dfs', Empty()), ('pca', Empty())],\n",
       "          verbose=False),\n",
       " [('Classification Setup Config',\n",
       "                         Description       Value\n",
       "   0                      session_id        2233\n",
       "   1                     Target Type      Binary\n",
       "   2                   Label Encoded  0: 0, 1: 1\n",
       "   3                   Original Data    (768, 9)\n",
       "   4                 Missing Values        False\n",
       "   5               Numeric Features            7\n",
       "   6           Categorical Features            1\n",
       "   7               Ordinal Features        False\n",
       "   8      High Cardinality Features        False\n",
       "   9        High Cardinality Method         None\n",
       "   10                   Sampled Data    (768, 9)\n",
       "   11          Transformed Train Set   (537, 24)\n",
       "   12           Transformed Test Set   (231, 24)\n",
       "   13               Numeric Imputer         mean\n",
       "   14           Categorical Imputer     constant\n",
       "   15                     Normalize        False\n",
       "   16              Normalize Method         None\n",
       "   17                Transformation        False\n",
       "   18         Transformation Method         None\n",
       "   19                           PCA        False\n",
       "   20                    PCA Method         None\n",
       "   21                PCA Components         None\n",
       "   22           Ignore Low Variance        False\n",
       "   23           Combine Rare Levels        False\n",
       "   24          Rare Level Threshold         None\n",
       "   25               Numeric Binning        False\n",
       "   26               Remove Outliers        False\n",
       "   27            Outliers Threshold         None\n",
       "   28      Remove Multicollinearity        False\n",
       "   29   Multicollinearity Threshold         None\n",
       "   30                    Clustering        False\n",
       "   31          Clustering Iteration         None\n",
       "   32           Polynomial Features        False\n",
       "   33             Polynomial Degree         None\n",
       "   34          Trignometry Features        False\n",
       "   35          Polynomial Threshold         None\n",
       "   36                Group Features        False\n",
       "   37             Feature Selection        False\n",
       "   38  Features Selection Threshold         None\n",
       "   39           Feature Interaction        False\n",
       "   40                 Feature Ratio        False\n",
       "   41         Interaction Threshold         None\n",
       "   42                  Fix Imbalance       False\n",
       "   43           Fix Imbalance Method       SMOTE),\n",
       "  ('X_training Set',\n",
       "        Plasma glucose concentration a 2 hours in an oral glucose tolerance test  \\\n",
       "   505                                               75.0                          \n",
       "   640                                              102.0                          \n",
       "   584                                              124.0                          \n",
       "   644                                              103.0                          \n",
       "   315                                              112.0                          \n",
       "   ..                                                 ...                          \n",
       "   485                                              135.0                          \n",
       "   138                                              129.0                          \n",
       "   286                                              155.0                          \n",
       "   467                                               97.0                          \n",
       "   179                                              130.0                          \n",
       "   \n",
       "        Diastolic blood pressure (mm Hg)  Triceps skin fold thickness (mm)  \\\n",
       "   505                              82.0                               0.0   \n",
       "   640                              86.0                              17.0   \n",
       "   584                              76.0                              24.0   \n",
       "   644                              72.0                              30.0   \n",
       "   315                              68.0                              22.0   \n",
       "   ..                                ...                               ...   \n",
       "   485                              68.0                              42.0   \n",
       "   138                              80.0                               0.0   \n",
       "   286                              84.0                              44.0   \n",
       "   467                              64.0                              36.0   \n",
       "   179                              82.0                               0.0   \n",
       "   \n",
       "        2-Hour serum insulin (mu U/ml)  \\\n",
       "   505                             0.0   \n",
       "   640                           105.0   \n",
       "   584                           600.0   \n",
       "   644                           152.0   \n",
       "   315                            94.0   \n",
       "   ..                              ...   \n",
       "   485                           250.0   \n",
       "   138                             0.0   \n",
       "   286                           545.0   \n",
       "   467                           100.0   \n",
       "   179                             0.0   \n",
       "   \n",
       "        Body mass index (weight in kg/(height in m)^2)  \\\n",
       "   505                                            33.3   \n",
       "   640                                            29.3   \n",
       "   584                                            28.7   \n",
       "   644                                            27.6   \n",
       "   315                                            34.1   \n",
       "   ..                                              ...   \n",
       "   485                                            42.3   \n",
       "   138                                            31.2   \n",
       "   286                                            38.7   \n",
       "   467                                            36.8   \n",
       "   179                                            39.1   \n",
       "   \n",
       "        Diabetes pedigree function  Age (years)  Number of times pregnant_0  \\\n",
       "   505                       0.263         38.0                         0.0   \n",
       "   640                       0.695         27.0                         1.0   \n",
       "   584                       0.687         52.0                         0.0   \n",
       "   644                       0.730         27.0                         0.0   \n",
       "   315                       0.315         26.0                         0.0   \n",
       "   ..                          ...          ...                         ...   \n",
       "   485                       0.365         24.0                         1.0   \n",
       "   138                       0.703         29.0                         1.0   \n",
       "   286                       0.619         34.0                         0.0   \n",
       "   467                       0.600         25.0                         1.0   \n",
       "   179                       0.956         37.0                         0.0   \n",
       "   \n",
       "        Number of times pregnant_1  Number of times pregnant_10  ...  \\\n",
       "   505                         0.0                          1.0  ...   \n",
       "   640                         0.0                          0.0  ...   \n",
       "   584                         0.0                          0.0  ...   \n",
       "   644                         0.0                          0.0  ...   \n",
       "   315                         0.0                          0.0  ...   \n",
       "   ..                          ...                          ...  ...   \n",
       "   485                         0.0                          0.0  ...   \n",
       "   138                         0.0                          0.0  ...   \n",
       "   286                         0.0                          0.0  ...   \n",
       "   467                         0.0                          0.0  ...   \n",
       "   179                         0.0                          0.0  ...   \n",
       "   \n",
       "        Number of times pregnant_15  Number of times pregnant_17  \\\n",
       "   505                          0.0                          0.0   \n",
       "   640                          0.0                          0.0   \n",
       "   584                          0.0                          0.0   \n",
       "   644                          0.0                          0.0   \n",
       "   315                          0.0                          0.0   \n",
       "   ..                           ...                          ...   \n",
       "   485                          0.0                          0.0   \n",
       "   138                          0.0                          0.0   \n",
       "   286                          0.0                          0.0   \n",
       "   467                          0.0                          0.0   \n",
       "   179                          0.0                          0.0   \n",
       "   \n",
       "        Number of times pregnant_2  Number of times pregnant_3  \\\n",
       "   505                         0.0                         0.0   \n",
       "   640                         0.0                         0.0   \n",
       "   584                         0.0                         0.0   \n",
       "   644                         0.0                         1.0   \n",
       "   315                         1.0                         0.0   \n",
       "   ..                          ...                         ...   \n",
       "   485                         0.0                         0.0   \n",
       "   138                         0.0                         0.0   \n",
       "   286                         0.0                         0.0   \n",
       "   467                         0.0                         0.0   \n",
       "   179                         0.0                         0.0   \n",
       "   \n",
       "        Number of times pregnant_4  Number of times pregnant_5  \\\n",
       "   505                         0.0                         0.0   \n",
       "   640                         0.0                         0.0   \n",
       "   584                         0.0                         0.0   \n",
       "   644                         0.0                         0.0   \n",
       "   315                         0.0                         0.0   \n",
       "   ..                          ...                         ...   \n",
       "   485                         0.0                         0.0   \n",
       "   138                         0.0                         0.0   \n",
       "   286                         0.0                         1.0   \n",
       "   467                         0.0                         0.0   \n",
       "   179                         0.0                         1.0   \n",
       "   \n",
       "        Number of times pregnant_6  Number of times pregnant_7  \\\n",
       "   505                         0.0                         0.0   \n",
       "   640                         0.0                         0.0   \n",
       "   584                         0.0                         0.0   \n",
       "   644                         0.0                         0.0   \n",
       "   315                         0.0                         0.0   \n",
       "   ..                          ...                         ...   \n",
       "   485                         0.0                         0.0   \n",
       "   138                         0.0                         0.0   \n",
       "   286                         0.0                         0.0   \n",
       "   467                         0.0                         0.0   \n",
       "   179                         0.0                         0.0   \n",
       "   \n",
       "        Number of times pregnant_8  Number of times pregnant_9  \n",
       "   505                         0.0                         0.0  \n",
       "   640                         0.0                         0.0  \n",
       "   584                         1.0                         0.0  \n",
       "   644                         0.0                         0.0  \n",
       "   315                         0.0                         0.0  \n",
       "   ..                          ...                         ...  \n",
       "   485                         0.0                         0.0  \n",
       "   138                         0.0                         0.0  \n",
       "   286                         0.0                         0.0  \n",
       "   467                         0.0                         0.0  \n",
       "   179                         0.0                         0.0  \n",
       "   \n",
       "   [537 rows x 24 columns]),\n",
       "  ('y_training Set',\n",
       "   505    0\n",
       "   640    0\n",
       "   584    1\n",
       "   644    0\n",
       "   315    0\n",
       "         ..\n",
       "   485    1\n",
       "   138    0\n",
       "   286    0\n",
       "   467    0\n",
       "   179    1\n",
       "   Name: Class variable, Length: 537, dtype: int32),\n",
       "  ('X_test Set',\n",
       "        Plasma glucose concentration a 2 hours in an oral glucose tolerance test  \\\n",
       "   647                                              179.0                          \n",
       "   58                                               146.0                          \n",
       "   664                                              115.0                          \n",
       "   532                                               86.0                          \n",
       "   9                                                125.0                          \n",
       "   ..                                                 ...                          \n",
       "   633                                              128.0                          \n",
       "   670                                              165.0                          \n",
       "   243                                              119.0                          \n",
       "   59                                               105.0                          \n",
       "   610                                              106.0                          \n",
       "   \n",
       "        Diastolic blood pressure (mm Hg)  Triceps skin fold thickness (mm)  \\\n",
       "   647                              50.0                              36.0   \n",
       "   58                               82.0                               0.0   \n",
       "   664                              60.0                              39.0   \n",
       "   532                              66.0                              52.0   \n",
       "   9                                96.0                               0.0   \n",
       "   ..                                ...                               ...   \n",
       "   633                              82.0                              17.0   \n",
       "   670                              68.0                              26.0   \n",
       "   243                              50.0                              22.0   \n",
       "   59                               64.0                              41.0   \n",
       "   610                              54.0                              21.0   \n",
       "   \n",
       "        2-Hour serum insulin (mu U/ml)  \\\n",
       "   647                           159.0   \n",
       "   58                              0.0   \n",
       "   664                             0.0   \n",
       "   532                            65.0   \n",
       "   9                               0.0   \n",
       "   ..                              ...   \n",
       "   633                           183.0   \n",
       "   670                           168.0   \n",
       "   243                           176.0   \n",
       "   59                            142.0   \n",
       "   610                           158.0   \n",
       "   \n",
       "        Body mass index (weight in kg/(height in m)^2)  \\\n",
       "   647                                            37.8   \n",
       "   58                                             40.5   \n",
       "   664                                            33.7   \n",
       "   532                                            41.3   \n",
       "   9                                               0.0   \n",
       "   ..                                              ...   \n",
       "   633                                            27.5   \n",
       "   670                                            33.6   \n",
       "   243                                            27.1   \n",
       "   59                                             41.5   \n",
       "   610                                            30.9   \n",
       "   \n",
       "        Diabetes pedigree function  Age (years)  Number of times pregnant_0  \\\n",
       "   647                       0.455         22.0                         1.0   \n",
       "   58                        1.781         44.0                         1.0   \n",
       "   664                       0.245         40.0                         0.0   \n",
       "   532                       0.917         29.0                         0.0   \n",
       "   9                         0.232         54.0                         0.0   \n",
       "   ..                          ...          ...                         ...   \n",
       "   633                       0.115         22.0                         0.0   \n",
       "   670                       0.631         49.0                         0.0   \n",
       "   243                       1.318         33.0                         0.0   \n",
       "   59                        0.173         22.0                         1.0   \n",
       "   610                       0.292         24.0                         0.0   \n",
       "   \n",
       "        Number of times pregnant_1  Number of times pregnant_10  ...  \\\n",
       "   647                         0.0                          0.0  ...   \n",
       "   58                          0.0                          0.0  ...   \n",
       "   664                         0.0                          0.0  ...   \n",
       "   532                         1.0                          0.0  ...   \n",
       "   9                           0.0                          0.0  ...   \n",
       "   ..                          ...                          ...  ...   \n",
       "   633                         1.0                          0.0  ...   \n",
       "   670                         0.0                          0.0  ...   \n",
       "   243                         0.0                          0.0  ...   \n",
       "   59                          0.0                          0.0  ...   \n",
       "   610                         0.0                          0.0  ...   \n",
       "   \n",
       "        Number of times pregnant_15  Number of times pregnant_17  \\\n",
       "   647                          0.0                          0.0   \n",
       "   58                           0.0                          0.0   \n",
       "   664                          0.0                          0.0   \n",
       "   532                          0.0                          0.0   \n",
       "   9                            0.0                          0.0   \n",
       "   ..                           ...                          ...   \n",
       "   633                          0.0                          0.0   \n",
       "   670                          0.0                          0.0   \n",
       "   243                          0.0                          0.0   \n",
       "   59                           0.0                          0.0   \n",
       "   610                          0.0                          0.0   \n",
       "   \n",
       "        Number of times pregnant_2  Number of times pregnant_3  \\\n",
       "   647                         0.0                         0.0   \n",
       "   58                          0.0                         0.0   \n",
       "   664                         0.0                         0.0   \n",
       "   532                         0.0                         0.0   \n",
       "   9                           0.0                         0.0   \n",
       "   ..                          ...                         ...   \n",
       "   633                         0.0                         0.0   \n",
       "   670                         0.0                         0.0   \n",
       "   243                         0.0                         0.0   \n",
       "   59                          0.0                         0.0   \n",
       "   610                         0.0                         1.0   \n",
       "   \n",
       "        Number of times pregnant_4  Number of times pregnant_5  \\\n",
       "   647                         0.0                         0.0   \n",
       "   58                          0.0                         0.0   \n",
       "   664                         0.0                         0.0   \n",
       "   532                         0.0                         0.0   \n",
       "   9                           0.0                         0.0   \n",
       "   ..                          ...                         ...   \n",
       "   633                         0.0                         0.0   \n",
       "   670                         0.0                         0.0   \n",
       "   243                         0.0                         0.0   \n",
       "   59                          0.0                         0.0   \n",
       "   610                         0.0                         0.0   \n",
       "   \n",
       "        Number of times pregnant_6  Number of times pregnant_7  \\\n",
       "   647                         0.0                         0.0   \n",
       "   58                          0.0                         0.0   \n",
       "   664                         1.0                         0.0   \n",
       "   532                         0.0                         0.0   \n",
       "   9                           0.0                         0.0   \n",
       "   ..                          ...                         ...   \n",
       "   633                         0.0                         0.0   \n",
       "   670                         1.0                         0.0   \n",
       "   243                         1.0                         0.0   \n",
       "   59                          0.0                         0.0   \n",
       "   610                         0.0                         0.0   \n",
       "   \n",
       "        Number of times pregnant_8  Number of times pregnant_9  \n",
       "   647                         0.0                         0.0  \n",
       "   58                          0.0                         0.0  \n",
       "   664                         0.0                         0.0  \n",
       "   532                         0.0                         0.0  \n",
       "   9                           1.0                         0.0  \n",
       "   ..                          ...                         ...  \n",
       "   633                         0.0                         0.0  \n",
       "   670                         0.0                         0.0  \n",
       "   243                         0.0                         0.0  \n",
       "   59                          0.0                         0.0  \n",
       "   610                         0.0                         0.0  \n",
       "   \n",
       "   [231 rows x 24 columns]),\n",
       "  ('y_test Set',\n",
       "   647    1\n",
       "   58     0\n",
       "   664    1\n",
       "   532    0\n",
       "   9      1\n",
       "         ..\n",
       "   633    0\n",
       "   670    0\n",
       "   243    1\n",
       "   59     0\n",
       "   610    0\n",
       "   Name: Class variable, Length: 231, dtype: int32),\n",
       "  ('Transformation Pipeline',\n",
       "   Pipeline(memory=None,\n",
       "            steps=[('dtypes',\n",
       "                    DataTypes_Auto_infer(categorical_features=[],\n",
       "                                         display_types=True, features_todrop=[],\n",
       "                                         ml_usecase='classification',\n",
       "                                         numerical_features=[],\n",
       "                                         target='Class variable',\n",
       "                                         time_features=[])),\n",
       "                   ('imputer',\n",
       "                    Simple_Imputer(categorical_strategy='not_available',\n",
       "                                   numeric_strategy='mean',\n",
       "                                   target_variable=None)),\n",
       "                   ('new_levels1',\n",
       "                    New_Catagori...\n",
       "                   ('group', Empty()), ('nonliner', Empty()), ('scaling', Empty()),\n",
       "                   ('P_transform', Empty()), ('pt_target', Empty()),\n",
       "                   ('binn', Empty()), ('rem_outliers', Empty()),\n",
       "                   ('cluster_all', Empty()),\n",
       "                   ('dummy', Dummify(target='Class variable')),\n",
       "                   ('fix_perfect', Empty()), ('clean_names', Clean_Colum_Names()),\n",
       "                   ('feature_select', Empty()), ('fix_multi', Empty()),\n",
       "                   ('dfs', Empty()), ('pca', Empty())],\n",
       "            verbose=False))],\n",
       " False,\n",
       " -1,\n",
       " True,\n",
       " [],\n",
       " [],\n",
       " [],\n",
       " 'no_logging',\n",
       " False,\n",
       " False,\n",
       " 'd2a2',\n",
       " False,\n",
       " None,\n",
       " <Logger logs (DEBUG)>,\n",
       "      Number of times pregnant  \\\n",
       " 0                           6   \n",
       " 1                           1   \n",
       " 2                           8   \n",
       " 3                           1   \n",
       " 4                           0   \n",
       " ..                        ...   \n",
       " 763                        10   \n",
       " 764                         2   \n",
       " 765                         5   \n",
       " 766                         1   \n",
       " 767                         1   \n",
       " \n",
       "      Plasma glucose concentration a 2 hours in an oral glucose tolerance test  \\\n",
       " 0                                                  148                          \n",
       " 1                                                   85                          \n",
       " 2                                                  183                          \n",
       " 3                                                   89                          \n",
       " 4                                                  137                          \n",
       " ..                                                 ...                          \n",
       " 763                                                101                          \n",
       " 764                                                122                          \n",
       " 765                                                121                          \n",
       " 766                                                126                          \n",
       " 767                                                 93                          \n",
       " \n",
       "      Diastolic blood pressure (mm Hg)  Triceps skin fold thickness (mm)  \\\n",
       " 0                                  72                                35   \n",
       " 1                                  66                                29   \n",
       " 2                                  64                                 0   \n",
       " 3                                  66                                23   \n",
       " 4                                  40                                35   \n",
       " ..                                ...                               ...   \n",
       " 763                                76                                48   \n",
       " 764                                70                                27   \n",
       " 765                                72                                23   \n",
       " 766                                60                                 0   \n",
       " 767                                70                                31   \n",
       " \n",
       "      2-Hour serum insulin (mu U/ml)  \\\n",
       " 0                                 0   \n",
       " 1                                 0   \n",
       " 2                                 0   \n",
       " 3                                94   \n",
       " 4                               168   \n",
       " ..                              ...   \n",
       " 763                             180   \n",
       " 764                               0   \n",
       " 765                             112   \n",
       " 766                               0   \n",
       " 767                               0   \n",
       " \n",
       "      Body mass index (weight in kg/(height in m)^2)  \\\n",
       " 0                                              33.6   \n",
       " 1                                              26.6   \n",
       " 2                                              23.3   \n",
       " 3                                              28.1   \n",
       " 4                                              43.1   \n",
       " ..                                              ...   \n",
       " 763                                            32.9   \n",
       " 764                                            36.8   \n",
       " 765                                            26.2   \n",
       " 766                                            30.1   \n",
       " 767                                            30.4   \n",
       " \n",
       "      Diabetes pedigree function  Age (years)  Class variable  \n",
       " 0                         0.627           50               1  \n",
       " 1                         0.351           31               0  \n",
       " 2                         0.672           32               1  \n",
       " 3                         0.167           21               0  \n",
       " 4                         2.288           33               1  \n",
       " ..                          ...          ...             ...  \n",
       " 763                       0.171           63               0  \n",
       " 764                       0.340           27               0  \n",
       " 765                       0.245           30               0  \n",
       " 766                       0.349           47               1  \n",
       " 767                       0.315           23               0  \n",
       " \n",
       " [768 rows x 9 columns],\n",
       " 'Class variable',\n",
       " False)"
      ]
     },
     "execution_count": 28,
     "metadata": {},
     "output_type": "execute_result"
    }
   ],
   "source": [
    "setup(data = dataset, target='Class variable')"
   ]
  },
  {
   "cell_type": "code",
   "execution_count": 32,
   "metadata": {},
   "outputs": [
    {
     "data": {
      "text/html": [
       "<style  type=\"text/css\" >\n",
       "    #T_6be52c4c_349f_11eb_a320_e23c87d3252e th {\n",
       "          text-align: left;\n",
       "    }    #T_6be52c4c_349f_11eb_a320_e23c87d3252erow0_col0 {\n",
       "            text-align:  left;\n",
       "        }    #T_6be52c4c_349f_11eb_a320_e23c87d3252erow0_col1 {\n",
       "            background-color:  yellow;\n",
       "            text-align:  left;\n",
       "        }    #T_6be52c4c_349f_11eb_a320_e23c87d3252erow0_col2 {\n",
       "            : ;\n",
       "            text-align:  left;\n",
       "        }    #T_6be52c4c_349f_11eb_a320_e23c87d3252erow0_col3 {\n",
       "            : ;\n",
       "            text-align:  left;\n",
       "        }    #T_6be52c4c_349f_11eb_a320_e23c87d3252erow0_col4 {\n",
       "            : ;\n",
       "            text-align:  left;\n",
       "        }    #T_6be52c4c_349f_11eb_a320_e23c87d3252erow0_col5 {\n",
       "            : ;\n",
       "            text-align:  left;\n",
       "        }    #T_6be52c4c_349f_11eb_a320_e23c87d3252erow0_col6 {\n",
       "            : ;\n",
       "            text-align:  left;\n",
       "        }    #T_6be52c4c_349f_11eb_a320_e23c87d3252erow0_col7 {\n",
       "            : ;\n",
       "            text-align:  left;\n",
       "        }    #T_6be52c4c_349f_11eb_a320_e23c87d3252erow0_col8 {\n",
       "            background-color:  lightgrey;\n",
       "            text-align:  left;\n",
       "        }    #T_6be52c4c_349f_11eb_a320_e23c87d3252erow1_col0 {\n",
       "            text-align:  left;\n",
       "        }    #T_6be52c4c_349f_11eb_a320_e23c87d3252erow1_col1 {\n",
       "            : ;\n",
       "            text-align:  left;\n",
       "        }    #T_6be52c4c_349f_11eb_a320_e23c87d3252erow1_col2 {\n",
       "            : ;\n",
       "            text-align:  left;\n",
       "        }    #T_6be52c4c_349f_11eb_a320_e23c87d3252erow1_col3 {\n",
       "            : ;\n",
       "            text-align:  left;\n",
       "        }    #T_6be52c4c_349f_11eb_a320_e23c87d3252erow1_col4 {\n",
       "            background-color:  yellow;\n",
       "            text-align:  left;\n",
       "        }    #T_6be52c4c_349f_11eb_a320_e23c87d3252erow1_col5 {\n",
       "            : ;\n",
       "            text-align:  left;\n",
       "        }    #T_6be52c4c_349f_11eb_a320_e23c87d3252erow1_col6 {\n",
       "            : ;\n",
       "            text-align:  left;\n",
       "        }    #T_6be52c4c_349f_11eb_a320_e23c87d3252erow1_col7 {\n",
       "            : ;\n",
       "            text-align:  left;\n",
       "        }    #T_6be52c4c_349f_11eb_a320_e23c87d3252erow1_col8 {\n",
       "            background-color:  lightgrey;\n",
       "            text-align:  left;\n",
       "        }    #T_6be52c4c_349f_11eb_a320_e23c87d3252erow2_col0 {\n",
       "            text-align:  left;\n",
       "        }    #T_6be52c4c_349f_11eb_a320_e23c87d3252erow2_col1 {\n",
       "            : ;\n",
       "            text-align:  left;\n",
       "        }    #T_6be52c4c_349f_11eb_a320_e23c87d3252erow2_col2 {\n",
       "            background-color:  yellow;\n",
       "            text-align:  left;\n",
       "        }    #T_6be52c4c_349f_11eb_a320_e23c87d3252erow2_col3 {\n",
       "            : ;\n",
       "            text-align:  left;\n",
       "        }    #T_6be52c4c_349f_11eb_a320_e23c87d3252erow2_col4 {\n",
       "            : ;\n",
       "            text-align:  left;\n",
       "        }    #T_6be52c4c_349f_11eb_a320_e23c87d3252erow2_col5 {\n",
       "            background-color:  yellow;\n",
       "            text-align:  left;\n",
       "        }    #T_6be52c4c_349f_11eb_a320_e23c87d3252erow2_col6 {\n",
       "            background-color:  yellow;\n",
       "            text-align:  left;\n",
       "        }    #T_6be52c4c_349f_11eb_a320_e23c87d3252erow2_col7 {\n",
       "            background-color:  yellow;\n",
       "            text-align:  left;\n",
       "        }    #T_6be52c4c_349f_11eb_a320_e23c87d3252erow2_col8 {\n",
       "            background-color:  lightgrey;\n",
       "            text-align:  left;\n",
       "        }    #T_6be52c4c_349f_11eb_a320_e23c87d3252erow3_col0 {\n",
       "            text-align:  left;\n",
       "        }    #T_6be52c4c_349f_11eb_a320_e23c87d3252erow3_col1 {\n",
       "            : ;\n",
       "            text-align:  left;\n",
       "        }    #T_6be52c4c_349f_11eb_a320_e23c87d3252erow3_col2 {\n",
       "            : ;\n",
       "            text-align:  left;\n",
       "        }    #T_6be52c4c_349f_11eb_a320_e23c87d3252erow3_col3 {\n",
       "            : ;\n",
       "            text-align:  left;\n",
       "        }    #T_6be52c4c_349f_11eb_a320_e23c87d3252erow3_col4 {\n",
       "            : ;\n",
       "            text-align:  left;\n",
       "        }    #T_6be52c4c_349f_11eb_a320_e23c87d3252erow3_col5 {\n",
       "            : ;\n",
       "            text-align:  left;\n",
       "        }    #T_6be52c4c_349f_11eb_a320_e23c87d3252erow3_col6 {\n",
       "            : ;\n",
       "            text-align:  left;\n",
       "        }    #T_6be52c4c_349f_11eb_a320_e23c87d3252erow3_col7 {\n",
       "            : ;\n",
       "            text-align:  left;\n",
       "        }    #T_6be52c4c_349f_11eb_a320_e23c87d3252erow3_col8 {\n",
       "            background-color:  lightgrey;\n",
       "            text-align:  left;\n",
       "        }    #T_6be52c4c_349f_11eb_a320_e23c87d3252erow4_col0 {\n",
       "            text-align:  left;\n",
       "        }    #T_6be52c4c_349f_11eb_a320_e23c87d3252erow4_col1 {\n",
       "            : ;\n",
       "            text-align:  left;\n",
       "        }    #T_6be52c4c_349f_11eb_a320_e23c87d3252erow4_col2 {\n",
       "            : ;\n",
       "            text-align:  left;\n",
       "        }    #T_6be52c4c_349f_11eb_a320_e23c87d3252erow4_col3 {\n",
       "            background-color:  yellow;\n",
       "            text-align:  left;\n",
       "        }    #T_6be52c4c_349f_11eb_a320_e23c87d3252erow4_col4 {\n",
       "            : ;\n",
       "            text-align:  left;\n",
       "        }    #T_6be52c4c_349f_11eb_a320_e23c87d3252erow4_col5 {\n",
       "            : ;\n",
       "            text-align:  left;\n",
       "        }    #T_6be52c4c_349f_11eb_a320_e23c87d3252erow4_col6 {\n",
       "            : ;\n",
       "            text-align:  left;\n",
       "        }    #T_6be52c4c_349f_11eb_a320_e23c87d3252erow4_col7 {\n",
       "            : ;\n",
       "            text-align:  left;\n",
       "        }    #T_6be52c4c_349f_11eb_a320_e23c87d3252erow4_col8 {\n",
       "            background-color:  lightgrey;\n",
       "            text-align:  left;\n",
       "        }    #T_6be52c4c_349f_11eb_a320_e23c87d3252erow5_col0 {\n",
       "            text-align:  left;\n",
       "        }    #T_6be52c4c_349f_11eb_a320_e23c87d3252erow5_col1 {\n",
       "            : ;\n",
       "            text-align:  left;\n",
       "        }    #T_6be52c4c_349f_11eb_a320_e23c87d3252erow5_col2 {\n",
       "            : ;\n",
       "            text-align:  left;\n",
       "        }    #T_6be52c4c_349f_11eb_a320_e23c87d3252erow5_col3 {\n",
       "            : ;\n",
       "            text-align:  left;\n",
       "        }    #T_6be52c4c_349f_11eb_a320_e23c87d3252erow5_col4 {\n",
       "            : ;\n",
       "            text-align:  left;\n",
       "        }    #T_6be52c4c_349f_11eb_a320_e23c87d3252erow5_col5 {\n",
       "            : ;\n",
       "            text-align:  left;\n",
       "        }    #T_6be52c4c_349f_11eb_a320_e23c87d3252erow5_col6 {\n",
       "            : ;\n",
       "            text-align:  left;\n",
       "        }    #T_6be52c4c_349f_11eb_a320_e23c87d3252erow5_col7 {\n",
       "            : ;\n",
       "            text-align:  left;\n",
       "        }    #T_6be52c4c_349f_11eb_a320_e23c87d3252erow5_col8 {\n",
       "            background-color:  lightgrey;\n",
       "            text-align:  left;\n",
       "        }    #T_6be52c4c_349f_11eb_a320_e23c87d3252erow6_col0 {\n",
       "            text-align:  left;\n",
       "        }    #T_6be52c4c_349f_11eb_a320_e23c87d3252erow6_col1 {\n",
       "            : ;\n",
       "            text-align:  left;\n",
       "        }    #T_6be52c4c_349f_11eb_a320_e23c87d3252erow6_col2 {\n",
       "            : ;\n",
       "            text-align:  left;\n",
       "        }    #T_6be52c4c_349f_11eb_a320_e23c87d3252erow6_col3 {\n",
       "            : ;\n",
       "            text-align:  left;\n",
       "        }    #T_6be52c4c_349f_11eb_a320_e23c87d3252erow6_col4 {\n",
       "            : ;\n",
       "            text-align:  left;\n",
       "        }    #T_6be52c4c_349f_11eb_a320_e23c87d3252erow6_col5 {\n",
       "            : ;\n",
       "            text-align:  left;\n",
       "        }    #T_6be52c4c_349f_11eb_a320_e23c87d3252erow6_col6 {\n",
       "            : ;\n",
       "            text-align:  left;\n",
       "        }    #T_6be52c4c_349f_11eb_a320_e23c87d3252erow6_col7 {\n",
       "            : ;\n",
       "            text-align:  left;\n",
       "        }    #T_6be52c4c_349f_11eb_a320_e23c87d3252erow6_col8 {\n",
       "            background-color:  lightgrey;\n",
       "            text-align:  left;\n",
       "        }    #T_6be52c4c_349f_11eb_a320_e23c87d3252erow7_col0 {\n",
       "            text-align:  left;\n",
       "        }    #T_6be52c4c_349f_11eb_a320_e23c87d3252erow7_col1 {\n",
       "            : ;\n",
       "            text-align:  left;\n",
       "        }    #T_6be52c4c_349f_11eb_a320_e23c87d3252erow7_col2 {\n",
       "            : ;\n",
       "            text-align:  left;\n",
       "        }    #T_6be52c4c_349f_11eb_a320_e23c87d3252erow7_col3 {\n",
       "            : ;\n",
       "            text-align:  left;\n",
       "        }    #T_6be52c4c_349f_11eb_a320_e23c87d3252erow7_col4 {\n",
       "            : ;\n",
       "            text-align:  left;\n",
       "        }    #T_6be52c4c_349f_11eb_a320_e23c87d3252erow7_col5 {\n",
       "            : ;\n",
       "            text-align:  left;\n",
       "        }    #T_6be52c4c_349f_11eb_a320_e23c87d3252erow7_col6 {\n",
       "            : ;\n",
       "            text-align:  left;\n",
       "        }    #T_6be52c4c_349f_11eb_a320_e23c87d3252erow7_col7 {\n",
       "            : ;\n",
       "            text-align:  left;\n",
       "        }    #T_6be52c4c_349f_11eb_a320_e23c87d3252erow7_col8 {\n",
       "            background-color:  lightgrey;\n",
       "            text-align:  left;\n",
       "        }    #T_6be52c4c_349f_11eb_a320_e23c87d3252erow8_col0 {\n",
       "            text-align:  left;\n",
       "        }    #T_6be52c4c_349f_11eb_a320_e23c87d3252erow8_col1 {\n",
       "            : ;\n",
       "            text-align:  left;\n",
       "        }    #T_6be52c4c_349f_11eb_a320_e23c87d3252erow8_col2 {\n",
       "            : ;\n",
       "            text-align:  left;\n",
       "        }    #T_6be52c4c_349f_11eb_a320_e23c87d3252erow8_col3 {\n",
       "            : ;\n",
       "            text-align:  left;\n",
       "        }    #T_6be52c4c_349f_11eb_a320_e23c87d3252erow8_col4 {\n",
       "            : ;\n",
       "            text-align:  left;\n",
       "        }    #T_6be52c4c_349f_11eb_a320_e23c87d3252erow8_col5 {\n",
       "            : ;\n",
       "            text-align:  left;\n",
       "        }    #T_6be52c4c_349f_11eb_a320_e23c87d3252erow8_col6 {\n",
       "            : ;\n",
       "            text-align:  left;\n",
       "        }    #T_6be52c4c_349f_11eb_a320_e23c87d3252erow8_col7 {\n",
       "            : ;\n",
       "            text-align:  left;\n",
       "        }    #T_6be52c4c_349f_11eb_a320_e23c87d3252erow8_col8 {\n",
       "            background-color:  lightgrey;\n",
       "            text-align:  left;\n",
       "        }    #T_6be52c4c_349f_11eb_a320_e23c87d3252erow9_col0 {\n",
       "            text-align:  left;\n",
       "        }    #T_6be52c4c_349f_11eb_a320_e23c87d3252erow9_col1 {\n",
       "            : ;\n",
       "            text-align:  left;\n",
       "        }    #T_6be52c4c_349f_11eb_a320_e23c87d3252erow9_col2 {\n",
       "            : ;\n",
       "            text-align:  left;\n",
       "        }    #T_6be52c4c_349f_11eb_a320_e23c87d3252erow9_col3 {\n",
       "            : ;\n",
       "            text-align:  left;\n",
       "        }    #T_6be52c4c_349f_11eb_a320_e23c87d3252erow9_col4 {\n",
       "            : ;\n",
       "            text-align:  left;\n",
       "        }    #T_6be52c4c_349f_11eb_a320_e23c87d3252erow9_col5 {\n",
       "            : ;\n",
       "            text-align:  left;\n",
       "        }    #T_6be52c4c_349f_11eb_a320_e23c87d3252erow9_col6 {\n",
       "            : ;\n",
       "            text-align:  left;\n",
       "        }    #T_6be52c4c_349f_11eb_a320_e23c87d3252erow9_col7 {\n",
       "            : ;\n",
       "            text-align:  left;\n",
       "        }    #T_6be52c4c_349f_11eb_a320_e23c87d3252erow9_col8 {\n",
       "            background-color:  lightgrey;\n",
       "            text-align:  left;\n",
       "        }    #T_6be52c4c_349f_11eb_a320_e23c87d3252erow10_col0 {\n",
       "            text-align:  left;\n",
       "        }    #T_6be52c4c_349f_11eb_a320_e23c87d3252erow10_col1 {\n",
       "            : ;\n",
       "            text-align:  left;\n",
       "        }    #T_6be52c4c_349f_11eb_a320_e23c87d3252erow10_col2 {\n",
       "            : ;\n",
       "            text-align:  left;\n",
       "        }    #T_6be52c4c_349f_11eb_a320_e23c87d3252erow10_col3 {\n",
       "            : ;\n",
       "            text-align:  left;\n",
       "        }    #T_6be52c4c_349f_11eb_a320_e23c87d3252erow10_col4 {\n",
       "            : ;\n",
       "            text-align:  left;\n",
       "        }    #T_6be52c4c_349f_11eb_a320_e23c87d3252erow10_col5 {\n",
       "            : ;\n",
       "            text-align:  left;\n",
       "        }    #T_6be52c4c_349f_11eb_a320_e23c87d3252erow10_col6 {\n",
       "            : ;\n",
       "            text-align:  left;\n",
       "        }    #T_6be52c4c_349f_11eb_a320_e23c87d3252erow10_col7 {\n",
       "            : ;\n",
       "            text-align:  left;\n",
       "        }    #T_6be52c4c_349f_11eb_a320_e23c87d3252erow10_col8 {\n",
       "            background-color:  lightgrey;\n",
       "            text-align:  left;\n",
       "        }    #T_6be52c4c_349f_11eb_a320_e23c87d3252erow11_col0 {\n",
       "            text-align:  left;\n",
       "        }    #T_6be52c4c_349f_11eb_a320_e23c87d3252erow11_col1 {\n",
       "            : ;\n",
       "            text-align:  left;\n",
       "        }    #T_6be52c4c_349f_11eb_a320_e23c87d3252erow11_col2 {\n",
       "            : ;\n",
       "            text-align:  left;\n",
       "        }    #T_6be52c4c_349f_11eb_a320_e23c87d3252erow11_col3 {\n",
       "            : ;\n",
       "            text-align:  left;\n",
       "        }    #T_6be52c4c_349f_11eb_a320_e23c87d3252erow11_col4 {\n",
       "            : ;\n",
       "            text-align:  left;\n",
       "        }    #T_6be52c4c_349f_11eb_a320_e23c87d3252erow11_col5 {\n",
       "            : ;\n",
       "            text-align:  left;\n",
       "        }    #T_6be52c4c_349f_11eb_a320_e23c87d3252erow11_col6 {\n",
       "            : ;\n",
       "            text-align:  left;\n",
       "        }    #T_6be52c4c_349f_11eb_a320_e23c87d3252erow11_col7 {\n",
       "            : ;\n",
       "            text-align:  left;\n",
       "        }    #T_6be52c4c_349f_11eb_a320_e23c87d3252erow11_col8 {\n",
       "            background-color:  lightgrey;\n",
       "            text-align:  left;\n",
       "        }    #T_6be52c4c_349f_11eb_a320_e23c87d3252erow12_col0 {\n",
       "            text-align:  left;\n",
       "        }    #T_6be52c4c_349f_11eb_a320_e23c87d3252erow12_col1 {\n",
       "            : ;\n",
       "            text-align:  left;\n",
       "        }    #T_6be52c4c_349f_11eb_a320_e23c87d3252erow12_col2 {\n",
       "            : ;\n",
       "            text-align:  left;\n",
       "        }    #T_6be52c4c_349f_11eb_a320_e23c87d3252erow12_col3 {\n",
       "            : ;\n",
       "            text-align:  left;\n",
       "        }    #T_6be52c4c_349f_11eb_a320_e23c87d3252erow12_col4 {\n",
       "            : ;\n",
       "            text-align:  left;\n",
       "        }    #T_6be52c4c_349f_11eb_a320_e23c87d3252erow12_col5 {\n",
       "            : ;\n",
       "            text-align:  left;\n",
       "        }    #T_6be52c4c_349f_11eb_a320_e23c87d3252erow12_col6 {\n",
       "            : ;\n",
       "            text-align:  left;\n",
       "        }    #T_6be52c4c_349f_11eb_a320_e23c87d3252erow12_col7 {\n",
       "            : ;\n",
       "            text-align:  left;\n",
       "        }    #T_6be52c4c_349f_11eb_a320_e23c87d3252erow12_col8 {\n",
       "            background-color:  lightgrey;\n",
       "            text-align:  left;\n",
       "        }    #T_6be52c4c_349f_11eb_a320_e23c87d3252erow13_col0 {\n",
       "            text-align:  left;\n",
       "        }    #T_6be52c4c_349f_11eb_a320_e23c87d3252erow13_col1 {\n",
       "            : ;\n",
       "            text-align:  left;\n",
       "        }    #T_6be52c4c_349f_11eb_a320_e23c87d3252erow13_col2 {\n",
       "            : ;\n",
       "            text-align:  left;\n",
       "        }    #T_6be52c4c_349f_11eb_a320_e23c87d3252erow13_col3 {\n",
       "            : ;\n",
       "            text-align:  left;\n",
       "        }    #T_6be52c4c_349f_11eb_a320_e23c87d3252erow13_col4 {\n",
       "            : ;\n",
       "            text-align:  left;\n",
       "        }    #T_6be52c4c_349f_11eb_a320_e23c87d3252erow13_col5 {\n",
       "            : ;\n",
       "            text-align:  left;\n",
       "        }    #T_6be52c4c_349f_11eb_a320_e23c87d3252erow13_col6 {\n",
       "            : ;\n",
       "            text-align:  left;\n",
       "        }    #T_6be52c4c_349f_11eb_a320_e23c87d3252erow13_col7 {\n",
       "            : ;\n",
       "            text-align:  left;\n",
       "        }    #T_6be52c4c_349f_11eb_a320_e23c87d3252erow13_col8 {\n",
       "            background-color:  lightgrey;\n",
       "            text-align:  left;\n",
       "        }    #T_6be52c4c_349f_11eb_a320_e23c87d3252erow14_col0 {\n",
       "            text-align:  left;\n",
       "        }    #T_6be52c4c_349f_11eb_a320_e23c87d3252erow14_col1 {\n",
       "            : ;\n",
       "            text-align:  left;\n",
       "        }    #T_6be52c4c_349f_11eb_a320_e23c87d3252erow14_col2 {\n",
       "            : ;\n",
       "            text-align:  left;\n",
       "        }    #T_6be52c4c_349f_11eb_a320_e23c87d3252erow14_col3 {\n",
       "            : ;\n",
       "            text-align:  left;\n",
       "        }    #T_6be52c4c_349f_11eb_a320_e23c87d3252erow14_col4 {\n",
       "            : ;\n",
       "            text-align:  left;\n",
       "        }    #T_6be52c4c_349f_11eb_a320_e23c87d3252erow14_col5 {\n",
       "            : ;\n",
       "            text-align:  left;\n",
       "        }    #T_6be52c4c_349f_11eb_a320_e23c87d3252erow14_col6 {\n",
       "            : ;\n",
       "            text-align:  left;\n",
       "        }    #T_6be52c4c_349f_11eb_a320_e23c87d3252erow14_col7 {\n",
       "            : ;\n",
       "            text-align:  left;\n",
       "        }    #T_6be52c4c_349f_11eb_a320_e23c87d3252erow14_col8 {\n",
       "            background-color:  lightgrey;\n",
       "            text-align:  left;\n",
       "        }</style><table id=\"T_6be52c4c_349f_11eb_a320_e23c87d3252e\" ><thead>    <tr>        <th class=\"blank level0\" ></th>        <th class=\"col_heading level0 col0\" >Model</th>        <th class=\"col_heading level0 col1\" >Accuracy</th>        <th class=\"col_heading level0 col2\" >AUC</th>        <th class=\"col_heading level0 col3\" >Recall</th>        <th class=\"col_heading level0 col4\" >Prec.</th>        <th class=\"col_heading level0 col5\" >F1</th>        <th class=\"col_heading level0 col6\" >Kappa</th>        <th class=\"col_heading level0 col7\" >MCC</th>        <th class=\"col_heading level0 col8\" >TT (Sec)</th>    </tr></thead><tbody>\n",
       "                <tr>\n",
       "                        <th id=\"T_6be52c4c_349f_11eb_a320_e23c87d3252elevel0_row0\" class=\"row_heading level0 row0\" >0</th>\n",
       "                        <td id=\"T_6be52c4c_349f_11eb_a320_e23c87d3252erow0_col0\" class=\"data row0 col0\" >Logistic Regression</td>\n",
       "                        <td id=\"T_6be52c4c_349f_11eb_a320_e23c87d3252erow0_col1\" class=\"data row0 col1\" >0.7635</td>\n",
       "                        <td id=\"T_6be52c4c_349f_11eb_a320_e23c87d3252erow0_col2\" class=\"data row0 col2\" >0.8198</td>\n",
       "                        <td id=\"T_6be52c4c_349f_11eb_a320_e23c87d3252erow0_col3\" class=\"data row0 col3\" >0.5670</td>\n",
       "                        <td id=\"T_6be52c4c_349f_11eb_a320_e23c87d3252erow0_col4\" class=\"data row0 col4\" >0.6980</td>\n",
       "                        <td id=\"T_6be52c4c_349f_11eb_a320_e23c87d3252erow0_col5\" class=\"data row0 col5\" >0.6190</td>\n",
       "                        <td id=\"T_6be52c4c_349f_11eb_a320_e23c87d3252erow0_col6\" class=\"data row0 col6\" >0.4523</td>\n",
       "                        <td id=\"T_6be52c4c_349f_11eb_a320_e23c87d3252erow0_col7\" class=\"data row0 col7\" >0.4615</td>\n",
       "                        <td id=\"T_6be52c4c_349f_11eb_a320_e23c87d3252erow0_col8\" class=\"data row0 col8\" >0.1750</td>\n",
       "            </tr>\n",
       "            <tr>\n",
       "                        <th id=\"T_6be52c4c_349f_11eb_a320_e23c87d3252elevel0_row1\" class=\"row_heading level0 row1\" >1</th>\n",
       "                        <td id=\"T_6be52c4c_349f_11eb_a320_e23c87d3252erow1_col0\" class=\"data row1 col0\" >Ridge Classifier</td>\n",
       "                        <td id=\"T_6be52c4c_349f_11eb_a320_e23c87d3252erow1_col1\" class=\"data row1 col1\" >0.7599</td>\n",
       "                        <td id=\"T_6be52c4c_349f_11eb_a320_e23c87d3252erow1_col2\" class=\"data row1 col2\" >0.0000</td>\n",
       "                        <td id=\"T_6be52c4c_349f_11eb_a320_e23c87d3252erow1_col3\" class=\"data row1 col3\" >0.5512</td>\n",
       "                        <td id=\"T_6be52c4c_349f_11eb_a320_e23c87d3252erow1_col4\" class=\"data row1 col4\" >0.7024</td>\n",
       "                        <td id=\"T_6be52c4c_349f_11eb_a320_e23c87d3252erow1_col5\" class=\"data row1 col5\" >0.6118</td>\n",
       "                        <td id=\"T_6be52c4c_349f_11eb_a320_e23c87d3252erow1_col6\" class=\"data row1 col6\" >0.4431</td>\n",
       "                        <td id=\"T_6be52c4c_349f_11eb_a320_e23c87d3252erow1_col7\" class=\"data row1 col7\" >0.4536</td>\n",
       "                        <td id=\"T_6be52c4c_349f_11eb_a320_e23c87d3252erow1_col8\" class=\"data row1 col8\" >0.0136</td>\n",
       "            </tr>\n",
       "            <tr>\n",
       "                        <th id=\"T_6be52c4c_349f_11eb_a320_e23c87d3252elevel0_row2\" class=\"row_heading level0 row2\" >2</th>\n",
       "                        <td id=\"T_6be52c4c_349f_11eb_a320_e23c87d3252erow2_col0\" class=\"data row2 col0\" >CatBoost Classifier</td>\n",
       "                        <td id=\"T_6be52c4c_349f_11eb_a320_e23c87d3252erow2_col1\" class=\"data row2 col1\" >0.7597</td>\n",
       "                        <td id=\"T_6be52c4c_349f_11eb_a320_e23c87d3252erow2_col2\" class=\"data row2 col2\" >0.8340</td>\n",
       "                        <td id=\"T_6be52c4c_349f_11eb_a320_e23c87d3252erow2_col3\" class=\"data row2 col3\" >0.5895</td>\n",
       "                        <td id=\"T_6be52c4c_349f_11eb_a320_e23c87d3252erow2_col4\" class=\"data row2 col4\" >0.6964</td>\n",
       "                        <td id=\"T_6be52c4c_349f_11eb_a320_e23c87d3252erow2_col5\" class=\"data row2 col5\" >0.6273</td>\n",
       "                        <td id=\"T_6be52c4c_349f_11eb_a320_e23c87d3252erow2_col6\" class=\"data row2 col6\" >0.4543</td>\n",
       "                        <td id=\"T_6be52c4c_349f_11eb_a320_e23c87d3252erow2_col7\" class=\"data row2 col7\" >0.4659</td>\n",
       "                        <td id=\"T_6be52c4c_349f_11eb_a320_e23c87d3252erow2_col8\" class=\"data row2 col8\" >4.5789</td>\n",
       "            </tr>\n",
       "            <tr>\n",
       "                        <th id=\"T_6be52c4c_349f_11eb_a320_e23c87d3252elevel0_row3\" class=\"row_heading level0 row3\" >3</th>\n",
       "                        <td id=\"T_6be52c4c_349f_11eb_a320_e23c87d3252erow3_col0\" class=\"data row3 col0\" >Linear Discriminant Analysis</td>\n",
       "                        <td id=\"T_6be52c4c_349f_11eb_a320_e23c87d3252erow3_col1\" class=\"data row3 col1\" >0.7581</td>\n",
       "                        <td id=\"T_6be52c4c_349f_11eb_a320_e23c87d3252erow3_col2\" class=\"data row3 col2\" >0.8202</td>\n",
       "                        <td id=\"T_6be52c4c_349f_11eb_a320_e23c87d3252erow3_col3\" class=\"data row3 col3\" >0.5518</td>\n",
       "                        <td id=\"T_6be52c4c_349f_11eb_a320_e23c87d3252erow3_col4\" class=\"data row3 col4\" >0.6973</td>\n",
       "                        <td id=\"T_6be52c4c_349f_11eb_a320_e23c87d3252erow3_col5\" class=\"data row3 col5\" >0.6099</td>\n",
       "                        <td id=\"T_6be52c4c_349f_11eb_a320_e23c87d3252erow3_col6\" class=\"data row3 col6\" >0.4397</td>\n",
       "                        <td id=\"T_6be52c4c_349f_11eb_a320_e23c87d3252erow3_col7\" class=\"data row3 col7\" >0.4498</td>\n",
       "                        <td id=\"T_6be52c4c_349f_11eb_a320_e23c87d3252erow3_col8\" class=\"data row3 col8\" >0.0277</td>\n",
       "            </tr>\n",
       "            <tr>\n",
       "                        <th id=\"T_6be52c4c_349f_11eb_a320_e23c87d3252elevel0_row4\" class=\"row_heading level0 row4\" >4</th>\n",
       "                        <td id=\"T_6be52c4c_349f_11eb_a320_e23c87d3252erow4_col0\" class=\"data row4 col0\" >Gradient Boosting Classifier</td>\n",
       "                        <td id=\"T_6be52c4c_349f_11eb_a320_e23c87d3252erow4_col1\" class=\"data row4 col1\" >0.7449</td>\n",
       "                        <td id=\"T_6be52c4c_349f_11eb_a320_e23c87d3252erow4_col2\" class=\"data row4 col2\" >0.8225</td>\n",
       "                        <td id=\"T_6be52c4c_349f_11eb_a320_e23c87d3252erow4_col3\" class=\"data row4 col3\" >0.5950</td>\n",
       "                        <td id=\"T_6be52c4c_349f_11eb_a320_e23c87d3252erow4_col4\" class=\"data row4 col4\" >0.6554</td>\n",
       "                        <td id=\"T_6be52c4c_349f_11eb_a320_e23c87d3252erow4_col5\" class=\"data row4 col5\" >0.6127</td>\n",
       "                        <td id=\"T_6be52c4c_349f_11eb_a320_e23c87d3252erow4_col6\" class=\"data row4 col6\" >0.4263</td>\n",
       "                        <td id=\"T_6be52c4c_349f_11eb_a320_e23c87d3252erow4_col7\" class=\"data row4 col7\" >0.4350</td>\n",
       "                        <td id=\"T_6be52c4c_349f_11eb_a320_e23c87d3252erow4_col8\" class=\"data row4 col8\" >0.3280</td>\n",
       "            </tr>\n",
       "            <tr>\n",
       "                        <th id=\"T_6be52c4c_349f_11eb_a320_e23c87d3252elevel0_row5\" class=\"row_heading level0 row5\" >5</th>\n",
       "                        <td id=\"T_6be52c4c_349f_11eb_a320_e23c87d3252erow5_col0\" class=\"data row5 col0\" >K Neighbors Classifier</td>\n",
       "                        <td id=\"T_6be52c4c_349f_11eb_a320_e23c87d3252erow5_col1\" class=\"data row5 col1\" >0.7338</td>\n",
       "                        <td id=\"T_6be52c4c_349f_11eb_a320_e23c87d3252erow5_col2\" class=\"data row5 col2\" >0.7511</td>\n",
       "                        <td id=\"T_6be52c4c_349f_11eb_a320_e23c87d3252erow5_col3\" class=\"data row5 col3\" >0.5629</td>\n",
       "                        <td id=\"T_6be52c4c_349f_11eb_a320_e23c87d3252erow5_col4\" class=\"data row5 col4\" >0.6329</td>\n",
       "                        <td id=\"T_6be52c4c_349f_11eb_a320_e23c87d3252erow5_col5\" class=\"data row5 col5\" >0.5895</td>\n",
       "                        <td id=\"T_6be52c4c_349f_11eb_a320_e23c87d3252erow5_col6\" class=\"data row5 col6\" >0.3959</td>\n",
       "                        <td id=\"T_6be52c4c_349f_11eb_a320_e23c87d3252erow5_col7\" class=\"data row5 col7\" >0.4011</td>\n",
       "                        <td id=\"T_6be52c4c_349f_11eb_a320_e23c87d3252erow5_col8\" class=\"data row5 col8\" >0.0153</td>\n",
       "            </tr>\n",
       "            <tr>\n",
       "                        <th id=\"T_6be52c4c_349f_11eb_a320_e23c87d3252elevel0_row6\" class=\"row_heading level0 row6\" >6</th>\n",
       "                        <td id=\"T_6be52c4c_349f_11eb_a320_e23c87d3252erow6_col0\" class=\"data row6 col0\" >Extra Trees Classifier</td>\n",
       "                        <td id=\"T_6be52c4c_349f_11eb_a320_e23c87d3252erow6_col1\" class=\"data row6 col1\" >0.7319</td>\n",
       "                        <td id=\"T_6be52c4c_349f_11eb_a320_e23c87d3252erow6_col2\" class=\"data row6 col2\" >0.7918</td>\n",
       "                        <td id=\"T_6be52c4c_349f_11eb_a320_e23c87d3252erow6_col3\" class=\"data row6 col3\" >0.5038</td>\n",
       "                        <td id=\"T_6be52c4c_349f_11eb_a320_e23c87d3252erow6_col4\" class=\"data row6 col4\" >0.6488</td>\n",
       "                        <td id=\"T_6be52c4c_349f_11eb_a320_e23c87d3252erow6_col5\" class=\"data row6 col5\" >0.5622</td>\n",
       "                        <td id=\"T_6be52c4c_349f_11eb_a320_e23c87d3252erow6_col6\" class=\"data row6 col6\" >0.3755</td>\n",
       "                        <td id=\"T_6be52c4c_349f_11eb_a320_e23c87d3252erow6_col7\" class=\"data row6 col7\" >0.3842</td>\n",
       "                        <td id=\"T_6be52c4c_349f_11eb_a320_e23c87d3252erow6_col8\" class=\"data row6 col8\" >0.3434</td>\n",
       "            </tr>\n",
       "            <tr>\n",
       "                        <th id=\"T_6be52c4c_349f_11eb_a320_e23c87d3252elevel0_row7\" class=\"row_heading level0 row7\" >7</th>\n",
       "                        <td id=\"T_6be52c4c_349f_11eb_a320_e23c87d3252erow7_col0\" class=\"data row7 col0\" >Light Gradient Boosting Machine</td>\n",
       "                        <td id=\"T_6be52c4c_349f_11eb_a320_e23c87d3252erow7_col1\" class=\"data row7 col1\" >0.7302</td>\n",
       "                        <td id=\"T_6be52c4c_349f_11eb_a320_e23c87d3252erow7_col2\" class=\"data row7 col2\" >0.8140</td>\n",
       "                        <td id=\"T_6be52c4c_349f_11eb_a320_e23c87d3252erow7_col3\" class=\"data row7 col3\" >0.5848</td>\n",
       "                        <td id=\"T_6be52c4c_349f_11eb_a320_e23c87d3252erow7_col4\" class=\"data row7 col4\" >0.6309</td>\n",
       "                        <td id=\"T_6be52c4c_349f_11eb_a320_e23c87d3252erow7_col5\" class=\"data row7 col5\" >0.5943</td>\n",
       "                        <td id=\"T_6be52c4c_349f_11eb_a320_e23c87d3252erow7_col6\" class=\"data row7 col6\" >0.3961</td>\n",
       "                        <td id=\"T_6be52c4c_349f_11eb_a320_e23c87d3252erow7_col7\" class=\"data row7 col7\" >0.4061</td>\n",
       "                        <td id=\"T_6be52c4c_349f_11eb_a320_e23c87d3252erow7_col8\" class=\"data row7 col8\" >0.1878</td>\n",
       "            </tr>\n",
       "            <tr>\n",
       "                        <th id=\"T_6be52c4c_349f_11eb_a320_e23c87d3252elevel0_row8\" class=\"row_heading level0 row8\" >8</th>\n",
       "                        <td id=\"T_6be52c4c_349f_11eb_a320_e23c87d3252erow8_col0\" class=\"data row8 col0\" >Extreme Gradient Boosting</td>\n",
       "                        <td id=\"T_6be52c4c_349f_11eb_a320_e23c87d3252erow8_col1\" class=\"data row8 col1\" >0.7282</td>\n",
       "                        <td id=\"T_6be52c4c_349f_11eb_a320_e23c87d3252erow8_col2\" class=\"data row8 col2\" >0.8010</td>\n",
       "                        <td id=\"T_6be52c4c_349f_11eb_a320_e23c87d3252erow8_col3\" class=\"data row8 col3\" >0.5792</td>\n",
       "                        <td id=\"T_6be52c4c_349f_11eb_a320_e23c87d3252erow8_col4\" class=\"data row8 col4\" >0.6370</td>\n",
       "                        <td id=\"T_6be52c4c_349f_11eb_a320_e23c87d3252erow8_col5\" class=\"data row8 col5\" >0.5965</td>\n",
       "                        <td id=\"T_6be52c4c_349f_11eb_a320_e23c87d3252erow8_col6\" class=\"data row8 col6\" >0.3945</td>\n",
       "                        <td id=\"T_6be52c4c_349f_11eb_a320_e23c87d3252erow8_col7\" class=\"data row8 col7\" >0.4034</td>\n",
       "                        <td id=\"T_6be52c4c_349f_11eb_a320_e23c87d3252erow8_col8\" class=\"data row8 col8\" >0.1783</td>\n",
       "            </tr>\n",
       "            <tr>\n",
       "                        <th id=\"T_6be52c4c_349f_11eb_a320_e23c87d3252elevel0_row9\" class=\"row_heading level0 row9\" >9</th>\n",
       "                        <td id=\"T_6be52c4c_349f_11eb_a320_e23c87d3252erow9_col0\" class=\"data row9 col0\" >Random Forest Classifier</td>\n",
       "                        <td id=\"T_6be52c4c_349f_11eb_a320_e23c87d3252erow9_col1\" class=\"data row9 col1\" >0.7169</td>\n",
       "                        <td id=\"T_6be52c4c_349f_11eb_a320_e23c87d3252erow9_col2\" class=\"data row9 col2\" >0.7777</td>\n",
       "                        <td id=\"T_6be52c4c_349f_11eb_a320_e23c87d3252erow9_col3\" class=\"data row9 col3\" >0.4558</td>\n",
       "                        <td id=\"T_6be52c4c_349f_11eb_a320_e23c87d3252erow9_col4\" class=\"data row9 col4\" >0.6485</td>\n",
       "                        <td id=\"T_6be52c4c_349f_11eb_a320_e23c87d3252erow9_col5\" class=\"data row9 col5\" >0.5241</td>\n",
       "                        <td id=\"T_6be52c4c_349f_11eb_a320_e23c87d3252erow9_col6\" class=\"data row9 col6\" >0.3343</td>\n",
       "                        <td id=\"T_6be52c4c_349f_11eb_a320_e23c87d3252erow9_col7\" class=\"data row9 col7\" >0.3508</td>\n",
       "                        <td id=\"T_6be52c4c_349f_11eb_a320_e23c87d3252erow9_col8\" class=\"data row9 col8\" >0.1371</td>\n",
       "            </tr>\n",
       "            <tr>\n",
       "                        <th id=\"T_6be52c4c_349f_11eb_a320_e23c87d3252elevel0_row10\" class=\"row_heading level0 row10\" >10</th>\n",
       "                        <td id=\"T_6be52c4c_349f_11eb_a320_e23c87d3252erow10_col0\" class=\"data row10 col0\" >Decision Tree Classifier</td>\n",
       "                        <td id=\"T_6be52c4c_349f_11eb_a320_e23c87d3252erow10_col1\" class=\"data row10 col1\" >0.7095</td>\n",
       "                        <td id=\"T_6be52c4c_349f_11eb_a320_e23c87d3252erow10_col2\" class=\"data row10 col2\" >0.6781</td>\n",
       "                        <td id=\"T_6be52c4c_349f_11eb_a320_e23c87d3252erow10_col3\" class=\"data row10 col3\" >0.5734</td>\n",
       "                        <td id=\"T_6be52c4c_349f_11eb_a320_e23c87d3252erow10_col4\" class=\"data row10 col4\" >0.5860</td>\n",
       "                        <td id=\"T_6be52c4c_349f_11eb_a320_e23c87d3252erow10_col5\" class=\"data row10 col5\" >0.5734</td>\n",
       "                        <td id=\"T_6be52c4c_349f_11eb_a320_e23c87d3252erow10_col6\" class=\"data row10 col6\" >0.3550</td>\n",
       "                        <td id=\"T_6be52c4c_349f_11eb_a320_e23c87d3252erow10_col7\" class=\"data row10 col7\" >0.3601</td>\n",
       "                        <td id=\"T_6be52c4c_349f_11eb_a320_e23c87d3252erow10_col8\" class=\"data row10 col8\" >0.0165</td>\n",
       "            </tr>\n",
       "            <tr>\n",
       "                        <th id=\"T_6be52c4c_349f_11eb_a320_e23c87d3252elevel0_row11\" class=\"row_heading level0 row11\" >11</th>\n",
       "                        <td id=\"T_6be52c4c_349f_11eb_a320_e23c87d3252erow11_col0\" class=\"data row11 col0\" >Ada Boost Classifier</td>\n",
       "                        <td id=\"T_6be52c4c_349f_11eb_a320_e23c87d3252erow11_col1\" class=\"data row11 col1\" >0.7077</td>\n",
       "                        <td id=\"T_6be52c4c_349f_11eb_a320_e23c87d3252erow11_col2\" class=\"data row11 col2\" >0.7680</td>\n",
       "                        <td id=\"T_6be52c4c_349f_11eb_a320_e23c87d3252erow11_col3\" class=\"data row11 col3\" >0.5418</td>\n",
       "                        <td id=\"T_6be52c4c_349f_11eb_a320_e23c87d3252erow11_col4\" class=\"data row11 col4\" >0.5954</td>\n",
       "                        <td id=\"T_6be52c4c_349f_11eb_a320_e23c87d3252erow11_col5\" class=\"data row11 col5\" >0.5613</td>\n",
       "                        <td id=\"T_6be52c4c_349f_11eb_a320_e23c87d3252erow11_col6\" class=\"data row11 col6\" >0.3447</td>\n",
       "                        <td id=\"T_6be52c4c_349f_11eb_a320_e23c87d3252erow11_col7\" class=\"data row11 col7\" >0.3497</td>\n",
       "                        <td id=\"T_6be52c4c_349f_11eb_a320_e23c87d3252erow11_col8\" class=\"data row11 col8\" >0.2361</td>\n",
       "            </tr>\n",
       "            <tr>\n",
       "                        <th id=\"T_6be52c4c_349f_11eb_a320_e23c87d3252elevel0_row12\" class=\"row_heading level0 row12\" >12</th>\n",
       "                        <td id=\"T_6be52c4c_349f_11eb_a320_e23c87d3252erow12_col0\" class=\"data row12 col0\" >Naive Bayes</td>\n",
       "                        <td id=\"T_6be52c4c_349f_11eb_a320_e23c87d3252erow12_col1\" class=\"data row12 col1\" >0.6798</td>\n",
       "                        <td id=\"T_6be52c4c_349f_11eb_a320_e23c87d3252erow12_col2\" class=\"data row12 col2\" >0.7509</td>\n",
       "                        <td id=\"T_6be52c4c_349f_11eb_a320_e23c87d3252erow12_col3\" class=\"data row12 col3\" >0.2892</td>\n",
       "                        <td id=\"T_6be52c4c_349f_11eb_a320_e23c87d3252erow12_col4\" class=\"data row12 col4\" >0.5875</td>\n",
       "                        <td id=\"T_6be52c4c_349f_11eb_a320_e23c87d3252erow12_col5\" class=\"data row12 col5\" >0.3823</td>\n",
       "                        <td id=\"T_6be52c4c_349f_11eb_a320_e23c87d3252erow12_col6\" class=\"data row12 col6\" >0.2006</td>\n",
       "                        <td id=\"T_6be52c4c_349f_11eb_a320_e23c87d3252erow12_col7\" class=\"data row12 col7\" >0.2253</td>\n",
       "                        <td id=\"T_6be52c4c_349f_11eb_a320_e23c87d3252erow12_col8\" class=\"data row12 col8\" >0.0082</td>\n",
       "            </tr>\n",
       "            <tr>\n",
       "                        <th id=\"T_6be52c4c_349f_11eb_a320_e23c87d3252elevel0_row13\" class=\"row_heading level0 row13\" >13</th>\n",
       "                        <td id=\"T_6be52c4c_349f_11eb_a320_e23c87d3252erow13_col0\" class=\"data row13 col0\" >Quadratic Discriminant Analysis</td>\n",
       "                        <td id=\"T_6be52c4c_349f_11eb_a320_e23c87d3252erow13_col1\" class=\"data row13 col1\" >0.5825</td>\n",
       "                        <td id=\"T_6be52c4c_349f_11eb_a320_e23c87d3252erow13_col2\" class=\"data row13 col2\" >0.5969</td>\n",
       "                        <td id=\"T_6be52c4c_349f_11eb_a320_e23c87d3252erow13_col3\" class=\"data row13 col3\" >0.5058</td>\n",
       "                        <td id=\"T_6be52c4c_349f_11eb_a320_e23c87d3252erow13_col4\" class=\"data row13 col4\" >0.4048</td>\n",
       "                        <td id=\"T_6be52c4c_349f_11eb_a320_e23c87d3252erow13_col5\" class=\"data row13 col5\" >0.3934</td>\n",
       "                        <td id=\"T_6be52c4c_349f_11eb_a320_e23c87d3252erow13_col6\" class=\"data row13 col6\" >0.1184</td>\n",
       "                        <td id=\"T_6be52c4c_349f_11eb_a320_e23c87d3252erow13_col7\" class=\"data row13 col7\" >0.1388</td>\n",
       "                        <td id=\"T_6be52c4c_349f_11eb_a320_e23c87d3252erow13_col8\" class=\"data row13 col8\" >0.0109</td>\n",
       "            </tr>\n",
       "            <tr>\n",
       "                        <th id=\"T_6be52c4c_349f_11eb_a320_e23c87d3252elevel0_row14\" class=\"row_heading level0 row14\" >14</th>\n",
       "                        <td id=\"T_6be52c4c_349f_11eb_a320_e23c87d3252erow14_col0\" class=\"data row14 col0\" >SVM - Linear Kernel</td>\n",
       "                        <td id=\"T_6be52c4c_349f_11eb_a320_e23c87d3252erow14_col1\" class=\"data row14 col1\" >0.5347</td>\n",
       "                        <td id=\"T_6be52c4c_349f_11eb_a320_e23c87d3252erow14_col2\" class=\"data row14 col2\" >0.0000</td>\n",
       "                        <td id=\"T_6be52c4c_349f_11eb_a320_e23c87d3252erow14_col3\" class=\"data row14 col3\" >0.4477</td>\n",
       "                        <td id=\"T_6be52c4c_349f_11eb_a320_e23c87d3252erow14_col4\" class=\"data row14 col4\" >0.2673</td>\n",
       "                        <td id=\"T_6be52c4c_349f_11eb_a320_e23c87d3252erow14_col5\" class=\"data row14 col5\" >0.2974</td>\n",
       "                        <td id=\"T_6be52c4c_349f_11eb_a320_e23c87d3252erow14_col6\" class=\"data row14 col6\" >0.0202</td>\n",
       "                        <td id=\"T_6be52c4c_349f_11eb_a320_e23c87d3252erow14_col7\" class=\"data row14 col7\" >0.0328</td>\n",
       "                        <td id=\"T_6be52c4c_349f_11eb_a320_e23c87d3252erow14_col8\" class=\"data row14 col8\" >0.0120</td>\n",
       "            </tr>\n",
       "    </tbody></table>"
      ],
      "text/plain": [
       "<pandas.io.formats.style.Styler at 0x227e413e948>"
      ]
     },
     "metadata": {},
     "output_type": "display_data"
    },
    {
     "data": {
      "text/plain": [
       "LogisticRegression(C=1.0, class_weight=None, dual=False, fit_intercept=True,\n",
       "                   intercept_scaling=1, l1_ratio=None, max_iter=100,\n",
       "                   multi_class='auto', n_jobs=None, penalty='l2',\n",
       "                   random_state=2233, solver='lbfgs', tol=0.0001, verbose=0,\n",
       "                   warm_start=False)"
      ]
     },
     "execution_count": 32,
     "metadata": {},
     "output_type": "execute_result"
    }
   ],
   "source": [
    "compare_models()"
   ]
  },
  {
   "cell_type": "code",
   "execution_count": 33,
   "metadata": {},
   "outputs": [
    {
     "data": {
      "text/html": [
       "<style  type=\"text/css\" >\n",
       "    #T_b08cfb9c_349f_11eb_b0ea_e23c87d3252e th {\n",
       "          text-align: left;\n",
       "    }    #T_b08cfb9c_349f_11eb_b0ea_e23c87d3252erow0_col0 {\n",
       "            text-align:  left;\n",
       "        }    #T_b08cfb9c_349f_11eb_b0ea_e23c87d3252erow0_col1 {\n",
       "            background-color:  yellow;\n",
       "            text-align:  left;\n",
       "        }    #T_b08cfb9c_349f_11eb_b0ea_e23c87d3252erow0_col2 {\n",
       "            : ;\n",
       "            text-align:  left;\n",
       "        }    #T_b08cfb9c_349f_11eb_b0ea_e23c87d3252erow0_col3 {\n",
       "            : ;\n",
       "            text-align:  left;\n",
       "        }    #T_b08cfb9c_349f_11eb_b0ea_e23c87d3252erow0_col4 {\n",
       "            background-color:  yellow;\n",
       "            text-align:  left;\n",
       "        }    #T_b08cfb9c_349f_11eb_b0ea_e23c87d3252erow0_col5 {\n",
       "            : ;\n",
       "            text-align:  left;\n",
       "        }    #T_b08cfb9c_349f_11eb_b0ea_e23c87d3252erow0_col6 {\n",
       "            : ;\n",
       "            text-align:  left;\n",
       "        }    #T_b08cfb9c_349f_11eb_b0ea_e23c87d3252erow0_col7 {\n",
       "            : ;\n",
       "            text-align:  left;\n",
       "        }    #T_b08cfb9c_349f_11eb_b0ea_e23c87d3252erow0_col8 {\n",
       "            background-color:  lightgrey;\n",
       "            text-align:  left;\n",
       "        }    #T_b08cfb9c_349f_11eb_b0ea_e23c87d3252erow1_col0 {\n",
       "            text-align:  left;\n",
       "        }    #T_b08cfb9c_349f_11eb_b0ea_e23c87d3252erow1_col1 {\n",
       "            : ;\n",
       "            text-align:  left;\n",
       "        }    #T_b08cfb9c_349f_11eb_b0ea_e23c87d3252erow1_col2 {\n",
       "            background-color:  yellow;\n",
       "            text-align:  left;\n",
       "        }    #T_b08cfb9c_349f_11eb_b0ea_e23c87d3252erow1_col3 {\n",
       "            background-color:  yellow;\n",
       "            text-align:  left;\n",
       "        }    #T_b08cfb9c_349f_11eb_b0ea_e23c87d3252erow1_col4 {\n",
       "            : ;\n",
       "            text-align:  left;\n",
       "        }    #T_b08cfb9c_349f_11eb_b0ea_e23c87d3252erow1_col5 {\n",
       "            background-color:  yellow;\n",
       "            text-align:  left;\n",
       "        }    #T_b08cfb9c_349f_11eb_b0ea_e23c87d3252erow1_col6 {\n",
       "            background-color:  yellow;\n",
       "            text-align:  left;\n",
       "        }    #T_b08cfb9c_349f_11eb_b0ea_e23c87d3252erow1_col7 {\n",
       "            background-color:  yellow;\n",
       "            text-align:  left;\n",
       "        }    #T_b08cfb9c_349f_11eb_b0ea_e23c87d3252erow1_col8 {\n",
       "            background-color:  lightgrey;\n",
       "            text-align:  left;\n",
       "        }    #T_b08cfb9c_349f_11eb_b0ea_e23c87d3252erow2_col0 {\n",
       "            text-align:  left;\n",
       "        }    #T_b08cfb9c_349f_11eb_b0ea_e23c87d3252erow2_col1 {\n",
       "            : ;\n",
       "            text-align:  left;\n",
       "        }    #T_b08cfb9c_349f_11eb_b0ea_e23c87d3252erow2_col2 {\n",
       "            : ;\n",
       "            text-align:  left;\n",
       "        }    #T_b08cfb9c_349f_11eb_b0ea_e23c87d3252erow2_col3 {\n",
       "            : ;\n",
       "            text-align:  left;\n",
       "        }    #T_b08cfb9c_349f_11eb_b0ea_e23c87d3252erow2_col4 {\n",
       "            : ;\n",
       "            text-align:  left;\n",
       "        }    #T_b08cfb9c_349f_11eb_b0ea_e23c87d3252erow2_col5 {\n",
       "            : ;\n",
       "            text-align:  left;\n",
       "        }    #T_b08cfb9c_349f_11eb_b0ea_e23c87d3252erow2_col6 {\n",
       "            : ;\n",
       "            text-align:  left;\n",
       "        }    #T_b08cfb9c_349f_11eb_b0ea_e23c87d3252erow2_col7 {\n",
       "            : ;\n",
       "            text-align:  left;\n",
       "        }    #T_b08cfb9c_349f_11eb_b0ea_e23c87d3252erow2_col8 {\n",
       "            background-color:  lightgrey;\n",
       "            text-align:  left;\n",
       "        }    #T_b08cfb9c_349f_11eb_b0ea_e23c87d3252erow3_col0 {\n",
       "            text-align:  left;\n",
       "        }    #T_b08cfb9c_349f_11eb_b0ea_e23c87d3252erow3_col1 {\n",
       "            : ;\n",
       "            text-align:  left;\n",
       "        }    #T_b08cfb9c_349f_11eb_b0ea_e23c87d3252erow3_col2 {\n",
       "            : ;\n",
       "            text-align:  left;\n",
       "        }    #T_b08cfb9c_349f_11eb_b0ea_e23c87d3252erow3_col3 {\n",
       "            : ;\n",
       "            text-align:  left;\n",
       "        }    #T_b08cfb9c_349f_11eb_b0ea_e23c87d3252erow3_col4 {\n",
       "            : ;\n",
       "            text-align:  left;\n",
       "        }    #T_b08cfb9c_349f_11eb_b0ea_e23c87d3252erow3_col5 {\n",
       "            : ;\n",
       "            text-align:  left;\n",
       "        }    #T_b08cfb9c_349f_11eb_b0ea_e23c87d3252erow3_col6 {\n",
       "            : ;\n",
       "            text-align:  left;\n",
       "        }    #T_b08cfb9c_349f_11eb_b0ea_e23c87d3252erow3_col7 {\n",
       "            : ;\n",
       "            text-align:  left;\n",
       "        }    #T_b08cfb9c_349f_11eb_b0ea_e23c87d3252erow3_col8 {\n",
       "            background-color:  lightgrey;\n",
       "            text-align:  left;\n",
       "        }    #T_b08cfb9c_349f_11eb_b0ea_e23c87d3252erow4_col0 {\n",
       "            text-align:  left;\n",
       "        }    #T_b08cfb9c_349f_11eb_b0ea_e23c87d3252erow4_col1 {\n",
       "            : ;\n",
       "            text-align:  left;\n",
       "        }    #T_b08cfb9c_349f_11eb_b0ea_e23c87d3252erow4_col2 {\n",
       "            : ;\n",
       "            text-align:  left;\n",
       "        }    #T_b08cfb9c_349f_11eb_b0ea_e23c87d3252erow4_col3 {\n",
       "            : ;\n",
       "            text-align:  left;\n",
       "        }    #T_b08cfb9c_349f_11eb_b0ea_e23c87d3252erow4_col4 {\n",
       "            : ;\n",
       "            text-align:  left;\n",
       "        }    #T_b08cfb9c_349f_11eb_b0ea_e23c87d3252erow4_col5 {\n",
       "            : ;\n",
       "            text-align:  left;\n",
       "        }    #T_b08cfb9c_349f_11eb_b0ea_e23c87d3252erow4_col6 {\n",
       "            : ;\n",
       "            text-align:  left;\n",
       "        }    #T_b08cfb9c_349f_11eb_b0ea_e23c87d3252erow4_col7 {\n",
       "            : ;\n",
       "            text-align:  left;\n",
       "        }    #T_b08cfb9c_349f_11eb_b0ea_e23c87d3252erow4_col8 {\n",
       "            background-color:  lightgrey;\n",
       "            text-align:  left;\n",
       "        }    #T_b08cfb9c_349f_11eb_b0ea_e23c87d3252erow5_col0 {\n",
       "            text-align:  left;\n",
       "        }    #T_b08cfb9c_349f_11eb_b0ea_e23c87d3252erow5_col1 {\n",
       "            : ;\n",
       "            text-align:  left;\n",
       "        }    #T_b08cfb9c_349f_11eb_b0ea_e23c87d3252erow5_col2 {\n",
       "            : ;\n",
       "            text-align:  left;\n",
       "        }    #T_b08cfb9c_349f_11eb_b0ea_e23c87d3252erow5_col3 {\n",
       "            : ;\n",
       "            text-align:  left;\n",
       "        }    #T_b08cfb9c_349f_11eb_b0ea_e23c87d3252erow5_col4 {\n",
       "            : ;\n",
       "            text-align:  left;\n",
       "        }    #T_b08cfb9c_349f_11eb_b0ea_e23c87d3252erow5_col5 {\n",
       "            : ;\n",
       "            text-align:  left;\n",
       "        }    #T_b08cfb9c_349f_11eb_b0ea_e23c87d3252erow5_col6 {\n",
       "            : ;\n",
       "            text-align:  left;\n",
       "        }    #T_b08cfb9c_349f_11eb_b0ea_e23c87d3252erow5_col7 {\n",
       "            : ;\n",
       "            text-align:  left;\n",
       "        }    #T_b08cfb9c_349f_11eb_b0ea_e23c87d3252erow5_col8 {\n",
       "            background-color:  lightgrey;\n",
       "            text-align:  left;\n",
       "        }    #T_b08cfb9c_349f_11eb_b0ea_e23c87d3252erow6_col0 {\n",
       "            text-align:  left;\n",
       "        }    #T_b08cfb9c_349f_11eb_b0ea_e23c87d3252erow6_col1 {\n",
       "            : ;\n",
       "            text-align:  left;\n",
       "        }    #T_b08cfb9c_349f_11eb_b0ea_e23c87d3252erow6_col2 {\n",
       "            : ;\n",
       "            text-align:  left;\n",
       "        }    #T_b08cfb9c_349f_11eb_b0ea_e23c87d3252erow6_col3 {\n",
       "            : ;\n",
       "            text-align:  left;\n",
       "        }    #T_b08cfb9c_349f_11eb_b0ea_e23c87d3252erow6_col4 {\n",
       "            : ;\n",
       "            text-align:  left;\n",
       "        }    #T_b08cfb9c_349f_11eb_b0ea_e23c87d3252erow6_col5 {\n",
       "            : ;\n",
       "            text-align:  left;\n",
       "        }    #T_b08cfb9c_349f_11eb_b0ea_e23c87d3252erow6_col6 {\n",
       "            : ;\n",
       "            text-align:  left;\n",
       "        }    #T_b08cfb9c_349f_11eb_b0ea_e23c87d3252erow6_col7 {\n",
       "            : ;\n",
       "            text-align:  left;\n",
       "        }    #T_b08cfb9c_349f_11eb_b0ea_e23c87d3252erow6_col8 {\n",
       "            background-color:  lightgrey;\n",
       "            text-align:  left;\n",
       "        }    #T_b08cfb9c_349f_11eb_b0ea_e23c87d3252erow7_col0 {\n",
       "            text-align:  left;\n",
       "        }    #T_b08cfb9c_349f_11eb_b0ea_e23c87d3252erow7_col1 {\n",
       "            : ;\n",
       "            text-align:  left;\n",
       "        }    #T_b08cfb9c_349f_11eb_b0ea_e23c87d3252erow7_col2 {\n",
       "            : ;\n",
       "            text-align:  left;\n",
       "        }    #T_b08cfb9c_349f_11eb_b0ea_e23c87d3252erow7_col3 {\n",
       "            : ;\n",
       "            text-align:  left;\n",
       "        }    #T_b08cfb9c_349f_11eb_b0ea_e23c87d3252erow7_col4 {\n",
       "            : ;\n",
       "            text-align:  left;\n",
       "        }    #T_b08cfb9c_349f_11eb_b0ea_e23c87d3252erow7_col5 {\n",
       "            : ;\n",
       "            text-align:  left;\n",
       "        }    #T_b08cfb9c_349f_11eb_b0ea_e23c87d3252erow7_col6 {\n",
       "            : ;\n",
       "            text-align:  left;\n",
       "        }    #T_b08cfb9c_349f_11eb_b0ea_e23c87d3252erow7_col7 {\n",
       "            : ;\n",
       "            text-align:  left;\n",
       "        }    #T_b08cfb9c_349f_11eb_b0ea_e23c87d3252erow7_col8 {\n",
       "            background-color:  lightgrey;\n",
       "            text-align:  left;\n",
       "        }    #T_b08cfb9c_349f_11eb_b0ea_e23c87d3252erow8_col0 {\n",
       "            text-align:  left;\n",
       "        }    #T_b08cfb9c_349f_11eb_b0ea_e23c87d3252erow8_col1 {\n",
       "            : ;\n",
       "            text-align:  left;\n",
       "        }    #T_b08cfb9c_349f_11eb_b0ea_e23c87d3252erow8_col2 {\n",
       "            : ;\n",
       "            text-align:  left;\n",
       "        }    #T_b08cfb9c_349f_11eb_b0ea_e23c87d3252erow8_col3 {\n",
       "            : ;\n",
       "            text-align:  left;\n",
       "        }    #T_b08cfb9c_349f_11eb_b0ea_e23c87d3252erow8_col4 {\n",
       "            : ;\n",
       "            text-align:  left;\n",
       "        }    #T_b08cfb9c_349f_11eb_b0ea_e23c87d3252erow8_col5 {\n",
       "            : ;\n",
       "            text-align:  left;\n",
       "        }    #T_b08cfb9c_349f_11eb_b0ea_e23c87d3252erow8_col6 {\n",
       "            : ;\n",
       "            text-align:  left;\n",
       "        }    #T_b08cfb9c_349f_11eb_b0ea_e23c87d3252erow8_col7 {\n",
       "            : ;\n",
       "            text-align:  left;\n",
       "        }    #T_b08cfb9c_349f_11eb_b0ea_e23c87d3252erow8_col8 {\n",
       "            background-color:  lightgrey;\n",
       "            text-align:  left;\n",
       "        }    #T_b08cfb9c_349f_11eb_b0ea_e23c87d3252erow9_col0 {\n",
       "            text-align:  left;\n",
       "        }    #T_b08cfb9c_349f_11eb_b0ea_e23c87d3252erow9_col1 {\n",
       "            : ;\n",
       "            text-align:  left;\n",
       "        }    #T_b08cfb9c_349f_11eb_b0ea_e23c87d3252erow9_col2 {\n",
       "            : ;\n",
       "            text-align:  left;\n",
       "        }    #T_b08cfb9c_349f_11eb_b0ea_e23c87d3252erow9_col3 {\n",
       "            : ;\n",
       "            text-align:  left;\n",
       "        }    #T_b08cfb9c_349f_11eb_b0ea_e23c87d3252erow9_col4 {\n",
       "            : ;\n",
       "            text-align:  left;\n",
       "        }    #T_b08cfb9c_349f_11eb_b0ea_e23c87d3252erow9_col5 {\n",
       "            : ;\n",
       "            text-align:  left;\n",
       "        }    #T_b08cfb9c_349f_11eb_b0ea_e23c87d3252erow9_col6 {\n",
       "            : ;\n",
       "            text-align:  left;\n",
       "        }    #T_b08cfb9c_349f_11eb_b0ea_e23c87d3252erow9_col7 {\n",
       "            : ;\n",
       "            text-align:  left;\n",
       "        }    #T_b08cfb9c_349f_11eb_b0ea_e23c87d3252erow9_col8 {\n",
       "            background-color:  lightgrey;\n",
       "            text-align:  left;\n",
       "        }    #T_b08cfb9c_349f_11eb_b0ea_e23c87d3252erow10_col0 {\n",
       "            text-align:  left;\n",
       "        }    #T_b08cfb9c_349f_11eb_b0ea_e23c87d3252erow10_col1 {\n",
       "            : ;\n",
       "            text-align:  left;\n",
       "        }    #T_b08cfb9c_349f_11eb_b0ea_e23c87d3252erow10_col2 {\n",
       "            : ;\n",
       "            text-align:  left;\n",
       "        }    #T_b08cfb9c_349f_11eb_b0ea_e23c87d3252erow10_col3 {\n",
       "            : ;\n",
       "            text-align:  left;\n",
       "        }    #T_b08cfb9c_349f_11eb_b0ea_e23c87d3252erow10_col4 {\n",
       "            : ;\n",
       "            text-align:  left;\n",
       "        }    #T_b08cfb9c_349f_11eb_b0ea_e23c87d3252erow10_col5 {\n",
       "            : ;\n",
       "            text-align:  left;\n",
       "        }    #T_b08cfb9c_349f_11eb_b0ea_e23c87d3252erow10_col6 {\n",
       "            : ;\n",
       "            text-align:  left;\n",
       "        }    #T_b08cfb9c_349f_11eb_b0ea_e23c87d3252erow10_col7 {\n",
       "            : ;\n",
       "            text-align:  left;\n",
       "        }    #T_b08cfb9c_349f_11eb_b0ea_e23c87d3252erow10_col8 {\n",
       "            background-color:  lightgrey;\n",
       "            text-align:  left;\n",
       "        }    #T_b08cfb9c_349f_11eb_b0ea_e23c87d3252erow11_col0 {\n",
       "            text-align:  left;\n",
       "        }    #T_b08cfb9c_349f_11eb_b0ea_e23c87d3252erow11_col1 {\n",
       "            : ;\n",
       "            text-align:  left;\n",
       "        }    #T_b08cfb9c_349f_11eb_b0ea_e23c87d3252erow11_col2 {\n",
       "            : ;\n",
       "            text-align:  left;\n",
       "        }    #T_b08cfb9c_349f_11eb_b0ea_e23c87d3252erow11_col3 {\n",
       "            : ;\n",
       "            text-align:  left;\n",
       "        }    #T_b08cfb9c_349f_11eb_b0ea_e23c87d3252erow11_col4 {\n",
       "            : ;\n",
       "            text-align:  left;\n",
       "        }    #T_b08cfb9c_349f_11eb_b0ea_e23c87d3252erow11_col5 {\n",
       "            : ;\n",
       "            text-align:  left;\n",
       "        }    #T_b08cfb9c_349f_11eb_b0ea_e23c87d3252erow11_col6 {\n",
       "            : ;\n",
       "            text-align:  left;\n",
       "        }    #T_b08cfb9c_349f_11eb_b0ea_e23c87d3252erow11_col7 {\n",
       "            : ;\n",
       "            text-align:  left;\n",
       "        }    #T_b08cfb9c_349f_11eb_b0ea_e23c87d3252erow11_col8 {\n",
       "            background-color:  lightgrey;\n",
       "            text-align:  left;\n",
       "        }    #T_b08cfb9c_349f_11eb_b0ea_e23c87d3252erow12_col0 {\n",
       "            text-align:  left;\n",
       "        }    #T_b08cfb9c_349f_11eb_b0ea_e23c87d3252erow12_col1 {\n",
       "            : ;\n",
       "            text-align:  left;\n",
       "        }    #T_b08cfb9c_349f_11eb_b0ea_e23c87d3252erow12_col2 {\n",
       "            : ;\n",
       "            text-align:  left;\n",
       "        }    #T_b08cfb9c_349f_11eb_b0ea_e23c87d3252erow12_col3 {\n",
       "            : ;\n",
       "            text-align:  left;\n",
       "        }    #T_b08cfb9c_349f_11eb_b0ea_e23c87d3252erow12_col4 {\n",
       "            : ;\n",
       "            text-align:  left;\n",
       "        }    #T_b08cfb9c_349f_11eb_b0ea_e23c87d3252erow12_col5 {\n",
       "            : ;\n",
       "            text-align:  left;\n",
       "        }    #T_b08cfb9c_349f_11eb_b0ea_e23c87d3252erow12_col6 {\n",
       "            : ;\n",
       "            text-align:  left;\n",
       "        }    #T_b08cfb9c_349f_11eb_b0ea_e23c87d3252erow12_col7 {\n",
       "            : ;\n",
       "            text-align:  left;\n",
       "        }    #T_b08cfb9c_349f_11eb_b0ea_e23c87d3252erow12_col8 {\n",
       "            background-color:  lightgrey;\n",
       "            text-align:  left;\n",
       "        }    #T_b08cfb9c_349f_11eb_b0ea_e23c87d3252erow13_col0 {\n",
       "            text-align:  left;\n",
       "        }    #T_b08cfb9c_349f_11eb_b0ea_e23c87d3252erow13_col1 {\n",
       "            : ;\n",
       "            text-align:  left;\n",
       "        }    #T_b08cfb9c_349f_11eb_b0ea_e23c87d3252erow13_col2 {\n",
       "            : ;\n",
       "            text-align:  left;\n",
       "        }    #T_b08cfb9c_349f_11eb_b0ea_e23c87d3252erow13_col3 {\n",
       "            : ;\n",
       "            text-align:  left;\n",
       "        }    #T_b08cfb9c_349f_11eb_b0ea_e23c87d3252erow13_col4 {\n",
       "            : ;\n",
       "            text-align:  left;\n",
       "        }    #T_b08cfb9c_349f_11eb_b0ea_e23c87d3252erow13_col5 {\n",
       "            : ;\n",
       "            text-align:  left;\n",
       "        }    #T_b08cfb9c_349f_11eb_b0ea_e23c87d3252erow13_col6 {\n",
       "            : ;\n",
       "            text-align:  left;\n",
       "        }    #T_b08cfb9c_349f_11eb_b0ea_e23c87d3252erow13_col7 {\n",
       "            : ;\n",
       "            text-align:  left;\n",
       "        }    #T_b08cfb9c_349f_11eb_b0ea_e23c87d3252erow13_col8 {\n",
       "            background-color:  lightgrey;\n",
       "            text-align:  left;\n",
       "        }    #T_b08cfb9c_349f_11eb_b0ea_e23c87d3252erow14_col0 {\n",
       "            text-align:  left;\n",
       "        }    #T_b08cfb9c_349f_11eb_b0ea_e23c87d3252erow14_col1 {\n",
       "            : ;\n",
       "            text-align:  left;\n",
       "        }    #T_b08cfb9c_349f_11eb_b0ea_e23c87d3252erow14_col2 {\n",
       "            : ;\n",
       "            text-align:  left;\n",
       "        }    #T_b08cfb9c_349f_11eb_b0ea_e23c87d3252erow14_col3 {\n",
       "            : ;\n",
       "            text-align:  left;\n",
       "        }    #T_b08cfb9c_349f_11eb_b0ea_e23c87d3252erow14_col4 {\n",
       "            : ;\n",
       "            text-align:  left;\n",
       "        }    #T_b08cfb9c_349f_11eb_b0ea_e23c87d3252erow14_col5 {\n",
       "            : ;\n",
       "            text-align:  left;\n",
       "        }    #T_b08cfb9c_349f_11eb_b0ea_e23c87d3252erow14_col6 {\n",
       "            : ;\n",
       "            text-align:  left;\n",
       "        }    #T_b08cfb9c_349f_11eb_b0ea_e23c87d3252erow14_col7 {\n",
       "            : ;\n",
       "            text-align:  left;\n",
       "        }    #T_b08cfb9c_349f_11eb_b0ea_e23c87d3252erow14_col8 {\n",
       "            background-color:  lightgrey;\n",
       "            text-align:  left;\n",
       "        }</style><table id=\"T_b08cfb9c_349f_11eb_b0ea_e23c87d3252e\" ><thead>    <tr>        <th class=\"blank level0\" ></th>        <th class=\"col_heading level0 col0\" >Model</th>        <th class=\"col_heading level0 col1\" >Accuracy</th>        <th class=\"col_heading level0 col2\" >AUC</th>        <th class=\"col_heading level0 col3\" >Recall</th>        <th class=\"col_heading level0 col4\" >Prec.</th>        <th class=\"col_heading level0 col5\" >F1</th>        <th class=\"col_heading level0 col6\" >Kappa</th>        <th class=\"col_heading level0 col7\" >MCC</th>        <th class=\"col_heading level0 col8\" >TT (Sec)</th>    </tr></thead><tbody>\n",
       "                <tr>\n",
       "                        <th id=\"T_b08cfb9c_349f_11eb_b0ea_e23c87d3252elevel0_row0\" class=\"row_heading level0 row0\" >0</th>\n",
       "                        <td id=\"T_b08cfb9c_349f_11eb_b0ea_e23c87d3252erow0_col0\" class=\"data row0 col0\" >Ridge Classifier</td>\n",
       "                        <td id=\"T_b08cfb9c_349f_11eb_b0ea_e23c87d3252erow0_col1\" class=\"data row0 col1\" >0.7598</td>\n",
       "                        <td id=\"T_b08cfb9c_349f_11eb_b0ea_e23c87d3252erow0_col2\" class=\"data row0 col2\" >0.0000</td>\n",
       "                        <td id=\"T_b08cfb9c_349f_11eb_b0ea_e23c87d3252erow0_col3\" class=\"data row0 col3\" >0.5451</td>\n",
       "                        <td id=\"T_b08cfb9c_349f_11eb_b0ea_e23c87d3252erow0_col4\" class=\"data row0 col4\" >0.7026</td>\n",
       "                        <td id=\"T_b08cfb9c_349f_11eb_b0ea_e23c87d3252erow0_col5\" class=\"data row0 col5\" >0.6115</td>\n",
       "                        <td id=\"T_b08cfb9c_349f_11eb_b0ea_e23c87d3252erow0_col6\" class=\"data row0 col6\" >0.4419</td>\n",
       "                        <td id=\"T_b08cfb9c_349f_11eb_b0ea_e23c87d3252erow0_col7\" class=\"data row0 col7\" >0.4510</td>\n",
       "                        <td id=\"T_b08cfb9c_349f_11eb_b0ea_e23c87d3252erow0_col8\" class=\"data row0 col8\" >0.0096</td>\n",
       "            </tr>\n",
       "            <tr>\n",
       "                        <th id=\"T_b08cfb9c_349f_11eb_b0ea_e23c87d3252elevel0_row1\" class=\"row_heading level0 row1\" >1</th>\n",
       "                        <td id=\"T_b08cfb9c_349f_11eb_b0ea_e23c87d3252erow1_col0\" class=\"data row1 col0\" >CatBoost Classifier</td>\n",
       "                        <td id=\"T_b08cfb9c_349f_11eb_b0ea_e23c87d3252erow1_col1\" class=\"data row1 col1\" >0.7597</td>\n",
       "                        <td id=\"T_b08cfb9c_349f_11eb_b0ea_e23c87d3252erow1_col2\" class=\"data row1 col2\" >0.8271</td>\n",
       "                        <td id=\"T_b08cfb9c_349f_11eb_b0ea_e23c87d3252erow1_col3\" class=\"data row1 col3\" >0.5933</td>\n",
       "                        <td id=\"T_b08cfb9c_349f_11eb_b0ea_e23c87d3252erow1_col4\" class=\"data row1 col4\" >0.6851</td>\n",
       "                        <td id=\"T_b08cfb9c_349f_11eb_b0ea_e23c87d3252erow1_col5\" class=\"data row1 col5\" >0.6328</td>\n",
       "                        <td id=\"T_b08cfb9c_349f_11eb_b0ea_e23c87d3252erow1_col6\" class=\"data row1 col6\" >0.4559</td>\n",
       "                        <td id=\"T_b08cfb9c_349f_11eb_b0ea_e23c87d3252erow1_col7\" class=\"data row1 col7\" >0.4609</td>\n",
       "                        <td id=\"T_b08cfb9c_349f_11eb_b0ea_e23c87d3252erow1_col8\" class=\"data row1 col8\" >4.7548</td>\n",
       "            </tr>\n",
       "            <tr>\n",
       "                        <th id=\"T_b08cfb9c_349f_11eb_b0ea_e23c87d3252elevel0_row2\" class=\"row_heading level0 row2\" >2</th>\n",
       "                        <td id=\"T_b08cfb9c_349f_11eb_b0ea_e23c87d3252erow2_col0\" class=\"data row2 col0\" >Linear Discriminant Analysis</td>\n",
       "                        <td id=\"T_b08cfb9c_349f_11eb_b0ea_e23c87d3252erow2_col1\" class=\"data row2 col1\" >0.7561</td>\n",
       "                        <td id=\"T_b08cfb9c_349f_11eb_b0ea_e23c87d3252erow2_col2\" class=\"data row2 col2\" >0.8136</td>\n",
       "                        <td id=\"T_b08cfb9c_349f_11eb_b0ea_e23c87d3252erow2_col3\" class=\"data row2 col3\" >0.5398</td>\n",
       "                        <td id=\"T_b08cfb9c_349f_11eb_b0ea_e23c87d3252erow2_col4\" class=\"data row2 col4\" >0.6949</td>\n",
       "                        <td id=\"T_b08cfb9c_349f_11eb_b0ea_e23c87d3252erow2_col5\" class=\"data row2 col5\" >0.6052</td>\n",
       "                        <td id=\"T_b08cfb9c_349f_11eb_b0ea_e23c87d3252erow2_col6\" class=\"data row2 col6\" >0.4332</td>\n",
       "                        <td id=\"T_b08cfb9c_349f_11eb_b0ea_e23c87d3252erow2_col7\" class=\"data row2 col7\" >0.4420</td>\n",
       "                        <td id=\"T_b08cfb9c_349f_11eb_b0ea_e23c87d3252erow2_col8\" class=\"data row2 col8\" >0.0125</td>\n",
       "            </tr>\n",
       "            <tr>\n",
       "                        <th id=\"T_b08cfb9c_349f_11eb_b0ea_e23c87d3252elevel0_row3\" class=\"row_heading level0 row3\" >3</th>\n",
       "                        <td id=\"T_b08cfb9c_349f_11eb_b0ea_e23c87d3252erow3_col0\" class=\"data row3 col0\" >Logistic Regression</td>\n",
       "                        <td id=\"T_b08cfb9c_349f_11eb_b0ea_e23c87d3252erow3_col1\" class=\"data row3 col1\" >0.7505</td>\n",
       "                        <td id=\"T_b08cfb9c_349f_11eb_b0ea_e23c87d3252erow3_col2\" class=\"data row3 col2\" >0.8137</td>\n",
       "                        <td id=\"T_b08cfb9c_349f_11eb_b0ea_e23c87d3252erow3_col3\" class=\"data row3 col3\" >0.5613</td>\n",
       "                        <td id=\"T_b08cfb9c_349f_11eb_b0ea_e23c87d3252erow3_col4\" class=\"data row3 col4\" >0.6713</td>\n",
       "                        <td id=\"T_b08cfb9c_349f_11eb_b0ea_e23c87d3252erow3_col5\" class=\"data row3 col5\" >0.6084</td>\n",
       "                        <td id=\"T_b08cfb9c_349f_11eb_b0ea_e23c87d3252erow3_col6\" class=\"data row3 col6\" >0.4282</td>\n",
       "                        <td id=\"T_b08cfb9c_349f_11eb_b0ea_e23c87d3252erow3_col7\" class=\"data row3 col7\" >0.4338</td>\n",
       "                        <td id=\"T_b08cfb9c_349f_11eb_b0ea_e23c87d3252erow3_col8\" class=\"data row3 col8\" >0.1224</td>\n",
       "            </tr>\n",
       "            <tr>\n",
       "                        <th id=\"T_b08cfb9c_349f_11eb_b0ea_e23c87d3252elevel0_row4\" class=\"row_heading level0 row4\" >4</th>\n",
       "                        <td id=\"T_b08cfb9c_349f_11eb_b0ea_e23c87d3252erow4_col0\" class=\"data row4 col0\" >K Neighbors Classifier</td>\n",
       "                        <td id=\"T_b08cfb9c_349f_11eb_b0ea_e23c87d3252erow4_col1\" class=\"data row4 col1\" >0.7411</td>\n",
       "                        <td id=\"T_b08cfb9c_349f_11eb_b0ea_e23c87d3252erow4_col2\" class=\"data row4 col2\" >0.7589</td>\n",
       "                        <td id=\"T_b08cfb9c_349f_11eb_b0ea_e23c87d3252erow4_col3\" class=\"data row4 col3\" >0.5612</td>\n",
       "                        <td id=\"T_b08cfb9c_349f_11eb_b0ea_e23c87d3252erow4_col4\" class=\"data row4 col4\" >0.6533</td>\n",
       "                        <td id=\"T_b08cfb9c_349f_11eb_b0ea_e23c87d3252erow4_col5\" class=\"data row4 col5\" >0.6004</td>\n",
       "                        <td id=\"T_b08cfb9c_349f_11eb_b0ea_e23c87d3252erow4_col6\" class=\"data row4 col6\" >0.4112</td>\n",
       "                        <td id=\"T_b08cfb9c_349f_11eb_b0ea_e23c87d3252erow4_col7\" class=\"data row4 col7\" >0.4160</td>\n",
       "                        <td id=\"T_b08cfb9c_349f_11eb_b0ea_e23c87d3252erow4_col8\" class=\"data row4 col8\" >0.0101</td>\n",
       "            </tr>\n",
       "            <tr>\n",
       "                        <th id=\"T_b08cfb9c_349f_11eb_b0ea_e23c87d3252elevel0_row5\" class=\"row_heading level0 row5\" >5</th>\n",
       "                        <td id=\"T_b08cfb9c_349f_11eb_b0ea_e23c87d3252erow5_col0\" class=\"data row5 col0\" >Random Forest Classifier</td>\n",
       "                        <td id=\"T_b08cfb9c_349f_11eb_b0ea_e23c87d3252erow5_col1\" class=\"data row5 col1\" >0.7394</td>\n",
       "                        <td id=\"T_b08cfb9c_349f_11eb_b0ea_e23c87d3252erow5_col2\" class=\"data row5 col2\" >0.7770</td>\n",
       "                        <td id=\"T_b08cfb9c_349f_11eb_b0ea_e23c87d3252erow5_col3\" class=\"data row5 col3\" >0.4977</td>\n",
       "                        <td id=\"T_b08cfb9c_349f_11eb_b0ea_e23c87d3252erow5_col4\" class=\"data row5 col4\" >0.6875</td>\n",
       "                        <td id=\"T_b08cfb9c_349f_11eb_b0ea_e23c87d3252erow5_col5\" class=\"data row5 col5\" >0.5713</td>\n",
       "                        <td id=\"T_b08cfb9c_349f_11eb_b0ea_e23c87d3252erow5_col6\" class=\"data row5 col6\" >0.3910</td>\n",
       "                        <td id=\"T_b08cfb9c_349f_11eb_b0ea_e23c87d3252erow5_col7\" class=\"data row5 col7\" >0.4056</td>\n",
       "                        <td id=\"T_b08cfb9c_349f_11eb_b0ea_e23c87d3252erow5_col8\" class=\"data row5 col8\" >0.1548</td>\n",
       "            </tr>\n",
       "            <tr>\n",
       "                        <th id=\"T_b08cfb9c_349f_11eb_b0ea_e23c87d3252elevel0_row6\" class=\"row_heading level0 row6\" >6</th>\n",
       "                        <td id=\"T_b08cfb9c_349f_11eb_b0ea_e23c87d3252erow6_col0\" class=\"data row6 col0\" >Gradient Boosting Classifier</td>\n",
       "                        <td id=\"T_b08cfb9c_349f_11eb_b0ea_e23c87d3252erow6_col1\" class=\"data row6 col1\" >0.7374</td>\n",
       "                        <td id=\"T_b08cfb9c_349f_11eb_b0ea_e23c87d3252erow6_col2\" class=\"data row6 col2\" >0.8091</td>\n",
       "                        <td id=\"T_b08cfb9c_349f_11eb_b0ea_e23c87d3252erow6_col3\" class=\"data row6 col3\" >0.5770</td>\n",
       "                        <td id=\"T_b08cfb9c_349f_11eb_b0ea_e23c87d3252erow6_col4\" class=\"data row6 col4\" >0.6335</td>\n",
       "                        <td id=\"T_b08cfb9c_349f_11eb_b0ea_e23c87d3252erow6_col5\" class=\"data row6 col5\" >0.6012</td>\n",
       "                        <td id=\"T_b08cfb9c_349f_11eb_b0ea_e23c87d3252erow6_col6\" class=\"data row6 col6\" >0.4070</td>\n",
       "                        <td id=\"T_b08cfb9c_349f_11eb_b0ea_e23c87d3252erow6_col7\" class=\"data row6 col7\" >0.4094</td>\n",
       "                        <td id=\"T_b08cfb9c_349f_11eb_b0ea_e23c87d3252erow6_col8\" class=\"data row6 col8\" >0.2159</td>\n",
       "            </tr>\n",
       "            <tr>\n",
       "                        <th id=\"T_b08cfb9c_349f_11eb_b0ea_e23c87d3252elevel0_row7\" class=\"row_heading level0 row7\" >7</th>\n",
       "                        <td id=\"T_b08cfb9c_349f_11eb_b0ea_e23c87d3252erow7_col0\" class=\"data row7 col0\" >Extra Trees Classifier</td>\n",
       "                        <td id=\"T_b08cfb9c_349f_11eb_b0ea_e23c87d3252erow7_col1\" class=\"data row7 col1\" >0.7299</td>\n",
       "                        <td id=\"T_b08cfb9c_349f_11eb_b0ea_e23c87d3252erow7_col2\" class=\"data row7 col2\" >0.7857</td>\n",
       "                        <td id=\"T_b08cfb9c_349f_11eb_b0ea_e23c87d3252erow7_col3\" class=\"data row7 col3\" >0.5131</td>\n",
       "                        <td id=\"T_b08cfb9c_349f_11eb_b0ea_e23c87d3252erow7_col4\" class=\"data row7 col4\" >0.6421</td>\n",
       "                        <td id=\"T_b08cfb9c_349f_11eb_b0ea_e23c87d3252erow7_col5\" class=\"data row7 col5\" >0.5683</td>\n",
       "                        <td id=\"T_b08cfb9c_349f_11eb_b0ea_e23c87d3252erow7_col6\" class=\"data row7 col6\" >0.3758</td>\n",
       "                        <td id=\"T_b08cfb9c_349f_11eb_b0ea_e23c87d3252erow7_col7\" class=\"data row7 col7\" >0.3822</td>\n",
       "                        <td id=\"T_b08cfb9c_349f_11eb_b0ea_e23c87d3252erow7_col8\" class=\"data row7 col8\" >0.3667</td>\n",
       "            </tr>\n",
       "            <tr>\n",
       "                        <th id=\"T_b08cfb9c_349f_11eb_b0ea_e23c87d3252elevel0_row8\" class=\"row_heading level0 row8\" >8</th>\n",
       "                        <td id=\"T_b08cfb9c_349f_11eb_b0ea_e23c87d3252erow8_col0\" class=\"data row8 col0\" >Light Gradient Boosting Machine</td>\n",
       "                        <td id=\"T_b08cfb9c_349f_11eb_b0ea_e23c87d3252erow8_col1\" class=\"data row8 col1\" >0.7132</td>\n",
       "                        <td id=\"T_b08cfb9c_349f_11eb_b0ea_e23c87d3252erow8_col2\" class=\"data row8 col2\" >0.7917</td>\n",
       "                        <td id=\"T_b08cfb9c_349f_11eb_b0ea_e23c87d3252erow8_col3\" class=\"data row8 col3\" >0.5450</td>\n",
       "                        <td id=\"T_b08cfb9c_349f_11eb_b0ea_e23c87d3252erow8_col4\" class=\"data row8 col4\" >0.6078</td>\n",
       "                        <td id=\"T_b08cfb9c_349f_11eb_b0ea_e23c87d3252erow8_col5\" class=\"data row8 col5\" >0.5693</td>\n",
       "                        <td id=\"T_b08cfb9c_349f_11eb_b0ea_e23c87d3252erow8_col6\" class=\"data row8 col6\" >0.3563</td>\n",
       "                        <td id=\"T_b08cfb9c_349f_11eb_b0ea_e23c87d3252erow8_col7\" class=\"data row8 col7\" >0.3610</td>\n",
       "                        <td id=\"T_b08cfb9c_349f_11eb_b0ea_e23c87d3252erow8_col8\" class=\"data row8 col8\" >0.1736</td>\n",
       "            </tr>\n",
       "            <tr>\n",
       "                        <th id=\"T_b08cfb9c_349f_11eb_b0ea_e23c87d3252elevel0_row9\" class=\"row_heading level0 row9\" >9</th>\n",
       "                        <td id=\"T_b08cfb9c_349f_11eb_b0ea_e23c87d3252erow9_col0\" class=\"data row9 col0\" >Extreme Gradient Boosting</td>\n",
       "                        <td id=\"T_b08cfb9c_349f_11eb_b0ea_e23c87d3252erow9_col1\" class=\"data row9 col1\" >0.7095</td>\n",
       "                        <td id=\"T_b08cfb9c_349f_11eb_b0ea_e23c87d3252erow9_col2\" class=\"data row9 col2\" >0.7842</td>\n",
       "                        <td id=\"T_b08cfb9c_349f_11eb_b0ea_e23c87d3252erow9_col3\" class=\"data row9 col3\" >0.5511</td>\n",
       "                        <td id=\"T_b08cfb9c_349f_11eb_b0ea_e23c87d3252erow9_col4\" class=\"data row9 col4\" >0.5959</td>\n",
       "                        <td id=\"T_b08cfb9c_349f_11eb_b0ea_e23c87d3252erow9_col5\" class=\"data row9 col5\" >0.5693</td>\n",
       "                        <td id=\"T_b08cfb9c_349f_11eb_b0ea_e23c87d3252erow9_col6\" class=\"data row9 col6\" >0.3515</td>\n",
       "                        <td id=\"T_b08cfb9c_349f_11eb_b0ea_e23c87d3252erow9_col7\" class=\"data row9 col7\" >0.3544</td>\n",
       "                        <td id=\"T_b08cfb9c_349f_11eb_b0ea_e23c87d3252erow9_col8\" class=\"data row9 col8\" >0.1966</td>\n",
       "            </tr>\n",
       "            <tr>\n",
       "                        <th id=\"T_b08cfb9c_349f_11eb_b0ea_e23c87d3252elevel0_row10\" class=\"row_heading level0 row10\" >10</th>\n",
       "                        <td id=\"T_b08cfb9c_349f_11eb_b0ea_e23c87d3252erow10_col0\" class=\"data row10 col0\" >Ada Boost Classifier</td>\n",
       "                        <td id=\"T_b08cfb9c_349f_11eb_b0ea_e23c87d3252erow10_col1\" class=\"data row10 col1\" >0.7038</td>\n",
       "                        <td id=\"T_b08cfb9c_349f_11eb_b0ea_e23c87d3252erow10_col2\" class=\"data row10 col2\" >0.7458</td>\n",
       "                        <td id=\"T_b08cfb9c_349f_11eb_b0ea_e23c87d3252erow10_col3\" class=\"data row10 col3\" >0.5235</td>\n",
       "                        <td id=\"T_b08cfb9c_349f_11eb_b0ea_e23c87d3252erow10_col4\" class=\"data row10 col4\" >0.5880</td>\n",
       "                        <td id=\"T_b08cfb9c_349f_11eb_b0ea_e23c87d3252erow10_col5\" class=\"data row10 col5\" >0.5518</td>\n",
       "                        <td id=\"T_b08cfb9c_349f_11eb_b0ea_e23c87d3252erow10_col6\" class=\"data row10 col6\" >0.3321</td>\n",
       "                        <td id=\"T_b08cfb9c_349f_11eb_b0ea_e23c87d3252erow10_col7\" class=\"data row10 col7\" >0.3347</td>\n",
       "                        <td id=\"T_b08cfb9c_349f_11eb_b0ea_e23c87d3252erow10_col8\" class=\"data row10 col8\" >0.2066</td>\n",
       "            </tr>\n",
       "            <tr>\n",
       "                        <th id=\"T_b08cfb9c_349f_11eb_b0ea_e23c87d3252elevel0_row11\" class=\"row_heading level0 row11\" >11</th>\n",
       "                        <td id=\"T_b08cfb9c_349f_11eb_b0ea_e23c87d3252erow11_col0\" class=\"data row11 col0\" >Decision Tree Classifier</td>\n",
       "                        <td id=\"T_b08cfb9c_349f_11eb_b0ea_e23c87d3252erow11_col1\" class=\"data row11 col1\" >0.6964</td>\n",
       "                        <td id=\"T_b08cfb9c_349f_11eb_b0ea_e23c87d3252erow11_col2\" class=\"data row11 col2\" >0.6574</td>\n",
       "                        <td id=\"T_b08cfb9c_349f_11eb_b0ea_e23c87d3252erow11_col3\" class=\"data row11 col3\" >0.5290</td>\n",
       "                        <td id=\"T_b08cfb9c_349f_11eb_b0ea_e23c87d3252erow11_col4\" class=\"data row11 col4\" >0.5694</td>\n",
       "                        <td id=\"T_b08cfb9c_349f_11eb_b0ea_e23c87d3252erow11_col5\" class=\"data row11 col5\" >0.5482</td>\n",
       "                        <td id=\"T_b08cfb9c_349f_11eb_b0ea_e23c87d3252erow11_col6\" class=\"data row11 col6\" >0.3201</td>\n",
       "                        <td id=\"T_b08cfb9c_349f_11eb_b0ea_e23c87d3252erow11_col7\" class=\"data row11 col7\" >0.3207</td>\n",
       "                        <td id=\"T_b08cfb9c_349f_11eb_b0ea_e23c87d3252erow11_col8\" class=\"data row11 col8\" >0.0094</td>\n",
       "            </tr>\n",
       "            <tr>\n",
       "                        <th id=\"T_b08cfb9c_349f_11eb_b0ea_e23c87d3252elevel0_row12\" class=\"row_heading level0 row12\" >12</th>\n",
       "                        <td id=\"T_b08cfb9c_349f_11eb_b0ea_e23c87d3252erow12_col0\" class=\"data row12 col0\" >Naive Bayes</td>\n",
       "                        <td id=\"T_b08cfb9c_349f_11eb_b0ea_e23c87d3252erow12_col1\" class=\"data row12 col1\" >0.6760</td>\n",
       "                        <td id=\"T_b08cfb9c_349f_11eb_b0ea_e23c87d3252erow12_col2\" class=\"data row12 col2\" >0.7428</td>\n",
       "                        <td id=\"T_b08cfb9c_349f_11eb_b0ea_e23c87d3252erow12_col3\" class=\"data row12 col3\" >0.3054</td>\n",
       "                        <td id=\"T_b08cfb9c_349f_11eb_b0ea_e23c87d3252erow12_col4\" class=\"data row12 col4\" >0.5553</td>\n",
       "                        <td id=\"T_b08cfb9c_349f_11eb_b0ea_e23c87d3252erow12_col5\" class=\"data row12 col5\" >0.3861</td>\n",
       "                        <td id=\"T_b08cfb9c_349f_11eb_b0ea_e23c87d3252erow12_col6\" class=\"data row12 col6\" >0.1976</td>\n",
       "                        <td id=\"T_b08cfb9c_349f_11eb_b0ea_e23c87d3252erow12_col7\" class=\"data row12 col7\" >0.2145</td>\n",
       "                        <td id=\"T_b08cfb9c_349f_11eb_b0ea_e23c87d3252erow12_col8\" class=\"data row12 col8\" >0.0053</td>\n",
       "            </tr>\n",
       "            <tr>\n",
       "                        <th id=\"T_b08cfb9c_349f_11eb_b0ea_e23c87d3252elevel0_row13\" class=\"row_heading level0 row13\" >13</th>\n",
       "                        <td id=\"T_b08cfb9c_349f_11eb_b0ea_e23c87d3252erow13_col0\" class=\"data row13 col0\" >SVM - Linear Kernel</td>\n",
       "                        <td id=\"T_b08cfb9c_349f_11eb_b0ea_e23c87d3252erow13_col1\" class=\"data row13 col1\" >0.5978</td>\n",
       "                        <td id=\"T_b08cfb9c_349f_11eb_b0ea_e23c87d3252erow13_col2\" class=\"data row13 col2\" >0.0000</td>\n",
       "                        <td id=\"T_b08cfb9c_349f_11eb_b0ea_e23c87d3252erow13_col3\" class=\"data row13 col3\" >0.2245</td>\n",
       "                        <td id=\"T_b08cfb9c_349f_11eb_b0ea_e23c87d3252erow13_col4\" class=\"data row13 col4\" >0.3465</td>\n",
       "                        <td id=\"T_b08cfb9c_349f_11eb_b0ea_e23c87d3252erow13_col5\" class=\"data row13 col5\" >0.2289</td>\n",
       "                        <td id=\"T_b08cfb9c_349f_11eb_b0ea_e23c87d3252erow13_col6\" class=\"data row13 col6\" >0.0273</td>\n",
       "                        <td id=\"T_b08cfb9c_349f_11eb_b0ea_e23c87d3252erow13_col7\" class=\"data row13 col7\" >0.0402</td>\n",
       "                        <td id=\"T_b08cfb9c_349f_11eb_b0ea_e23c87d3252erow13_col8\" class=\"data row13 col8\" >0.0140</td>\n",
       "            </tr>\n",
       "            <tr>\n",
       "                        <th id=\"T_b08cfb9c_349f_11eb_b0ea_e23c87d3252elevel0_row14\" class=\"row_heading level0 row14\" >14</th>\n",
       "                        <td id=\"T_b08cfb9c_349f_11eb_b0ea_e23c87d3252erow14_col0\" class=\"data row14 col0\" >Quadratic Discriminant Analysis</td>\n",
       "                        <td id=\"T_b08cfb9c_349f_11eb_b0ea_e23c87d3252erow14_col1\" class=\"data row14 col1\" >0.5602</td>\n",
       "                        <td id=\"T_b08cfb9c_349f_11eb_b0ea_e23c87d3252erow14_col2\" class=\"data row14 col2\" >0.5742</td>\n",
       "                        <td id=\"T_b08cfb9c_349f_11eb_b0ea_e23c87d3252erow14_col3\" class=\"data row14 col3\" >0.5640</td>\n",
       "                        <td id=\"T_b08cfb9c_349f_11eb_b0ea_e23c87d3252erow14_col4\" class=\"data row14 col4\" >0.4677</td>\n",
       "                        <td id=\"T_b08cfb9c_349f_11eb_b0ea_e23c87d3252erow14_col5\" class=\"data row14 col5\" >0.4470</td>\n",
       "                        <td id=\"T_b08cfb9c_349f_11eb_b0ea_e23c87d3252erow14_col6\" class=\"data row14 col6\" >0.1264</td>\n",
       "                        <td id=\"T_b08cfb9c_349f_11eb_b0ea_e23c87d3252erow14_col7\" class=\"data row14 col7\" >0.1457</td>\n",
       "                        <td id=\"T_b08cfb9c_349f_11eb_b0ea_e23c87d3252erow14_col8\" class=\"data row14 col8\" >0.0083</td>\n",
       "            </tr>\n",
       "    </tbody></table>"
      ],
      "text/plain": [
       "<pandas.io.formats.style.Styler at 0x227e6188f88>"
      ]
     },
     "metadata": {},
     "output_type": "display_data"
    },
    {
     "data": {
      "text/plain": [
       "RidgeClassifier(alpha=1.0, class_weight=None, copy_X=True, fit_intercept=True,\n",
       "                max_iter=None, normalize=False, random_state=2233,\n",
       "                solver='auto', tol=0.001)"
      ]
     },
     "execution_count": 33,
     "metadata": {},
     "output_type": "execute_result"
    }
   ],
   "source": [
    "## Comparing Models with 5 folds\n",
    "compare_models(fold = 5)"
   ]
  },
  {
   "cell_type": "code",
   "execution_count": 41,
   "metadata": {},
   "outputs": [
    {
     "data": {
      "text/html": [
       "<style  type=\"text/css\" >\n",
       "    #T_dbe07512_34a0_11eb_8258_e23c87d3252e th {\n",
       "          text-align: left;\n",
       "    }    #T_dbe07512_34a0_11eb_8258_e23c87d3252erow0_col0 {\n",
       "            text-align:  left;\n",
       "        }    #T_dbe07512_34a0_11eb_8258_e23c87d3252erow0_col1 {\n",
       "            : ;\n",
       "            text-align:  left;\n",
       "        }    #T_dbe07512_34a0_11eb_8258_e23c87d3252erow0_col2 {\n",
       "            background-color:  yellow;\n",
       "            text-align:  left;\n",
       "        }    #T_dbe07512_34a0_11eb_8258_e23c87d3252erow0_col3 {\n",
       "            background-color:  yellow;\n",
       "            text-align:  left;\n",
       "        }    #T_dbe07512_34a0_11eb_8258_e23c87d3252erow0_col4 {\n",
       "            : ;\n",
       "            text-align:  left;\n",
       "        }    #T_dbe07512_34a0_11eb_8258_e23c87d3252erow0_col5 {\n",
       "            background-color:  yellow;\n",
       "            text-align:  left;\n",
       "        }    #T_dbe07512_34a0_11eb_8258_e23c87d3252erow0_col6 {\n",
       "            background-color:  yellow;\n",
       "            text-align:  left;\n",
       "        }    #T_dbe07512_34a0_11eb_8258_e23c87d3252erow0_col7 {\n",
       "            background-color:  yellow;\n",
       "            text-align:  left;\n",
       "        }    #T_dbe07512_34a0_11eb_8258_e23c87d3252erow0_col8 {\n",
       "            background-color:  lightgrey;\n",
       "            text-align:  left;\n",
       "        }    #T_dbe07512_34a0_11eb_8258_e23c87d3252erow1_col0 {\n",
       "            text-align:  left;\n",
       "        }    #T_dbe07512_34a0_11eb_8258_e23c87d3252erow1_col1 {\n",
       "            : ;\n",
       "            text-align:  left;\n",
       "        }    #T_dbe07512_34a0_11eb_8258_e23c87d3252erow1_col2 {\n",
       "            : ;\n",
       "            text-align:  left;\n",
       "        }    #T_dbe07512_34a0_11eb_8258_e23c87d3252erow1_col3 {\n",
       "            : ;\n",
       "            text-align:  left;\n",
       "        }    #T_dbe07512_34a0_11eb_8258_e23c87d3252erow1_col4 {\n",
       "            : ;\n",
       "            text-align:  left;\n",
       "        }    #T_dbe07512_34a0_11eb_8258_e23c87d3252erow1_col5 {\n",
       "            : ;\n",
       "            text-align:  left;\n",
       "        }    #T_dbe07512_34a0_11eb_8258_e23c87d3252erow1_col6 {\n",
       "            : ;\n",
       "            text-align:  left;\n",
       "        }    #T_dbe07512_34a0_11eb_8258_e23c87d3252erow1_col7 {\n",
       "            : ;\n",
       "            text-align:  left;\n",
       "        }    #T_dbe07512_34a0_11eb_8258_e23c87d3252erow1_col8 {\n",
       "            background-color:  lightgrey;\n",
       "            text-align:  left;\n",
       "        }    #T_dbe07512_34a0_11eb_8258_e23c87d3252erow2_col0 {\n",
       "            text-align:  left;\n",
       "        }    #T_dbe07512_34a0_11eb_8258_e23c87d3252erow2_col1 {\n",
       "            : ;\n",
       "            text-align:  left;\n",
       "        }    #T_dbe07512_34a0_11eb_8258_e23c87d3252erow2_col2 {\n",
       "            : ;\n",
       "            text-align:  left;\n",
       "        }    #T_dbe07512_34a0_11eb_8258_e23c87d3252erow2_col3 {\n",
       "            : ;\n",
       "            text-align:  left;\n",
       "        }    #T_dbe07512_34a0_11eb_8258_e23c87d3252erow2_col4 {\n",
       "            : ;\n",
       "            text-align:  left;\n",
       "        }    #T_dbe07512_34a0_11eb_8258_e23c87d3252erow2_col5 {\n",
       "            : ;\n",
       "            text-align:  left;\n",
       "        }    #T_dbe07512_34a0_11eb_8258_e23c87d3252erow2_col6 {\n",
       "            : ;\n",
       "            text-align:  left;\n",
       "        }    #T_dbe07512_34a0_11eb_8258_e23c87d3252erow2_col7 {\n",
       "            : ;\n",
       "            text-align:  left;\n",
       "        }    #T_dbe07512_34a0_11eb_8258_e23c87d3252erow2_col8 {\n",
       "            background-color:  lightgrey;\n",
       "            text-align:  left;\n",
       "        }    #T_dbe07512_34a0_11eb_8258_e23c87d3252erow3_col0 {\n",
       "            text-align:  left;\n",
       "        }    #T_dbe07512_34a0_11eb_8258_e23c87d3252erow3_col1 {\n",
       "            : ;\n",
       "            text-align:  left;\n",
       "        }    #T_dbe07512_34a0_11eb_8258_e23c87d3252erow3_col2 {\n",
       "            : ;\n",
       "            text-align:  left;\n",
       "        }    #T_dbe07512_34a0_11eb_8258_e23c87d3252erow3_col3 {\n",
       "            : ;\n",
       "            text-align:  left;\n",
       "        }    #T_dbe07512_34a0_11eb_8258_e23c87d3252erow3_col4 {\n",
       "            : ;\n",
       "            text-align:  left;\n",
       "        }    #T_dbe07512_34a0_11eb_8258_e23c87d3252erow3_col5 {\n",
       "            : ;\n",
       "            text-align:  left;\n",
       "        }    #T_dbe07512_34a0_11eb_8258_e23c87d3252erow3_col6 {\n",
       "            : ;\n",
       "            text-align:  left;\n",
       "        }    #T_dbe07512_34a0_11eb_8258_e23c87d3252erow3_col7 {\n",
       "            : ;\n",
       "            text-align:  left;\n",
       "        }    #T_dbe07512_34a0_11eb_8258_e23c87d3252erow3_col8 {\n",
       "            background-color:  lightgrey;\n",
       "            text-align:  left;\n",
       "        }    #T_dbe07512_34a0_11eb_8258_e23c87d3252erow4_col0 {\n",
       "            text-align:  left;\n",
       "        }    #T_dbe07512_34a0_11eb_8258_e23c87d3252erow4_col1 {\n",
       "            : ;\n",
       "            text-align:  left;\n",
       "        }    #T_dbe07512_34a0_11eb_8258_e23c87d3252erow4_col2 {\n",
       "            : ;\n",
       "            text-align:  left;\n",
       "        }    #T_dbe07512_34a0_11eb_8258_e23c87d3252erow4_col3 {\n",
       "            : ;\n",
       "            text-align:  left;\n",
       "        }    #T_dbe07512_34a0_11eb_8258_e23c87d3252erow4_col4 {\n",
       "            : ;\n",
       "            text-align:  left;\n",
       "        }    #T_dbe07512_34a0_11eb_8258_e23c87d3252erow4_col5 {\n",
       "            : ;\n",
       "            text-align:  left;\n",
       "        }    #T_dbe07512_34a0_11eb_8258_e23c87d3252erow4_col6 {\n",
       "            : ;\n",
       "            text-align:  left;\n",
       "        }    #T_dbe07512_34a0_11eb_8258_e23c87d3252erow4_col7 {\n",
       "            : ;\n",
       "            text-align:  left;\n",
       "        }    #T_dbe07512_34a0_11eb_8258_e23c87d3252erow4_col8 {\n",
       "            background-color:  lightgrey;\n",
       "            text-align:  left;\n",
       "        }    #T_dbe07512_34a0_11eb_8258_e23c87d3252erow5_col0 {\n",
       "            text-align:  left;\n",
       "        }    #T_dbe07512_34a0_11eb_8258_e23c87d3252erow5_col1 {\n",
       "            : ;\n",
       "            text-align:  left;\n",
       "        }    #T_dbe07512_34a0_11eb_8258_e23c87d3252erow5_col2 {\n",
       "            : ;\n",
       "            text-align:  left;\n",
       "        }    #T_dbe07512_34a0_11eb_8258_e23c87d3252erow5_col3 {\n",
       "            : ;\n",
       "            text-align:  left;\n",
       "        }    #T_dbe07512_34a0_11eb_8258_e23c87d3252erow5_col4 {\n",
       "            : ;\n",
       "            text-align:  left;\n",
       "        }    #T_dbe07512_34a0_11eb_8258_e23c87d3252erow5_col5 {\n",
       "            : ;\n",
       "            text-align:  left;\n",
       "        }    #T_dbe07512_34a0_11eb_8258_e23c87d3252erow5_col6 {\n",
       "            : ;\n",
       "            text-align:  left;\n",
       "        }    #T_dbe07512_34a0_11eb_8258_e23c87d3252erow5_col7 {\n",
       "            : ;\n",
       "            text-align:  left;\n",
       "        }    #T_dbe07512_34a0_11eb_8258_e23c87d3252erow5_col8 {\n",
       "            background-color:  lightgrey;\n",
       "            text-align:  left;\n",
       "        }    #T_dbe07512_34a0_11eb_8258_e23c87d3252erow6_col0 {\n",
       "            text-align:  left;\n",
       "        }    #T_dbe07512_34a0_11eb_8258_e23c87d3252erow6_col1 {\n",
       "            : ;\n",
       "            text-align:  left;\n",
       "        }    #T_dbe07512_34a0_11eb_8258_e23c87d3252erow6_col2 {\n",
       "            : ;\n",
       "            text-align:  left;\n",
       "        }    #T_dbe07512_34a0_11eb_8258_e23c87d3252erow6_col3 {\n",
       "            : ;\n",
       "            text-align:  left;\n",
       "        }    #T_dbe07512_34a0_11eb_8258_e23c87d3252erow6_col4 {\n",
       "            : ;\n",
       "            text-align:  left;\n",
       "        }    #T_dbe07512_34a0_11eb_8258_e23c87d3252erow6_col5 {\n",
       "            : ;\n",
       "            text-align:  left;\n",
       "        }    #T_dbe07512_34a0_11eb_8258_e23c87d3252erow6_col6 {\n",
       "            : ;\n",
       "            text-align:  left;\n",
       "        }    #T_dbe07512_34a0_11eb_8258_e23c87d3252erow6_col7 {\n",
       "            : ;\n",
       "            text-align:  left;\n",
       "        }    #T_dbe07512_34a0_11eb_8258_e23c87d3252erow6_col8 {\n",
       "            background-color:  lightgrey;\n",
       "            text-align:  left;\n",
       "        }    #T_dbe07512_34a0_11eb_8258_e23c87d3252erow7_col0 {\n",
       "            text-align:  left;\n",
       "        }    #T_dbe07512_34a0_11eb_8258_e23c87d3252erow7_col1 {\n",
       "            : ;\n",
       "            text-align:  left;\n",
       "        }    #T_dbe07512_34a0_11eb_8258_e23c87d3252erow7_col2 {\n",
       "            : ;\n",
       "            text-align:  left;\n",
       "        }    #T_dbe07512_34a0_11eb_8258_e23c87d3252erow7_col3 {\n",
       "            : ;\n",
       "            text-align:  left;\n",
       "        }    #T_dbe07512_34a0_11eb_8258_e23c87d3252erow7_col4 {\n",
       "            : ;\n",
       "            text-align:  left;\n",
       "        }    #T_dbe07512_34a0_11eb_8258_e23c87d3252erow7_col5 {\n",
       "            : ;\n",
       "            text-align:  left;\n",
       "        }    #T_dbe07512_34a0_11eb_8258_e23c87d3252erow7_col6 {\n",
       "            : ;\n",
       "            text-align:  left;\n",
       "        }    #T_dbe07512_34a0_11eb_8258_e23c87d3252erow7_col7 {\n",
       "            : ;\n",
       "            text-align:  left;\n",
       "        }    #T_dbe07512_34a0_11eb_8258_e23c87d3252erow7_col8 {\n",
       "            background-color:  lightgrey;\n",
       "            text-align:  left;\n",
       "        }    #T_dbe07512_34a0_11eb_8258_e23c87d3252erow8_col0 {\n",
       "            text-align:  left;\n",
       "        }    #T_dbe07512_34a0_11eb_8258_e23c87d3252erow8_col1 {\n",
       "            : ;\n",
       "            text-align:  left;\n",
       "        }    #T_dbe07512_34a0_11eb_8258_e23c87d3252erow8_col2 {\n",
       "            : ;\n",
       "            text-align:  left;\n",
       "        }    #T_dbe07512_34a0_11eb_8258_e23c87d3252erow8_col3 {\n",
       "            : ;\n",
       "            text-align:  left;\n",
       "        }    #T_dbe07512_34a0_11eb_8258_e23c87d3252erow8_col4 {\n",
       "            : ;\n",
       "            text-align:  left;\n",
       "        }    #T_dbe07512_34a0_11eb_8258_e23c87d3252erow8_col5 {\n",
       "            : ;\n",
       "            text-align:  left;\n",
       "        }    #T_dbe07512_34a0_11eb_8258_e23c87d3252erow8_col6 {\n",
       "            : ;\n",
       "            text-align:  left;\n",
       "        }    #T_dbe07512_34a0_11eb_8258_e23c87d3252erow8_col7 {\n",
       "            : ;\n",
       "            text-align:  left;\n",
       "        }    #T_dbe07512_34a0_11eb_8258_e23c87d3252erow8_col8 {\n",
       "            background-color:  lightgrey;\n",
       "            text-align:  left;\n",
       "        }    #T_dbe07512_34a0_11eb_8258_e23c87d3252erow9_col0 {\n",
       "            text-align:  left;\n",
       "        }    #T_dbe07512_34a0_11eb_8258_e23c87d3252erow9_col1 {\n",
       "            : ;\n",
       "            text-align:  left;\n",
       "        }    #T_dbe07512_34a0_11eb_8258_e23c87d3252erow9_col2 {\n",
       "            : ;\n",
       "            text-align:  left;\n",
       "        }    #T_dbe07512_34a0_11eb_8258_e23c87d3252erow9_col3 {\n",
       "            : ;\n",
       "            text-align:  left;\n",
       "        }    #T_dbe07512_34a0_11eb_8258_e23c87d3252erow9_col4 {\n",
       "            : ;\n",
       "            text-align:  left;\n",
       "        }    #T_dbe07512_34a0_11eb_8258_e23c87d3252erow9_col5 {\n",
       "            : ;\n",
       "            text-align:  left;\n",
       "        }    #T_dbe07512_34a0_11eb_8258_e23c87d3252erow9_col6 {\n",
       "            : ;\n",
       "            text-align:  left;\n",
       "        }    #T_dbe07512_34a0_11eb_8258_e23c87d3252erow9_col7 {\n",
       "            : ;\n",
       "            text-align:  left;\n",
       "        }    #T_dbe07512_34a0_11eb_8258_e23c87d3252erow9_col8 {\n",
       "            background-color:  lightgrey;\n",
       "            text-align:  left;\n",
       "        }    #T_dbe07512_34a0_11eb_8258_e23c87d3252erow10_col0 {\n",
       "            text-align:  left;\n",
       "        }    #T_dbe07512_34a0_11eb_8258_e23c87d3252erow10_col1 {\n",
       "            : ;\n",
       "            text-align:  left;\n",
       "        }    #T_dbe07512_34a0_11eb_8258_e23c87d3252erow10_col2 {\n",
       "            : ;\n",
       "            text-align:  left;\n",
       "        }    #T_dbe07512_34a0_11eb_8258_e23c87d3252erow10_col3 {\n",
       "            : ;\n",
       "            text-align:  left;\n",
       "        }    #T_dbe07512_34a0_11eb_8258_e23c87d3252erow10_col4 {\n",
       "            : ;\n",
       "            text-align:  left;\n",
       "        }    #T_dbe07512_34a0_11eb_8258_e23c87d3252erow10_col5 {\n",
       "            : ;\n",
       "            text-align:  left;\n",
       "        }    #T_dbe07512_34a0_11eb_8258_e23c87d3252erow10_col6 {\n",
       "            : ;\n",
       "            text-align:  left;\n",
       "        }    #T_dbe07512_34a0_11eb_8258_e23c87d3252erow10_col7 {\n",
       "            : ;\n",
       "            text-align:  left;\n",
       "        }    #T_dbe07512_34a0_11eb_8258_e23c87d3252erow10_col8 {\n",
       "            background-color:  lightgrey;\n",
       "            text-align:  left;\n",
       "        }    #T_dbe07512_34a0_11eb_8258_e23c87d3252erow11_col0 {\n",
       "            text-align:  left;\n",
       "        }    #T_dbe07512_34a0_11eb_8258_e23c87d3252erow11_col1 {\n",
       "            : ;\n",
       "            text-align:  left;\n",
       "        }    #T_dbe07512_34a0_11eb_8258_e23c87d3252erow11_col2 {\n",
       "            : ;\n",
       "            text-align:  left;\n",
       "        }    #T_dbe07512_34a0_11eb_8258_e23c87d3252erow11_col3 {\n",
       "            : ;\n",
       "            text-align:  left;\n",
       "        }    #T_dbe07512_34a0_11eb_8258_e23c87d3252erow11_col4 {\n",
       "            : ;\n",
       "            text-align:  left;\n",
       "        }    #T_dbe07512_34a0_11eb_8258_e23c87d3252erow11_col5 {\n",
       "            : ;\n",
       "            text-align:  left;\n",
       "        }    #T_dbe07512_34a0_11eb_8258_e23c87d3252erow11_col6 {\n",
       "            : ;\n",
       "            text-align:  left;\n",
       "        }    #T_dbe07512_34a0_11eb_8258_e23c87d3252erow11_col7 {\n",
       "            : ;\n",
       "            text-align:  left;\n",
       "        }    #T_dbe07512_34a0_11eb_8258_e23c87d3252erow11_col8 {\n",
       "            background-color:  lightgrey;\n",
       "            text-align:  left;\n",
       "        }    #T_dbe07512_34a0_11eb_8258_e23c87d3252erow12_col0 {\n",
       "            text-align:  left;\n",
       "        }    #T_dbe07512_34a0_11eb_8258_e23c87d3252erow12_col1 {\n",
       "            : ;\n",
       "            text-align:  left;\n",
       "        }    #T_dbe07512_34a0_11eb_8258_e23c87d3252erow12_col2 {\n",
       "            : ;\n",
       "            text-align:  left;\n",
       "        }    #T_dbe07512_34a0_11eb_8258_e23c87d3252erow12_col3 {\n",
       "            : ;\n",
       "            text-align:  left;\n",
       "        }    #T_dbe07512_34a0_11eb_8258_e23c87d3252erow12_col4 {\n",
       "            : ;\n",
       "            text-align:  left;\n",
       "        }    #T_dbe07512_34a0_11eb_8258_e23c87d3252erow12_col5 {\n",
       "            : ;\n",
       "            text-align:  left;\n",
       "        }    #T_dbe07512_34a0_11eb_8258_e23c87d3252erow12_col6 {\n",
       "            : ;\n",
       "            text-align:  left;\n",
       "        }    #T_dbe07512_34a0_11eb_8258_e23c87d3252erow12_col7 {\n",
       "            : ;\n",
       "            text-align:  left;\n",
       "        }    #T_dbe07512_34a0_11eb_8258_e23c87d3252erow12_col8 {\n",
       "            background-color:  lightgrey;\n",
       "            text-align:  left;\n",
       "        }    #T_dbe07512_34a0_11eb_8258_e23c87d3252erow13_col0 {\n",
       "            text-align:  left;\n",
       "        }    #T_dbe07512_34a0_11eb_8258_e23c87d3252erow13_col1 {\n",
       "            : ;\n",
       "            text-align:  left;\n",
       "        }    #T_dbe07512_34a0_11eb_8258_e23c87d3252erow13_col2 {\n",
       "            : ;\n",
       "            text-align:  left;\n",
       "        }    #T_dbe07512_34a0_11eb_8258_e23c87d3252erow13_col3 {\n",
       "            : ;\n",
       "            text-align:  left;\n",
       "        }    #T_dbe07512_34a0_11eb_8258_e23c87d3252erow13_col4 {\n",
       "            : ;\n",
       "            text-align:  left;\n",
       "        }    #T_dbe07512_34a0_11eb_8258_e23c87d3252erow13_col5 {\n",
       "            : ;\n",
       "            text-align:  left;\n",
       "        }    #T_dbe07512_34a0_11eb_8258_e23c87d3252erow13_col6 {\n",
       "            : ;\n",
       "            text-align:  left;\n",
       "        }    #T_dbe07512_34a0_11eb_8258_e23c87d3252erow13_col7 {\n",
       "            : ;\n",
       "            text-align:  left;\n",
       "        }    #T_dbe07512_34a0_11eb_8258_e23c87d3252erow13_col8 {\n",
       "            background-color:  lightgrey;\n",
       "            text-align:  left;\n",
       "        }    #T_dbe07512_34a0_11eb_8258_e23c87d3252erow14_col0 {\n",
       "            text-align:  left;\n",
       "        }    #T_dbe07512_34a0_11eb_8258_e23c87d3252erow14_col1 {\n",
       "            background-color:  yellow;\n",
       "            text-align:  left;\n",
       "        }    #T_dbe07512_34a0_11eb_8258_e23c87d3252erow14_col2 {\n",
       "            : ;\n",
       "            text-align:  left;\n",
       "        }    #T_dbe07512_34a0_11eb_8258_e23c87d3252erow14_col3 {\n",
       "            : ;\n",
       "            text-align:  left;\n",
       "        }    #T_dbe07512_34a0_11eb_8258_e23c87d3252erow14_col4 {\n",
       "            background-color:  yellow;\n",
       "            text-align:  left;\n",
       "        }    #T_dbe07512_34a0_11eb_8258_e23c87d3252erow14_col5 {\n",
       "            : ;\n",
       "            text-align:  left;\n",
       "        }    #T_dbe07512_34a0_11eb_8258_e23c87d3252erow14_col6 {\n",
       "            : ;\n",
       "            text-align:  left;\n",
       "        }    #T_dbe07512_34a0_11eb_8258_e23c87d3252erow14_col7 {\n",
       "            : ;\n",
       "            text-align:  left;\n",
       "        }    #T_dbe07512_34a0_11eb_8258_e23c87d3252erow14_col8 {\n",
       "            background-color:  lightgrey;\n",
       "            text-align:  left;\n",
       "        }</style><table id=\"T_dbe07512_34a0_11eb_8258_e23c87d3252e\" ><thead>    <tr>        <th class=\"blank level0\" ></th>        <th class=\"col_heading level0 col0\" >Model</th>        <th class=\"col_heading level0 col1\" >Accuracy</th>        <th class=\"col_heading level0 col2\" >AUC</th>        <th class=\"col_heading level0 col3\" >Recall</th>        <th class=\"col_heading level0 col4\" >Prec.</th>        <th class=\"col_heading level0 col5\" >F1</th>        <th class=\"col_heading level0 col6\" >Kappa</th>        <th class=\"col_heading level0 col7\" >MCC</th>        <th class=\"col_heading level0 col8\" >TT (Sec)</th>    </tr></thead><tbody>\n",
       "                <tr>\n",
       "                        <th id=\"T_dbe07512_34a0_11eb_8258_e23c87d3252elevel0_row0\" class=\"row_heading level0 row0\" >0</th>\n",
       "                        <td id=\"T_dbe07512_34a0_11eb_8258_e23c87d3252erow0_col0\" class=\"data row0 col0\" >CatBoost Classifier</td>\n",
       "                        <td id=\"T_dbe07512_34a0_11eb_8258_e23c87d3252erow0_col1\" class=\"data row0 col1\" >0.7597</td>\n",
       "                        <td id=\"T_dbe07512_34a0_11eb_8258_e23c87d3252erow0_col2\" class=\"data row0 col2\" >0.8271</td>\n",
       "                        <td id=\"T_dbe07512_34a0_11eb_8258_e23c87d3252erow0_col3\" class=\"data row0 col3\" >0.5933</td>\n",
       "                        <td id=\"T_dbe07512_34a0_11eb_8258_e23c87d3252erow0_col4\" class=\"data row0 col4\" >0.6851</td>\n",
       "                        <td id=\"T_dbe07512_34a0_11eb_8258_e23c87d3252erow0_col5\" class=\"data row0 col5\" >0.6328</td>\n",
       "                        <td id=\"T_dbe07512_34a0_11eb_8258_e23c87d3252erow0_col6\" class=\"data row0 col6\" >0.4559</td>\n",
       "                        <td id=\"T_dbe07512_34a0_11eb_8258_e23c87d3252erow0_col7\" class=\"data row0 col7\" >0.4609</td>\n",
       "                        <td id=\"T_dbe07512_34a0_11eb_8258_e23c87d3252erow0_col8\" class=\"data row0 col8\" >4.0649</td>\n",
       "            </tr>\n",
       "            <tr>\n",
       "                        <th id=\"T_dbe07512_34a0_11eb_8258_e23c87d3252elevel0_row1\" class=\"row_heading level0 row1\" >1</th>\n",
       "                        <td id=\"T_dbe07512_34a0_11eb_8258_e23c87d3252erow1_col0\" class=\"data row1 col0\" >Logistic Regression</td>\n",
       "                        <td id=\"T_dbe07512_34a0_11eb_8258_e23c87d3252erow1_col1\" class=\"data row1 col1\" >0.7505</td>\n",
       "                        <td id=\"T_dbe07512_34a0_11eb_8258_e23c87d3252erow1_col2\" class=\"data row1 col2\" >0.8137</td>\n",
       "                        <td id=\"T_dbe07512_34a0_11eb_8258_e23c87d3252erow1_col3\" class=\"data row1 col3\" >0.5613</td>\n",
       "                        <td id=\"T_dbe07512_34a0_11eb_8258_e23c87d3252erow1_col4\" class=\"data row1 col4\" >0.6713</td>\n",
       "                        <td id=\"T_dbe07512_34a0_11eb_8258_e23c87d3252erow1_col5\" class=\"data row1 col5\" >0.6084</td>\n",
       "                        <td id=\"T_dbe07512_34a0_11eb_8258_e23c87d3252erow1_col6\" class=\"data row1 col6\" >0.4282</td>\n",
       "                        <td id=\"T_dbe07512_34a0_11eb_8258_e23c87d3252erow1_col7\" class=\"data row1 col7\" >0.4338</td>\n",
       "                        <td id=\"T_dbe07512_34a0_11eb_8258_e23c87d3252erow1_col8\" class=\"data row1 col8\" >0.0950</td>\n",
       "            </tr>\n",
       "            <tr>\n",
       "                        <th id=\"T_dbe07512_34a0_11eb_8258_e23c87d3252elevel0_row2\" class=\"row_heading level0 row2\" >2</th>\n",
       "                        <td id=\"T_dbe07512_34a0_11eb_8258_e23c87d3252erow2_col0\" class=\"data row2 col0\" >Linear Discriminant Analysis</td>\n",
       "                        <td id=\"T_dbe07512_34a0_11eb_8258_e23c87d3252erow2_col1\" class=\"data row2 col1\" >0.7561</td>\n",
       "                        <td id=\"T_dbe07512_34a0_11eb_8258_e23c87d3252erow2_col2\" class=\"data row2 col2\" >0.8136</td>\n",
       "                        <td id=\"T_dbe07512_34a0_11eb_8258_e23c87d3252erow2_col3\" class=\"data row2 col3\" >0.5398</td>\n",
       "                        <td id=\"T_dbe07512_34a0_11eb_8258_e23c87d3252erow2_col4\" class=\"data row2 col4\" >0.6949</td>\n",
       "                        <td id=\"T_dbe07512_34a0_11eb_8258_e23c87d3252erow2_col5\" class=\"data row2 col5\" >0.6052</td>\n",
       "                        <td id=\"T_dbe07512_34a0_11eb_8258_e23c87d3252erow2_col6\" class=\"data row2 col6\" >0.4332</td>\n",
       "                        <td id=\"T_dbe07512_34a0_11eb_8258_e23c87d3252erow2_col7\" class=\"data row2 col7\" >0.4420</td>\n",
       "                        <td id=\"T_dbe07512_34a0_11eb_8258_e23c87d3252erow2_col8\" class=\"data row2 col8\" >0.0124</td>\n",
       "            </tr>\n",
       "            <tr>\n",
       "                        <th id=\"T_dbe07512_34a0_11eb_8258_e23c87d3252elevel0_row3\" class=\"row_heading level0 row3\" >3</th>\n",
       "                        <td id=\"T_dbe07512_34a0_11eb_8258_e23c87d3252erow3_col0\" class=\"data row3 col0\" >Gradient Boosting Classifier</td>\n",
       "                        <td id=\"T_dbe07512_34a0_11eb_8258_e23c87d3252erow3_col1\" class=\"data row3 col1\" >0.7374</td>\n",
       "                        <td id=\"T_dbe07512_34a0_11eb_8258_e23c87d3252erow3_col2\" class=\"data row3 col2\" >0.8091</td>\n",
       "                        <td id=\"T_dbe07512_34a0_11eb_8258_e23c87d3252erow3_col3\" class=\"data row3 col3\" >0.5770</td>\n",
       "                        <td id=\"T_dbe07512_34a0_11eb_8258_e23c87d3252erow3_col4\" class=\"data row3 col4\" >0.6335</td>\n",
       "                        <td id=\"T_dbe07512_34a0_11eb_8258_e23c87d3252erow3_col5\" class=\"data row3 col5\" >0.6012</td>\n",
       "                        <td id=\"T_dbe07512_34a0_11eb_8258_e23c87d3252erow3_col6\" class=\"data row3 col6\" >0.4070</td>\n",
       "                        <td id=\"T_dbe07512_34a0_11eb_8258_e23c87d3252erow3_col7\" class=\"data row3 col7\" >0.4094</td>\n",
       "                        <td id=\"T_dbe07512_34a0_11eb_8258_e23c87d3252erow3_col8\" class=\"data row3 col8\" >0.2668</td>\n",
       "            </tr>\n",
       "            <tr>\n",
       "                        <th id=\"T_dbe07512_34a0_11eb_8258_e23c87d3252elevel0_row4\" class=\"row_heading level0 row4\" >4</th>\n",
       "                        <td id=\"T_dbe07512_34a0_11eb_8258_e23c87d3252erow4_col0\" class=\"data row4 col0\" >Light Gradient Boosting Machine</td>\n",
       "                        <td id=\"T_dbe07512_34a0_11eb_8258_e23c87d3252erow4_col1\" class=\"data row4 col1\" >0.7132</td>\n",
       "                        <td id=\"T_dbe07512_34a0_11eb_8258_e23c87d3252erow4_col2\" class=\"data row4 col2\" >0.7917</td>\n",
       "                        <td id=\"T_dbe07512_34a0_11eb_8258_e23c87d3252erow4_col3\" class=\"data row4 col3\" >0.5450</td>\n",
       "                        <td id=\"T_dbe07512_34a0_11eb_8258_e23c87d3252erow4_col4\" class=\"data row4 col4\" >0.6078</td>\n",
       "                        <td id=\"T_dbe07512_34a0_11eb_8258_e23c87d3252erow4_col5\" class=\"data row4 col5\" >0.5693</td>\n",
       "                        <td id=\"T_dbe07512_34a0_11eb_8258_e23c87d3252erow4_col6\" class=\"data row4 col6\" >0.3563</td>\n",
       "                        <td id=\"T_dbe07512_34a0_11eb_8258_e23c87d3252erow4_col7\" class=\"data row4 col7\" >0.3610</td>\n",
       "                        <td id=\"T_dbe07512_34a0_11eb_8258_e23c87d3252erow4_col8\" class=\"data row4 col8\" >0.1808</td>\n",
       "            </tr>\n",
       "            <tr>\n",
       "                        <th id=\"T_dbe07512_34a0_11eb_8258_e23c87d3252elevel0_row5\" class=\"row_heading level0 row5\" >5</th>\n",
       "                        <td id=\"T_dbe07512_34a0_11eb_8258_e23c87d3252erow5_col0\" class=\"data row5 col0\" >Extra Trees Classifier</td>\n",
       "                        <td id=\"T_dbe07512_34a0_11eb_8258_e23c87d3252erow5_col1\" class=\"data row5 col1\" >0.7299</td>\n",
       "                        <td id=\"T_dbe07512_34a0_11eb_8258_e23c87d3252erow5_col2\" class=\"data row5 col2\" >0.7857</td>\n",
       "                        <td id=\"T_dbe07512_34a0_11eb_8258_e23c87d3252erow5_col3\" class=\"data row5 col3\" >0.5131</td>\n",
       "                        <td id=\"T_dbe07512_34a0_11eb_8258_e23c87d3252erow5_col4\" class=\"data row5 col4\" >0.6421</td>\n",
       "                        <td id=\"T_dbe07512_34a0_11eb_8258_e23c87d3252erow5_col5\" class=\"data row5 col5\" >0.5683</td>\n",
       "                        <td id=\"T_dbe07512_34a0_11eb_8258_e23c87d3252erow5_col6\" class=\"data row5 col6\" >0.3758</td>\n",
       "                        <td id=\"T_dbe07512_34a0_11eb_8258_e23c87d3252erow5_col7\" class=\"data row5 col7\" >0.3822</td>\n",
       "                        <td id=\"T_dbe07512_34a0_11eb_8258_e23c87d3252erow5_col8\" class=\"data row5 col8\" >0.2765</td>\n",
       "            </tr>\n",
       "            <tr>\n",
       "                        <th id=\"T_dbe07512_34a0_11eb_8258_e23c87d3252elevel0_row6\" class=\"row_heading level0 row6\" >6</th>\n",
       "                        <td id=\"T_dbe07512_34a0_11eb_8258_e23c87d3252erow6_col0\" class=\"data row6 col0\" >Extreme Gradient Boosting</td>\n",
       "                        <td id=\"T_dbe07512_34a0_11eb_8258_e23c87d3252erow6_col1\" class=\"data row6 col1\" >0.7095</td>\n",
       "                        <td id=\"T_dbe07512_34a0_11eb_8258_e23c87d3252erow6_col2\" class=\"data row6 col2\" >0.7842</td>\n",
       "                        <td id=\"T_dbe07512_34a0_11eb_8258_e23c87d3252erow6_col3\" class=\"data row6 col3\" >0.5511</td>\n",
       "                        <td id=\"T_dbe07512_34a0_11eb_8258_e23c87d3252erow6_col4\" class=\"data row6 col4\" >0.5959</td>\n",
       "                        <td id=\"T_dbe07512_34a0_11eb_8258_e23c87d3252erow6_col5\" class=\"data row6 col5\" >0.5693</td>\n",
       "                        <td id=\"T_dbe07512_34a0_11eb_8258_e23c87d3252erow6_col6\" class=\"data row6 col6\" >0.3515</td>\n",
       "                        <td id=\"T_dbe07512_34a0_11eb_8258_e23c87d3252erow6_col7\" class=\"data row6 col7\" >0.3544</td>\n",
       "                        <td id=\"T_dbe07512_34a0_11eb_8258_e23c87d3252erow6_col8\" class=\"data row6 col8\" >0.2170</td>\n",
       "            </tr>\n",
       "            <tr>\n",
       "                        <th id=\"T_dbe07512_34a0_11eb_8258_e23c87d3252elevel0_row7\" class=\"row_heading level0 row7\" >7</th>\n",
       "                        <td id=\"T_dbe07512_34a0_11eb_8258_e23c87d3252erow7_col0\" class=\"data row7 col0\" >Random Forest Classifier</td>\n",
       "                        <td id=\"T_dbe07512_34a0_11eb_8258_e23c87d3252erow7_col1\" class=\"data row7 col1\" >0.7394</td>\n",
       "                        <td id=\"T_dbe07512_34a0_11eb_8258_e23c87d3252erow7_col2\" class=\"data row7 col2\" >0.7770</td>\n",
       "                        <td id=\"T_dbe07512_34a0_11eb_8258_e23c87d3252erow7_col3\" class=\"data row7 col3\" >0.4977</td>\n",
       "                        <td id=\"T_dbe07512_34a0_11eb_8258_e23c87d3252erow7_col4\" class=\"data row7 col4\" >0.6875</td>\n",
       "                        <td id=\"T_dbe07512_34a0_11eb_8258_e23c87d3252erow7_col5\" class=\"data row7 col5\" >0.5713</td>\n",
       "                        <td id=\"T_dbe07512_34a0_11eb_8258_e23c87d3252erow7_col6\" class=\"data row7 col6\" >0.3910</td>\n",
       "                        <td id=\"T_dbe07512_34a0_11eb_8258_e23c87d3252erow7_col7\" class=\"data row7 col7\" >0.4056</td>\n",
       "                        <td id=\"T_dbe07512_34a0_11eb_8258_e23c87d3252erow7_col8\" class=\"data row7 col8\" >0.1378</td>\n",
       "            </tr>\n",
       "            <tr>\n",
       "                        <th id=\"T_dbe07512_34a0_11eb_8258_e23c87d3252elevel0_row8\" class=\"row_heading level0 row8\" >8</th>\n",
       "                        <td id=\"T_dbe07512_34a0_11eb_8258_e23c87d3252erow8_col0\" class=\"data row8 col0\" >K Neighbors Classifier</td>\n",
       "                        <td id=\"T_dbe07512_34a0_11eb_8258_e23c87d3252erow8_col1\" class=\"data row8 col1\" >0.7411</td>\n",
       "                        <td id=\"T_dbe07512_34a0_11eb_8258_e23c87d3252erow8_col2\" class=\"data row8 col2\" >0.7589</td>\n",
       "                        <td id=\"T_dbe07512_34a0_11eb_8258_e23c87d3252erow8_col3\" class=\"data row8 col3\" >0.5612</td>\n",
       "                        <td id=\"T_dbe07512_34a0_11eb_8258_e23c87d3252erow8_col4\" class=\"data row8 col4\" >0.6533</td>\n",
       "                        <td id=\"T_dbe07512_34a0_11eb_8258_e23c87d3252erow8_col5\" class=\"data row8 col5\" >0.6004</td>\n",
       "                        <td id=\"T_dbe07512_34a0_11eb_8258_e23c87d3252erow8_col6\" class=\"data row8 col6\" >0.4112</td>\n",
       "                        <td id=\"T_dbe07512_34a0_11eb_8258_e23c87d3252erow8_col7\" class=\"data row8 col7\" >0.4160</td>\n",
       "                        <td id=\"T_dbe07512_34a0_11eb_8258_e23c87d3252erow8_col8\" class=\"data row8 col8\" >0.0104</td>\n",
       "            </tr>\n",
       "            <tr>\n",
       "                        <th id=\"T_dbe07512_34a0_11eb_8258_e23c87d3252elevel0_row9\" class=\"row_heading level0 row9\" >9</th>\n",
       "                        <td id=\"T_dbe07512_34a0_11eb_8258_e23c87d3252erow9_col0\" class=\"data row9 col0\" >Ada Boost Classifier</td>\n",
       "                        <td id=\"T_dbe07512_34a0_11eb_8258_e23c87d3252erow9_col1\" class=\"data row9 col1\" >0.7038</td>\n",
       "                        <td id=\"T_dbe07512_34a0_11eb_8258_e23c87d3252erow9_col2\" class=\"data row9 col2\" >0.7458</td>\n",
       "                        <td id=\"T_dbe07512_34a0_11eb_8258_e23c87d3252erow9_col3\" class=\"data row9 col3\" >0.5235</td>\n",
       "                        <td id=\"T_dbe07512_34a0_11eb_8258_e23c87d3252erow9_col4\" class=\"data row9 col4\" >0.5880</td>\n",
       "                        <td id=\"T_dbe07512_34a0_11eb_8258_e23c87d3252erow9_col5\" class=\"data row9 col5\" >0.5518</td>\n",
       "                        <td id=\"T_dbe07512_34a0_11eb_8258_e23c87d3252erow9_col6\" class=\"data row9 col6\" >0.3321</td>\n",
       "                        <td id=\"T_dbe07512_34a0_11eb_8258_e23c87d3252erow9_col7\" class=\"data row9 col7\" >0.3347</td>\n",
       "                        <td id=\"T_dbe07512_34a0_11eb_8258_e23c87d3252erow9_col8\" class=\"data row9 col8\" >0.2205</td>\n",
       "            </tr>\n",
       "            <tr>\n",
       "                        <th id=\"T_dbe07512_34a0_11eb_8258_e23c87d3252elevel0_row10\" class=\"row_heading level0 row10\" >10</th>\n",
       "                        <td id=\"T_dbe07512_34a0_11eb_8258_e23c87d3252erow10_col0\" class=\"data row10 col0\" >Naive Bayes</td>\n",
       "                        <td id=\"T_dbe07512_34a0_11eb_8258_e23c87d3252erow10_col1\" class=\"data row10 col1\" >0.6760</td>\n",
       "                        <td id=\"T_dbe07512_34a0_11eb_8258_e23c87d3252erow10_col2\" class=\"data row10 col2\" >0.7428</td>\n",
       "                        <td id=\"T_dbe07512_34a0_11eb_8258_e23c87d3252erow10_col3\" class=\"data row10 col3\" >0.3054</td>\n",
       "                        <td id=\"T_dbe07512_34a0_11eb_8258_e23c87d3252erow10_col4\" class=\"data row10 col4\" >0.5553</td>\n",
       "                        <td id=\"T_dbe07512_34a0_11eb_8258_e23c87d3252erow10_col5\" class=\"data row10 col5\" >0.3861</td>\n",
       "                        <td id=\"T_dbe07512_34a0_11eb_8258_e23c87d3252erow10_col6\" class=\"data row10 col6\" >0.1976</td>\n",
       "                        <td id=\"T_dbe07512_34a0_11eb_8258_e23c87d3252erow10_col7\" class=\"data row10 col7\" >0.2145</td>\n",
       "                        <td id=\"T_dbe07512_34a0_11eb_8258_e23c87d3252erow10_col8\" class=\"data row10 col8\" >0.0155</td>\n",
       "            </tr>\n",
       "            <tr>\n",
       "                        <th id=\"T_dbe07512_34a0_11eb_8258_e23c87d3252elevel0_row11\" class=\"row_heading level0 row11\" >11</th>\n",
       "                        <td id=\"T_dbe07512_34a0_11eb_8258_e23c87d3252erow11_col0\" class=\"data row11 col0\" >Decision Tree Classifier</td>\n",
       "                        <td id=\"T_dbe07512_34a0_11eb_8258_e23c87d3252erow11_col1\" class=\"data row11 col1\" >0.6964</td>\n",
       "                        <td id=\"T_dbe07512_34a0_11eb_8258_e23c87d3252erow11_col2\" class=\"data row11 col2\" >0.6574</td>\n",
       "                        <td id=\"T_dbe07512_34a0_11eb_8258_e23c87d3252erow11_col3\" class=\"data row11 col3\" >0.5290</td>\n",
       "                        <td id=\"T_dbe07512_34a0_11eb_8258_e23c87d3252erow11_col4\" class=\"data row11 col4\" >0.5694</td>\n",
       "                        <td id=\"T_dbe07512_34a0_11eb_8258_e23c87d3252erow11_col5\" class=\"data row11 col5\" >0.5482</td>\n",
       "                        <td id=\"T_dbe07512_34a0_11eb_8258_e23c87d3252erow11_col6\" class=\"data row11 col6\" >0.3201</td>\n",
       "                        <td id=\"T_dbe07512_34a0_11eb_8258_e23c87d3252erow11_col7\" class=\"data row11 col7\" >0.3207</td>\n",
       "                        <td id=\"T_dbe07512_34a0_11eb_8258_e23c87d3252erow11_col8\" class=\"data row11 col8\" >0.0118</td>\n",
       "            </tr>\n",
       "            <tr>\n",
       "                        <th id=\"T_dbe07512_34a0_11eb_8258_e23c87d3252elevel0_row12\" class=\"row_heading level0 row12\" >12</th>\n",
       "                        <td id=\"T_dbe07512_34a0_11eb_8258_e23c87d3252erow12_col0\" class=\"data row12 col0\" >Quadratic Discriminant Analysis</td>\n",
       "                        <td id=\"T_dbe07512_34a0_11eb_8258_e23c87d3252erow12_col1\" class=\"data row12 col1\" >0.5602</td>\n",
       "                        <td id=\"T_dbe07512_34a0_11eb_8258_e23c87d3252erow12_col2\" class=\"data row12 col2\" >0.5742</td>\n",
       "                        <td id=\"T_dbe07512_34a0_11eb_8258_e23c87d3252erow12_col3\" class=\"data row12 col3\" >0.5640</td>\n",
       "                        <td id=\"T_dbe07512_34a0_11eb_8258_e23c87d3252erow12_col4\" class=\"data row12 col4\" >0.4677</td>\n",
       "                        <td id=\"T_dbe07512_34a0_11eb_8258_e23c87d3252erow12_col5\" class=\"data row12 col5\" >0.4470</td>\n",
       "                        <td id=\"T_dbe07512_34a0_11eb_8258_e23c87d3252erow12_col6\" class=\"data row12 col6\" >0.1264</td>\n",
       "                        <td id=\"T_dbe07512_34a0_11eb_8258_e23c87d3252erow12_col7\" class=\"data row12 col7\" >0.1457</td>\n",
       "                        <td id=\"T_dbe07512_34a0_11eb_8258_e23c87d3252erow12_col8\" class=\"data row12 col8\" >0.0085</td>\n",
       "            </tr>\n",
       "            <tr>\n",
       "                        <th id=\"T_dbe07512_34a0_11eb_8258_e23c87d3252elevel0_row13\" class=\"row_heading level0 row13\" >13</th>\n",
       "                        <td id=\"T_dbe07512_34a0_11eb_8258_e23c87d3252erow13_col0\" class=\"data row13 col0\" >SVM - Linear Kernel</td>\n",
       "                        <td id=\"T_dbe07512_34a0_11eb_8258_e23c87d3252erow13_col1\" class=\"data row13 col1\" >0.5978</td>\n",
       "                        <td id=\"T_dbe07512_34a0_11eb_8258_e23c87d3252erow13_col2\" class=\"data row13 col2\" >0.0000</td>\n",
       "                        <td id=\"T_dbe07512_34a0_11eb_8258_e23c87d3252erow13_col3\" class=\"data row13 col3\" >0.2245</td>\n",
       "                        <td id=\"T_dbe07512_34a0_11eb_8258_e23c87d3252erow13_col4\" class=\"data row13 col4\" >0.3465</td>\n",
       "                        <td id=\"T_dbe07512_34a0_11eb_8258_e23c87d3252erow13_col5\" class=\"data row13 col5\" >0.2289</td>\n",
       "                        <td id=\"T_dbe07512_34a0_11eb_8258_e23c87d3252erow13_col6\" class=\"data row13 col6\" >0.0273</td>\n",
       "                        <td id=\"T_dbe07512_34a0_11eb_8258_e23c87d3252erow13_col7\" class=\"data row13 col7\" >0.0402</td>\n",
       "                        <td id=\"T_dbe07512_34a0_11eb_8258_e23c87d3252erow13_col8\" class=\"data row13 col8\" >0.0098</td>\n",
       "            </tr>\n",
       "            <tr>\n",
       "                        <th id=\"T_dbe07512_34a0_11eb_8258_e23c87d3252elevel0_row14\" class=\"row_heading level0 row14\" >14</th>\n",
       "                        <td id=\"T_dbe07512_34a0_11eb_8258_e23c87d3252erow14_col0\" class=\"data row14 col0\" >Ridge Classifier</td>\n",
       "                        <td id=\"T_dbe07512_34a0_11eb_8258_e23c87d3252erow14_col1\" class=\"data row14 col1\" >0.7598</td>\n",
       "                        <td id=\"T_dbe07512_34a0_11eb_8258_e23c87d3252erow14_col2\" class=\"data row14 col2\" >0.0000</td>\n",
       "                        <td id=\"T_dbe07512_34a0_11eb_8258_e23c87d3252erow14_col3\" class=\"data row14 col3\" >0.5451</td>\n",
       "                        <td id=\"T_dbe07512_34a0_11eb_8258_e23c87d3252erow14_col4\" class=\"data row14 col4\" >0.7026</td>\n",
       "                        <td id=\"T_dbe07512_34a0_11eb_8258_e23c87d3252erow14_col5\" class=\"data row14 col5\" >0.6115</td>\n",
       "                        <td id=\"T_dbe07512_34a0_11eb_8258_e23c87d3252erow14_col6\" class=\"data row14 col6\" >0.4419</td>\n",
       "                        <td id=\"T_dbe07512_34a0_11eb_8258_e23c87d3252erow14_col7\" class=\"data row14 col7\" >0.4510</td>\n",
       "                        <td id=\"T_dbe07512_34a0_11eb_8258_e23c87d3252erow14_col8\" class=\"data row14 col8\" >0.0083</td>\n",
       "            </tr>\n",
       "    </tbody></table>"
      ],
      "text/plain": [
       "<pandas.io.formats.style.Styler at 0x227e91b72c8>"
      ]
     },
     "metadata": {},
     "output_type": "display_data"
    },
    {
     "data": {
      "text/plain": [
       "[<catboost.core.CatBoostClassifier at 0x227e81bb948>,\n",
       " LogisticRegression(C=1.0, class_weight=None, dual=False, fit_intercept=True,\n",
       "                    intercept_scaling=1, l1_ratio=None, max_iter=100,\n",
       "                    multi_class='auto', n_jobs=None, penalty='l2',\n",
       "                    random_state=2233, solver='lbfgs', tol=0.0001, verbose=0,\n",
       "                    warm_start=False),\n",
       " LinearDiscriminantAnalysis(n_components=None, priors=None, shrinkage=None,\n",
       "                            solver='svd', store_covariance=False, tol=0.0001)]"
      ]
     },
     "execution_count": 41,
     "metadata": {},
     "output_type": "execute_result"
    }
   ],
   "source": [
    "## Sorting on the basis of AUC \n",
    "compare_models(sort = 'AUC', fold = 5, n_select = 3)"
   ]
  },
  {
   "cell_type": "code",
   "execution_count": 43,
   "metadata": {},
   "outputs": [
    {
     "name": "stdout",
     "output_type": "stream",
     "text": [
      "Setup Succesfully Completed!\n"
     ]
    },
    {
     "data": {
      "text/html": [
       "<style  type=\"text/css\" >\n",
       "    #T_470cf51c_34a1_11eb_8d2c_e23c87d3252erow15_col1 {\n",
       "            background-color:  lightgreen;\n",
       "        }    #T_470cf51c_34a1_11eb_8d2c_e23c87d3252erow17_col1 {\n",
       "            background-color:  lightgreen;\n",
       "        }    #T_470cf51c_34a1_11eb_8d2c_e23c87d3252erow19_col1 {\n",
       "            background-color:  lightgreen;\n",
       "        }    #T_470cf51c_34a1_11eb_8d2c_e23c87d3252erow26_col1 {\n",
       "            background-color:  lightgreen;\n",
       "        }    #T_470cf51c_34a1_11eb_8d2c_e23c87d3252erow37_col1 {\n",
       "            background-color:  lightgreen;\n",
       "        }</style><table id=\"T_470cf51c_34a1_11eb_8d2c_e23c87d3252e\" ><thead>    <tr>        <th class=\"blank level0\" ></th>        <th class=\"col_heading level0 col0\" >Description</th>        <th class=\"col_heading level0 col1\" >Value</th>    </tr></thead><tbody>\n",
       "                <tr>\n",
       "                        <th id=\"T_470cf51c_34a1_11eb_8d2c_e23c87d3252elevel0_row0\" class=\"row_heading level0 row0\" >0</th>\n",
       "                        <td id=\"T_470cf51c_34a1_11eb_8d2c_e23c87d3252erow0_col0\" class=\"data row0 col0\" >session_id</td>\n",
       "                        <td id=\"T_470cf51c_34a1_11eb_8d2c_e23c87d3252erow0_col1\" class=\"data row0 col1\" >6846</td>\n",
       "            </tr>\n",
       "            <tr>\n",
       "                        <th id=\"T_470cf51c_34a1_11eb_8d2c_e23c87d3252elevel0_row1\" class=\"row_heading level0 row1\" >1</th>\n",
       "                        <td id=\"T_470cf51c_34a1_11eb_8d2c_e23c87d3252erow1_col0\" class=\"data row1 col0\" >Target Type</td>\n",
       "                        <td id=\"T_470cf51c_34a1_11eb_8d2c_e23c87d3252erow1_col1\" class=\"data row1 col1\" >Binary</td>\n",
       "            </tr>\n",
       "            <tr>\n",
       "                        <th id=\"T_470cf51c_34a1_11eb_8d2c_e23c87d3252elevel0_row2\" class=\"row_heading level0 row2\" >2</th>\n",
       "                        <td id=\"T_470cf51c_34a1_11eb_8d2c_e23c87d3252erow2_col0\" class=\"data row2 col0\" >Label Encoded</td>\n",
       "                        <td id=\"T_470cf51c_34a1_11eb_8d2c_e23c87d3252erow2_col1\" class=\"data row2 col1\" >0: 0, 1: 1</td>\n",
       "            </tr>\n",
       "            <tr>\n",
       "                        <th id=\"T_470cf51c_34a1_11eb_8d2c_e23c87d3252elevel0_row3\" class=\"row_heading level0 row3\" >3</th>\n",
       "                        <td id=\"T_470cf51c_34a1_11eb_8d2c_e23c87d3252erow3_col0\" class=\"data row3 col0\" >Original Data</td>\n",
       "                        <td id=\"T_470cf51c_34a1_11eb_8d2c_e23c87d3252erow3_col1\" class=\"data row3 col1\" >(768, 9)</td>\n",
       "            </tr>\n",
       "            <tr>\n",
       "                        <th id=\"T_470cf51c_34a1_11eb_8d2c_e23c87d3252elevel0_row4\" class=\"row_heading level0 row4\" >4</th>\n",
       "                        <td id=\"T_470cf51c_34a1_11eb_8d2c_e23c87d3252erow4_col0\" class=\"data row4 col0\" >Missing Values </td>\n",
       "                        <td id=\"T_470cf51c_34a1_11eb_8d2c_e23c87d3252erow4_col1\" class=\"data row4 col1\" >False</td>\n",
       "            </tr>\n",
       "            <tr>\n",
       "                        <th id=\"T_470cf51c_34a1_11eb_8d2c_e23c87d3252elevel0_row5\" class=\"row_heading level0 row5\" >5</th>\n",
       "                        <td id=\"T_470cf51c_34a1_11eb_8d2c_e23c87d3252erow5_col0\" class=\"data row5 col0\" >Numeric Features </td>\n",
       "                        <td id=\"T_470cf51c_34a1_11eb_8d2c_e23c87d3252erow5_col1\" class=\"data row5 col1\" >7</td>\n",
       "            </tr>\n",
       "            <tr>\n",
       "                        <th id=\"T_470cf51c_34a1_11eb_8d2c_e23c87d3252elevel0_row6\" class=\"row_heading level0 row6\" >6</th>\n",
       "                        <td id=\"T_470cf51c_34a1_11eb_8d2c_e23c87d3252erow6_col0\" class=\"data row6 col0\" >Categorical Features </td>\n",
       "                        <td id=\"T_470cf51c_34a1_11eb_8d2c_e23c87d3252erow6_col1\" class=\"data row6 col1\" >1</td>\n",
       "            </tr>\n",
       "            <tr>\n",
       "                        <th id=\"T_470cf51c_34a1_11eb_8d2c_e23c87d3252elevel0_row7\" class=\"row_heading level0 row7\" >7</th>\n",
       "                        <td id=\"T_470cf51c_34a1_11eb_8d2c_e23c87d3252erow7_col0\" class=\"data row7 col0\" >Ordinal Features </td>\n",
       "                        <td id=\"T_470cf51c_34a1_11eb_8d2c_e23c87d3252erow7_col1\" class=\"data row7 col1\" >False</td>\n",
       "            </tr>\n",
       "            <tr>\n",
       "                        <th id=\"T_470cf51c_34a1_11eb_8d2c_e23c87d3252elevel0_row8\" class=\"row_heading level0 row8\" >8</th>\n",
       "                        <td id=\"T_470cf51c_34a1_11eb_8d2c_e23c87d3252erow8_col0\" class=\"data row8 col0\" >High Cardinality Features </td>\n",
       "                        <td id=\"T_470cf51c_34a1_11eb_8d2c_e23c87d3252erow8_col1\" class=\"data row8 col1\" >False</td>\n",
       "            </tr>\n",
       "            <tr>\n",
       "                        <th id=\"T_470cf51c_34a1_11eb_8d2c_e23c87d3252elevel0_row9\" class=\"row_heading level0 row9\" >9</th>\n",
       "                        <td id=\"T_470cf51c_34a1_11eb_8d2c_e23c87d3252erow9_col0\" class=\"data row9 col0\" >High Cardinality Method </td>\n",
       "                        <td id=\"T_470cf51c_34a1_11eb_8d2c_e23c87d3252erow9_col1\" class=\"data row9 col1\" >None</td>\n",
       "            </tr>\n",
       "            <tr>\n",
       "                        <th id=\"T_470cf51c_34a1_11eb_8d2c_e23c87d3252elevel0_row10\" class=\"row_heading level0 row10\" >10</th>\n",
       "                        <td id=\"T_470cf51c_34a1_11eb_8d2c_e23c87d3252erow10_col0\" class=\"data row10 col0\" >Sampled Data</td>\n",
       "                        <td id=\"T_470cf51c_34a1_11eb_8d2c_e23c87d3252erow10_col1\" class=\"data row10 col1\" >(729, 9)</td>\n",
       "            </tr>\n",
       "            <tr>\n",
       "                        <th id=\"T_470cf51c_34a1_11eb_8d2c_e23c87d3252elevel0_row11\" class=\"row_heading level0 row11\" >11</th>\n",
       "                        <td id=\"T_470cf51c_34a1_11eb_8d2c_e23c87d3252erow11_col0\" class=\"data row11 col0\" >Transformed Train Set</td>\n",
       "                        <td id=\"T_470cf51c_34a1_11eb_8d2c_e23c87d3252erow11_col1\" class=\"data row11 col1\" >(510, 15)</td>\n",
       "            </tr>\n",
       "            <tr>\n",
       "                        <th id=\"T_470cf51c_34a1_11eb_8d2c_e23c87d3252elevel0_row12\" class=\"row_heading level0 row12\" >12</th>\n",
       "                        <td id=\"T_470cf51c_34a1_11eb_8d2c_e23c87d3252erow12_col0\" class=\"data row12 col0\" >Transformed Test Set</td>\n",
       "                        <td id=\"T_470cf51c_34a1_11eb_8d2c_e23c87d3252erow12_col1\" class=\"data row12 col1\" >(219, 15)</td>\n",
       "            </tr>\n",
       "            <tr>\n",
       "                        <th id=\"T_470cf51c_34a1_11eb_8d2c_e23c87d3252elevel0_row13\" class=\"row_heading level0 row13\" >13</th>\n",
       "                        <td id=\"T_470cf51c_34a1_11eb_8d2c_e23c87d3252erow13_col0\" class=\"data row13 col0\" >Numeric Imputer </td>\n",
       "                        <td id=\"T_470cf51c_34a1_11eb_8d2c_e23c87d3252erow13_col1\" class=\"data row13 col1\" >mean</td>\n",
       "            </tr>\n",
       "            <tr>\n",
       "                        <th id=\"T_470cf51c_34a1_11eb_8d2c_e23c87d3252elevel0_row14\" class=\"row_heading level0 row14\" >14</th>\n",
       "                        <td id=\"T_470cf51c_34a1_11eb_8d2c_e23c87d3252erow14_col0\" class=\"data row14 col0\" >Categorical Imputer </td>\n",
       "                        <td id=\"T_470cf51c_34a1_11eb_8d2c_e23c87d3252erow14_col1\" class=\"data row14 col1\" >constant</td>\n",
       "            </tr>\n",
       "            <tr>\n",
       "                        <th id=\"T_470cf51c_34a1_11eb_8d2c_e23c87d3252elevel0_row15\" class=\"row_heading level0 row15\" >15</th>\n",
       "                        <td id=\"T_470cf51c_34a1_11eb_8d2c_e23c87d3252erow15_col0\" class=\"data row15 col0\" >Normalize </td>\n",
       "                        <td id=\"T_470cf51c_34a1_11eb_8d2c_e23c87d3252erow15_col1\" class=\"data row15 col1\" >True</td>\n",
       "            </tr>\n",
       "            <tr>\n",
       "                        <th id=\"T_470cf51c_34a1_11eb_8d2c_e23c87d3252elevel0_row16\" class=\"row_heading level0 row16\" >16</th>\n",
       "                        <td id=\"T_470cf51c_34a1_11eb_8d2c_e23c87d3252erow16_col0\" class=\"data row16 col0\" >Normalize Method </td>\n",
       "                        <td id=\"T_470cf51c_34a1_11eb_8d2c_e23c87d3252erow16_col1\" class=\"data row16 col1\" >zscore</td>\n",
       "            </tr>\n",
       "            <tr>\n",
       "                        <th id=\"T_470cf51c_34a1_11eb_8d2c_e23c87d3252elevel0_row17\" class=\"row_heading level0 row17\" >17</th>\n",
       "                        <td id=\"T_470cf51c_34a1_11eb_8d2c_e23c87d3252erow17_col0\" class=\"data row17 col0\" >Transformation </td>\n",
       "                        <td id=\"T_470cf51c_34a1_11eb_8d2c_e23c87d3252erow17_col1\" class=\"data row17 col1\" >True</td>\n",
       "            </tr>\n",
       "            <tr>\n",
       "                        <th id=\"T_470cf51c_34a1_11eb_8d2c_e23c87d3252elevel0_row18\" class=\"row_heading level0 row18\" >18</th>\n",
       "                        <td id=\"T_470cf51c_34a1_11eb_8d2c_e23c87d3252erow18_col0\" class=\"data row18 col0\" >Transformation Method </td>\n",
       "                        <td id=\"T_470cf51c_34a1_11eb_8d2c_e23c87d3252erow18_col1\" class=\"data row18 col1\" >yeo-johnson</td>\n",
       "            </tr>\n",
       "            <tr>\n",
       "                        <th id=\"T_470cf51c_34a1_11eb_8d2c_e23c87d3252elevel0_row19\" class=\"row_heading level0 row19\" >19</th>\n",
       "                        <td id=\"T_470cf51c_34a1_11eb_8d2c_e23c87d3252erow19_col0\" class=\"data row19 col0\" >PCA </td>\n",
       "                        <td id=\"T_470cf51c_34a1_11eb_8d2c_e23c87d3252erow19_col1\" class=\"data row19 col1\" >True</td>\n",
       "            </tr>\n",
       "            <tr>\n",
       "                        <th id=\"T_470cf51c_34a1_11eb_8d2c_e23c87d3252elevel0_row20\" class=\"row_heading level0 row20\" >20</th>\n",
       "                        <td id=\"T_470cf51c_34a1_11eb_8d2c_e23c87d3252erow20_col0\" class=\"data row20 col0\" >PCA Method </td>\n",
       "                        <td id=\"T_470cf51c_34a1_11eb_8d2c_e23c87d3252erow20_col1\" class=\"data row20 col1\" >linear</td>\n",
       "            </tr>\n",
       "            <tr>\n",
       "                        <th id=\"T_470cf51c_34a1_11eb_8d2c_e23c87d3252elevel0_row21\" class=\"row_heading level0 row21\" >21</th>\n",
       "                        <td id=\"T_470cf51c_34a1_11eb_8d2c_e23c87d3252erow21_col0\" class=\"data row21 col0\" >PCA Components </td>\n",
       "                        <td id=\"T_470cf51c_34a1_11eb_8d2c_e23c87d3252erow21_col1\" class=\"data row21 col1\" >0.990000</td>\n",
       "            </tr>\n",
       "            <tr>\n",
       "                        <th id=\"T_470cf51c_34a1_11eb_8d2c_e23c87d3252elevel0_row22\" class=\"row_heading level0 row22\" >22</th>\n",
       "                        <td id=\"T_470cf51c_34a1_11eb_8d2c_e23c87d3252erow22_col0\" class=\"data row22 col0\" >Ignore Low Variance </td>\n",
       "                        <td id=\"T_470cf51c_34a1_11eb_8d2c_e23c87d3252erow22_col1\" class=\"data row22 col1\" >False</td>\n",
       "            </tr>\n",
       "            <tr>\n",
       "                        <th id=\"T_470cf51c_34a1_11eb_8d2c_e23c87d3252elevel0_row23\" class=\"row_heading level0 row23\" >23</th>\n",
       "                        <td id=\"T_470cf51c_34a1_11eb_8d2c_e23c87d3252erow23_col0\" class=\"data row23 col0\" >Combine Rare Levels </td>\n",
       "                        <td id=\"T_470cf51c_34a1_11eb_8d2c_e23c87d3252erow23_col1\" class=\"data row23 col1\" >False</td>\n",
       "            </tr>\n",
       "            <tr>\n",
       "                        <th id=\"T_470cf51c_34a1_11eb_8d2c_e23c87d3252elevel0_row24\" class=\"row_heading level0 row24\" >24</th>\n",
       "                        <td id=\"T_470cf51c_34a1_11eb_8d2c_e23c87d3252erow24_col0\" class=\"data row24 col0\" >Rare Level Threshold </td>\n",
       "                        <td id=\"T_470cf51c_34a1_11eb_8d2c_e23c87d3252erow24_col1\" class=\"data row24 col1\" >None</td>\n",
       "            </tr>\n",
       "            <tr>\n",
       "                        <th id=\"T_470cf51c_34a1_11eb_8d2c_e23c87d3252elevel0_row25\" class=\"row_heading level0 row25\" >25</th>\n",
       "                        <td id=\"T_470cf51c_34a1_11eb_8d2c_e23c87d3252erow25_col0\" class=\"data row25 col0\" >Numeric Binning </td>\n",
       "                        <td id=\"T_470cf51c_34a1_11eb_8d2c_e23c87d3252erow25_col1\" class=\"data row25 col1\" >False</td>\n",
       "            </tr>\n",
       "            <tr>\n",
       "                        <th id=\"T_470cf51c_34a1_11eb_8d2c_e23c87d3252elevel0_row26\" class=\"row_heading level0 row26\" >26</th>\n",
       "                        <td id=\"T_470cf51c_34a1_11eb_8d2c_e23c87d3252erow26_col0\" class=\"data row26 col0\" >Remove Outliers </td>\n",
       "                        <td id=\"T_470cf51c_34a1_11eb_8d2c_e23c87d3252erow26_col1\" class=\"data row26 col1\" >True</td>\n",
       "            </tr>\n",
       "            <tr>\n",
       "                        <th id=\"T_470cf51c_34a1_11eb_8d2c_e23c87d3252elevel0_row27\" class=\"row_heading level0 row27\" >27</th>\n",
       "                        <td id=\"T_470cf51c_34a1_11eb_8d2c_e23c87d3252erow27_col0\" class=\"data row27 col0\" >Outliers Threshold </td>\n",
       "                        <td id=\"T_470cf51c_34a1_11eb_8d2c_e23c87d3252erow27_col1\" class=\"data row27 col1\" >0.050000</td>\n",
       "            </tr>\n",
       "            <tr>\n",
       "                        <th id=\"T_470cf51c_34a1_11eb_8d2c_e23c87d3252elevel0_row28\" class=\"row_heading level0 row28\" >28</th>\n",
       "                        <td id=\"T_470cf51c_34a1_11eb_8d2c_e23c87d3252erow28_col0\" class=\"data row28 col0\" >Remove Multicollinearity </td>\n",
       "                        <td id=\"T_470cf51c_34a1_11eb_8d2c_e23c87d3252erow28_col1\" class=\"data row28 col1\" >False</td>\n",
       "            </tr>\n",
       "            <tr>\n",
       "                        <th id=\"T_470cf51c_34a1_11eb_8d2c_e23c87d3252elevel0_row29\" class=\"row_heading level0 row29\" >29</th>\n",
       "                        <td id=\"T_470cf51c_34a1_11eb_8d2c_e23c87d3252erow29_col0\" class=\"data row29 col0\" >Multicollinearity Threshold </td>\n",
       "                        <td id=\"T_470cf51c_34a1_11eb_8d2c_e23c87d3252erow29_col1\" class=\"data row29 col1\" >None</td>\n",
       "            </tr>\n",
       "            <tr>\n",
       "                        <th id=\"T_470cf51c_34a1_11eb_8d2c_e23c87d3252elevel0_row30\" class=\"row_heading level0 row30\" >30</th>\n",
       "                        <td id=\"T_470cf51c_34a1_11eb_8d2c_e23c87d3252erow30_col0\" class=\"data row30 col0\" >Clustering </td>\n",
       "                        <td id=\"T_470cf51c_34a1_11eb_8d2c_e23c87d3252erow30_col1\" class=\"data row30 col1\" >False</td>\n",
       "            </tr>\n",
       "            <tr>\n",
       "                        <th id=\"T_470cf51c_34a1_11eb_8d2c_e23c87d3252elevel0_row31\" class=\"row_heading level0 row31\" >31</th>\n",
       "                        <td id=\"T_470cf51c_34a1_11eb_8d2c_e23c87d3252erow31_col0\" class=\"data row31 col0\" >Clustering Iteration </td>\n",
       "                        <td id=\"T_470cf51c_34a1_11eb_8d2c_e23c87d3252erow31_col1\" class=\"data row31 col1\" >None</td>\n",
       "            </tr>\n",
       "            <tr>\n",
       "                        <th id=\"T_470cf51c_34a1_11eb_8d2c_e23c87d3252elevel0_row32\" class=\"row_heading level0 row32\" >32</th>\n",
       "                        <td id=\"T_470cf51c_34a1_11eb_8d2c_e23c87d3252erow32_col0\" class=\"data row32 col0\" >Polynomial Features </td>\n",
       "                        <td id=\"T_470cf51c_34a1_11eb_8d2c_e23c87d3252erow32_col1\" class=\"data row32 col1\" >False</td>\n",
       "            </tr>\n",
       "            <tr>\n",
       "                        <th id=\"T_470cf51c_34a1_11eb_8d2c_e23c87d3252elevel0_row33\" class=\"row_heading level0 row33\" >33</th>\n",
       "                        <td id=\"T_470cf51c_34a1_11eb_8d2c_e23c87d3252erow33_col0\" class=\"data row33 col0\" >Polynomial Degree </td>\n",
       "                        <td id=\"T_470cf51c_34a1_11eb_8d2c_e23c87d3252erow33_col1\" class=\"data row33 col1\" >None</td>\n",
       "            </tr>\n",
       "            <tr>\n",
       "                        <th id=\"T_470cf51c_34a1_11eb_8d2c_e23c87d3252elevel0_row34\" class=\"row_heading level0 row34\" >34</th>\n",
       "                        <td id=\"T_470cf51c_34a1_11eb_8d2c_e23c87d3252erow34_col0\" class=\"data row34 col0\" >Trignometry Features </td>\n",
       "                        <td id=\"T_470cf51c_34a1_11eb_8d2c_e23c87d3252erow34_col1\" class=\"data row34 col1\" >False</td>\n",
       "            </tr>\n",
       "            <tr>\n",
       "                        <th id=\"T_470cf51c_34a1_11eb_8d2c_e23c87d3252elevel0_row35\" class=\"row_heading level0 row35\" >35</th>\n",
       "                        <td id=\"T_470cf51c_34a1_11eb_8d2c_e23c87d3252erow35_col0\" class=\"data row35 col0\" >Polynomial Threshold </td>\n",
       "                        <td id=\"T_470cf51c_34a1_11eb_8d2c_e23c87d3252erow35_col1\" class=\"data row35 col1\" >None</td>\n",
       "            </tr>\n",
       "            <tr>\n",
       "                        <th id=\"T_470cf51c_34a1_11eb_8d2c_e23c87d3252elevel0_row36\" class=\"row_heading level0 row36\" >36</th>\n",
       "                        <td id=\"T_470cf51c_34a1_11eb_8d2c_e23c87d3252erow36_col0\" class=\"data row36 col0\" >Group Features </td>\n",
       "                        <td id=\"T_470cf51c_34a1_11eb_8d2c_e23c87d3252erow36_col1\" class=\"data row36 col1\" >False</td>\n",
       "            </tr>\n",
       "            <tr>\n",
       "                        <th id=\"T_470cf51c_34a1_11eb_8d2c_e23c87d3252elevel0_row37\" class=\"row_heading level0 row37\" >37</th>\n",
       "                        <td id=\"T_470cf51c_34a1_11eb_8d2c_e23c87d3252erow37_col0\" class=\"data row37 col0\" >Feature Selection </td>\n",
       "                        <td id=\"T_470cf51c_34a1_11eb_8d2c_e23c87d3252erow37_col1\" class=\"data row37 col1\" >True</td>\n",
       "            </tr>\n",
       "            <tr>\n",
       "                        <th id=\"T_470cf51c_34a1_11eb_8d2c_e23c87d3252elevel0_row38\" class=\"row_heading level0 row38\" >38</th>\n",
       "                        <td id=\"T_470cf51c_34a1_11eb_8d2c_e23c87d3252erow38_col0\" class=\"data row38 col0\" >Features Selection Threshold </td>\n",
       "                        <td id=\"T_470cf51c_34a1_11eb_8d2c_e23c87d3252erow38_col1\" class=\"data row38 col1\" >0.800000</td>\n",
       "            </tr>\n",
       "            <tr>\n",
       "                        <th id=\"T_470cf51c_34a1_11eb_8d2c_e23c87d3252elevel0_row39\" class=\"row_heading level0 row39\" >39</th>\n",
       "                        <td id=\"T_470cf51c_34a1_11eb_8d2c_e23c87d3252erow39_col0\" class=\"data row39 col0\" >Feature Interaction </td>\n",
       "                        <td id=\"T_470cf51c_34a1_11eb_8d2c_e23c87d3252erow39_col1\" class=\"data row39 col1\" >False</td>\n",
       "            </tr>\n",
       "            <tr>\n",
       "                        <th id=\"T_470cf51c_34a1_11eb_8d2c_e23c87d3252elevel0_row40\" class=\"row_heading level0 row40\" >40</th>\n",
       "                        <td id=\"T_470cf51c_34a1_11eb_8d2c_e23c87d3252erow40_col0\" class=\"data row40 col0\" >Feature Ratio </td>\n",
       "                        <td id=\"T_470cf51c_34a1_11eb_8d2c_e23c87d3252erow40_col1\" class=\"data row40 col1\" >False</td>\n",
       "            </tr>\n",
       "            <tr>\n",
       "                        <th id=\"T_470cf51c_34a1_11eb_8d2c_e23c87d3252elevel0_row41\" class=\"row_heading level0 row41\" >41</th>\n",
       "                        <td id=\"T_470cf51c_34a1_11eb_8d2c_e23c87d3252erow41_col0\" class=\"data row41 col0\" >Interaction Threshold </td>\n",
       "                        <td id=\"T_470cf51c_34a1_11eb_8d2c_e23c87d3252erow41_col1\" class=\"data row41 col1\" >None</td>\n",
       "            </tr>\n",
       "            <tr>\n",
       "                        <th id=\"T_470cf51c_34a1_11eb_8d2c_e23c87d3252elevel0_row42\" class=\"row_heading level0 row42\" >42</th>\n",
       "                        <td id=\"T_470cf51c_34a1_11eb_8d2c_e23c87d3252erow42_col0\" class=\"data row42 col0\" >Fix Imbalance</td>\n",
       "                        <td id=\"T_470cf51c_34a1_11eb_8d2c_e23c87d3252erow42_col1\" class=\"data row42 col1\" >False</td>\n",
       "            </tr>\n",
       "            <tr>\n",
       "                        <th id=\"T_470cf51c_34a1_11eb_8d2c_e23c87d3252elevel0_row43\" class=\"row_heading level0 row43\" >43</th>\n",
       "                        <td id=\"T_470cf51c_34a1_11eb_8d2c_e23c87d3252erow43_col0\" class=\"data row43 col0\" >Fix Imbalance Method</td>\n",
       "                        <td id=\"T_470cf51c_34a1_11eb_8d2c_e23c87d3252erow43_col1\" class=\"data row43 col1\" >SMOTE</td>\n",
       "            </tr>\n",
       "    </tbody></table>"
      ],
      "text/plain": [
       "<pandas.io.formats.style.Styler at 0x227e92b3348>"
      ]
     },
     "metadata": {},
     "output_type": "display_data"
    }
   ],
   "source": [
    "## Applying Various Selection Methods\n",
    "xy = setup(data = dataset, target = 'Class variable', \n",
    "          normalize = True, normalize_method='zscore',\n",
    "          feature_selection = True, feature_selection_threshold = 0.8,\n",
    "          remove_outliers = True, outliers_threshold = 0.05,\n",
    "          pca = True, pca_method = 'linear', \n",
    "          transformation = True, transformation_method='yeo-johnson')"
   ]
  },
  {
   "cell_type": "code",
   "execution_count": 44,
   "metadata": {},
   "outputs": [
    {
     "data": {
      "text/html": [
       "<style  type=\"text/css\" >\n",
       "    #T_72e01552_34a1_11eb_8f98_e23c87d3252e th {\n",
       "          text-align: left;\n",
       "    }    #T_72e01552_34a1_11eb_8f98_e23c87d3252erow0_col0 {\n",
       "            text-align:  left;\n",
       "        }    #T_72e01552_34a1_11eb_8f98_e23c87d3252erow0_col1 {\n",
       "            background-color:  yellow;\n",
       "            text-align:  left;\n",
       "        }    #T_72e01552_34a1_11eb_8f98_e23c87d3252erow0_col2 {\n",
       "            : ;\n",
       "            text-align:  left;\n",
       "        }    #T_72e01552_34a1_11eb_8f98_e23c87d3252erow0_col3 {\n",
       "            : ;\n",
       "            text-align:  left;\n",
       "        }    #T_72e01552_34a1_11eb_8f98_e23c87d3252erow0_col4 {\n",
       "            background-color:  yellow;\n",
       "            text-align:  left;\n",
       "        }    #T_72e01552_34a1_11eb_8f98_e23c87d3252erow0_col5 {\n",
       "            : ;\n",
       "            text-align:  left;\n",
       "        }    #T_72e01552_34a1_11eb_8f98_e23c87d3252erow0_col6 {\n",
       "            : ;\n",
       "            text-align:  left;\n",
       "        }    #T_72e01552_34a1_11eb_8f98_e23c87d3252erow0_col7 {\n",
       "            background-color:  yellow;\n",
       "            text-align:  left;\n",
       "        }    #T_72e01552_34a1_11eb_8f98_e23c87d3252erow0_col8 {\n",
       "            background-color:  lightgrey;\n",
       "            text-align:  left;\n",
       "        }    #T_72e01552_34a1_11eb_8f98_e23c87d3252erow1_col0 {\n",
       "            text-align:  left;\n",
       "        }    #T_72e01552_34a1_11eb_8f98_e23c87d3252erow1_col1 {\n",
       "            : ;\n",
       "            text-align:  left;\n",
       "        }    #T_72e01552_34a1_11eb_8f98_e23c87d3252erow1_col2 {\n",
       "            background-color:  yellow;\n",
       "            text-align:  left;\n",
       "        }    #T_72e01552_34a1_11eb_8f98_e23c87d3252erow1_col3 {\n",
       "            : ;\n",
       "            text-align:  left;\n",
       "        }    #T_72e01552_34a1_11eb_8f98_e23c87d3252erow1_col4 {\n",
       "            : ;\n",
       "            text-align:  left;\n",
       "        }    #T_72e01552_34a1_11eb_8f98_e23c87d3252erow1_col5 {\n",
       "            background-color:  yellow;\n",
       "            text-align:  left;\n",
       "        }    #T_72e01552_34a1_11eb_8f98_e23c87d3252erow1_col6 {\n",
       "            background-color:  yellow;\n",
       "            text-align:  left;\n",
       "        }    #T_72e01552_34a1_11eb_8f98_e23c87d3252erow1_col7 {\n",
       "            : ;\n",
       "            text-align:  left;\n",
       "        }    #T_72e01552_34a1_11eb_8f98_e23c87d3252erow1_col8 {\n",
       "            background-color:  lightgrey;\n",
       "            text-align:  left;\n",
       "        }    #T_72e01552_34a1_11eb_8f98_e23c87d3252erow2_col0 {\n",
       "            text-align:  left;\n",
       "        }    #T_72e01552_34a1_11eb_8f98_e23c87d3252erow2_col1 {\n",
       "            : ;\n",
       "            text-align:  left;\n",
       "        }    #T_72e01552_34a1_11eb_8f98_e23c87d3252erow2_col2 {\n",
       "            : ;\n",
       "            text-align:  left;\n",
       "        }    #T_72e01552_34a1_11eb_8f98_e23c87d3252erow2_col3 {\n",
       "            : ;\n",
       "            text-align:  left;\n",
       "        }    #T_72e01552_34a1_11eb_8f98_e23c87d3252erow2_col4 {\n",
       "            : ;\n",
       "            text-align:  left;\n",
       "        }    #T_72e01552_34a1_11eb_8f98_e23c87d3252erow2_col5 {\n",
       "            : ;\n",
       "            text-align:  left;\n",
       "        }    #T_72e01552_34a1_11eb_8f98_e23c87d3252erow2_col6 {\n",
       "            : ;\n",
       "            text-align:  left;\n",
       "        }    #T_72e01552_34a1_11eb_8f98_e23c87d3252erow2_col7 {\n",
       "            : ;\n",
       "            text-align:  left;\n",
       "        }    #T_72e01552_34a1_11eb_8f98_e23c87d3252erow2_col8 {\n",
       "            background-color:  lightgrey;\n",
       "            text-align:  left;\n",
       "        }    #T_72e01552_34a1_11eb_8f98_e23c87d3252erow3_col0 {\n",
       "            text-align:  left;\n",
       "        }    #T_72e01552_34a1_11eb_8f98_e23c87d3252erow3_col1 {\n",
       "            : ;\n",
       "            text-align:  left;\n",
       "        }    #T_72e01552_34a1_11eb_8f98_e23c87d3252erow3_col2 {\n",
       "            : ;\n",
       "            text-align:  left;\n",
       "        }    #T_72e01552_34a1_11eb_8f98_e23c87d3252erow3_col3 {\n",
       "            : ;\n",
       "            text-align:  left;\n",
       "        }    #T_72e01552_34a1_11eb_8f98_e23c87d3252erow3_col4 {\n",
       "            : ;\n",
       "            text-align:  left;\n",
       "        }    #T_72e01552_34a1_11eb_8f98_e23c87d3252erow3_col5 {\n",
       "            : ;\n",
       "            text-align:  left;\n",
       "        }    #T_72e01552_34a1_11eb_8f98_e23c87d3252erow3_col6 {\n",
       "            : ;\n",
       "            text-align:  left;\n",
       "        }    #T_72e01552_34a1_11eb_8f98_e23c87d3252erow3_col7 {\n",
       "            : ;\n",
       "            text-align:  left;\n",
       "        }    #T_72e01552_34a1_11eb_8f98_e23c87d3252erow3_col8 {\n",
       "            background-color:  lightgrey;\n",
       "            text-align:  left;\n",
       "        }    #T_72e01552_34a1_11eb_8f98_e23c87d3252erow4_col0 {\n",
       "            text-align:  left;\n",
       "        }    #T_72e01552_34a1_11eb_8f98_e23c87d3252erow4_col1 {\n",
       "            : ;\n",
       "            text-align:  left;\n",
       "        }    #T_72e01552_34a1_11eb_8f98_e23c87d3252erow4_col2 {\n",
       "            : ;\n",
       "            text-align:  left;\n",
       "        }    #T_72e01552_34a1_11eb_8f98_e23c87d3252erow4_col3 {\n",
       "            : ;\n",
       "            text-align:  left;\n",
       "        }    #T_72e01552_34a1_11eb_8f98_e23c87d3252erow4_col4 {\n",
       "            : ;\n",
       "            text-align:  left;\n",
       "        }    #T_72e01552_34a1_11eb_8f98_e23c87d3252erow4_col5 {\n",
       "            : ;\n",
       "            text-align:  left;\n",
       "        }    #T_72e01552_34a1_11eb_8f98_e23c87d3252erow4_col6 {\n",
       "            : ;\n",
       "            text-align:  left;\n",
       "        }    #T_72e01552_34a1_11eb_8f98_e23c87d3252erow4_col7 {\n",
       "            : ;\n",
       "            text-align:  left;\n",
       "        }    #T_72e01552_34a1_11eb_8f98_e23c87d3252erow4_col8 {\n",
       "            background-color:  lightgrey;\n",
       "            text-align:  left;\n",
       "        }    #T_72e01552_34a1_11eb_8f98_e23c87d3252erow5_col0 {\n",
       "            text-align:  left;\n",
       "        }    #T_72e01552_34a1_11eb_8f98_e23c87d3252erow5_col1 {\n",
       "            : ;\n",
       "            text-align:  left;\n",
       "        }    #T_72e01552_34a1_11eb_8f98_e23c87d3252erow5_col2 {\n",
       "            : ;\n",
       "            text-align:  left;\n",
       "        }    #T_72e01552_34a1_11eb_8f98_e23c87d3252erow5_col3 {\n",
       "            : ;\n",
       "            text-align:  left;\n",
       "        }    #T_72e01552_34a1_11eb_8f98_e23c87d3252erow5_col4 {\n",
       "            : ;\n",
       "            text-align:  left;\n",
       "        }    #T_72e01552_34a1_11eb_8f98_e23c87d3252erow5_col5 {\n",
       "            : ;\n",
       "            text-align:  left;\n",
       "        }    #T_72e01552_34a1_11eb_8f98_e23c87d3252erow5_col6 {\n",
       "            : ;\n",
       "            text-align:  left;\n",
       "        }    #T_72e01552_34a1_11eb_8f98_e23c87d3252erow5_col7 {\n",
       "            : ;\n",
       "            text-align:  left;\n",
       "        }    #T_72e01552_34a1_11eb_8f98_e23c87d3252erow5_col8 {\n",
       "            background-color:  lightgrey;\n",
       "            text-align:  left;\n",
       "        }    #T_72e01552_34a1_11eb_8f98_e23c87d3252erow6_col0 {\n",
       "            text-align:  left;\n",
       "        }    #T_72e01552_34a1_11eb_8f98_e23c87d3252erow6_col1 {\n",
       "            : ;\n",
       "            text-align:  left;\n",
       "        }    #T_72e01552_34a1_11eb_8f98_e23c87d3252erow6_col2 {\n",
       "            : ;\n",
       "            text-align:  left;\n",
       "        }    #T_72e01552_34a1_11eb_8f98_e23c87d3252erow6_col3 {\n",
       "            : ;\n",
       "            text-align:  left;\n",
       "        }    #T_72e01552_34a1_11eb_8f98_e23c87d3252erow6_col4 {\n",
       "            : ;\n",
       "            text-align:  left;\n",
       "        }    #T_72e01552_34a1_11eb_8f98_e23c87d3252erow6_col5 {\n",
       "            : ;\n",
       "            text-align:  left;\n",
       "        }    #T_72e01552_34a1_11eb_8f98_e23c87d3252erow6_col6 {\n",
       "            : ;\n",
       "            text-align:  left;\n",
       "        }    #T_72e01552_34a1_11eb_8f98_e23c87d3252erow6_col7 {\n",
       "            : ;\n",
       "            text-align:  left;\n",
       "        }    #T_72e01552_34a1_11eb_8f98_e23c87d3252erow6_col8 {\n",
       "            background-color:  lightgrey;\n",
       "            text-align:  left;\n",
       "        }    #T_72e01552_34a1_11eb_8f98_e23c87d3252erow7_col0 {\n",
       "            text-align:  left;\n",
       "        }    #T_72e01552_34a1_11eb_8f98_e23c87d3252erow7_col1 {\n",
       "            : ;\n",
       "            text-align:  left;\n",
       "        }    #T_72e01552_34a1_11eb_8f98_e23c87d3252erow7_col2 {\n",
       "            : ;\n",
       "            text-align:  left;\n",
       "        }    #T_72e01552_34a1_11eb_8f98_e23c87d3252erow7_col3 {\n",
       "            : ;\n",
       "            text-align:  left;\n",
       "        }    #T_72e01552_34a1_11eb_8f98_e23c87d3252erow7_col4 {\n",
       "            : ;\n",
       "            text-align:  left;\n",
       "        }    #T_72e01552_34a1_11eb_8f98_e23c87d3252erow7_col5 {\n",
       "            : ;\n",
       "            text-align:  left;\n",
       "        }    #T_72e01552_34a1_11eb_8f98_e23c87d3252erow7_col6 {\n",
       "            : ;\n",
       "            text-align:  left;\n",
       "        }    #T_72e01552_34a1_11eb_8f98_e23c87d3252erow7_col7 {\n",
       "            : ;\n",
       "            text-align:  left;\n",
       "        }    #T_72e01552_34a1_11eb_8f98_e23c87d3252erow7_col8 {\n",
       "            background-color:  lightgrey;\n",
       "            text-align:  left;\n",
       "        }    #T_72e01552_34a1_11eb_8f98_e23c87d3252erow8_col0 {\n",
       "            text-align:  left;\n",
       "        }    #T_72e01552_34a1_11eb_8f98_e23c87d3252erow8_col1 {\n",
       "            : ;\n",
       "            text-align:  left;\n",
       "        }    #T_72e01552_34a1_11eb_8f98_e23c87d3252erow8_col2 {\n",
       "            : ;\n",
       "            text-align:  left;\n",
       "        }    #T_72e01552_34a1_11eb_8f98_e23c87d3252erow8_col3 {\n",
       "            : ;\n",
       "            text-align:  left;\n",
       "        }    #T_72e01552_34a1_11eb_8f98_e23c87d3252erow8_col4 {\n",
       "            : ;\n",
       "            text-align:  left;\n",
       "        }    #T_72e01552_34a1_11eb_8f98_e23c87d3252erow8_col5 {\n",
       "            : ;\n",
       "            text-align:  left;\n",
       "        }    #T_72e01552_34a1_11eb_8f98_e23c87d3252erow8_col6 {\n",
       "            : ;\n",
       "            text-align:  left;\n",
       "        }    #T_72e01552_34a1_11eb_8f98_e23c87d3252erow8_col7 {\n",
       "            : ;\n",
       "            text-align:  left;\n",
       "        }    #T_72e01552_34a1_11eb_8f98_e23c87d3252erow8_col8 {\n",
       "            background-color:  lightgrey;\n",
       "            text-align:  left;\n",
       "        }    #T_72e01552_34a1_11eb_8f98_e23c87d3252erow9_col0 {\n",
       "            text-align:  left;\n",
       "        }    #T_72e01552_34a1_11eb_8f98_e23c87d3252erow9_col1 {\n",
       "            : ;\n",
       "            text-align:  left;\n",
       "        }    #T_72e01552_34a1_11eb_8f98_e23c87d3252erow9_col2 {\n",
       "            : ;\n",
       "            text-align:  left;\n",
       "        }    #T_72e01552_34a1_11eb_8f98_e23c87d3252erow9_col3 {\n",
       "            : ;\n",
       "            text-align:  left;\n",
       "        }    #T_72e01552_34a1_11eb_8f98_e23c87d3252erow9_col4 {\n",
       "            : ;\n",
       "            text-align:  left;\n",
       "        }    #T_72e01552_34a1_11eb_8f98_e23c87d3252erow9_col5 {\n",
       "            : ;\n",
       "            text-align:  left;\n",
       "        }    #T_72e01552_34a1_11eb_8f98_e23c87d3252erow9_col6 {\n",
       "            : ;\n",
       "            text-align:  left;\n",
       "        }    #T_72e01552_34a1_11eb_8f98_e23c87d3252erow9_col7 {\n",
       "            : ;\n",
       "            text-align:  left;\n",
       "        }    #T_72e01552_34a1_11eb_8f98_e23c87d3252erow9_col8 {\n",
       "            background-color:  lightgrey;\n",
       "            text-align:  left;\n",
       "        }    #T_72e01552_34a1_11eb_8f98_e23c87d3252erow10_col0 {\n",
       "            text-align:  left;\n",
       "        }    #T_72e01552_34a1_11eb_8f98_e23c87d3252erow10_col1 {\n",
       "            : ;\n",
       "            text-align:  left;\n",
       "        }    #T_72e01552_34a1_11eb_8f98_e23c87d3252erow10_col2 {\n",
       "            : ;\n",
       "            text-align:  left;\n",
       "        }    #T_72e01552_34a1_11eb_8f98_e23c87d3252erow10_col3 {\n",
       "            : ;\n",
       "            text-align:  left;\n",
       "        }    #T_72e01552_34a1_11eb_8f98_e23c87d3252erow10_col4 {\n",
       "            : ;\n",
       "            text-align:  left;\n",
       "        }    #T_72e01552_34a1_11eb_8f98_e23c87d3252erow10_col5 {\n",
       "            : ;\n",
       "            text-align:  left;\n",
       "        }    #T_72e01552_34a1_11eb_8f98_e23c87d3252erow10_col6 {\n",
       "            : ;\n",
       "            text-align:  left;\n",
       "        }    #T_72e01552_34a1_11eb_8f98_e23c87d3252erow10_col7 {\n",
       "            : ;\n",
       "            text-align:  left;\n",
       "        }    #T_72e01552_34a1_11eb_8f98_e23c87d3252erow10_col8 {\n",
       "            background-color:  lightgrey;\n",
       "            text-align:  left;\n",
       "        }    #T_72e01552_34a1_11eb_8f98_e23c87d3252erow11_col0 {\n",
       "            text-align:  left;\n",
       "        }    #T_72e01552_34a1_11eb_8f98_e23c87d3252erow11_col1 {\n",
       "            : ;\n",
       "            text-align:  left;\n",
       "        }    #T_72e01552_34a1_11eb_8f98_e23c87d3252erow11_col2 {\n",
       "            : ;\n",
       "            text-align:  left;\n",
       "        }    #T_72e01552_34a1_11eb_8f98_e23c87d3252erow11_col3 {\n",
       "            : ;\n",
       "            text-align:  left;\n",
       "        }    #T_72e01552_34a1_11eb_8f98_e23c87d3252erow11_col4 {\n",
       "            : ;\n",
       "            text-align:  left;\n",
       "        }    #T_72e01552_34a1_11eb_8f98_e23c87d3252erow11_col5 {\n",
       "            : ;\n",
       "            text-align:  left;\n",
       "        }    #T_72e01552_34a1_11eb_8f98_e23c87d3252erow11_col6 {\n",
       "            : ;\n",
       "            text-align:  left;\n",
       "        }    #T_72e01552_34a1_11eb_8f98_e23c87d3252erow11_col7 {\n",
       "            : ;\n",
       "            text-align:  left;\n",
       "        }    #T_72e01552_34a1_11eb_8f98_e23c87d3252erow11_col8 {\n",
       "            background-color:  lightgrey;\n",
       "            text-align:  left;\n",
       "        }    #T_72e01552_34a1_11eb_8f98_e23c87d3252erow12_col0 {\n",
       "            text-align:  left;\n",
       "        }    #T_72e01552_34a1_11eb_8f98_e23c87d3252erow12_col1 {\n",
       "            : ;\n",
       "            text-align:  left;\n",
       "        }    #T_72e01552_34a1_11eb_8f98_e23c87d3252erow12_col2 {\n",
       "            : ;\n",
       "            text-align:  left;\n",
       "        }    #T_72e01552_34a1_11eb_8f98_e23c87d3252erow12_col3 {\n",
       "            : ;\n",
       "            text-align:  left;\n",
       "        }    #T_72e01552_34a1_11eb_8f98_e23c87d3252erow12_col4 {\n",
       "            : ;\n",
       "            text-align:  left;\n",
       "        }    #T_72e01552_34a1_11eb_8f98_e23c87d3252erow12_col5 {\n",
       "            : ;\n",
       "            text-align:  left;\n",
       "        }    #T_72e01552_34a1_11eb_8f98_e23c87d3252erow12_col6 {\n",
       "            : ;\n",
       "            text-align:  left;\n",
       "        }    #T_72e01552_34a1_11eb_8f98_e23c87d3252erow12_col7 {\n",
       "            : ;\n",
       "            text-align:  left;\n",
       "        }    #T_72e01552_34a1_11eb_8f98_e23c87d3252erow12_col8 {\n",
       "            background-color:  lightgrey;\n",
       "            text-align:  left;\n",
       "        }    #T_72e01552_34a1_11eb_8f98_e23c87d3252erow13_col0 {\n",
       "            text-align:  left;\n",
       "        }    #T_72e01552_34a1_11eb_8f98_e23c87d3252erow13_col1 {\n",
       "            : ;\n",
       "            text-align:  left;\n",
       "        }    #T_72e01552_34a1_11eb_8f98_e23c87d3252erow13_col2 {\n",
       "            : ;\n",
       "            text-align:  left;\n",
       "        }    #T_72e01552_34a1_11eb_8f98_e23c87d3252erow13_col3 {\n",
       "            background-color:  yellow;\n",
       "            text-align:  left;\n",
       "        }    #T_72e01552_34a1_11eb_8f98_e23c87d3252erow13_col4 {\n",
       "            : ;\n",
       "            text-align:  left;\n",
       "        }    #T_72e01552_34a1_11eb_8f98_e23c87d3252erow13_col5 {\n",
       "            : ;\n",
       "            text-align:  left;\n",
       "        }    #T_72e01552_34a1_11eb_8f98_e23c87d3252erow13_col6 {\n",
       "            : ;\n",
       "            text-align:  left;\n",
       "        }    #T_72e01552_34a1_11eb_8f98_e23c87d3252erow13_col7 {\n",
       "            : ;\n",
       "            text-align:  left;\n",
       "        }    #T_72e01552_34a1_11eb_8f98_e23c87d3252erow13_col8 {\n",
       "            background-color:  lightgrey;\n",
       "            text-align:  left;\n",
       "        }    #T_72e01552_34a1_11eb_8f98_e23c87d3252erow14_col0 {\n",
       "            text-align:  left;\n",
       "        }    #T_72e01552_34a1_11eb_8f98_e23c87d3252erow14_col1 {\n",
       "            : ;\n",
       "            text-align:  left;\n",
       "        }    #T_72e01552_34a1_11eb_8f98_e23c87d3252erow14_col2 {\n",
       "            : ;\n",
       "            text-align:  left;\n",
       "        }    #T_72e01552_34a1_11eb_8f98_e23c87d3252erow14_col3 {\n",
       "            : ;\n",
       "            text-align:  left;\n",
       "        }    #T_72e01552_34a1_11eb_8f98_e23c87d3252erow14_col4 {\n",
       "            : ;\n",
       "            text-align:  left;\n",
       "        }    #T_72e01552_34a1_11eb_8f98_e23c87d3252erow14_col5 {\n",
       "            : ;\n",
       "            text-align:  left;\n",
       "        }    #T_72e01552_34a1_11eb_8f98_e23c87d3252erow14_col6 {\n",
       "            : ;\n",
       "            text-align:  left;\n",
       "        }    #T_72e01552_34a1_11eb_8f98_e23c87d3252erow14_col7 {\n",
       "            : ;\n",
       "            text-align:  left;\n",
       "        }    #T_72e01552_34a1_11eb_8f98_e23c87d3252erow14_col8 {\n",
       "            background-color:  lightgrey;\n",
       "            text-align:  left;\n",
       "        }</style><table id=\"T_72e01552_34a1_11eb_8f98_e23c87d3252e\" ><thead>    <tr>        <th class=\"blank level0\" ></th>        <th class=\"col_heading level0 col0\" >Model</th>        <th class=\"col_heading level0 col1\" >Accuracy</th>        <th class=\"col_heading level0 col2\" >AUC</th>        <th class=\"col_heading level0 col3\" >Recall</th>        <th class=\"col_heading level0 col4\" >Prec.</th>        <th class=\"col_heading level0 col5\" >F1</th>        <th class=\"col_heading level0 col6\" >Kappa</th>        <th class=\"col_heading level0 col7\" >MCC</th>        <th class=\"col_heading level0 col8\" >TT (Sec)</th>    </tr></thead><tbody>\n",
       "                <tr>\n",
       "                        <th id=\"T_72e01552_34a1_11eb_8f98_e23c87d3252elevel0_row0\" class=\"row_heading level0 row0\" >0</th>\n",
       "                        <td id=\"T_72e01552_34a1_11eb_8f98_e23c87d3252erow0_col0\" class=\"data row0 col0\" >Gradient Boosting Classifier</td>\n",
       "                        <td id=\"T_72e01552_34a1_11eb_8f98_e23c87d3252erow0_col1\" class=\"data row0 col1\" >0.7608</td>\n",
       "                        <td id=\"T_72e01552_34a1_11eb_8f98_e23c87d3252erow0_col2\" class=\"data row0 col2\" >0.7997</td>\n",
       "                        <td id=\"T_72e01552_34a1_11eb_8f98_e23c87d3252erow0_col3\" class=\"data row0 col3\" >0.5323</td>\n",
       "                        <td id=\"T_72e01552_34a1_11eb_8f98_e23c87d3252erow0_col4\" class=\"data row0 col4\" >0.6968</td>\n",
       "                        <td id=\"T_72e01552_34a1_11eb_8f98_e23c87d3252erow0_col5\" class=\"data row0 col5\" >0.5984</td>\n",
       "                        <td id=\"T_72e01552_34a1_11eb_8f98_e23c87d3252erow0_col6\" class=\"data row0 col6\" >0.4326</td>\n",
       "                        <td id=\"T_72e01552_34a1_11eb_8f98_e23c87d3252erow0_col7\" class=\"data row0 col7\" >0.4441</td>\n",
       "                        <td id=\"T_72e01552_34a1_11eb_8f98_e23c87d3252erow0_col8\" class=\"data row0 col8\" >0.5479</td>\n",
       "            </tr>\n",
       "            <tr>\n",
       "                        <th id=\"T_72e01552_34a1_11eb_8f98_e23c87d3252elevel0_row1\" class=\"row_heading level0 row1\" >1</th>\n",
       "                        <td id=\"T_72e01552_34a1_11eb_8f98_e23c87d3252erow1_col0\" class=\"data row1 col0\" >Logistic Regression</td>\n",
       "                        <td id=\"T_72e01552_34a1_11eb_8f98_e23c87d3252erow1_col1\" class=\"data row1 col1\" >0.7588</td>\n",
       "                        <td id=\"T_72e01552_34a1_11eb_8f98_e23c87d3252erow1_col2\" class=\"data row1 col2\" >0.8192</td>\n",
       "                        <td id=\"T_72e01552_34a1_11eb_8f98_e23c87d3252erow1_col3\" class=\"data row1 col3\" >0.5496</td>\n",
       "                        <td id=\"T_72e01552_34a1_11eb_8f98_e23c87d3252erow1_col4\" class=\"data row1 col4\" >0.6721</td>\n",
       "                        <td id=\"T_72e01552_34a1_11eb_8f98_e23c87d3252erow1_col5\" class=\"data row1 col5\" >0.6039</td>\n",
       "                        <td id=\"T_72e01552_34a1_11eb_8f98_e23c87d3252erow1_col6\" class=\"data row1 col6\" >0.4332</td>\n",
       "                        <td id=\"T_72e01552_34a1_11eb_8f98_e23c87d3252erow1_col7\" class=\"data row1 col7\" >0.4382</td>\n",
       "                        <td id=\"T_72e01552_34a1_11eb_8f98_e23c87d3252erow1_col8\" class=\"data row1 col8\" >0.0212</td>\n",
       "            </tr>\n",
       "            <tr>\n",
       "                        <th id=\"T_72e01552_34a1_11eb_8f98_e23c87d3252elevel0_row2\" class=\"row_heading level0 row2\" >2</th>\n",
       "                        <td id=\"T_72e01552_34a1_11eb_8f98_e23c87d3252erow2_col0\" class=\"data row2 col0\" >CatBoost Classifier</td>\n",
       "                        <td id=\"T_72e01552_34a1_11eb_8f98_e23c87d3252erow2_col1\" class=\"data row2 col1\" >0.7588</td>\n",
       "                        <td id=\"T_72e01552_34a1_11eb_8f98_e23c87d3252erow2_col2\" class=\"data row2 col2\" >0.8145</td>\n",
       "                        <td id=\"T_72e01552_34a1_11eb_8f98_e23c87d3252erow2_col3\" class=\"data row2 col3\" >0.5086</td>\n",
       "                        <td id=\"T_72e01552_34a1_11eb_8f98_e23c87d3252erow2_col4\" class=\"data row2 col4\" >0.6960</td>\n",
       "                        <td id=\"T_72e01552_34a1_11eb_8f98_e23c87d3252erow2_col5\" class=\"data row2 col5\" >0.5841</td>\n",
       "                        <td id=\"T_72e01552_34a1_11eb_8f98_e23c87d3252erow2_col6\" class=\"data row2 col6\" >0.4207</td>\n",
       "                        <td id=\"T_72e01552_34a1_11eb_8f98_e23c87d3252erow2_col7\" class=\"data row2 col7\" >0.4331</td>\n",
       "                        <td id=\"T_72e01552_34a1_11eb_8f98_e23c87d3252erow2_col8\" class=\"data row2 col8\" >6.8432</td>\n",
       "            </tr>\n",
       "            <tr>\n",
       "                        <th id=\"T_72e01552_34a1_11eb_8f98_e23c87d3252elevel0_row3\" class=\"row_heading level0 row3\" >3</th>\n",
       "                        <td id=\"T_72e01552_34a1_11eb_8f98_e23c87d3252erow3_col0\" class=\"data row3 col0\" >Linear Discriminant Analysis</td>\n",
       "                        <td id=\"T_72e01552_34a1_11eb_8f98_e23c87d3252erow3_col1\" class=\"data row3 col1\" >0.7549</td>\n",
       "                        <td id=\"T_72e01552_34a1_11eb_8f98_e23c87d3252erow3_col2\" class=\"data row3 col2\" >0.8182</td>\n",
       "                        <td id=\"T_72e01552_34a1_11eb_8f98_e23c87d3252erow3_col3\" class=\"data row3 col3\" >0.5324</td>\n",
       "                        <td id=\"T_72e01552_34a1_11eb_8f98_e23c87d3252erow3_col4\" class=\"data row3 col4\" >0.6700</td>\n",
       "                        <td id=\"T_72e01552_34a1_11eb_8f98_e23c87d3252erow3_col5\" class=\"data row3 col5\" >0.5914</td>\n",
       "                        <td id=\"T_72e01552_34a1_11eb_8f98_e23c87d3252erow3_col6\" class=\"data row3 col6\" >0.4202</td>\n",
       "                        <td id=\"T_72e01552_34a1_11eb_8f98_e23c87d3252erow3_col7\" class=\"data row3 col7\" >0.4270</td>\n",
       "                        <td id=\"T_72e01552_34a1_11eb_8f98_e23c87d3252erow3_col8\" class=\"data row3 col8\" >0.0154</td>\n",
       "            </tr>\n",
       "            <tr>\n",
       "                        <th id=\"T_72e01552_34a1_11eb_8f98_e23c87d3252elevel0_row4\" class=\"row_heading level0 row4\" >4</th>\n",
       "                        <td id=\"T_72e01552_34a1_11eb_8f98_e23c87d3252erow4_col0\" class=\"data row4 col0\" >Ridge Classifier</td>\n",
       "                        <td id=\"T_72e01552_34a1_11eb_8f98_e23c87d3252erow4_col1\" class=\"data row4 col1\" >0.7490</td>\n",
       "                        <td id=\"T_72e01552_34a1_11eb_8f98_e23c87d3252erow4_col2\" class=\"data row4 col2\" >0.0000</td>\n",
       "                        <td id=\"T_72e01552_34a1_11eb_8f98_e23c87d3252erow4_col3\" class=\"data row4 col3\" >0.5091</td>\n",
       "                        <td id=\"T_72e01552_34a1_11eb_8f98_e23c87d3252erow4_col4\" class=\"data row4 col4\" >0.6657</td>\n",
       "                        <td id=\"T_72e01552_34a1_11eb_8f98_e23c87d3252erow4_col5\" class=\"data row4 col5\" >0.5759</td>\n",
       "                        <td id=\"T_72e01552_34a1_11eb_8f98_e23c87d3252erow4_col6\" class=\"data row4 col6\" >0.4024</td>\n",
       "                        <td id=\"T_72e01552_34a1_11eb_8f98_e23c87d3252erow4_col7\" class=\"data row4 col7\" >0.4103</td>\n",
       "                        <td id=\"T_72e01552_34a1_11eb_8f98_e23c87d3252erow4_col8\" class=\"data row4 col8\" >0.0138</td>\n",
       "            </tr>\n",
       "            <tr>\n",
       "                        <th id=\"T_72e01552_34a1_11eb_8f98_e23c87d3252elevel0_row5\" class=\"row_heading level0 row5\" >5</th>\n",
       "                        <td id=\"T_72e01552_34a1_11eb_8f98_e23c87d3252erow5_col0\" class=\"data row5 col0\" >Extra Trees Classifier</td>\n",
       "                        <td id=\"T_72e01552_34a1_11eb_8f98_e23c87d3252erow5_col1\" class=\"data row5 col1\" >0.7431</td>\n",
       "                        <td id=\"T_72e01552_34a1_11eb_8f98_e23c87d3252erow5_col2\" class=\"data row5 col2\" >0.7850</td>\n",
       "                        <td id=\"T_72e01552_34a1_11eb_8f98_e23c87d3252erow5_col3\" class=\"data row5 col3\" >0.4854</td>\n",
       "                        <td id=\"T_72e01552_34a1_11eb_8f98_e23c87d3252erow5_col4\" class=\"data row5 col4\" >0.6648</td>\n",
       "                        <td id=\"T_72e01552_34a1_11eb_8f98_e23c87d3252erow5_col5\" class=\"data row5 col5\" >0.5574</td>\n",
       "                        <td id=\"T_72e01552_34a1_11eb_8f98_e23c87d3252erow5_col6\" class=\"data row5 col6\" >0.3833</td>\n",
       "                        <td id=\"T_72e01552_34a1_11eb_8f98_e23c87d3252erow5_col7\" class=\"data row5 col7\" >0.3949</td>\n",
       "                        <td id=\"T_72e01552_34a1_11eb_8f98_e23c87d3252erow5_col8\" class=\"data row5 col8\" >0.3812</td>\n",
       "            </tr>\n",
       "            <tr>\n",
       "                        <th id=\"T_72e01552_34a1_11eb_8f98_e23c87d3252elevel0_row6\" class=\"row_heading level0 row6\" >6</th>\n",
       "                        <td id=\"T_72e01552_34a1_11eb_8f98_e23c87d3252erow6_col0\" class=\"data row6 col0\" >Extreme Gradient Boosting</td>\n",
       "                        <td id=\"T_72e01552_34a1_11eb_8f98_e23c87d3252erow6_col1\" class=\"data row6 col1\" >0.7412</td>\n",
       "                        <td id=\"T_72e01552_34a1_11eb_8f98_e23c87d3252erow6_col2\" class=\"data row6 col2\" >0.7966</td>\n",
       "                        <td id=\"T_72e01552_34a1_11eb_8f98_e23c87d3252erow6_col3\" class=\"data row6 col3\" >0.5198</td>\n",
       "                        <td id=\"T_72e01552_34a1_11eb_8f98_e23c87d3252erow6_col4\" class=\"data row6 col4\" >0.6444</td>\n",
       "                        <td id=\"T_72e01552_34a1_11eb_8f98_e23c87d3252erow6_col5\" class=\"data row6 col5\" >0.5703</td>\n",
       "                        <td id=\"T_72e01552_34a1_11eb_8f98_e23c87d3252erow6_col6\" class=\"data row6 col6\" >0.3895</td>\n",
       "                        <td id=\"T_72e01552_34a1_11eb_8f98_e23c87d3252erow6_col7\" class=\"data row6 col7\" >0.3970</td>\n",
       "                        <td id=\"T_72e01552_34a1_11eb_8f98_e23c87d3252erow6_col8\" class=\"data row6 col8\" >0.1829</td>\n",
       "            </tr>\n",
       "            <tr>\n",
       "                        <th id=\"T_72e01552_34a1_11eb_8f98_e23c87d3252elevel0_row7\" class=\"row_heading level0 row7\" >7</th>\n",
       "                        <td id=\"T_72e01552_34a1_11eb_8f98_e23c87d3252erow7_col0\" class=\"data row7 col0\" >Light Gradient Boosting Machine</td>\n",
       "                        <td id=\"T_72e01552_34a1_11eb_8f98_e23c87d3252erow7_col1\" class=\"data row7 col1\" >0.7373</td>\n",
       "                        <td id=\"T_72e01552_34a1_11eb_8f98_e23c87d3252erow7_col2\" class=\"data row7 col2\" >0.7981</td>\n",
       "                        <td id=\"T_72e01552_34a1_11eb_8f98_e23c87d3252erow7_col3\" class=\"data row7 col3\" >0.5494</td>\n",
       "                        <td id=\"T_72e01552_34a1_11eb_8f98_e23c87d3252erow7_col4\" class=\"data row7 col4\" >0.6261</td>\n",
       "                        <td id=\"T_72e01552_34a1_11eb_8f98_e23c87d3252erow7_col5\" class=\"data row7 col5\" >0.5810</td>\n",
       "                        <td id=\"T_72e01552_34a1_11eb_8f98_e23c87d3252erow7_col6\" class=\"data row7 col6\" >0.3918</td>\n",
       "                        <td id=\"T_72e01552_34a1_11eb_8f98_e23c87d3252erow7_col7\" class=\"data row7 col7\" >0.3962</td>\n",
       "                        <td id=\"T_72e01552_34a1_11eb_8f98_e23c87d3252erow7_col8\" class=\"data row7 col8\" >0.3077</td>\n",
       "            </tr>\n",
       "            <tr>\n",
       "                        <th id=\"T_72e01552_34a1_11eb_8f98_e23c87d3252elevel0_row8\" class=\"row_heading level0 row8\" >8</th>\n",
       "                        <td id=\"T_72e01552_34a1_11eb_8f98_e23c87d3252erow8_col0\" class=\"data row8 col0\" >Random Forest Classifier</td>\n",
       "                        <td id=\"T_72e01552_34a1_11eb_8f98_e23c87d3252erow8_col1\" class=\"data row8 col1\" >0.7275</td>\n",
       "                        <td id=\"T_72e01552_34a1_11eb_8f98_e23c87d3252erow8_col2\" class=\"data row8 col2\" >0.7593</td>\n",
       "                        <td id=\"T_72e01552_34a1_11eb_8f98_e23c87d3252erow8_col3\" class=\"data row8 col3\" >0.4445</td>\n",
       "                        <td id=\"T_72e01552_34a1_11eb_8f98_e23c87d3252erow8_col4\" class=\"data row8 col4\" >0.6605</td>\n",
       "                        <td id=\"T_72e01552_34a1_11eb_8f98_e23c87d3252erow8_col5\" class=\"data row8 col5\" >0.5206</td>\n",
       "                        <td id=\"T_72e01552_34a1_11eb_8f98_e23c87d3252erow8_col6\" class=\"data row8 col6\" >0.3410</td>\n",
       "                        <td id=\"T_72e01552_34a1_11eb_8f98_e23c87d3252erow8_col7\" class=\"data row8 col7\" >0.3607</td>\n",
       "                        <td id=\"T_72e01552_34a1_11eb_8f98_e23c87d3252erow8_col8\" class=\"data row8 col8\" >0.1447</td>\n",
       "            </tr>\n",
       "            <tr>\n",
       "                        <th id=\"T_72e01552_34a1_11eb_8f98_e23c87d3252elevel0_row9\" class=\"row_heading level0 row9\" >9</th>\n",
       "                        <td id=\"T_72e01552_34a1_11eb_8f98_e23c87d3252erow9_col0\" class=\"data row9 col0\" >K Neighbors Classifier</td>\n",
       "                        <td id=\"T_72e01552_34a1_11eb_8f98_e23c87d3252erow9_col1\" class=\"data row9 col1\" >0.7196</td>\n",
       "                        <td id=\"T_72e01552_34a1_11eb_8f98_e23c87d3252erow9_col2\" class=\"data row9 col2\" >0.7492</td>\n",
       "                        <td id=\"T_72e01552_34a1_11eb_8f98_e23c87d3252erow9_col3\" class=\"data row9 col3\" >0.4449</td>\n",
       "                        <td id=\"T_72e01552_34a1_11eb_8f98_e23c87d3252erow9_col4\" class=\"data row9 col4\" >0.6132</td>\n",
       "                        <td id=\"T_72e01552_34a1_11eb_8f98_e23c87d3252erow9_col5\" class=\"data row9 col5\" >0.5141</td>\n",
       "                        <td id=\"T_72e01552_34a1_11eb_8f98_e23c87d3252erow9_col6\" class=\"data row9 col6\" >0.3248</td>\n",
       "                        <td id=\"T_72e01552_34a1_11eb_8f98_e23c87d3252erow9_col7\" class=\"data row9 col7\" >0.3337</td>\n",
       "                        <td id=\"T_72e01552_34a1_11eb_8f98_e23c87d3252erow9_col8\" class=\"data row9 col8\" >0.0057</td>\n",
       "            </tr>\n",
       "            <tr>\n",
       "                        <th id=\"T_72e01552_34a1_11eb_8f98_e23c87d3252elevel0_row10\" class=\"row_heading level0 row10\" >10</th>\n",
       "                        <td id=\"T_72e01552_34a1_11eb_8f98_e23c87d3252erow10_col0\" class=\"data row10 col0\" >Ada Boost Classifier</td>\n",
       "                        <td id=\"T_72e01552_34a1_11eb_8f98_e23c87d3252erow10_col1\" class=\"data row10 col1\" >0.7059</td>\n",
       "                        <td id=\"T_72e01552_34a1_11eb_8f98_e23c87d3252erow10_col2\" class=\"data row10 col2\" >0.7413</td>\n",
       "                        <td id=\"T_72e01552_34a1_11eb_8f98_e23c87d3252erow10_col3\" class=\"data row10 col3\" >0.5084</td>\n",
       "                        <td id=\"T_72e01552_34a1_11eb_8f98_e23c87d3252erow10_col4\" class=\"data row10 col4\" >0.5714</td>\n",
       "                        <td id=\"T_72e01552_34a1_11eb_8f98_e23c87d3252erow10_col5\" class=\"data row10 col5\" >0.5352</td>\n",
       "                        <td id=\"T_72e01552_34a1_11eb_8f98_e23c87d3252erow10_col6\" class=\"data row10 col6\" >0.3219</td>\n",
       "                        <td id=\"T_72e01552_34a1_11eb_8f98_e23c87d3252erow10_col7\" class=\"data row10 col7\" >0.3248</td>\n",
       "                        <td id=\"T_72e01552_34a1_11eb_8f98_e23c87d3252erow10_col8\" class=\"data row10 col8\" >0.2969</td>\n",
       "            </tr>\n",
       "            <tr>\n",
       "                        <th id=\"T_72e01552_34a1_11eb_8f98_e23c87d3252elevel0_row11\" class=\"row_heading level0 row11\" >11</th>\n",
       "                        <td id=\"T_72e01552_34a1_11eb_8f98_e23c87d3252erow11_col0\" class=\"data row11 col0\" >Decision Tree Classifier</td>\n",
       "                        <td id=\"T_72e01552_34a1_11eb_8f98_e23c87d3252erow11_col1\" class=\"data row11 col1\" >0.7039</td>\n",
       "                        <td id=\"T_72e01552_34a1_11eb_8f98_e23c87d3252erow11_col2\" class=\"data row11 col2\" >0.6671</td>\n",
       "                        <td id=\"T_72e01552_34a1_11eb_8f98_e23c87d3252erow11_col3\" class=\"data row11 col3\" >0.5555</td>\n",
       "                        <td id=\"T_72e01552_34a1_11eb_8f98_e23c87d3252erow11_col4\" class=\"data row11 col4\" >0.5778</td>\n",
       "                        <td id=\"T_72e01552_34a1_11eb_8f98_e23c87d3252erow11_col5\" class=\"data row11 col5\" >0.5543</td>\n",
       "                        <td id=\"T_72e01552_34a1_11eb_8f98_e23c87d3252erow11_col6\" class=\"data row11 col6\" >0.3355</td>\n",
       "                        <td id=\"T_72e01552_34a1_11eb_8f98_e23c87d3252erow11_col7\" class=\"data row11 col7\" >0.3432</td>\n",
       "                        <td id=\"T_72e01552_34a1_11eb_8f98_e23c87d3252erow11_col8\" class=\"data row11 col8\" >0.0141</td>\n",
       "            </tr>\n",
       "            <tr>\n",
       "                        <th id=\"T_72e01552_34a1_11eb_8f98_e23c87d3252elevel0_row12\" class=\"row_heading level0 row12\" >12</th>\n",
       "                        <td id=\"T_72e01552_34a1_11eb_8f98_e23c87d3252erow12_col0\" class=\"data row12 col0\" >Naive Bayes</td>\n",
       "                        <td id=\"T_72e01552_34a1_11eb_8f98_e23c87d3252erow12_col1\" class=\"data row12 col1\" >0.7000</td>\n",
       "                        <td id=\"T_72e01552_34a1_11eb_8f98_e23c87d3252erow12_col2\" class=\"data row12 col2\" >0.7384</td>\n",
       "                        <td id=\"T_72e01552_34a1_11eb_8f98_e23c87d3252erow12_col3\" class=\"data row12 col3\" >0.4566</td>\n",
       "                        <td id=\"T_72e01552_34a1_11eb_8f98_e23c87d3252erow12_col4\" class=\"data row12 col4\" >0.5627</td>\n",
       "                        <td id=\"T_72e01552_34a1_11eb_8f98_e23c87d3252erow12_col5\" class=\"data row12 col5\" >0.5024</td>\n",
       "                        <td id=\"T_72e01552_34a1_11eb_8f98_e23c87d3252erow12_col6\" class=\"data row12 col6\" >0.2921</td>\n",
       "                        <td id=\"T_72e01552_34a1_11eb_8f98_e23c87d3252erow12_col7\" class=\"data row12 col7\" >0.2959</td>\n",
       "                        <td id=\"T_72e01552_34a1_11eb_8f98_e23c87d3252erow12_col8\" class=\"data row12 col8\" >0.0070</td>\n",
       "            </tr>\n",
       "            <tr>\n",
       "                        <th id=\"T_72e01552_34a1_11eb_8f98_e23c87d3252elevel0_row13\" class=\"row_heading level0 row13\" >13</th>\n",
       "                        <td id=\"T_72e01552_34a1_11eb_8f98_e23c87d3252erow13_col0\" class=\"data row13 col0\" >SVM - Linear Kernel</td>\n",
       "                        <td id=\"T_72e01552_34a1_11eb_8f98_e23c87d3252erow13_col1\" class=\"data row13 col1\" >0.6843</td>\n",
       "                        <td id=\"T_72e01552_34a1_11eb_8f98_e23c87d3252erow13_col2\" class=\"data row13 col2\" >0.0000</td>\n",
       "                        <td id=\"T_72e01552_34a1_11eb_8f98_e23c87d3252erow13_col3\" class=\"data row13 col3\" >0.5615</td>\n",
       "                        <td id=\"T_72e01552_34a1_11eb_8f98_e23c87d3252erow13_col4\" class=\"data row13 col4\" >0.5283</td>\n",
       "                        <td id=\"T_72e01552_34a1_11eb_8f98_e23c87d3252erow13_col5\" class=\"data row13 col5\" >0.5397</td>\n",
       "                        <td id=\"T_72e01552_34a1_11eb_8f98_e23c87d3252erow13_col6\" class=\"data row13 col6\" >0.3014</td>\n",
       "                        <td id=\"T_72e01552_34a1_11eb_8f98_e23c87d3252erow13_col7\" class=\"data row13 col7\" >0.3047</td>\n",
       "                        <td id=\"T_72e01552_34a1_11eb_8f98_e23c87d3252erow13_col8\" class=\"data row13 col8\" >0.0117</td>\n",
       "            </tr>\n",
       "            <tr>\n",
       "                        <th id=\"T_72e01552_34a1_11eb_8f98_e23c87d3252elevel0_row14\" class=\"row_heading level0 row14\" >14</th>\n",
       "                        <td id=\"T_72e01552_34a1_11eb_8f98_e23c87d3252erow14_col0\" class=\"data row14 col0\" >Quadratic Discriminant Analysis</td>\n",
       "                        <td id=\"T_72e01552_34a1_11eb_8f98_e23c87d3252erow14_col1\" class=\"data row14 col1\" >0.6824</td>\n",
       "                        <td id=\"T_72e01552_34a1_11eb_8f98_e23c87d3252erow14_col2\" class=\"data row14 col2\" >0.7277</td>\n",
       "                        <td id=\"T_72e01552_34a1_11eb_8f98_e23c87d3252erow14_col3\" class=\"data row14 col3\" >0.4501</td>\n",
       "                        <td id=\"T_72e01552_34a1_11eb_8f98_e23c87d3252erow14_col4\" class=\"data row14 col4\" >0.5378</td>\n",
       "                        <td id=\"T_72e01552_34a1_11eb_8f98_e23c87d3252erow14_col5\" class=\"data row14 col5\" >0.4881</td>\n",
       "                        <td id=\"T_72e01552_34a1_11eb_8f98_e23c87d3252erow14_col6\" class=\"data row14 col6\" >0.2604</td>\n",
       "                        <td id=\"T_72e01552_34a1_11eb_8f98_e23c87d3252erow14_col7\" class=\"data row14 col7\" >0.2639</td>\n",
       "                        <td id=\"T_72e01552_34a1_11eb_8f98_e23c87d3252erow14_col8\" class=\"data row14 col8\" >0.0080</td>\n",
       "            </tr>\n",
       "    </tbody></table>"
      ],
      "text/plain": [
       "<pandas.io.formats.style.Styler at 0x227e9235148>"
      ]
     },
     "metadata": {},
     "output_type": "display_data"
    },
    {
     "data": {
      "text/plain": [
       "GradientBoostingClassifier(ccp_alpha=0.0, criterion='friedman_mse', init=None,\n",
       "                           learning_rate=0.1, loss='deviance', max_depth=3,\n",
       "                           max_features=None, max_leaf_nodes=None,\n",
       "                           min_impurity_decrease=0.0, min_impurity_split=None,\n",
       "                           min_samples_leaf=1, min_samples_split=2,\n",
       "                           min_weight_fraction_leaf=0.0, n_estimators=100,\n",
       "                           n_iter_no_change=None, presort='deprecated',\n",
       "                           random_state=6846, subsample=1.0, tol=0.0001,\n",
       "                           validation_fraction=0.1, verbose=0,\n",
       "                           warm_start=False)"
      ]
     },
     "execution_count": 44,
     "metadata": {},
     "output_type": "execute_result"
    }
   ],
   "source": [
    "compare_models(fold = 5)"
   ]
  },
  {
   "cell_type": "code",
   "execution_count": 47,
   "metadata": {},
   "outputs": [
    {
     "data": {
      "image/png": "[encoded data removed]",
      "text/plain": [
       "<Figure size 576x396 with 1 Axes>"
      ]
     },
     "metadata": {},
     "output_type": "display_data"
    }
   ],
   "source": [
    "## Plotting Model\n",
    "lar = create_model('lr')\n",
    "plot_model(lar, plot='auc')"
   ]
  },
  {
   "cell_type": "code",
   "execution_count": 48,
   "metadata": {},
   "outputs": [
    {
     "data": {
      "text/html": [
       "<style  type=\"text/css\" >\n",
       "    #T_adc101d4_34a1_11eb_a7d2_e23c87d3252erow5_col0 {\n",
       "            background:  yellow;\n",
       "        }    #T_adc101d4_34a1_11eb_a7d2_e23c87d3252erow5_col1 {\n",
       "            background:  yellow;\n",
       "        }    #T_adc101d4_34a1_11eb_a7d2_e23c87d3252erow5_col2 {\n",
       "            background:  yellow;\n",
       "        }    #T_adc101d4_34a1_11eb_a7d2_e23c87d3252erow5_col3 {\n",
       "            background:  yellow;\n",
       "        }    #T_adc101d4_34a1_11eb_a7d2_e23c87d3252erow5_col4 {\n",
       "            background:  yellow;\n",
       "        }    #T_adc101d4_34a1_11eb_a7d2_e23c87d3252erow5_col5 {\n",
       "            background:  yellow;\n",
       "        }    #T_adc101d4_34a1_11eb_a7d2_e23c87d3252erow5_col6 {\n",
       "            background:  yellow;\n",
       "        }</style><table id=\"T_adc101d4_34a1_11eb_a7d2_e23c87d3252e\" ><thead>    <tr>        <th class=\"blank level0\" ></th>        <th class=\"col_heading level0 col0\" >Accuracy</th>        <th class=\"col_heading level0 col1\" >AUC</th>        <th class=\"col_heading level0 col2\" >Recall</th>        <th class=\"col_heading level0 col3\" >Prec.</th>        <th class=\"col_heading level0 col4\" >F1</th>        <th class=\"col_heading level0 col5\" >Kappa</th>        <th class=\"col_heading level0 col6\" >MCC</th>    </tr></thead><tbody>\n",
       "                <tr>\n",
       "                        <th id=\"T_adc101d4_34a1_11eb_a7d2_e23c87d3252elevel0_row0\" class=\"row_heading level0 row0\" >0</th>\n",
       "                        <td id=\"T_adc101d4_34a1_11eb_a7d2_e23c87d3252erow0_col0\" class=\"data row0 col0\" >0.7451</td>\n",
       "                        <td id=\"T_adc101d4_34a1_11eb_a7d2_e23c87d3252erow0_col1\" class=\"data row0 col1\" >0.0000</td>\n",
       "                        <td id=\"T_adc101d4_34a1_11eb_a7d2_e23c87d3252erow0_col2\" class=\"data row0 col2\" >0.5000</td>\n",
       "                        <td id=\"T_adc101d4_34a1_11eb_a7d2_e23c87d3252erow0_col3\" class=\"data row0 col3\" >0.6538</td>\n",
       "                        <td id=\"T_adc101d4_34a1_11eb_a7d2_e23c87d3252erow0_col4\" class=\"data row0 col4\" >0.5667</td>\n",
       "                        <td id=\"T_adc101d4_34a1_11eb_a7d2_e23c87d3252erow0_col5\" class=\"data row0 col5\" >0.3906</td>\n",
       "                        <td id=\"T_adc101d4_34a1_11eb_a7d2_e23c87d3252erow0_col6\" class=\"data row0 col6\" >0.3977</td>\n",
       "            </tr>\n",
       "            <tr>\n",
       "                        <th id=\"T_adc101d4_34a1_11eb_a7d2_e23c87d3252elevel0_row1\" class=\"row_heading level0 row1\" >1</th>\n",
       "                        <td id=\"T_adc101d4_34a1_11eb_a7d2_e23c87d3252erow1_col0\" class=\"data row1 col0\" >0.7059</td>\n",
       "                        <td id=\"T_adc101d4_34a1_11eb_a7d2_e23c87d3252erow1_col1\" class=\"data row1 col1\" >0.0000</td>\n",
       "                        <td id=\"T_adc101d4_34a1_11eb_a7d2_e23c87d3252erow1_col2\" class=\"data row1 col2\" >0.4706</td>\n",
       "                        <td id=\"T_adc101d4_34a1_11eb_a7d2_e23c87d3252erow1_col3\" class=\"data row1 col3\" >0.5714</td>\n",
       "                        <td id=\"T_adc101d4_34a1_11eb_a7d2_e23c87d3252erow1_col4\" class=\"data row1 col4\" >0.5161</td>\n",
       "                        <td id=\"T_adc101d4_34a1_11eb_a7d2_e23c87d3252erow1_col5\" class=\"data row1 col5\" >0.3077</td>\n",
       "                        <td id=\"T_adc101d4_34a1_11eb_a7d2_e23c87d3252erow1_col6\" class=\"data row1 col6\" >0.3107</td>\n",
       "            </tr>\n",
       "            <tr>\n",
       "                        <th id=\"T_adc101d4_34a1_11eb_a7d2_e23c87d3252elevel0_row2\" class=\"row_heading level0 row2\" >2</th>\n",
       "                        <td id=\"T_adc101d4_34a1_11eb_a7d2_e23c87d3252erow2_col0\" class=\"data row2 col0\" >0.7941</td>\n",
       "                        <td id=\"T_adc101d4_34a1_11eb_a7d2_e23c87d3252erow2_col1\" class=\"data row2 col1\" >0.0000</td>\n",
       "                        <td id=\"T_adc101d4_34a1_11eb_a7d2_e23c87d3252erow2_col2\" class=\"data row2 col2\" >0.6176</td>\n",
       "                        <td id=\"T_adc101d4_34a1_11eb_a7d2_e23c87d3252erow2_col3\" class=\"data row2 col3\" >0.7241</td>\n",
       "                        <td id=\"T_adc101d4_34a1_11eb_a7d2_e23c87d3252erow2_col4\" class=\"data row2 col4\" >0.6667</td>\n",
       "                        <td id=\"T_adc101d4_34a1_11eb_a7d2_e23c87d3252erow2_col5\" class=\"data row2 col5\" >0.5191</td>\n",
       "                        <td id=\"T_adc101d4_34a1_11eb_a7d2_e23c87d3252erow2_col6\" class=\"data row2 col6\" >0.5225</td>\n",
       "            </tr>\n",
       "            <tr>\n",
       "                        <th id=\"T_adc101d4_34a1_11eb_a7d2_e23c87d3252elevel0_row3\" class=\"row_heading level0 row3\" >3</th>\n",
       "                        <td id=\"T_adc101d4_34a1_11eb_a7d2_e23c87d3252erow3_col0\" class=\"data row3 col0\" >0.7745</td>\n",
       "                        <td id=\"T_adc101d4_34a1_11eb_a7d2_e23c87d3252erow3_col1\" class=\"data row3 col1\" >0.0000</td>\n",
       "                        <td id=\"T_adc101d4_34a1_11eb_a7d2_e23c87d3252erow3_col2\" class=\"data row3 col2\" >0.5000</td>\n",
       "                        <td id=\"T_adc101d4_34a1_11eb_a7d2_e23c87d3252erow3_col3\" class=\"data row3 col3\" >0.7391</td>\n",
       "                        <td id=\"T_adc101d4_34a1_11eb_a7d2_e23c87d3252erow3_col4\" class=\"data row3 col4\" >0.5965</td>\n",
       "                        <td id=\"T_adc101d4_34a1_11eb_a7d2_e23c87d3252erow3_col5\" class=\"data row3 col5\" >0.4480</td>\n",
       "                        <td id=\"T_adc101d4_34a1_11eb_a7d2_e23c87d3252erow3_col6\" class=\"data row3 col6\" >0.4645</td>\n",
       "            </tr>\n",
       "            <tr>\n",
       "                        <th id=\"T_adc101d4_34a1_11eb_a7d2_e23c87d3252elevel0_row4\" class=\"row_heading level0 row4\" >4</th>\n",
       "                        <td id=\"T_adc101d4_34a1_11eb_a7d2_e23c87d3252erow4_col0\" class=\"data row4 col0\" >0.7255</td>\n",
       "                        <td id=\"T_adc101d4_34a1_11eb_a7d2_e23c87d3252erow4_col1\" class=\"data row4 col1\" >0.0000</td>\n",
       "                        <td id=\"T_adc101d4_34a1_11eb_a7d2_e23c87d3252erow4_col2\" class=\"data row4 col2\" >0.4571</td>\n",
       "                        <td id=\"T_adc101d4_34a1_11eb_a7d2_e23c87d3252erow4_col3\" class=\"data row4 col3\" >0.6400</td>\n",
       "                        <td id=\"T_adc101d4_34a1_11eb_a7d2_e23c87d3252erow4_col4\" class=\"data row4 col4\" >0.5333</td>\n",
       "                        <td id=\"T_adc101d4_34a1_11eb_a7d2_e23c87d3252erow4_col5\" class=\"data row4 col5\" >0.3465</td>\n",
       "                        <td id=\"T_adc101d4_34a1_11eb_a7d2_e23c87d3252erow4_col6\" class=\"data row4 col6\" >0.3563</td>\n",
       "            </tr>\n",
       "            <tr>\n",
       "                        <th id=\"T_adc101d4_34a1_11eb_a7d2_e23c87d3252elevel0_row5\" class=\"row_heading level0 row5\" >Mean</th>\n",
       "                        <td id=\"T_adc101d4_34a1_11eb_a7d2_e23c87d3252erow5_col0\" class=\"data row5 col0\" >0.7490</td>\n",
       "                        <td id=\"T_adc101d4_34a1_11eb_a7d2_e23c87d3252erow5_col1\" class=\"data row5 col1\" >0.0000</td>\n",
       "                        <td id=\"T_adc101d4_34a1_11eb_a7d2_e23c87d3252erow5_col2\" class=\"data row5 col2\" >0.5091</td>\n",
       "                        <td id=\"T_adc101d4_34a1_11eb_a7d2_e23c87d3252erow5_col3\" class=\"data row5 col3\" >0.6657</td>\n",
       "                        <td id=\"T_adc101d4_34a1_11eb_a7d2_e23c87d3252erow5_col4\" class=\"data row5 col4\" >0.5759</td>\n",
       "                        <td id=\"T_adc101d4_34a1_11eb_a7d2_e23c87d3252erow5_col5\" class=\"data row5 col5\" >0.4024</td>\n",
       "                        <td id=\"T_adc101d4_34a1_11eb_a7d2_e23c87d3252erow5_col6\" class=\"data row5 col6\" >0.4103</td>\n",
       "            </tr>\n",
       "            <tr>\n",
       "                        <th id=\"T_adc101d4_34a1_11eb_a7d2_e23c87d3252elevel0_row6\" class=\"row_heading level0 row6\" >SD</th>\n",
       "                        <td id=\"T_adc101d4_34a1_11eb_a7d2_e23c87d3252erow6_col0\" class=\"data row6 col0\" >0.0320</td>\n",
       "                        <td id=\"T_adc101d4_34a1_11eb_a7d2_e23c87d3252erow6_col1\" class=\"data row6 col1\" >0.0000</td>\n",
       "                        <td id=\"T_adc101d4_34a1_11eb_a7d2_e23c87d3252erow6_col2\" class=\"data row6 col2\" >0.0568</td>\n",
       "                        <td id=\"T_adc101d4_34a1_11eb_a7d2_e23c87d3252erow6_col3\" class=\"data row6 col3\" >0.0608</td>\n",
       "                        <td id=\"T_adc101d4_34a1_11eb_a7d2_e23c87d3252erow6_col4\" class=\"data row6 col4\" >0.0532</td>\n",
       "                        <td id=\"T_adc101d4_34a1_11eb_a7d2_e23c87d3252erow6_col5\" class=\"data row6 col5\" >0.0747</td>\n",
       "                        <td id=\"T_adc101d4_34a1_11eb_a7d2_e23c87d3252erow6_col6\" class=\"data row6 col6\" >0.0755</td>\n",
       "            </tr>\n",
       "    </tbody></table>"
      ],
      "text/plain": [
       "<pandas.io.formats.style.Styler at 0x227e92875c8>"
      ]
     },
     "metadata": {},
     "output_type": "display_data"
    }
   ],
   "source": [
    "## Model Creation\n",
    "cmodel = create_model('ridge', fold = 5)"
   ]
  },
  {
   "cell_type": "code",
   "execution_count": 49,
   "metadata": {},
   "outputs": [
    {
     "data": {
      "text/html": [
       "<style  type=\"text/css\" >\n",
       "    #T_c8d0e53a_34a1_11eb_accb_e23c87d3252erow5_col0 {\n",
       "            background:  yellow;\n",
       "        }    #T_c8d0e53a_34a1_11eb_accb_e23c87d3252erow5_col1 {\n",
       "            background:  yellow;\n",
       "        }    #T_c8d0e53a_34a1_11eb_accb_e23c87d3252erow5_col2 {\n",
       "            background:  yellow;\n",
       "        }    #T_c8d0e53a_34a1_11eb_accb_e23c87d3252erow5_col3 {\n",
       "            background:  yellow;\n",
       "        }    #T_c8d0e53a_34a1_11eb_accb_e23c87d3252erow5_col4 {\n",
       "            background:  yellow;\n",
       "        }    #T_c8d0e53a_34a1_11eb_accb_e23c87d3252erow5_col5 {\n",
       "            background:  yellow;\n",
       "        }    #T_c8d0e53a_34a1_11eb_accb_e23c87d3252erow5_col6 {\n",
       "            background:  yellow;\n",
       "        }</style><table id=\"T_c8d0e53a_34a1_11eb_accb_e23c87d3252e\" ><thead>    <tr>        <th class=\"blank level0\" ></th>        <th class=\"col_heading level0 col0\" >Accuracy</th>        <th class=\"col_heading level0 col1\" >AUC</th>        <th class=\"col_heading level0 col2\" >Recall</th>        <th class=\"col_heading level0 col3\" >Prec.</th>        <th class=\"col_heading level0 col4\" >F1</th>        <th class=\"col_heading level0 col5\" >Kappa</th>        <th class=\"col_heading level0 col6\" >MCC</th>    </tr></thead><tbody>\n",
       "                <tr>\n",
       "                        <th id=\"T_c8d0e53a_34a1_11eb_accb_e23c87d3252elevel0_row0\" class=\"row_heading level0 row0\" >0</th>\n",
       "                        <td id=\"T_c8d0e53a_34a1_11eb_accb_e23c87d3252erow0_col0\" class=\"data row0 col0\" >0.7647</td>\n",
       "                        <td id=\"T_c8d0e53a_34a1_11eb_accb_e23c87d3252erow0_col1\" class=\"data row0 col1\" >0.0000</td>\n",
       "                        <td id=\"T_c8d0e53a_34a1_11eb_accb_e23c87d3252erow0_col2\" class=\"data row0 col2\" >0.4706</td>\n",
       "                        <td id=\"T_c8d0e53a_34a1_11eb_accb_e23c87d3252erow0_col3\" class=\"data row0 col3\" >0.7273</td>\n",
       "                        <td id=\"T_c8d0e53a_34a1_11eb_accb_e23c87d3252erow0_col4\" class=\"data row0 col4\" >0.5714</td>\n",
       "                        <td id=\"T_c8d0e53a_34a1_11eb_accb_e23c87d3252erow0_col5\" class=\"data row0 col5\" >0.4194</td>\n",
       "                        <td id=\"T_c8d0e53a_34a1_11eb_accb_e23c87d3252erow0_col6\" class=\"data row0 col6\" >0.4382</td>\n",
       "            </tr>\n",
       "            <tr>\n",
       "                        <th id=\"T_c8d0e53a_34a1_11eb_accb_e23c87d3252elevel0_row1\" class=\"row_heading level0 row1\" >1</th>\n",
       "                        <td id=\"T_c8d0e53a_34a1_11eb_accb_e23c87d3252erow1_col0\" class=\"data row1 col0\" >0.7353</td>\n",
       "                        <td id=\"T_c8d0e53a_34a1_11eb_accb_e23c87d3252erow1_col1\" class=\"data row1 col1\" >0.0000</td>\n",
       "                        <td id=\"T_c8d0e53a_34a1_11eb_accb_e23c87d3252erow1_col2\" class=\"data row1 col2\" >0.4412</td>\n",
       "                        <td id=\"T_c8d0e53a_34a1_11eb_accb_e23c87d3252erow1_col3\" class=\"data row1 col3\" >0.6522</td>\n",
       "                        <td id=\"T_c8d0e53a_34a1_11eb_accb_e23c87d3252erow1_col4\" class=\"data row1 col4\" >0.5263</td>\n",
       "                        <td id=\"T_c8d0e53a_34a1_11eb_accb_e23c87d3252erow1_col5\" class=\"data row1 col5\" >0.3520</td>\n",
       "                        <td id=\"T_c8d0e53a_34a1_11eb_accb_e23c87d3252erow1_col6\" class=\"data row1 col6\" >0.3649</td>\n",
       "            </tr>\n",
       "            <tr>\n",
       "                        <th id=\"T_c8d0e53a_34a1_11eb_accb_e23c87d3252elevel0_row2\" class=\"row_heading level0 row2\" >2</th>\n",
       "                        <td id=\"T_c8d0e53a_34a1_11eb_accb_e23c87d3252erow2_col0\" class=\"data row2 col0\" >0.7745</td>\n",
       "                        <td id=\"T_c8d0e53a_34a1_11eb_accb_e23c87d3252erow2_col1\" class=\"data row2 col1\" >0.0000</td>\n",
       "                        <td id=\"T_c8d0e53a_34a1_11eb_accb_e23c87d3252erow2_col2\" class=\"data row2 col2\" >0.5588</td>\n",
       "                        <td id=\"T_c8d0e53a_34a1_11eb_accb_e23c87d3252erow2_col3\" class=\"data row2 col3\" >0.7037</td>\n",
       "                        <td id=\"T_c8d0e53a_34a1_11eb_accb_e23c87d3252erow2_col4\" class=\"data row2 col4\" >0.6230</td>\n",
       "                        <td id=\"T_c8d0e53a_34a1_11eb_accb_e23c87d3252erow2_col5\" class=\"data row2 col5\" >0.4651</td>\n",
       "                        <td id=\"T_c8d0e53a_34a1_11eb_accb_e23c87d3252erow2_col6\" class=\"data row2 col6\" >0.4714</td>\n",
       "            </tr>\n",
       "            <tr>\n",
       "                        <th id=\"T_c8d0e53a_34a1_11eb_accb_e23c87d3252elevel0_row3\" class=\"row_heading level0 row3\" >3</th>\n",
       "                        <td id=\"T_c8d0e53a_34a1_11eb_accb_e23c87d3252erow3_col0\" class=\"data row3 col0\" >0.7549</td>\n",
       "                        <td id=\"T_c8d0e53a_34a1_11eb_accb_e23c87d3252erow3_col1\" class=\"data row3 col1\" >0.0000</td>\n",
       "                        <td id=\"T_c8d0e53a_34a1_11eb_accb_e23c87d3252erow3_col2\" class=\"data row3 col2\" >0.4412</td>\n",
       "                        <td id=\"T_c8d0e53a_34a1_11eb_accb_e23c87d3252erow3_col3\" class=\"data row3 col3\" >0.7143</td>\n",
       "                        <td id=\"T_c8d0e53a_34a1_11eb_accb_e23c87d3252erow3_col4\" class=\"data row3 col4\" >0.5455</td>\n",
       "                        <td id=\"T_c8d0e53a_34a1_11eb_accb_e23c87d3252erow3_col5\" class=\"data row3 col5\" >0.3902</td>\n",
       "                        <td id=\"T_c8d0e53a_34a1_11eb_accb_e23c87d3252erow3_col6\" class=\"data row3 col6\" >0.4115</td>\n",
       "            </tr>\n",
       "            <tr>\n",
       "                        <th id=\"T_c8d0e53a_34a1_11eb_accb_e23c87d3252elevel0_row4\" class=\"row_heading level0 row4\" >4</th>\n",
       "                        <td id=\"T_c8d0e53a_34a1_11eb_accb_e23c87d3252erow4_col0\" class=\"data row4 col0\" >0.7549</td>\n",
       "                        <td id=\"T_c8d0e53a_34a1_11eb_accb_e23c87d3252erow4_col1\" class=\"data row4 col1\" >0.0000</td>\n",
       "                        <td id=\"T_c8d0e53a_34a1_11eb_accb_e23c87d3252erow4_col2\" class=\"data row4 col2\" >0.4286</td>\n",
       "                        <td id=\"T_c8d0e53a_34a1_11eb_accb_e23c87d3252erow4_col3\" class=\"data row4 col3\" >0.7500</td>\n",
       "                        <td id=\"T_c8d0e53a_34a1_11eb_accb_e23c87d3252erow4_col4\" class=\"data row4 col4\" >0.5455</td>\n",
       "                        <td id=\"T_c8d0e53a_34a1_11eb_accb_e23c87d3252erow4_col5\" class=\"data row4 col5\" >0.3943</td>\n",
       "                        <td id=\"T_c8d0e53a_34a1_11eb_accb_e23c87d3252erow4_col6\" class=\"data row4 col6\" >0.4232</td>\n",
       "            </tr>\n",
       "            <tr>\n",
       "                        <th id=\"T_c8d0e53a_34a1_11eb_accb_e23c87d3252elevel0_row5\" class=\"row_heading level0 row5\" >Mean</th>\n",
       "                        <td id=\"T_c8d0e53a_34a1_11eb_accb_e23c87d3252erow5_col0\" class=\"data row5 col0\" >0.7569</td>\n",
       "                        <td id=\"T_c8d0e53a_34a1_11eb_accb_e23c87d3252erow5_col1\" class=\"data row5 col1\" >0.0000</td>\n",
       "                        <td id=\"T_c8d0e53a_34a1_11eb_accb_e23c87d3252erow5_col2\" class=\"data row5 col2\" >0.4681</td>\n",
       "                        <td id=\"T_c8d0e53a_34a1_11eb_accb_e23c87d3252erow5_col3\" class=\"data row5 col3\" >0.7095</td>\n",
       "                        <td id=\"T_c8d0e53a_34a1_11eb_accb_e23c87d3252erow5_col4\" class=\"data row5 col4\" >0.5623</td>\n",
       "                        <td id=\"T_c8d0e53a_34a1_11eb_accb_e23c87d3252erow5_col5\" class=\"data row5 col5\" >0.4042</td>\n",
       "                        <td id=\"T_c8d0e53a_34a1_11eb_accb_e23c87d3252erow5_col6\" class=\"data row5 col6\" >0.4219</td>\n",
       "            </tr>\n",
       "            <tr>\n",
       "                        <th id=\"T_c8d0e53a_34a1_11eb_accb_e23c87d3252elevel0_row6\" class=\"row_heading level0 row6\" >SD</th>\n",
       "                        <td id=\"T_c8d0e53a_34a1_11eb_accb_e23c87d3252erow6_col0\" class=\"data row6 col0\" >0.0130</td>\n",
       "                        <td id=\"T_c8d0e53a_34a1_11eb_accb_e23c87d3252erow6_col1\" class=\"data row6 col1\" >0.0000</td>\n",
       "                        <td id=\"T_c8d0e53a_34a1_11eb_accb_e23c87d3252erow6_col2\" class=\"data row6 col2\" >0.0474</td>\n",
       "                        <td id=\"T_c8d0e53a_34a1_11eb_accb_e23c87d3252erow6_col3\" class=\"data row6 col3\" >0.0326</td>\n",
       "                        <td id=\"T_c8d0e53a_34a1_11eb_accb_e23c87d3252erow6_col4\" class=\"data row6 col4\" >0.0335</td>\n",
       "                        <td id=\"T_c8d0e53a_34a1_11eb_accb_e23c87d3252erow6_col5\" class=\"data row6 col5\" >0.0373</td>\n",
       "                        <td id=\"T_c8d0e53a_34a1_11eb_accb_e23c87d3252erow6_col6\" class=\"data row6 col6\" >0.0348</td>\n",
       "            </tr>\n",
       "    </tbody></table>"
      ],
      "text/plain": [
       "<pandas.io.formats.style.Styler at 0x227ea565c48>"
      ]
     },
     "metadata": {},
     "output_type": "display_data"
    }
   ],
   "source": [
    "## Tuning Model\n",
    "cmodel_tuned = tune_model(cmodel, n_iter = 10, fold = 5, optimize = 'Accuracy')"
   ]
  },
  {
   "cell_type": "code",
   "execution_count": 50,
   "metadata": {},
   "outputs": [
    {
     "name": "stdout",
     "output_type": "stream",
     "text": [
      "Transformation Pipeline and Model Succesfully Saved\n"
     ]
    }
   ],
   "source": [
    "## Saving Model\n",
    "save_model(cmodel_tuned, 'Model1')"
   ]
  },
  {
   "cell_type": "code",
   "execution_count": 52,
   "metadata": {},
   "outputs": [
    {
     "name": "stdout",
     "output_type": "stream",
     "text": [
      "Transformation Pipeline and Model Successfully Loaded\n"
     ]
    }
   ],
   "source": [
    "## Loading Model\n",
    "model2 = load_model('Model1')"
   ]
  },
  {
   "cell_type": "code",
   "execution_count": 53,
   "metadata": {},
   "outputs": [
    {
     "data": {
      "text/html": [
       "<div>\n",
       "<style scoped>\n",
       "    .dataframe tbody tr th:only-of-type {\n",
       "        vertical-align: middle;\n",
       "    }\n",
       "\n",
       "    .dataframe tbody tr th {\n",
       "        vertical-align: top;\n",
       "    }\n",
       "\n",
       "    .dataframe thead th {\n",
       "        text-align: right;\n",
       "    }\n",
       "</style>\n",
       "<table border=\"1\" class=\"dataframe\">\n",
       "  <thead>\n",
       "    <tr style=\"text-align: right;\">\n",
       "      <th></th>\n",
       "      <th>Number of times pregnant</th>\n",
       "      <th>Plasma glucose concentration a 2 hours in an oral glucose tolerance test</th>\n",
       "      <th>Diastolic blood pressure (mm Hg)</th>\n",
       "      <th>Triceps skin fold thickness (mm)</th>\n",
       "      <th>2-Hour serum insulin (mu U/ml)</th>\n",
       "      <th>Body mass index (weight in kg/(height in m)^2)</th>\n",
       "      <th>Diabetes pedigree function</th>\n",
       "      <th>Age (years)</th>\n",
       "      <th>Class variable</th>\n",
       "    </tr>\n",
       "  </thead>\n",
       "  <tbody>\n",
       "    <tr>\n",
       "      <th>0</th>\n",
       "      <td>6</td>\n",
       "      <td>148</td>\n",
       "      <td>72</td>\n",
       "      <td>35</td>\n",
       "      <td>0</td>\n",
       "      <td>33.6</td>\n",
       "      <td>0.627</td>\n",
       "      <td>50</td>\n",
       "      <td>1</td>\n",
       "    </tr>\n",
       "    <tr>\n",
       "      <th>1</th>\n",
       "      <td>1</td>\n",
       "      <td>85</td>\n",
       "      <td>66</td>\n",
       "      <td>29</td>\n",
       "      <td>0</td>\n",
       "      <td>26.6</td>\n",
       "      <td>0.351</td>\n",
       "      <td>31</td>\n",
       "      <td>0</td>\n",
       "    </tr>\n",
       "    <tr>\n",
       "      <th>2</th>\n",
       "      <td>8</td>\n",
       "      <td>183</td>\n",
       "      <td>64</td>\n",
       "      <td>0</td>\n",
       "      <td>0</td>\n",
       "      <td>23.3</td>\n",
       "      <td>0.672</td>\n",
       "      <td>32</td>\n",
       "      <td>1</td>\n",
       "    </tr>\n",
       "    <tr>\n",
       "      <th>3</th>\n",
       "      <td>1</td>\n",
       "      <td>89</td>\n",
       "      <td>66</td>\n",
       "      <td>23</td>\n",
       "      <td>94</td>\n",
       "      <td>28.1</td>\n",
       "      <td>0.167</td>\n",
       "      <td>21</td>\n",
       "      <td>0</td>\n",
       "    </tr>\n",
       "    <tr>\n",
       "      <th>4</th>\n",
       "      <td>0</td>\n",
       "      <td>137</td>\n",
       "      <td>40</td>\n",
       "      <td>35</td>\n",
       "      <td>168</td>\n",
       "      <td>43.1</td>\n",
       "      <td>2.288</td>\n",
       "      <td>33</td>\n",
       "      <td>1</td>\n",
       "    </tr>\n",
       "    <tr>\n",
       "      <th>...</th>\n",
       "      <td>...</td>\n",
       "      <td>...</td>\n",
       "      <td>...</td>\n",
       "      <td>...</td>\n",
       "      <td>...</td>\n",
       "      <td>...</td>\n",
       "      <td>...</td>\n",
       "      <td>...</td>\n",
       "      <td>...</td>\n",
       "    </tr>\n",
       "    <tr>\n",
       "      <th>763</th>\n",
       "      <td>10</td>\n",
       "      <td>101</td>\n",
       "      <td>76</td>\n",
       "      <td>48</td>\n",
       "      <td>180</td>\n",
       "      <td>32.9</td>\n",
       "      <td>0.171</td>\n",
       "      <td>63</td>\n",
       "      <td>0</td>\n",
       "    </tr>\n",
       "    <tr>\n",
       "      <th>764</th>\n",
       "      <td>2</td>\n",
       "      <td>122</td>\n",
       "      <td>70</td>\n",
       "      <td>27</td>\n",
       "      <td>0</td>\n",
       "      <td>36.8</td>\n",
       "      <td>0.340</td>\n",
       "      <td>27</td>\n",
       "      <td>0</td>\n",
       "    </tr>\n",
       "    <tr>\n",
       "      <th>765</th>\n",
       "      <td>5</td>\n",
       "      <td>121</td>\n",
       "      <td>72</td>\n",
       "      <td>23</td>\n",
       "      <td>112</td>\n",
       "      <td>26.2</td>\n",
       "      <td>0.245</td>\n",
       "      <td>30</td>\n",
       "      <td>0</td>\n",
       "    </tr>\n",
       "    <tr>\n",
       "      <th>766</th>\n",
       "      <td>1</td>\n",
       "      <td>126</td>\n",
       "      <td>60</td>\n",
       "      <td>0</td>\n",
       "      <td>0</td>\n",
       "      <td>30.1</td>\n",
       "      <td>0.349</td>\n",
       "      <td>47</td>\n",
       "      <td>1</td>\n",
       "    </tr>\n",
       "    <tr>\n",
       "      <th>767</th>\n",
       "      <td>1</td>\n",
       "      <td>93</td>\n",
       "      <td>70</td>\n",
       "      <td>31</td>\n",
       "      <td>0</td>\n",
       "      <td>30.4</td>\n",
       "      <td>0.315</td>\n",
       "      <td>23</td>\n",
       "      <td>0</td>\n",
       "    </tr>\n",
       "  </tbody>\n",
       "</table>\n",
       "<p>768 rows × 9 columns</p>\n",
       "</div>"
      ],
      "text/plain": [
       "     Number of times pregnant  \\\n",
       "0                           6   \n",
       "1                           1   \n",
       "2                           8   \n",
       "3                           1   \n",
       "4                           0   \n",
       "..                        ...   \n",
       "763                        10   \n",
       "764                         2   \n",
       "765                         5   \n",
       "766                         1   \n",
       "767                         1   \n",
       "\n",
       "     Plasma glucose concentration a 2 hours in an oral glucose tolerance test  \\\n",
       "0                                                  148                          \n",
       "1                                                   85                          \n",
       "2                                                  183                          \n",
       "3                                                   89                          \n",
       "4                                                  137                          \n",
       "..                                                 ...                          \n",
       "763                                                101                          \n",
       "764                                                122                          \n",
       "765                                                121                          \n",
       "766                                                126                          \n",
       "767                                                 93                          \n",
       "\n",
       "     Diastolic blood pressure (mm Hg)  Triceps skin fold thickness (mm)  \\\n",
       "0                                  72                                35   \n",
       "1                                  66                                29   \n",
       "2                                  64                                 0   \n",
       "3                                  66                                23   \n",
       "4                                  40                                35   \n",
       "..                                ...                               ...   \n",
       "763                                76                                48   \n",
       "764                                70                                27   \n",
       "765                                72                                23   \n",
       "766                                60                                 0   \n",
       "767                                70                                31   \n",
       "\n",
       "     2-Hour serum insulin (mu U/ml)  \\\n",
       "0                                 0   \n",
       "1                                 0   \n",
       "2                                 0   \n",
       "3                                94   \n",
       "4                               168   \n",
       "..                              ...   \n",
       "763                             180   \n",
       "764                               0   \n",
       "765                             112   \n",
       "766                               0   \n",
       "767                               0   \n",
       "\n",
       "     Body mass index (weight in kg/(height in m)^2)  \\\n",
       "0                                              33.6   \n",
       "1                                              26.6   \n",
       "2                                              23.3   \n",
       "3                                              28.1   \n",
       "4                                              43.1   \n",
       "..                                              ...   \n",
       "763                                            32.9   \n",
       "764                                            36.8   \n",
       "765                                            26.2   \n",
       "766                                            30.1   \n",
       "767                                            30.4   \n",
       "\n",
       "     Diabetes pedigree function  Age (years)  Class variable  \n",
       "0                         0.627           50               1  \n",
       "1                         0.351           31               0  \n",
       "2                         0.672           32               1  \n",
       "3                         0.167           21               0  \n",
       "4                         2.288           33               1  \n",
       "..                          ...          ...             ...  \n",
       "763                       0.171           63               0  \n",
       "764                       0.340           27               0  \n",
       "765                       0.245           30               0  \n",
       "766                       0.349           47               1  \n",
       "767                       0.315           23               0  \n",
       "\n",
       "[768 rows x 9 columns]"
      ]
     },
     "execution_count": 53,
     "metadata": {},
     "output_type": "execute_result"
    }
   ],
   "source": [
    "dataset"
   ]
  },
  {
   "cell_type": "code",
   "execution_count": 55,
   "metadata": {},
   "outputs": [],
   "source": [
    "ds = dataset[:10]"
   ]
  },
  {
   "cell_type": "code",
   "execution_count": 56,
   "metadata": {},
   "outputs": [
    {
     "name": "stdout",
     "output_type": "stream",
     "text": [
      "   Number of times pregnant  \\\n",
      "0                         6   \n",
      "1                         1   \n",
      "2                         8   \n",
      "3                         1   \n",
      "4                         0   \n",
      "5                         5   \n",
      "6                         3   \n",
      "7                        10   \n",
      "8                         2   \n",
      "9                         8   \n",
      "\n",
      "   Plasma glucose concentration a 2 hours in an oral glucose tolerance test  \\\n",
      "0                                                148                          \n",
      "1                                                 85                          \n",
      "2                                                183                          \n",
      "3                                                 89                          \n",
      "4                                                137                          \n",
      "5                                                116                          \n",
      "6                                                 78                          \n",
      "7                                                115                          \n",
      "8                                                197                          \n",
      "9                                                125                          \n",
      "\n",
      "   Diastolic blood pressure (mm Hg)  Triceps skin fold thickness (mm)  \\\n",
      "0                                72                                35   \n",
      "1                                66                                29   \n",
      "2                                64                                 0   \n",
      "3                                66                                23   \n",
      "4                                40                                35   \n",
      "5                                74                                 0   \n",
      "6                                50                                32   \n",
      "7                                 0                                 0   \n",
      "8                                70                                45   \n",
      "9                                96                                 0   \n",
      "\n",
      "   2-Hour serum insulin (mu U/ml)  \\\n",
      "0                               0   \n",
      "1                               0   \n",
      "2                               0   \n",
      "3                              94   \n",
      "4                             168   \n",
      "5                               0   \n",
      "6                              88   \n",
      "7                               0   \n",
      "8                             543   \n",
      "9                               0   \n",
      "\n",
      "   Body mass index (weight in kg/(height in m)^2)  Diabetes pedigree function  \\\n",
      "0                                            33.6                       0.627   \n",
      "1                                            26.6                       0.351   \n",
      "2                                            23.3                       0.672   \n",
      "3                                            28.1                       0.167   \n",
      "4                                            43.1                       2.288   \n",
      "5                                            25.6                       0.201   \n",
      "6                                            31.0                       0.248   \n",
      "7                                            35.3                       0.134   \n",
      "8                                            30.5                       0.158   \n",
      "9                                             0.0                       0.232   \n",
      "\n",
      "   Age (years)  Class variable  \n",
      "0           50               1  \n",
      "1           31               0  \n",
      "2           32               1  \n",
      "3           21               0  \n",
      "4           33               1  \n",
      "5           30               0  \n",
      "6           26               1  \n",
      "7           29               0  \n",
      "8           53               1  \n",
      "9           54               1  \n"
     ]
    }
   ],
   "source": [
    "print(ds)"
   ]
  },
  {
   "cell_type": "code",
   "execution_count": 57,
   "metadata": {},
   "outputs": [],
   "source": [
    "## Predicting Model\n",
    "newp = predict_model(model2, data = ds)"
   ]
  },
  {
   "cell_type": "code",
   "execution_count": 58,
   "metadata": {},
   "outputs": [
    {
     "name": "stdout",
     "output_type": "stream",
     "text": [
      "   Number of times pregnant  \\\n",
      "0                         6   \n",
      "1                         1   \n",
      "2                         8   \n",
      "3                         1   \n",
      "4                         0   \n",
      "5                         5   \n",
      "6                         3   \n",
      "7                        10   \n",
      "8                         2   \n",
      "9                         8   \n",
      "\n",
      "   Plasma glucose concentration a 2 hours in an oral glucose tolerance test  \\\n",
      "0                                                148                          \n",
      "1                                                 85                          \n",
      "2                                                183                          \n",
      "3                                                 89                          \n",
      "4                                                137                          \n",
      "5                                                116                          \n",
      "6                                                 78                          \n",
      "7                                                115                          \n",
      "8                                                197                          \n",
      "9                                                125                          \n",
      "\n",
      "   Diastolic blood pressure (mm Hg)  Triceps skin fold thickness (mm)  \\\n",
      "0                                72                                35   \n",
      "1                                66                                29   \n",
      "2                                64                                 0   \n",
      "3                                66                                23   \n",
      "4                                40                                35   \n",
      "5                                74                                 0   \n",
      "6                                50                                32   \n",
      "7                                 0                                 0   \n",
      "8                                70                                45   \n",
      "9                                96                                 0   \n",
      "\n",
      "   2-Hour serum insulin (mu U/ml)  \\\n",
      "0                               0   \n",
      "1                               0   \n",
      "2                               0   \n",
      "3                              94   \n",
      "4                             168   \n",
      "5                               0   \n",
      "6                              88   \n",
      "7                               0   \n",
      "8                             543   \n",
      "9                               0   \n",
      "\n",
      "   Body mass index (weight in kg/(height in m)^2)  Diabetes pedigree function  \\\n",
      "0                                            33.6                       0.627   \n",
      "1                                            26.6                       0.351   \n",
      "2                                            23.3                       0.672   \n",
      "3                                            28.1                       0.167   \n",
      "4                                            43.1                       2.288   \n",
      "5                                            25.6                       0.201   \n",
      "6                                            31.0                       0.248   \n",
      "7                                            35.3                       0.134   \n",
      "8                                            30.5                       0.158   \n",
      "9                                             0.0                       0.232   \n",
      "\n",
      "   Age (years)  Class variable Label  \n",
      "0           50               1     1  \n",
      "1           31               0     0  \n",
      "2           32               1     1  \n",
      "3           21               0     0  \n",
      "4           33               1     1  \n",
      "5           30               0     0  \n",
      "6           26               1     0  \n",
      "7           29               0     0  \n",
      "8           53               1     1  \n",
      "9           54               1     0  \n"
     ]
    }
   ],
   "source": [
    "print(newp)"
   ]
  },
  {
   "cell_type": "code",
   "execution_count": 59,
   "metadata": {},
   "outputs": [],
   "source": [
    "## Exporting the predicted csv file\n",
    "newp.to_csv('New_Predicted.csv')"
   ]
  },
  {
   "cell_type": "code",
   "execution_count": 62,
   "metadata": {},
   "outputs": [
    {
     "data": {
      "text/html": [
       "<style  type=\"text/css\" >\n",
       "    #T_caa4bdb8_34a2_11eb_900c_e23c87d3252e th {\n",
       "          text-align: left;\n",
       "    }    #T_caa4bdb8_34a2_11eb_900c_e23c87d3252erow0_col0 {\n",
       "            text-align:  left;\n",
       "        }    #T_caa4bdb8_34a2_11eb_900c_e23c87d3252erow0_col1 {\n",
       "            : ;\n",
       "            text-align:  left;\n",
       "        }    #T_caa4bdb8_34a2_11eb_900c_e23c87d3252erow0_col2 {\n",
       "            background-color:  yellow;\n",
       "            text-align:  left;\n",
       "        }    #T_caa4bdb8_34a2_11eb_900c_e23c87d3252erow0_col3 {\n",
       "            : ;\n",
       "            text-align:  left;\n",
       "        }    #T_caa4bdb8_34a2_11eb_900c_e23c87d3252erow0_col4 {\n",
       "            : ;\n",
       "            text-align:  left;\n",
       "        }    #T_caa4bdb8_34a2_11eb_900c_e23c87d3252erow0_col5 {\n",
       "            background-color:  yellow;\n",
       "            text-align:  left;\n",
       "        }    #T_caa4bdb8_34a2_11eb_900c_e23c87d3252erow0_col6 {\n",
       "            background-color:  yellow;\n",
       "            text-align:  left;\n",
       "        }    #T_caa4bdb8_34a2_11eb_900c_e23c87d3252erow0_col7 {\n",
       "            : ;\n",
       "            text-align:  left;\n",
       "        }    #T_caa4bdb8_34a2_11eb_900c_e23c87d3252erow0_col8 {\n",
       "            background-color:  lightgrey;\n",
       "            text-align:  left;\n",
       "        }    #T_caa4bdb8_34a2_11eb_900c_e23c87d3252erow1_col0 {\n",
       "            text-align:  left;\n",
       "        }    #T_caa4bdb8_34a2_11eb_900c_e23c87d3252erow1_col1 {\n",
       "            : ;\n",
       "            text-align:  left;\n",
       "        }    #T_caa4bdb8_34a2_11eb_900c_e23c87d3252erow1_col2 {\n",
       "            : ;\n",
       "            text-align:  left;\n",
       "        }    #T_caa4bdb8_34a2_11eb_900c_e23c87d3252erow1_col3 {\n",
       "            : ;\n",
       "            text-align:  left;\n",
       "        }    #T_caa4bdb8_34a2_11eb_900c_e23c87d3252erow1_col4 {\n",
       "            : ;\n",
       "            text-align:  left;\n",
       "        }    #T_caa4bdb8_34a2_11eb_900c_e23c87d3252erow1_col5 {\n",
       "            : ;\n",
       "            text-align:  left;\n",
       "        }    #T_caa4bdb8_34a2_11eb_900c_e23c87d3252erow1_col6 {\n",
       "            : ;\n",
       "            text-align:  left;\n",
       "        }    #T_caa4bdb8_34a2_11eb_900c_e23c87d3252erow1_col7 {\n",
       "            : ;\n",
       "            text-align:  left;\n",
       "        }    #T_caa4bdb8_34a2_11eb_900c_e23c87d3252erow1_col8 {\n",
       "            background-color:  lightgrey;\n",
       "            text-align:  left;\n",
       "        }    #T_caa4bdb8_34a2_11eb_900c_e23c87d3252erow2_col0 {\n",
       "            text-align:  left;\n",
       "        }    #T_caa4bdb8_34a2_11eb_900c_e23c87d3252erow2_col1 {\n",
       "            : ;\n",
       "            text-align:  left;\n",
       "        }    #T_caa4bdb8_34a2_11eb_900c_e23c87d3252erow2_col2 {\n",
       "            : ;\n",
       "            text-align:  left;\n",
       "        }    #T_caa4bdb8_34a2_11eb_900c_e23c87d3252erow2_col3 {\n",
       "            : ;\n",
       "            text-align:  left;\n",
       "        }    #T_caa4bdb8_34a2_11eb_900c_e23c87d3252erow2_col4 {\n",
       "            : ;\n",
       "            text-align:  left;\n",
       "        }    #T_caa4bdb8_34a2_11eb_900c_e23c87d3252erow2_col5 {\n",
       "            : ;\n",
       "            text-align:  left;\n",
       "        }    #T_caa4bdb8_34a2_11eb_900c_e23c87d3252erow2_col6 {\n",
       "            : ;\n",
       "            text-align:  left;\n",
       "        }    #T_caa4bdb8_34a2_11eb_900c_e23c87d3252erow2_col7 {\n",
       "            : ;\n",
       "            text-align:  left;\n",
       "        }    #T_caa4bdb8_34a2_11eb_900c_e23c87d3252erow2_col8 {\n",
       "            background-color:  lightgrey;\n",
       "            text-align:  left;\n",
       "        }    #T_caa4bdb8_34a2_11eb_900c_e23c87d3252erow3_col0 {\n",
       "            text-align:  left;\n",
       "        }    #T_caa4bdb8_34a2_11eb_900c_e23c87d3252erow3_col1 {\n",
       "            background-color:  yellow;\n",
       "            text-align:  left;\n",
       "        }    #T_caa4bdb8_34a2_11eb_900c_e23c87d3252erow3_col2 {\n",
       "            : ;\n",
       "            text-align:  left;\n",
       "        }    #T_caa4bdb8_34a2_11eb_900c_e23c87d3252erow3_col3 {\n",
       "            : ;\n",
       "            text-align:  left;\n",
       "        }    #T_caa4bdb8_34a2_11eb_900c_e23c87d3252erow3_col4 {\n",
       "            background-color:  yellow;\n",
       "            text-align:  left;\n",
       "        }    #T_caa4bdb8_34a2_11eb_900c_e23c87d3252erow3_col5 {\n",
       "            : ;\n",
       "            text-align:  left;\n",
       "        }    #T_caa4bdb8_34a2_11eb_900c_e23c87d3252erow3_col6 {\n",
       "            : ;\n",
       "            text-align:  left;\n",
       "        }    #T_caa4bdb8_34a2_11eb_900c_e23c87d3252erow3_col7 {\n",
       "            background-color:  yellow;\n",
       "            text-align:  left;\n",
       "        }    #T_caa4bdb8_34a2_11eb_900c_e23c87d3252erow3_col8 {\n",
       "            background-color:  lightgrey;\n",
       "            text-align:  left;\n",
       "        }    #T_caa4bdb8_34a2_11eb_900c_e23c87d3252erow4_col0 {\n",
       "            text-align:  left;\n",
       "        }    #T_caa4bdb8_34a2_11eb_900c_e23c87d3252erow4_col1 {\n",
       "            : ;\n",
       "            text-align:  left;\n",
       "        }    #T_caa4bdb8_34a2_11eb_900c_e23c87d3252erow4_col2 {\n",
       "            : ;\n",
       "            text-align:  left;\n",
       "        }    #T_caa4bdb8_34a2_11eb_900c_e23c87d3252erow4_col3 {\n",
       "            : ;\n",
       "            text-align:  left;\n",
       "        }    #T_caa4bdb8_34a2_11eb_900c_e23c87d3252erow4_col4 {\n",
       "            : ;\n",
       "            text-align:  left;\n",
       "        }    #T_caa4bdb8_34a2_11eb_900c_e23c87d3252erow4_col5 {\n",
       "            : ;\n",
       "            text-align:  left;\n",
       "        }    #T_caa4bdb8_34a2_11eb_900c_e23c87d3252erow4_col6 {\n",
       "            : ;\n",
       "            text-align:  left;\n",
       "        }    #T_caa4bdb8_34a2_11eb_900c_e23c87d3252erow4_col7 {\n",
       "            : ;\n",
       "            text-align:  left;\n",
       "        }    #T_caa4bdb8_34a2_11eb_900c_e23c87d3252erow4_col8 {\n",
       "            background-color:  lightgrey;\n",
       "            text-align:  left;\n",
       "        }    #T_caa4bdb8_34a2_11eb_900c_e23c87d3252erow5_col0 {\n",
       "            text-align:  left;\n",
       "        }    #T_caa4bdb8_34a2_11eb_900c_e23c87d3252erow5_col1 {\n",
       "            : ;\n",
       "            text-align:  left;\n",
       "        }    #T_caa4bdb8_34a2_11eb_900c_e23c87d3252erow5_col2 {\n",
       "            : ;\n",
       "            text-align:  left;\n",
       "        }    #T_caa4bdb8_34a2_11eb_900c_e23c87d3252erow5_col3 {\n",
       "            : ;\n",
       "            text-align:  left;\n",
       "        }    #T_caa4bdb8_34a2_11eb_900c_e23c87d3252erow5_col4 {\n",
       "            : ;\n",
       "            text-align:  left;\n",
       "        }    #T_caa4bdb8_34a2_11eb_900c_e23c87d3252erow5_col5 {\n",
       "            : ;\n",
       "            text-align:  left;\n",
       "        }    #T_caa4bdb8_34a2_11eb_900c_e23c87d3252erow5_col6 {\n",
       "            : ;\n",
       "            text-align:  left;\n",
       "        }    #T_caa4bdb8_34a2_11eb_900c_e23c87d3252erow5_col7 {\n",
       "            : ;\n",
       "            text-align:  left;\n",
       "        }    #T_caa4bdb8_34a2_11eb_900c_e23c87d3252erow5_col8 {\n",
       "            background-color:  lightgrey;\n",
       "            text-align:  left;\n",
       "        }    #T_caa4bdb8_34a2_11eb_900c_e23c87d3252erow6_col0 {\n",
       "            text-align:  left;\n",
       "        }    #T_caa4bdb8_34a2_11eb_900c_e23c87d3252erow6_col1 {\n",
       "            : ;\n",
       "            text-align:  left;\n",
       "        }    #T_caa4bdb8_34a2_11eb_900c_e23c87d3252erow6_col2 {\n",
       "            : ;\n",
       "            text-align:  left;\n",
       "        }    #T_caa4bdb8_34a2_11eb_900c_e23c87d3252erow6_col3 {\n",
       "            : ;\n",
       "            text-align:  left;\n",
       "        }    #T_caa4bdb8_34a2_11eb_900c_e23c87d3252erow6_col4 {\n",
       "            : ;\n",
       "            text-align:  left;\n",
       "        }    #T_caa4bdb8_34a2_11eb_900c_e23c87d3252erow6_col5 {\n",
       "            : ;\n",
       "            text-align:  left;\n",
       "        }    #T_caa4bdb8_34a2_11eb_900c_e23c87d3252erow6_col6 {\n",
       "            : ;\n",
       "            text-align:  left;\n",
       "        }    #T_caa4bdb8_34a2_11eb_900c_e23c87d3252erow6_col7 {\n",
       "            : ;\n",
       "            text-align:  left;\n",
       "        }    #T_caa4bdb8_34a2_11eb_900c_e23c87d3252erow6_col8 {\n",
       "            background-color:  lightgrey;\n",
       "            text-align:  left;\n",
       "        }    #T_caa4bdb8_34a2_11eb_900c_e23c87d3252erow7_col0 {\n",
       "            text-align:  left;\n",
       "        }    #T_caa4bdb8_34a2_11eb_900c_e23c87d3252erow7_col1 {\n",
       "            : ;\n",
       "            text-align:  left;\n",
       "        }    #T_caa4bdb8_34a2_11eb_900c_e23c87d3252erow7_col2 {\n",
       "            : ;\n",
       "            text-align:  left;\n",
       "        }    #T_caa4bdb8_34a2_11eb_900c_e23c87d3252erow7_col3 {\n",
       "            : ;\n",
       "            text-align:  left;\n",
       "        }    #T_caa4bdb8_34a2_11eb_900c_e23c87d3252erow7_col4 {\n",
       "            : ;\n",
       "            text-align:  left;\n",
       "        }    #T_caa4bdb8_34a2_11eb_900c_e23c87d3252erow7_col5 {\n",
       "            : ;\n",
       "            text-align:  left;\n",
       "        }    #T_caa4bdb8_34a2_11eb_900c_e23c87d3252erow7_col6 {\n",
       "            : ;\n",
       "            text-align:  left;\n",
       "        }    #T_caa4bdb8_34a2_11eb_900c_e23c87d3252erow7_col7 {\n",
       "            : ;\n",
       "            text-align:  left;\n",
       "        }    #T_caa4bdb8_34a2_11eb_900c_e23c87d3252erow7_col8 {\n",
       "            background-color:  lightgrey;\n",
       "            text-align:  left;\n",
       "        }    #T_caa4bdb8_34a2_11eb_900c_e23c87d3252erow8_col0 {\n",
       "            text-align:  left;\n",
       "        }    #T_caa4bdb8_34a2_11eb_900c_e23c87d3252erow8_col1 {\n",
       "            : ;\n",
       "            text-align:  left;\n",
       "        }    #T_caa4bdb8_34a2_11eb_900c_e23c87d3252erow8_col2 {\n",
       "            : ;\n",
       "            text-align:  left;\n",
       "        }    #T_caa4bdb8_34a2_11eb_900c_e23c87d3252erow8_col3 {\n",
       "            : ;\n",
       "            text-align:  left;\n",
       "        }    #T_caa4bdb8_34a2_11eb_900c_e23c87d3252erow8_col4 {\n",
       "            : ;\n",
       "            text-align:  left;\n",
       "        }    #T_caa4bdb8_34a2_11eb_900c_e23c87d3252erow8_col5 {\n",
       "            : ;\n",
       "            text-align:  left;\n",
       "        }    #T_caa4bdb8_34a2_11eb_900c_e23c87d3252erow8_col6 {\n",
       "            : ;\n",
       "            text-align:  left;\n",
       "        }    #T_caa4bdb8_34a2_11eb_900c_e23c87d3252erow8_col7 {\n",
       "            : ;\n",
       "            text-align:  left;\n",
       "        }    #T_caa4bdb8_34a2_11eb_900c_e23c87d3252erow8_col8 {\n",
       "            background-color:  lightgrey;\n",
       "            text-align:  left;\n",
       "        }    #T_caa4bdb8_34a2_11eb_900c_e23c87d3252erow9_col0 {\n",
       "            text-align:  left;\n",
       "        }    #T_caa4bdb8_34a2_11eb_900c_e23c87d3252erow9_col1 {\n",
       "            : ;\n",
       "            text-align:  left;\n",
       "        }    #T_caa4bdb8_34a2_11eb_900c_e23c87d3252erow9_col2 {\n",
       "            : ;\n",
       "            text-align:  left;\n",
       "        }    #T_caa4bdb8_34a2_11eb_900c_e23c87d3252erow9_col3 {\n",
       "            : ;\n",
       "            text-align:  left;\n",
       "        }    #T_caa4bdb8_34a2_11eb_900c_e23c87d3252erow9_col4 {\n",
       "            : ;\n",
       "            text-align:  left;\n",
       "        }    #T_caa4bdb8_34a2_11eb_900c_e23c87d3252erow9_col5 {\n",
       "            : ;\n",
       "            text-align:  left;\n",
       "        }    #T_caa4bdb8_34a2_11eb_900c_e23c87d3252erow9_col6 {\n",
       "            : ;\n",
       "            text-align:  left;\n",
       "        }    #T_caa4bdb8_34a2_11eb_900c_e23c87d3252erow9_col7 {\n",
       "            : ;\n",
       "            text-align:  left;\n",
       "        }    #T_caa4bdb8_34a2_11eb_900c_e23c87d3252erow9_col8 {\n",
       "            background-color:  lightgrey;\n",
       "            text-align:  left;\n",
       "        }    #T_caa4bdb8_34a2_11eb_900c_e23c87d3252erow10_col0 {\n",
       "            text-align:  left;\n",
       "        }    #T_caa4bdb8_34a2_11eb_900c_e23c87d3252erow10_col1 {\n",
       "            : ;\n",
       "            text-align:  left;\n",
       "        }    #T_caa4bdb8_34a2_11eb_900c_e23c87d3252erow10_col2 {\n",
       "            : ;\n",
       "            text-align:  left;\n",
       "        }    #T_caa4bdb8_34a2_11eb_900c_e23c87d3252erow10_col3 {\n",
       "            : ;\n",
       "            text-align:  left;\n",
       "        }    #T_caa4bdb8_34a2_11eb_900c_e23c87d3252erow10_col4 {\n",
       "            : ;\n",
       "            text-align:  left;\n",
       "        }    #T_caa4bdb8_34a2_11eb_900c_e23c87d3252erow10_col5 {\n",
       "            : ;\n",
       "            text-align:  left;\n",
       "        }    #T_caa4bdb8_34a2_11eb_900c_e23c87d3252erow10_col6 {\n",
       "            : ;\n",
       "            text-align:  left;\n",
       "        }    #T_caa4bdb8_34a2_11eb_900c_e23c87d3252erow10_col7 {\n",
       "            : ;\n",
       "            text-align:  left;\n",
       "        }    #T_caa4bdb8_34a2_11eb_900c_e23c87d3252erow10_col8 {\n",
       "            background-color:  lightgrey;\n",
       "            text-align:  left;\n",
       "        }    #T_caa4bdb8_34a2_11eb_900c_e23c87d3252erow11_col0 {\n",
       "            text-align:  left;\n",
       "        }    #T_caa4bdb8_34a2_11eb_900c_e23c87d3252erow11_col1 {\n",
       "            : ;\n",
       "            text-align:  left;\n",
       "        }    #T_caa4bdb8_34a2_11eb_900c_e23c87d3252erow11_col2 {\n",
       "            : ;\n",
       "            text-align:  left;\n",
       "        }    #T_caa4bdb8_34a2_11eb_900c_e23c87d3252erow11_col3 {\n",
       "            : ;\n",
       "            text-align:  left;\n",
       "        }    #T_caa4bdb8_34a2_11eb_900c_e23c87d3252erow11_col4 {\n",
       "            : ;\n",
       "            text-align:  left;\n",
       "        }    #T_caa4bdb8_34a2_11eb_900c_e23c87d3252erow11_col5 {\n",
       "            : ;\n",
       "            text-align:  left;\n",
       "        }    #T_caa4bdb8_34a2_11eb_900c_e23c87d3252erow11_col6 {\n",
       "            : ;\n",
       "            text-align:  left;\n",
       "        }    #T_caa4bdb8_34a2_11eb_900c_e23c87d3252erow11_col7 {\n",
       "            : ;\n",
       "            text-align:  left;\n",
       "        }    #T_caa4bdb8_34a2_11eb_900c_e23c87d3252erow11_col8 {\n",
       "            background-color:  lightgrey;\n",
       "            text-align:  left;\n",
       "        }    #T_caa4bdb8_34a2_11eb_900c_e23c87d3252erow12_col0 {\n",
       "            text-align:  left;\n",
       "        }    #T_caa4bdb8_34a2_11eb_900c_e23c87d3252erow12_col1 {\n",
       "            : ;\n",
       "            text-align:  left;\n",
       "        }    #T_caa4bdb8_34a2_11eb_900c_e23c87d3252erow12_col2 {\n",
       "            : ;\n",
       "            text-align:  left;\n",
       "        }    #T_caa4bdb8_34a2_11eb_900c_e23c87d3252erow12_col3 {\n",
       "            : ;\n",
       "            text-align:  left;\n",
       "        }    #T_caa4bdb8_34a2_11eb_900c_e23c87d3252erow12_col4 {\n",
       "            : ;\n",
       "            text-align:  left;\n",
       "        }    #T_caa4bdb8_34a2_11eb_900c_e23c87d3252erow12_col5 {\n",
       "            : ;\n",
       "            text-align:  left;\n",
       "        }    #T_caa4bdb8_34a2_11eb_900c_e23c87d3252erow12_col6 {\n",
       "            : ;\n",
       "            text-align:  left;\n",
       "        }    #T_caa4bdb8_34a2_11eb_900c_e23c87d3252erow12_col7 {\n",
       "            : ;\n",
       "            text-align:  left;\n",
       "        }    #T_caa4bdb8_34a2_11eb_900c_e23c87d3252erow12_col8 {\n",
       "            background-color:  lightgrey;\n",
       "            text-align:  left;\n",
       "        }    #T_caa4bdb8_34a2_11eb_900c_e23c87d3252erow13_col0 {\n",
       "            text-align:  left;\n",
       "        }    #T_caa4bdb8_34a2_11eb_900c_e23c87d3252erow13_col1 {\n",
       "            : ;\n",
       "            text-align:  left;\n",
       "        }    #T_caa4bdb8_34a2_11eb_900c_e23c87d3252erow13_col2 {\n",
       "            : ;\n",
       "            text-align:  left;\n",
       "        }    #T_caa4bdb8_34a2_11eb_900c_e23c87d3252erow13_col3 {\n",
       "            background-color:  yellow;\n",
       "            text-align:  left;\n",
       "        }    #T_caa4bdb8_34a2_11eb_900c_e23c87d3252erow13_col4 {\n",
       "            : ;\n",
       "            text-align:  left;\n",
       "        }    #T_caa4bdb8_34a2_11eb_900c_e23c87d3252erow13_col5 {\n",
       "            : ;\n",
       "            text-align:  left;\n",
       "        }    #T_caa4bdb8_34a2_11eb_900c_e23c87d3252erow13_col6 {\n",
       "            : ;\n",
       "            text-align:  left;\n",
       "        }    #T_caa4bdb8_34a2_11eb_900c_e23c87d3252erow13_col7 {\n",
       "            : ;\n",
       "            text-align:  left;\n",
       "        }    #T_caa4bdb8_34a2_11eb_900c_e23c87d3252erow13_col8 {\n",
       "            background-color:  lightgrey;\n",
       "            text-align:  left;\n",
       "        }    #T_caa4bdb8_34a2_11eb_900c_e23c87d3252erow14_col0 {\n",
       "            text-align:  left;\n",
       "        }    #T_caa4bdb8_34a2_11eb_900c_e23c87d3252erow14_col1 {\n",
       "            : ;\n",
       "            text-align:  left;\n",
       "        }    #T_caa4bdb8_34a2_11eb_900c_e23c87d3252erow14_col2 {\n",
       "            : ;\n",
       "            text-align:  left;\n",
       "        }    #T_caa4bdb8_34a2_11eb_900c_e23c87d3252erow14_col3 {\n",
       "            : ;\n",
       "            text-align:  left;\n",
       "        }    #T_caa4bdb8_34a2_11eb_900c_e23c87d3252erow14_col4 {\n",
       "            : ;\n",
       "            text-align:  left;\n",
       "        }    #T_caa4bdb8_34a2_11eb_900c_e23c87d3252erow14_col5 {\n",
       "            : ;\n",
       "            text-align:  left;\n",
       "        }    #T_caa4bdb8_34a2_11eb_900c_e23c87d3252erow14_col6 {\n",
       "            : ;\n",
       "            text-align:  left;\n",
       "        }    #T_caa4bdb8_34a2_11eb_900c_e23c87d3252erow14_col7 {\n",
       "            : ;\n",
       "            text-align:  left;\n",
       "        }    #T_caa4bdb8_34a2_11eb_900c_e23c87d3252erow14_col8 {\n",
       "            background-color:  lightgrey;\n",
       "            text-align:  left;\n",
       "        }</style><table id=\"T_caa4bdb8_34a2_11eb_900c_e23c87d3252e\" ><thead>    <tr>        <th class=\"blank level0\" ></th>        <th class=\"col_heading level0 col0\" >Model</th>        <th class=\"col_heading level0 col1\" >Accuracy</th>        <th class=\"col_heading level0 col2\" >AUC</th>        <th class=\"col_heading level0 col3\" >Recall</th>        <th class=\"col_heading level0 col4\" >Prec.</th>        <th class=\"col_heading level0 col5\" >F1</th>        <th class=\"col_heading level0 col6\" >Kappa</th>        <th class=\"col_heading level0 col7\" >MCC</th>        <th class=\"col_heading level0 col8\" >TT (Sec)</th>    </tr></thead><tbody>\n",
       "                <tr>\n",
       "                        <th id=\"T_caa4bdb8_34a2_11eb_900c_e23c87d3252elevel0_row0\" class=\"row_heading level0 row0\" >0</th>\n",
       "                        <td id=\"T_caa4bdb8_34a2_11eb_900c_e23c87d3252erow0_col0\" class=\"data row0 col0\" >Logistic Regression</td>\n",
       "                        <td id=\"T_caa4bdb8_34a2_11eb_900c_e23c87d3252erow0_col1\" class=\"data row0 col1\" >0.7588</td>\n",
       "                        <td id=\"T_caa4bdb8_34a2_11eb_900c_e23c87d3252erow0_col2\" class=\"data row0 col2\" >0.8192</td>\n",
       "                        <td id=\"T_caa4bdb8_34a2_11eb_900c_e23c87d3252erow0_col3\" class=\"data row0 col3\" >0.5496</td>\n",
       "                        <td id=\"T_caa4bdb8_34a2_11eb_900c_e23c87d3252erow0_col4\" class=\"data row0 col4\" >0.6721</td>\n",
       "                        <td id=\"T_caa4bdb8_34a2_11eb_900c_e23c87d3252erow0_col5\" class=\"data row0 col5\" >0.6039</td>\n",
       "                        <td id=\"T_caa4bdb8_34a2_11eb_900c_e23c87d3252erow0_col6\" class=\"data row0 col6\" >0.4332</td>\n",
       "                        <td id=\"T_caa4bdb8_34a2_11eb_900c_e23c87d3252erow0_col7\" class=\"data row0 col7\" >0.4382</td>\n",
       "                        <td id=\"T_caa4bdb8_34a2_11eb_900c_e23c87d3252erow0_col8\" class=\"data row0 col8\" >0.0183</td>\n",
       "            </tr>\n",
       "            <tr>\n",
       "                        <th id=\"T_caa4bdb8_34a2_11eb_900c_e23c87d3252elevel0_row1\" class=\"row_heading level0 row1\" >1</th>\n",
       "                        <td id=\"T_caa4bdb8_34a2_11eb_900c_e23c87d3252erow1_col0\" class=\"data row1 col0\" >Linear Discriminant Analysis</td>\n",
       "                        <td id=\"T_caa4bdb8_34a2_11eb_900c_e23c87d3252erow1_col1\" class=\"data row1 col1\" >0.7549</td>\n",
       "                        <td id=\"T_caa4bdb8_34a2_11eb_900c_e23c87d3252erow1_col2\" class=\"data row1 col2\" >0.8182</td>\n",
       "                        <td id=\"T_caa4bdb8_34a2_11eb_900c_e23c87d3252erow1_col3\" class=\"data row1 col3\" >0.5324</td>\n",
       "                        <td id=\"T_caa4bdb8_34a2_11eb_900c_e23c87d3252erow1_col4\" class=\"data row1 col4\" >0.6700</td>\n",
       "                        <td id=\"T_caa4bdb8_34a2_11eb_900c_e23c87d3252erow1_col5\" class=\"data row1 col5\" >0.5914</td>\n",
       "                        <td id=\"T_caa4bdb8_34a2_11eb_900c_e23c87d3252erow1_col6\" class=\"data row1 col6\" >0.4202</td>\n",
       "                        <td id=\"T_caa4bdb8_34a2_11eb_900c_e23c87d3252erow1_col7\" class=\"data row1 col7\" >0.4270</td>\n",
       "                        <td id=\"T_caa4bdb8_34a2_11eb_900c_e23c87d3252erow1_col8\" class=\"data row1 col8\" >0.0076</td>\n",
       "            </tr>\n",
       "            <tr>\n",
       "                        <th id=\"T_caa4bdb8_34a2_11eb_900c_e23c87d3252elevel0_row2\" class=\"row_heading level0 row2\" >2</th>\n",
       "                        <td id=\"T_caa4bdb8_34a2_11eb_900c_e23c87d3252erow2_col0\" class=\"data row2 col0\" >CatBoost Classifier</td>\n",
       "                        <td id=\"T_caa4bdb8_34a2_11eb_900c_e23c87d3252erow2_col1\" class=\"data row2 col1\" >0.7588</td>\n",
       "                        <td id=\"T_caa4bdb8_34a2_11eb_900c_e23c87d3252erow2_col2\" class=\"data row2 col2\" >0.8145</td>\n",
       "                        <td id=\"T_caa4bdb8_34a2_11eb_900c_e23c87d3252erow2_col3\" class=\"data row2 col3\" >0.5086</td>\n",
       "                        <td id=\"T_caa4bdb8_34a2_11eb_900c_e23c87d3252erow2_col4\" class=\"data row2 col4\" >0.6960</td>\n",
       "                        <td id=\"T_caa4bdb8_34a2_11eb_900c_e23c87d3252erow2_col5\" class=\"data row2 col5\" >0.5841</td>\n",
       "                        <td id=\"T_caa4bdb8_34a2_11eb_900c_e23c87d3252erow2_col6\" class=\"data row2 col6\" >0.4207</td>\n",
       "                        <td id=\"T_caa4bdb8_34a2_11eb_900c_e23c87d3252erow2_col7\" class=\"data row2 col7\" >0.4331</td>\n",
       "                        <td id=\"T_caa4bdb8_34a2_11eb_900c_e23c87d3252erow2_col8\" class=\"data row2 col8\" >7.2723</td>\n",
       "            </tr>\n",
       "            <tr>\n",
       "                        <th id=\"T_caa4bdb8_34a2_11eb_900c_e23c87d3252elevel0_row3\" class=\"row_heading level0 row3\" >3</th>\n",
       "                        <td id=\"T_caa4bdb8_34a2_11eb_900c_e23c87d3252erow3_col0\" class=\"data row3 col0\" >Gradient Boosting Classifier</td>\n",
       "                        <td id=\"T_caa4bdb8_34a2_11eb_900c_e23c87d3252erow3_col1\" class=\"data row3 col1\" >0.7608</td>\n",
       "                        <td id=\"T_caa4bdb8_34a2_11eb_900c_e23c87d3252erow3_col2\" class=\"data row3 col2\" >0.7997</td>\n",
       "                        <td id=\"T_caa4bdb8_34a2_11eb_900c_e23c87d3252erow3_col3\" class=\"data row3 col3\" >0.5323</td>\n",
       "                        <td id=\"T_caa4bdb8_34a2_11eb_900c_e23c87d3252erow3_col4\" class=\"data row3 col4\" >0.6968</td>\n",
       "                        <td id=\"T_caa4bdb8_34a2_11eb_900c_e23c87d3252erow3_col5\" class=\"data row3 col5\" >0.5984</td>\n",
       "                        <td id=\"T_caa4bdb8_34a2_11eb_900c_e23c87d3252erow3_col6\" class=\"data row3 col6\" >0.4326</td>\n",
       "                        <td id=\"T_caa4bdb8_34a2_11eb_900c_e23c87d3252erow3_col7\" class=\"data row3 col7\" >0.4441</td>\n",
       "                        <td id=\"T_caa4bdb8_34a2_11eb_900c_e23c87d3252erow3_col8\" class=\"data row3 col8\" >0.4696</td>\n",
       "            </tr>\n",
       "            <tr>\n",
       "                        <th id=\"T_caa4bdb8_34a2_11eb_900c_e23c87d3252elevel0_row4\" class=\"row_heading level0 row4\" >4</th>\n",
       "                        <td id=\"T_caa4bdb8_34a2_11eb_900c_e23c87d3252erow4_col0\" class=\"data row4 col0\" >Light Gradient Boosting Machine</td>\n",
       "                        <td id=\"T_caa4bdb8_34a2_11eb_900c_e23c87d3252erow4_col1\" class=\"data row4 col1\" >0.7373</td>\n",
       "                        <td id=\"T_caa4bdb8_34a2_11eb_900c_e23c87d3252erow4_col2\" class=\"data row4 col2\" >0.7981</td>\n",
       "                        <td id=\"T_caa4bdb8_34a2_11eb_900c_e23c87d3252erow4_col3\" class=\"data row4 col3\" >0.5494</td>\n",
       "                        <td id=\"T_caa4bdb8_34a2_11eb_900c_e23c87d3252erow4_col4\" class=\"data row4 col4\" >0.6261</td>\n",
       "                        <td id=\"T_caa4bdb8_34a2_11eb_900c_e23c87d3252erow4_col5\" class=\"data row4 col5\" >0.5810</td>\n",
       "                        <td id=\"T_caa4bdb8_34a2_11eb_900c_e23c87d3252erow4_col6\" class=\"data row4 col6\" >0.3918</td>\n",
       "                        <td id=\"T_caa4bdb8_34a2_11eb_900c_e23c87d3252erow4_col7\" class=\"data row4 col7\" >0.3962</td>\n",
       "                        <td id=\"T_caa4bdb8_34a2_11eb_900c_e23c87d3252erow4_col8\" class=\"data row4 col8\" >0.1816</td>\n",
       "            </tr>\n",
       "            <tr>\n",
       "                        <th id=\"T_caa4bdb8_34a2_11eb_900c_e23c87d3252elevel0_row5\" class=\"row_heading level0 row5\" >5</th>\n",
       "                        <td id=\"T_caa4bdb8_34a2_11eb_900c_e23c87d3252erow5_col0\" class=\"data row5 col0\" >Extreme Gradient Boosting</td>\n",
       "                        <td id=\"T_caa4bdb8_34a2_11eb_900c_e23c87d3252erow5_col1\" class=\"data row5 col1\" >0.7412</td>\n",
       "                        <td id=\"T_caa4bdb8_34a2_11eb_900c_e23c87d3252erow5_col2\" class=\"data row5 col2\" >0.7966</td>\n",
       "                        <td id=\"T_caa4bdb8_34a2_11eb_900c_e23c87d3252erow5_col3\" class=\"data row5 col3\" >0.5198</td>\n",
       "                        <td id=\"T_caa4bdb8_34a2_11eb_900c_e23c87d3252erow5_col4\" class=\"data row5 col4\" >0.6444</td>\n",
       "                        <td id=\"T_caa4bdb8_34a2_11eb_900c_e23c87d3252erow5_col5\" class=\"data row5 col5\" >0.5703</td>\n",
       "                        <td id=\"T_caa4bdb8_34a2_11eb_900c_e23c87d3252erow5_col6\" class=\"data row5 col6\" >0.3895</td>\n",
       "                        <td id=\"T_caa4bdb8_34a2_11eb_900c_e23c87d3252erow5_col7\" class=\"data row5 col7\" >0.3970</td>\n",
       "                        <td id=\"T_caa4bdb8_34a2_11eb_900c_e23c87d3252erow5_col8\" class=\"data row5 col8\" >0.1781</td>\n",
       "            </tr>\n",
       "            <tr>\n",
       "                        <th id=\"T_caa4bdb8_34a2_11eb_900c_e23c87d3252elevel0_row6\" class=\"row_heading level0 row6\" >6</th>\n",
       "                        <td id=\"T_caa4bdb8_34a2_11eb_900c_e23c87d3252erow6_col0\" class=\"data row6 col0\" >Extra Trees Classifier</td>\n",
       "                        <td id=\"T_caa4bdb8_34a2_11eb_900c_e23c87d3252erow6_col1\" class=\"data row6 col1\" >0.7431</td>\n",
       "                        <td id=\"T_caa4bdb8_34a2_11eb_900c_e23c87d3252erow6_col2\" class=\"data row6 col2\" >0.7850</td>\n",
       "                        <td id=\"T_caa4bdb8_34a2_11eb_900c_e23c87d3252erow6_col3\" class=\"data row6 col3\" >0.4854</td>\n",
       "                        <td id=\"T_caa4bdb8_34a2_11eb_900c_e23c87d3252erow6_col4\" class=\"data row6 col4\" >0.6648</td>\n",
       "                        <td id=\"T_caa4bdb8_34a2_11eb_900c_e23c87d3252erow6_col5\" class=\"data row6 col5\" >0.5574</td>\n",
       "                        <td id=\"T_caa4bdb8_34a2_11eb_900c_e23c87d3252erow6_col6\" class=\"data row6 col6\" >0.3833</td>\n",
       "                        <td id=\"T_caa4bdb8_34a2_11eb_900c_e23c87d3252erow6_col7\" class=\"data row6 col7\" >0.3949</td>\n",
       "                        <td id=\"T_caa4bdb8_34a2_11eb_900c_e23c87d3252erow6_col8\" class=\"data row6 col8\" >0.3180</td>\n",
       "            </tr>\n",
       "            <tr>\n",
       "                        <th id=\"T_caa4bdb8_34a2_11eb_900c_e23c87d3252elevel0_row7\" class=\"row_heading level0 row7\" >7</th>\n",
       "                        <td id=\"T_caa4bdb8_34a2_11eb_900c_e23c87d3252erow7_col0\" class=\"data row7 col0\" >Random Forest Classifier</td>\n",
       "                        <td id=\"T_caa4bdb8_34a2_11eb_900c_e23c87d3252erow7_col1\" class=\"data row7 col1\" >0.7275</td>\n",
       "                        <td id=\"T_caa4bdb8_34a2_11eb_900c_e23c87d3252erow7_col2\" class=\"data row7 col2\" >0.7593</td>\n",
       "                        <td id=\"T_caa4bdb8_34a2_11eb_900c_e23c87d3252erow7_col3\" class=\"data row7 col3\" >0.4445</td>\n",
       "                        <td id=\"T_caa4bdb8_34a2_11eb_900c_e23c87d3252erow7_col4\" class=\"data row7 col4\" >0.6605</td>\n",
       "                        <td id=\"T_caa4bdb8_34a2_11eb_900c_e23c87d3252erow7_col5\" class=\"data row7 col5\" >0.5206</td>\n",
       "                        <td id=\"T_caa4bdb8_34a2_11eb_900c_e23c87d3252erow7_col6\" class=\"data row7 col6\" >0.3410</td>\n",
       "                        <td id=\"T_caa4bdb8_34a2_11eb_900c_e23c87d3252erow7_col7\" class=\"data row7 col7\" >0.3607</td>\n",
       "                        <td id=\"T_caa4bdb8_34a2_11eb_900c_e23c87d3252erow7_col8\" class=\"data row7 col8\" >0.1449</td>\n",
       "            </tr>\n",
       "            <tr>\n",
       "                        <th id=\"T_caa4bdb8_34a2_11eb_900c_e23c87d3252elevel0_row8\" class=\"row_heading level0 row8\" >8</th>\n",
       "                        <td id=\"T_caa4bdb8_34a2_11eb_900c_e23c87d3252erow8_col0\" class=\"data row8 col0\" >K Neighbors Classifier</td>\n",
       "                        <td id=\"T_caa4bdb8_34a2_11eb_900c_e23c87d3252erow8_col1\" class=\"data row8 col1\" >0.7196</td>\n",
       "                        <td id=\"T_caa4bdb8_34a2_11eb_900c_e23c87d3252erow8_col2\" class=\"data row8 col2\" >0.7492</td>\n",
       "                        <td id=\"T_caa4bdb8_34a2_11eb_900c_e23c87d3252erow8_col3\" class=\"data row8 col3\" >0.4449</td>\n",
       "                        <td id=\"T_caa4bdb8_34a2_11eb_900c_e23c87d3252erow8_col4\" class=\"data row8 col4\" >0.6132</td>\n",
       "                        <td id=\"T_caa4bdb8_34a2_11eb_900c_e23c87d3252erow8_col5\" class=\"data row8 col5\" >0.5141</td>\n",
       "                        <td id=\"T_caa4bdb8_34a2_11eb_900c_e23c87d3252erow8_col6\" class=\"data row8 col6\" >0.3248</td>\n",
       "                        <td id=\"T_caa4bdb8_34a2_11eb_900c_e23c87d3252erow8_col7\" class=\"data row8 col7\" >0.3337</td>\n",
       "                        <td id=\"T_caa4bdb8_34a2_11eb_900c_e23c87d3252erow8_col8\" class=\"data row8 col8\" >0.0065</td>\n",
       "            </tr>\n",
       "            <tr>\n",
       "                        <th id=\"T_caa4bdb8_34a2_11eb_900c_e23c87d3252elevel0_row9\" class=\"row_heading level0 row9\" >9</th>\n",
       "                        <td id=\"T_caa4bdb8_34a2_11eb_900c_e23c87d3252erow9_col0\" class=\"data row9 col0\" >Ada Boost Classifier</td>\n",
       "                        <td id=\"T_caa4bdb8_34a2_11eb_900c_e23c87d3252erow9_col1\" class=\"data row9 col1\" >0.7059</td>\n",
       "                        <td id=\"T_caa4bdb8_34a2_11eb_900c_e23c87d3252erow9_col2\" class=\"data row9 col2\" >0.7413</td>\n",
       "                        <td id=\"T_caa4bdb8_34a2_11eb_900c_e23c87d3252erow9_col3\" class=\"data row9 col3\" >0.5084</td>\n",
       "                        <td id=\"T_caa4bdb8_34a2_11eb_900c_e23c87d3252erow9_col4\" class=\"data row9 col4\" >0.5714</td>\n",
       "                        <td id=\"T_caa4bdb8_34a2_11eb_900c_e23c87d3252erow9_col5\" class=\"data row9 col5\" >0.5352</td>\n",
       "                        <td id=\"T_caa4bdb8_34a2_11eb_900c_e23c87d3252erow9_col6\" class=\"data row9 col6\" >0.3219</td>\n",
       "                        <td id=\"T_caa4bdb8_34a2_11eb_900c_e23c87d3252erow9_col7\" class=\"data row9 col7\" >0.3248</td>\n",
       "                        <td id=\"T_caa4bdb8_34a2_11eb_900c_e23c87d3252erow9_col8\" class=\"data row9 col8\" >0.2175</td>\n",
       "            </tr>\n",
       "            <tr>\n",
       "                        <th id=\"T_caa4bdb8_34a2_11eb_900c_e23c87d3252elevel0_row10\" class=\"row_heading level0 row10\" >10</th>\n",
       "                        <td id=\"T_caa4bdb8_34a2_11eb_900c_e23c87d3252erow10_col0\" class=\"data row10 col0\" >Naive Bayes</td>\n",
       "                        <td id=\"T_caa4bdb8_34a2_11eb_900c_e23c87d3252erow10_col1\" class=\"data row10 col1\" >0.7000</td>\n",
       "                        <td id=\"T_caa4bdb8_34a2_11eb_900c_e23c87d3252erow10_col2\" class=\"data row10 col2\" >0.7384</td>\n",
       "                        <td id=\"T_caa4bdb8_34a2_11eb_900c_e23c87d3252erow10_col3\" class=\"data row10 col3\" >0.4566</td>\n",
       "                        <td id=\"T_caa4bdb8_34a2_11eb_900c_e23c87d3252erow10_col4\" class=\"data row10 col4\" >0.5627</td>\n",
       "                        <td id=\"T_caa4bdb8_34a2_11eb_900c_e23c87d3252erow10_col5\" class=\"data row10 col5\" >0.5024</td>\n",
       "                        <td id=\"T_caa4bdb8_34a2_11eb_900c_e23c87d3252erow10_col6\" class=\"data row10 col6\" >0.2921</td>\n",
       "                        <td id=\"T_caa4bdb8_34a2_11eb_900c_e23c87d3252erow10_col7\" class=\"data row10 col7\" >0.2959</td>\n",
       "                        <td id=\"T_caa4bdb8_34a2_11eb_900c_e23c87d3252erow10_col8\" class=\"data row10 col8\" >0.0051</td>\n",
       "            </tr>\n",
       "            <tr>\n",
       "                        <th id=\"T_caa4bdb8_34a2_11eb_900c_e23c87d3252elevel0_row11\" class=\"row_heading level0 row11\" >11</th>\n",
       "                        <td id=\"T_caa4bdb8_34a2_11eb_900c_e23c87d3252erow11_col0\" class=\"data row11 col0\" >Quadratic Discriminant Analysis</td>\n",
       "                        <td id=\"T_caa4bdb8_34a2_11eb_900c_e23c87d3252erow11_col1\" class=\"data row11 col1\" >0.6824</td>\n",
       "                        <td id=\"T_caa4bdb8_34a2_11eb_900c_e23c87d3252erow11_col2\" class=\"data row11 col2\" >0.7277</td>\n",
       "                        <td id=\"T_caa4bdb8_34a2_11eb_900c_e23c87d3252erow11_col3\" class=\"data row11 col3\" >0.4501</td>\n",
       "                        <td id=\"T_caa4bdb8_34a2_11eb_900c_e23c87d3252erow11_col4\" class=\"data row11 col4\" >0.5378</td>\n",
       "                        <td id=\"T_caa4bdb8_34a2_11eb_900c_e23c87d3252erow11_col5\" class=\"data row11 col5\" >0.4881</td>\n",
       "                        <td id=\"T_caa4bdb8_34a2_11eb_900c_e23c87d3252erow11_col6\" class=\"data row11 col6\" >0.2604</td>\n",
       "                        <td id=\"T_caa4bdb8_34a2_11eb_900c_e23c87d3252erow11_col7\" class=\"data row11 col7\" >0.2639</td>\n",
       "                        <td id=\"T_caa4bdb8_34a2_11eb_900c_e23c87d3252erow11_col8\" class=\"data row11 col8\" >0.0062</td>\n",
       "            </tr>\n",
       "            <tr>\n",
       "                        <th id=\"T_caa4bdb8_34a2_11eb_900c_e23c87d3252elevel0_row12\" class=\"row_heading level0 row12\" >12</th>\n",
       "                        <td id=\"T_caa4bdb8_34a2_11eb_900c_e23c87d3252erow12_col0\" class=\"data row12 col0\" >Decision Tree Classifier</td>\n",
       "                        <td id=\"T_caa4bdb8_34a2_11eb_900c_e23c87d3252erow12_col1\" class=\"data row12 col1\" >0.7039</td>\n",
       "                        <td id=\"T_caa4bdb8_34a2_11eb_900c_e23c87d3252erow12_col2\" class=\"data row12 col2\" >0.6671</td>\n",
       "                        <td id=\"T_caa4bdb8_34a2_11eb_900c_e23c87d3252erow12_col3\" class=\"data row12 col3\" >0.5555</td>\n",
       "                        <td id=\"T_caa4bdb8_34a2_11eb_900c_e23c87d3252erow12_col4\" class=\"data row12 col4\" >0.5778</td>\n",
       "                        <td id=\"T_caa4bdb8_34a2_11eb_900c_e23c87d3252erow12_col5\" class=\"data row12 col5\" >0.5543</td>\n",
       "                        <td id=\"T_caa4bdb8_34a2_11eb_900c_e23c87d3252erow12_col6\" class=\"data row12 col6\" >0.3355</td>\n",
       "                        <td id=\"T_caa4bdb8_34a2_11eb_900c_e23c87d3252erow12_col7\" class=\"data row12 col7\" >0.3432</td>\n",
       "                        <td id=\"T_caa4bdb8_34a2_11eb_900c_e23c87d3252erow12_col8\" class=\"data row12 col8\" >0.0131</td>\n",
       "            </tr>\n",
       "            <tr>\n",
       "                        <th id=\"T_caa4bdb8_34a2_11eb_900c_e23c87d3252elevel0_row13\" class=\"row_heading level0 row13\" >13</th>\n",
       "                        <td id=\"T_caa4bdb8_34a2_11eb_900c_e23c87d3252erow13_col0\" class=\"data row13 col0\" >SVM - Linear Kernel</td>\n",
       "                        <td id=\"T_caa4bdb8_34a2_11eb_900c_e23c87d3252erow13_col1\" class=\"data row13 col1\" >0.6843</td>\n",
       "                        <td id=\"T_caa4bdb8_34a2_11eb_900c_e23c87d3252erow13_col2\" class=\"data row13 col2\" >0.0000</td>\n",
       "                        <td id=\"T_caa4bdb8_34a2_11eb_900c_e23c87d3252erow13_col3\" class=\"data row13 col3\" >0.5615</td>\n",
       "                        <td id=\"T_caa4bdb8_34a2_11eb_900c_e23c87d3252erow13_col4\" class=\"data row13 col4\" >0.5283</td>\n",
       "                        <td id=\"T_caa4bdb8_34a2_11eb_900c_e23c87d3252erow13_col5\" class=\"data row13 col5\" >0.5397</td>\n",
       "                        <td id=\"T_caa4bdb8_34a2_11eb_900c_e23c87d3252erow13_col6\" class=\"data row13 col6\" >0.3014</td>\n",
       "                        <td id=\"T_caa4bdb8_34a2_11eb_900c_e23c87d3252erow13_col7\" class=\"data row13 col7\" >0.3047</td>\n",
       "                        <td id=\"T_caa4bdb8_34a2_11eb_900c_e23c87d3252erow13_col8\" class=\"data row13 col8\" >0.0126</td>\n",
       "            </tr>\n",
       "            <tr>\n",
       "                        <th id=\"T_caa4bdb8_34a2_11eb_900c_e23c87d3252elevel0_row14\" class=\"row_heading level0 row14\" >14</th>\n",
       "                        <td id=\"T_caa4bdb8_34a2_11eb_900c_e23c87d3252erow14_col0\" class=\"data row14 col0\" >Ridge Classifier</td>\n",
       "                        <td id=\"T_caa4bdb8_34a2_11eb_900c_e23c87d3252erow14_col1\" class=\"data row14 col1\" >0.7490</td>\n",
       "                        <td id=\"T_caa4bdb8_34a2_11eb_900c_e23c87d3252erow14_col2\" class=\"data row14 col2\" >0.0000</td>\n",
       "                        <td id=\"T_caa4bdb8_34a2_11eb_900c_e23c87d3252erow14_col3\" class=\"data row14 col3\" >0.5091</td>\n",
       "                        <td id=\"T_caa4bdb8_34a2_11eb_900c_e23c87d3252erow14_col4\" class=\"data row14 col4\" >0.6657</td>\n",
       "                        <td id=\"T_caa4bdb8_34a2_11eb_900c_e23c87d3252erow14_col5\" class=\"data row14 col5\" >0.5759</td>\n",
       "                        <td id=\"T_caa4bdb8_34a2_11eb_900c_e23c87d3252erow14_col6\" class=\"data row14 col6\" >0.4024</td>\n",
       "                        <td id=\"T_caa4bdb8_34a2_11eb_900c_e23c87d3252erow14_col7\" class=\"data row14 col7\" >0.4103</td>\n",
       "                        <td id=\"T_caa4bdb8_34a2_11eb_900c_e23c87d3252erow14_col8\" class=\"data row14 col8\" >0.0071</td>\n",
       "            </tr>\n",
       "    </tbody></table>"
      ],
      "text/plain": [
       "<pandas.io.formats.style.Styler at 0x227eb6d2ec8>"
      ]
     },
     "metadata": {},
     "output_type": "display_data"
    },
    {
     "data": {
      "text/plain": [
       "LogisticRegression(C=1.0, class_weight=None, dual=False, fit_intercept=True,\n",
       "                   intercept_scaling=1, l1_ratio=None, max_iter=100,\n",
       "                   multi_class='auto', n_jobs=None, penalty='l2',\n",
       "                   random_state=6846, solver='lbfgs', tol=0.0001, verbose=0,\n",
       "                   warm_start=False)"
      ]
     },
     "execution_count": 62,
     "metadata": {},
     "output_type": "execute_result"
    }
   ],
   "source": [
    "compare_models(fold = 5, sort = 'AUC')"
   ]
  },
  {
   "cell_type": "code",
   "execution_count": 63,
   "metadata": {},
   "outputs": [],
   "source": [
    "## Saving the last table in a Pandas Dataframe\n",
    "df = pull()"
   ]
  },
  {
   "cell_type": "code",
   "execution_count": 64,
   "metadata": {},
   "outputs": [
    {
     "name": "stdout",
     "output_type": "stream",
     "text": [
      "                              Model  Accuracy     AUC  Recall   Prec.      F1  \\\n",
      "0               Logistic Regression    0.7588  0.8192  0.5496  0.6721  0.6039   \n",
      "1      Linear Discriminant Analysis    0.7549  0.8182  0.5324  0.6700  0.5914   \n",
      "2               CatBoost Classifier    0.7588  0.8145  0.5086  0.6960  0.5841   \n",
      "3      Gradient Boosting Classifier    0.7608  0.7997  0.5323  0.6968  0.5984   \n",
      "4   Light Gradient Boosting Machine    0.7373  0.7981  0.5494  0.6261  0.5810   \n",
      "5         Extreme Gradient Boosting    0.7412  0.7966  0.5198  0.6444  0.5703   \n",
      "6            Extra Trees Classifier    0.7431  0.7850  0.4854  0.6648  0.5574   \n",
      "7          Random Forest Classifier    0.7275  0.7593  0.4445  0.6605  0.5206   \n",
      "8            K Neighbors Classifier    0.7196  0.7492  0.4449  0.6132  0.5141   \n",
      "9              Ada Boost Classifier    0.7059  0.7413  0.5084  0.5714  0.5352   \n",
      "10                      Naive Bayes    0.7000  0.7384  0.4566  0.5627  0.5024   \n",
      "11  Quadratic Discriminant Analysis    0.6824  0.7277  0.4501  0.5378  0.4881   \n",
      "12         Decision Tree Classifier    0.7039  0.6671  0.5555  0.5778  0.5543   \n",
      "13              SVM - Linear Kernel    0.6843  0.0000  0.5615  0.5283  0.5397   \n",
      "14                 Ridge Classifier    0.7490  0.0000  0.5091  0.6657  0.5759   \n",
      "\n",
      "     Kappa     MCC  TT (Sec)  \n",
      "0   0.4332  0.4382    0.0183  \n",
      "1   0.4202  0.4270    0.0076  \n",
      "2   0.4207  0.4331    7.2723  \n",
      "3   0.4326  0.4441    0.4696  \n",
      "4   0.3918  0.3962    0.1816  \n",
      "5   0.3895  0.3970    0.1781  \n",
      "6   0.3833  0.3949    0.3180  \n",
      "7   0.3410  0.3607    0.1449  \n",
      "8   0.3248  0.3337    0.0065  \n",
      "9   0.3219  0.3248    0.2175  \n",
      "10  0.2921  0.2959    0.0051  \n",
      "11  0.2604  0.2639    0.0062  \n",
      "12  0.3355  0.3432    0.0131  \n",
      "13  0.3014  0.3047    0.0126  \n",
      "14  0.4024  0.4103    0.0071  \n"
     ]
    }
   ],
   "source": [
    "print(df)"
   ]
  },
  {
   "cell_type": "code",
   "execution_count": 65,
   "metadata": {},
   "outputs": [
    {
     "data": {
      "text/plain": [
       "pandas.core.frame.DataFrame"
      ]
     },
     "execution_count": 65,
     "metadata": {},
     "output_type": "execute_result"
    }
   ],
   "source": [
    "type(ds)"
   ]
  },
  {
   "cell_type": "markdown",
   "metadata": {},
   "source": [
    "##### Clustering"
   ]
  },
  {
   "cell_type": "code",
   "execution_count": 66,
   "metadata": {},
   "outputs": [],
   "source": [
    "from pycaret.clustering import *"
   ]
  },
  {
   "cell_type": "code",
   "execution_count": 67,
   "metadata": {},
   "outputs": [
    {
     "data": {
      "text/html": [
       "<div>\n",
       "<style scoped>\n",
       "    .dataframe tbody tr th:only-of-type {\n",
       "        vertical-align: middle;\n",
       "    }\n",
       "\n",
       "    .dataframe tbody tr th {\n",
       "        vertical-align: top;\n",
       "    }\n",
       "\n",
       "    .dataframe thead th {\n",
       "        text-align: right;\n",
       "    }\n",
       "</style>\n",
       "<table border=\"1\" class=\"dataframe\">\n",
       "  <thead>\n",
       "    <tr style=\"text-align: right;\">\n",
       "      <th></th>\n",
       "      <th>Dataset</th>\n",
       "      <th>Data Types</th>\n",
       "      <th>Default Task</th>\n",
       "      <th>Target Variable 1</th>\n",
       "      <th>Target Variable 2</th>\n",
       "      <th># Instances</th>\n",
       "      <th># Attributes</th>\n",
       "      <th>Missing Values</th>\n",
       "    </tr>\n",
       "  </thead>\n",
       "  <tbody>\n",
       "    <tr>\n",
       "      <th>0</th>\n",
       "      <td>anomaly</td>\n",
       "      <td>Multivariate</td>\n",
       "      <td>Anomaly Detection</td>\n",
       "      <td>None</td>\n",
       "      <td>None</td>\n",
       "      <td>1000</td>\n",
       "      <td>10</td>\n",
       "      <td>N</td>\n",
       "    </tr>\n",
       "    <tr>\n",
       "      <th>1</th>\n",
       "      <td>france</td>\n",
       "      <td>Multivariate</td>\n",
       "      <td>Association Rule Mining</td>\n",
       "      <td>InvoiceNo</td>\n",
       "      <td>Description</td>\n",
       "      <td>8557</td>\n",
       "      <td>8</td>\n",
       "      <td>N</td>\n",
       "    </tr>\n",
       "    <tr>\n",
       "      <th>2</th>\n",
       "      <td>germany</td>\n",
       "      <td>Multivariate</td>\n",
       "      <td>Association Rule Mining</td>\n",
       "      <td>InvoiceNo</td>\n",
       "      <td>Description</td>\n",
       "      <td>9495</td>\n",
       "      <td>8</td>\n",
       "      <td>N</td>\n",
       "    </tr>\n",
       "    <tr>\n",
       "      <th>3</th>\n",
       "      <td>bank</td>\n",
       "      <td>Multivariate</td>\n",
       "      <td>Classification (Binary)</td>\n",
       "      <td>deposit</td>\n",
       "      <td>None</td>\n",
       "      <td>45211</td>\n",
       "      <td>17</td>\n",
       "      <td>N</td>\n",
       "    </tr>\n",
       "    <tr>\n",
       "      <th>4</th>\n",
       "      <td>blood</td>\n",
       "      <td>Multivariate</td>\n",
       "      <td>Classification (Binary)</td>\n",
       "      <td>Class</td>\n",
       "      <td>None</td>\n",
       "      <td>748</td>\n",
       "      <td>5</td>\n",
       "      <td>N</td>\n",
       "    </tr>\n",
       "    <tr>\n",
       "      <th>5</th>\n",
       "      <td>cancer</td>\n",
       "      <td>Multivariate</td>\n",
       "      <td>Classification (Binary)</td>\n",
       "      <td>Class</td>\n",
       "      <td>None</td>\n",
       "      <td>683</td>\n",
       "      <td>10</td>\n",
       "      <td>N</td>\n",
       "    </tr>\n",
       "    <tr>\n",
       "      <th>6</th>\n",
       "      <td>credit</td>\n",
       "      <td>Multivariate</td>\n",
       "      <td>Classification (Binary)</td>\n",
       "      <td>default</td>\n",
       "      <td>None</td>\n",
       "      <td>24000</td>\n",
       "      <td>24</td>\n",
       "      <td>N</td>\n",
       "    </tr>\n",
       "    <tr>\n",
       "      <th>7</th>\n",
       "      <td>diabetes</td>\n",
       "      <td>Multivariate</td>\n",
       "      <td>Classification (Binary)</td>\n",
       "      <td>Class variable</td>\n",
       "      <td>None</td>\n",
       "      <td>768</td>\n",
       "      <td>9</td>\n",
       "      <td>N</td>\n",
       "    </tr>\n",
       "    <tr>\n",
       "      <th>8</th>\n",
       "      <td>electrical_grid</td>\n",
       "      <td>Multivariate</td>\n",
       "      <td>Classification (Binary)</td>\n",
       "      <td>stabf</td>\n",
       "      <td>None</td>\n",
       "      <td>10000</td>\n",
       "      <td>14</td>\n",
       "      <td>N</td>\n",
       "    </tr>\n",
       "    <tr>\n",
       "      <th>9</th>\n",
       "      <td>employee</td>\n",
       "      <td>Multivariate</td>\n",
       "      <td>Classification (Binary)</td>\n",
       "      <td>left</td>\n",
       "      <td>None</td>\n",
       "      <td>14999</td>\n",
       "      <td>10</td>\n",
       "      <td>N</td>\n",
       "    </tr>\n",
       "    <tr>\n",
       "      <th>10</th>\n",
       "      <td>heart</td>\n",
       "      <td>Multivariate</td>\n",
       "      <td>Classification (Binary)</td>\n",
       "      <td>DEATH</td>\n",
       "      <td>None</td>\n",
       "      <td>200</td>\n",
       "      <td>16</td>\n",
       "      <td>N</td>\n",
       "    </tr>\n",
       "    <tr>\n",
       "      <th>11</th>\n",
       "      <td>heart_disease</td>\n",
       "      <td>Multivariate</td>\n",
       "      <td>Classification (Binary)</td>\n",
       "      <td>Disease</td>\n",
       "      <td>None</td>\n",
       "      <td>270</td>\n",
       "      <td>14</td>\n",
       "      <td>N</td>\n",
       "    </tr>\n",
       "    <tr>\n",
       "      <th>12</th>\n",
       "      <td>hepatitis</td>\n",
       "      <td>Multivariate</td>\n",
       "      <td>Classification (Binary)</td>\n",
       "      <td>Class</td>\n",
       "      <td>None</td>\n",
       "      <td>154</td>\n",
       "      <td>32</td>\n",
       "      <td>Y</td>\n",
       "    </tr>\n",
       "    <tr>\n",
       "      <th>13</th>\n",
       "      <td>income</td>\n",
       "      <td>Multivariate</td>\n",
       "      <td>Classification (Binary)</td>\n",
       "      <td>income &gt;50K</td>\n",
       "      <td>None</td>\n",
       "      <td>32561</td>\n",
       "      <td>14</td>\n",
       "      <td>Y</td>\n",
       "    </tr>\n",
       "    <tr>\n",
       "      <th>14</th>\n",
       "      <td>juice</td>\n",
       "      <td>Multivariate</td>\n",
       "      <td>Classification (Binary)</td>\n",
       "      <td>Purchase</td>\n",
       "      <td>None</td>\n",
       "      <td>1070</td>\n",
       "      <td>15</td>\n",
       "      <td>N</td>\n",
       "    </tr>\n",
       "    <tr>\n",
       "      <th>15</th>\n",
       "      <td>nba</td>\n",
       "      <td>Multivariate</td>\n",
       "      <td>Classification (Binary)</td>\n",
       "      <td>TARGET_5Yrs</td>\n",
       "      <td>None</td>\n",
       "      <td>1340</td>\n",
       "      <td>21</td>\n",
       "      <td>N</td>\n",
       "    </tr>\n",
       "    <tr>\n",
       "      <th>16</th>\n",
       "      <td>wine</td>\n",
       "      <td>Multivariate</td>\n",
       "      <td>Classification (Binary)</td>\n",
       "      <td>type</td>\n",
       "      <td>None</td>\n",
       "      <td>6498</td>\n",
       "      <td>13</td>\n",
       "      <td>N</td>\n",
       "    </tr>\n",
       "    <tr>\n",
       "      <th>17</th>\n",
       "      <td>telescope</td>\n",
       "      <td>Multivariate</td>\n",
       "      <td>Classification (Binary)</td>\n",
       "      <td>Class</td>\n",
       "      <td>None</td>\n",
       "      <td>19020</td>\n",
       "      <td>11</td>\n",
       "      <td>N</td>\n",
       "    </tr>\n",
       "    <tr>\n",
       "      <th>18</th>\n",
       "      <td>titanic</td>\n",
       "      <td>Multivariate</td>\n",
       "      <td>Classification (Binary)</td>\n",
       "      <td>Survived</td>\n",
       "      <td>None</td>\n",
       "      <td>891</td>\n",
       "      <td>11</td>\n",
       "      <td>Y</td>\n",
       "    </tr>\n",
       "    <tr>\n",
       "      <th>19</th>\n",
       "      <td>us_presidential_election_results</td>\n",
       "      <td>Multivariate</td>\n",
       "      <td>Classification (Binary)</td>\n",
       "      <td>party_winner</td>\n",
       "      <td>None</td>\n",
       "      <td>497</td>\n",
       "      <td>7</td>\n",
       "      <td>N</td>\n",
       "    </tr>\n",
       "    <tr>\n",
       "      <th>20</th>\n",
       "      <td>glass</td>\n",
       "      <td>Multivariate</td>\n",
       "      <td>Classification (Multiclass)</td>\n",
       "      <td>Type</td>\n",
       "      <td>None</td>\n",
       "      <td>214</td>\n",
       "      <td>10</td>\n",
       "      <td>N</td>\n",
       "    </tr>\n",
       "    <tr>\n",
       "      <th>21</th>\n",
       "      <td>iris</td>\n",
       "      <td>Multivariate</td>\n",
       "      <td>Classification (Multiclass)</td>\n",
       "      <td>species</td>\n",
       "      <td>None</td>\n",
       "      <td>150</td>\n",
       "      <td>5</td>\n",
       "      <td>N</td>\n",
       "    </tr>\n",
       "    <tr>\n",
       "      <th>22</th>\n",
       "      <td>poker</td>\n",
       "      <td>Multivariate</td>\n",
       "      <td>Classification (Multiclass)</td>\n",
       "      <td>CLASS</td>\n",
       "      <td>None</td>\n",
       "      <td>100000</td>\n",
       "      <td>11</td>\n",
       "      <td>N</td>\n",
       "    </tr>\n",
       "    <tr>\n",
       "      <th>23</th>\n",
       "      <td>questions</td>\n",
       "      <td>Multivariate</td>\n",
       "      <td>Classification (Multiclass)</td>\n",
       "      <td>Next_Question</td>\n",
       "      <td>None</td>\n",
       "      <td>499</td>\n",
       "      <td>4</td>\n",
       "      <td>N</td>\n",
       "    </tr>\n",
       "    <tr>\n",
       "      <th>24</th>\n",
       "      <td>satellite</td>\n",
       "      <td>Multivariate</td>\n",
       "      <td>Classification (Multiclass)</td>\n",
       "      <td>Class</td>\n",
       "      <td>None</td>\n",
       "      <td>6435</td>\n",
       "      <td>37</td>\n",
       "      <td>N</td>\n",
       "    </tr>\n",
       "    <tr>\n",
       "      <th>25</th>\n",
       "      <td>CTG</td>\n",
       "      <td>Multivariate</td>\n",
       "      <td>Classification (Multiclass)</td>\n",
       "      <td>NSP</td>\n",
       "      <td>None</td>\n",
       "      <td>2129</td>\n",
       "      <td>40</td>\n",
       "      <td>Y</td>\n",
       "    </tr>\n",
       "    <tr>\n",
       "      <th>26</th>\n",
       "      <td>asia_gdp</td>\n",
       "      <td>Multivariate</td>\n",
       "      <td>Clustering</td>\n",
       "      <td>None</td>\n",
       "      <td>None</td>\n",
       "      <td>40</td>\n",
       "      <td>11</td>\n",
       "      <td>N</td>\n",
       "    </tr>\n",
       "    <tr>\n",
       "      <th>27</th>\n",
       "      <td>elections</td>\n",
       "      <td>Multivariate</td>\n",
       "      <td>Clustering</td>\n",
       "      <td>None</td>\n",
       "      <td>None</td>\n",
       "      <td>3195</td>\n",
       "      <td>54</td>\n",
       "      <td>Y</td>\n",
       "    </tr>\n",
       "    <tr>\n",
       "      <th>28</th>\n",
       "      <td>facebook</td>\n",
       "      <td>Multivariate</td>\n",
       "      <td>Clustering</td>\n",
       "      <td>None</td>\n",
       "      <td>None</td>\n",
       "      <td>7050</td>\n",
       "      <td>12</td>\n",
       "      <td>N</td>\n",
       "    </tr>\n",
       "    <tr>\n",
       "      <th>29</th>\n",
       "      <td>ipl</td>\n",
       "      <td>Multivariate</td>\n",
       "      <td>Clustering</td>\n",
       "      <td>None</td>\n",
       "      <td>None</td>\n",
       "      <td>153</td>\n",
       "      <td>25</td>\n",
       "      <td>N</td>\n",
       "    </tr>\n",
       "    <tr>\n",
       "      <th>30</th>\n",
       "      <td>jewellery</td>\n",
       "      <td>Multivariate</td>\n",
       "      <td>Clustering</td>\n",
       "      <td>None</td>\n",
       "      <td>None</td>\n",
       "      <td>505</td>\n",
       "      <td>4</td>\n",
       "      <td>N</td>\n",
       "    </tr>\n",
       "    <tr>\n",
       "      <th>31</th>\n",
       "      <td>mice</td>\n",
       "      <td>Multivariate</td>\n",
       "      <td>Clustering</td>\n",
       "      <td>None</td>\n",
       "      <td>None</td>\n",
       "      <td>1080</td>\n",
       "      <td>82</td>\n",
       "      <td>Y</td>\n",
       "    </tr>\n",
       "    <tr>\n",
       "      <th>32</th>\n",
       "      <td>migration</td>\n",
       "      <td>Multivariate</td>\n",
       "      <td>Clustering</td>\n",
       "      <td>None</td>\n",
       "      <td>None</td>\n",
       "      <td>233</td>\n",
       "      <td>12</td>\n",
       "      <td>N</td>\n",
       "    </tr>\n",
       "    <tr>\n",
       "      <th>33</th>\n",
       "      <td>perfume</td>\n",
       "      <td>Multivariate</td>\n",
       "      <td>Clustering</td>\n",
       "      <td>None</td>\n",
       "      <td>None</td>\n",
       "      <td>20</td>\n",
       "      <td>29</td>\n",
       "      <td>N</td>\n",
       "    </tr>\n",
       "    <tr>\n",
       "      <th>34</th>\n",
       "      <td>pokemon</td>\n",
       "      <td>Multivariate</td>\n",
       "      <td>Clustering</td>\n",
       "      <td>None</td>\n",
       "      <td>None</td>\n",
       "      <td>800</td>\n",
       "      <td>13</td>\n",
       "      <td>Y</td>\n",
       "    </tr>\n",
       "    <tr>\n",
       "      <th>35</th>\n",
       "      <td>population</td>\n",
       "      <td>Multivariate</td>\n",
       "      <td>Clustering</td>\n",
       "      <td>None</td>\n",
       "      <td>None</td>\n",
       "      <td>255</td>\n",
       "      <td>56</td>\n",
       "      <td>Y</td>\n",
       "    </tr>\n",
       "    <tr>\n",
       "      <th>36</th>\n",
       "      <td>public_health</td>\n",
       "      <td>Multivariate</td>\n",
       "      <td>Clustering</td>\n",
       "      <td>None</td>\n",
       "      <td>None</td>\n",
       "      <td>224</td>\n",
       "      <td>21</td>\n",
       "      <td>N</td>\n",
       "    </tr>\n",
       "    <tr>\n",
       "      <th>37</th>\n",
       "      <td>seeds</td>\n",
       "      <td>Multivariate</td>\n",
       "      <td>Clustering</td>\n",
       "      <td>None</td>\n",
       "      <td>None</td>\n",
       "      <td>210</td>\n",
       "      <td>7</td>\n",
       "      <td>N</td>\n",
       "    </tr>\n",
       "    <tr>\n",
       "      <th>38</th>\n",
       "      <td>wholesale</td>\n",
       "      <td>Multivariate</td>\n",
       "      <td>Clustering</td>\n",
       "      <td>None</td>\n",
       "      <td>None</td>\n",
       "      <td>440</td>\n",
       "      <td>8</td>\n",
       "      <td>N</td>\n",
       "    </tr>\n",
       "    <tr>\n",
       "      <th>39</th>\n",
       "      <td>tweets</td>\n",
       "      <td>Text</td>\n",
       "      <td>NLP</td>\n",
       "      <td>tweet</td>\n",
       "      <td>None</td>\n",
       "      <td>8594</td>\n",
       "      <td>2</td>\n",
       "      <td>N</td>\n",
       "    </tr>\n",
       "    <tr>\n",
       "      <th>40</th>\n",
       "      <td>amazon</td>\n",
       "      <td>Text</td>\n",
       "      <td>NLP / Classification</td>\n",
       "      <td>reviewText</td>\n",
       "      <td>None</td>\n",
       "      <td>20000</td>\n",
       "      <td>2</td>\n",
       "      <td>N</td>\n",
       "    </tr>\n",
       "    <tr>\n",
       "      <th>41</th>\n",
       "      <td>kiva</td>\n",
       "      <td>Text</td>\n",
       "      <td>NLP / Classification</td>\n",
       "      <td>en</td>\n",
       "      <td>None</td>\n",
       "      <td>6818</td>\n",
       "      <td>7</td>\n",
       "      <td>N</td>\n",
       "    </tr>\n",
       "    <tr>\n",
       "      <th>42</th>\n",
       "      <td>spx</td>\n",
       "      <td>Text</td>\n",
       "      <td>NLP / Regression</td>\n",
       "      <td>text</td>\n",
       "      <td>None</td>\n",
       "      <td>874</td>\n",
       "      <td>4</td>\n",
       "      <td>N</td>\n",
       "    </tr>\n",
       "    <tr>\n",
       "      <th>43</th>\n",
       "      <td>wikipedia</td>\n",
       "      <td>Text</td>\n",
       "      <td>NLP / Classification</td>\n",
       "      <td>Text</td>\n",
       "      <td>None</td>\n",
       "      <td>500</td>\n",
       "      <td>3</td>\n",
       "      <td>N</td>\n",
       "    </tr>\n",
       "    <tr>\n",
       "      <th>44</th>\n",
       "      <td>automobile</td>\n",
       "      <td>Multivariate</td>\n",
       "      <td>Regression</td>\n",
       "      <td>price</td>\n",
       "      <td>None</td>\n",
       "      <td>202</td>\n",
       "      <td>26</td>\n",
       "      <td>Y</td>\n",
       "    </tr>\n",
       "    <tr>\n",
       "      <th>45</th>\n",
       "      <td>bike</td>\n",
       "      <td>Multivariate</td>\n",
       "      <td>Regression</td>\n",
       "      <td>cnt</td>\n",
       "      <td>None</td>\n",
       "      <td>17379</td>\n",
       "      <td>15</td>\n",
       "      <td>N</td>\n",
       "    </tr>\n",
       "    <tr>\n",
       "      <th>46</th>\n",
       "      <td>boston</td>\n",
       "      <td>Multivariate</td>\n",
       "      <td>Regression</td>\n",
       "      <td>medv</td>\n",
       "      <td>None</td>\n",
       "      <td>506</td>\n",
       "      <td>14</td>\n",
       "      <td>N</td>\n",
       "    </tr>\n",
       "    <tr>\n",
       "      <th>47</th>\n",
       "      <td>concrete</td>\n",
       "      <td>Multivariate</td>\n",
       "      <td>Regression</td>\n",
       "      <td>strength</td>\n",
       "      <td>None</td>\n",
       "      <td>1030</td>\n",
       "      <td>9</td>\n",
       "      <td>N</td>\n",
       "    </tr>\n",
       "    <tr>\n",
       "      <th>48</th>\n",
       "      <td>diamond</td>\n",
       "      <td>Multivariate</td>\n",
       "      <td>Regression</td>\n",
       "      <td>Price</td>\n",
       "      <td>None</td>\n",
       "      <td>6000</td>\n",
       "      <td>8</td>\n",
       "      <td>N</td>\n",
       "    </tr>\n",
       "    <tr>\n",
       "      <th>49</th>\n",
       "      <td>energy</td>\n",
       "      <td>Multivariate</td>\n",
       "      <td>Regression</td>\n",
       "      <td>Heating Load</td>\n",
       "      <td>Cooling Load</td>\n",
       "      <td>768</td>\n",
       "      <td>10</td>\n",
       "      <td>N</td>\n",
       "    </tr>\n",
       "    <tr>\n",
       "      <th>50</th>\n",
       "      <td>forest</td>\n",
       "      <td>Multivariate</td>\n",
       "      <td>Regression</td>\n",
       "      <td>area</td>\n",
       "      <td>None</td>\n",
       "      <td>517</td>\n",
       "      <td>13</td>\n",
       "      <td>N</td>\n",
       "    </tr>\n",
       "    <tr>\n",
       "      <th>51</th>\n",
       "      <td>gold</td>\n",
       "      <td>Multivariate</td>\n",
       "      <td>Regression</td>\n",
       "      <td>Gold_T+22</td>\n",
       "      <td>None</td>\n",
       "      <td>2558</td>\n",
       "      <td>121</td>\n",
       "      <td>N</td>\n",
       "    </tr>\n",
       "    <tr>\n",
       "      <th>52</th>\n",
       "      <td>house</td>\n",
       "      <td>Multivariate</td>\n",
       "      <td>Regression</td>\n",
       "      <td>SalePrice</td>\n",
       "      <td>None</td>\n",
       "      <td>1461</td>\n",
       "      <td>81</td>\n",
       "      <td>Y</td>\n",
       "    </tr>\n",
       "    <tr>\n",
       "      <th>53</th>\n",
       "      <td>insurance</td>\n",
       "      <td>Multivariate</td>\n",
       "      <td>Regression</td>\n",
       "      <td>charges</td>\n",
       "      <td>None</td>\n",
       "      <td>1338</td>\n",
       "      <td>7</td>\n",
       "      <td>N</td>\n",
       "    </tr>\n",
       "    <tr>\n",
       "      <th>54</th>\n",
       "      <td>parkinsons</td>\n",
       "      <td>Multivariate</td>\n",
       "      <td>Regression</td>\n",
       "      <td>PPE</td>\n",
       "      <td>None</td>\n",
       "      <td>5875</td>\n",
       "      <td>22</td>\n",
       "      <td>N</td>\n",
       "    </tr>\n",
       "    <tr>\n",
       "      <th>55</th>\n",
       "      <td>traffic</td>\n",
       "      <td>Multivariate</td>\n",
       "      <td>Regression</td>\n",
       "      <td>traffic_volume</td>\n",
       "      <td>None</td>\n",
       "      <td>48204</td>\n",
       "      <td>8</td>\n",
       "      <td>N</td>\n",
       "    </tr>\n",
       "  </tbody>\n",
       "</table>\n",
       "</div>"
      ],
      "text/plain": [
       "                             Dataset    Data Types  \\\n",
       "0                            anomaly  Multivariate   \n",
       "1                             france  Multivariate   \n",
       "2                            germany  Multivariate   \n",
       "3                               bank  Multivariate   \n",
       "4                              blood  Multivariate   \n",
       "5                             cancer  Multivariate   \n",
       "6                             credit  Multivariate   \n",
       "7                           diabetes  Multivariate   \n",
       "8                    electrical_grid  Multivariate   \n",
       "9                           employee  Multivariate   \n",
       "10                             heart  Multivariate   \n",
       "11                     heart_disease  Multivariate   \n",
       "12                         hepatitis  Multivariate   \n",
       "13                            income  Multivariate   \n",
       "14                             juice  Multivariate   \n",
       "15                               nba  Multivariate   \n",
       "16                              wine  Multivariate   \n",
       "17                         telescope  Multivariate   \n",
       "18                           titanic  Multivariate   \n",
       "19  us_presidential_election_results  Multivariate   \n",
       "20                             glass  Multivariate   \n",
       "21                              iris  Multivariate   \n",
       "22                             poker  Multivariate   \n",
       "23                         questions  Multivariate   \n",
       "24                         satellite  Multivariate   \n",
       "25                               CTG  Multivariate   \n",
       "26                          asia_gdp  Multivariate   \n",
       "27                         elections  Multivariate   \n",
       "28                          facebook  Multivariate   \n",
       "29                               ipl  Multivariate   \n",
       "30                         jewellery  Multivariate   \n",
       "31                              mice  Multivariate   \n",
       "32                         migration  Multivariate   \n",
       "33                           perfume  Multivariate   \n",
       "34                           pokemon  Multivariate   \n",
       "35                        population  Multivariate   \n",
       "36                     public_health  Multivariate   \n",
       "37                             seeds  Multivariate   \n",
       "38                         wholesale  Multivariate   \n",
       "39                            tweets          Text   \n",
       "40                            amazon          Text   \n",
       "41                              kiva          Text   \n",
       "42                               spx          Text   \n",
       "43                         wikipedia          Text   \n",
       "44                        automobile  Multivariate   \n",
       "45                              bike  Multivariate   \n",
       "46                            boston  Multivariate   \n",
       "47                          concrete  Multivariate   \n",
       "48                           diamond  Multivariate   \n",
       "49                            energy  Multivariate   \n",
       "50                            forest  Multivariate   \n",
       "51                              gold  Multivariate   \n",
       "52                             house  Multivariate   \n",
       "53                         insurance  Multivariate   \n",
       "54                        parkinsons  Multivariate   \n",
       "55                           traffic  Multivariate   \n",
       "\n",
       "                   Default Task Target Variable 1 Target Variable 2  \\\n",
       "0             Anomaly Detection              None              None   \n",
       "1       Association Rule Mining         InvoiceNo       Description   \n",
       "2       Association Rule Mining         InvoiceNo       Description   \n",
       "3       Classification (Binary)           deposit              None   \n",
       "4       Classification (Binary)             Class              None   \n",
       "5       Classification (Binary)             Class              None   \n",
       "6       Classification (Binary)           default              None   \n",
       "7       Classification (Binary)    Class variable              None   \n",
       "8       Classification (Binary)             stabf              None   \n",
       "9       Classification (Binary)              left              None   \n",
       "10      Classification (Binary)             DEATH              None   \n",
       "11      Classification (Binary)           Disease              None   \n",
       "12      Classification (Binary)             Class              None   \n",
       "13      Classification (Binary)       income >50K              None   \n",
       "14      Classification (Binary)          Purchase              None   \n",
       "15      Classification (Binary)       TARGET_5Yrs              None   \n",
       "16      Classification (Binary)              type              None   \n",
       "17      Classification (Binary)             Class              None   \n",
       "18      Classification (Binary)          Survived              None   \n",
       "19      Classification (Binary)      party_winner              None   \n",
       "20  Classification (Multiclass)              Type              None   \n",
       "21  Classification (Multiclass)           species              None   \n",
       "22  Classification (Multiclass)             CLASS              None   \n",
       "23  Classification (Multiclass)     Next_Question              None   \n",
       "24  Classification (Multiclass)             Class              None   \n",
       "25  Classification (Multiclass)               NSP              None   \n",
       "26                   Clustering              None              None   \n",
       "27                   Clustering              None              None   \n",
       "28                   Clustering              None              None   \n",
       "29                   Clustering              None              None   \n",
       "30                   Clustering              None              None   \n",
       "31                   Clustering              None              None   \n",
       "32                   Clustering              None              None   \n",
       "33                   Clustering              None              None   \n",
       "34                   Clustering              None              None   \n",
       "35                   Clustering              None              None   \n",
       "36                   Clustering              None              None   \n",
       "37                   Clustering              None              None   \n",
       "38                   Clustering              None              None   \n",
       "39                          NLP             tweet              None   \n",
       "40         NLP / Classification        reviewText              None   \n",
       "41         NLP / Classification                en              None   \n",
       "42             NLP / Regression              text              None   \n",
       "43         NLP / Classification              Text              None   \n",
       "44                   Regression             price              None   \n",
       "45                   Regression               cnt              None   \n",
       "46                   Regression              medv              None   \n",
       "47                   Regression          strength              None   \n",
       "48                   Regression             Price              None   \n",
       "49                   Regression      Heating Load      Cooling Load   \n",
       "50                   Regression              area              None   \n",
       "51                   Regression         Gold_T+22              None   \n",
       "52                   Regression         SalePrice              None   \n",
       "53                   Regression           charges              None   \n",
       "54                   Regression               PPE              None   \n",
       "55                   Regression    traffic_volume              None   \n",
       "\n",
       "    # Instances  # Attributes Missing Values  \n",
       "0          1000            10              N  \n",
       "1          8557             8              N  \n",
       "2          9495             8              N  \n",
       "3         45211            17              N  \n",
       "4           748             5              N  \n",
       "5           683            10              N  \n",
       "6         24000            24              N  \n",
       "7           768             9              N  \n",
       "8         10000            14              N  \n",
       "9         14999            10              N  \n",
       "10          200            16              N  \n",
       "11          270            14              N  \n",
       "12          154            32              Y  \n",
       "13        32561            14              Y  \n",
       "14         1070            15              N  \n",
       "15         1340            21              N  \n",
       "16         6498            13              N  \n",
       "17        19020            11              N  \n",
       "18          891            11              Y  \n",
       "19          497             7              N  \n",
       "20          214            10              N  \n",
       "21          150             5              N  \n",
       "22       100000            11              N  \n",
       "23          499             4              N  \n",
       "24         6435            37              N  \n",
       "25         2129            40              Y  \n",
       "26           40            11              N  \n",
       "27         3195            54              Y  \n",
       "28         7050            12              N  \n",
       "29          153            25              N  \n",
       "30          505             4              N  \n",
       "31         1080            82              Y  \n",
       "32          233            12              N  \n",
       "33           20            29              N  \n",
       "34          800            13              Y  \n",
       "35          255            56              Y  \n",
       "36          224            21              N  \n",
       "37          210             7              N  \n",
       "38          440             8              N  \n",
       "39         8594             2              N  \n",
       "40        20000             2              N  \n",
       "41         6818             7              N  \n",
       "42          874             4              N  \n",
       "43          500             3              N  \n",
       "44          202            26              Y  \n",
       "45        17379            15              N  \n",
       "46          506            14              N  \n",
       "47         1030             9              N  \n",
       "48         6000             8              N  \n",
       "49          768            10              N  \n",
       "50          517            13              N  \n",
       "51         2558           121              N  \n",
       "52         1461            81              Y  \n",
       "53         1338             7              N  \n",
       "54         5875            22              N  \n",
       "55        48204             8              N  "
      ]
     },
     "metadata": {},
     "output_type": "display_data"
    },
    {
     "data": {
      "text/html": [
       "<div>\n",
       "<style scoped>\n",
       "    .dataframe tbody tr th:only-of-type {\n",
       "        vertical-align: middle;\n",
       "    }\n",
       "\n",
       "    .dataframe tbody tr th {\n",
       "        vertical-align: top;\n",
       "    }\n",
       "\n",
       "    .dataframe thead th {\n",
       "        text-align: right;\n",
       "    }\n",
       "</style>\n",
       "<table border=\"1\" class=\"dataframe\">\n",
       "  <thead>\n",
       "    <tr style=\"text-align: right;\">\n",
       "      <th></th>\n",
       "      <th>Dataset</th>\n",
       "      <th>Data Types</th>\n",
       "      <th>Default Task</th>\n",
       "      <th>Target Variable 1</th>\n",
       "      <th>Target Variable 2</th>\n",
       "      <th># Instances</th>\n",
       "      <th># Attributes</th>\n",
       "      <th>Missing Values</th>\n",
       "    </tr>\n",
       "  </thead>\n",
       "  <tbody>\n",
       "    <tr>\n",
       "      <th>0</th>\n",
       "      <td>anomaly</td>\n",
       "      <td>Multivariate</td>\n",
       "      <td>Anomaly Detection</td>\n",
       "      <td>None</td>\n",
       "      <td>None</td>\n",
       "      <td>1000</td>\n",
       "      <td>10</td>\n",
       "      <td>N</td>\n",
       "    </tr>\n",
       "    <tr>\n",
       "      <th>1</th>\n",
       "      <td>france</td>\n",
       "      <td>Multivariate</td>\n",
       "      <td>Association Rule Mining</td>\n",
       "      <td>InvoiceNo</td>\n",
       "      <td>Description</td>\n",
       "      <td>8557</td>\n",
       "      <td>8</td>\n",
       "      <td>N</td>\n",
       "    </tr>\n",
       "    <tr>\n",
       "      <th>2</th>\n",
       "      <td>germany</td>\n",
       "      <td>Multivariate</td>\n",
       "      <td>Association Rule Mining</td>\n",
       "      <td>InvoiceNo</td>\n",
       "      <td>Description</td>\n",
       "      <td>9495</td>\n",
       "      <td>8</td>\n",
       "      <td>N</td>\n",
       "    </tr>\n",
       "    <tr>\n",
       "      <th>3</th>\n",
       "      <td>bank</td>\n",
       "      <td>Multivariate</td>\n",
       "      <td>Classification (Binary)</td>\n",
       "      <td>deposit</td>\n",
       "      <td>None</td>\n",
       "      <td>45211</td>\n",
       "      <td>17</td>\n",
       "      <td>N</td>\n",
       "    </tr>\n",
       "    <tr>\n",
       "      <th>4</th>\n",
       "      <td>blood</td>\n",
       "      <td>Multivariate</td>\n",
       "      <td>Classification (Binary)</td>\n",
       "      <td>Class</td>\n",
       "      <td>None</td>\n",
       "      <td>748</td>\n",
       "      <td>5</td>\n",
       "      <td>N</td>\n",
       "    </tr>\n",
       "    <tr>\n",
       "      <th>5</th>\n",
       "      <td>cancer</td>\n",
       "      <td>Multivariate</td>\n",
       "      <td>Classification (Binary)</td>\n",
       "      <td>Class</td>\n",
       "      <td>None</td>\n",
       "      <td>683</td>\n",
       "      <td>10</td>\n",
       "      <td>N</td>\n",
       "    </tr>\n",
       "    <tr>\n",
       "      <th>6</th>\n",
       "      <td>credit</td>\n",
       "      <td>Multivariate</td>\n",
       "      <td>Classification (Binary)</td>\n",
       "      <td>default</td>\n",
       "      <td>None</td>\n",
       "      <td>24000</td>\n",
       "      <td>24</td>\n",
       "      <td>N</td>\n",
       "    </tr>\n",
       "    <tr>\n",
       "      <th>7</th>\n",
       "      <td>diabetes</td>\n",
       "      <td>Multivariate</td>\n",
       "      <td>Classification (Binary)</td>\n",
       "      <td>Class variable</td>\n",
       "      <td>None</td>\n",
       "      <td>768</td>\n",
       "      <td>9</td>\n",
       "      <td>N</td>\n",
       "    </tr>\n",
       "    <tr>\n",
       "      <th>8</th>\n",
       "      <td>electrical_grid</td>\n",
       "      <td>Multivariate</td>\n",
       "      <td>Classification (Binary)</td>\n",
       "      <td>stabf</td>\n",
       "      <td>None</td>\n",
       "      <td>10000</td>\n",
       "      <td>14</td>\n",
       "      <td>N</td>\n",
       "    </tr>\n",
       "    <tr>\n",
       "      <th>9</th>\n",
       "      <td>employee</td>\n",
       "      <td>Multivariate</td>\n",
       "      <td>Classification (Binary)</td>\n",
       "      <td>left</td>\n",
       "      <td>None</td>\n",
       "      <td>14999</td>\n",
       "      <td>10</td>\n",
       "      <td>N</td>\n",
       "    </tr>\n",
       "    <tr>\n",
       "      <th>10</th>\n",
       "      <td>heart</td>\n",
       "      <td>Multivariate</td>\n",
       "      <td>Classification (Binary)</td>\n",
       "      <td>DEATH</td>\n",
       "      <td>None</td>\n",
       "      <td>200</td>\n",
       "      <td>16</td>\n",
       "      <td>N</td>\n",
       "    </tr>\n",
       "    <tr>\n",
       "      <th>11</th>\n",
       "      <td>heart_disease</td>\n",
       "      <td>Multivariate</td>\n",
       "      <td>Classification (Binary)</td>\n",
       "      <td>Disease</td>\n",
       "      <td>None</td>\n",
       "      <td>270</td>\n",
       "      <td>14</td>\n",
       "      <td>N</td>\n",
       "    </tr>\n",
       "    <tr>\n",
       "      <th>12</th>\n",
       "      <td>hepatitis</td>\n",
       "      <td>Multivariate</td>\n",
       "      <td>Classification (Binary)</td>\n",
       "      <td>Class</td>\n",
       "      <td>None</td>\n",
       "      <td>154</td>\n",
       "      <td>32</td>\n",
       "      <td>Y</td>\n",
       "    </tr>\n",
       "    <tr>\n",
       "      <th>13</th>\n",
       "      <td>income</td>\n",
       "      <td>Multivariate</td>\n",
       "      <td>Classification (Binary)</td>\n",
       "      <td>income &gt;50K</td>\n",
       "      <td>None</td>\n",
       "      <td>32561</td>\n",
       "      <td>14</td>\n",
       "      <td>Y</td>\n",
       "    </tr>\n",
       "    <tr>\n",
       "      <th>14</th>\n",
       "      <td>juice</td>\n",
       "      <td>Multivariate</td>\n",
       "      <td>Classification (Binary)</td>\n",
       "      <td>Purchase</td>\n",
       "      <td>None</td>\n",
       "      <td>1070</td>\n",
       "      <td>15</td>\n",
       "      <td>N</td>\n",
       "    </tr>\n",
       "    <tr>\n",
       "      <th>15</th>\n",
       "      <td>nba</td>\n",
       "      <td>Multivariate</td>\n",
       "      <td>Classification (Binary)</td>\n",
       "      <td>TARGET_5Yrs</td>\n",
       "      <td>None</td>\n",
       "      <td>1340</td>\n",
       "      <td>21</td>\n",
       "      <td>N</td>\n",
       "    </tr>\n",
       "    <tr>\n",
       "      <th>16</th>\n",
       "      <td>wine</td>\n",
       "      <td>Multivariate</td>\n",
       "      <td>Classification (Binary)</td>\n",
       "      <td>type</td>\n",
       "      <td>None</td>\n",
       "      <td>6498</td>\n",
       "      <td>13</td>\n",
       "      <td>N</td>\n",
       "    </tr>\n",
       "    <tr>\n",
       "      <th>17</th>\n",
       "      <td>telescope</td>\n",
       "      <td>Multivariate</td>\n",
       "      <td>Classification (Binary)</td>\n",
       "      <td>Class</td>\n",
       "      <td>None</td>\n",
       "      <td>19020</td>\n",
       "      <td>11</td>\n",
       "      <td>N</td>\n",
       "    </tr>\n",
       "    <tr>\n",
       "      <th>18</th>\n",
       "      <td>titanic</td>\n",
       "      <td>Multivariate</td>\n",
       "      <td>Classification (Binary)</td>\n",
       "      <td>Survived</td>\n",
       "      <td>None</td>\n",
       "      <td>891</td>\n",
       "      <td>11</td>\n",
       "      <td>Y</td>\n",
       "    </tr>\n",
       "    <tr>\n",
       "      <th>19</th>\n",
       "      <td>us_presidential_election_results</td>\n",
       "      <td>Multivariate</td>\n",
       "      <td>Classification (Binary)</td>\n",
       "      <td>party_winner</td>\n",
       "      <td>None</td>\n",
       "      <td>497</td>\n",
       "      <td>7</td>\n",
       "      <td>N</td>\n",
       "    </tr>\n",
       "    <tr>\n",
       "      <th>20</th>\n",
       "      <td>glass</td>\n",
       "      <td>Multivariate</td>\n",
       "      <td>Classification (Multiclass)</td>\n",
       "      <td>Type</td>\n",
       "      <td>None</td>\n",
       "      <td>214</td>\n",
       "      <td>10</td>\n",
       "      <td>N</td>\n",
       "    </tr>\n",
       "    <tr>\n",
       "      <th>21</th>\n",
       "      <td>iris</td>\n",
       "      <td>Multivariate</td>\n",
       "      <td>Classification (Multiclass)</td>\n",
       "      <td>species</td>\n",
       "      <td>None</td>\n",
       "      <td>150</td>\n",
       "      <td>5</td>\n",
       "      <td>N</td>\n",
       "    </tr>\n",
       "    <tr>\n",
       "      <th>22</th>\n",
       "      <td>poker</td>\n",
       "      <td>Multivariate</td>\n",
       "      <td>Classification (Multiclass)</td>\n",
       "      <td>CLASS</td>\n",
       "      <td>None</td>\n",
       "      <td>100000</td>\n",
       "      <td>11</td>\n",
       "      <td>N</td>\n",
       "    </tr>\n",
       "    <tr>\n",
       "      <th>23</th>\n",
       "      <td>questions</td>\n",
       "      <td>Multivariate</td>\n",
       "      <td>Classification (Multiclass)</td>\n",
       "      <td>Next_Question</td>\n",
       "      <td>None</td>\n",
       "      <td>499</td>\n",
       "      <td>4</td>\n",
       "      <td>N</td>\n",
       "    </tr>\n",
       "    <tr>\n",
       "      <th>24</th>\n",
       "      <td>satellite</td>\n",
       "      <td>Multivariate</td>\n",
       "      <td>Classification (Multiclass)</td>\n",
       "      <td>Class</td>\n",
       "      <td>None</td>\n",
       "      <td>6435</td>\n",
       "      <td>37</td>\n",
       "      <td>N</td>\n",
       "    </tr>\n",
       "    <tr>\n",
       "      <th>25</th>\n",
       "      <td>CTG</td>\n",
       "      <td>Multivariate</td>\n",
       "      <td>Classification (Multiclass)</td>\n",
       "      <td>NSP</td>\n",
       "      <td>None</td>\n",
       "      <td>2129</td>\n",
       "      <td>40</td>\n",
       "      <td>Y</td>\n",
       "    </tr>\n",
       "    <tr>\n",
       "      <th>26</th>\n",
       "      <td>asia_gdp</td>\n",
       "      <td>Multivariate</td>\n",
       "      <td>Clustering</td>\n",
       "      <td>None</td>\n",
       "      <td>None</td>\n",
       "      <td>40</td>\n",
       "      <td>11</td>\n",
       "      <td>N</td>\n",
       "    </tr>\n",
       "    <tr>\n",
       "      <th>27</th>\n",
       "      <td>elections</td>\n",
       "      <td>Multivariate</td>\n",
       "      <td>Clustering</td>\n",
       "      <td>None</td>\n",
       "      <td>None</td>\n",
       "      <td>3195</td>\n",
       "      <td>54</td>\n",
       "      <td>Y</td>\n",
       "    </tr>\n",
       "    <tr>\n",
       "      <th>28</th>\n",
       "      <td>facebook</td>\n",
       "      <td>Multivariate</td>\n",
       "      <td>Clustering</td>\n",
       "      <td>None</td>\n",
       "      <td>None</td>\n",
       "      <td>7050</td>\n",
       "      <td>12</td>\n",
       "      <td>N</td>\n",
       "    </tr>\n",
       "    <tr>\n",
       "      <th>29</th>\n",
       "      <td>ipl</td>\n",
       "      <td>Multivariate</td>\n",
       "      <td>Clustering</td>\n",
       "      <td>None</td>\n",
       "      <td>None</td>\n",
       "      <td>153</td>\n",
       "      <td>25</td>\n",
       "      <td>N</td>\n",
       "    </tr>\n",
       "    <tr>\n",
       "      <th>30</th>\n",
       "      <td>jewellery</td>\n",
       "      <td>Multivariate</td>\n",
       "      <td>Clustering</td>\n",
       "      <td>None</td>\n",
       "      <td>None</td>\n",
       "      <td>505</td>\n",
       "      <td>4</td>\n",
       "      <td>N</td>\n",
       "    </tr>\n",
       "    <tr>\n",
       "      <th>31</th>\n",
       "      <td>mice</td>\n",
       "      <td>Multivariate</td>\n",
       "      <td>Clustering</td>\n",
       "      <td>None</td>\n",
       "      <td>None</td>\n",
       "      <td>1080</td>\n",
       "      <td>82</td>\n",
       "      <td>Y</td>\n",
       "    </tr>\n",
       "    <tr>\n",
       "      <th>32</th>\n",
       "      <td>migration</td>\n",
       "      <td>Multivariate</td>\n",
       "      <td>Clustering</td>\n",
       "      <td>None</td>\n",
       "      <td>None</td>\n",
       "      <td>233</td>\n",
       "      <td>12</td>\n",
       "      <td>N</td>\n",
       "    </tr>\n",
       "    <tr>\n",
       "      <th>33</th>\n",
       "      <td>perfume</td>\n",
       "      <td>Multivariate</td>\n",
       "      <td>Clustering</td>\n",
       "      <td>None</td>\n",
       "      <td>None</td>\n",
       "      <td>20</td>\n",
       "      <td>29</td>\n",
       "      <td>N</td>\n",
       "    </tr>\n",
       "    <tr>\n",
       "      <th>34</th>\n",
       "      <td>pokemon</td>\n",
       "      <td>Multivariate</td>\n",
       "      <td>Clustering</td>\n",
       "      <td>None</td>\n",
       "      <td>None</td>\n",
       "      <td>800</td>\n",
       "      <td>13</td>\n",
       "      <td>Y</td>\n",
       "    </tr>\n",
       "    <tr>\n",
       "      <th>35</th>\n",
       "      <td>population</td>\n",
       "      <td>Multivariate</td>\n",
       "      <td>Clustering</td>\n",
       "      <td>None</td>\n",
       "      <td>None</td>\n",
       "      <td>255</td>\n",
       "      <td>56</td>\n",
       "      <td>Y</td>\n",
       "    </tr>\n",
       "    <tr>\n",
       "      <th>36</th>\n",
       "      <td>public_health</td>\n",
       "      <td>Multivariate</td>\n",
       "      <td>Clustering</td>\n",
       "      <td>None</td>\n",
       "      <td>None</td>\n",
       "      <td>224</td>\n",
       "      <td>21</td>\n",
       "      <td>N</td>\n",
       "    </tr>\n",
       "    <tr>\n",
       "      <th>37</th>\n",
       "      <td>seeds</td>\n",
       "      <td>Multivariate</td>\n",
       "      <td>Clustering</td>\n",
       "      <td>None</td>\n",
       "      <td>None</td>\n",
       "      <td>210</td>\n",
       "      <td>7</td>\n",
       "      <td>N</td>\n",
       "    </tr>\n",
       "    <tr>\n",
       "      <th>38</th>\n",
       "      <td>wholesale</td>\n",
       "      <td>Multivariate</td>\n",
       "      <td>Clustering</td>\n",
       "      <td>None</td>\n",
       "      <td>None</td>\n",
       "      <td>440</td>\n",
       "      <td>8</td>\n",
       "      <td>N</td>\n",
       "    </tr>\n",
       "    <tr>\n",
       "      <th>39</th>\n",
       "      <td>tweets</td>\n",
       "      <td>Text</td>\n",
       "      <td>NLP</td>\n",
       "      <td>tweet</td>\n",
       "      <td>None</td>\n",
       "      <td>8594</td>\n",
       "      <td>2</td>\n",
       "      <td>N</td>\n",
       "    </tr>\n",
       "    <tr>\n",
       "      <th>40</th>\n",
       "      <td>amazon</td>\n",
       "      <td>Text</td>\n",
       "      <td>NLP / Classification</td>\n",
       "      <td>reviewText</td>\n",
       "      <td>None</td>\n",
       "      <td>20000</td>\n",
       "      <td>2</td>\n",
       "      <td>N</td>\n",
       "    </tr>\n",
       "    <tr>\n",
       "      <th>41</th>\n",
       "      <td>kiva</td>\n",
       "      <td>Text</td>\n",
       "      <td>NLP / Classification</td>\n",
       "      <td>en</td>\n",
       "      <td>None</td>\n",
       "      <td>6818</td>\n",
       "      <td>7</td>\n",
       "      <td>N</td>\n",
       "    </tr>\n",
       "    <tr>\n",
       "      <th>42</th>\n",
       "      <td>spx</td>\n",
       "      <td>Text</td>\n",
       "      <td>NLP / Regression</td>\n",
       "      <td>text</td>\n",
       "      <td>None</td>\n",
       "      <td>874</td>\n",
       "      <td>4</td>\n",
       "      <td>N</td>\n",
       "    </tr>\n",
       "    <tr>\n",
       "      <th>43</th>\n",
       "      <td>wikipedia</td>\n",
       "      <td>Text</td>\n",
       "      <td>NLP / Classification</td>\n",
       "      <td>Text</td>\n",
       "      <td>None</td>\n",
       "      <td>500</td>\n",
       "      <td>3</td>\n",
       "      <td>N</td>\n",
       "    </tr>\n",
       "    <tr>\n",
       "      <th>44</th>\n",
       "      <td>automobile</td>\n",
       "      <td>Multivariate</td>\n",
       "      <td>Regression</td>\n",
       "      <td>price</td>\n",
       "      <td>None</td>\n",
       "      <td>202</td>\n",
       "      <td>26</td>\n",
       "      <td>Y</td>\n",
       "    </tr>\n",
       "    <tr>\n",
       "      <th>45</th>\n",
       "      <td>bike</td>\n",
       "      <td>Multivariate</td>\n",
       "      <td>Regression</td>\n",
       "      <td>cnt</td>\n",
       "      <td>None</td>\n",
       "      <td>17379</td>\n",
       "      <td>15</td>\n",
       "      <td>N</td>\n",
       "    </tr>\n",
       "    <tr>\n",
       "      <th>46</th>\n",
       "      <td>boston</td>\n",
       "      <td>Multivariate</td>\n",
       "      <td>Regression</td>\n",
       "      <td>medv</td>\n",
       "      <td>None</td>\n",
       "      <td>506</td>\n",
       "      <td>14</td>\n",
       "      <td>N</td>\n",
       "    </tr>\n",
       "    <tr>\n",
       "      <th>47</th>\n",
       "      <td>concrete</td>\n",
       "      <td>Multivariate</td>\n",
       "      <td>Regression</td>\n",
       "      <td>strength</td>\n",
       "      <td>None</td>\n",
       "      <td>1030</td>\n",
       "      <td>9</td>\n",
       "      <td>N</td>\n",
       "    </tr>\n",
       "    <tr>\n",
       "      <th>48</th>\n",
       "      <td>diamond</td>\n",
       "      <td>Multivariate</td>\n",
       "      <td>Regression</td>\n",
       "      <td>Price</td>\n",
       "      <td>None</td>\n",
       "      <td>6000</td>\n",
       "      <td>8</td>\n",
       "      <td>N</td>\n",
       "    </tr>\n",
       "    <tr>\n",
       "      <th>49</th>\n",
       "      <td>energy</td>\n",
       "      <td>Multivariate</td>\n",
       "      <td>Regression</td>\n",
       "      <td>Heating Load</td>\n",
       "      <td>Cooling Load</td>\n",
       "      <td>768</td>\n",
       "      <td>10</td>\n",
       "      <td>N</td>\n",
       "    </tr>\n",
       "    <tr>\n",
       "      <th>50</th>\n",
       "      <td>forest</td>\n",
       "      <td>Multivariate</td>\n",
       "      <td>Regression</td>\n",
       "      <td>area</td>\n",
       "      <td>None</td>\n",
       "      <td>517</td>\n",
       "      <td>13</td>\n",
       "      <td>N</td>\n",
       "    </tr>\n",
       "    <tr>\n",
       "      <th>51</th>\n",
       "      <td>gold</td>\n",
       "      <td>Multivariate</td>\n",
       "      <td>Regression</td>\n",
       "      <td>Gold_T+22</td>\n",
       "      <td>None</td>\n",
       "      <td>2558</td>\n",
       "      <td>121</td>\n",
       "      <td>N</td>\n",
       "    </tr>\n",
       "    <tr>\n",
       "      <th>52</th>\n",
       "      <td>house</td>\n",
       "      <td>Multivariate</td>\n",
       "      <td>Regression</td>\n",
       "      <td>SalePrice</td>\n",
       "      <td>None</td>\n",
       "      <td>1461</td>\n",
       "      <td>81</td>\n",
       "      <td>Y</td>\n",
       "    </tr>\n",
       "    <tr>\n",
       "      <th>53</th>\n",
       "      <td>insurance</td>\n",
       "      <td>Multivariate</td>\n",
       "      <td>Regression</td>\n",
       "      <td>charges</td>\n",
       "      <td>None</td>\n",
       "      <td>1338</td>\n",
       "      <td>7</td>\n",
       "      <td>N</td>\n",
       "    </tr>\n",
       "    <tr>\n",
       "      <th>54</th>\n",
       "      <td>parkinsons</td>\n",
       "      <td>Multivariate</td>\n",
       "      <td>Regression</td>\n",
       "      <td>PPE</td>\n",
       "      <td>None</td>\n",
       "      <td>5875</td>\n",
       "      <td>22</td>\n",
       "      <td>N</td>\n",
       "    </tr>\n",
       "    <tr>\n",
       "      <th>55</th>\n",
       "      <td>traffic</td>\n",
       "      <td>Multivariate</td>\n",
       "      <td>Regression</td>\n",
       "      <td>traffic_volume</td>\n",
       "      <td>None</td>\n",
       "      <td>48204</td>\n",
       "      <td>8</td>\n",
       "      <td>N</td>\n",
       "    </tr>\n",
       "  </tbody>\n",
       "</table>\n",
       "</div>"
      ],
      "text/plain": [
       "                             Dataset    Data Types  \\\n",
       "0                            anomaly  Multivariate   \n",
       "1                             france  Multivariate   \n",
       "2                            germany  Multivariate   \n",
       "3                               bank  Multivariate   \n",
       "4                              blood  Multivariate   \n",
       "5                             cancer  Multivariate   \n",
       "6                             credit  Multivariate   \n",
       "7                           diabetes  Multivariate   \n",
       "8                    electrical_grid  Multivariate   \n",
       "9                           employee  Multivariate   \n",
       "10                             heart  Multivariate   \n",
       "11                     heart_disease  Multivariate   \n",
       "12                         hepatitis  Multivariate   \n",
       "13                            income  Multivariate   \n",
       "14                             juice  Multivariate   \n",
       "15                               nba  Multivariate   \n",
       "16                              wine  Multivariate   \n",
       "17                         telescope  Multivariate   \n",
       "18                           titanic  Multivariate   \n",
       "19  us_presidential_election_results  Multivariate   \n",
       "20                             glass  Multivariate   \n",
       "21                              iris  Multivariate   \n",
       "22                             poker  Multivariate   \n",
       "23                         questions  Multivariate   \n",
       "24                         satellite  Multivariate   \n",
       "25                               CTG  Multivariate   \n",
       "26                          asia_gdp  Multivariate   \n",
       "27                         elections  Multivariate   \n",
       "28                          facebook  Multivariate   \n",
       "29                               ipl  Multivariate   \n",
       "30                         jewellery  Multivariate   \n",
       "31                              mice  Multivariate   \n",
       "32                         migration  Multivariate   \n",
       "33                           perfume  Multivariate   \n",
       "34                           pokemon  Multivariate   \n",
       "35                        population  Multivariate   \n",
       "36                     public_health  Multivariate   \n",
       "37                             seeds  Multivariate   \n",
       "38                         wholesale  Multivariate   \n",
       "39                            tweets          Text   \n",
       "40                            amazon          Text   \n",
       "41                              kiva          Text   \n",
       "42                               spx          Text   \n",
       "43                         wikipedia          Text   \n",
       "44                        automobile  Multivariate   \n",
       "45                              bike  Multivariate   \n",
       "46                            boston  Multivariate   \n",
       "47                          concrete  Multivariate   \n",
       "48                           diamond  Multivariate   \n",
       "49                            energy  Multivariate   \n",
       "50                            forest  Multivariate   \n",
       "51                              gold  Multivariate   \n",
       "52                             house  Multivariate   \n",
       "53                         insurance  Multivariate   \n",
       "54                        parkinsons  Multivariate   \n",
       "55                           traffic  Multivariate   \n",
       "\n",
       "                   Default Task Target Variable 1 Target Variable 2  \\\n",
       "0             Anomaly Detection              None              None   \n",
       "1       Association Rule Mining         InvoiceNo       Description   \n",
       "2       Association Rule Mining         InvoiceNo       Description   \n",
       "3       Classification (Binary)           deposit              None   \n",
       "4       Classification (Binary)             Class              None   \n",
       "5       Classification (Binary)             Class              None   \n",
       "6       Classification (Binary)           default              None   \n",
       "7       Classification (Binary)    Class variable              None   \n",
       "8       Classification (Binary)             stabf              None   \n",
       "9       Classification (Binary)              left              None   \n",
       "10      Classification (Binary)             DEATH              None   \n",
       "11      Classification (Binary)           Disease              None   \n",
       "12      Classification (Binary)             Class              None   \n",
       "13      Classification (Binary)       income >50K              None   \n",
       "14      Classification (Binary)          Purchase              None   \n",
       "15      Classification (Binary)       TARGET_5Yrs              None   \n",
       "16      Classification (Binary)              type              None   \n",
       "17      Classification (Binary)             Class              None   \n",
       "18      Classification (Binary)          Survived              None   \n",
       "19      Classification (Binary)      party_winner              None   \n",
       "20  Classification (Multiclass)              Type              None   \n",
       "21  Classification (Multiclass)           species              None   \n",
       "22  Classification (Multiclass)             CLASS              None   \n",
       "23  Classification (Multiclass)     Next_Question              None   \n",
       "24  Classification (Multiclass)             Class              None   \n",
       "25  Classification (Multiclass)               NSP              None   \n",
       "26                   Clustering              None              None   \n",
       "27                   Clustering              None              None   \n",
       "28                   Clustering              None              None   \n",
       "29                   Clustering              None              None   \n",
       "30                   Clustering              None              None   \n",
       "31                   Clustering              None              None   \n",
       "32                   Clustering              None              None   \n",
       "33                   Clustering              None              None   \n",
       "34                   Clustering              None              None   \n",
       "35                   Clustering              None              None   \n",
       "36                   Clustering              None              None   \n",
       "37                   Clustering              None              None   \n",
       "38                   Clustering              None              None   \n",
       "39                          NLP             tweet              None   \n",
       "40         NLP / Classification        reviewText              None   \n",
       "41         NLP / Classification                en              None   \n",
       "42             NLP / Regression              text              None   \n",
       "43         NLP / Classification              Text              None   \n",
       "44                   Regression             price              None   \n",
       "45                   Regression               cnt              None   \n",
       "46                   Regression              medv              None   \n",
       "47                   Regression          strength              None   \n",
       "48                   Regression             Price              None   \n",
       "49                   Regression      Heating Load      Cooling Load   \n",
       "50                   Regression              area              None   \n",
       "51                   Regression         Gold_T+22              None   \n",
       "52                   Regression         SalePrice              None   \n",
       "53                   Regression           charges              None   \n",
       "54                   Regression               PPE              None   \n",
       "55                   Regression    traffic_volume              None   \n",
       "\n",
       "    # Instances  # Attributes Missing Values  \n",
       "0          1000            10              N  \n",
       "1          8557             8              N  \n",
       "2          9495             8              N  \n",
       "3         45211            17              N  \n",
       "4           748             5              N  \n",
       "5           683            10              N  \n",
       "6         24000            24              N  \n",
       "7           768             9              N  \n",
       "8         10000            14              N  \n",
       "9         14999            10              N  \n",
       "10          200            16              N  \n",
       "11          270            14              N  \n",
       "12          154            32              Y  \n",
       "13        32561            14              Y  \n",
       "14         1070            15              N  \n",
       "15         1340            21              N  \n",
       "16         6498            13              N  \n",
       "17        19020            11              N  \n",
       "18          891            11              Y  \n",
       "19          497             7              N  \n",
       "20          214            10              N  \n",
       "21          150             5              N  \n",
       "22       100000            11              N  \n",
       "23          499             4              N  \n",
       "24         6435            37              N  \n",
       "25         2129            40              Y  \n",
       "26           40            11              N  \n",
       "27         3195            54              Y  \n",
       "28         7050            12              N  \n",
       "29          153            25              N  \n",
       "30          505             4              N  \n",
       "31         1080            82              Y  \n",
       "32          233            12              N  \n",
       "33           20            29              N  \n",
       "34          800            13              Y  \n",
       "35          255            56              Y  \n",
       "36          224            21              N  \n",
       "37          210             7              N  \n",
       "38          440             8              N  \n",
       "39         8594             2              N  \n",
       "40        20000             2              N  \n",
       "41         6818             7              N  \n",
       "42          874             4              N  \n",
       "43          500             3              N  \n",
       "44          202            26              Y  \n",
       "45        17379            15              N  \n",
       "46          506            14              N  \n",
       "47         1030             9              N  \n",
       "48         6000             8              N  \n",
       "49          768            10              N  \n",
       "50          517            13              N  \n",
       "51         2558           121              N  \n",
       "52         1461            81              Y  \n",
       "53         1338             7              N  \n",
       "54         5875            22              N  \n",
       "55        48204             8              N  "
      ]
     },
     "execution_count": 67,
     "metadata": {},
     "output_type": "execute_result"
    }
   ],
   "source": [
    "get_data('index')"
   ]
  },
  {
   "cell_type": "code",
   "execution_count": 68,
   "metadata": {},
   "outputs": [
    {
     "data": {
      "text/html": [
       "<div>\n",
       "<style scoped>\n",
       "    .dataframe tbody tr th:only-of-type {\n",
       "        vertical-align: middle;\n",
       "    }\n",
       "\n",
       "    .dataframe tbody tr th {\n",
       "        vertical-align: top;\n",
       "    }\n",
       "\n",
       "    .dataframe thead th {\n",
       "        text-align: right;\n",
       "    }\n",
       "</style>\n",
       "<table border=\"1\" class=\"dataframe\">\n",
       "  <thead>\n",
       "    <tr style=\"text-align: right;\">\n",
       "      <th></th>\n",
       "      <th>Age</th>\n",
       "      <th>Income</th>\n",
       "      <th>SpendingScore</th>\n",
       "      <th>Savings</th>\n",
       "    </tr>\n",
       "  </thead>\n",
       "  <tbody>\n",
       "    <tr>\n",
       "      <th>0</th>\n",
       "      <td>58</td>\n",
       "      <td>77769</td>\n",
       "      <td>0.791329</td>\n",
       "      <td>6559.829923</td>\n",
       "    </tr>\n",
       "    <tr>\n",
       "      <th>1</th>\n",
       "      <td>59</td>\n",
       "      <td>81799</td>\n",
       "      <td>0.791082</td>\n",
       "      <td>5417.661426</td>\n",
       "    </tr>\n",
       "    <tr>\n",
       "      <th>2</th>\n",
       "      <td>62</td>\n",
       "      <td>74751</td>\n",
       "      <td>0.702657</td>\n",
       "      <td>9258.992965</td>\n",
       "    </tr>\n",
       "    <tr>\n",
       "      <th>3</th>\n",
       "      <td>59</td>\n",
       "      <td>74373</td>\n",
       "      <td>0.765680</td>\n",
       "      <td>7346.334504</td>\n",
       "    </tr>\n",
       "    <tr>\n",
       "      <th>4</th>\n",
       "      <td>87</td>\n",
       "      <td>17760</td>\n",
       "      <td>0.348778</td>\n",
       "      <td>16869.507130</td>\n",
       "    </tr>\n",
       "  </tbody>\n",
       "</table>\n",
       "</div>"
      ],
      "text/plain": [
       "   Age  Income  SpendingScore       Savings\n",
       "0   58   77769       0.791329   6559.829923\n",
       "1   59   81799       0.791082   5417.661426\n",
       "2   62   74751       0.702657   9258.992965\n",
       "3   59   74373       0.765680   7346.334504\n",
       "4   87   17760       0.348778  16869.507130"
      ]
     },
     "metadata": {},
     "output_type": "display_data"
    }
   ],
   "source": [
    "ds = get_data('jewellery')"
   ]
  },
  {
   "cell_type": "code",
   "execution_count": 69,
   "metadata": {},
   "outputs": [
    {
     "name": "stdout",
     "output_type": "stream",
     "text": [
      "     Age  Income  SpendingScore       Savings\n",
      "0     58   77769       0.791329   6559.829923\n",
      "1     59   81799       0.791082   5417.661426\n",
      "2     62   74751       0.702657   9258.992965\n",
      "3     59   74373       0.765680   7346.334504\n",
      "4     87   17760       0.348778  16869.507130\n",
      "..   ...     ...            ...           ...\n",
      "500   28  101206       0.387441  14936.775389\n",
      "501   93   19934       0.203140  17969.693769\n",
      "502   90   35297       0.355149  16091.401954\n",
      "503   91   20681       0.354679  18401.088445\n",
      "504   89   30267       0.289310  14386.351880\n",
      "\n",
      "[505 rows x 4 columns]\n"
     ]
    }
   ],
   "source": [
    "print(ds)"
   ]
  },
  {
   "cell_type": "code",
   "execution_count": 70,
   "metadata": {},
   "outputs": [
    {
     "data": {
      "text/html": [
       "<div>\n",
       "<style scoped>\n",
       "    .dataframe tbody tr th:only-of-type {\n",
       "        vertical-align: middle;\n",
       "    }\n",
       "\n",
       "    .dataframe tbody tr th {\n",
       "        vertical-align: top;\n",
       "    }\n",
       "\n",
       "    .dataframe thead th {\n",
       "        text-align: right;\n",
       "    }\n",
       "</style>\n",
       "<table border=\"1\" class=\"dataframe\">\n",
       "  <thead>\n",
       "    <tr style=\"text-align: right;\">\n",
       "      <th></th>\n",
       "      <th>Age</th>\n",
       "      <th>Income</th>\n",
       "      <th>SpendingScore</th>\n",
       "      <th>Savings</th>\n",
       "    </tr>\n",
       "  </thead>\n",
       "  <tbody>\n",
       "    <tr>\n",
       "      <th>0</th>\n",
       "      <td>58</td>\n",
       "      <td>77769</td>\n",
       "      <td>0.791329</td>\n",
       "      <td>6559.829923</td>\n",
       "    </tr>\n",
       "    <tr>\n",
       "      <th>1</th>\n",
       "      <td>59</td>\n",
       "      <td>81799</td>\n",
       "      <td>0.791082</td>\n",
       "      <td>5417.661426</td>\n",
       "    </tr>\n",
       "    <tr>\n",
       "      <th>2</th>\n",
       "      <td>62</td>\n",
       "      <td>74751</td>\n",
       "      <td>0.702657</td>\n",
       "      <td>9258.992965</td>\n",
       "    </tr>\n",
       "    <tr>\n",
       "      <th>3</th>\n",
       "      <td>59</td>\n",
       "      <td>74373</td>\n",
       "      <td>0.765680</td>\n",
       "      <td>7346.334504</td>\n",
       "    </tr>\n",
       "    <tr>\n",
       "      <th>4</th>\n",
       "      <td>87</td>\n",
       "      <td>17760</td>\n",
       "      <td>0.348778</td>\n",
       "      <td>16869.507130</td>\n",
       "    </tr>\n",
       "    <tr>\n",
       "      <th>...</th>\n",
       "      <td>...</td>\n",
       "      <td>...</td>\n",
       "      <td>...</td>\n",
       "      <td>...</td>\n",
       "    </tr>\n",
       "    <tr>\n",
       "      <th>500</th>\n",
       "      <td>28</td>\n",
       "      <td>101206</td>\n",
       "      <td>0.387441</td>\n",
       "      <td>14936.775389</td>\n",
       "    </tr>\n",
       "    <tr>\n",
       "      <th>501</th>\n",
       "      <td>93</td>\n",
       "      <td>19934</td>\n",
       "      <td>0.203140</td>\n",
       "      <td>17969.693769</td>\n",
       "    </tr>\n",
       "    <tr>\n",
       "      <th>502</th>\n",
       "      <td>90</td>\n",
       "      <td>35297</td>\n",
       "      <td>0.355149</td>\n",
       "      <td>16091.401954</td>\n",
       "    </tr>\n",
       "    <tr>\n",
       "      <th>503</th>\n",
       "      <td>91</td>\n",
       "      <td>20681</td>\n",
       "      <td>0.354679</td>\n",
       "      <td>18401.088445</td>\n",
       "    </tr>\n",
       "    <tr>\n",
       "      <th>504</th>\n",
       "      <td>89</td>\n",
       "      <td>30267</td>\n",
       "      <td>0.289310</td>\n",
       "      <td>14386.351880</td>\n",
       "    </tr>\n",
       "  </tbody>\n",
       "</table>\n",
       "<p>505 rows × 4 columns</p>\n",
       "</div>"
      ],
      "text/plain": [
       "     Age  Income  SpendingScore       Savings\n",
       "0     58   77769       0.791329   6559.829923\n",
       "1     59   81799       0.791082   5417.661426\n",
       "2     62   74751       0.702657   9258.992965\n",
       "3     59   74373       0.765680   7346.334504\n",
       "4     87   17760       0.348778  16869.507130\n",
       "..   ...     ...            ...           ...\n",
       "500   28  101206       0.387441  14936.775389\n",
       "501   93   19934       0.203140  17969.693769\n",
       "502   90   35297       0.355149  16091.401954\n",
       "503   91   20681       0.354679  18401.088445\n",
       "504   89   30267       0.289310  14386.351880\n",
       "\n",
       "[505 rows x 4 columns]"
      ]
     },
     "execution_count": 70,
     "metadata": {},
     "output_type": "execute_result"
    }
   ],
   "source": [
    "ds.drop_duplicates()"
   ]
  },
  {
   "cell_type": "code",
   "execution_count": 71,
   "metadata": {},
   "outputs": [
    {
     "name": "stdout",
     "output_type": "stream",
     "text": [
      "Setup Succesfully Completed!\n"
     ]
    },
    {
     "data": {
      "text/html": [
       "<style  type=\"text/css\" >\n",
       "</style><table id=\"T_2fc7b06c_34a3_11eb_9897_e23c87d3252e\" ><thead>    <tr>        <th class=\"blank level0\" ></th>        <th class=\"col_heading level0 col0\" >Description</th>        <th class=\"col_heading level0 col1\" >Value</th>    </tr></thead><tbody>\n",
       "                <tr>\n",
       "                        <th id=\"T_2fc7b06c_34a3_11eb_9897_e23c87d3252elevel0_row0\" class=\"row_heading level0 row0\" >0</th>\n",
       "                        <td id=\"T_2fc7b06c_34a3_11eb_9897_e23c87d3252erow0_col0\" class=\"data row0 col0\" >session_id </td>\n",
       "                        <td id=\"T_2fc7b06c_34a3_11eb_9897_e23c87d3252erow0_col1\" class=\"data row0 col1\" >7832</td>\n",
       "            </tr>\n",
       "            <tr>\n",
       "                        <th id=\"T_2fc7b06c_34a3_11eb_9897_e23c87d3252elevel0_row1\" class=\"row_heading level0 row1\" >1</th>\n",
       "                        <td id=\"T_2fc7b06c_34a3_11eb_9897_e23c87d3252erow1_col0\" class=\"data row1 col0\" >Original Data </td>\n",
       "                        <td id=\"T_2fc7b06c_34a3_11eb_9897_e23c87d3252erow1_col1\" class=\"data row1 col1\" >(505, 4)</td>\n",
       "            </tr>\n",
       "            <tr>\n",
       "                        <th id=\"T_2fc7b06c_34a3_11eb_9897_e23c87d3252elevel0_row2\" class=\"row_heading level0 row2\" >2</th>\n",
       "                        <td id=\"T_2fc7b06c_34a3_11eb_9897_e23c87d3252erow2_col0\" class=\"data row2 col0\" >Missing Values </td>\n",
       "                        <td id=\"T_2fc7b06c_34a3_11eb_9897_e23c87d3252erow2_col1\" class=\"data row2 col1\" >False</td>\n",
       "            </tr>\n",
       "            <tr>\n",
       "                        <th id=\"T_2fc7b06c_34a3_11eb_9897_e23c87d3252elevel0_row3\" class=\"row_heading level0 row3\" >3</th>\n",
       "                        <td id=\"T_2fc7b06c_34a3_11eb_9897_e23c87d3252erow3_col0\" class=\"data row3 col0\" >Numeric Features </td>\n",
       "                        <td id=\"T_2fc7b06c_34a3_11eb_9897_e23c87d3252erow3_col1\" class=\"data row3 col1\" >3</td>\n",
       "            </tr>\n",
       "            <tr>\n",
       "                        <th id=\"T_2fc7b06c_34a3_11eb_9897_e23c87d3252elevel0_row4\" class=\"row_heading level0 row4\" >4</th>\n",
       "                        <td id=\"T_2fc7b06c_34a3_11eb_9897_e23c87d3252erow4_col0\" class=\"data row4 col0\" >Categorical Features </td>\n",
       "                        <td id=\"T_2fc7b06c_34a3_11eb_9897_e23c87d3252erow4_col1\" class=\"data row4 col1\" >1</td>\n",
       "            </tr>\n",
       "            <tr>\n",
       "                        <th id=\"T_2fc7b06c_34a3_11eb_9897_e23c87d3252elevel0_row5\" class=\"row_heading level0 row5\" >5</th>\n",
       "                        <td id=\"T_2fc7b06c_34a3_11eb_9897_e23c87d3252erow5_col0\" class=\"data row5 col0\" >Ordinal Features </td>\n",
       "                        <td id=\"T_2fc7b06c_34a3_11eb_9897_e23c87d3252erow5_col1\" class=\"data row5 col1\" >False</td>\n",
       "            </tr>\n",
       "            <tr>\n",
       "                        <th id=\"T_2fc7b06c_34a3_11eb_9897_e23c87d3252elevel0_row6\" class=\"row_heading level0 row6\" >6</th>\n",
       "                        <td id=\"T_2fc7b06c_34a3_11eb_9897_e23c87d3252erow6_col0\" class=\"data row6 col0\" >High Cardinality Features </td>\n",
       "                        <td id=\"T_2fc7b06c_34a3_11eb_9897_e23c87d3252erow6_col1\" class=\"data row6 col1\" >False</td>\n",
       "            </tr>\n",
       "            <tr>\n",
       "                        <th id=\"T_2fc7b06c_34a3_11eb_9897_e23c87d3252elevel0_row7\" class=\"row_heading level0 row7\" >7</th>\n",
       "                        <td id=\"T_2fc7b06c_34a3_11eb_9897_e23c87d3252erow7_col0\" class=\"data row7 col0\" >Transformed Data </td>\n",
       "                        <td id=\"T_2fc7b06c_34a3_11eb_9897_e23c87d3252erow7_col1\" class=\"data row7 col1\" >(505, 4)</td>\n",
       "            </tr>\n",
       "            <tr>\n",
       "                        <th id=\"T_2fc7b06c_34a3_11eb_9897_e23c87d3252elevel0_row8\" class=\"row_heading level0 row8\" >8</th>\n",
       "                        <td id=\"T_2fc7b06c_34a3_11eb_9897_e23c87d3252erow8_col0\" class=\"data row8 col0\" >Numeric Imputer </td>\n",
       "                        <td id=\"T_2fc7b06c_34a3_11eb_9897_e23c87d3252erow8_col1\" class=\"data row8 col1\" >mean</td>\n",
       "            </tr>\n",
       "            <tr>\n",
       "                        <th id=\"T_2fc7b06c_34a3_11eb_9897_e23c87d3252elevel0_row9\" class=\"row_heading level0 row9\" >9</th>\n",
       "                        <td id=\"T_2fc7b06c_34a3_11eb_9897_e23c87d3252erow9_col0\" class=\"data row9 col0\" >Categorical Imputer </td>\n",
       "                        <td id=\"T_2fc7b06c_34a3_11eb_9897_e23c87d3252erow9_col1\" class=\"data row9 col1\" >constant</td>\n",
       "            </tr>\n",
       "            <tr>\n",
       "                        <th id=\"T_2fc7b06c_34a3_11eb_9897_e23c87d3252elevel0_row10\" class=\"row_heading level0 row10\" >10</th>\n",
       "                        <td id=\"T_2fc7b06c_34a3_11eb_9897_e23c87d3252erow10_col0\" class=\"data row10 col0\" >Normalize </td>\n",
       "                        <td id=\"T_2fc7b06c_34a3_11eb_9897_e23c87d3252erow10_col1\" class=\"data row10 col1\" >False</td>\n",
       "            </tr>\n",
       "            <tr>\n",
       "                        <th id=\"T_2fc7b06c_34a3_11eb_9897_e23c87d3252elevel0_row11\" class=\"row_heading level0 row11\" >11</th>\n",
       "                        <td id=\"T_2fc7b06c_34a3_11eb_9897_e23c87d3252erow11_col0\" class=\"data row11 col0\" >Normalize Method </td>\n",
       "                        <td id=\"T_2fc7b06c_34a3_11eb_9897_e23c87d3252erow11_col1\" class=\"data row11 col1\" >None</td>\n",
       "            </tr>\n",
       "            <tr>\n",
       "                        <th id=\"T_2fc7b06c_34a3_11eb_9897_e23c87d3252elevel0_row12\" class=\"row_heading level0 row12\" >12</th>\n",
       "                        <td id=\"T_2fc7b06c_34a3_11eb_9897_e23c87d3252erow12_col0\" class=\"data row12 col0\" >Transformation </td>\n",
       "                        <td id=\"T_2fc7b06c_34a3_11eb_9897_e23c87d3252erow12_col1\" class=\"data row12 col1\" >False</td>\n",
       "            </tr>\n",
       "            <tr>\n",
       "                        <th id=\"T_2fc7b06c_34a3_11eb_9897_e23c87d3252elevel0_row13\" class=\"row_heading level0 row13\" >13</th>\n",
       "                        <td id=\"T_2fc7b06c_34a3_11eb_9897_e23c87d3252erow13_col0\" class=\"data row13 col0\" >Transformation Method </td>\n",
       "                        <td id=\"T_2fc7b06c_34a3_11eb_9897_e23c87d3252erow13_col1\" class=\"data row13 col1\" >None</td>\n",
       "            </tr>\n",
       "            <tr>\n",
       "                        <th id=\"T_2fc7b06c_34a3_11eb_9897_e23c87d3252elevel0_row14\" class=\"row_heading level0 row14\" >14</th>\n",
       "                        <td id=\"T_2fc7b06c_34a3_11eb_9897_e23c87d3252erow14_col0\" class=\"data row14 col0\" >PCA </td>\n",
       "                        <td id=\"T_2fc7b06c_34a3_11eb_9897_e23c87d3252erow14_col1\" class=\"data row14 col1\" >False</td>\n",
       "            </tr>\n",
       "            <tr>\n",
       "                        <th id=\"T_2fc7b06c_34a3_11eb_9897_e23c87d3252elevel0_row15\" class=\"row_heading level0 row15\" >15</th>\n",
       "                        <td id=\"T_2fc7b06c_34a3_11eb_9897_e23c87d3252erow15_col0\" class=\"data row15 col0\" >PCA Method </td>\n",
       "                        <td id=\"T_2fc7b06c_34a3_11eb_9897_e23c87d3252erow15_col1\" class=\"data row15 col1\" >None</td>\n",
       "            </tr>\n",
       "            <tr>\n",
       "                        <th id=\"T_2fc7b06c_34a3_11eb_9897_e23c87d3252elevel0_row16\" class=\"row_heading level0 row16\" >16</th>\n",
       "                        <td id=\"T_2fc7b06c_34a3_11eb_9897_e23c87d3252erow16_col0\" class=\"data row16 col0\" >PCA components </td>\n",
       "                        <td id=\"T_2fc7b06c_34a3_11eb_9897_e23c87d3252erow16_col1\" class=\"data row16 col1\" >None</td>\n",
       "            </tr>\n",
       "            <tr>\n",
       "                        <th id=\"T_2fc7b06c_34a3_11eb_9897_e23c87d3252elevel0_row17\" class=\"row_heading level0 row17\" >17</th>\n",
       "                        <td id=\"T_2fc7b06c_34a3_11eb_9897_e23c87d3252erow17_col0\" class=\"data row17 col0\" >Ignore Low Variance </td>\n",
       "                        <td id=\"T_2fc7b06c_34a3_11eb_9897_e23c87d3252erow17_col1\" class=\"data row17 col1\" >False</td>\n",
       "            </tr>\n",
       "            <tr>\n",
       "                        <th id=\"T_2fc7b06c_34a3_11eb_9897_e23c87d3252elevel0_row18\" class=\"row_heading level0 row18\" >18</th>\n",
       "                        <td id=\"T_2fc7b06c_34a3_11eb_9897_e23c87d3252erow18_col0\" class=\"data row18 col0\" >Combine Rare Levels </td>\n",
       "                        <td id=\"T_2fc7b06c_34a3_11eb_9897_e23c87d3252erow18_col1\" class=\"data row18 col1\" >False</td>\n",
       "            </tr>\n",
       "            <tr>\n",
       "                        <th id=\"T_2fc7b06c_34a3_11eb_9897_e23c87d3252elevel0_row19\" class=\"row_heading level0 row19\" >19</th>\n",
       "                        <td id=\"T_2fc7b06c_34a3_11eb_9897_e23c87d3252erow19_col0\" class=\"data row19 col0\" >Rare Level Threshold </td>\n",
       "                        <td id=\"T_2fc7b06c_34a3_11eb_9897_e23c87d3252erow19_col1\" class=\"data row19 col1\" >None</td>\n",
       "            </tr>\n",
       "            <tr>\n",
       "                        <th id=\"T_2fc7b06c_34a3_11eb_9897_e23c87d3252elevel0_row20\" class=\"row_heading level0 row20\" >20</th>\n",
       "                        <td id=\"T_2fc7b06c_34a3_11eb_9897_e23c87d3252erow20_col0\" class=\"data row20 col0\" >Numeric Binning </td>\n",
       "                        <td id=\"T_2fc7b06c_34a3_11eb_9897_e23c87d3252erow20_col1\" class=\"data row20 col1\" >False</td>\n",
       "            </tr>\n",
       "            <tr>\n",
       "                        <th id=\"T_2fc7b06c_34a3_11eb_9897_e23c87d3252elevel0_row21\" class=\"row_heading level0 row21\" >21</th>\n",
       "                        <td id=\"T_2fc7b06c_34a3_11eb_9897_e23c87d3252erow21_col0\" class=\"data row21 col0\" >Remove Multicollinearity </td>\n",
       "                        <td id=\"T_2fc7b06c_34a3_11eb_9897_e23c87d3252erow21_col1\" class=\"data row21 col1\" >False</td>\n",
       "            </tr>\n",
       "            <tr>\n",
       "                        <th id=\"T_2fc7b06c_34a3_11eb_9897_e23c87d3252elevel0_row22\" class=\"row_heading level0 row22\" >22</th>\n",
       "                        <td id=\"T_2fc7b06c_34a3_11eb_9897_e23c87d3252erow22_col0\" class=\"data row22 col0\" >Multicollinearity Threshold </td>\n",
       "                        <td id=\"T_2fc7b06c_34a3_11eb_9897_e23c87d3252erow22_col1\" class=\"data row22 col1\" >None</td>\n",
       "            </tr>\n",
       "            <tr>\n",
       "                        <th id=\"T_2fc7b06c_34a3_11eb_9897_e23c87d3252elevel0_row23\" class=\"row_heading level0 row23\" >23</th>\n",
       "                        <td id=\"T_2fc7b06c_34a3_11eb_9897_e23c87d3252erow23_col0\" class=\"data row23 col0\" >Group Features </td>\n",
       "                        <td id=\"T_2fc7b06c_34a3_11eb_9897_e23c87d3252erow23_col1\" class=\"data row23 col1\" >False</td>\n",
       "            </tr>\n",
       "    </tbody></table>"
      ],
      "text/plain": [
       "<pandas.io.formats.style.Styler at 0x227eb7193c8>"
      ]
     },
     "metadata": {},
     "output_type": "display_data"
    },
    {
     "data": {
      "text/plain": [
       "(      Age    Income  SpendingScore       Savings\n",
       " 0    58.0   77769.0       0.791329   6559.829923\n",
       " 1    59.0   81799.0       0.791082   5417.661426\n",
       " 2    62.0   74751.0       0.702657   9258.992965\n",
       " 3    59.0   74373.0       0.765680   7346.334504\n",
       " 4    87.0   17760.0       0.348778  16869.507130\n",
       " ..    ...       ...            ...           ...\n",
       " 500  28.0  101206.0       0.387441  14936.775389\n",
       " 501  93.0   19934.0       0.203140  17969.693769\n",
       " 502  90.0   35297.0       0.355149  16091.401954\n",
       " 503  91.0   20681.0       0.354679  18401.088445\n",
       " 504  89.0   30267.0       0.289310  14386.351880\n",
       " \n",
       " [505 rows x 4 columns],\n",
       "      Age  Income  SpendingScore       Savings\n",
       " 0     58   77769       0.791329   6559.829923\n",
       " 1     59   81799       0.791082   5417.661426\n",
       " 2     62   74751       0.702657   9258.992965\n",
       " 3     59   74373       0.765680   7346.334504\n",
       " 4     87   17760       0.348778  16869.507130\n",
       " ..   ...     ...            ...           ...\n",
       " 500   28  101206       0.387441  14936.775389\n",
       " 501   93   19934       0.203140  17969.693769\n",
       " 502   90   35297       0.355149  16091.401954\n",
       " 503   91   20681       0.354679  18401.088445\n",
       " 504   89   30267       0.289310  14386.351880\n",
       " \n",
       " [505 rows x 4 columns],\n",
       " 7832,\n",
       " Pipeline(memory=None,\n",
       "          steps=[('dtypes',\n",
       "                  DataTypes_Auto_infer(categorical_features=[],\n",
       "                                       display_types=True, features_todrop=[],\n",
       "                                       ml_usecase='regression',\n",
       "                                       numerical_features=[],\n",
       "                                       target='dummy_target',\n",
       "                                       time_features=[])),\n",
       "                 ('imputer',\n",
       "                  Simple_Imputer(categorical_strategy='not_available',\n",
       "                                 numeric_strategy='mean',\n",
       "                                 target_variable=None)),\n",
       "                 ('new_levels1',\n",
       "                  New_Catagorical_L...\n",
       "                                                     target='dummy_target')),\n",
       "                 ('feature_time',\n",
       "                  Make_Time_Features(list_of_features=None, time_feature=[])),\n",
       "                 ('group', Empty()), ('scaling', Empty()),\n",
       "                 ('P_transform', Empty()), ('binn', Empty()),\n",
       "                 ('fix_perfect', Empty()), ('rem_outliers', Empty()),\n",
       "                 ('dummy', Dummify(target='dummy_target')),\n",
       "                 ('clean_names', Clean_Colum_Names()), ('fix_multi', Empty()),\n",
       "                 ('pca', Empty())],\n",
       "          verbose=False),\n",
       " <module 'pycaret.preprocess' from 'c:\\\\users\\\\arsh-pc\\\\appdata\\\\local\\\\programs\\\\python\\\\python37\\\\lib\\\\site-packages\\\\pycaret\\\\preprocess.py'>,\n",
       " [('Clustering Setup Config',\n",
       "                        Description     Value\n",
       "   0                    session_id       7832\n",
       "   1                 Original Data   (505, 4)\n",
       "   2                Missing Values      False\n",
       "   3              Numeric Features          3\n",
       "   4          Categorical Features          1\n",
       "   5              Ordinal Features      False\n",
       "   6     High Cardinality Features      False\n",
       "   7              Transformed Data   (505, 4)\n",
       "   8               Numeric Imputer       mean\n",
       "   9           Categorical Imputer   constant\n",
       "   10                    Normalize      False\n",
       "   11             Normalize Method       None\n",
       "   12               Transformation      False\n",
       "   13        Transformation Method       None\n",
       "   14                          PCA      False\n",
       "   15                   PCA Method       None\n",
       "   16               PCA components       None\n",
       "   17          Ignore Low Variance      False\n",
       "   18          Combine Rare Levels      False\n",
       "   19         Rare Level Threshold       None\n",
       "   20              Numeric Binning      False\n",
       "   21     Remove Multicollinearity      False\n",
       "   22  Multicollinearity Threshold       None\n",
       "   23               Group Features      False),\n",
       "  ('Orignal Dataset',\n",
       "        Age  Income  SpendingScore       Savings\n",
       "   0     58   77769       0.791329   6559.829923\n",
       "   1     59   81799       0.791082   5417.661426\n",
       "   2     62   74751       0.702657   9258.992965\n",
       "   3     59   74373       0.765680   7346.334504\n",
       "   4     87   17760       0.348778  16869.507130\n",
       "   ..   ...     ...            ...           ...\n",
       "   500   28  101206       0.387441  14936.775389\n",
       "   501   93   19934       0.203140  17969.693769\n",
       "   502   90   35297       0.355149  16091.401954\n",
       "   503   91   20681       0.354679  18401.088445\n",
       "   504   89   30267       0.289310  14386.351880\n",
       "   \n",
       "   [505 rows x 4 columns]),\n",
       "  ('Transformed Dataset',\n",
       "         Age    Income  SpendingScore       Savings\n",
       "   0    58.0   77769.0       0.791329   6559.829923\n",
       "   1    59.0   81799.0       0.791082   5417.661426\n",
       "   2    62.0   74751.0       0.702657   9258.992965\n",
       "   3    59.0   74373.0       0.765680   7346.334504\n",
       "   4    87.0   17760.0       0.348778  16869.507130\n",
       "   ..    ...       ...            ...           ...\n",
       "   500  28.0  101206.0       0.387441  14936.775389\n",
       "   501  93.0   19934.0       0.203140  17969.693769\n",
       "   502  90.0   35297.0       0.355149  16091.401954\n",
       "   503  91.0   20681.0       0.354679  18401.088445\n",
       "   504  89.0   30267.0       0.289310  14386.351880\n",
       "   \n",
       "   [505 rows x 4 columns]),\n",
       "  ('Transformation Pipeline',\n",
       "   Pipeline(memory=None,\n",
       "            steps=[('dtypes',\n",
       "                    DataTypes_Auto_infer(categorical_features=[],\n",
       "                                         display_types=True, features_todrop=[],\n",
       "                                         ml_usecase='regression',\n",
       "                                         numerical_features=[],\n",
       "                                         target='dummy_target',\n",
       "                                         time_features=[])),\n",
       "                   ('imputer',\n",
       "                    Simple_Imputer(categorical_strategy='not_available',\n",
       "                                   numeric_strategy='mean',\n",
       "                                   target_variable=None)),\n",
       "                   ('new_levels1',\n",
       "                    New_Catagorical_L...\n",
       "                                                       target='dummy_target')),\n",
       "                   ('feature_time',\n",
       "                    Make_Time_Features(list_of_features=None, time_feature=[])),\n",
       "                   ('group', Empty()), ('scaling', Empty()),\n",
       "                   ('P_transform', Empty()), ('binn', Empty()),\n",
       "                   ('fix_perfect', Empty()), ('rem_outliers', Empty()),\n",
       "                   ('dummy', Dummify(target='dummy_target')),\n",
       "                   ('clean_names', Clean_Colum_Names()), ('fix_multi', Empty()),\n",
       "                   ('pca', Empty())],\n",
       "            verbose=False))],\n",
       " -1,\n",
       " True,\n",
       " 'no_logging',\n",
       " False,\n",
       " False,\n",
       " '0e7b')"
      ]
     },
     "execution_count": 71,
     "metadata": {},
     "output_type": "execute_result"
    }
   ],
   "source": [
    "setup(data = ds)"
   ]
  },
  {
   "cell_type": "code",
   "execution_count": 72,
   "metadata": {},
   "outputs": [
    {
     "data": {
      "text/html": [
       "<div>\n",
       "<style scoped>\n",
       "    .dataframe tbody tr th:only-of-type {\n",
       "        vertical-align: middle;\n",
       "    }\n",
       "\n",
       "    .dataframe tbody tr th {\n",
       "        vertical-align: top;\n",
       "    }\n",
       "\n",
       "    .dataframe thead th {\n",
       "        text-align: right;\n",
       "    }\n",
       "</style>\n",
       "<table border=\"1\" class=\"dataframe\">\n",
       "  <thead>\n",
       "    <tr style=\"text-align: right;\">\n",
       "      <th></th>\n",
       "      <th>Metric</th>\n",
       "    </tr>\n",
       "  </thead>\n",
       "  <tbody>\n",
       "    <tr>\n",
       "      <th>Silhouette</th>\n",
       "      <td>0.7207</td>\n",
       "    </tr>\n",
       "    <tr>\n",
       "      <th>Calinski-Harabasz</th>\n",
       "      <td>5011.8115</td>\n",
       "    </tr>\n",
       "    <tr>\n",
       "      <th>Davies-Bouldin</th>\n",
       "      <td>0.4114</td>\n",
       "    </tr>\n",
       "  </tbody>\n",
       "</table>\n",
       "</div>"
      ],
      "text/plain": [
       "                      Metric\n",
       "Silhouette            0.7207\n",
       "Calinski-Harabasz  5011.8115\n",
       "Davies-Bouldin        0.4114"
      ]
     },
     "metadata": {},
     "output_type": "display_data"
    }
   ],
   "source": [
    "km = create_model('kmeans')"
   ]
  },
  {
   "cell_type": "code",
   "execution_count": 74,
   "metadata": {},
   "outputs": [
    {
     "data": {
      "text/html": [
       "        <script type=\"text/javascript\">\n",
       "        window.PlotlyConfig = {MathJaxConfig: 'local'};\n",
       "        if (window.MathJax) {MathJax.Hub.Config({SVG: {font: \"STIX-Web\"}});}\n",
       "        if (typeof require !== 'undefined') {\n",
       "        require.undef(\"plotly\");\n",
       "        requirejs.config({\n",
       "            paths: {\n",
       "                'plotly': ['https://cdn.plot.ly/plotly-latest.min']\n",
       "            }\n",
       "        });\n",
       "        require(['plotly'], function(Plotly) {\n",
       "            window._Plotly = Plotly;\n",
       "        });\n",
       "        }\n",
       "        </script>\n",
       "        "
      ]
     },
     "metadata": {},
     "output_type": "display_data"
    },
    {
     "data": {
      "application/vnd.plotly.v1+json": {
       "config": {
        "plotlyServerURL": "https://plot.ly"
       },
       "data": [
        {
         "customdata": [
          [
           58
          ],
          [
           58
          ],
          [
           55
          ],
          [
           60
          ],
          [
           56
          ],
          [
           60
          ],
          [
           58
          ],
          [
           56
          ],
          [
           64
          ],
          [
           63
          ],
          [
           62
          ],
          [
           59
          ],
          [
           67
          ],
          [
           58
          ],
          [
           58
          ],
          [
           57
          ],
          [
           66
          ],
          [
           64
          ],
          [
           59
          ],
          [
           68
          ],
          [
           61
          ],
          [
           64
          ],
          [
           63
          ],
          [
           55
          ],
          [
           57
          ],
          [
           57
          ],
          [
           53
          ],
          [
           61
          ],
          [
           61
          ],
          [
           62
          ],
          [
           62
          ],
          [
           62
          ],
          [
           60
          ],
          [
           65
          ],
          [
           60
          ],
          [
           63
          ],
          [
           56
          ],
          [
           58
          ],
          [
           62
          ],
          [
           56
          ],
          [
           59
          ],
          [
           65
          ],
          [
           62
          ],
          [
           59
          ],
          [
           66
          ],
          [
           64
          ],
          [
           62
          ],
          [
           61
          ],
          [
           56
          ],
          [
           62
          ],
          [
           60
          ],
          [
           62
          ],
          [
           64
          ],
          [
           63
          ],
          [
           58
          ],
          [
           59
          ],
          [
           59
          ],
          [
           59
          ],
          [
           59
          ],
          [
           55
          ],
          [
           51
          ],
          [
           57
          ],
          [
           61
          ],
          [
           60
          ],
          [
           64
          ],
          [
           65
          ],
          [
           59
          ],
          [
           58
          ],
          [
           63
          ],
          [
           61
          ],
          [
           59
          ],
          [
           56
          ],
          [
           61
          ],
          [
           63
          ],
          [
           58
          ],
          [
           62
          ],
          [
           60
          ],
          [
           62
          ],
          [
           65
          ],
          [
           59
          ],
          [
           65
          ],
          [
           58
          ],
          [
           61
          ],
          [
           66
          ],
          [
           58
          ],
          [
           68
          ],
          [
           58
          ],
          [
           67
          ],
          [
           58
          ],
          [
           56
          ],
          [
           61
          ],
          [
           56
          ],
          [
           61
          ],
          [
           59
          ],
          [
           62
          ],
          [
           59
          ],
          [
           59
          ],
          [
           59
          ],
          [
           57
          ],
          [
           59
          ],
          [
           64
          ],
          [
           61
          ],
          [
           63
          ],
          [
           56
          ],
          [
           59
          ],
          [
           58
          ],
          [
           61
          ],
          [
           55
          ],
          [
           59
          ],
          [
           60
          ],
          [
           60
          ],
          [
           67
          ],
          [
           57
          ],
          [
           56
          ],
          [
           67
          ],
          [
           63
          ],
          [
           57
          ],
          [
           59
          ],
          [
           61
          ],
          [
           59
          ],
          [
           64
          ],
          [
           62
          ],
          [
           55
          ],
          [
           54
          ],
          [
           61
          ],
          [
           58
          ],
          [
           59
          ],
          [
           53
          ],
          [
           55
          ],
          [
           58
          ],
          [
           58
          ],
          [
           61
          ],
          [
           62
          ],
          [
           57
          ],
          [
           56
          ],
          [
           61
          ],
          [
           59
          ],
          [
           60
          ],
          [
           61
          ],
          [
           66
          ],
          [
           58
          ],
          [
           63
          ],
          [
           58
          ],
          [
           60
          ],
          [
           62
          ],
          [
           66
          ],
          [
           59
          ],
          [
           56
          ],
          [
           59
          ],
          [
           64
          ],
          [
           61
          ],
          [
           57
          ],
          [
           55
          ],
          [
           53
          ],
          [
           57
          ],
          [
           55
          ]
         ],
         "hovertemplate": "Cluster=Cluster 0<br>PCA1=%{x}<br>PCA2=%{y}<br>Feature=%{customdata[0]}<extra></extra>",
         "legendgroup": "Cluster 0",
         "marker": {
          "color": "#636efa",
          "opacity": 0.5,
          "symbol": "circle"
         },
         "mode": "markers",
         "name": "Cluster 0",
         "orientation": "v",
         "showlegend": true,
         "textposition": "top center",
         "type": "scatter",
         "x": [
          2555.7842351601794,
          8122.080380415535,
          871.0561448640374,
          -7740.904879089721,
          -15159.90191624567,
          -9955.599000501968,
          5073.487356522336,
          -7927.279393999564,
          -10817.514881421737,
          -182.87509706290282,
          -12401.01261442263,
          384.4886537787778,
          -15876.014194933867,
          2392.951400013222,
          -4856.160277619086,
          -9604.976101231397,
          -3578.6411667637353,
          3594.0424216908227,
          -5713.3044750317185,
          2456.1149429108755,
          -4025.5345868614977,
          1223.333284206349,
          -18377.080919160886,
          -1254.7961050822842,
          1380.9095854822526,
          -5506.504775277304,
          -284.9346161317539,
          -1867.5011952055156,
          -4335.121223668245,
          -8175.944783841654,
          -11570.013629472289,
          -12594.17524212853,
          -3881.279223544833,
          -9447.566957019659,
          -4595.725467462928,
          5567.478117111795,
          9121.208329826168,
          499.49661809612985,
          -4176.722631704313,
          -6529.597912750257,
          -7423.928769536232,
          -9153.99210091784,
          4864.683651412988,
          -7249.0281297969295,
          7325.256189492683,
          1198.2155272857167,
          -6945.490220855902,
          -5628.983771409209,
          -6874.447300583781,
          3175.7301008876725,
          -10072.875118803535,
          -5806.077052611823,
          11039.026942031698,
          -5414.849621380296,
          3385.822049131313,
          -3902.6507601274097,
          277.3194547180308,
          -18832.323089995094,
          -7793.454352086526,
          -10419.65072709327,
          -3127.7464754071884,
          -3147.9716901024035,
          3607.6218475354385,
          -805.518284046699,
          -12402.614006035734,
          -811.2733012583082,
          -7981.746810683434,
          2868.6753358918036,
          7034.566991846867,
          -7827.504392605748,
          -7225.6566514965525,
          -9823.292971418656,
          -3197.7706749317117,
          -4661.643199436445,
          -4588.8456828873295,
          -1424.2968527852572,
          -11770.096221904687,
          -7431.169946592951,
          -4794.730185972462,
          -5787.584457334291,
          -4114.665812502666,
          -4883.720561797814,
          -967.1345292294866,
          1855.0479869186768,
          3333.037008198885,
          -6270.1300577046395,
          -6075.723945911873,
          3574.8676282851225,
          834.6063416853473,
          375.61202524740867,
          -3222.028497117649,
          3735.222300120537,
          -9600.009525716892,
          2663.814142724254,
          -5898.7444796811515,
          -6051.79802714964,
          5619.125538763618,
          -2220.635450610068,
          -10371.487057071718,
          -1864.5940590614487,
          -3536.6248996188683,
          -9270.98324611397,
          -7793.211508914162,
          5122.282562298911,
          7017.4072298069395,
          4968.764645874565,
          -6214.354917756379,
          1547.91243955942,
          -1709.0067116984405,
          -5149.414552966316,
          -9176.939917160445,
          5679.935032255548,
          4615.604589783885,
          -1755.366356398994,
          -6586.375015596345,
          -2329.616759752772,
          -1148.5927138363206,
          -9514.742122293766,
          -6112.701966838939,
          -860.4354477953815,
          -14757.626854505606,
          -5414.451723823098,
          -3652.0516272195196,
          1270.5926186365057,
          -11385.807297750882,
          -5327.512619806887,
          -5495.930030665687,
          1535.3200349238562,
          -4197.995995572507,
          1797.8692846207487,
          -907.669087609122,
          -1006.7942808927021,
          -1710.0091006297807,
          4241.775895153039,
          -11393.264281389038,
          -3354.409395492052,
          -2601.8696283459503,
          -5228.773548143099,
          1691.1469990054961,
          -2630.7941352081853,
          -4333.35317149532,
          10499.407295945568,
          -4972.9221411299695,
          4848.44276438797,
          -611.8920766835481,
          -10238.837928743038,
          -879.6961231840237,
          11129.424149229595,
          6644.59761279822,
          13091.37415351667,
          -2009.7086141751752,
          106.44730782999252,
          3442.0678654010403,
          -13124.391604038403,
          1381.2925438038883,
          -847.3002227743443
         ],
         "xaxis": "x",
         "y": [
          5164.690387393576,
          4731.012058760933,
          5689.000453091916,
          5133.639471687392,
          5573.243592768734,
          4085.312250446126,
          5244.436809348922,
          5673.5277286108085,
          6677.482101590944,
          4411.324353776289,
          6731.622371228149,
          6845.141814371284,
          7337.462584330774,
          5992.6840941097125,
          6861.841710581512,
          5517.456998799797,
          4687.331305792249,
          5244.2237675362085,
          6098.407171499213,
          5539.97825427613,
          5644.552199614275,
          5666.367954752706,
          5086.374324713109,
          6380.915494292798,
          5567.112673818738,
          6298.43017886774,
          4064.0083360808126,
          2685.6626854367987,
          2658.297518890416,
          5599.274828311299,
          6393.5849274602415,
          5058.593507665872,
          3532.7508016456395,
          6026.370137728775,
          4575.315245883319,
          6399.679457928582,
          4076.188863858502,
          4450.572465085806,
          5121.948177991025,
          5174.0600160707545,
          5595.425208078434,
          6237.455006749804,
          4834.953991865892,
          5030.10150990485,
          5245.750156657968,
          6031.597780098124,
          5240.28369762661,
          3413.460990034037,
          3266.4701832643827,
          4727.079813055354,
          7033.832306225478,
          5686.132349951813,
          4384.687289531574,
          4509.378948047734,
          4513.159427781262,
          5499.339332721772,
          5152.077722121318,
          6823.253328040572,
          5788.853893383753,
          5982.858221439137,
          5318.28199362223,
          5506.996622913865,
          4852.444518767343,
          4348.095679784142,
          4277.420432790434,
          4771.515153180698,
          3467.565974911423,
          5223.642330390362,
          3374.2871342934304,
          5701.697575023517,
          4564.617621855321,
          6862.247572080615,
          5127.94926128046,
          4875.412034392047,
          4468.268102563846,
          7267.328542397009,
          5001.420783196855,
          6342.036901878033,
          5174.470545977298,
          5711.628393266975,
          3078.8964384945957,
          4688.370746949261,
          4638.724240674155,
          5468.7432742866995,
          4012.2154933423185,
          5401.821696967173,
          3500.5964543132573,
          6638.18948814305,
          5141.101367432595,
          5049.60629694778,
          4129.18118941636,
          4370.4678288227215,
          4923.281603355226,
          3399.120354730326,
          5205.840154213883,
          6221.683453940024,
          4314.803908984973,
          4177.140129281854,
          6211.274488459205,
          5267.352553209781,
          5070.413098436329,
          5996.5491526534,
          6334.243251982052,
          3424.073603905292,
          5588.800602998209,
          3943.117073633916,
          8154.200533863815,
          3973.906997486516,
          3684.6952959403616,
          5556.666139133824,
          7146.662858252786,
          4711.285967238696,
          5713.442041909508,
          4273.205301847639,
          4795.659622307601,
          6502.207882775598,
          6154.51860618152,
          5484.0622101307545,
          7150.265686204216,
          1366.2175061913922,
          5008.012103778611,
          6401.496850378563,
          4298.147934215803,
          4918.861099714741,
          5239.834486252135,
          5507.674538617938,
          5033.927181148628,
          6617.143404468863,
          4646.423038232098,
          3616.906622264866,
          4662.571801362165,
          6827.7367522808745,
          5692.0917043594045,
          4854.3736115380125,
          4760.726683836126,
          4039.0497082186116,
          5720.063910631853,
          4906.821369117013,
          4305.605513370144,
          5512.809888472105,
          6791.121727987135,
          4092.586810582499,
          5053.974394482311,
          6716.3892700823335,
          2642.856462873313,
          7423.315368546441,
          4574.0298524802365,
          2451.395645635495,
          6074.108821940054,
          3878.0740056043564,
          4571.3116018885175,
          5019.545071865864,
          3293.925709825788,
          5122.298575466138,
          5207.221097509015,
          5435.293808150469
         ],
         "yaxis": "y"
        },
        {
         "customdata": [
          [
           88
          ],
          [
           21
          ],
          [
           26
          ],
          [
           25
          ],
          [
           23
          ],
          [
           20
          ],
          [
           30
          ],
          [
           17
          ],
          [
           24
          ],
          [
           29
          ],
          [
           29
          ],
          [
           25
          ],
          [
           23
          ],
          [
           87
          ],
          [
           85
          ],
          [
           22
          ],
          [
           83
          ],
          [
           25
          ],
          [
           83
          ],
          [
           90
          ],
          [
           18
          ],
          [
           17
          ],
          [
           24
          ],
          [
           20
          ],
          [
           20
          ],
          [
           23
          ],
          [
           91
          ],
          [
           26
          ],
          [
           77
          ],
          [
           21
          ],
          [
           83
          ],
          [
           28
          ],
          [
           28
          ],
          [
           29
          ],
          [
           24
          ],
          [
           90
          ],
          [
           28
          ],
          [
           25
          ],
          [
           34
          ],
          [
           89
          ],
          [
           27
          ],
          [
           27
          ],
          [
           22
          ],
          [
           82
          ],
          [
           92
          ],
          [
           26
          ],
          [
           93
          ],
          [
           17
          ],
          [
           28
          ],
          [
           24
          ],
          [
           24
          ],
          [
           26
          ],
          [
           24
          ],
          [
           18
          ],
          [
           32
          ],
          [
           26
          ],
          [
           28
          ],
          [
           23
          ],
          [
           28
          ],
          [
           29
          ],
          [
           82
          ],
          [
           17
          ],
          [
           86
          ],
          [
           27
          ],
          [
           88
          ],
          [
           84
          ],
          [
           24
          ],
          [
           86
          ],
          [
           25
          ],
          [
           25
          ],
          [
           31
          ],
          [
           22
          ]
         ],
         "hovertemplate": "Cluster=Cluster 1<br>PCA1=%{x}<br>PCA2=%{y}<br>Feature=%{customdata[0]}<extra></extra>",
         "legendgroup": "Cluster 1",
         "marker": {
          "color": "#EF553B",
          "opacity": 0.5,
          "symbol": "circle"
         },
         "mode": "markers",
         "name": "Cluster 1",
         "orientation": "v",
         "showlegend": true,
         "textposition": "top center",
         "type": "scatter",
         "x": [
          47964.55226138689,
          54542.56026091127,
          50397.08389773134,
          55168.451545061864,
          54778.91990969144,
          54230.3114204766,
          47549.762546227066,
          59798.1748284997,
          59239.85352839813,
          43600.21618030976,
          47210.611284129605,
          45728.401144344105,
          51395.2243559995,
          41859.154369975586,
          42414.13984409392,
          58984.55027496726,
          41580.27174463821,
          62912.45709780568,
          43629.01273923753,
          48410.00929047228,
          55587.351730733586,
          59803.04557919298,
          53976.790002631285,
          47415.38916240533,
          53899.23405997957,
          63317.0665324429,
          43084.431301068355,
          56651.45548374745,
          52844.214540832116,
          48602.571111840196,
          42157.80542870098,
          41933.8763490921,
          53924.59703955876,
          66750.62108457653,
          59196.5930863391,
          42045.79570257138,
          48029.2359829609,
          55809.608259939785,
          44074.74432267948,
          43861.74709102549,
          46271.74999066811,
          47518.88131856792,
          57857.28905692229,
          45920.30384600758,
          47182.06858155579,
          52086.380658927206,
          50874.59373315182,
          48697.32854440994,
          52465.033586659905,
          52263.494108744446,
          45280.296457487624,
          47842.883679066494,
          55795.99791496394,
          48551.89779119264,
          41328.25266330998,
          51532.47005840449,
          48281.96476402188,
          45049.713037748465,
          46000.80248469954,
          56449.67813828139,
          50433.85138453332,
          61085.161815426894,
          52679.137422450585,
          49923.2324025863,
          44952.90203538893,
          46993.64108790837,
          61617.2560218572,
          48577.24594456367,
          55783.42885801489,
          53422.55248570123,
          47836.44839182684,
          45302.570904167434
         ],
         "xaxis": "x",
         "y": [
          -4397.186114919683,
          4193.882999372309,
          2890.5509685647066,
          4016.9816222016175,
          4629.791365281101,
          3238.4287703236864,
          3437.896482394783,
          4315.75179255907,
          4745.1445891248095,
          -5657.4788315200085,
          6674.234677495923,
          3658.3065012522234,
          5657.241494980822,
          -4543.326267067202,
          -5432.28181950965,
          3350.711617933648,
          -5615.560772408646,
          5261.355213266393,
          -6254.840941209131,
          -5693.665441157454,
          3427.135195258812,
          8450.307562492619,
          5488.3899845821115,
          4709.38880763183,
          3176.7468854090926,
          4946.177510120512,
          -4660.855622444514,
          4271.292185091139,
          -5677.667475551917,
          6249.537360930088,
          -5954.454601851149,
          4717.9972052376115,
          5765.842845736471,
          2693.0081866217533,
          3903.9749268153723,
          -3106.1034758683627,
          5422.323757682567,
          3879.1497332626604,
          -6307.669140625981,
          -6877.035883382075,
          4207.4147966121855,
          4941.9993629732735,
          5717.501137167645,
          -4953.921129423367,
          -4557.716601791882,
          3388.427034681377,
          -5178.052813440077,
          5282.497809754313,
          3371.533065013101,
          5916.358054129835,
          4437.356566167744,
          4758.188729714919,
          4252.897540706999,
          4668.214697412175,
          -4823.645899335599,
          6006.733833662536,
          8499.966944599812,
          4590.872583456109,
          3884.4528513190876,
          5101.3986973675255,
          -6854.206134077961,
          4243.721728508767,
          -4749.05702571537,
          6048.724079227712,
          -4985.514801220402,
          -4647.129088588655,
          6726.313750520617,
          -6305.307759672737,
          4732.087714707711,
          3894.2354791277517,
          6059.983323374554,
          3778.18142130961
         ],
         "yaxis": "y"
        },
        {
         "customdata": [
          [
           84
          ],
          [
           90
          ],
          [
           84
          ],
          [
           90
          ],
          [
           91
          ],
          [
           86
          ],
          [
           94
          ],
          [
           90
          ],
          [
           86
          ],
          [
           88
          ],
          [
           87
          ],
          [
           84
          ],
          [
           87
          ],
          [
           93
          ],
          [
           86
          ],
          [
           91
          ],
          [
           91
          ],
          [
           87
          ],
          [
           92
          ],
          [
           88
          ],
          [
           89
          ],
          [
           87
          ],
          [
           93
          ],
          [
           91
          ],
          [
           84
          ],
          [
           97
          ],
          [
           90
          ],
          [
           92
          ],
          [
           92
          ],
          [
           82
          ],
          [
           87
          ],
          [
           87
          ],
          [
           83
          ],
          [
           92
          ],
          [
           89
          ],
          [
           87
          ],
          [
           88
          ],
          [
           92
          ],
          [
           87
          ],
          [
           88
          ],
          [
           87
          ],
          [
           82
          ],
          [
           90
          ],
          [
           89
          ],
          [
           90
          ],
          [
           89
          ],
          [
           86
          ],
          [
           79
          ],
          [
           91
          ],
          [
           82
          ],
          [
           85
          ],
          [
           85
          ],
          [
           86
          ],
          [
           79
          ],
          [
           83
          ],
          [
           83
          ],
          [
           91
          ],
          [
           84
          ],
          [
           90
          ],
          [
           83
          ],
          [
           88
          ],
          [
           91
          ],
          [
           87
          ],
          [
           91
          ],
          [
           92
          ],
          [
           84
          ],
          [
           87
          ],
          [
           86
          ],
          [
           89
          ],
          [
           94
          ],
          [
           94
          ],
          [
           86
          ],
          [
           84
          ],
          [
           85
          ],
          [
           89
          ],
          [
           89
          ],
          [
           91
          ],
          [
           83
          ],
          [
           88
          ],
          [
           83
          ],
          [
           91
          ],
          [
           84
          ],
          [
           81
          ],
          [
           91
          ],
          [
           92
          ],
          [
           85
          ],
          [
           91
          ],
          [
           82
          ],
          [
           83
          ],
          [
           86
          ],
          [
           83
          ],
          [
           94
          ],
          [
           83
          ],
          [
           94
          ],
          [
           82
          ],
          [
           85
          ],
          [
           85
          ],
          [
           89
          ],
          [
           89
          ],
          [
           84
          ],
          [
           87
          ],
          [
           88
          ],
          [
           87
          ],
          [
           87
          ],
          [
           94
          ],
          [
           88
          ],
          [
           88
          ],
          [
           85
          ],
          [
           94
          ],
          [
           95
          ],
          [
           88
          ],
          [
           86
          ],
          [
           85
          ],
          [
           92
          ],
          [
           87
          ],
          [
           89
          ],
          [
           89
          ],
          [
           85
          ],
          [
           88
          ],
          [
           93
          ],
          [
           91
          ],
          [
           84
          ],
          [
           87
          ],
          [
           88
          ],
          [
           85
          ],
          [
           91
          ],
          [
           90
          ],
          [
           88
          ],
          [
           85
          ],
          [
           91
          ],
          [
           90
          ],
          [
           88
          ],
          [
           84
          ],
          [
           90
          ],
          [
           87
          ],
          [
           91
          ],
          [
           88
          ],
          [
           89
          ],
          [
           88
          ],
          [
           91
          ],
          [
           84
          ],
          [
           83
          ],
          [
           84
          ],
          [
           87
          ],
          [
           91
          ],
          [
           90
          ],
          [
           88
          ]
         ],
         "hovertemplate": "Cluster=Cluster 2<br>PCA1=%{x}<br>PCA2=%{y}<br>Feature=%{customdata[0]}<extra></extra>",
         "legendgroup": "Cluster 2",
         "marker": {
          "color": "#00cc96",
          "opacity": 0.5,
          "symbol": "circle"
         },
         "mode": "markers",
         "name": "Cluster 2",
         "orientation": "v",
         "showlegend": true,
         "textposition": "top center",
         "type": "scatter",
         "x": [
          -51590.97205811302,
          -53514.36608306823,
          -57516.273183636404,
          -52877.38164603334,
          -47591.22511121998,
          -56854.24491468408,
          -56820.087553604215,
          -40392.52353813574,
          -52219.78891026324,
          -49206.072979236196,
          -52745.271995073796,
          -45243.335995709785,
          -45504.92821664384,
          -55837.896212559055,
          -43811.47262039386,
          -44891.726940178145,
          -63634.72200273953,
          -45889.161245283925,
          -39730.754923731954,
          -40724.15688509663,
          -48762.36466827118,
          -63656.3475899801,
          -58127.50387027,
          -39063.286676190895,
          -39255.47386551346,
          -48338.704662619304,
          -42253.872877958216,
          -56895.33602609462,
          -53329.0889086379,
          -42172.091423728125,
          -59885.18345080086,
          -33223.78792758688,
          -48890.162042831624,
          -42194.798734952405,
          -41047.376366850294,
          -49083.98904448345,
          -57888.98693798615,
          -40276.448131089535,
          -45592.662714596445,
          -44316.3909761365,
          -44207.36919669003,
          -42152.50281937874,
          -38257.012522678684,
          -47490.05337363705,
          -51240.79467490207,
          -53680.72058527788,
          -60035.355735186284,
          -43219.57063079795,
          -52957.61629178095,
          -51335.69636219801,
          -53905.33080870666,
          -47211.30921897938,
          -39708.64698966347,
          -37510.58801132115,
          -57495.82751822275,
          -45148.06214608788,
          -46108.564418073096,
          -55003.11473536293,
          -46621.67518992086,
          -41229.085326467895,
          -53103.84791289729,
          -48496.84792497304,
          -57945.29400939377,
          -47000.171708792885,
          -53120.540708745786,
          -48329.37521986341,
          -50055.78756429354,
          -48031.60033869832,
          -50446.68725850557,
          -51858.952852259725,
          -36822.88272990106,
          -46897.28720484183,
          -48086.4716150678,
          -54413.15855352473,
          -45316.58140609554,
          -49610.67501015967,
          -38870.672641380326,
          -41183.652071657096,
          -58306.89374121131,
          -47148.049506652584,
          -49855.36023906115,
          -48254.00622992488,
          -41272.89533986178,
          -55116.83601816836,
          -39882.02333138302,
          -44945.69901444298,
          -58771.33010043616,
          -51459.51350546342,
          -45053.50115134015,
          -39916.59061152688,
          -52508.30353343571,
          -48448.18982139339,
          -42546.309287033815,
          -54957.490989172315,
          -43231.47790879878,
          -40907.251477988066,
          -46522.91941975115,
          -44680.89350931922,
          -55368.98427568008,
          -48469.75822555576,
          -51191.183110267935,
          -42334.047671506334,
          -57176.86780610603,
          -49618.56425158388,
          -47975.629894303675,
          -42594.24300193296,
          -47129.844163420596,
          -49427.5241370261,
          -47366.649393097105,
          -48754.553222931434,
          -56178.67327005175,
          -28705.212826769803,
          -47927.756153353235,
          -42805.174693662266,
          -49952.56386424753,
          -56491.7261616014,
          -42432.64509966225,
          -47271.4132762421,
          -57750.75774612387,
          -55300.438356116465,
          -49274.44239615929,
          -33685.823037835,
          -44821.27195537092,
          -41654.28537091671,
          -46206.76070917286,
          -46752.17189114907,
          -45508.35388587766,
          -46888.40589877374,
          -41090.43271162364,
          -48867.33422412473,
          -42485.19893050837,
          -47339.94733410824,
          -37730.76934060816,
          -42382.69883203619,
          -28723.991919566,
          -50504.82314273768,
          -49640.516333935884,
          -51006.62596717178,
          -43012.76978349139,
          -45489.12002421862,
          -53484.99044797619,
          -47072.83270827877,
          -46294.69652581508,
          -52350.13688160766,
          -51304.420791210185,
          -50029.0486734844,
          -48459.578853164654
         ],
         "xaxis": "x",
         "y": [
          -1709.6809922654018,
          -3511.6505427575585,
          -2662.237917413056,
          -1034.0462861180674,
          -2876.016821854162,
          -1039.8869670204479,
          -2626.494760123041,
          -1918.0706539765356,
          -361.8228772290582,
          646.5438723752061,
          -3270.250012030127,
          -2386.7446703879696,
          -1656.4250558163044,
          -2913.1513261933915,
          -3844.050642994284,
          -1059.5099705589155,
          -958.5365645110743,
          -3656.8600405231205,
          -3215.3117531036187,
          -3403.3549980948787,
          -1902.303752571811,
          -672.1303645870973,
          -3329.4241557503888,
          -2178.951260878267,
          -2456.0624695072047,
          -296.94791022013504,
          -2813.4088657561024,
          -219.83567344031903,
          -3704.1152030668836,
          -3482.9509244203136,
          968.182184170178,
          -4327.5998004040275,
          -3117.043572435123,
          -2831.244972649777,
          163.0086019424072,
          -2706.9542458595415,
          -2297.4104284560135,
          -3159.4030652887395,
          -1858.741542867274,
          -1681.107809398615,
          -1788.5950192551384,
          -3595.426499455154,
          -3209.705699855121,
          -1025.6556377131571,
          -337.58311029945713,
          -1523.153182779475,
          -2067.7852022028565,
          -982.6374045457418,
          -512.1681616652345,
          -2253.324954790312,
          776.7213551828829,
          -497.02873214681387,
          -2812.640832274526,
          -2385.9306735999717,
          -874.5938320396226,
          -918.4435413744565,
          -4704.9007181400775,
          -1806.3716349634747,
          -1061.3928297006273,
          -559.8887343311549,
          -1838.664645556659,
          -1255.0231217175187,
          -1690.2235244245394,
          -3258.5927312494296,
          -2373.9068521136146,
          -2106.9565485318562,
          -458.7329379734674,
          -2520.8796709258977,
          -1789.8310613735046,
          -1998.3145148841256,
          -3004.135925035732,
          -1500.599753550345,
          -3267.664533478744,
          -1055.9968931753672,
          72.34189620852611,
          -2494.346015854769,
          -4966.632983631631,
          -2299.177576458251,
          -1498.3070625903993,
          -948.1700320034128,
          -2551.6409458672997,
          -3586.392912339362,
          -2039.0519450914776,
          -3386.631387427836,
          -3145.8388116696306,
          -2663.436303414359,
          -1946.4256348815318,
          -1443.6312210611654,
          -3267.8530880659673,
          -5860.406970913431,
          -2003.3795586148926,
          -424.4944516024695,
          -2323.9550250667417,
          -1273.0340909671531,
          -2464.366506729347,
          -2247.7230980697595,
          -2395.15062032791,
          -3320.2381091067427,
          -990.607597031653,
          -975.0110199269354,
          -2999.048136853006,
          -946.4427010468263,
          -500.3822260290336,
          -1200.4987085746998,
          -2697.4806496368715,
          -4573.13594967613,
          -2166.9455265130237,
          -3282.496783689516,
          -2226.5238835946834,
          -3476.7575329414076,
          -1450.7318688866605,
          -2125.5165732968326,
          1139.0677249894102,
          -2383.9235864924353,
          -1016.3628176053348,
          -1529.9495201383822,
          -2804.3175987818167,
          -1422.2632521531452,
          -1546.7860227984638,
          -2379.4453929525343,
          -1819.1411133435656,
          -2359.9810608524367,
          -809.2478504066129,
          -1284.2763352326008,
          -3972.437291114198,
          -4260.667936777424,
          -1716.0957515179934,
          -1747.2845158743746,
          -2507.468037848858,
          -3330.0950893142626,
          -1573.1293339464685,
          -2756.210456765215,
          -3447.522865699352,
          -1026.2178281219412,
          -1283.2493416842196,
          -2541.1040744024203,
          -2403.452656500527,
          1229.634202103802,
          -2388.397515567186,
          -857.2365574199106,
          -2964.871161538943,
          -3652.143022077504,
          -3445.140762666876,
          -1271.8366968001812,
          -1341.6421504993361,
          -2907.7981801354913,
          -623.0248233972334
         ],
         "yaxis": "y"
        },
        {
         "customdata": [
          [
           34
          ],
          [
           35
          ],
          [
           29
          ],
          [
           32
          ],
          [
           30
          ],
          [
           33
          ],
          [
           34
          ],
          [
           35
          ],
          [
           28
          ],
          [
           31
          ],
          [
           35
          ],
          [
           32
          ],
          [
           30
          ],
          [
           37
          ],
          [
           29
          ],
          [
           22
          ],
          [
           30
          ],
          [
           29
          ],
          [
           28
          ],
          [
           36
          ],
          [
           28
          ],
          [
           36
          ],
          [
           31
          ],
          [
           28
          ],
          [
           33
          ],
          [
           31
          ],
          [
           85
          ],
          [
           33
          ],
          [
           36
          ],
          [
           86
          ],
          [
           30
          ],
          [
           34
          ],
          [
           27
          ],
          [
           28
          ],
          [
           31
          ],
          [
           33
          ],
          [
           32
          ],
          [
           28
          ],
          [
           32
          ],
          [
           30
          ],
          [
           38
          ],
          [
           35
          ],
          [
           37
          ],
          [
           31
          ],
          [
           31
          ],
          [
           31
          ],
          [
           31
          ],
          [
           33
          ],
          [
           34
          ],
          [
           32
          ],
          [
           30
          ],
          [
           30
          ],
          [
           35
          ],
          [
           33
          ],
          [
           40
          ],
          [
           42
          ],
          [
           37
          ],
          [
           25
          ],
          [
           34
          ],
          [
           84
          ],
          [
           43
          ],
          [
           28
          ],
          [
           36
          ],
          [
           37
          ],
          [
           37
          ],
          [
           35
          ],
          [
           31
          ],
          [
           36
          ],
          [
           31
          ],
          [
           29
          ],
          [
           33
          ],
          [
           36
          ],
          [
           30
          ],
          [
           36
          ],
          [
           34
          ],
          [
           37
          ],
          [
           35
          ],
          [
           35
          ],
          [
           88
          ],
          [
           31
          ],
          [
           30
          ],
          [
           33
          ],
          [
           31
          ],
          [
           31
          ],
          [
           33
          ],
          [
           26
          ],
          [
           24
          ],
          [
           29
          ],
          [
           33
          ],
          [
           39
          ],
          [
           37
          ],
          [
           29
          ],
          [
           37
          ],
          [
           29
          ],
          [
           33
          ],
          [
           34
          ],
          [
           84
          ],
          [
           44
          ],
          [
           31
          ],
          [
           31
          ],
          [
           25
          ],
          [
           36
          ],
          [
           29
          ],
          [
           29
          ],
          [
           38
          ],
          [
           39
          ],
          [
           32
          ],
          [
           36
          ],
          [
           29
          ],
          [
           34
          ],
          [
           31
          ],
          [
           37
          ],
          [
           84
          ],
          [
           34
          ],
          [
           33
          ],
          [
           35
          ],
          [
           36
          ],
          [
           31
          ],
          [
           39
          ],
          [
           37
          ],
          [
           38
          ],
          [
           31
          ],
          [
           35
          ],
          [
           59
          ],
          [
           33
          ],
          [
           30
          ],
          [
           33
          ],
          [
           34
          ],
          [
           38
          ],
          [
           30
          ]
         ],
         "hovertemplate": "Cluster=Cluster 3<br>PCA1=%{x}<br>PCA2=%{y}<br>Feature=%{customdata[0]}<extra></extra>",
         "legendgroup": "Cluster 3",
         "marker": {
          "color": "#ab63fa",
          "opacity": 0.5,
          "symbol": "circle"
         },
         "mode": "markers",
         "name": "Cluster 3",
         "orientation": "v",
         "showlegend": true,
         "textposition": "top center",
         "type": "scatter",
         "x": [
          23196.213306438225,
          32691.86956168572,
          26312.372968927524,
          26023.566351406153,
          20486.14069594545,
          23896.36880790408,
          31502.36034296822,
          26578.15319626618,
          22236.16947437228,
          28681.54988758575,
          31317.298064553695,
          19785.994393274672,
          25376.693266073158,
          31202.41268247607,
          30268.705481263285,
          33345.15627123118,
          22224.556143435286,
          35711.07999432945,
          25474.402763797287,
          26071.981181359246,
          23858.59824002342,
          28639.385002450483,
          40419.576695104144,
          36260.39985707386,
          31045.220255678778,
          25363.919226720413,
          35579.2058158063,
          31361.08526779913,
          23967.006087975617,
          39941.23737509608,
          24294.808478346324,
          23022.21826312664,
          31016.952770667864,
          19017.169464917504,
          32307.93672914093,
          40849.48059769063,
          32572.750272366186,
          24827.978780545967,
          34753.148485730795,
          32149.92129268287,
          39399.40138181148,
          34360.48180735056,
          34830.86603735357,
          23748.677815454044,
          32345.70842870058,
          32322.908553122463,
          31330.343984524767,
          36008.72535912231,
          26507.042872359903,
          26343.67867390245,
          30614.165778553557,
          31911.001239366324,
          28912.895136199942,
          30046.48908092605,
          23032.680124651262,
          31253.468530449412,
          22105.034591078256,
          25765.79004232835,
          14006.0009653654,
          39513.273555432395,
          25938.050496756237,
          33379.42058468909,
          29861.546669621443,
          30949.636901997932,
          32912.89206331583,
          37194.90227907419,
          37228.73474520067,
          24491.388898644724,
          30148.68267391608,
          40673.85964432745,
          38869.64945267168,
          32210.9797686424,
          26298.14841024672,
          22350.76981632157,
          22393.41773018013,
          21900.78530003276,
          41298.631292835045,
          26003.522431925612,
          38847.16976776078,
          35758.275435536685,
          32797.64366935493,
          30584.124615113236,
          25732.344972190545,
          32416.93987389554,
          24613.75198032611,
          21973.307950443825,
          34815.25492053805,
          15764.49143141583,
          19295.267686809562,
          24706.12835284515,
          32289.54020716664,
          35036.7158554872,
          35023.21627080028,
          26228.37628643619,
          16918.676201100123,
          27456.913266673106,
          38543.62512292868,
          38938.11813871434,
          29210.556946439687,
          26983.046364278187,
          30950.101839682393,
          33203.84256888802,
          27412.69140542123,
          36813.76713420395,
          28960.634964946767,
          24819.360949497743,
          30836.978307627433,
          34060.87750047383,
          23392.942046850585,
          28627.259856400295,
          29240.50974864809,
          32853.06228369525,
          34834.90179465996,
          35572.71538685354,
          32561.025360063293,
          30806.77634195278,
          20592.34661300776,
          39135.37622313005,
          23470.847033328017,
          31960.754514207256,
          37939.71700891233,
          35187.91053468464,
          30155.334159636983,
          15177.31971466767,
          25328.069962281672,
          31614.442565419085,
          22258.608668569897,
          27758.387575808203,
          18943.372817813033,
          33217.92661094809
         ],
         "xaxis": "x",
         "y": [
          -5613.714946473871,
          -6066.4571229345775,
          -4286.405360287333,
          -7172.334785619936,
          -4804.2037003568,
          -4653.5725508840405,
          -5081.205331963824,
          -4542.181472406769,
          -4400.042331000772,
          -4194.112454577069,
          -6141.7632635534965,
          -4699.391527469763,
          -3922.3292073945413,
          -4006.8807824041246,
          -4917.675594824387,
          -6080.299826048203,
          -5737.014216399172,
          -4543.481105344736,
          -4541.161711915865,
          -4687.7646194954505,
          -4857.997302514553,
          -3130.9505393461027,
          -6642.233640263949,
          -3890.3447962612577,
          -4354.880673536976,
          -6518.8777436186265,
          -6195.256515402733,
          -4837.589604607755,
          -5918.696393593378,
          -5237.495032301008,
          -3156.174867738151,
          -4439.122859420632,
          -4865.004407317279,
          -4587.056600403996,
          -3401.081521768778,
          -5591.430862352509,
          -6711.005814772027,
          -5088.608312301609,
          -4008.5890127539014,
          -5508.945169399096,
          -5202.090344164469,
          -5038.816440742177,
          -5377.229021116216,
          -4085.387888540779,
          -2201.720436215354,
          -3681.290385681804,
          -5635.163544619187,
          -6111.7051713952615,
          -5484.674656121098,
          -3863.006874934306,
          -4762.434912619338,
          -2672.9112969661533,
          -5224.554435670845,
          -2733.109485171264,
          -5461.179044520955,
          -4792.820172444664,
          -4346.187741550611,
          -4647.515091833699,
          -1775.6050399833514,
          -4805.682520520943,
          -4054.2528418970855,
          -4139.053044046939,
          -4210.491742797324,
          -4397.197322284793,
          -4588.664684244311,
          -4030.486076235751,
          -4575.537648425253,
          -3378.5440905478695,
          -3727.6412226852462,
          -5771.827716588531,
          -4117.836047019013,
          -5806.3623666589,
          -5023.038755192273,
          -5405.1923800705135,
          -5150.746928288214,
          -5234.914435436248,
          -6422.0650063113535,
          -3786.13364247153,
          -8209.639308093878,
          -4122.472097486012,
          -5654.546848389321,
          -5198.651743783723,
          -4846.280009746118,
          -3316.873784519851,
          -3288.4642893518344,
          -5227.972306159951,
          -5108.281670571713,
          -2149.1522120766226,
          -3266.6501002799127,
          -6304.286871577944,
          -3634.3413606407403,
          -6415.6995362262505,
          -4416.577273256118,
          -4266.484164687801,
          -2877.1946078768765,
          -4868.312164441829,
          -7198.063753004443,
          -4443.169815276389,
          -6286.356908964105,
          -2897.4181107781196,
          -6274.399407676459,
          -6552.893169384945,
          -5970.65960581778,
          -4615.4621298706315,
          -5439.902381792011,
          -6443.116567478201,
          -4248.41099877993,
          -5075.678351149007,
          -5117.926369906291,
          -3324.8164217780163,
          -5240.709879901141,
          -5910.595724540105,
          -5079.540930731751,
          -4807.665202226777,
          -5658.529147335399,
          -5560.204679600004,
          -4611.587648361574,
          -4339.707016425756,
          -4720.2489254083885,
          -7950.13767990454,
          -4683.440281859752,
          -4164.858385743974,
          -6491.845916302066,
          4253.670268811266,
          -4507.818852759072,
          -3948.413153701508,
          -5195.925409188555,
          -3524.6018820414947,
          -6099.926511675162,
          -4387.404636496326
         ],
         "yaxis": "y"
        }
       ],
       "layout": {
        "height": 600,
        "legend": {
         "title": {
          "text": "Cluster"
         },
         "tracegroupgap": 0
        },
        "margin": {
         "t": 60
        },
        "plot_bgcolor": "rgb(240,240,240)",
        "template": {
         "data": {
          "bar": [
           {
            "error_x": {
             "color": "#2a3f5f"
            },
            "error_y": {
             "color": "#2a3f5f"
            },
            "marker": {
             "line": {
              "color": "#E5ECF6",
              "width": 0.5
             }
            },
            "type": "bar"
           }
          ],
          "barpolar": [
           {
            "marker": {
             "line": {
              "color": "#E5ECF6",
              "width": 0.5
             }
            },
            "type": "barpolar"
           }
          ],
          "carpet": [
           {
            "aaxis": {
             "endlinecolor": "#2a3f5f",
             "gridcolor": "white",
             "linecolor": "white",
             "minorgridcolor": "white",
             "startlinecolor": "#2a3f5f"
            },
            "baxis": {
             "endlinecolor": "#2a3f5f",
             "gridcolor": "white",
             "linecolor": "white",
             "minorgridcolor": "white",
             "startlinecolor": "#2a3f5f"
            },
            "type": "carpet"
           }
          ],
          "choropleth": [
           {
            "colorbar": {
             "outlinewidth": 0,
             "ticks": ""
            },
            "type": "choropleth"
           }
          ],
          "contour": [
           {
            "colorbar": {
             "outlinewidth": 0,
             "ticks": ""
            },
            "colorscale": [
             [
              0,
              "#0d0887"
             ],
             [
              0.1111111111111111,
              "#46039f"
             ],
             [
              0.2222222222222222,
              "#7201a8"
             ],
             [
              0.3333333333333333,
              "#9c179e"
             ],
             [
              0.4444444444444444,
              "#bd3786"
             ],
             [
              0.5555555555555556,
              "#d8576b"
             ],
             [
              0.6666666666666666,
              "#ed7953"
             ],
             [
              0.7777777777777778,
              "#fb9f3a"
             ],
             [
              0.8888888888888888,
              "#fdca26"
             ],
             [
              1,
              "#f0f921"
             ]
            ],
            "type": "contour"
           }
          ],
          "contourcarpet": [
           {
            "colorbar": {
             "outlinewidth": 0,
             "ticks": ""
            },
            "type": "contourcarpet"
           }
          ],
          "heatmap": [
           {
            "colorbar": {
             "outlinewidth": 0,
             "ticks": ""
            },
            "colorscale": [
             [
              0,
              "#0d0887"
             ],
             [
              0.1111111111111111,
              "#46039f"
             ],
             [
              0.2222222222222222,
              "#7201a8"
             ],
             [
              0.3333333333333333,
              "#9c179e"
             ],
             [
              0.4444444444444444,
              "#bd3786"
             ],
             [
              0.5555555555555556,
              "#d8576b"
             ],
             [
              0.6666666666666666,
              "#ed7953"
             ],
             [
              0.7777777777777778,
              "#fb9f3a"
             ],
             [
              0.8888888888888888,
              "#fdca26"
             ],
             [
              1,
              "#f0f921"
             ]
            ],
            "type": "heatmap"
           }
          ],
          "heatmapgl": [
           {
            "colorbar": {
             "outlinewidth": 0,
             "ticks": ""
            },
            "colorscale": [
             [
              0,
              "#0d0887"
             ],
             [
              0.1111111111111111,
              "#46039f"
             ],
             [
              0.2222222222222222,
              "#7201a8"
             ],
             [
              0.3333333333333333,
              "#9c179e"
             ],
             [
              0.4444444444444444,
              "#bd3786"
             ],
             [
              0.5555555555555556,
              "#d8576b"
             ],
             [
              0.6666666666666666,
              "#ed7953"
             ],
             [
              0.7777777777777778,
              "#fb9f3a"
             ],
             [
              0.8888888888888888,
              "#fdca26"
             ],
             [
              1,
              "#f0f921"
             ]
            ],
            "type": "heatmapgl"
           }
          ],
          "histogram": [
           {
            "marker": {
             "colorbar": {
              "outlinewidth": 0,
              "ticks": ""
             }
            },
            "type": "histogram"
           }
          ],
          "histogram2d": [
           {
            "colorbar": {
             "outlinewidth": 0,
             "ticks": ""
            },
            "colorscale": [
             [
              0,
              "#0d0887"
             ],
             [
              0.1111111111111111,
              "#46039f"
             ],
             [
              0.2222222222222222,
              "#7201a8"
             ],
             [
              0.3333333333333333,
              "#9c179e"
             ],
             [
              0.4444444444444444,
              "#bd3786"
             ],
             [
              0.5555555555555556,
              "#d8576b"
             ],
             [
              0.6666666666666666,
              "#ed7953"
             ],
             [
              0.7777777777777778,
              "#fb9f3a"
             ],
             [
              0.8888888888888888,
              "#fdca26"
             ],
             [
              1,
              "#f0f921"
             ]
            ],
            "type": "histogram2d"
           }
          ],
          "histogram2dcontour": [
           {
            "colorbar": {
             "outlinewidth": 0,
             "ticks": ""
            },
            "colorscale": [
             [
              0,
              "#0d0887"
             ],
             [
              0.1111111111111111,
              "#46039f"
             ],
             [
              0.2222222222222222,
              "#7201a8"
             ],
             [
              0.3333333333333333,
              "#9c179e"
             ],
             [
              0.4444444444444444,
              "#bd3786"
             ],
             [
              0.5555555555555556,
              "#d8576b"
             ],
             [
              0.6666666666666666,
              "#ed7953"
             ],
             [
              0.7777777777777778,
              "#fb9f3a"
             ],
             [
              0.8888888888888888,
              "#fdca26"
             ],
             [
              1,
              "#f0f921"
             ]
            ],
            "type": "histogram2dcontour"
           }
          ],
          "mesh3d": [
           {
            "colorbar": {
             "outlinewidth": 0,
             "ticks": ""
            },
            "type": "mesh3d"
           }
          ],
          "parcoords": [
           {
            "line": {
             "colorbar": {
              "outlinewidth": 0,
              "ticks": ""
             }
            },
            "type": "parcoords"
           }
          ],
          "pie": [
           {
            "automargin": true,
            "type": "pie"
           }
          ],
          "scatter": [
           {
            "marker": {
             "colorbar": {
              "outlinewidth": 0,
              "ticks": ""
             }
            },
            "type": "scatter"
           }
          ],
          "scatter3d": [
           {
            "line": {
             "colorbar": {
              "outlinewidth": 0,
              "ticks": ""
             }
            },
            "marker": {
             "colorbar": {
              "outlinewidth": 0,
              "ticks": ""
             }
            },
            "type": "scatter3d"
           }
          ],
          "scattercarpet": [
           {
            "marker": {
             "colorbar": {
              "outlinewidth": 0,
              "ticks": ""
             }
            },
            "type": "scattercarpet"
           }
          ],
          "scattergeo": [
           {
            "marker": {
             "colorbar": {
              "outlinewidth": 0,
              "ticks": ""
             }
            },
            "type": "scattergeo"
           }
          ],
          "scattergl": [
           {
            "marker": {
             "colorbar": {
              "outlinewidth": 0,
              "ticks": ""
             }
            },
            "type": "scattergl"
           }
          ],
          "scattermapbox": [
           {
            "marker": {
             "colorbar": {
              "outlinewidth": 0,
              "ticks": ""
             }
            },
            "type": "scattermapbox"
           }
          ],
          "scatterpolar": [
           {
            "marker": {
             "colorbar": {
              "outlinewidth": 0,
              "ticks": ""
             }
            },
            "type": "scatterpolar"
           }
          ],
          "scatterpolargl": [
           {
            "marker": {
             "colorbar": {
              "outlinewidth": 0,
              "ticks": ""
             }
            },
            "type": "scatterpolargl"
           }
          ],
          "scatterternary": [
           {
            "marker": {
             "colorbar": {
              "outlinewidth": 0,
              "ticks": ""
             }
            },
            "type": "scatterternary"
           }
          ],
          "surface": [
           {
            "colorbar": {
             "outlinewidth": 0,
             "ticks": ""
            },
            "colorscale": [
             [
              0,
              "#0d0887"
             ],
             [
              0.1111111111111111,
              "#46039f"
             ],
             [
              0.2222222222222222,
              "#7201a8"
             ],
             [
              0.3333333333333333,
              "#9c179e"
             ],
             [
              0.4444444444444444,
              "#bd3786"
             ],
             [
              0.5555555555555556,
              "#d8576b"
             ],
             [
              0.6666666666666666,
              "#ed7953"
             ],
             [
              0.7777777777777778,
              "#fb9f3a"
             ],
             [
              0.8888888888888888,
              "#fdca26"
             ],
             [
              1,
              "#f0f921"
             ]
            ],
            "type": "surface"
           }
          ],
          "table": [
           {
            "cells": {
             "fill": {
              "color": "#EBF0F8"
             },
             "line": {
              "color": "white"
             }
            },
            "header": {
             "fill": {
              "color": "#C8D4E3"
             },
             "line": {
              "color": "white"
             }
            },
            "type": "table"
           }
          ]
         },
         "layout": {
          "annotationdefaults": {
           "arrowcolor": "#2a3f5f",
           "arrowhead": 0,
           "arrowwidth": 1
          },
          "coloraxis": {
           "colorbar": {
            "outlinewidth": 0,
            "ticks": ""
           }
          },
          "colorscale": {
           "diverging": [
            [
             0,
             "#8e0152"
            ],
            [
             0.1,
             "#c51b7d"
            ],
            [
             0.2,
             "#de77ae"
            ],
            [
             0.3,
             "#f1b6da"
            ],
            [
             0.4,
             "#fde0ef"
            ],
            [
             0.5,
             "#f7f7f7"
            ],
            [
             0.6,
             "#e6f5d0"
            ],
            [
             0.7,
             "#b8e186"
            ],
            [
             0.8,
             "#7fbc41"
            ],
            [
             0.9,
             "#4d9221"
            ],
            [
             1,
             "#276419"
            ]
           ],
           "sequential": [
            [
             0,
             "#0d0887"
            ],
            [
             0.1111111111111111,
             "#46039f"
            ],
            [
             0.2222222222222222,
             "#7201a8"
            ],
            [
             0.3333333333333333,
             "#9c179e"
            ],
            [
             0.4444444444444444,
             "#bd3786"
            ],
            [
             0.5555555555555556,
             "#d8576b"
            ],
            [
             0.6666666666666666,
             "#ed7953"
            ],
            [
             0.7777777777777778,
             "#fb9f3a"
            ],
            [
             0.8888888888888888,
             "#fdca26"
            ],
            [
             1,
             "#f0f921"
            ]
           ],
           "sequentialminus": [
            [
             0,
             "#0d0887"
            ],
            [
             0.1111111111111111,
             "#46039f"
            ],
            [
             0.2222222222222222,
             "#7201a8"
            ],
            [
             0.3333333333333333,
             "#9c179e"
            ],
            [
             0.4444444444444444,
             "#bd3786"
            ],
            [
             0.5555555555555556,
             "#d8576b"
            ],
            [
             0.6666666666666666,
             "#ed7953"
            ],
            [
             0.7777777777777778,
             "#fb9f3a"
            ],
            [
             0.8888888888888888,
             "#fdca26"
            ],
            [
             1,
             "#f0f921"
            ]
           ]
          },
          "colorway": [
           "#636efa",
           "#EF553B",
           "#00cc96",
           "#ab63fa",
           "#FFA15A",
           "#19d3f3",
           "#FF6692",
           "#B6E880",
           "#FF97FF",
           "#FECB52"
          ],
          "font": {
           "color": "#2a3f5f"
          },
          "geo": {
           "bgcolor": "white",
           "lakecolor": "white",
           "landcolor": "#E5ECF6",
           "showlakes": true,
           "showland": true,
           "subunitcolor": "white"
          },
          "hoverlabel": {
           "align": "left"
          },
          "hovermode": "closest",
          "mapbox": {
           "style": "light"
          },
          "paper_bgcolor": "white",
          "plot_bgcolor": "#E5ECF6",
          "polar": {
           "angularaxis": {
            "gridcolor": "white",
            "linecolor": "white",
            "ticks": ""
           },
           "bgcolor": "#E5ECF6",
           "radialaxis": {
            "gridcolor": "white",
            "linecolor": "white",
            "ticks": ""
           }
          },
          "scene": {
           "xaxis": {
            "backgroundcolor": "#E5ECF6",
            "gridcolor": "white",
            "gridwidth": 2,
            "linecolor": "white",
            "showbackground": true,
            "ticks": "",
            "zerolinecolor": "white"
           },
           "yaxis": {
            "backgroundcolor": "#E5ECF6",
            "gridcolor": "white",
            "gridwidth": 2,
            "linecolor": "white",
            "showbackground": true,
            "ticks": "",
            "zerolinecolor": "white"
           },
           "zaxis": {
            "backgroundcolor": "#E5ECF6",
            "gridcolor": "white",
            "gridwidth": 2,
            "linecolor": "white",
            "showbackground": true,
            "ticks": "",
            "zerolinecolor": "white"
           }
          },
          "shapedefaults": {
           "line": {
            "color": "#2a3f5f"
           }
          },
          "ternary": {
           "aaxis": {
            "gridcolor": "white",
            "linecolor": "white",
            "ticks": ""
           },
           "baxis": {
            "gridcolor": "white",
            "linecolor": "white",
            "ticks": ""
           },
           "bgcolor": "#E5ECF6",
           "caxis": {
            "gridcolor": "white",
            "linecolor": "white",
            "ticks": ""
           }
          },
          "title": {
           "x": 0.05
          },
          "xaxis": {
           "automargin": true,
           "gridcolor": "white",
           "linecolor": "white",
           "ticks": "",
           "title": {
            "standoff": 15
           },
           "zerolinecolor": "white",
           "zerolinewidth": 2
          },
          "yaxis": {
           "automargin": true,
           "gridcolor": "white",
           "linecolor": "white",
           "ticks": "",
           "title": {
            "standoff": 15
           },
           "zerolinecolor": "white",
           "zerolinewidth": 2
          }
         }
        },
        "title": {
         "text": "2D Cluster PCA Plot"
        },
        "xaxis": {
         "anchor": "y",
         "domain": [
          0,
          1
         ],
         "title": {
          "text": "PCA1"
         }
        },
        "yaxis": {
         "anchor": "x",
         "domain": [
          0,
          1
         ],
         "title": {
          "text": "PCA2"
         }
        }
       }
      },
      "text/html": [
       "<div>                            <div id=\"d587073f-448f-4c53-b70a-aa938a8a83ed\" class=\"plotly-graph-div\" style=\"height:600px; width:100%;\"></div>            <script type=\"text/javascript\">                require([\"plotly\"], function(Plotly) {                    window.PLOTLYENV=window.PLOTLYENV || {};                                    if (document.getElementById(\"d587073f-448f-4c53-b70a-aa938a8a83ed\")) {                    Plotly.newPlot(                        \"d587073f-448f-4c53-b70a-aa938a8a83ed\",                        [{\"customdata\": [[58], [58], [55], [60], [56], [60], [58], [56], [64], [63], [62], [59], [67], [58], [58], [57], [66], [64], [59], [68], [61], [64], [63], [55], [57], [57], [53], [61], [61], [62], [62], [62], [60], [65], [60], [63], [56], [58], [62], [56], [59], [65], [62], [59], [66], [64], [62], [61], [56], [62], [60], [62], [64], [63], [58], [59], [59], [59], [59], [55], [51], [57], [61], [60], [64], [65], [59], [58], [63], [61], [59], [56], [61], [63], [58], [62], [60], [62], [65], [59], [65], [58], [61], [66], [58], [68], [58], [67], [58], [56], [61], [56], [61], [59], [62], [59], [59], [59], [57], [59], [64], [61], [63], [56], [59], [58], [61], [55], [59], [60], [60], [67], [57], [56], [67], [63], [57], [59], [61], [59], [64], [62], [55], [54], [61], [58], [59], [53], [55], [58], [58], [61], [62], [57], [56], [61], [59], [60], [61], [66], [58], [63], [58], [60], [62], [66], [59], [56], [59], [64], [61], [57], [55], [53], [57], [55]], \"hovertemplate\": \"Cluster=Cluster 0<br>PCA1=%{x}<br>PCA2=%{y}<br>Feature=%{customdata[0]}<extra></extra>\", \"legendgroup\": \"Cluster 0\", \"marker\": {\"color\": \"#636efa\", \"opacity\": 0.5, \"symbol\": \"circle\"}, \"mode\": \"markers\", \"name\": \"Cluster 0\", \"orientation\": \"v\", \"showlegend\": true, \"textposition\": \"top center\", \"type\": \"scatter\", \"x\": [2555.7842351601794, 8122.080380415535, 871.0561448640374, -7740.904879089721, -15159.90191624567, -9955.599000501968, 5073.487356522336, -7927.279393999564, -10817.514881421737, -182.87509706290282, -12401.01261442263, 384.4886537787778, -15876.014194933867, 2392.951400013222, -4856.160277619086, -9604.976101231397, -3578.6411667637353, 3594.0424216908227, -5713.3044750317185, 2456.1149429108755, -4025.5345868614977, 1223.333284206349, -18377.080919160886, -1254.7961050822842, 1380.9095854822526, -5506.504775277304, -284.9346161317539, -1867.5011952055156, -4335.121223668245, -8175.944783841654, -11570.013629472289, -12594.17524212853, -3881.279223544833, -9447.566957019659, -4595.725467462928, 5567.478117111795, 9121.208329826168, 499.49661809612985, -4176.722631704313, -6529.597912750257, -7423.928769536232, -9153.99210091784, 4864.683651412988, -7249.0281297969295, 7325.256189492683, 1198.2155272857167, -6945.490220855902, -5628.983771409209, -6874.447300583781, 3175.7301008876725, -10072.875118803535, -5806.077052611823, 11039.026942031698, -5414.849621380296, 3385.822049131313, -3902.6507601274097, 277.3194547180308, -18832.323089995094, -7793.454352086526, -10419.65072709327, -3127.7464754071884, -3147.9716901024035, 3607.6218475354385, -805.518284046699, -12402.614006035734, -811.2733012583082, -7981.746810683434, 2868.6753358918036, 7034.566991846867, -7827.504392605748, -7225.6566514965525, -9823.292971418656, -3197.7706749317117, -4661.643199436445, -4588.8456828873295, -1424.2968527852572, -11770.096221904687, -7431.169946592951, -4794.730185972462, -5787.584457334291, -4114.665812502666, -4883.720561797814, -967.1345292294866, 1855.0479869186768, 3333.037008198885, -6270.1300577046395, -6075.723945911873, 3574.8676282851225, 834.6063416853473, 375.61202524740867, -3222.028497117649, 3735.222300120537, -9600.009525716892, 2663.814142724254, -5898.7444796811515, -6051.79802714964, 5619.125538763618, -2220.635450610068, -10371.487057071718, -1864.5940590614487, -3536.6248996188683, -9270.98324611397, -7793.211508914162, 5122.282562298911, 7017.4072298069395, 4968.764645874565, -6214.354917756379, 1547.91243955942, -1709.0067116984405, -5149.414552966316, -9176.939917160445, 5679.935032255548, 4615.604589783885, -1755.366356398994, -6586.375015596345, -2329.616759752772, -1148.5927138363206, -9514.742122293766, -6112.701966838939, -860.4354477953815, -14757.626854505606, -5414.451723823098, -3652.0516272195196, 1270.5926186365057, -11385.807297750882, -5327.512619806887, -5495.930030665687, 1535.3200349238562, -4197.995995572507, 1797.8692846207487, -907.669087609122, -1006.7942808927021, -1710.0091006297807, 4241.775895153039, -11393.264281389038, -3354.409395492052, -2601.8696283459503, -5228.773548143099, 1691.1469990054961, -2630.7941352081853, -4333.35317149532, 10499.407295945568, -4972.9221411299695, 4848.44276438797, -611.8920766835481, -10238.837928743038, -879.6961231840237, 11129.424149229595, 6644.59761279822, 13091.37415351667, -2009.7086141751752, 106.44730782999252, 3442.0678654010403, -13124.391604038403, 1381.2925438038883, -847.3002227743443], \"xaxis\": \"x\", \"y\": [5164.690387393576, 4731.012058760933, 5689.000453091916, 5133.639471687392, 5573.243592768734, 4085.312250446126, 5244.436809348922, 5673.5277286108085, 6677.482101590944, 4411.324353776289, 6731.622371228149, 6845.141814371284, 7337.462584330774, 5992.6840941097125, 6861.841710581512, 5517.456998799797, 4687.331305792249, 5244.2237675362085, 6098.407171499213, 5539.97825427613, 5644.552199614275, 5666.367954752706, 5086.374324713109, 6380.915494292798, 5567.112673818738, 6298.43017886774, 4064.0083360808126, 2685.6626854367987, 2658.297518890416, 5599.274828311299, 6393.5849274602415, 5058.593507665872, 3532.7508016456395, 6026.370137728775, 4575.315245883319, 6399.679457928582, 4076.188863858502, 4450.572465085806, 5121.948177991025, 5174.0600160707545, 5595.425208078434, 6237.455006749804, 4834.953991865892, 5030.10150990485, 5245.750156657968, 6031.597780098124, 5240.28369762661, 3413.460990034037, 3266.4701832643827, 4727.079813055354, 7033.832306225478, 5686.132349951813, 4384.687289531574, 4509.378948047734, 4513.159427781262, 5499.339332721772, 5152.077722121318, 6823.253328040572, 5788.853893383753, 5982.858221439137, 5318.28199362223, 5506.996622913865, 4852.444518767343, 4348.095679784142, 4277.420432790434, 4771.515153180698, 3467.565974911423, 5223.642330390362, 3374.2871342934304, 5701.697575023517, 4564.617621855321, 6862.247572080615, 5127.94926128046, 4875.412034392047, 4468.268102563846, 7267.328542397009, 5001.420783196855, 6342.036901878033, 5174.470545977298, 5711.628393266975, 3078.8964384945957, 4688.370746949261, 4638.724240674155, 5468.7432742866995, 4012.2154933423185, 5401.821696967173, 3500.5964543132573, 6638.18948814305, 5141.101367432595, 5049.60629694778, 4129.18118941636, 4370.4678288227215, 4923.281603355226, 3399.120354730326, 5205.840154213883, 6221.683453940024, 4314.803908984973, 4177.140129281854, 6211.274488459205, 5267.352553209781, 5070.413098436329, 5996.5491526534, 6334.243251982052, 3424.073603905292, 5588.800602998209, 3943.117073633916, 8154.200533863815, 3973.906997486516, 3684.6952959403616, 5556.666139133824, 7146.662858252786, 4711.285967238696, 5713.442041909508, 4273.205301847639, 4795.659622307601, 6502.207882775598, 6154.51860618152, 5484.0622101307545, 7150.265686204216, 1366.2175061913922, 5008.012103778611, 6401.496850378563, 4298.147934215803, 4918.861099714741, 5239.834486252135, 5507.674538617938, 5033.927181148628, 6617.143404468863, 4646.423038232098, 3616.906622264866, 4662.571801362165, 6827.7367522808745, 5692.0917043594045, 4854.3736115380125, 4760.726683836126, 4039.0497082186116, 5720.063910631853, 4906.821369117013, 4305.605513370144, 5512.809888472105, 6791.121727987135, 4092.586810582499, 5053.974394482311, 6716.3892700823335, 2642.856462873313, 7423.315368546441, 4574.0298524802365, 2451.395645635495, 6074.108821940054, 3878.0740056043564, 4571.3116018885175, 5019.545071865864, 3293.925709825788, 5122.298575466138, 5207.221097509015, 5435.293808150469], \"yaxis\": \"y\"}, {\"customdata\": [[88], [21], [26], [25], [23], [20], [30], [17], [24], [29], [29], [25], [23], [87], [85], [22], [83], [25], [83], [90], [18], [17], [24], [20], [20], [23], [91], [26], [77], [21], [83], [28], [28], [29], [24], [90], [28], [25], [34], [89], [27], [27], [22], [82], [92], [26], [93], [17], [28], [24], [24], [26], [24], [18], [32], [26], [28], [23], [28], [29], [82], [17], [86], [27], [88], [84], [24], [86], [25], [25], [31], [22]], \"hovertemplate\": \"Cluster=Cluster 1<br>PCA1=%{x}<br>PCA2=%{y}<br>Feature=%{customdata[0]}<extra></extra>\", \"legendgroup\": \"Cluster 1\", \"marker\": {\"color\": \"#EF553B\", \"opacity\": 0.5, \"symbol\": \"circle\"}, \"mode\": \"markers\", \"name\": \"Cluster 1\", \"orientation\": \"v\", \"showlegend\": true, \"textposition\": \"top center\", \"type\": \"scatter\", \"x\": [47964.55226138689, 54542.56026091127, 50397.08389773134, 55168.451545061864, 54778.91990969144, 54230.3114204766, 47549.762546227066, 59798.1748284997, 59239.85352839813, 43600.21618030976, 47210.611284129605, 45728.401144344105, 51395.2243559995, 41859.154369975586, 42414.13984409392, 58984.55027496726, 41580.27174463821, 62912.45709780568, 43629.01273923753, 48410.00929047228, 55587.351730733586, 59803.04557919298, 53976.790002631285, 47415.38916240533, 53899.23405997957, 63317.0665324429, 43084.431301068355, 56651.45548374745, 52844.214540832116, 48602.571111840196, 42157.80542870098, 41933.8763490921, 53924.59703955876, 66750.62108457653, 59196.5930863391, 42045.79570257138, 48029.2359829609, 55809.608259939785, 44074.74432267948, 43861.74709102549, 46271.74999066811, 47518.88131856792, 57857.28905692229, 45920.30384600758, 47182.06858155579, 52086.380658927206, 50874.59373315182, 48697.32854440994, 52465.033586659905, 52263.494108744446, 45280.296457487624, 47842.883679066494, 55795.99791496394, 48551.89779119264, 41328.25266330998, 51532.47005840449, 48281.96476402188, 45049.713037748465, 46000.80248469954, 56449.67813828139, 50433.85138453332, 61085.161815426894, 52679.137422450585, 49923.2324025863, 44952.90203538893, 46993.64108790837, 61617.2560218572, 48577.24594456367, 55783.42885801489, 53422.55248570123, 47836.44839182684, 45302.570904167434], \"xaxis\": \"x\", \"y\": [-4397.186114919683, 4193.882999372309, 2890.5509685647066, 4016.9816222016175, 4629.791365281101, 3238.4287703236864, 3437.896482394783, 4315.75179255907, 4745.1445891248095, -5657.4788315200085, 6674.234677495923, 3658.3065012522234, 5657.241494980822, -4543.326267067202, -5432.28181950965, 3350.711617933648, -5615.560772408646, 5261.355213266393, -6254.840941209131, -5693.665441157454, 3427.135195258812, 8450.307562492619, 5488.3899845821115, 4709.38880763183, 3176.7468854090926, 4946.177510120512, -4660.855622444514, 4271.292185091139, -5677.667475551917, 6249.537360930088, -5954.454601851149, 4717.9972052376115, 5765.842845736471, 2693.0081866217533, 3903.9749268153723, -3106.1034758683627, 5422.323757682567, 3879.1497332626604, -6307.669140625981, -6877.035883382075, 4207.4147966121855, 4941.9993629732735, 5717.501137167645, -4953.921129423367, -4557.716601791882, 3388.427034681377, -5178.052813440077, 5282.497809754313, 3371.533065013101, 5916.358054129835, 4437.356566167744, 4758.188729714919, 4252.897540706999, 4668.214697412175, -4823.645899335599, 6006.733833662536, 8499.966944599812, 4590.872583456109, 3884.4528513190876, 5101.3986973675255, -6854.206134077961, 4243.721728508767, -4749.05702571537, 6048.724079227712, -4985.514801220402, -4647.129088588655, 6726.313750520617, -6305.307759672737, 4732.087714707711, 3894.2354791277517, 6059.983323374554, 3778.18142130961], \"yaxis\": \"y\"}, {\"customdata\": [[84], [90], [84], [90], [91], [86], [94], [90], [86], [88], [87], [84], [87], [93], [86], [91], [91], [87], [92], [88], [89], [87], [93], [91], [84], [97], [90], [92], [92], [82], [87], [87], [83], [92], [89], [87], [88], [92], [87], [88], [87], [82], [90], [89], [90], [89], [86], [79], [91], [82], [85], [85], [86], [79], [83], [83], [91], [84], [90], [83], [88], [91], [87], [91], [92], [84], [87], [86], [89], [94], [94], [86], [84], [85], [89], [89], [91], [83], [88], [83], [91], [84], [81], [91], [92], [85], [91], [82], [83], [86], [83], [94], [83], [94], [82], [85], [85], [89], [89], [84], [87], [88], [87], [87], [94], [88], [88], [85], [94], [95], [88], [86], [85], [92], [87], [89], [89], [85], [88], [93], [91], [84], [87], [88], [85], [91], [90], [88], [85], [91], [90], [88], [84], [90], [87], [91], [88], [89], [88], [91], [84], [83], [84], [87], [91], [90], [88]], \"hovertemplate\": \"Cluster=Cluster 2<br>PCA1=%{x}<br>PCA2=%{y}<br>Feature=%{customdata[0]}<extra></extra>\", \"legendgroup\": \"Cluster 2\", \"marker\": {\"color\": \"#00cc96\", \"opacity\": 0.5, \"symbol\": \"circle\"}, \"mode\": \"markers\", \"name\": \"Cluster 2\", \"orientation\": \"v\", \"showlegend\": true, \"textposition\": \"top center\", \"type\": \"scatter\", \"x\": [-51590.97205811302, -53514.36608306823, -57516.273183636404, -52877.38164603334, -47591.22511121998, -56854.24491468408, -56820.087553604215, -40392.52353813574, -52219.78891026324, -49206.072979236196, -52745.271995073796, -45243.335995709785, -45504.92821664384, -55837.896212559055, -43811.47262039386, -44891.726940178145, -63634.72200273953, -45889.161245283925, -39730.754923731954, -40724.15688509663, -48762.36466827118, -63656.3475899801, -58127.50387027, -39063.286676190895, -39255.47386551346, -48338.704662619304, -42253.872877958216, -56895.33602609462, -53329.0889086379, -42172.091423728125, -59885.18345080086, -33223.78792758688, -48890.162042831624, -42194.798734952405, -41047.376366850294, -49083.98904448345, -57888.98693798615, -40276.448131089535, -45592.662714596445, -44316.3909761365, -44207.36919669003, -42152.50281937874, -38257.012522678684, -47490.05337363705, -51240.79467490207, -53680.72058527788, -60035.355735186284, -43219.57063079795, -52957.61629178095, -51335.69636219801, -53905.33080870666, -47211.30921897938, -39708.64698966347, -37510.58801132115, -57495.82751822275, -45148.06214608788, -46108.564418073096, -55003.11473536293, -46621.67518992086, -41229.085326467895, -53103.84791289729, -48496.84792497304, -57945.29400939377, -47000.171708792885, -53120.540708745786, -48329.37521986341, -50055.78756429354, -48031.60033869832, -50446.68725850557, -51858.952852259725, -36822.88272990106, -46897.28720484183, -48086.4716150678, -54413.15855352473, -45316.58140609554, -49610.67501015967, -38870.672641380326, -41183.652071657096, -58306.89374121131, -47148.049506652584, -49855.36023906115, -48254.00622992488, -41272.89533986178, -55116.83601816836, -39882.02333138302, -44945.69901444298, -58771.33010043616, -51459.51350546342, -45053.50115134015, -39916.59061152688, -52508.30353343571, -48448.18982139339, -42546.309287033815, -54957.490989172315, -43231.47790879878, -40907.251477988066, -46522.91941975115, -44680.89350931922, -55368.98427568008, -48469.75822555576, -51191.183110267935, -42334.047671506334, -57176.86780610603, -49618.56425158388, -47975.629894303675, -42594.24300193296, -47129.844163420596, -49427.5241370261, -47366.649393097105, -48754.553222931434, -56178.67327005175, -28705.212826769803, -47927.756153353235, -42805.174693662266, -49952.56386424753, -56491.7261616014, -42432.64509966225, -47271.4132762421, -57750.75774612387, -55300.438356116465, -49274.44239615929, -33685.823037835, -44821.27195537092, -41654.28537091671, -46206.76070917286, -46752.17189114907, -45508.35388587766, -46888.40589877374, -41090.43271162364, -48867.33422412473, -42485.19893050837, -47339.94733410824, -37730.76934060816, -42382.69883203619, -28723.991919566, -50504.82314273768, -49640.516333935884, -51006.62596717178, -43012.76978349139, -45489.12002421862, -53484.99044797619, -47072.83270827877, -46294.69652581508, -52350.13688160766, -51304.420791210185, -50029.0486734844, -48459.578853164654], \"xaxis\": \"x\", \"y\": [-1709.6809922654018, -3511.6505427575585, -2662.237917413056, -1034.0462861180674, -2876.016821854162, -1039.8869670204479, -2626.494760123041, -1918.0706539765356, -361.8228772290582, 646.5438723752061, -3270.250012030127, -2386.7446703879696, -1656.4250558163044, -2913.1513261933915, -3844.050642994284, -1059.5099705589155, -958.5365645110743, -3656.8600405231205, -3215.3117531036187, -3403.3549980948787, -1902.303752571811, -672.1303645870973, -3329.4241557503888, -2178.951260878267, -2456.0624695072047, -296.94791022013504, -2813.4088657561024, -219.83567344031903, -3704.1152030668836, -3482.9509244203136, 968.182184170178, -4327.5998004040275, -3117.043572435123, -2831.244972649777, 163.0086019424072, -2706.9542458595415, -2297.4104284560135, -3159.4030652887395, -1858.741542867274, -1681.107809398615, -1788.5950192551384, -3595.426499455154, -3209.705699855121, -1025.6556377131571, -337.58311029945713, -1523.153182779475, -2067.7852022028565, -982.6374045457418, -512.1681616652345, -2253.324954790312, 776.7213551828829, -497.02873214681387, -2812.640832274526, -2385.9306735999717, -874.5938320396226, -918.4435413744565, -4704.9007181400775, -1806.3716349634747, -1061.3928297006273, -559.8887343311549, -1838.664645556659, -1255.0231217175187, -1690.2235244245394, -3258.5927312494296, -2373.9068521136146, -2106.9565485318562, -458.7329379734674, -2520.8796709258977, -1789.8310613735046, -1998.3145148841256, -3004.135925035732, -1500.599753550345, -3267.664533478744, -1055.9968931753672, 72.34189620852611, -2494.346015854769, -4966.632983631631, -2299.177576458251, -1498.3070625903993, -948.1700320034128, -2551.6409458672997, -3586.392912339362, -2039.0519450914776, -3386.631387427836, -3145.8388116696306, -2663.436303414359, -1946.4256348815318, -1443.6312210611654, -3267.8530880659673, -5860.406970913431, -2003.3795586148926, -424.4944516024695, -2323.9550250667417, -1273.0340909671531, -2464.366506729347, -2247.7230980697595, -2395.15062032791, -3320.2381091067427, -990.607597031653, -975.0110199269354, -2999.048136853006, -946.4427010468263, -500.3822260290336, -1200.4987085746998, -2697.4806496368715, -4573.13594967613, -2166.9455265130237, -3282.496783689516, -2226.5238835946834, -3476.7575329414076, -1450.7318688866605, -2125.5165732968326, 1139.0677249894102, -2383.9235864924353, -1016.3628176053348, -1529.9495201383822, -2804.3175987818167, -1422.2632521531452, -1546.7860227984638, -2379.4453929525343, -1819.1411133435656, -2359.9810608524367, -809.2478504066129, -1284.2763352326008, -3972.437291114198, -4260.667936777424, -1716.0957515179934, -1747.2845158743746, -2507.468037848858, -3330.0950893142626, -1573.1293339464685, -2756.210456765215, -3447.522865699352, -1026.2178281219412, -1283.2493416842196, -2541.1040744024203, -2403.452656500527, 1229.634202103802, -2388.397515567186, -857.2365574199106, -2964.871161538943, -3652.143022077504, -3445.140762666876, -1271.8366968001812, -1341.6421504993361, -2907.7981801354913, -623.0248233972334], \"yaxis\": \"y\"}, {\"customdata\": [[34], [35], [29], [32], [30], [33], [34], [35], [28], [31], [35], [32], [30], [37], [29], [22], [30], [29], [28], [36], [28], [36], [31], [28], [33], [31], [85], [33], [36], [86], [30], [34], [27], [28], [31], [33], [32], [28], [32], [30], [38], [35], [37], [31], [31], [31], [31], [33], [34], [32], [30], [30], [35], [33], [40], [42], [37], [25], [34], [84], [43], [28], [36], [37], [37], [35], [31], [36], [31], [29], [33], [36], [30], [36], [34], [37], [35], [35], [88], [31], [30], [33], [31], [31], [33], [26], [24], [29], [33], [39], [37], [29], [37], [29], [33], [34], [84], [44], [31], [31], [25], [36], [29], [29], [38], [39], [32], [36], [29], [34], [31], [37], [84], [34], [33], [35], [36], [31], [39], [37], [38], [31], [35], [59], [33], [30], [33], [34], [38], [30]], \"hovertemplate\": \"Cluster=Cluster 3<br>PCA1=%{x}<br>PCA2=%{y}<br>Feature=%{customdata[0]}<extra></extra>\", \"legendgroup\": \"Cluster 3\", \"marker\": {\"color\": \"#ab63fa\", \"opacity\": 0.5, \"symbol\": \"circle\"}, \"mode\": \"markers\", \"name\": \"Cluster 3\", \"orientation\": \"v\", \"showlegend\": true, \"textposition\": \"top center\", \"type\": \"scatter\", \"x\": [23196.213306438225, 32691.86956168572, 26312.372968927524, 26023.566351406153, 20486.14069594545, 23896.36880790408, 31502.36034296822, 26578.15319626618, 22236.16947437228, 28681.54988758575, 31317.298064553695, 19785.994393274672, 25376.693266073158, 31202.41268247607, 30268.705481263285, 33345.15627123118, 22224.556143435286, 35711.07999432945, 25474.402763797287, 26071.981181359246, 23858.59824002342, 28639.385002450483, 40419.576695104144, 36260.39985707386, 31045.220255678778, 25363.919226720413, 35579.2058158063, 31361.08526779913, 23967.006087975617, 39941.23737509608, 24294.808478346324, 23022.21826312664, 31016.952770667864, 19017.169464917504, 32307.93672914093, 40849.48059769063, 32572.750272366186, 24827.978780545967, 34753.148485730795, 32149.92129268287, 39399.40138181148, 34360.48180735056, 34830.86603735357, 23748.677815454044, 32345.70842870058, 32322.908553122463, 31330.343984524767, 36008.72535912231, 26507.042872359903, 26343.67867390245, 30614.165778553557, 31911.001239366324, 28912.895136199942, 30046.48908092605, 23032.680124651262, 31253.468530449412, 22105.034591078256, 25765.79004232835, 14006.0009653654, 39513.273555432395, 25938.050496756237, 33379.42058468909, 29861.546669621443, 30949.636901997932, 32912.89206331583, 37194.90227907419, 37228.73474520067, 24491.388898644724, 30148.68267391608, 40673.85964432745, 38869.64945267168, 32210.9797686424, 26298.14841024672, 22350.76981632157, 22393.41773018013, 21900.78530003276, 41298.631292835045, 26003.522431925612, 38847.16976776078, 35758.275435536685, 32797.64366935493, 30584.124615113236, 25732.344972190545, 32416.93987389554, 24613.75198032611, 21973.307950443825, 34815.25492053805, 15764.49143141583, 19295.267686809562, 24706.12835284515, 32289.54020716664, 35036.7158554872, 35023.21627080028, 26228.37628643619, 16918.676201100123, 27456.913266673106, 38543.62512292868, 38938.11813871434, 29210.556946439687, 26983.046364278187, 30950.101839682393, 33203.84256888802, 27412.69140542123, 36813.76713420395, 28960.634964946767, 24819.360949497743, 30836.978307627433, 34060.87750047383, 23392.942046850585, 28627.259856400295, 29240.50974864809, 32853.06228369525, 34834.90179465996, 35572.71538685354, 32561.025360063293, 30806.77634195278, 20592.34661300776, 39135.37622313005, 23470.847033328017, 31960.754514207256, 37939.71700891233, 35187.91053468464, 30155.334159636983, 15177.31971466767, 25328.069962281672, 31614.442565419085, 22258.608668569897, 27758.387575808203, 18943.372817813033, 33217.92661094809], \"xaxis\": \"x\", \"y\": [-5613.714946473871, -6066.4571229345775, -4286.405360287333, -7172.334785619936, -4804.2037003568, -4653.5725508840405, -5081.205331963824, -4542.181472406769, -4400.042331000772, -4194.112454577069, -6141.7632635534965, -4699.391527469763, -3922.3292073945413, -4006.8807824041246, -4917.675594824387, -6080.299826048203, -5737.014216399172, -4543.481105344736, -4541.161711915865, -4687.7646194954505, -4857.997302514553, -3130.9505393461027, -6642.233640263949, -3890.3447962612577, -4354.880673536976, -6518.8777436186265, -6195.256515402733, -4837.589604607755, -5918.696393593378, -5237.495032301008, -3156.174867738151, -4439.122859420632, -4865.004407317279, -4587.056600403996, -3401.081521768778, -5591.430862352509, -6711.005814772027, -5088.608312301609, -4008.5890127539014, -5508.945169399096, -5202.090344164469, -5038.816440742177, -5377.229021116216, -4085.387888540779, -2201.720436215354, -3681.290385681804, -5635.163544619187, -6111.7051713952615, -5484.674656121098, -3863.006874934306, -4762.434912619338, -2672.9112969661533, -5224.554435670845, -2733.109485171264, -5461.179044520955, -4792.820172444664, -4346.187741550611, -4647.515091833699, -1775.6050399833514, -4805.682520520943, -4054.2528418970855, -4139.053044046939, -4210.491742797324, -4397.197322284793, -4588.664684244311, -4030.486076235751, -4575.537648425253, -3378.5440905478695, -3727.6412226852462, -5771.827716588531, -4117.836047019013, -5806.3623666589, -5023.038755192273, -5405.1923800705135, -5150.746928288214, -5234.914435436248, -6422.0650063113535, -3786.13364247153, -8209.639308093878, -4122.472097486012, -5654.546848389321, -5198.651743783723, -4846.280009746118, -3316.873784519851, -3288.4642893518344, -5227.972306159951, -5108.281670571713, -2149.1522120766226, -3266.6501002799127, -6304.286871577944, -3634.3413606407403, -6415.6995362262505, -4416.577273256118, -4266.484164687801, -2877.1946078768765, -4868.312164441829, -7198.063753004443, -4443.169815276389, -6286.356908964105, -2897.4181107781196, -6274.399407676459, -6552.893169384945, -5970.65960581778, -4615.4621298706315, -5439.902381792011, -6443.116567478201, -4248.41099877993, -5075.678351149007, -5117.926369906291, -3324.8164217780163, -5240.709879901141, -5910.595724540105, -5079.540930731751, -4807.665202226777, -5658.529147335399, -5560.204679600004, -4611.587648361574, -4339.707016425756, -4720.2489254083885, -7950.13767990454, -4683.440281859752, -4164.858385743974, -6491.845916302066, 4253.670268811266, -4507.818852759072, -3948.413153701508, -5195.925409188555, -3524.6018820414947, -6099.926511675162, -4387.404636496326], \"yaxis\": \"y\"}],                        {\"height\": 600, \"legend\": {\"title\": {\"text\": \"Cluster\"}, \"tracegroupgap\": 0}, \"margin\": {\"t\": 60}, \"plot_bgcolor\": \"rgb(240,240,240)\", \"template\": {\"data\": {\"bar\": [{\"error_x\": {\"color\": \"#2a3f5f\"}, \"error_y\": {\"color\": \"#2a3f5f\"}, \"marker\": {\"line\": {\"color\": \"#E5ECF6\", \"width\": 0.5}}, \"type\": \"bar\"}], \"barpolar\": [{\"marker\": {\"line\": {\"color\": \"#E5ECF6\", \"width\": 0.5}}, \"type\": \"barpolar\"}], \"carpet\": [{\"aaxis\": {\"endlinecolor\": \"#2a3f5f\", \"gridcolor\": \"white\", \"linecolor\": \"white\", \"minorgridcolor\": \"white\", \"startlinecolor\": \"#2a3f5f\"}, \"baxis\": {\"endlinecolor\": \"#2a3f5f\", \"gridcolor\": \"white\", \"linecolor\": \"white\", \"minorgridcolor\": \"white\", \"startlinecolor\": \"#2a3f5f\"}, \"type\": \"carpet\"}], \"choropleth\": [{\"colorbar\": {\"outlinewidth\": 0, \"ticks\": \"\"}, \"type\": \"choropleth\"}], \"contour\": [{\"colorbar\": {\"outlinewidth\": 0, \"ticks\": \"\"}, \"colorscale\": [[0.0, \"#0d0887\"], [0.1111111111111111, \"#46039f\"], [0.2222222222222222, \"#7201a8\"], [0.3333333333333333, \"#9c179e\"], [0.4444444444444444, \"#bd3786\"], [0.5555555555555556, \"#d8576b\"], [0.6666666666666666, \"#ed7953\"], [0.7777777777777778, \"#fb9f3a\"], [0.8888888888888888, \"#fdca26\"], [1.0, \"#f0f921\"]], \"type\": \"contour\"}], \"contourcarpet\": [{\"colorbar\": {\"outlinewidth\": 0, \"ticks\": \"\"}, \"type\": \"contourcarpet\"}], \"heatmap\": [{\"colorbar\": {\"outlinewidth\": 0, \"ticks\": \"\"}, \"colorscale\": [[0.0, \"#0d0887\"], [0.1111111111111111, \"#46039f\"], [0.2222222222222222, \"#7201a8\"], [0.3333333333333333, \"#9c179e\"], [0.4444444444444444, \"#bd3786\"], [0.5555555555555556, \"#d8576b\"], [0.6666666666666666, \"#ed7953\"], [0.7777777777777778, \"#fb9f3a\"], [0.8888888888888888, \"#fdca26\"], [1.0, \"#f0f921\"]], \"type\": \"heatmap\"}], \"heatmapgl\": [{\"colorbar\": {\"outlinewidth\": 0, \"ticks\": \"\"}, \"colorscale\": [[0.0, \"#0d0887\"], [0.1111111111111111, \"#46039f\"], [0.2222222222222222, \"#7201a8\"], [0.3333333333333333, \"#9c179e\"], [0.4444444444444444, \"#bd3786\"], [0.5555555555555556, \"#d8576b\"], [0.6666666666666666, \"#ed7953\"], [0.7777777777777778, \"#fb9f3a\"], [0.8888888888888888, \"#fdca26\"], [1.0, \"#f0f921\"]], \"type\": \"heatmapgl\"}], \"histogram\": [{\"marker\": {\"colorbar\": {\"outlinewidth\": 0, \"ticks\": \"\"}}, \"type\": \"histogram\"}], \"histogram2d\": [{\"colorbar\": {\"outlinewidth\": 0, \"ticks\": \"\"}, \"colorscale\": [[0.0, \"#0d0887\"], [0.1111111111111111, \"#46039f\"], [0.2222222222222222, \"#7201a8\"], [0.3333333333333333, \"#9c179e\"], [0.4444444444444444, \"#bd3786\"], [0.5555555555555556, \"#d8576b\"], [0.6666666666666666, \"#ed7953\"], [0.7777777777777778, \"#fb9f3a\"], [0.8888888888888888, \"#fdca26\"], [1.0, \"#f0f921\"]], \"type\": \"histogram2d\"}], \"histogram2dcontour\": [{\"colorbar\": {\"outlinewidth\": 0, \"ticks\": \"\"}, \"colorscale\": [[0.0, \"#0d0887\"], [0.1111111111111111, \"#46039f\"], [0.2222222222222222, \"#7201a8\"], [0.3333333333333333, \"#9c179e\"], [0.4444444444444444, \"#bd3786\"], [0.5555555555555556, \"#d8576b\"], [0.6666666666666666, \"#ed7953\"], [0.7777777777777778, \"#fb9f3a\"], [0.8888888888888888, \"#fdca26\"], [1.0, \"#f0f921\"]], \"type\": \"histogram2dcontour\"}], \"mesh3d\": [{\"colorbar\": {\"outlinewidth\": 0, \"ticks\": \"\"}, \"type\": \"mesh3d\"}], \"parcoords\": [{\"line\": {\"colorbar\": {\"outlinewidth\": 0, \"ticks\": \"\"}}, \"type\": \"parcoords\"}], \"pie\": [{\"automargin\": true, \"type\": \"pie\"}], \"scatter\": [{\"marker\": {\"colorbar\": {\"outlinewidth\": 0, \"ticks\": \"\"}}, \"type\": \"scatter\"}], \"scatter3d\": [{\"line\": {\"colorbar\": {\"outlinewidth\": 0, \"ticks\": \"\"}}, \"marker\": {\"colorbar\": {\"outlinewidth\": 0, \"ticks\": \"\"}}, \"type\": \"scatter3d\"}], \"scattercarpet\": [{\"marker\": {\"colorbar\": {\"outlinewidth\": 0, \"ticks\": \"\"}}, \"type\": \"scattercarpet\"}], \"scattergeo\": [{\"marker\": {\"colorbar\": {\"outlinewidth\": 0, \"ticks\": \"\"}}, \"type\": \"scattergeo\"}], \"scattergl\": [{\"marker\": {\"colorbar\": {\"outlinewidth\": 0, \"ticks\": \"\"}}, \"type\": \"scattergl\"}], \"scattermapbox\": [{\"marker\": {\"colorbar\": {\"outlinewidth\": 0, \"ticks\": \"\"}}, \"type\": \"scattermapbox\"}], \"scatterpolar\": [{\"marker\": {\"colorbar\": {\"outlinewidth\": 0, \"ticks\": \"\"}}, \"type\": \"scatterpolar\"}], \"scatterpolargl\": [{\"marker\": {\"colorbar\": {\"outlinewidth\": 0, \"ticks\": \"\"}}, \"type\": \"scatterpolargl\"}], \"scatterternary\": [{\"marker\": {\"colorbar\": {\"outlinewidth\": 0, \"ticks\": \"\"}}, \"type\": \"scatterternary\"}], \"surface\": [{\"colorbar\": {\"outlinewidth\": 0, \"ticks\": \"\"}, \"colorscale\": [[0.0, \"#0d0887\"], [0.1111111111111111, \"#46039f\"], [0.2222222222222222, \"#7201a8\"], [0.3333333333333333, \"#9c179e\"], [0.4444444444444444, \"#bd3786\"], [0.5555555555555556, \"#d8576b\"], [0.6666666666666666, \"#ed7953\"], [0.7777777777777778, \"#fb9f3a\"], [0.8888888888888888, \"#fdca26\"], [1.0, \"#f0f921\"]], \"type\": \"surface\"}], \"table\": [{\"cells\": {\"fill\": {\"color\": \"#EBF0F8\"}, \"line\": {\"color\": \"white\"}}, \"header\": {\"fill\": {\"color\": \"#C8D4E3\"}, \"line\": {\"color\": \"white\"}}, \"type\": \"table\"}]}, \"layout\": {\"annotationdefaults\": {\"arrowcolor\": \"#2a3f5f\", \"arrowhead\": 0, \"arrowwidth\": 1}, \"coloraxis\": {\"colorbar\": {\"outlinewidth\": 0, \"ticks\": \"\"}}, \"colorscale\": {\"diverging\": [[0, \"#8e0152\"], [0.1, \"#c51b7d\"], [0.2, \"#de77ae\"], [0.3, \"#f1b6da\"], [0.4, \"#fde0ef\"], [0.5, \"#f7f7f7\"], [0.6, \"#e6f5d0\"], [0.7, \"#b8e186\"], [0.8, \"#7fbc41\"], [0.9, \"#4d9221\"], [1, \"#276419\"]], \"sequential\": [[0.0, \"#0d0887\"], [0.1111111111111111, \"#46039f\"], [0.2222222222222222, \"#7201a8\"], [0.3333333333333333, \"#9c179e\"], [0.4444444444444444, \"#bd3786\"], [0.5555555555555556, \"#d8576b\"], [0.6666666666666666, \"#ed7953\"], [0.7777777777777778, \"#fb9f3a\"], [0.8888888888888888, \"#fdca26\"], [1.0, \"#f0f921\"]], \"sequentialminus\": [[0.0, \"#0d0887\"], [0.1111111111111111, \"#46039f\"], [0.2222222222222222, \"#7201a8\"], [0.3333333333333333, \"#9c179e\"], [0.4444444444444444, \"#bd3786\"], [0.5555555555555556, \"#d8576b\"], [0.6666666666666666, \"#ed7953\"], [0.7777777777777778, \"#fb9f3a\"], [0.8888888888888888, \"#fdca26\"], [1.0, \"#f0f921\"]]}, \"colorway\": [\"#636efa\", \"#EF553B\", \"#00cc96\", \"#ab63fa\", \"#FFA15A\", \"#19d3f3\", \"#FF6692\", \"#B6E880\", \"#FF97FF\", \"#FECB52\"], \"font\": {\"color\": \"#2a3f5f\"}, \"geo\": {\"bgcolor\": \"white\", \"lakecolor\": \"white\", \"landcolor\": \"#E5ECF6\", \"showlakes\": true, \"showland\": true, \"subunitcolor\": \"white\"}, \"hoverlabel\": {\"align\": \"left\"}, \"hovermode\": \"closest\", \"mapbox\": {\"style\": \"light\"}, \"paper_bgcolor\": \"white\", \"plot_bgcolor\": \"#E5ECF6\", \"polar\": {\"angularaxis\": {\"gridcolor\": \"white\", \"linecolor\": \"white\", \"ticks\": \"\"}, \"bgcolor\": \"#E5ECF6\", \"radialaxis\": {\"gridcolor\": \"white\", \"linecolor\": \"white\", \"ticks\": \"\"}}, \"scene\": {\"xaxis\": {\"backgroundcolor\": \"#E5ECF6\", \"gridcolor\": \"white\", \"gridwidth\": 2, \"linecolor\": \"white\", \"showbackground\": true, \"ticks\": \"\", \"zerolinecolor\": \"white\"}, \"yaxis\": {\"backgroundcolor\": \"#E5ECF6\", \"gridcolor\": \"white\", \"gridwidth\": 2, \"linecolor\": \"white\", \"showbackground\": true, \"ticks\": \"\", \"zerolinecolor\": \"white\"}, \"zaxis\": {\"backgroundcolor\": \"#E5ECF6\", \"gridcolor\": \"white\", \"gridwidth\": 2, \"linecolor\": \"white\", \"showbackground\": true, \"ticks\": \"\", \"zerolinecolor\": \"white\"}}, \"shapedefaults\": {\"line\": {\"color\": \"#2a3f5f\"}}, \"ternary\": {\"aaxis\": {\"gridcolor\": \"white\", \"linecolor\": \"white\", \"ticks\": \"\"}, \"baxis\": {\"gridcolor\": \"white\", \"linecolor\": \"white\", \"ticks\": \"\"}, \"bgcolor\": \"#E5ECF6\", \"caxis\": {\"gridcolor\": \"white\", \"linecolor\": \"white\", \"ticks\": \"\"}}, \"title\": {\"x\": 0.05}, \"xaxis\": {\"automargin\": true, \"gridcolor\": \"white\", \"linecolor\": \"white\", \"ticks\": \"\", \"title\": {\"standoff\": 15}, \"zerolinecolor\": \"white\", \"zerolinewidth\": 2}, \"yaxis\": {\"automargin\": true, \"gridcolor\": \"white\", \"linecolor\": \"white\", \"ticks\": \"\", \"title\": {\"standoff\": 15}, \"zerolinecolor\": \"white\", \"zerolinewidth\": 2}}}, \"title\": {\"text\": \"2D Cluster PCA Plot\"}, \"xaxis\": {\"anchor\": \"y\", \"domain\": [0.0, 1.0], \"title\": {\"text\": \"PCA1\"}}, \"yaxis\": {\"anchor\": \"x\", \"domain\": [0.0, 1.0], \"title\": {\"text\": \"PCA2\"}}},                        {\"responsive\": true}                    ).then(function(){\n",
       "                            \n",
       "var gd = document.getElementById('d587073f-448f-4c53-b70a-aa938a8a83ed');\n",
       "var x = new MutationObserver(function (mutations, observer) {{\n",
       "        var display = window.getComputedStyle(gd).display;\n",
       "        if (!display || display === 'none') {{\n",
       "            console.log([gd, 'removed!']);\n",
       "            Plotly.purge(gd);\n",
       "            observer.disconnect();\n",
       "        }}\n",
       "}});\n",
       "\n",
       "// Listen for the removal of the full notebook cells\n",
       "var notebookContainer = gd.closest('#notebook-container');\n",
       "if (notebookContainer) {{\n",
       "    x.observe(notebookContainer, {childList: true});\n",
       "}}\n",
       "\n",
       "// Listen for the clearing of the current output cell\n",
       "var outputEl = gd.closest('.output');\n",
       "if (outputEl) {{\n",
       "    x.observe(outputEl, {childList: true});\n",
       "}}\n",
       "\n",
       "                        })                };                });            </script>        </div>"
      ]
     },
     "metadata": {},
     "output_type": "display_data"
    }
   ],
   "source": [
    "plot_model(km)"
   ]
  },
  {
   "cell_type": "code",
   "execution_count": 75,
   "metadata": {},
   "outputs": [
    {
     "data": {
      "text/html": [
       "<div>\n",
       "<style scoped>\n",
       "    .dataframe tbody tr th:only-of-type {\n",
       "        vertical-align: middle;\n",
       "    }\n",
       "\n",
       "    .dataframe tbody tr th {\n",
       "        vertical-align: top;\n",
       "    }\n",
       "\n",
       "    .dataframe thead th {\n",
       "        text-align: right;\n",
       "    }\n",
       "</style>\n",
       "<table border=\"1\" class=\"dataframe\">\n",
       "  <thead>\n",
       "    <tr style=\"text-align: right;\">\n",
       "      <th></th>\n",
       "      <th>Metric</th>\n",
       "    </tr>\n",
       "  </thead>\n",
       "  <tbody>\n",
       "    <tr>\n",
       "      <th>Silhouette</th>\n",
       "      <td>0.7207</td>\n",
       "    </tr>\n",
       "    <tr>\n",
       "      <th>Calinski-Harabasz</th>\n",
       "      <td>5011.8115</td>\n",
       "    </tr>\n",
       "    <tr>\n",
       "      <th>Davies-Bouldin</th>\n",
       "      <td>0.4114</td>\n",
       "    </tr>\n",
       "  </tbody>\n",
       "</table>\n",
       "</div>"
      ],
      "text/plain": [
       "                      Metric\n",
       "Silhouette            0.7207\n",
       "Calinski-Harabasz  5011.8115\n",
       "Davies-Bouldin        0.4114"
      ]
     },
     "metadata": {},
     "output_type": "display_data"
    }
   ],
   "source": [
    "km1 = create_model('kmeans')"
   ]
  },
  {
   "cell_type": "code",
   "execution_count": 76,
   "metadata": {},
   "outputs": [
    {
     "data": {
      "text/html": [
       "        <script type=\"text/javascript\">\n",
       "        window.PlotlyConfig = {MathJaxConfig: 'local'};\n",
       "        if (window.MathJax) {MathJax.Hub.Config({SVG: {font: \"STIX-Web\"}});}\n",
       "        if (typeof require !== 'undefined') {\n",
       "        require.undef(\"plotly\");\n",
       "        requirejs.config({\n",
       "            paths: {\n",
       "                'plotly': ['https://cdn.plot.ly/plotly-latest.min']\n",
       "            }\n",
       "        });\n",
       "        require(['plotly'], function(Plotly) {\n",
       "            window._Plotly = Plotly;\n",
       "        });\n",
       "        }\n",
       "        </script>\n",
       "        "
      ]
     },
     "metadata": {},
     "output_type": "display_data"
    },
    {
     "data": {
      "application/vnd.plotly.v1+json": {
       "config": {
        "plotlyServerURL": "https://plot.ly"
       },
       "data": [
        {
         "customdata": [
          [
           58
          ],
          [
           58
          ],
          [
           55
          ],
          [
           60
          ],
          [
           56
          ],
          [
           60
          ],
          [
           58
          ],
          [
           56
          ],
          [
           64
          ],
          [
           63
          ],
          [
           62
          ],
          [
           59
          ],
          [
           67
          ],
          [
           58
          ],
          [
           58
          ],
          [
           57
          ],
          [
           66
          ],
          [
           64
          ],
          [
           59
          ],
          [
           68
          ],
          [
           61
          ],
          [
           64
          ],
          [
           63
          ],
          [
           55
          ],
          [
           57
          ],
          [
           57
          ],
          [
           53
          ],
          [
           61
          ],
          [
           61
          ],
          [
           62
          ],
          [
           62
          ],
          [
           62
          ],
          [
           60
          ],
          [
           65
          ],
          [
           60
          ],
          [
           63
          ],
          [
           56
          ],
          [
           58
          ],
          [
           62
          ],
          [
           56
          ],
          [
           59
          ],
          [
           65
          ],
          [
           62
          ],
          [
           59
          ],
          [
           66
          ],
          [
           64
          ],
          [
           62
          ],
          [
           61
          ],
          [
           56
          ],
          [
           62
          ],
          [
           60
          ],
          [
           62
          ],
          [
           64
          ],
          [
           63
          ],
          [
           58
          ],
          [
           59
          ],
          [
           59
          ],
          [
           59
          ],
          [
           59
          ],
          [
           55
          ],
          [
           51
          ],
          [
           57
          ],
          [
           61
          ],
          [
           60
          ],
          [
           64
          ],
          [
           65
          ],
          [
           59
          ],
          [
           58
          ],
          [
           63
          ],
          [
           61
          ],
          [
           59
          ],
          [
           56
          ],
          [
           61
          ],
          [
           63
          ],
          [
           58
          ],
          [
           62
          ],
          [
           60
          ],
          [
           62
          ],
          [
           65
          ],
          [
           59
          ],
          [
           65
          ],
          [
           58
          ],
          [
           61
          ],
          [
           66
          ],
          [
           58
          ],
          [
           68
          ],
          [
           58
          ],
          [
           67
          ],
          [
           58
          ],
          [
           56
          ],
          [
           61
          ],
          [
           56
          ],
          [
           61
          ],
          [
           59
          ],
          [
           62
          ],
          [
           59
          ],
          [
           59
          ],
          [
           59
          ],
          [
           57
          ],
          [
           59
          ],
          [
           64
          ],
          [
           61
          ],
          [
           63
          ],
          [
           56
          ],
          [
           59
          ],
          [
           58
          ],
          [
           61
          ],
          [
           55
          ],
          [
           59
          ],
          [
           60
          ],
          [
           60
          ],
          [
           67
          ],
          [
           57
          ],
          [
           56
          ],
          [
           67
          ],
          [
           63
          ],
          [
           57
          ],
          [
           59
          ],
          [
           61
          ],
          [
           59
          ],
          [
           64
          ],
          [
           62
          ],
          [
           55
          ],
          [
           54
          ],
          [
           61
          ],
          [
           58
          ],
          [
           59
          ],
          [
           53
          ],
          [
           55
          ],
          [
           58
          ],
          [
           58
          ],
          [
           61
          ],
          [
           62
          ],
          [
           57
          ],
          [
           56
          ],
          [
           61
          ],
          [
           59
          ],
          [
           60
          ],
          [
           61
          ],
          [
           66
          ],
          [
           58
          ],
          [
           63
          ],
          [
           58
          ],
          [
           60
          ],
          [
           62
          ],
          [
           66
          ],
          [
           59
          ],
          [
           56
          ],
          [
           59
          ],
          [
           64
          ],
          [
           61
          ],
          [
           57
          ],
          [
           55
          ],
          [
           53
          ],
          [
           57
          ],
          [
           55
          ]
         ],
         "hovertemplate": "Cluster=Cluster 0<br>PCA1=%{x}<br>PCA2=%{y}<br>Feature=%{customdata[0]}<extra></extra>",
         "legendgroup": "Cluster 0",
         "marker": {
          "color": "#636efa",
          "opacity": 0.5,
          "symbol": "circle"
         },
         "mode": "markers",
         "name": "Cluster 0",
         "orientation": "v",
         "showlegend": true,
         "textposition": "top center",
         "type": "scatter",
         "x": [
          2555.7842351601794,
          8122.080380415535,
          871.0561448640374,
          -7740.904879089721,
          -15159.90191624567,
          -9955.599000501968,
          5073.487356522336,
          -7927.279393999564,
          -10817.514881421737,
          -182.87509706290282,
          -12401.01261442263,
          384.4886537787778,
          -15876.014194933867,
          2392.951400013222,
          -4856.160277619086,
          -9604.976101231397,
          -3578.6411667637353,
          3594.0424216908227,
          -5713.3044750317185,
          2456.1149429108755,
          -4025.5345868614977,
          1223.333284206349,
          -18377.080919160886,
          -1254.7961050822842,
          1380.9095854822526,
          -5506.504775277304,
          -284.9346161317539,
          -1867.5011952055156,
          -4335.121223668245,
          -8175.944783841654,
          -11570.013629472289,
          -12594.17524212853,
          -3881.279223544833,
          -9447.566957019659,
          -4595.725467462928,
          5567.478117111795,
          9121.208329826168,
          499.49661809612985,
          -4176.722631704313,
          -6529.597912750257,
          -7423.928769536232,
          -9153.99210091784,
          4864.683651412988,
          -7249.0281297969295,
          7325.256189492683,
          1198.2155272857167,
          -6945.490220855902,
          -5628.983771409209,
          -6874.447300583781,
          3175.7301008876725,
          -10072.875118803535,
          -5806.077052611823,
          11039.026942031698,
          -5414.849621380296,
          3385.822049131313,
          -3902.6507601274097,
          277.3194547180308,
          -18832.323089995094,
          -7793.454352086526,
          -10419.65072709327,
          -3127.7464754071884,
          -3147.9716901024035,
          3607.6218475354385,
          -805.518284046699,
          -12402.614006035734,
          -811.2733012583082,
          -7981.746810683434,
          2868.6753358918036,
          7034.566991846867,
          -7827.504392605748,
          -7225.6566514965525,
          -9823.292971418656,
          -3197.7706749317117,
          -4661.643199436445,
          -4588.8456828873295,
          -1424.2968527852572,
          -11770.096221904687,
          -7431.169946592951,
          -4794.730185972462,
          -5787.584457334291,
          -4114.665812502666,
          -4883.720561797814,
          -967.1345292294866,
          1855.0479869186768,
          3333.037008198885,
          -6270.1300577046395,
          -6075.723945911873,
          3574.8676282851225,
          834.6063416853473,
          375.61202524740867,
          -3222.028497117649,
          3735.222300120537,
          -9600.009525716892,
          2663.814142724254,
          -5898.7444796811515,
          -6051.79802714964,
          5619.125538763618,
          -2220.635450610068,
          -10371.487057071718,
          -1864.5940590614487,
          -3536.6248996188683,
          -9270.98324611397,
          -7793.211508914162,
          5122.282562298911,
          7017.4072298069395,
          4968.764645874565,
          -6214.354917756379,
          1547.91243955942,
          -1709.0067116984405,
          -5149.414552966316,
          -9176.939917160445,
          5679.935032255548,
          4615.604589783885,
          -1755.366356398994,
          -6586.375015596345,
          -2329.616759752772,
          -1148.5927138363206,
          -9514.742122293766,
          -6112.701966838939,
          -860.4354477953815,
          -14757.626854505606,
          -5414.451723823098,
          -3652.0516272195196,
          1270.5926186365057,
          -11385.807297750882,
          -5327.512619806887,
          -5495.930030665687,
          1535.3200349238562,
          -4197.995995572507,
          1797.8692846207487,
          -907.669087609122,
          -1006.7942808927021,
          -1710.0091006297807,
          4241.775895153039,
          -11393.264281389038,
          -3354.409395492052,
          -2601.8696283459503,
          -5228.773548143099,
          1691.1469990054961,
          -2630.7941352081853,
          -4333.35317149532,
          10499.407295945568,
          -4972.9221411299695,
          4848.44276438797,
          -611.8920766835481,
          -10238.837928743038,
          -879.6961231840237,
          11129.424149229595,
          6644.59761279822,
          13091.37415351667,
          -2009.7086141751752,
          106.44730782999252,
          3442.0678654010403,
          -13124.391604038403,
          1381.2925438038883,
          -847.3002227743443
         ],
         "xaxis": "x",
         "y": [
          5164.690387393576,
          4731.012058760933,
          5689.000453091916,
          5133.639471687392,
          5573.243592768734,
          4085.312250446126,
          5244.436809348922,
          5673.5277286108085,
          6677.482101590944,
          4411.324353776289,
          6731.622371228149,
          6845.141814371284,
          7337.462584330774,
          5992.6840941097125,
          6861.841710581512,
          5517.456998799797,
          4687.331305792249,
          5244.2237675362085,
          6098.407171499213,
          5539.97825427613,
          5644.552199614275,
          5666.367954752706,
          5086.374324713109,
          6380.915494292798,
          5567.112673818738,
          6298.43017886774,
          4064.0083360808126,
          2685.6626854367987,
          2658.297518890416,
          5599.274828311299,
          6393.5849274602415,
          5058.593507665872,
          3532.7508016456395,
          6026.370137728775,
          4575.315245883319,
          6399.679457928582,
          4076.188863858502,
          4450.572465085806,
          5121.948177991025,
          5174.0600160707545,
          5595.425208078434,
          6237.455006749804,
          4834.953991865892,
          5030.10150990485,
          5245.750156657968,
          6031.597780098124,
          5240.28369762661,
          3413.460990034037,
          3266.4701832643827,
          4727.079813055354,
          7033.832306225478,
          5686.132349951813,
          4384.687289531574,
          4509.378948047734,
          4513.159427781262,
          5499.339332721772,
          5152.077722121318,
          6823.253328040572,
          5788.853893383753,
          5982.858221439137,
          5318.28199362223,
          5506.996622913865,
          4852.444518767343,
          4348.095679784142,
          4277.420432790434,
          4771.515153180698,
          3467.565974911423,
          5223.642330390362,
          3374.2871342934304,
          5701.697575023517,
          4564.617621855321,
          6862.247572080615,
          5127.94926128046,
          4875.412034392047,
          4468.268102563846,
          7267.328542397009,
          5001.420783196855,
          6342.036901878033,
          5174.470545977298,
          5711.628393266975,
          3078.8964384945957,
          4688.370746949261,
          4638.724240674155,
          5468.7432742866995,
          4012.2154933423185,
          5401.821696967173,
          3500.5964543132573,
          6638.18948814305,
          5141.101367432595,
          5049.60629694778,
          4129.18118941636,
          4370.4678288227215,
          4923.281603355226,
          3399.120354730326,
          5205.840154213883,
          6221.683453940024,
          4314.803908984973,
          4177.140129281854,
          6211.274488459205,
          5267.352553209781,
          5070.413098436329,
          5996.5491526534,
          6334.243251982052,
          3424.073603905292,
          5588.800602998209,
          3943.117073633916,
          8154.200533863815,
          3973.906997486516,
          3684.6952959403616,
          5556.666139133824,
          7146.662858252786,
          4711.285967238696,
          5713.442041909508,
          4273.205301847639,
          4795.659622307601,
          6502.207882775598,
          6154.51860618152,
          5484.0622101307545,
          7150.265686204216,
          1366.2175061913922,
          5008.012103778611,
          6401.496850378563,
          4298.147934215803,
          4918.861099714741,
          5239.834486252135,
          5507.674538617938,
          5033.927181148628,
          6617.143404468863,
          4646.423038232098,
          3616.906622264866,
          4662.571801362165,
          6827.7367522808745,
          5692.0917043594045,
          4854.3736115380125,
          4760.726683836126,
          4039.0497082186116,
          5720.063910631853,
          4906.821369117013,
          4305.605513370144,
          5512.809888472105,
          6791.121727987135,
          4092.586810582499,
          5053.974394482311,
          6716.3892700823335,
          2642.856462873313,
          7423.315368546441,
          4574.0298524802365,
          2451.395645635495,
          6074.108821940054,
          3878.0740056043564,
          4571.3116018885175,
          5019.545071865864,
          3293.925709825788,
          5122.298575466138,
          5207.221097509015,
          5435.293808150469
         ],
         "yaxis": "y"
        },
        {
         "customdata": [
          [
           88
          ],
          [
           21
          ],
          [
           26
          ],
          [
           25
          ],
          [
           23
          ],
          [
           20
          ],
          [
           30
          ],
          [
           17
          ],
          [
           24
          ],
          [
           29
          ],
          [
           29
          ],
          [
           25
          ],
          [
           23
          ],
          [
           87
          ],
          [
           85
          ],
          [
           22
          ],
          [
           83
          ],
          [
           25
          ],
          [
           83
          ],
          [
           90
          ],
          [
           18
          ],
          [
           17
          ],
          [
           24
          ],
          [
           20
          ],
          [
           20
          ],
          [
           23
          ],
          [
           91
          ],
          [
           26
          ],
          [
           77
          ],
          [
           21
          ],
          [
           83
          ],
          [
           28
          ],
          [
           28
          ],
          [
           29
          ],
          [
           24
          ],
          [
           90
          ],
          [
           28
          ],
          [
           25
          ],
          [
           34
          ],
          [
           89
          ],
          [
           27
          ],
          [
           27
          ],
          [
           22
          ],
          [
           82
          ],
          [
           92
          ],
          [
           26
          ],
          [
           93
          ],
          [
           17
          ],
          [
           28
          ],
          [
           24
          ],
          [
           24
          ],
          [
           26
          ],
          [
           24
          ],
          [
           18
          ],
          [
           32
          ],
          [
           26
          ],
          [
           28
          ],
          [
           23
          ],
          [
           28
          ],
          [
           29
          ],
          [
           82
          ],
          [
           17
          ],
          [
           86
          ],
          [
           27
          ],
          [
           88
          ],
          [
           84
          ],
          [
           24
          ],
          [
           86
          ],
          [
           25
          ],
          [
           25
          ],
          [
           31
          ],
          [
           22
          ]
         ],
         "hovertemplate": "Cluster=Cluster 1<br>PCA1=%{x}<br>PCA2=%{y}<br>Feature=%{customdata[0]}<extra></extra>",
         "legendgroup": "Cluster 1",
         "marker": {
          "color": "#EF553B",
          "opacity": 0.5,
          "symbol": "circle"
         },
         "mode": "markers",
         "name": "Cluster 1",
         "orientation": "v",
         "showlegend": true,
         "textposition": "top center",
         "type": "scatter",
         "x": [
          47964.55226138689,
          54542.56026091127,
          50397.08389773134,
          55168.451545061864,
          54778.91990969144,
          54230.3114204766,
          47549.762546227066,
          59798.1748284997,
          59239.85352839813,
          43600.21618030976,
          47210.611284129605,
          45728.401144344105,
          51395.2243559995,
          41859.154369975586,
          42414.13984409392,
          58984.55027496726,
          41580.27174463821,
          62912.45709780568,
          43629.01273923753,
          48410.00929047228,
          55587.351730733586,
          59803.04557919298,
          53976.790002631285,
          47415.38916240533,
          53899.23405997957,
          63317.0665324429,
          43084.431301068355,
          56651.45548374745,
          52844.214540832116,
          48602.571111840196,
          42157.80542870098,
          41933.8763490921,
          53924.59703955876,
          66750.62108457653,
          59196.5930863391,
          42045.79570257138,
          48029.2359829609,
          55809.608259939785,
          44074.74432267948,
          43861.74709102549,
          46271.74999066811,
          47518.88131856792,
          57857.28905692229,
          45920.30384600758,
          47182.06858155579,
          52086.380658927206,
          50874.59373315182,
          48697.32854440994,
          52465.033586659905,
          52263.494108744446,
          45280.296457487624,
          47842.883679066494,
          55795.99791496394,
          48551.89779119264,
          41328.25266330998,
          51532.47005840449,
          48281.96476402188,
          45049.713037748465,
          46000.80248469954,
          56449.67813828139,
          50433.85138453332,
          61085.161815426894,
          52679.137422450585,
          49923.2324025863,
          44952.90203538893,
          46993.64108790837,
          61617.2560218572,
          48577.24594456367,
          55783.42885801489,
          53422.55248570123,
          47836.44839182684,
          45302.570904167434
         ],
         "xaxis": "x",
         "y": [
          -4397.186114919683,
          4193.882999372309,
          2890.5509685647066,
          4016.9816222016175,
          4629.791365281101,
          3238.4287703236864,
          3437.896482394783,
          4315.75179255907,
          4745.1445891248095,
          -5657.4788315200085,
          6674.234677495923,
          3658.3065012522234,
          5657.241494980822,
          -4543.326267067202,
          -5432.28181950965,
          3350.711617933648,
          -5615.560772408646,
          5261.355213266393,
          -6254.840941209131,
          -5693.665441157454,
          3427.135195258812,
          8450.307562492619,
          5488.3899845821115,
          4709.38880763183,
          3176.7468854090926,
          4946.177510120512,
          -4660.855622444514,
          4271.292185091139,
          -5677.667475551917,
          6249.537360930088,
          -5954.454601851149,
          4717.9972052376115,
          5765.842845736471,
          2693.0081866217533,
          3903.9749268153723,
          -3106.1034758683627,
          5422.323757682567,
          3879.1497332626604,
          -6307.669140625981,
          -6877.035883382075,
          4207.4147966121855,
          4941.9993629732735,
          5717.501137167645,
          -4953.921129423367,
          -4557.716601791882,
          3388.427034681377,
          -5178.052813440077,
          5282.497809754313,
          3371.533065013101,
          5916.358054129835,
          4437.356566167744,
          4758.188729714919,
          4252.897540706999,
          4668.214697412175,
          -4823.645899335599,
          6006.733833662536,
          8499.966944599812,
          4590.872583456109,
          3884.4528513190876,
          5101.3986973675255,
          -6854.206134077961,
          4243.721728508767,
          -4749.05702571537,
          6048.724079227712,
          -4985.514801220402,
          -4647.129088588655,
          6726.313750520617,
          -6305.307759672737,
          4732.087714707711,
          3894.2354791277517,
          6059.983323374554,
          3778.18142130961
         ],
         "yaxis": "y"
        },
        {
         "customdata": [
          [
           84
          ],
          [
           90
          ],
          [
           84
          ],
          [
           90
          ],
          [
           91
          ],
          [
           86
          ],
          [
           94
          ],
          [
           90
          ],
          [
           86
          ],
          [
           88
          ],
          [
           87
          ],
          [
           84
          ],
          [
           87
          ],
          [
           93
          ],
          [
           86
          ],
          [
           91
          ],
          [
           91
          ],
          [
           87
          ],
          [
           92
          ],
          [
           88
          ],
          [
           89
          ],
          [
           87
          ],
          [
           93
          ],
          [
           91
          ],
          [
           84
          ],
          [
           97
          ],
          [
           90
          ],
          [
           92
          ],
          [
           92
          ],
          [
           82
          ],
          [
           87
          ],
          [
           87
          ],
          [
           83
          ],
          [
           92
          ],
          [
           89
          ],
          [
           87
          ],
          [
           88
          ],
          [
           92
          ],
          [
           87
          ],
          [
           88
          ],
          [
           87
          ],
          [
           82
          ],
          [
           90
          ],
          [
           89
          ],
          [
           90
          ],
          [
           89
          ],
          [
           86
          ],
          [
           79
          ],
          [
           91
          ],
          [
           82
          ],
          [
           85
          ],
          [
           85
          ],
          [
           86
          ],
          [
           79
          ],
          [
           83
          ],
          [
           83
          ],
          [
           91
          ],
          [
           84
          ],
          [
           90
          ],
          [
           83
          ],
          [
           88
          ],
          [
           91
          ],
          [
           87
          ],
          [
           91
          ],
          [
           92
          ],
          [
           84
          ],
          [
           87
          ],
          [
           86
          ],
          [
           89
          ],
          [
           94
          ],
          [
           94
          ],
          [
           86
          ],
          [
           84
          ],
          [
           85
          ],
          [
           89
          ],
          [
           89
          ],
          [
           91
          ],
          [
           83
          ],
          [
           88
          ],
          [
           83
          ],
          [
           91
          ],
          [
           84
          ],
          [
           81
          ],
          [
           91
          ],
          [
           92
          ],
          [
           85
          ],
          [
           91
          ],
          [
           82
          ],
          [
           83
          ],
          [
           86
          ],
          [
           83
          ],
          [
           94
          ],
          [
           83
          ],
          [
           94
          ],
          [
           82
          ],
          [
           85
          ],
          [
           85
          ],
          [
           89
          ],
          [
           89
          ],
          [
           84
          ],
          [
           87
          ],
          [
           88
          ],
          [
           87
          ],
          [
           87
          ],
          [
           94
          ],
          [
           88
          ],
          [
           88
          ],
          [
           85
          ],
          [
           94
          ],
          [
           95
          ],
          [
           88
          ],
          [
           86
          ],
          [
           85
          ],
          [
           92
          ],
          [
           87
          ],
          [
           89
          ],
          [
           89
          ],
          [
           85
          ],
          [
           88
          ],
          [
           93
          ],
          [
           91
          ],
          [
           84
          ],
          [
           87
          ],
          [
           88
          ],
          [
           85
          ],
          [
           91
          ],
          [
           90
          ],
          [
           88
          ],
          [
           85
          ],
          [
           91
          ],
          [
           90
          ],
          [
           88
          ],
          [
           84
          ],
          [
           90
          ],
          [
           87
          ],
          [
           91
          ],
          [
           88
          ],
          [
           89
          ],
          [
           88
          ],
          [
           91
          ],
          [
           84
          ],
          [
           83
          ],
          [
           84
          ],
          [
           87
          ],
          [
           91
          ],
          [
           90
          ],
          [
           88
          ]
         ],
         "hovertemplate": "Cluster=Cluster 2<br>PCA1=%{x}<br>PCA2=%{y}<br>Feature=%{customdata[0]}<extra></extra>",
         "legendgroup": "Cluster 2",
         "marker": {
          "color": "#00cc96",
          "opacity": 0.5,
          "symbol": "circle"
         },
         "mode": "markers",
         "name": "Cluster 2",
         "orientation": "v",
         "showlegend": true,
         "textposition": "top center",
         "type": "scatter",
         "x": [
          -51590.97205811302,
          -53514.36608306823,
          -57516.273183636404,
          -52877.38164603334,
          -47591.22511121998,
          -56854.24491468408,
          -56820.087553604215,
          -40392.52353813574,
          -52219.78891026324,
          -49206.072979236196,
          -52745.271995073796,
          -45243.335995709785,
          -45504.92821664384,
          -55837.896212559055,
          -43811.47262039386,
          -44891.726940178145,
          -63634.72200273953,
          -45889.161245283925,
          -39730.754923731954,
          -40724.15688509663,
          -48762.36466827118,
          -63656.3475899801,
          -58127.50387027,
          -39063.286676190895,
          -39255.47386551346,
          -48338.704662619304,
          -42253.872877958216,
          -56895.33602609462,
          -53329.0889086379,
          -42172.091423728125,
          -59885.18345080086,
          -33223.78792758688,
          -48890.162042831624,
          -42194.798734952405,
          -41047.376366850294,
          -49083.98904448345,
          -57888.98693798615,
          -40276.448131089535,
          -45592.662714596445,
          -44316.3909761365,
          -44207.36919669003,
          -42152.50281937874,
          -38257.012522678684,
          -47490.05337363705,
          -51240.79467490207,
          -53680.72058527788,
          -60035.355735186284,
          -43219.57063079795,
          -52957.61629178095,
          -51335.69636219801,
          -53905.33080870666,
          -47211.30921897938,
          -39708.64698966347,
          -37510.58801132115,
          -57495.82751822275,
          -45148.06214608788,
          -46108.564418073096,
          -55003.11473536293,
          -46621.67518992086,
          -41229.085326467895,
          -53103.84791289729,
          -48496.84792497304,
          -57945.29400939377,
          -47000.171708792885,
          -53120.540708745786,
          -48329.37521986341,
          -50055.78756429354,
          -48031.60033869832,
          -50446.68725850557,
          -51858.952852259725,
          -36822.88272990106,
          -46897.28720484183,
          -48086.4716150678,
          -54413.15855352473,
          -45316.58140609554,
          -49610.67501015967,
          -38870.672641380326,
          -41183.652071657096,
          -58306.89374121131,
          -47148.049506652584,
          -49855.36023906115,
          -48254.00622992488,
          -41272.89533986178,
          -55116.83601816836,
          -39882.02333138302,
          -44945.69901444298,
          -58771.33010043616,
          -51459.51350546342,
          -45053.50115134015,
          -39916.59061152688,
          -52508.30353343571,
          -48448.18982139339,
          -42546.309287033815,
          -54957.490989172315,
          -43231.47790879878,
          -40907.251477988066,
          -46522.91941975115,
          -44680.89350931922,
          -55368.98427568008,
          -48469.75822555576,
          -51191.183110267935,
          -42334.047671506334,
          -57176.86780610603,
          -49618.56425158388,
          -47975.629894303675,
          -42594.24300193296,
          -47129.844163420596,
          -49427.5241370261,
          -47366.649393097105,
          -48754.553222931434,
          -56178.67327005175,
          -28705.212826769803,
          -47927.756153353235,
          -42805.174693662266,
          -49952.56386424753,
          -56491.7261616014,
          -42432.64509966225,
          -47271.4132762421,
          -57750.75774612387,
          -55300.438356116465,
          -49274.44239615929,
          -33685.823037835,
          -44821.27195537092,
          -41654.28537091671,
          -46206.76070917286,
          -46752.17189114907,
          -45508.35388587766,
          -46888.40589877374,
          -41090.43271162364,
          -48867.33422412473,
          -42485.19893050837,
          -47339.94733410824,
          -37730.76934060816,
          -42382.69883203619,
          -28723.991919566,
          -50504.82314273768,
          -49640.516333935884,
          -51006.62596717178,
          -43012.76978349139,
          -45489.12002421862,
          -53484.99044797619,
          -47072.83270827877,
          -46294.69652581508,
          -52350.13688160766,
          -51304.420791210185,
          -50029.0486734844,
          -48459.578853164654
         ],
         "xaxis": "x",
         "y": [
          -1709.6809922654018,
          -3511.6505427575585,
          -2662.237917413056,
          -1034.0462861180674,
          -2876.016821854162,
          -1039.8869670204479,
          -2626.494760123041,
          -1918.0706539765356,
          -361.8228772290582,
          646.5438723752061,
          -3270.250012030127,
          -2386.7446703879696,
          -1656.4250558163044,
          -2913.1513261933915,
          -3844.050642994284,
          -1059.5099705589155,
          -958.5365645110743,
          -3656.8600405231205,
          -3215.3117531036187,
          -3403.3549980948787,
          -1902.303752571811,
          -672.1303645870973,
          -3329.4241557503888,
          -2178.951260878267,
          -2456.0624695072047,
          -296.94791022013504,
          -2813.4088657561024,
          -219.83567344031903,
          -3704.1152030668836,
          -3482.9509244203136,
          968.182184170178,
          -4327.5998004040275,
          -3117.043572435123,
          -2831.244972649777,
          163.0086019424072,
          -2706.9542458595415,
          -2297.4104284560135,
          -3159.4030652887395,
          -1858.741542867274,
          -1681.107809398615,
          -1788.5950192551384,
          -3595.426499455154,
          -3209.705699855121,
          -1025.6556377131571,
          -337.58311029945713,
          -1523.153182779475,
          -2067.7852022028565,
          -982.6374045457418,
          -512.1681616652345,
          -2253.324954790312,
          776.7213551828829,
          -497.02873214681387,
          -2812.640832274526,
          -2385.9306735999717,
          -874.5938320396226,
          -918.4435413744565,
          -4704.9007181400775,
          -1806.3716349634747,
          -1061.3928297006273,
          -559.8887343311549,
          -1838.664645556659,
          -1255.0231217175187,
          -1690.2235244245394,
          -3258.5927312494296,
          -2373.9068521136146,
          -2106.9565485318562,
          -458.7329379734674,
          -2520.8796709258977,
          -1789.8310613735046,
          -1998.3145148841256,
          -3004.135925035732,
          -1500.599753550345,
          -3267.664533478744,
          -1055.9968931753672,
          72.34189620852611,
          -2494.346015854769,
          -4966.632983631631,
          -2299.177576458251,
          -1498.3070625903993,
          -948.1700320034128,
          -2551.6409458672997,
          -3586.392912339362,
          -2039.0519450914776,
          -3386.631387427836,
          -3145.8388116696306,
          -2663.436303414359,
          -1946.4256348815318,
          -1443.6312210611654,
          -3267.8530880659673,
          -5860.406970913431,
          -2003.3795586148926,
          -424.4944516024695,
          -2323.9550250667417,
          -1273.0340909671531,
          -2464.366506729347,
          -2247.7230980697595,
          -2395.15062032791,
          -3320.2381091067427,
          -990.607597031653,
          -975.0110199269354,
          -2999.048136853006,
          -946.4427010468263,
          -500.3822260290336,
          -1200.4987085746998,
          -2697.4806496368715,
          -4573.13594967613,
          -2166.9455265130237,
          -3282.496783689516,
          -2226.5238835946834,
          -3476.7575329414076,
          -1450.7318688866605,
          -2125.5165732968326,
          1139.0677249894102,
          -2383.9235864924353,
          -1016.3628176053348,
          -1529.9495201383822,
          -2804.3175987818167,
          -1422.2632521531452,
          -1546.7860227984638,
          -2379.4453929525343,
          -1819.1411133435656,
          -2359.9810608524367,
          -809.2478504066129,
          -1284.2763352326008,
          -3972.437291114198,
          -4260.667936777424,
          -1716.0957515179934,
          -1747.2845158743746,
          -2507.468037848858,
          -3330.0950893142626,
          -1573.1293339464685,
          -2756.210456765215,
          -3447.522865699352,
          -1026.2178281219412,
          -1283.2493416842196,
          -2541.1040744024203,
          -2403.452656500527,
          1229.634202103802,
          -2388.397515567186,
          -857.2365574199106,
          -2964.871161538943,
          -3652.143022077504,
          -3445.140762666876,
          -1271.8366968001812,
          -1341.6421504993361,
          -2907.7981801354913,
          -623.0248233972334
         ],
         "yaxis": "y"
        },
        {
         "customdata": [
          [
           34
          ],
          [
           35
          ],
          [
           29
          ],
          [
           32
          ],
          [
           30
          ],
          [
           33
          ],
          [
           34
          ],
          [
           35
          ],
          [
           28
          ],
          [
           31
          ],
          [
           35
          ],
          [
           32
          ],
          [
           30
          ],
          [
           37
          ],
          [
           29
          ],
          [
           22
          ],
          [
           30
          ],
          [
           29
          ],
          [
           28
          ],
          [
           36
          ],
          [
           28
          ],
          [
           36
          ],
          [
           31
          ],
          [
           28
          ],
          [
           33
          ],
          [
           31
          ],
          [
           85
          ],
          [
           33
          ],
          [
           36
          ],
          [
           86
          ],
          [
           30
          ],
          [
           34
          ],
          [
           27
          ],
          [
           28
          ],
          [
           31
          ],
          [
           33
          ],
          [
           32
          ],
          [
           28
          ],
          [
           32
          ],
          [
           30
          ],
          [
           38
          ],
          [
           35
          ],
          [
           37
          ],
          [
           31
          ],
          [
           31
          ],
          [
           31
          ],
          [
           31
          ],
          [
           33
          ],
          [
           34
          ],
          [
           32
          ],
          [
           30
          ],
          [
           30
          ],
          [
           35
          ],
          [
           33
          ],
          [
           40
          ],
          [
           42
          ],
          [
           37
          ],
          [
           25
          ],
          [
           34
          ],
          [
           84
          ],
          [
           43
          ],
          [
           28
          ],
          [
           36
          ],
          [
           37
          ],
          [
           37
          ],
          [
           35
          ],
          [
           31
          ],
          [
           36
          ],
          [
           31
          ],
          [
           29
          ],
          [
           33
          ],
          [
           36
          ],
          [
           30
          ],
          [
           36
          ],
          [
           34
          ],
          [
           37
          ],
          [
           35
          ],
          [
           35
          ],
          [
           88
          ],
          [
           31
          ],
          [
           30
          ],
          [
           33
          ],
          [
           31
          ],
          [
           31
          ],
          [
           33
          ],
          [
           26
          ],
          [
           24
          ],
          [
           29
          ],
          [
           33
          ],
          [
           39
          ],
          [
           37
          ],
          [
           29
          ],
          [
           37
          ],
          [
           29
          ],
          [
           33
          ],
          [
           34
          ],
          [
           84
          ],
          [
           44
          ],
          [
           31
          ],
          [
           31
          ],
          [
           25
          ],
          [
           36
          ],
          [
           29
          ],
          [
           29
          ],
          [
           38
          ],
          [
           39
          ],
          [
           32
          ],
          [
           36
          ],
          [
           29
          ],
          [
           34
          ],
          [
           31
          ],
          [
           37
          ],
          [
           84
          ],
          [
           34
          ],
          [
           33
          ],
          [
           35
          ],
          [
           36
          ],
          [
           31
          ],
          [
           39
          ],
          [
           37
          ],
          [
           38
          ],
          [
           31
          ],
          [
           35
          ],
          [
           59
          ],
          [
           33
          ],
          [
           30
          ],
          [
           33
          ],
          [
           34
          ],
          [
           38
          ],
          [
           30
          ]
         ],
         "hovertemplate": "Cluster=Cluster 3<br>PCA1=%{x}<br>PCA2=%{y}<br>Feature=%{customdata[0]}<extra></extra>",
         "legendgroup": "Cluster 3",
         "marker": {
          "color": "#ab63fa",
          "opacity": 0.5,
          "symbol": "circle"
         },
         "mode": "markers",
         "name": "Cluster 3",
         "orientation": "v",
         "showlegend": true,
         "textposition": "top center",
         "type": "scatter",
         "x": [
          23196.213306438225,
          32691.86956168572,
          26312.372968927524,
          26023.566351406153,
          20486.14069594545,
          23896.36880790408,
          31502.36034296822,
          26578.15319626618,
          22236.16947437228,
          28681.54988758575,
          31317.298064553695,
          19785.994393274672,
          25376.693266073158,
          31202.41268247607,
          30268.705481263285,
          33345.15627123118,
          22224.556143435286,
          35711.07999432945,
          25474.402763797287,
          26071.981181359246,
          23858.59824002342,
          28639.385002450483,
          40419.576695104144,
          36260.39985707386,
          31045.220255678778,
          25363.919226720413,
          35579.2058158063,
          31361.08526779913,
          23967.006087975617,
          39941.23737509608,
          24294.808478346324,
          23022.21826312664,
          31016.952770667864,
          19017.169464917504,
          32307.93672914093,
          40849.48059769063,
          32572.750272366186,
          24827.978780545967,
          34753.148485730795,
          32149.92129268287,
          39399.40138181148,
          34360.48180735056,
          34830.86603735357,
          23748.677815454044,
          32345.70842870058,
          32322.908553122463,
          31330.343984524767,
          36008.72535912231,
          26507.042872359903,
          26343.67867390245,
          30614.165778553557,
          31911.001239366324,
          28912.895136199942,
          30046.48908092605,
          23032.680124651262,
          31253.468530449412,
          22105.034591078256,
          25765.79004232835,
          14006.0009653654,
          39513.273555432395,
          25938.050496756237,
          33379.42058468909,
          29861.546669621443,
          30949.636901997932,
          32912.89206331583,
          37194.90227907419,
          37228.73474520067,
          24491.388898644724,
          30148.68267391608,
          40673.85964432745,
          38869.64945267168,
          32210.9797686424,
          26298.14841024672,
          22350.76981632157,
          22393.41773018013,
          21900.78530003276,
          41298.631292835045,
          26003.522431925612,
          38847.16976776078,
          35758.275435536685,
          32797.64366935493,
          30584.124615113236,
          25732.344972190545,
          32416.93987389554,
          24613.75198032611,
          21973.307950443825,
          34815.25492053805,
          15764.49143141583,
          19295.267686809562,
          24706.12835284515,
          32289.54020716664,
          35036.7158554872,
          35023.21627080028,
          26228.37628643619,
          16918.676201100123,
          27456.913266673106,
          38543.62512292868,
          38938.11813871434,
          29210.556946439687,
          26983.046364278187,
          30950.101839682393,
          33203.84256888802,
          27412.69140542123,
          36813.76713420395,
          28960.634964946767,
          24819.360949497743,
          30836.978307627433,
          34060.87750047383,
          23392.942046850585,
          28627.259856400295,
          29240.50974864809,
          32853.06228369525,
          34834.90179465996,
          35572.71538685354,
          32561.025360063293,
          30806.77634195278,
          20592.34661300776,
          39135.37622313005,
          23470.847033328017,
          31960.754514207256,
          37939.71700891233,
          35187.91053468464,
          30155.334159636983,
          15177.31971466767,
          25328.069962281672,
          31614.442565419085,
          22258.608668569897,
          27758.387575808203,
          18943.372817813033,
          33217.92661094809
         ],
         "xaxis": "x",
         "y": [
          -5613.714946473871,
          -6066.4571229345775,
          -4286.405360287333,
          -7172.334785619936,
          -4804.2037003568,
          -4653.5725508840405,
          -5081.205331963824,
          -4542.181472406769,
          -4400.042331000772,
          -4194.112454577069,
          -6141.7632635534965,
          -4699.391527469763,
          -3922.3292073945413,
          -4006.8807824041246,
          -4917.675594824387,
          -6080.299826048203,
          -5737.014216399172,
          -4543.481105344736,
          -4541.161711915865,
          -4687.7646194954505,
          -4857.997302514553,
          -3130.9505393461027,
          -6642.233640263949,
          -3890.3447962612577,
          -4354.880673536976,
          -6518.8777436186265,
          -6195.256515402733,
          -4837.589604607755,
          -5918.696393593378,
          -5237.495032301008,
          -3156.174867738151,
          -4439.122859420632,
          -4865.004407317279,
          -4587.056600403996,
          -3401.081521768778,
          -5591.430862352509,
          -6711.005814772027,
          -5088.608312301609,
          -4008.5890127539014,
          -5508.945169399096,
          -5202.090344164469,
          -5038.816440742177,
          -5377.229021116216,
          -4085.387888540779,
          -2201.720436215354,
          -3681.290385681804,
          -5635.163544619187,
          -6111.7051713952615,
          -5484.674656121098,
          -3863.006874934306,
          -4762.434912619338,
          -2672.9112969661533,
          -5224.554435670845,
          -2733.109485171264,
          -5461.179044520955,
          -4792.820172444664,
          -4346.187741550611,
          -4647.515091833699,
          -1775.6050399833514,
          -4805.682520520943,
          -4054.2528418970855,
          -4139.053044046939,
          -4210.491742797324,
          -4397.197322284793,
          -4588.664684244311,
          -4030.486076235751,
          -4575.537648425253,
          -3378.5440905478695,
          -3727.6412226852462,
          -5771.827716588531,
          -4117.836047019013,
          -5806.3623666589,
          -5023.038755192273,
          -5405.1923800705135,
          -5150.746928288214,
          -5234.914435436248,
          -6422.0650063113535,
          -3786.13364247153,
          -8209.639308093878,
          -4122.472097486012,
          -5654.546848389321,
          -5198.651743783723,
          -4846.280009746118,
          -3316.873784519851,
          -3288.4642893518344,
          -5227.972306159951,
          -5108.281670571713,
          -2149.1522120766226,
          -3266.6501002799127,
          -6304.286871577944,
          -3634.3413606407403,
          -6415.6995362262505,
          -4416.577273256118,
          -4266.484164687801,
          -2877.1946078768765,
          -4868.312164441829,
          -7198.063753004443,
          -4443.169815276389,
          -6286.356908964105,
          -2897.4181107781196,
          -6274.399407676459,
          -6552.893169384945,
          -5970.65960581778,
          -4615.4621298706315,
          -5439.902381792011,
          -6443.116567478201,
          -4248.41099877993,
          -5075.678351149007,
          -5117.926369906291,
          -3324.8164217780163,
          -5240.709879901141,
          -5910.595724540105,
          -5079.540930731751,
          -4807.665202226777,
          -5658.529147335399,
          -5560.204679600004,
          -4611.587648361574,
          -4339.707016425756,
          -4720.2489254083885,
          -7950.13767990454,
          -4683.440281859752,
          -4164.858385743974,
          -6491.845916302066,
          4253.670268811266,
          -4507.818852759072,
          -3948.413153701508,
          -5195.925409188555,
          -3524.6018820414947,
          -6099.926511675162,
          -4387.404636496326
         ],
         "yaxis": "y"
        }
       ],
       "layout": {
        "height": 600,
        "legend": {
         "title": {
          "text": "Cluster"
         },
         "tracegroupgap": 0
        },
        "margin": {
         "t": 60
        },
        "plot_bgcolor": "rgb(240,240,240)",
        "template": {
         "data": {
          "bar": [
           {
            "error_x": {
             "color": "#2a3f5f"
            },
            "error_y": {
             "color": "#2a3f5f"
            },
            "marker": {
             "line": {
              "color": "#E5ECF6",
              "width": 0.5
             }
            },
            "type": "bar"
           }
          ],
          "barpolar": [
           {
            "marker": {
             "line": {
              "color": "#E5ECF6",
              "width": 0.5
             }
            },
            "type": "barpolar"
           }
          ],
          "carpet": [
           {
            "aaxis": {
             "endlinecolor": "#2a3f5f",
             "gridcolor": "white",
             "linecolor": "white",
             "minorgridcolor": "white",
             "startlinecolor": "#2a3f5f"
            },
            "baxis": {
             "endlinecolor": "#2a3f5f",
             "gridcolor": "white",
             "linecolor": "white",
             "minorgridcolor": "white",
             "startlinecolor": "#2a3f5f"
            },
            "type": "carpet"
           }
          ],
          "choropleth": [
           {
            "colorbar": {
             "outlinewidth": 0,
             "ticks": ""
            },
            "type": "choropleth"
           }
          ],
          "contour": [
           {
            "colorbar": {
             "outlinewidth": 0,
             "ticks": ""
            },
            "colorscale": [
             [
              0,
              "#0d0887"
             ],
             [
              0.1111111111111111,
              "#46039f"
             ],
             [
              0.2222222222222222,
              "#7201a8"
             ],
             [
              0.3333333333333333,
              "#9c179e"
             ],
             [
              0.4444444444444444,
              "#bd3786"
             ],
             [
              0.5555555555555556,
              "#d8576b"
             ],
             [
              0.6666666666666666,
              "#ed7953"
             ],
             [
              0.7777777777777778,
              "#fb9f3a"
             ],
             [
              0.8888888888888888,
              "#fdca26"
             ],
             [
              1,
              "#f0f921"
             ]
            ],
            "type": "contour"
           }
          ],
          "contourcarpet": [
           {
            "colorbar": {
             "outlinewidth": 0,
             "ticks": ""
            },
            "type": "contourcarpet"
           }
          ],
          "heatmap": [
           {
            "colorbar": {
             "outlinewidth": 0,
             "ticks": ""
            },
            "colorscale": [
             [
              0,
              "#0d0887"
             ],
             [
              0.1111111111111111,
              "#46039f"
             ],
             [
              0.2222222222222222,
              "#7201a8"
             ],
             [
              0.3333333333333333,
              "#9c179e"
             ],
             [
              0.4444444444444444,
              "#bd3786"
             ],
             [
              0.5555555555555556,
              "#d8576b"
             ],
             [
              0.6666666666666666,
              "#ed7953"
             ],
             [
              0.7777777777777778,
              "#fb9f3a"
             ],
             [
              0.8888888888888888,
              "#fdca26"
             ],
             [
              1,
              "#f0f921"
             ]
            ],
            "type": "heatmap"
           }
          ],
          "heatmapgl": [
           {
            "colorbar": {
             "outlinewidth": 0,
             "ticks": ""
            },
            "colorscale": [
             [
              0,
              "#0d0887"
             ],
             [
              0.1111111111111111,
              "#46039f"
             ],
             [
              0.2222222222222222,
              "#7201a8"
             ],
             [
              0.3333333333333333,
              "#9c179e"
             ],
             [
              0.4444444444444444,
              "#bd3786"
             ],
             [
              0.5555555555555556,
              "#d8576b"
             ],
             [
              0.6666666666666666,
              "#ed7953"
             ],
             [
              0.7777777777777778,
              "#fb9f3a"
             ],
             [
              0.8888888888888888,
              "#fdca26"
             ],
             [
              1,
              "#f0f921"
             ]
            ],
            "type": "heatmapgl"
           }
          ],
          "histogram": [
           {
            "marker": {
             "colorbar": {
              "outlinewidth": 0,
              "ticks": ""
             }
            },
            "type": "histogram"
           }
          ],
          "histogram2d": [
           {
            "colorbar": {
             "outlinewidth": 0,
             "ticks": ""
            },
            "colorscale": [
             [
              0,
              "#0d0887"
             ],
             [
              0.1111111111111111,
              "#46039f"
             ],
             [
              0.2222222222222222,
              "#7201a8"
             ],
             [
              0.3333333333333333,
              "#9c179e"
             ],
             [
              0.4444444444444444,
              "#bd3786"
             ],
             [
              0.5555555555555556,
              "#d8576b"
             ],
             [
              0.6666666666666666,
              "#ed7953"
             ],
             [
              0.7777777777777778,
              "#fb9f3a"
             ],
             [
              0.8888888888888888,
              "#fdca26"
             ],
             [
              1,
              "#f0f921"
             ]
            ],
            "type": "histogram2d"
           }
          ],
          "histogram2dcontour": [
           {
            "colorbar": {
             "outlinewidth": 0,
             "ticks": ""
            },
            "colorscale": [
             [
              0,
              "#0d0887"
             ],
             [
              0.1111111111111111,
              "#46039f"
             ],
             [
              0.2222222222222222,
              "#7201a8"
             ],
             [
              0.3333333333333333,
              "#9c179e"
             ],
             [
              0.4444444444444444,
              "#bd3786"
             ],
             [
              0.5555555555555556,
              "#d8576b"
             ],
             [
              0.6666666666666666,
              "#ed7953"
             ],
             [
              0.7777777777777778,
              "#fb9f3a"
             ],
             [
              0.8888888888888888,
              "#fdca26"
             ],
             [
              1,
              "#f0f921"
             ]
            ],
            "type": "histogram2dcontour"
           }
          ],
          "mesh3d": [
           {
            "colorbar": {
             "outlinewidth": 0,
             "ticks": ""
            },
            "type": "mesh3d"
           }
          ],
          "parcoords": [
           {
            "line": {
             "colorbar": {
              "outlinewidth": 0,
              "ticks": ""
             }
            },
            "type": "parcoords"
           }
          ],
          "pie": [
           {
            "automargin": true,
            "type": "pie"
           }
          ],
          "scatter": [
           {
            "marker": {
             "colorbar": {
              "outlinewidth": 0,
              "ticks": ""
             }
            },
            "type": "scatter"
           }
          ],
          "scatter3d": [
           {
            "line": {
             "colorbar": {
              "outlinewidth": 0,
              "ticks": ""
             }
            },
            "marker": {
             "colorbar": {
              "outlinewidth": 0,
              "ticks": ""
             }
            },
            "type": "scatter3d"
           }
          ],
          "scattercarpet": [
           {
            "marker": {
             "colorbar": {
              "outlinewidth": 0,
              "ticks": ""
             }
            },
            "type": "scattercarpet"
           }
          ],
          "scattergeo": [
           {
            "marker": {
             "colorbar": {
              "outlinewidth": 0,
              "ticks": ""
             }
            },
            "type": "scattergeo"
           }
          ],
          "scattergl": [
           {
            "marker": {
             "colorbar": {
              "outlinewidth": 0,
              "ticks": ""
             }
            },
            "type": "scattergl"
           }
          ],
          "scattermapbox": [
           {
            "marker": {
             "colorbar": {
              "outlinewidth": 0,
              "ticks": ""
             }
            },
            "type": "scattermapbox"
           }
          ],
          "scatterpolar": [
           {
            "marker": {
             "colorbar": {
              "outlinewidth": 0,
              "ticks": ""
             }
            },
            "type": "scatterpolar"
           }
          ],
          "scatterpolargl": [
           {
            "marker": {
             "colorbar": {
              "outlinewidth": 0,
              "ticks": ""
             }
            },
            "type": "scatterpolargl"
           }
          ],
          "scatterternary": [
           {
            "marker": {
             "colorbar": {
              "outlinewidth": 0,
              "ticks": ""
             }
            },
            "type": "scatterternary"
           }
          ],
          "surface": [
           {
            "colorbar": {
             "outlinewidth": 0,
             "ticks": ""
            },
            "colorscale": [
             [
              0,
              "#0d0887"
             ],
             [
              0.1111111111111111,
              "#46039f"
             ],
             [
              0.2222222222222222,
              "#7201a8"
             ],
             [
              0.3333333333333333,
              "#9c179e"
             ],
             [
              0.4444444444444444,
              "#bd3786"
             ],
             [
              0.5555555555555556,
              "#d8576b"
             ],
             [
              0.6666666666666666,
              "#ed7953"
             ],
             [
              0.7777777777777778,
              "#fb9f3a"
             ],
             [
              0.8888888888888888,
              "#fdca26"
             ],
             [
              1,
              "#f0f921"
             ]
            ],
            "type": "surface"
           }
          ],
          "table": [
           {
            "cells": {
             "fill": {
              "color": "#EBF0F8"
             },
             "line": {
              "color": "white"
             }
            },
            "header": {
             "fill": {
              "color": "#C8D4E3"
             },
             "line": {
              "color": "white"
             }
            },
            "type": "table"
           }
          ]
         },
         "layout": {
          "annotationdefaults": {
           "arrowcolor": "#2a3f5f",
           "arrowhead": 0,
           "arrowwidth": 1
          },
          "coloraxis": {
           "colorbar": {
            "outlinewidth": 0,
            "ticks": ""
           }
          },
          "colorscale": {
           "diverging": [
            [
             0,
             "#8e0152"
            ],
            [
             0.1,
             "#c51b7d"
            ],
            [
             0.2,
             "#de77ae"
            ],
            [
             0.3,
             "#f1b6da"
            ],
            [
             0.4,
             "#fde0ef"
            ],
            [
             0.5,
             "#f7f7f7"
            ],
            [
             0.6,
             "#e6f5d0"
            ],
            [
             0.7,
             "#b8e186"
            ],
            [
             0.8,
             "#7fbc41"
            ],
            [
             0.9,
             "#4d9221"
            ],
            [
             1,
             "#276419"
            ]
           ],
           "sequential": [
            [
             0,
             "#0d0887"
            ],
            [
             0.1111111111111111,
             "#46039f"
            ],
            [
             0.2222222222222222,
             "#7201a8"
            ],
            [
             0.3333333333333333,
             "#9c179e"
            ],
            [
             0.4444444444444444,
             "#bd3786"
            ],
            [
             0.5555555555555556,
             "#d8576b"
            ],
            [
             0.6666666666666666,
             "#ed7953"
            ],
            [
             0.7777777777777778,
             "#fb9f3a"
            ],
            [
             0.8888888888888888,
             "#fdca26"
            ],
            [
             1,
             "#f0f921"
            ]
           ],
           "sequentialminus": [
            [
             0,
             "#0d0887"
            ],
            [
             0.1111111111111111,
             "#46039f"
            ],
            [
             0.2222222222222222,
             "#7201a8"
            ],
            [
             0.3333333333333333,
             "#9c179e"
            ],
            [
             0.4444444444444444,
             "#bd3786"
            ],
            [
             0.5555555555555556,
             "#d8576b"
            ],
            [
             0.6666666666666666,
             "#ed7953"
            ],
            [
             0.7777777777777778,
             "#fb9f3a"
            ],
            [
             0.8888888888888888,
             "#fdca26"
            ],
            [
             1,
             "#f0f921"
            ]
           ]
          },
          "colorway": [
           "#636efa",
           "#EF553B",
           "#00cc96",
           "#ab63fa",
           "#FFA15A",
           "#19d3f3",
           "#FF6692",
           "#B6E880",
           "#FF97FF",
           "#FECB52"
          ],
          "font": {
           "color": "#2a3f5f"
          },
          "geo": {
           "bgcolor": "white",
           "lakecolor": "white",
           "landcolor": "#E5ECF6",
           "showlakes": true,
           "showland": true,
           "subunitcolor": "white"
          },
          "hoverlabel": {
           "align": "left"
          },
          "hovermode": "closest",
          "mapbox": {
           "style": "light"
          },
          "paper_bgcolor": "white",
          "plot_bgcolor": "#E5ECF6",
          "polar": {
           "angularaxis": {
            "gridcolor": "white",
            "linecolor": "white",
            "ticks": ""
           },
           "bgcolor": "#E5ECF6",
           "radialaxis": {
            "gridcolor": "white",
            "linecolor": "white",
            "ticks": ""
           }
          },
          "scene": {
           "xaxis": {
            "backgroundcolor": "#E5ECF6",
            "gridcolor": "white",
            "gridwidth": 2,
            "linecolor": "white",
            "showbackground": true,
            "ticks": "",
            "zerolinecolor": "white"
           },
           "yaxis": {
            "backgroundcolor": "#E5ECF6",
            "gridcolor": "white",
            "gridwidth": 2,
            "linecolor": "white",
            "showbackground": true,
            "ticks": "",
            "zerolinecolor": "white"
           },
           "zaxis": {
            "backgroundcolor": "#E5ECF6",
            "gridcolor": "white",
            "gridwidth": 2,
            "linecolor": "white",
            "showbackground": true,
            "ticks": "",
            "zerolinecolor": "white"
           }
          },
          "shapedefaults": {
           "line": {
            "color": "#2a3f5f"
           }
          },
          "ternary": {
           "aaxis": {
            "gridcolor": "white",
            "linecolor": "white",
            "ticks": ""
           },
           "baxis": {
            "gridcolor": "white",
            "linecolor": "white",
            "ticks": ""
           },
           "bgcolor": "#E5ECF6",
           "caxis": {
            "gridcolor": "white",
            "linecolor": "white",
            "ticks": ""
           }
          },
          "title": {
           "x": 0.05
          },
          "xaxis": {
           "automargin": true,
           "gridcolor": "white",
           "linecolor": "white",
           "ticks": "",
           "title": {
            "standoff": 15
           },
           "zerolinecolor": "white",
           "zerolinewidth": 2
          },
          "yaxis": {
           "automargin": true,
           "gridcolor": "white",
           "linecolor": "white",
           "ticks": "",
           "title": {
            "standoff": 15
           },
           "zerolinecolor": "white",
           "zerolinewidth": 2
          }
         }
        },
        "title": {
         "text": "2D Cluster PCA Plot"
        },
        "xaxis": {
         "anchor": "y",
         "domain": [
          0,
          1
         ],
         "title": {
          "text": "PCA1"
         }
        },
        "yaxis": {
         "anchor": "x",
         "domain": [
          0,
          1
         ],
         "title": {
          "text": "PCA2"
         }
        }
       }
      },
      "text/html": [
       "<div>                            <div id=\"d4ee0f99-0df0-4d2e-a140-92f4cab3e37d\" class=\"plotly-graph-div\" style=\"height:600px; width:100%;\"></div>            <script type=\"text/javascript\">                require([\"plotly\"], function(Plotly) {                    window.PLOTLYENV=window.PLOTLYENV || {};                                    if (document.getElementById(\"d4ee0f99-0df0-4d2e-a140-92f4cab3e37d\")) {                    Plotly.newPlot(                        \"d4ee0f99-0df0-4d2e-a140-92f4cab3e37d\",                        [{\"customdata\": [[58], [58], [55], [60], [56], [60], [58], [56], [64], [63], [62], [59], [67], [58], [58], [57], [66], [64], [59], [68], [61], [64], [63], [55], [57], [57], [53], [61], [61], [62], [62], [62], [60], [65], [60], [63], [56], [58], [62], [56], [59], [65], [62], [59], [66], [64], [62], [61], [56], [62], [60], [62], [64], [63], [58], [59], [59], [59], [59], [55], [51], [57], [61], [60], [64], [65], [59], [58], [63], [61], [59], [56], [61], [63], [58], [62], [60], [62], [65], [59], [65], [58], [61], [66], [58], [68], [58], [67], [58], [56], [61], [56], [61], [59], [62], [59], [59], [59], [57], [59], [64], [61], [63], [56], [59], [58], [61], [55], [59], [60], [60], [67], [57], [56], [67], [63], [57], [59], [61], [59], [64], [62], [55], [54], [61], [58], [59], [53], [55], [58], [58], [61], [62], [57], [56], [61], [59], [60], [61], [66], [58], [63], [58], [60], [62], [66], [59], [56], [59], [64], [61], [57], [55], [53], [57], [55]], \"hovertemplate\": \"Cluster=Cluster 0<br>PCA1=%{x}<br>PCA2=%{y}<br>Feature=%{customdata[0]}<extra></extra>\", \"legendgroup\": \"Cluster 0\", \"marker\": {\"color\": \"#636efa\", \"opacity\": 0.5, \"symbol\": \"circle\"}, \"mode\": \"markers\", \"name\": \"Cluster 0\", \"orientation\": \"v\", \"showlegend\": true, \"textposition\": \"top center\", \"type\": \"scatter\", \"x\": [2555.7842351601794, 8122.080380415535, 871.0561448640374, -7740.904879089721, -15159.90191624567, -9955.599000501968, 5073.487356522336, -7927.279393999564, -10817.514881421737, -182.87509706290282, -12401.01261442263, 384.4886537787778, -15876.014194933867, 2392.951400013222, -4856.160277619086, -9604.976101231397, -3578.6411667637353, 3594.0424216908227, -5713.3044750317185, 2456.1149429108755, -4025.5345868614977, 1223.333284206349, -18377.080919160886, -1254.7961050822842, 1380.9095854822526, -5506.504775277304, -284.9346161317539, -1867.5011952055156, -4335.121223668245, -8175.944783841654, -11570.013629472289, -12594.17524212853, -3881.279223544833, -9447.566957019659, -4595.725467462928, 5567.478117111795, 9121.208329826168, 499.49661809612985, -4176.722631704313, -6529.597912750257, -7423.928769536232, -9153.99210091784, 4864.683651412988, -7249.0281297969295, 7325.256189492683, 1198.2155272857167, -6945.490220855902, -5628.983771409209, -6874.447300583781, 3175.7301008876725, -10072.875118803535, -5806.077052611823, 11039.026942031698, -5414.849621380296, 3385.822049131313, -3902.6507601274097, 277.3194547180308, -18832.323089995094, -7793.454352086526, -10419.65072709327, -3127.7464754071884, -3147.9716901024035, 3607.6218475354385, -805.518284046699, -12402.614006035734, -811.2733012583082, -7981.746810683434, 2868.6753358918036, 7034.566991846867, -7827.504392605748, -7225.6566514965525, -9823.292971418656, -3197.7706749317117, -4661.643199436445, -4588.8456828873295, -1424.2968527852572, -11770.096221904687, -7431.169946592951, -4794.730185972462, -5787.584457334291, -4114.665812502666, -4883.720561797814, -967.1345292294866, 1855.0479869186768, 3333.037008198885, -6270.1300577046395, -6075.723945911873, 3574.8676282851225, 834.6063416853473, 375.61202524740867, -3222.028497117649, 3735.222300120537, -9600.009525716892, 2663.814142724254, -5898.7444796811515, -6051.79802714964, 5619.125538763618, -2220.635450610068, -10371.487057071718, -1864.5940590614487, -3536.6248996188683, -9270.98324611397, -7793.211508914162, 5122.282562298911, 7017.4072298069395, 4968.764645874565, -6214.354917756379, 1547.91243955942, -1709.0067116984405, -5149.414552966316, -9176.939917160445, 5679.935032255548, 4615.604589783885, -1755.366356398994, -6586.375015596345, -2329.616759752772, -1148.5927138363206, -9514.742122293766, -6112.701966838939, -860.4354477953815, -14757.626854505606, -5414.451723823098, -3652.0516272195196, 1270.5926186365057, -11385.807297750882, -5327.512619806887, -5495.930030665687, 1535.3200349238562, -4197.995995572507, 1797.8692846207487, -907.669087609122, -1006.7942808927021, -1710.0091006297807, 4241.775895153039, -11393.264281389038, -3354.409395492052, -2601.8696283459503, -5228.773548143099, 1691.1469990054961, -2630.7941352081853, -4333.35317149532, 10499.407295945568, -4972.9221411299695, 4848.44276438797, -611.8920766835481, -10238.837928743038, -879.6961231840237, 11129.424149229595, 6644.59761279822, 13091.37415351667, -2009.7086141751752, 106.44730782999252, 3442.0678654010403, -13124.391604038403, 1381.2925438038883, -847.3002227743443], \"xaxis\": \"x\", \"y\": [5164.690387393576, 4731.012058760933, 5689.000453091916, 5133.639471687392, 5573.243592768734, 4085.312250446126, 5244.436809348922, 5673.5277286108085, 6677.482101590944, 4411.324353776289, 6731.622371228149, 6845.141814371284, 7337.462584330774, 5992.6840941097125, 6861.841710581512, 5517.456998799797, 4687.331305792249, 5244.2237675362085, 6098.407171499213, 5539.97825427613, 5644.552199614275, 5666.367954752706, 5086.374324713109, 6380.915494292798, 5567.112673818738, 6298.43017886774, 4064.0083360808126, 2685.6626854367987, 2658.297518890416, 5599.274828311299, 6393.5849274602415, 5058.593507665872, 3532.7508016456395, 6026.370137728775, 4575.315245883319, 6399.679457928582, 4076.188863858502, 4450.572465085806, 5121.948177991025, 5174.0600160707545, 5595.425208078434, 6237.455006749804, 4834.953991865892, 5030.10150990485, 5245.750156657968, 6031.597780098124, 5240.28369762661, 3413.460990034037, 3266.4701832643827, 4727.079813055354, 7033.832306225478, 5686.132349951813, 4384.687289531574, 4509.378948047734, 4513.159427781262, 5499.339332721772, 5152.077722121318, 6823.253328040572, 5788.853893383753, 5982.858221439137, 5318.28199362223, 5506.996622913865, 4852.444518767343, 4348.095679784142, 4277.420432790434, 4771.515153180698, 3467.565974911423, 5223.642330390362, 3374.2871342934304, 5701.697575023517, 4564.617621855321, 6862.247572080615, 5127.94926128046, 4875.412034392047, 4468.268102563846, 7267.328542397009, 5001.420783196855, 6342.036901878033, 5174.470545977298, 5711.628393266975, 3078.8964384945957, 4688.370746949261, 4638.724240674155, 5468.7432742866995, 4012.2154933423185, 5401.821696967173, 3500.5964543132573, 6638.18948814305, 5141.101367432595, 5049.60629694778, 4129.18118941636, 4370.4678288227215, 4923.281603355226, 3399.120354730326, 5205.840154213883, 6221.683453940024, 4314.803908984973, 4177.140129281854, 6211.274488459205, 5267.352553209781, 5070.413098436329, 5996.5491526534, 6334.243251982052, 3424.073603905292, 5588.800602998209, 3943.117073633916, 8154.200533863815, 3973.906997486516, 3684.6952959403616, 5556.666139133824, 7146.662858252786, 4711.285967238696, 5713.442041909508, 4273.205301847639, 4795.659622307601, 6502.207882775598, 6154.51860618152, 5484.0622101307545, 7150.265686204216, 1366.2175061913922, 5008.012103778611, 6401.496850378563, 4298.147934215803, 4918.861099714741, 5239.834486252135, 5507.674538617938, 5033.927181148628, 6617.143404468863, 4646.423038232098, 3616.906622264866, 4662.571801362165, 6827.7367522808745, 5692.0917043594045, 4854.3736115380125, 4760.726683836126, 4039.0497082186116, 5720.063910631853, 4906.821369117013, 4305.605513370144, 5512.809888472105, 6791.121727987135, 4092.586810582499, 5053.974394482311, 6716.3892700823335, 2642.856462873313, 7423.315368546441, 4574.0298524802365, 2451.395645635495, 6074.108821940054, 3878.0740056043564, 4571.3116018885175, 5019.545071865864, 3293.925709825788, 5122.298575466138, 5207.221097509015, 5435.293808150469], \"yaxis\": \"y\"}, {\"customdata\": [[88], [21], [26], [25], [23], [20], [30], [17], [24], [29], [29], [25], [23], [87], [85], [22], [83], [25], [83], [90], [18], [17], [24], [20], [20], [23], [91], [26], [77], [21], [83], [28], [28], [29], [24], [90], [28], [25], [34], [89], [27], [27], [22], [82], [92], [26], [93], [17], [28], [24], [24], [26], [24], [18], [32], [26], [28], [23], [28], [29], [82], [17], [86], [27], [88], [84], [24], [86], [25], [25], [31], [22]], \"hovertemplate\": \"Cluster=Cluster 1<br>PCA1=%{x}<br>PCA2=%{y}<br>Feature=%{customdata[0]}<extra></extra>\", \"legendgroup\": \"Cluster 1\", \"marker\": {\"color\": \"#EF553B\", \"opacity\": 0.5, \"symbol\": \"circle\"}, \"mode\": \"markers\", \"name\": \"Cluster 1\", \"orientation\": \"v\", \"showlegend\": true, \"textposition\": \"top center\", \"type\": \"scatter\", \"x\": [47964.55226138689, 54542.56026091127, 50397.08389773134, 55168.451545061864, 54778.91990969144, 54230.3114204766, 47549.762546227066, 59798.1748284997, 59239.85352839813, 43600.21618030976, 47210.611284129605, 45728.401144344105, 51395.2243559995, 41859.154369975586, 42414.13984409392, 58984.55027496726, 41580.27174463821, 62912.45709780568, 43629.01273923753, 48410.00929047228, 55587.351730733586, 59803.04557919298, 53976.790002631285, 47415.38916240533, 53899.23405997957, 63317.0665324429, 43084.431301068355, 56651.45548374745, 52844.214540832116, 48602.571111840196, 42157.80542870098, 41933.8763490921, 53924.59703955876, 66750.62108457653, 59196.5930863391, 42045.79570257138, 48029.2359829609, 55809.608259939785, 44074.74432267948, 43861.74709102549, 46271.74999066811, 47518.88131856792, 57857.28905692229, 45920.30384600758, 47182.06858155579, 52086.380658927206, 50874.59373315182, 48697.32854440994, 52465.033586659905, 52263.494108744446, 45280.296457487624, 47842.883679066494, 55795.99791496394, 48551.89779119264, 41328.25266330998, 51532.47005840449, 48281.96476402188, 45049.713037748465, 46000.80248469954, 56449.67813828139, 50433.85138453332, 61085.161815426894, 52679.137422450585, 49923.2324025863, 44952.90203538893, 46993.64108790837, 61617.2560218572, 48577.24594456367, 55783.42885801489, 53422.55248570123, 47836.44839182684, 45302.570904167434], \"xaxis\": \"x\", \"y\": [-4397.186114919683, 4193.882999372309, 2890.5509685647066, 4016.9816222016175, 4629.791365281101, 3238.4287703236864, 3437.896482394783, 4315.75179255907, 4745.1445891248095, -5657.4788315200085, 6674.234677495923, 3658.3065012522234, 5657.241494980822, -4543.326267067202, -5432.28181950965, 3350.711617933648, -5615.560772408646, 5261.355213266393, -6254.840941209131, -5693.665441157454, 3427.135195258812, 8450.307562492619, 5488.3899845821115, 4709.38880763183, 3176.7468854090926, 4946.177510120512, -4660.855622444514, 4271.292185091139, -5677.667475551917, 6249.537360930088, -5954.454601851149, 4717.9972052376115, 5765.842845736471, 2693.0081866217533, 3903.9749268153723, -3106.1034758683627, 5422.323757682567, 3879.1497332626604, -6307.669140625981, -6877.035883382075, 4207.4147966121855, 4941.9993629732735, 5717.501137167645, -4953.921129423367, -4557.716601791882, 3388.427034681377, -5178.052813440077, 5282.497809754313, 3371.533065013101, 5916.358054129835, 4437.356566167744, 4758.188729714919, 4252.897540706999, 4668.214697412175, -4823.645899335599, 6006.733833662536, 8499.966944599812, 4590.872583456109, 3884.4528513190876, 5101.3986973675255, -6854.206134077961, 4243.721728508767, -4749.05702571537, 6048.724079227712, -4985.514801220402, -4647.129088588655, 6726.313750520617, -6305.307759672737, 4732.087714707711, 3894.2354791277517, 6059.983323374554, 3778.18142130961], \"yaxis\": \"y\"}, {\"customdata\": [[84], [90], [84], [90], [91], [86], [94], [90], [86], [88], [87], [84], [87], [93], [86], [91], [91], [87], [92], [88], [89], [87], [93], [91], [84], [97], [90], [92], [92], [82], [87], [87], [83], [92], [89], [87], [88], [92], [87], [88], [87], [82], [90], [89], [90], [89], [86], [79], [91], [82], [85], [85], [86], [79], [83], [83], [91], [84], [90], [83], [88], [91], [87], [91], [92], [84], [87], [86], [89], [94], [94], [86], [84], [85], [89], [89], [91], [83], [88], [83], [91], [84], [81], [91], [92], [85], [91], [82], [83], [86], [83], [94], [83], [94], [82], [85], [85], [89], [89], [84], [87], [88], [87], [87], [94], [88], [88], [85], [94], [95], [88], [86], [85], [92], [87], [89], [89], [85], [88], [93], [91], [84], [87], [88], [85], [91], [90], [88], [85], [91], [90], [88], [84], [90], [87], [91], [88], [89], [88], [91], [84], [83], [84], [87], [91], [90], [88]], \"hovertemplate\": \"Cluster=Cluster 2<br>PCA1=%{x}<br>PCA2=%{y}<br>Feature=%{customdata[0]}<extra></extra>\", \"legendgroup\": \"Cluster 2\", \"marker\": {\"color\": \"#00cc96\", \"opacity\": 0.5, \"symbol\": \"circle\"}, \"mode\": \"markers\", \"name\": \"Cluster 2\", \"orientation\": \"v\", \"showlegend\": true, \"textposition\": \"top center\", \"type\": \"scatter\", \"x\": [-51590.97205811302, -53514.36608306823, -57516.273183636404, -52877.38164603334, -47591.22511121998, -56854.24491468408, -56820.087553604215, -40392.52353813574, -52219.78891026324, -49206.072979236196, -52745.271995073796, -45243.335995709785, -45504.92821664384, -55837.896212559055, -43811.47262039386, -44891.726940178145, -63634.72200273953, -45889.161245283925, -39730.754923731954, -40724.15688509663, -48762.36466827118, -63656.3475899801, -58127.50387027, -39063.286676190895, -39255.47386551346, -48338.704662619304, -42253.872877958216, -56895.33602609462, -53329.0889086379, -42172.091423728125, -59885.18345080086, -33223.78792758688, -48890.162042831624, -42194.798734952405, -41047.376366850294, -49083.98904448345, -57888.98693798615, -40276.448131089535, -45592.662714596445, -44316.3909761365, -44207.36919669003, -42152.50281937874, -38257.012522678684, -47490.05337363705, -51240.79467490207, -53680.72058527788, -60035.355735186284, -43219.57063079795, -52957.61629178095, -51335.69636219801, -53905.33080870666, -47211.30921897938, -39708.64698966347, -37510.58801132115, -57495.82751822275, -45148.06214608788, -46108.564418073096, -55003.11473536293, -46621.67518992086, -41229.085326467895, -53103.84791289729, -48496.84792497304, -57945.29400939377, -47000.171708792885, -53120.540708745786, -48329.37521986341, -50055.78756429354, -48031.60033869832, -50446.68725850557, -51858.952852259725, -36822.88272990106, -46897.28720484183, -48086.4716150678, -54413.15855352473, -45316.58140609554, -49610.67501015967, -38870.672641380326, -41183.652071657096, -58306.89374121131, -47148.049506652584, -49855.36023906115, -48254.00622992488, -41272.89533986178, -55116.83601816836, -39882.02333138302, -44945.69901444298, -58771.33010043616, -51459.51350546342, -45053.50115134015, -39916.59061152688, -52508.30353343571, -48448.18982139339, -42546.309287033815, -54957.490989172315, -43231.47790879878, -40907.251477988066, -46522.91941975115, -44680.89350931922, -55368.98427568008, -48469.75822555576, -51191.183110267935, -42334.047671506334, -57176.86780610603, -49618.56425158388, -47975.629894303675, -42594.24300193296, -47129.844163420596, -49427.5241370261, -47366.649393097105, -48754.553222931434, -56178.67327005175, -28705.212826769803, -47927.756153353235, -42805.174693662266, -49952.56386424753, -56491.7261616014, -42432.64509966225, -47271.4132762421, -57750.75774612387, -55300.438356116465, -49274.44239615929, -33685.823037835, -44821.27195537092, -41654.28537091671, -46206.76070917286, -46752.17189114907, -45508.35388587766, -46888.40589877374, -41090.43271162364, -48867.33422412473, -42485.19893050837, -47339.94733410824, -37730.76934060816, -42382.69883203619, -28723.991919566, -50504.82314273768, -49640.516333935884, -51006.62596717178, -43012.76978349139, -45489.12002421862, -53484.99044797619, -47072.83270827877, -46294.69652581508, -52350.13688160766, -51304.420791210185, -50029.0486734844, -48459.578853164654], \"xaxis\": \"x\", \"y\": [-1709.6809922654018, -3511.6505427575585, -2662.237917413056, -1034.0462861180674, -2876.016821854162, -1039.8869670204479, -2626.494760123041, -1918.0706539765356, -361.8228772290582, 646.5438723752061, -3270.250012030127, -2386.7446703879696, -1656.4250558163044, -2913.1513261933915, -3844.050642994284, -1059.5099705589155, -958.5365645110743, -3656.8600405231205, -3215.3117531036187, -3403.3549980948787, -1902.303752571811, -672.1303645870973, -3329.4241557503888, -2178.951260878267, -2456.0624695072047, -296.94791022013504, -2813.4088657561024, -219.83567344031903, -3704.1152030668836, -3482.9509244203136, 968.182184170178, -4327.5998004040275, -3117.043572435123, -2831.244972649777, 163.0086019424072, -2706.9542458595415, -2297.4104284560135, -3159.4030652887395, -1858.741542867274, -1681.107809398615, -1788.5950192551384, -3595.426499455154, -3209.705699855121, -1025.6556377131571, -337.58311029945713, -1523.153182779475, -2067.7852022028565, -982.6374045457418, -512.1681616652345, -2253.324954790312, 776.7213551828829, -497.02873214681387, -2812.640832274526, -2385.9306735999717, -874.5938320396226, -918.4435413744565, -4704.9007181400775, -1806.3716349634747, -1061.3928297006273, -559.8887343311549, -1838.664645556659, -1255.0231217175187, -1690.2235244245394, -3258.5927312494296, -2373.9068521136146, -2106.9565485318562, -458.7329379734674, -2520.8796709258977, -1789.8310613735046, -1998.3145148841256, -3004.135925035732, -1500.599753550345, -3267.664533478744, -1055.9968931753672, 72.34189620852611, -2494.346015854769, -4966.632983631631, -2299.177576458251, -1498.3070625903993, -948.1700320034128, -2551.6409458672997, -3586.392912339362, -2039.0519450914776, -3386.631387427836, -3145.8388116696306, -2663.436303414359, -1946.4256348815318, -1443.6312210611654, -3267.8530880659673, -5860.406970913431, -2003.3795586148926, -424.4944516024695, -2323.9550250667417, -1273.0340909671531, -2464.366506729347, -2247.7230980697595, -2395.15062032791, -3320.2381091067427, -990.607597031653, -975.0110199269354, -2999.048136853006, -946.4427010468263, -500.3822260290336, -1200.4987085746998, -2697.4806496368715, -4573.13594967613, -2166.9455265130237, -3282.496783689516, -2226.5238835946834, -3476.7575329414076, -1450.7318688866605, -2125.5165732968326, 1139.0677249894102, -2383.9235864924353, -1016.3628176053348, -1529.9495201383822, -2804.3175987818167, -1422.2632521531452, -1546.7860227984638, -2379.4453929525343, -1819.1411133435656, -2359.9810608524367, -809.2478504066129, -1284.2763352326008, -3972.437291114198, -4260.667936777424, -1716.0957515179934, -1747.2845158743746, -2507.468037848858, -3330.0950893142626, -1573.1293339464685, -2756.210456765215, -3447.522865699352, -1026.2178281219412, -1283.2493416842196, -2541.1040744024203, -2403.452656500527, 1229.634202103802, -2388.397515567186, -857.2365574199106, -2964.871161538943, -3652.143022077504, -3445.140762666876, -1271.8366968001812, -1341.6421504993361, -2907.7981801354913, -623.0248233972334], \"yaxis\": \"y\"}, {\"customdata\": [[34], [35], [29], [32], [30], [33], [34], [35], [28], [31], [35], [32], [30], [37], [29], [22], [30], [29], [28], [36], [28], [36], [31], [28], [33], [31], [85], [33], [36], [86], [30], [34], [27], [28], [31], [33], [32], [28], [32], [30], [38], [35], [37], [31], [31], [31], [31], [33], [34], [32], [30], [30], [35], [33], [40], [42], [37], [25], [34], [84], [43], [28], [36], [37], [37], [35], [31], [36], [31], [29], [33], [36], [30], [36], [34], [37], [35], [35], [88], [31], [30], [33], [31], [31], [33], [26], [24], [29], [33], [39], [37], [29], [37], [29], [33], [34], [84], [44], [31], [31], [25], [36], [29], [29], [38], [39], [32], [36], [29], [34], [31], [37], [84], [34], [33], [35], [36], [31], [39], [37], [38], [31], [35], [59], [33], [30], [33], [34], [38], [30]], \"hovertemplate\": \"Cluster=Cluster 3<br>PCA1=%{x}<br>PCA2=%{y}<br>Feature=%{customdata[0]}<extra></extra>\", \"legendgroup\": \"Cluster 3\", \"marker\": {\"color\": \"#ab63fa\", \"opacity\": 0.5, \"symbol\": \"circle\"}, \"mode\": \"markers\", \"name\": \"Cluster 3\", \"orientation\": \"v\", \"showlegend\": true, \"textposition\": \"top center\", \"type\": \"scatter\", \"x\": [23196.213306438225, 32691.86956168572, 26312.372968927524, 26023.566351406153, 20486.14069594545, 23896.36880790408, 31502.36034296822, 26578.15319626618, 22236.16947437228, 28681.54988758575, 31317.298064553695, 19785.994393274672, 25376.693266073158, 31202.41268247607, 30268.705481263285, 33345.15627123118, 22224.556143435286, 35711.07999432945, 25474.402763797287, 26071.981181359246, 23858.59824002342, 28639.385002450483, 40419.576695104144, 36260.39985707386, 31045.220255678778, 25363.919226720413, 35579.2058158063, 31361.08526779913, 23967.006087975617, 39941.23737509608, 24294.808478346324, 23022.21826312664, 31016.952770667864, 19017.169464917504, 32307.93672914093, 40849.48059769063, 32572.750272366186, 24827.978780545967, 34753.148485730795, 32149.92129268287, 39399.40138181148, 34360.48180735056, 34830.86603735357, 23748.677815454044, 32345.70842870058, 32322.908553122463, 31330.343984524767, 36008.72535912231, 26507.042872359903, 26343.67867390245, 30614.165778553557, 31911.001239366324, 28912.895136199942, 30046.48908092605, 23032.680124651262, 31253.468530449412, 22105.034591078256, 25765.79004232835, 14006.0009653654, 39513.273555432395, 25938.050496756237, 33379.42058468909, 29861.546669621443, 30949.636901997932, 32912.89206331583, 37194.90227907419, 37228.73474520067, 24491.388898644724, 30148.68267391608, 40673.85964432745, 38869.64945267168, 32210.9797686424, 26298.14841024672, 22350.76981632157, 22393.41773018013, 21900.78530003276, 41298.631292835045, 26003.522431925612, 38847.16976776078, 35758.275435536685, 32797.64366935493, 30584.124615113236, 25732.344972190545, 32416.93987389554, 24613.75198032611, 21973.307950443825, 34815.25492053805, 15764.49143141583, 19295.267686809562, 24706.12835284515, 32289.54020716664, 35036.7158554872, 35023.21627080028, 26228.37628643619, 16918.676201100123, 27456.913266673106, 38543.62512292868, 38938.11813871434, 29210.556946439687, 26983.046364278187, 30950.101839682393, 33203.84256888802, 27412.69140542123, 36813.76713420395, 28960.634964946767, 24819.360949497743, 30836.978307627433, 34060.87750047383, 23392.942046850585, 28627.259856400295, 29240.50974864809, 32853.06228369525, 34834.90179465996, 35572.71538685354, 32561.025360063293, 30806.77634195278, 20592.34661300776, 39135.37622313005, 23470.847033328017, 31960.754514207256, 37939.71700891233, 35187.91053468464, 30155.334159636983, 15177.31971466767, 25328.069962281672, 31614.442565419085, 22258.608668569897, 27758.387575808203, 18943.372817813033, 33217.92661094809], \"xaxis\": \"x\", \"y\": [-5613.714946473871, -6066.4571229345775, -4286.405360287333, -7172.334785619936, -4804.2037003568, -4653.5725508840405, -5081.205331963824, -4542.181472406769, -4400.042331000772, -4194.112454577069, -6141.7632635534965, -4699.391527469763, -3922.3292073945413, -4006.8807824041246, -4917.675594824387, -6080.299826048203, -5737.014216399172, -4543.481105344736, -4541.161711915865, -4687.7646194954505, -4857.997302514553, -3130.9505393461027, -6642.233640263949, -3890.3447962612577, -4354.880673536976, -6518.8777436186265, -6195.256515402733, -4837.589604607755, -5918.696393593378, -5237.495032301008, -3156.174867738151, -4439.122859420632, -4865.004407317279, -4587.056600403996, -3401.081521768778, -5591.430862352509, -6711.005814772027, -5088.608312301609, -4008.5890127539014, -5508.945169399096, -5202.090344164469, -5038.816440742177, -5377.229021116216, -4085.387888540779, -2201.720436215354, -3681.290385681804, -5635.163544619187, -6111.7051713952615, -5484.674656121098, -3863.006874934306, -4762.434912619338, -2672.9112969661533, -5224.554435670845, -2733.109485171264, -5461.179044520955, -4792.820172444664, -4346.187741550611, -4647.515091833699, -1775.6050399833514, -4805.682520520943, -4054.2528418970855, -4139.053044046939, -4210.491742797324, -4397.197322284793, -4588.664684244311, -4030.486076235751, -4575.537648425253, -3378.5440905478695, -3727.6412226852462, -5771.827716588531, -4117.836047019013, -5806.3623666589, -5023.038755192273, -5405.1923800705135, -5150.746928288214, -5234.914435436248, -6422.0650063113535, -3786.13364247153, -8209.639308093878, -4122.472097486012, -5654.546848389321, -5198.651743783723, -4846.280009746118, -3316.873784519851, -3288.4642893518344, -5227.972306159951, -5108.281670571713, -2149.1522120766226, -3266.6501002799127, -6304.286871577944, -3634.3413606407403, -6415.6995362262505, -4416.577273256118, -4266.484164687801, -2877.1946078768765, -4868.312164441829, -7198.063753004443, -4443.169815276389, -6286.356908964105, -2897.4181107781196, -6274.399407676459, -6552.893169384945, -5970.65960581778, -4615.4621298706315, -5439.902381792011, -6443.116567478201, -4248.41099877993, -5075.678351149007, -5117.926369906291, -3324.8164217780163, -5240.709879901141, -5910.595724540105, -5079.540930731751, -4807.665202226777, -5658.529147335399, -5560.204679600004, -4611.587648361574, -4339.707016425756, -4720.2489254083885, -7950.13767990454, -4683.440281859752, -4164.858385743974, -6491.845916302066, 4253.670268811266, -4507.818852759072, -3948.413153701508, -5195.925409188555, -3524.6018820414947, -6099.926511675162, -4387.404636496326], \"yaxis\": \"y\"}],                        {\"height\": 600, \"legend\": {\"title\": {\"text\": \"Cluster\"}, \"tracegroupgap\": 0}, \"margin\": {\"t\": 60}, \"plot_bgcolor\": \"rgb(240,240,240)\", \"template\": {\"data\": {\"bar\": [{\"error_x\": {\"color\": \"#2a3f5f\"}, \"error_y\": {\"color\": \"#2a3f5f\"}, \"marker\": {\"line\": {\"color\": \"#E5ECF6\", \"width\": 0.5}}, \"type\": \"bar\"}], \"barpolar\": [{\"marker\": {\"line\": {\"color\": \"#E5ECF6\", \"width\": 0.5}}, \"type\": \"barpolar\"}], \"carpet\": [{\"aaxis\": {\"endlinecolor\": \"#2a3f5f\", \"gridcolor\": \"white\", \"linecolor\": \"white\", \"minorgridcolor\": \"white\", \"startlinecolor\": \"#2a3f5f\"}, \"baxis\": {\"endlinecolor\": \"#2a3f5f\", \"gridcolor\": \"white\", \"linecolor\": \"white\", \"minorgridcolor\": \"white\", \"startlinecolor\": \"#2a3f5f\"}, \"type\": \"carpet\"}], \"choropleth\": [{\"colorbar\": {\"outlinewidth\": 0, \"ticks\": \"\"}, \"type\": \"choropleth\"}], \"contour\": [{\"colorbar\": {\"outlinewidth\": 0, \"ticks\": \"\"}, \"colorscale\": [[0.0, \"#0d0887\"], [0.1111111111111111, \"#46039f\"], [0.2222222222222222, \"#7201a8\"], [0.3333333333333333, \"#9c179e\"], [0.4444444444444444, \"#bd3786\"], [0.5555555555555556, \"#d8576b\"], [0.6666666666666666, \"#ed7953\"], [0.7777777777777778, \"#fb9f3a\"], [0.8888888888888888, \"#fdca26\"], [1.0, \"#f0f921\"]], \"type\": \"contour\"}], \"contourcarpet\": [{\"colorbar\": {\"outlinewidth\": 0, \"ticks\": \"\"}, \"type\": \"contourcarpet\"}], \"heatmap\": [{\"colorbar\": {\"outlinewidth\": 0, \"ticks\": \"\"}, \"colorscale\": [[0.0, \"#0d0887\"], [0.1111111111111111, \"#46039f\"], [0.2222222222222222, \"#7201a8\"], [0.3333333333333333, \"#9c179e\"], [0.4444444444444444, \"#bd3786\"], [0.5555555555555556, \"#d8576b\"], [0.6666666666666666, \"#ed7953\"], [0.7777777777777778, \"#fb9f3a\"], [0.8888888888888888, \"#fdca26\"], [1.0, \"#f0f921\"]], \"type\": \"heatmap\"}], \"heatmapgl\": [{\"colorbar\": {\"outlinewidth\": 0, \"ticks\": \"\"}, \"colorscale\": [[0.0, \"#0d0887\"], [0.1111111111111111, \"#46039f\"], [0.2222222222222222, \"#7201a8\"], [0.3333333333333333, \"#9c179e\"], [0.4444444444444444, \"#bd3786\"], [0.5555555555555556, \"#d8576b\"], [0.6666666666666666, \"#ed7953\"], [0.7777777777777778, \"#fb9f3a\"], [0.8888888888888888, \"#fdca26\"], [1.0, \"#f0f921\"]], \"type\": \"heatmapgl\"}], \"histogram\": [{\"marker\": {\"colorbar\": {\"outlinewidth\": 0, \"ticks\": \"\"}}, \"type\": \"histogram\"}], \"histogram2d\": [{\"colorbar\": {\"outlinewidth\": 0, \"ticks\": \"\"}, \"colorscale\": [[0.0, \"#0d0887\"], [0.1111111111111111, \"#46039f\"], [0.2222222222222222, \"#7201a8\"], [0.3333333333333333, \"#9c179e\"], [0.4444444444444444, \"#bd3786\"], [0.5555555555555556, \"#d8576b\"], [0.6666666666666666, \"#ed7953\"], [0.7777777777777778, \"#fb9f3a\"], [0.8888888888888888, \"#fdca26\"], [1.0, \"#f0f921\"]], \"type\": \"histogram2d\"}], \"histogram2dcontour\": [{\"colorbar\": {\"outlinewidth\": 0, \"ticks\": \"\"}, \"colorscale\": [[0.0, \"#0d0887\"], [0.1111111111111111, \"#46039f\"], [0.2222222222222222, \"#7201a8\"], [0.3333333333333333, \"#9c179e\"], [0.4444444444444444, \"#bd3786\"], [0.5555555555555556, \"#d8576b\"], [0.6666666666666666, \"#ed7953\"], [0.7777777777777778, \"#fb9f3a\"], [0.8888888888888888, \"#fdca26\"], [1.0, \"#f0f921\"]], \"type\": \"histogram2dcontour\"}], \"mesh3d\": [{\"colorbar\": {\"outlinewidth\": 0, \"ticks\": \"\"}, \"type\": \"mesh3d\"}], \"parcoords\": [{\"line\": {\"colorbar\": {\"outlinewidth\": 0, \"ticks\": \"\"}}, \"type\": \"parcoords\"}], \"pie\": [{\"automargin\": true, \"type\": \"pie\"}], \"scatter\": [{\"marker\": {\"colorbar\": {\"outlinewidth\": 0, \"ticks\": \"\"}}, \"type\": \"scatter\"}], \"scatter3d\": [{\"line\": {\"colorbar\": {\"outlinewidth\": 0, \"ticks\": \"\"}}, \"marker\": {\"colorbar\": {\"outlinewidth\": 0, \"ticks\": \"\"}}, \"type\": \"scatter3d\"}], \"scattercarpet\": [{\"marker\": {\"colorbar\": {\"outlinewidth\": 0, \"ticks\": \"\"}}, \"type\": \"scattercarpet\"}], \"scattergeo\": [{\"marker\": {\"colorbar\": {\"outlinewidth\": 0, \"ticks\": \"\"}}, \"type\": \"scattergeo\"}], \"scattergl\": [{\"marker\": {\"colorbar\": {\"outlinewidth\": 0, \"ticks\": \"\"}}, \"type\": \"scattergl\"}], \"scattermapbox\": [{\"marker\": {\"colorbar\": {\"outlinewidth\": 0, \"ticks\": \"\"}}, \"type\": \"scattermapbox\"}], \"scatterpolar\": [{\"marker\": {\"colorbar\": {\"outlinewidth\": 0, \"ticks\": \"\"}}, \"type\": \"scatterpolar\"}], \"scatterpolargl\": [{\"marker\": {\"colorbar\": {\"outlinewidth\": 0, \"ticks\": \"\"}}, \"type\": \"scatterpolargl\"}], \"scatterternary\": [{\"marker\": {\"colorbar\": {\"outlinewidth\": 0, \"ticks\": \"\"}}, \"type\": \"scatterternary\"}], \"surface\": [{\"colorbar\": {\"outlinewidth\": 0, \"ticks\": \"\"}, \"colorscale\": [[0.0, \"#0d0887\"], [0.1111111111111111, \"#46039f\"], [0.2222222222222222, \"#7201a8\"], [0.3333333333333333, \"#9c179e\"], [0.4444444444444444, \"#bd3786\"], [0.5555555555555556, \"#d8576b\"], [0.6666666666666666, \"#ed7953\"], [0.7777777777777778, \"#fb9f3a\"], [0.8888888888888888, \"#fdca26\"], [1.0, \"#f0f921\"]], \"type\": \"surface\"}], \"table\": [{\"cells\": {\"fill\": {\"color\": \"#EBF0F8\"}, \"line\": {\"color\": \"white\"}}, \"header\": {\"fill\": {\"color\": \"#C8D4E3\"}, \"line\": {\"color\": \"white\"}}, \"type\": \"table\"}]}, \"layout\": {\"annotationdefaults\": {\"arrowcolor\": \"#2a3f5f\", \"arrowhead\": 0, \"arrowwidth\": 1}, \"coloraxis\": {\"colorbar\": {\"outlinewidth\": 0, \"ticks\": \"\"}}, \"colorscale\": {\"diverging\": [[0, \"#8e0152\"], [0.1, \"#c51b7d\"], [0.2, \"#de77ae\"], [0.3, \"#f1b6da\"], [0.4, \"#fde0ef\"], [0.5, \"#f7f7f7\"], [0.6, \"#e6f5d0\"], [0.7, \"#b8e186\"], [0.8, \"#7fbc41\"], [0.9, \"#4d9221\"], [1, \"#276419\"]], \"sequential\": [[0.0, \"#0d0887\"], [0.1111111111111111, \"#46039f\"], [0.2222222222222222, \"#7201a8\"], [0.3333333333333333, \"#9c179e\"], [0.4444444444444444, \"#bd3786\"], [0.5555555555555556, \"#d8576b\"], [0.6666666666666666, \"#ed7953\"], [0.7777777777777778, \"#fb9f3a\"], [0.8888888888888888, \"#fdca26\"], [1.0, \"#f0f921\"]], \"sequentialminus\": [[0.0, \"#0d0887\"], [0.1111111111111111, \"#46039f\"], [0.2222222222222222, \"#7201a8\"], [0.3333333333333333, \"#9c179e\"], [0.4444444444444444, \"#bd3786\"], [0.5555555555555556, \"#d8576b\"], [0.6666666666666666, \"#ed7953\"], [0.7777777777777778, \"#fb9f3a\"], [0.8888888888888888, \"#fdca26\"], [1.0, \"#f0f921\"]]}, \"colorway\": [\"#636efa\", \"#EF553B\", \"#00cc96\", \"#ab63fa\", \"#FFA15A\", \"#19d3f3\", \"#FF6692\", \"#B6E880\", \"#FF97FF\", \"#FECB52\"], \"font\": {\"color\": \"#2a3f5f\"}, \"geo\": {\"bgcolor\": \"white\", \"lakecolor\": \"white\", \"landcolor\": \"#E5ECF6\", \"showlakes\": true, \"showland\": true, \"subunitcolor\": \"white\"}, \"hoverlabel\": {\"align\": \"left\"}, \"hovermode\": \"closest\", \"mapbox\": {\"style\": \"light\"}, \"paper_bgcolor\": \"white\", \"plot_bgcolor\": \"#E5ECF6\", \"polar\": {\"angularaxis\": {\"gridcolor\": \"white\", \"linecolor\": \"white\", \"ticks\": \"\"}, \"bgcolor\": \"#E5ECF6\", \"radialaxis\": {\"gridcolor\": \"white\", \"linecolor\": \"white\", \"ticks\": \"\"}}, \"scene\": {\"xaxis\": {\"backgroundcolor\": \"#E5ECF6\", \"gridcolor\": \"white\", \"gridwidth\": 2, \"linecolor\": \"white\", \"showbackground\": true, \"ticks\": \"\", \"zerolinecolor\": \"white\"}, \"yaxis\": {\"backgroundcolor\": \"#E5ECF6\", \"gridcolor\": \"white\", \"gridwidth\": 2, \"linecolor\": \"white\", \"showbackground\": true, \"ticks\": \"\", \"zerolinecolor\": \"white\"}, \"zaxis\": {\"backgroundcolor\": \"#E5ECF6\", \"gridcolor\": \"white\", \"gridwidth\": 2, \"linecolor\": \"white\", \"showbackground\": true, \"ticks\": \"\", \"zerolinecolor\": \"white\"}}, \"shapedefaults\": {\"line\": {\"color\": \"#2a3f5f\"}}, \"ternary\": {\"aaxis\": {\"gridcolor\": \"white\", \"linecolor\": \"white\", \"ticks\": \"\"}, \"baxis\": {\"gridcolor\": \"white\", \"linecolor\": \"white\", \"ticks\": \"\"}, \"bgcolor\": \"#E5ECF6\", \"caxis\": {\"gridcolor\": \"white\", \"linecolor\": \"white\", \"ticks\": \"\"}}, \"title\": {\"x\": 0.05}, \"xaxis\": {\"automargin\": true, \"gridcolor\": \"white\", \"linecolor\": \"white\", \"ticks\": \"\", \"title\": {\"standoff\": 15}, \"zerolinecolor\": \"white\", \"zerolinewidth\": 2}, \"yaxis\": {\"automargin\": true, \"gridcolor\": \"white\", \"linecolor\": \"white\", \"ticks\": \"\", \"title\": {\"standoff\": 15}, \"zerolinecolor\": \"white\", \"zerolinewidth\": 2}}}, \"title\": {\"text\": \"2D Cluster PCA Plot\"}, \"xaxis\": {\"anchor\": \"y\", \"domain\": [0.0, 1.0], \"title\": {\"text\": \"PCA1\"}}, \"yaxis\": {\"anchor\": \"x\", \"domain\": [0.0, 1.0], \"title\": {\"text\": \"PCA2\"}}},                        {\"responsive\": true}                    ).then(function(){\n",
       "                            \n",
       "var gd = document.getElementById('d4ee0f99-0df0-4d2e-a140-92f4cab3e37d');\n",
       "var x = new MutationObserver(function (mutations, observer) {{\n",
       "        var display = window.getComputedStyle(gd).display;\n",
       "        if (!display || display === 'none') {{\n",
       "            console.log([gd, 'removed!']);\n",
       "            Plotly.purge(gd);\n",
       "            observer.disconnect();\n",
       "        }}\n",
       "}});\n",
       "\n",
       "// Listen for the removal of the full notebook cells\n",
       "var notebookContainer = gd.closest('#notebook-container');\n",
       "if (notebookContainer) {{\n",
       "    x.observe(notebookContainer, {childList: true});\n",
       "}}\n",
       "\n",
       "// Listen for the clearing of the current output cell\n",
       "var outputEl = gd.closest('.output');\n",
       "if (outputEl) {{\n",
       "    x.observe(outputEl, {childList: true});\n",
       "}}\n",
       "\n",
       "                        })                };                });            </script>        </div>"
      ]
     },
     "metadata": {},
     "output_type": "display_data"
    }
   ],
   "source": [
    "plot_model(km1)"
   ]
  },
  {
   "cell_type": "code",
   "execution_count": 77,
   "metadata": {},
   "outputs": [
    {
     "name": "stdout",
     "output_type": "stream",
     "text": [
      "Setup Succesfully Completed!\n"
     ]
    },
    {
     "data": {
      "text/html": [
       "<style  type=\"text/css\" >\n",
       "    #T_9d2fe25c_34a3_11eb_9297_e23c87d3252erow10_col1 {\n",
       "            background-color:  lightgreen;\n",
       "        }</style><table id=\"T_9d2fe25c_34a3_11eb_9297_e23c87d3252e\" ><thead>    <tr>        <th class=\"blank level0\" ></th>        <th class=\"col_heading level0 col0\" >Description</th>        <th class=\"col_heading level0 col1\" >Value</th>    </tr></thead><tbody>\n",
       "                <tr>\n",
       "                        <th id=\"T_9d2fe25c_34a3_11eb_9297_e23c87d3252elevel0_row0\" class=\"row_heading level0 row0\" >0</th>\n",
       "                        <td id=\"T_9d2fe25c_34a3_11eb_9297_e23c87d3252erow0_col0\" class=\"data row0 col0\" >session_id </td>\n",
       "                        <td id=\"T_9d2fe25c_34a3_11eb_9297_e23c87d3252erow0_col1\" class=\"data row0 col1\" >305</td>\n",
       "            </tr>\n",
       "            <tr>\n",
       "                        <th id=\"T_9d2fe25c_34a3_11eb_9297_e23c87d3252elevel0_row1\" class=\"row_heading level0 row1\" >1</th>\n",
       "                        <td id=\"T_9d2fe25c_34a3_11eb_9297_e23c87d3252erow1_col0\" class=\"data row1 col0\" >Original Data </td>\n",
       "                        <td id=\"T_9d2fe25c_34a3_11eb_9297_e23c87d3252erow1_col1\" class=\"data row1 col1\" >(505, 4)</td>\n",
       "            </tr>\n",
       "            <tr>\n",
       "                        <th id=\"T_9d2fe25c_34a3_11eb_9297_e23c87d3252elevel0_row2\" class=\"row_heading level0 row2\" >2</th>\n",
       "                        <td id=\"T_9d2fe25c_34a3_11eb_9297_e23c87d3252erow2_col0\" class=\"data row2 col0\" >Missing Values </td>\n",
       "                        <td id=\"T_9d2fe25c_34a3_11eb_9297_e23c87d3252erow2_col1\" class=\"data row2 col1\" >False</td>\n",
       "            </tr>\n",
       "            <tr>\n",
       "                        <th id=\"T_9d2fe25c_34a3_11eb_9297_e23c87d3252elevel0_row3\" class=\"row_heading level0 row3\" >3</th>\n",
       "                        <td id=\"T_9d2fe25c_34a3_11eb_9297_e23c87d3252erow3_col0\" class=\"data row3 col0\" >Numeric Features </td>\n",
       "                        <td id=\"T_9d2fe25c_34a3_11eb_9297_e23c87d3252erow3_col1\" class=\"data row3 col1\" >3</td>\n",
       "            </tr>\n",
       "            <tr>\n",
       "                        <th id=\"T_9d2fe25c_34a3_11eb_9297_e23c87d3252elevel0_row4\" class=\"row_heading level0 row4\" >4</th>\n",
       "                        <td id=\"T_9d2fe25c_34a3_11eb_9297_e23c87d3252erow4_col0\" class=\"data row4 col0\" >Categorical Features </td>\n",
       "                        <td id=\"T_9d2fe25c_34a3_11eb_9297_e23c87d3252erow4_col1\" class=\"data row4 col1\" >1</td>\n",
       "            </tr>\n",
       "            <tr>\n",
       "                        <th id=\"T_9d2fe25c_34a3_11eb_9297_e23c87d3252elevel0_row5\" class=\"row_heading level0 row5\" >5</th>\n",
       "                        <td id=\"T_9d2fe25c_34a3_11eb_9297_e23c87d3252erow5_col0\" class=\"data row5 col0\" >Ordinal Features </td>\n",
       "                        <td id=\"T_9d2fe25c_34a3_11eb_9297_e23c87d3252erow5_col1\" class=\"data row5 col1\" >False</td>\n",
       "            </tr>\n",
       "            <tr>\n",
       "                        <th id=\"T_9d2fe25c_34a3_11eb_9297_e23c87d3252elevel0_row6\" class=\"row_heading level0 row6\" >6</th>\n",
       "                        <td id=\"T_9d2fe25c_34a3_11eb_9297_e23c87d3252erow6_col0\" class=\"data row6 col0\" >High Cardinality Features </td>\n",
       "                        <td id=\"T_9d2fe25c_34a3_11eb_9297_e23c87d3252erow6_col1\" class=\"data row6 col1\" >False</td>\n",
       "            </tr>\n",
       "            <tr>\n",
       "                        <th id=\"T_9d2fe25c_34a3_11eb_9297_e23c87d3252elevel0_row7\" class=\"row_heading level0 row7\" >7</th>\n",
       "                        <td id=\"T_9d2fe25c_34a3_11eb_9297_e23c87d3252erow7_col0\" class=\"data row7 col0\" >Transformed Data </td>\n",
       "                        <td id=\"T_9d2fe25c_34a3_11eb_9297_e23c87d3252erow7_col1\" class=\"data row7 col1\" >(505, 4)</td>\n",
       "            </tr>\n",
       "            <tr>\n",
       "                        <th id=\"T_9d2fe25c_34a3_11eb_9297_e23c87d3252elevel0_row8\" class=\"row_heading level0 row8\" >8</th>\n",
       "                        <td id=\"T_9d2fe25c_34a3_11eb_9297_e23c87d3252erow8_col0\" class=\"data row8 col0\" >Numeric Imputer </td>\n",
       "                        <td id=\"T_9d2fe25c_34a3_11eb_9297_e23c87d3252erow8_col1\" class=\"data row8 col1\" >mean</td>\n",
       "            </tr>\n",
       "            <tr>\n",
       "                        <th id=\"T_9d2fe25c_34a3_11eb_9297_e23c87d3252elevel0_row9\" class=\"row_heading level0 row9\" >9</th>\n",
       "                        <td id=\"T_9d2fe25c_34a3_11eb_9297_e23c87d3252erow9_col0\" class=\"data row9 col0\" >Categorical Imputer </td>\n",
       "                        <td id=\"T_9d2fe25c_34a3_11eb_9297_e23c87d3252erow9_col1\" class=\"data row9 col1\" >constant</td>\n",
       "            </tr>\n",
       "            <tr>\n",
       "                        <th id=\"T_9d2fe25c_34a3_11eb_9297_e23c87d3252elevel0_row10\" class=\"row_heading level0 row10\" >10</th>\n",
       "                        <td id=\"T_9d2fe25c_34a3_11eb_9297_e23c87d3252erow10_col0\" class=\"data row10 col0\" >Normalize </td>\n",
       "                        <td id=\"T_9d2fe25c_34a3_11eb_9297_e23c87d3252erow10_col1\" class=\"data row10 col1\" >True</td>\n",
       "            </tr>\n",
       "            <tr>\n",
       "                        <th id=\"T_9d2fe25c_34a3_11eb_9297_e23c87d3252elevel0_row11\" class=\"row_heading level0 row11\" >11</th>\n",
       "                        <td id=\"T_9d2fe25c_34a3_11eb_9297_e23c87d3252erow11_col0\" class=\"data row11 col0\" >Normalize Method </td>\n",
       "                        <td id=\"T_9d2fe25c_34a3_11eb_9297_e23c87d3252erow11_col1\" class=\"data row11 col1\" >zscore</td>\n",
       "            </tr>\n",
       "            <tr>\n",
       "                        <th id=\"T_9d2fe25c_34a3_11eb_9297_e23c87d3252elevel0_row12\" class=\"row_heading level0 row12\" >12</th>\n",
       "                        <td id=\"T_9d2fe25c_34a3_11eb_9297_e23c87d3252erow12_col0\" class=\"data row12 col0\" >Transformation </td>\n",
       "                        <td id=\"T_9d2fe25c_34a3_11eb_9297_e23c87d3252erow12_col1\" class=\"data row12 col1\" >False</td>\n",
       "            </tr>\n",
       "            <tr>\n",
       "                        <th id=\"T_9d2fe25c_34a3_11eb_9297_e23c87d3252elevel0_row13\" class=\"row_heading level0 row13\" >13</th>\n",
       "                        <td id=\"T_9d2fe25c_34a3_11eb_9297_e23c87d3252erow13_col0\" class=\"data row13 col0\" >Transformation Method </td>\n",
       "                        <td id=\"T_9d2fe25c_34a3_11eb_9297_e23c87d3252erow13_col1\" class=\"data row13 col1\" >None</td>\n",
       "            </tr>\n",
       "            <tr>\n",
       "                        <th id=\"T_9d2fe25c_34a3_11eb_9297_e23c87d3252elevel0_row14\" class=\"row_heading level0 row14\" >14</th>\n",
       "                        <td id=\"T_9d2fe25c_34a3_11eb_9297_e23c87d3252erow14_col0\" class=\"data row14 col0\" >PCA </td>\n",
       "                        <td id=\"T_9d2fe25c_34a3_11eb_9297_e23c87d3252erow14_col1\" class=\"data row14 col1\" >False</td>\n",
       "            </tr>\n",
       "            <tr>\n",
       "                        <th id=\"T_9d2fe25c_34a3_11eb_9297_e23c87d3252elevel0_row15\" class=\"row_heading level0 row15\" >15</th>\n",
       "                        <td id=\"T_9d2fe25c_34a3_11eb_9297_e23c87d3252erow15_col0\" class=\"data row15 col0\" >PCA Method </td>\n",
       "                        <td id=\"T_9d2fe25c_34a3_11eb_9297_e23c87d3252erow15_col1\" class=\"data row15 col1\" >None</td>\n",
       "            </tr>\n",
       "            <tr>\n",
       "                        <th id=\"T_9d2fe25c_34a3_11eb_9297_e23c87d3252elevel0_row16\" class=\"row_heading level0 row16\" >16</th>\n",
       "                        <td id=\"T_9d2fe25c_34a3_11eb_9297_e23c87d3252erow16_col0\" class=\"data row16 col0\" >PCA components </td>\n",
       "                        <td id=\"T_9d2fe25c_34a3_11eb_9297_e23c87d3252erow16_col1\" class=\"data row16 col1\" >None</td>\n",
       "            </tr>\n",
       "            <tr>\n",
       "                        <th id=\"T_9d2fe25c_34a3_11eb_9297_e23c87d3252elevel0_row17\" class=\"row_heading level0 row17\" >17</th>\n",
       "                        <td id=\"T_9d2fe25c_34a3_11eb_9297_e23c87d3252erow17_col0\" class=\"data row17 col0\" >Ignore Low Variance </td>\n",
       "                        <td id=\"T_9d2fe25c_34a3_11eb_9297_e23c87d3252erow17_col1\" class=\"data row17 col1\" >False</td>\n",
       "            </tr>\n",
       "            <tr>\n",
       "                        <th id=\"T_9d2fe25c_34a3_11eb_9297_e23c87d3252elevel0_row18\" class=\"row_heading level0 row18\" >18</th>\n",
       "                        <td id=\"T_9d2fe25c_34a3_11eb_9297_e23c87d3252erow18_col0\" class=\"data row18 col0\" >Combine Rare Levels </td>\n",
       "                        <td id=\"T_9d2fe25c_34a3_11eb_9297_e23c87d3252erow18_col1\" class=\"data row18 col1\" >False</td>\n",
       "            </tr>\n",
       "            <tr>\n",
       "                        <th id=\"T_9d2fe25c_34a3_11eb_9297_e23c87d3252elevel0_row19\" class=\"row_heading level0 row19\" >19</th>\n",
       "                        <td id=\"T_9d2fe25c_34a3_11eb_9297_e23c87d3252erow19_col0\" class=\"data row19 col0\" >Rare Level Threshold </td>\n",
       "                        <td id=\"T_9d2fe25c_34a3_11eb_9297_e23c87d3252erow19_col1\" class=\"data row19 col1\" >None</td>\n",
       "            </tr>\n",
       "            <tr>\n",
       "                        <th id=\"T_9d2fe25c_34a3_11eb_9297_e23c87d3252elevel0_row20\" class=\"row_heading level0 row20\" >20</th>\n",
       "                        <td id=\"T_9d2fe25c_34a3_11eb_9297_e23c87d3252erow20_col0\" class=\"data row20 col0\" >Numeric Binning </td>\n",
       "                        <td id=\"T_9d2fe25c_34a3_11eb_9297_e23c87d3252erow20_col1\" class=\"data row20 col1\" >False</td>\n",
       "            </tr>\n",
       "            <tr>\n",
       "                        <th id=\"T_9d2fe25c_34a3_11eb_9297_e23c87d3252elevel0_row21\" class=\"row_heading level0 row21\" >21</th>\n",
       "                        <td id=\"T_9d2fe25c_34a3_11eb_9297_e23c87d3252erow21_col0\" class=\"data row21 col0\" >Remove Multicollinearity </td>\n",
       "                        <td id=\"T_9d2fe25c_34a3_11eb_9297_e23c87d3252erow21_col1\" class=\"data row21 col1\" >False</td>\n",
       "            </tr>\n",
       "            <tr>\n",
       "                        <th id=\"T_9d2fe25c_34a3_11eb_9297_e23c87d3252elevel0_row22\" class=\"row_heading level0 row22\" >22</th>\n",
       "                        <td id=\"T_9d2fe25c_34a3_11eb_9297_e23c87d3252erow22_col0\" class=\"data row22 col0\" >Multicollinearity Threshold </td>\n",
       "                        <td id=\"T_9d2fe25c_34a3_11eb_9297_e23c87d3252erow22_col1\" class=\"data row22 col1\" >None</td>\n",
       "            </tr>\n",
       "            <tr>\n",
       "                        <th id=\"T_9d2fe25c_34a3_11eb_9297_e23c87d3252elevel0_row23\" class=\"row_heading level0 row23\" >23</th>\n",
       "                        <td id=\"T_9d2fe25c_34a3_11eb_9297_e23c87d3252erow23_col0\" class=\"data row23 col0\" >Group Features </td>\n",
       "                        <td id=\"T_9d2fe25c_34a3_11eb_9297_e23c87d3252erow23_col1\" class=\"data row23 col1\" >False</td>\n",
       "            </tr>\n",
       "    </tbody></table>"
      ],
      "text/plain": [
       "<pandas.io.formats.style.Styler at 0x227e3c62f08>"
      ]
     },
     "metadata": {},
     "output_type": "display_data"
    },
    {
     "data": {
      "text/plain": [
       "(          Age    Income  SpendingScore   Savings\n",
       " 0   -0.042287  0.062733       1.103593 -1.072467\n",
       " 1   -0.000821  0.174811       1.102641 -1.303473\n",
       " 2    0.123577 -0.021200       0.761727 -0.526556\n",
       " 3   -0.000821 -0.031712       1.004705 -0.913395\n",
       " 4    1.160228 -1.606165      -0.602619  1.012686\n",
       " ..        ...       ...            ...       ...\n",
       " 500 -1.286268  0.714535      -0.453557  0.621787\n",
       " 501  1.409024 -1.545704      -1.164109  1.235201\n",
       " 502  1.284626 -1.118447      -0.578054  0.855313\n",
       " 503  1.326092 -1.524929      -0.579866  1.322452\n",
       " 504  1.243160 -1.258335      -0.831890  0.510463\n",
       " \n",
       " [505 rows x 4 columns],\n",
       "      Age  Income  SpendingScore       Savings\n",
       " 0     58   77769       0.791329   6559.829923\n",
       " 1     59   81799       0.791082   5417.661426\n",
       " 2     62   74751       0.702657   9258.992965\n",
       " 3     59   74373       0.765680   7346.334504\n",
       " 4     87   17760       0.348778  16869.507130\n",
       " ..   ...     ...            ...           ...\n",
       " 500   28  101206       0.387441  14936.775389\n",
       " 501   93   19934       0.203140  17969.693769\n",
       " 502   90   35297       0.355149  16091.401954\n",
       " 503   91   20681       0.354679  18401.088445\n",
       " 504   89   30267       0.289310  14386.351880\n",
       " \n",
       " [505 rows x 4 columns],\n",
       " 305,\n",
       " Pipeline(memory=None,\n",
       "          steps=[('dtypes',\n",
       "                  DataTypes_Auto_infer(categorical_features=[],\n",
       "                                       display_types=True, features_todrop=[],\n",
       "                                       ml_usecase='regression',\n",
       "                                       numerical_features=[],\n",
       "                                       target='dummy_target',\n",
       "                                       time_features=[])),\n",
       "                 ('imputer',\n",
       "                  Simple_Imputer(categorical_strategy='not_available',\n",
       "                                 numeric_strategy='mean',\n",
       "                                 target_variable=None)),\n",
       "                 ('new_levels1',\n",
       "                  New_Catagorical_L...\n",
       "                 ('group', Empty()),\n",
       "                 ('scaling',\n",
       "                  Scaling_and_Power_transformation(function_to_apply='zscore',\n",
       "                                                   random_state_quantile=305,\n",
       "                                                   target='dummy_target')),\n",
       "                 ('P_transform', Empty()), ('binn', Empty()),\n",
       "                 ('fix_perfect', Empty()), ('rem_outliers', Empty()),\n",
       "                 ('dummy', Dummify(target='dummy_target')),\n",
       "                 ('clean_names', Clean_Colum_Names()), ('fix_multi', Empty()),\n",
       "                 ('pca', Empty())],\n",
       "          verbose=False),\n",
       " <module 'pycaret.preprocess' from 'c:\\\\users\\\\arsh-pc\\\\appdata\\\\local\\\\programs\\\\python\\\\python37\\\\lib\\\\site-packages\\\\pycaret\\\\preprocess.py'>,\n",
       " [('Clustering Setup Config',\n",
       "                        Description     Value\n",
       "   0                    session_id        305\n",
       "   1                 Original Data   (505, 4)\n",
       "   2                Missing Values      False\n",
       "   3              Numeric Features          3\n",
       "   4          Categorical Features          1\n",
       "   5              Ordinal Features      False\n",
       "   6     High Cardinality Features      False\n",
       "   7              Transformed Data   (505, 4)\n",
       "   8               Numeric Imputer       mean\n",
       "   9           Categorical Imputer   constant\n",
       "   10                    Normalize       True\n",
       "   11             Normalize Method     zscore\n",
       "   12               Transformation      False\n",
       "   13        Transformation Method       None\n",
       "   14                          PCA      False\n",
       "   15                   PCA Method       None\n",
       "   16               PCA components       None\n",
       "   17          Ignore Low Variance      False\n",
       "   18          Combine Rare Levels      False\n",
       "   19         Rare Level Threshold       None\n",
       "   20              Numeric Binning      False\n",
       "   21     Remove Multicollinearity      False\n",
       "   22  Multicollinearity Threshold       None\n",
       "   23               Group Features      False),\n",
       "  ('Orignal Dataset',\n",
       "        Age  Income  SpendingScore       Savings\n",
       "   0     58   77769       0.791329   6559.829923\n",
       "   1     59   81799       0.791082   5417.661426\n",
       "   2     62   74751       0.702657   9258.992965\n",
       "   3     59   74373       0.765680   7346.334504\n",
       "   4     87   17760       0.348778  16869.507130\n",
       "   ..   ...     ...            ...           ...\n",
       "   500   28  101206       0.387441  14936.775389\n",
       "   501   93   19934       0.203140  17969.693769\n",
       "   502   90   35297       0.355149  16091.401954\n",
       "   503   91   20681       0.354679  18401.088445\n",
       "   504   89   30267       0.289310  14386.351880\n",
       "   \n",
       "   [505 rows x 4 columns]),\n",
       "  ('Transformed Dataset',\n",
       "             Age    Income  SpendingScore   Savings\n",
       "   0   -0.042287  0.062733       1.103593 -1.072467\n",
       "   1   -0.000821  0.174811       1.102641 -1.303473\n",
       "   2    0.123577 -0.021200       0.761727 -0.526556\n",
       "   3   -0.000821 -0.031712       1.004705 -0.913395\n",
       "   4    1.160228 -1.606165      -0.602619  1.012686\n",
       "   ..        ...       ...            ...       ...\n",
       "   500 -1.286268  0.714535      -0.453557  0.621787\n",
       "   501  1.409024 -1.545704      -1.164109  1.235201\n",
       "   502  1.284626 -1.118447      -0.578054  0.855313\n",
       "   503  1.326092 -1.524929      -0.579866  1.322452\n",
       "   504  1.243160 -1.258335      -0.831890  0.510463\n",
       "   \n",
       "   [505 rows x 4 columns]),\n",
       "  ('Transformation Pipeline',\n",
       "   Pipeline(memory=None,\n",
       "            steps=[('dtypes',\n",
       "                    DataTypes_Auto_infer(categorical_features=[],\n",
       "                                         display_types=True, features_todrop=[],\n",
       "                                         ml_usecase='regression',\n",
       "                                         numerical_features=[],\n",
       "                                         target='dummy_target',\n",
       "                                         time_features=[])),\n",
       "                   ('imputer',\n",
       "                    Simple_Imputer(categorical_strategy='not_available',\n",
       "                                   numeric_strategy='mean',\n",
       "                                   target_variable=None)),\n",
       "                   ('new_levels1',\n",
       "                    New_Catagorical_L...\n",
       "                   ('group', Empty()),\n",
       "                   ('scaling',\n",
       "                    Scaling_and_Power_transformation(function_to_apply='zscore',\n",
       "                                                     random_state_quantile=305,\n",
       "                                                     target='dummy_target')),\n",
       "                   ('P_transform', Empty()), ('binn', Empty()),\n",
       "                   ('fix_perfect', Empty()), ('rem_outliers', Empty()),\n",
       "                   ('dummy', Dummify(target='dummy_target')),\n",
       "                   ('clean_names', Clean_Colum_Names()), ('fix_multi', Empty()),\n",
       "                   ('pca', Empty())],\n",
       "            verbose=False))],\n",
       " -1,\n",
       " True,\n",
       " 'no_logging',\n",
       " False,\n",
       " False,\n",
       " '3965')"
      ]
     },
     "execution_count": 77,
     "metadata": {},
     "output_type": "execute_result"
    }
   ],
   "source": [
    "setup(data = ds, normalize = True, normalize_method = 'zscore')"
   ]
  },
  {
   "cell_type": "code",
   "execution_count": 78,
   "metadata": {},
   "outputs": [
    {
     "data": {
      "text/html": [
       "<div>\n",
       "<style scoped>\n",
       "    .dataframe tbody tr th:only-of-type {\n",
       "        vertical-align: middle;\n",
       "    }\n",
       "\n",
       "    .dataframe tbody tr th {\n",
       "        vertical-align: top;\n",
       "    }\n",
       "\n",
       "    .dataframe thead th {\n",
       "        text-align: right;\n",
       "    }\n",
       "</style>\n",
       "<table border=\"1\" class=\"dataframe\">\n",
       "  <thead>\n",
       "    <tr style=\"text-align: right;\">\n",
       "      <th></th>\n",
       "      <th>Metric</th>\n",
       "    </tr>\n",
       "  </thead>\n",
       "  <tbody>\n",
       "    <tr>\n",
       "      <th>Silhouette</th>\n",
       "      <td>0.7581</td>\n",
       "    </tr>\n",
       "    <tr>\n",
       "      <th>Calinski-Harabasz</th>\n",
       "      <td>1611.2647</td>\n",
       "    </tr>\n",
       "    <tr>\n",
       "      <th>Davies-Bouldin</th>\n",
       "      <td>0.3743</td>\n",
       "    </tr>\n",
       "  </tbody>\n",
       "</table>\n",
       "</div>"
      ],
      "text/plain": [
       "                      Metric\n",
       "Silhouette            0.7581\n",
       "Calinski-Harabasz  1611.2647\n",
       "Davies-Bouldin        0.3743"
      ]
     },
     "metadata": {},
     "output_type": "display_data"
    }
   ],
   "source": [
    "km = create_model('kmeans')"
   ]
  },
  {
   "cell_type": "code",
   "execution_count": 79,
   "metadata": {},
   "outputs": [
    {
     "data": {
      "text/html": [
       "        <script type=\"text/javascript\">\n",
       "        window.PlotlyConfig = {MathJaxConfig: 'local'};\n",
       "        if (window.MathJax) {MathJax.Hub.Config({SVG: {font: \"STIX-Web\"}});}\n",
       "        if (typeof require !== 'undefined') {\n",
       "        require.undef(\"plotly\");\n",
       "        requirejs.config({\n",
       "            paths: {\n",
       "                'plotly': ['https://cdn.plot.ly/plotly-latest.min']\n",
       "            }\n",
       "        });\n",
       "        require(['plotly'], function(Plotly) {\n",
       "            window._Plotly = Plotly;\n",
       "        });\n",
       "        }\n",
       "        </script>\n",
       "        "
      ]
     },
     "metadata": {},
     "output_type": "display_data"
    },
    {
     "data": {
      "application/vnd.plotly.v1+json": {
       "config": {
        "plotlyServerURL": "https://plot.ly"
       },
       "data": [
        {
         "customdata": [
          [
           58
          ],
          [
           55
          ],
          [
           60
          ],
          [
           56
          ],
          [
           60
          ],
          [
           58
          ],
          [
           56
          ],
          [
           64
          ],
          [
           63
          ],
          [
           62
          ],
          [
           59
          ],
          [
           67
          ],
          [
           58
          ],
          [
           58
          ],
          [
           57
          ],
          [
           66
          ],
          [
           64
          ],
          [
           59
          ],
          [
           68
          ],
          [
           61
          ],
          [
           64
          ],
          [
           63
          ],
          [
           55
          ],
          [
           57
          ],
          [
           57
          ],
          [
           61
          ],
          [
           58
          ],
          [
           59
          ],
          [
           53
          ],
          [
           59
          ],
          [
           62
          ],
          [
           60
          ],
          [
           65
          ],
          [
           60
          ],
          [
           63
          ],
          [
           56
          ],
          [
           58
          ],
          [
           62
          ],
          [
           56
          ],
          [
           59
          ],
          [
           65
          ],
          [
           62
          ],
          [
           59
          ],
          [
           66
          ],
          [
           64
          ],
          [
           62
          ],
          [
           61
          ],
          [
           56
          ],
          [
           62
          ],
          [
           60
          ],
          [
           62
          ],
          [
           64
          ],
          [
           63
          ],
          [
           58
          ],
          [
           62
          ],
          [
           61
          ],
          [
           59
          ],
          [
           59
          ],
          [
           58
          ],
          [
           55
          ],
          [
           51
          ],
          [
           57
          ],
          [
           61
          ],
          [
           60
          ],
          [
           64
          ],
          [
           65
          ],
          [
           59
          ],
          [
           58
          ],
          [
           63
          ],
          [
           61
          ],
          [
           59
          ],
          [
           56
          ],
          [
           61
          ],
          [
           63
          ],
          [
           58
          ],
          [
           62
          ],
          [
           60
          ],
          [
           62
          ],
          [
           65
          ],
          [
           59
          ],
          [
           65
          ],
          [
           58
          ],
          [
           61
          ],
          [
           66
          ],
          [
           58
          ],
          [
           68
          ],
          [
           58
          ],
          [
           67
          ],
          [
           56
          ],
          [
           61
          ],
          [
           56
          ],
          [
           61
          ],
          [
           59
          ],
          [
           62
          ],
          [
           59
          ],
          [
           59
          ],
          [
           59
          ],
          [
           57
          ],
          [
           59
          ],
          [
           61
          ],
          [
           62
          ],
          [
           67
          ],
          [
           56
          ],
          [
           59
          ],
          [
           58
          ],
          [
           61
          ],
          [
           55
          ],
          [
           59
          ],
          [
           59
          ],
          [
           60
          ],
          [
           60
          ],
          [
           67
          ],
          [
           57
          ],
          [
           56
          ],
          [
           63
          ],
          [
           64
          ],
          [
           57
          ],
          [
           60
          ],
          [
           61
          ],
          [
           61
          ],
          [
           57
          ],
          [
           64
          ],
          [
           55
          ],
          [
           59
          ],
          [
           58
          ],
          [
           58
          ],
          [
           59
          ],
          [
           53
          ],
          [
           53
          ],
          [
           59
          ],
          [
           63
          ],
          [
           55
          ],
          [
           62
          ],
          [
           61
          ],
          [
           59
          ],
          [
           55
          ],
          [
           56
          ],
          [
           57
          ],
          [
           66
          ],
          [
           66
          ],
          [
           59
          ],
          [
           59
          ],
          [
           56
          ],
          [
           61
          ],
          [
           61
          ],
          [
           63
          ],
          [
           58
          ],
          [
           62
          ],
          [
           58
          ],
          [
           55
          ],
          [
           58
          ],
          [
           60
          ],
          [
           61
          ],
          [
           57
          ],
          [
           54
          ],
          [
           62
          ],
          [
           64
          ]
         ],
         "hovertemplate": "Cluster=Cluster 0<br>PCA1=%{x}<br>PCA2=%{y}<br>Feature=%{customdata[0]}<extra></extra>",
         "legendgroup": "Cluster 0",
         "marker": {
          "color": "#636efa",
          "opacity": 0.5,
          "symbol": "circle"
         },
         "mode": "markers",
         "name": "Cluster 0",
         "orientation": "v",
         "showlegend": true,
         "textposition": "top center",
         "type": "scatter",
         "x": [
          1.1682836952682376,
          1.4165248374797486,
          1.0276427518256992,
          0.791843891870831,
          0.655573792594114,
          1.285625743072326,
          1.0405649089171711,
          0.8861290446638924,
          0.9146569289484545,
          0.9278732748043749,
          1.2454279477002406,
          0.7728732967285862,
          1.1074480842930179,
          1.2687191339124437,
          0.944953181049823,
          0.7622312538155263,
          0.9777645610618009,
          1.016968437745996,
          1.010374347027506,
          0.8997248200204974,
          1.0437351291207937,
          0.5968294407661449,
          1.206217019803309,
          1.3021698734876512,
          0.9384815206365379,
          0.7160189011130949,
          1.3211848342680665,
          1.108073316669426,
          0.9983593105480838,
          0.8919397398920382,
          0.734458813158922,
          0.9008413612961548,
          0.861209743263974,
          0.7821931813367388,
          1.204150220753674,
          1.2062689497452437,
          1.0852610998583692,
          0.8459435566343757,
          0.8943128181071507,
          0.8726422942483532,
          0.9041298872560473,
          0.9066282307180074,
          0.9808089660272762,
          1.0636835366613566,
          0.9404516999424049,
          0.7759052326393503,
          0.6643083460223332,
          0.8659576049053314,
          1.048844682447001,
          0.9312354331359779,
          0.981971733128292,
          1.0590705402473422,
          0.7440274435369169,
          1.1042747917137972,
          0.841770255514007,
          0.787478939446823,
          0.9425920842727981,
          0.8657576810841419,
          1.0019402928638472,
          0.9594904151707258,
          1.2191798209512172,
          1.0477726729816619,
          1.0077913715380573,
          0.904162555420282,
          0.5770891570682692,
          0.8416809200835695,
          0.6350507066641513,
          1.1666392930506,
          0.8463936116742194,
          0.8566260104748822,
          0.9119073306227607,
          1.086048959435074,
          0.9366545674773802,
          0.8473239348850597,
          0.9030632708475183,
          1.247404918999922,
          0.7580640338652362,
          1.0725421887357214,
          0.7059601325843319,
          1.211314879402837,
          0.6609924399624042,
          1.1841091620117858,
          0.7954780839040365,
          0.8652969623555025,
          1.2806117217574298,
          0.731024691378334,
          0.6935247132809573,
          1.110028846056503,
          1.1219558937751617,
          0.9605009147406065,
          1.18514908143577,
          0.7065493332712819,
          0.8220018797190897,
          0.9389336366942206,
          1.0372284182819442,
          0.8637286786394428,
          1.0205116659415403,
          0.9352338032415243,
          0.8645508446597501,
          0.9431474617111347,
          0.8598961870636602,
          0.7324374019115755,
          1.0101209417475774,
          1.3029770644549092,
          0.9578529290723364,
          1.192920131453533,
          0.9890446575971695,
          1.026201536276119,
          1.3206465830820049,
          0.8764462552030109,
          1.132888247867512,
          1.046473865838336,
          1.3467047630036348,
          1.0574476429917197,
          1.1951063868113265,
          1.0121035688587785,
          1.2175980673594546,
          0.9540261060166755,
          1.1788965189308613,
          0.9680414758663425,
          1.154331220204543,
          1.0768594303469523,
          0.9446702776811146,
          1.1276584984477682,
          0.9390626169708238,
          0.9214394300852422,
          0.8854326475001869,
          0.8545271008465528,
          1.3514664493639816,
          0.6491556935907041,
          1.1697156964393145,
          1.1107919243742,
          0.962956832388378,
          0.9694492313376489,
          0.9863668251962457,
          1.2097308387793178,
          0.8404752544111018,
          1.1695786974840423,
          0.9783089030768439,
          0.9549237171607513,
          1.3253417570495627,
          0.9688223571812667,
          0.9694486514074109,
          0.9128901325524063,
          0.9904005881248407,
          1.1194004313191623,
          0.9700286211087098,
          0.5838881567779771,
          1.141270322514881,
          0.9780919204240467,
          0.9415026759594849,
          1.3791573620518482,
          1.2113994186634618,
          0.9951066450213125,
          1.187805832981986,
          1.168659472824383,
          0.6485204612673687
         ],
         "xaxis": "x",
         "y": [
          -1.0001820856171368,
          -1.1874054711995599,
          -1.2614198577861806,
          -1.042846254836757,
          -0.9506074539298875,
          -1.049161049954012,
          -1.0879013804186883,
          -1.3114515200786812,
          -1.0457975031508706,
          -1.3218178340944098,
          -1.13509390202901,
          -1.449832485117914,
          -0.9032411369754084,
          -1.2877279248601607,
          -1.0827044040761613,
          -1.1008297456136784,
          -1.00543226194784,
          -1.1019902159434936,
          -1.2406547778963675,
          -1.0180186936588627,
          -1.1407848018775488,
          -1.2466719961688013,
          -0.9890970443948693,
          -1.1317551953661236,
          -0.9114183410585563,
          -0.8559836223979526,
          -1.011211436296977,
          -1.0491406865936392,
          -0.7261456137263878,
          -0.9244827733793154,
          -1.173938501905717,
          -1.0551957541596506,
          -1.30766552870149,
          -0.9017110432639885,
          -1.1104901972275874,
          -0.787329147408152,
          -1.0005435426275437,
          -1.025556149900055,
          -0.8956355018132003,
          -1.0128644189590958,
          -1.3387063346994064,
          -0.8129183784091506,
          -1.1529580194551647,
          -1.0687676737545562,
          -1.0093416719979806,
          -1.030795224383923,
          -0.8901299590394512,
          -0.9501853289012727,
          -1.03412949154739,
          -1.1517194616311839,
          -1.2111098779679832,
          -0.8907998373596876,
          -1.017030059471044,
          -0.9261338838834445,
          -1.1315541637852446,
          -1.01857562370028,
          -1.4138817485017519,
          -1.0093228737615263,
          -0.8672710102715024,
          -1.020795908369343,
          -0.9339130674309712,
          -0.9909497647105316,
          -0.9251206446811973,
          -0.9268789035839297,
          -1.1057267042149976,
          -1.0551123740756219,
          -0.8444885614543401,
          -0.9858205041431773,
          -0.7750478107632965,
          -1.089910094477933,
          -1.0921091469780628,
          -1.1540810359701272,
          -1.0537811559664194,
          -1.0958576600458232,
          -0.957116477220279,
          -1.3089097380527075,
          -1.0899601918216397,
          -1.3410544630128916,
          -1.0135587140245301,
          -1.3413428364930238,
          -1.0233877290925233,
          -1.2783963581665228,
          -0.839882745013913,
          -1.0111196385057326,
          -1.148785106091435,
          -1.210618741704202,
          -0.804818480187004,
          -1.2312023094915119,
          -0.9361936520339311,
          -1.121390777937369,
          -0.9262420090302054,
          -1.0071641006873355,
          -0.7151245952184757,
          -1.1841016892453557,
          -1.1311765695507559,
          -0.6305227798075265,
          -1.0690001134515035,
          -1.068948737860819,
          -0.8363637327185859,
          -1.2236753943047032,
          -1.2307738545687552,
          -1.203321090347453,
          -0.7192448172061604,
          -1.0354555954607714,
          -0.7304668179805254,
          -1.3237197571024273,
          -0.746096211897806,
          -1.0784364494941765,
          -0.8439511939731805,
          -0.988193806762761,
          -1.3481125844605,
          -1.1669308528476003,
          -1.0718240817228653,
          -0.9625591198201093,
          -1.5360719893942936,
          -1.2827358496231807,
          -1.0940498671468712,
          -1.1050118385370833,
          -1.1914816105339099,
          -1.137858398733163,
          -0.8986911745233584,
          -0.864627178346605,
          -0.8512722958346939,
          -1.1423072812706652,
          -0.8248210946873341,
          -0.9607789273306269,
          -0.9872030331999495,
          -0.9365448556375331,
          -0.9684157700140715,
          -0.7130075134432766,
          -1.3232677261395924,
          -0.850467667609997,
          -1.0563539402301396,
          -0.9652549553138371,
          -1.2147598476858887,
          -1.0174122943432222,
          -1.008383616762898,
          -0.994842372750987,
          -1.2837073567549357,
          -1.4279651626020695,
          -1.0537885061046202,
          -0.9508264849933744,
          -0.5166516884813351,
          -1.287788972881837,
          -1.0986216031201448,
          -0.9454616857976531,
          -1.0226848440078242,
          -0.7095235126984968,
          -1.1282609655892248,
          -0.893265072656092,
          -0.8738517947581393,
          -1.1911313993639174,
          -1.3813314590579007,
          -0.8446993421453307,
          -0.9010032516632608,
          -1.3828850833445006,
          -1.234556769657115
         ],
         "yaxis": "y"
        },
        {
         "customdata": [
          [
           87
          ],
          [
           94
          ],
          [
           86
          ],
          [
           92
          ],
          [
           86
          ],
          [
           91
          ],
          [
           82
          ],
          [
           87
          ],
          [
           89
          ],
          [
           90
          ],
          [
           88
          ],
          [
           93
          ],
          [
           85
          ],
          [
           84
          ],
          [
           86
          ],
          [
           83
          ],
          [
           94
          ],
          [
           83
          ],
          [
           88
          ],
          [
           83
          ],
          [
           91
          ],
          [
           84
          ],
          [
           90
          ],
          [
           90
          ],
          [
           88
          ],
          [
           87
          ],
          [
           83
          ],
          [
           88
          ],
          [
           90
          ],
          [
           91
          ],
          [
           84
          ],
          [
           87
          ],
          [
           91
          ],
          [
           85
          ],
          [
           87
          ],
          [
           88
          ],
          [
           87
          ],
          [
           88
          ],
          [
           90
          ],
          [
           91
          ],
          [
           91
          ],
          [
           91
          ],
          [
           83
          ],
          [
           92
          ],
          [
           87
          ],
          [
           85
          ],
          [
           94
          ],
          [
           86
          ],
          [
           92
          ],
          [
           84
          ],
          [
           83
          ],
          [
           87
          ],
          [
           90
          ],
          [
           87
          ],
          [
           88
          ],
          [
           86
          ],
          [
           84
          ],
          [
           90
          ],
          [
           91
          ],
          [
           92
          ],
          [
           97
          ],
          [
           84
          ],
          [
           92
          ],
          [
           87
          ],
          [
           91
          ],
          [
           93
          ],
          [
           90
          ],
          [
           84
          ],
          [
           87
          ],
          [
           82
          ],
          [
           90
          ],
          [
           83
          ],
          [
           91
          ],
          [
           88
          ],
          [
           91
          ],
          [
           84
          ],
          [
           87
          ],
          [
           89
          ],
          [
           84
          ],
          [
           94
          ],
          [
           86
          ],
          [
           79
          ],
          [
           86
          ],
          [
           85
          ],
          [
           92
          ],
          [
           89
          ],
          [
           88
          ],
          [
           87
          ],
          [
           90
          ],
          [
           89
          ],
          [
           79
          ],
          [
           82
          ],
          [
           87
          ],
          [
           91
          ],
          [
           86
          ],
          [
           89
          ],
          [
           83
          ],
          [
           91
          ],
          [
           89
          ],
          [
           82
          ],
          [
           85
          ],
          [
           92
          ],
          [
           89
          ],
          [
           84
          ],
          [
           87
          ],
          [
           94
          ],
          [
           85
          ],
          [
           88
          ],
          [
           89
          ],
          [
           83
          ],
          [
           89
          ],
          [
           91
          ],
          [
           88
          ],
          [
           88
          ],
          [
           91
          ],
          [
           87
          ],
          [
           87
          ],
          [
           85
          ],
          [
           85
          ],
          [
           88
          ],
          [
           85
          ],
          [
           86
          ],
          [
           89
          ],
          [
           95
          ],
          [
           89
          ],
          [
           90
          ],
          [
           85
          ],
          [
           88
          ],
          [
           87
          ],
          [
           82
          ],
          [
           88
          ],
          [
           84
          ],
          [
           91
          ],
          [
           93
          ],
          [
           88
          ],
          [
           94
          ],
          [
           81
          ],
          [
           91
          ],
          [
           85
          ],
          [
           94
          ],
          [
           91
          ],
          [
           88
          ],
          [
           89
          ],
          [
           84
          ],
          [
           83
          ],
          [
           92
          ],
          [
           84
          ]
         ],
         "hovertemplate": "Cluster=Cluster 1<br>PCA1=%{x}<br>PCA2=%{y}<br>Feature=%{customdata[0]}<extra></extra>",
         "legendgroup": "Cluster 1",
         "marker": {
          "color": "#EF553B",
          "opacity": 0.5,
          "symbol": "circle"
         },
         "mode": "markers",
         "name": "Cluster 1",
         "orientation": "v",
         "showlegend": true,
         "textposition": "top center",
         "type": "scatter",
         "x": [
          -2.1869226131682136,
          -2.404282795281648,
          -2.0773059062778327,
          -2.4413576055835273,
          -2.3022948235827383,
          -2.287582193010668,
          -2.0517528473246758,
          -2.061750671528569,
          -2.10557676978175,
          -1.9237706713928528,
          -1.9803939141158562,
          -2.5674016692568205,
          -2.0693762964387403,
          -2.3168730520857186,
          -2.311440794393319,
          -2.048875702149671,
          -2.0640271102315437,
          -2.074064253871315,
          -2.3256650491394484,
          -2.0660309181406156,
          -2.1601323784762827,
          -2.079401575264757,
          -2.113255041737846,
          -2.2367450734831027,
          -2.0257149639838863,
          -2.100964512392005,
          -2.1726077654905667,
          -1.9475645155039583,
          -2.1246147200397307,
          -2.198749352915009,
          -1.8819534226210903,
          -1.6415100650814398,
          -2.2095285582649846,
          -2.2135642651570673,
          -1.8905345144688739,
          -2.1966542660576174,
          -2.2149141760374707,
          -1.8568485736915792,
          -2.4957366918256896,
          -1.9888631833850041,
          -2.190582493701908,
          -2.2638313717845637,
          -2.084895679082327,
          -2.0072052418036432,
          -2.015669748035298,
          -1.8449566204150134,
          -2.3009029155907292,
          -2.0904897478361413,
          -2.309183121939144,
          -2.0610472590901296,
          -1.692013628626964,
          -1.9726821199006939,
          -2.0348464686363115,
          -2.1763682340027484,
          -1.8744645085902425,
          -2.0325472705689434,
          -1.8540490620627044,
          -2.054698745177119,
          -2.271968787809277,
          -2.1383706929358315,
          -2.1665824308323005,
          -1.8268447244940127,
          -2.1151354628191026,
          -2.1694528134423305,
          -2.0219203394149843,
          -2.665084658361224,
          -1.9113850700343138,
          -2.1374479976242364,
          -1.9797364990940145,
          -1.9316929551371966,
          -2.0875236208819117,
          -1.8501139685727852,
          -2.47085566256607,
          -2.10454801458888,
          -2.0596222048150743,
          -2.0392937236687163,
          -1.9494241538920556,
          -2.133873375437624,
          -2.012610070884195,
          -2.089773059077642,
          -1.9440772638285448,
          -1.651896506645377,
          -2.1279588861954566,
          -1.7799235192347713,
          -2.0620186859064216,
          -1.6899781808562515,
          -2.3722395446075395,
          -1.8777106813838267,
          -2.0057279390592413,
          -1.9614734056434324,
          -1.7340496037141735,
          -2.1423467445619973,
          -1.920850976297236,
          -2.1795387106089716,
          -2.408626064286935,
          -2.054961187666106,
          -2.075245169425034,
          -2.284116990837203,
          -1.8925095897849644,
          -1.6872601620843282,
          -1.8598619693857625,
          -2.0545284512429567,
          -2.16015050002124,
          -1.8555916730543973,
          -2.1368663938271375,
          -2.2408627860580768,
          -2.034198748653999,
          -1.9635142458032895,
          -1.9874389571144324,
          -1.719667129639251,
          -1.5876424070308883,
          -2.3963856776111876,
          -1.7185088708977916,
          -1.8776591205911966,
          -2.06067568061509,
          -1.9122344483825093,
          -2.0110177139723944,
          -1.8605670216000896,
          -2.1063109238772055,
          -2.2967076393132495,
          -1.7579711361468453,
          -1.7605101374801237,
          -2.2267334938713415,
          -2.390800039789045,
          -2.1099740986861013,
          -1.8108771287321312,
          -1.9593512363007384,
          -1.9479418174184346,
          -2.189494708372396,
          -1.9126165039691825,
          -1.8583743926785907,
          -1.8125975524734323,
          -2.446140160757746,
          -2.419934136344304,
          -2.181045633992149,
          -2.3241773584583005,
          -1.9100567056110205,
          -2.377900105509399,
          -2.1555299213583954,
          -2.1219967568300855,
          -2.3511033696083463,
          -2.188413745800139,
          -2.269624656288542,
          -2.108265099590638,
          -1.8945486862980765,
          -1.9876134251003668,
          -2.3536232207695864
         ],
         "xaxis": "x",
         "y": [
          -0.80679962128407,
          -0.7173392608021741,
          -0.6825634482605109,
          -0.5181762804706677,
          -0.11431720648490416,
          -0.8755633773850929,
          -0.15961900771798793,
          -0.39991663244026565,
          -0.5517801808504565,
          -0.6273745804073415,
          -0.4501762590044241,
          -0.5584255957106544,
          -0.5698596894777446,
          -0.40881865259866407,
          -0.057588037298975,
          -0.29102849721397805,
          -0.7464151909747625,
          -0.4538961940373323,
          -0.5350079457244141,
          -0.1527021320984242,
          -0.5893188243316024,
          -0.5608573280102035,
          -0.36960815277275016,
          -0.5264186674622466,
          -0.5390371901880999,
          -0.5619385969416542,
          -0.23068591812322725,
          -0.5215544921627993,
          -0.46037208412618186,
          -0.613838497033093,
          -0.29422101934924555,
          -0.3200521589640571,
          -0.5797517175013486,
          -0.2550459481432341,
          -0.5393496345610033,
          -0.6273116903520713,
          -0.524127743073059,
          -0.7054104619627648,
          -0.36810763747858455,
          -0.4677241371348222,
          -0.6014849208442848,
          -0.45444436189663573,
          -0.558502717898896,
          -0.5682785784481221,
          -0.610217178516325,
          -0.7365498233237934,
          -0.6493932039655949,
          -0.4401749952407428,
          -0.6093340903885871,
          -0.41872258026212056,
          -0.46643970407898705,
          -0.2091844848119781,
          -0.572852542157304,
          -0.6740201072246881,
          -0.6191144891899748,
          -0.5563918767716802,
          -0.5275820942133447,
          -0.7520088083183665,
          -0.44915293126871947,
          -0.8410374693291157,
          -0.7505233723161505,
          -0.3671606043681583,
          -0.4297369317982715,
          -0.36895591872458533,
          -0.5746310288907689,
          -0.3562743971944227,
          -0.545603014423335,
          -0.38343942776645956,
          -0.45659388161346554,
          -0.30034032915907527,
          -0.6338688283250097,
          -0.4274957901672669,
          -0.24687035895140433,
          -0.6480071376920645,
          -0.6563181145633045,
          -0.40534448658855177,
          -0.6280532208676102,
          -0.5696768258353341,
          -0.6402759030847447,
          -0.4424074768818486,
          -0.5298424370124744,
          -0.2911761213401428,
          -0.1391105095589207,
          -0.6441540244084567,
          -0.5549713663452898,
          -0.6934908566370716,
          -0.5161724467895032,
          -0.620634255054029,
          -0.4200309087478731,
          -0.640038958297555,
          -0.32696547958162325,
          -0.30471150451590295,
          -0.9227843227305286,
          -0.6347763051102633,
          -0.4487441268603161,
          -0.7539529667062307,
          -0.37940311798571175,
          -0.4958571330657749,
          -0.604614074364983,
          -0.795490425078806,
          -0.4342812096877801,
          -0.5009904975506838,
          -0.6676343574450289,
          -0.5744380394471976,
          -0.5519564277302006,
          -0.7895587863902823,
          -0.40722345775334584,
          -0.9640476175553682,
          -0.516998185985439,
          -0.6422730874122038,
          -1.0908349743729866,
          -0.10743758074499007,
          -0.7034946401142952,
          -0.7015103278988359,
          -0.5417891354062114,
          -0.6857125193728727,
          -0.5766039501282598,
          -0.5908679677439628,
          -0.28449621568852246,
          -0.19658009534834933,
          -0.6274956549984144,
          -0.17396284600895814,
          -0.4646409718395214,
          -0.5480995300087262,
          -0.7826594392051939,
          -0.6893554007497754,
          -0.30459477767938137,
          -0.6458563890675618,
          -0.5869172822898159,
          -0.3122007065122711,
          -0.5353794688999866,
          -0.19896477134012078,
          -0.27829581216605676,
          -0.5971884962338546,
          -0.47087740213138657,
          -0.5246607618196137,
          -0.19150559117938437,
          -0.5926924289070146,
          -0.3982907307716279,
          -0.7167506618303237,
          -0.6846140012021056,
          -0.4018652015058657,
          -0.28863269148648,
          -0.31381840959720286,
          -0.30305247632112475,
          -0.6418532328723238,
          -0.103205958611997
         ],
         "yaxis": "y"
        },
        {
         "customdata": [
          [
           87
          ],
          [
           30
          ],
          [
           36
          ],
          [
           39
          ],
          [
           89
          ],
          [
           31
          ],
          [
           30
          ],
          [
           31
          ],
          [
           29
          ],
          [
           33
          ],
          [
           37
          ],
          [
           37
          ],
          [
           37
          ],
          [
           29
          ],
          [
           36
          ],
          [
           33
          ],
          [
           38
          ],
          [
           28
          ],
          [
           27
          ],
          [
           34
          ],
          [
           44
          ],
          [
           31
          ],
          [
           36
          ],
          [
           33
          ],
          [
           88
          ],
          [
           31
          ],
          [
           86
          ],
          [
           36
          ],
          [
           35
          ],
          [
           32
          ],
          [
           36
          ],
          [
           85
          ],
          [
           31
          ],
          [
           31
          ],
          [
           33
          ],
          [
           33
          ],
          [
           82
          ],
          [
           32
          ],
          [
           30
          ],
          [
           33
          ],
          [
           34
          ],
          [
           35
          ],
          [
           31
          ],
          [
           35
          ],
          [
           82
          ],
          [
           35
          ],
          [
           28
          ],
          [
           30
          ],
          [
           28
          ],
          [
           32
          ],
          [
           38
          ],
          [
           28
          ],
          [
           31
          ],
          [
           30
          ],
          [
           84
          ],
          [
           30
          ],
          [
           37
          ],
          [
           88
          ],
          [
           35
          ],
          [
           28
          ],
          [
           34
          ],
          [
           34
          ],
          [
           22
          ],
          [
           36
          ],
          [
           34
          ],
          [
           86
          ],
          [
           92
          ],
          [
           31
          ],
          [
           31
          ],
          [
           93
          ],
          [
           35
          ],
          [
           32
          ],
          [
           28
          ],
          [
           33
          ],
          [
           86
          ],
          [
           29
          ],
          [
           30
          ],
          [
           38
          ],
          [
           88
          ],
          [
           29
          ],
          [
           36
          ],
          [
           31
          ],
          [
           33
          ],
          [
           29
          ],
          [
           33
          ],
          [
           31
          ],
          [
           84
          ],
          [
           26
          ],
          [
           24
          ],
          [
           36
          ],
          [
           33
          ],
          [
           31
          ],
          [
           29
          ],
          [
           36
          ],
          [
           83
          ],
          [
           85
          ],
          [
           40
          ],
          [
           31
          ],
          [
           37
          ],
          [
           83
          ],
          [
           31
          ],
          [
           29
          ],
          [
           33
          ],
          [
           30
          ],
          [
           34
          ],
          [
           30
          ],
          [
           34
          ],
          [
           31
          ],
          [
           29
          ],
          [
           90
          ],
          [
           30
          ],
          [
           37
          ],
          [
           30
          ],
          [
           33
          ],
          [
           37
          ],
          [
           38
          ],
          [
           35
          ],
          [
           25
          ],
          [
           42
          ],
          [
           33
          ],
          [
           29
          ],
          [
           39
          ],
          [
           83
          ],
          [
           32
          ],
          [
           84
          ],
          [
           34
          ],
          [
           37
          ],
          [
           35
          ],
          [
           43
          ],
          [
           77
          ],
          [
           34
          ],
          [
           91
          ],
          [
           36
          ],
          [
           33
          ],
          [
           31
          ],
          [
           28
          ],
          [
           29
          ],
          [
           35
          ],
          [
           37
          ],
          [
           32
          ],
          [
           37
          ],
          [
           29
          ],
          [
           35
          ],
          [
           31
          ],
          [
           84
          ],
          [
           25
          ],
          [
           90
          ],
          [
           34
          ],
          [
           39
          ],
          [
           32
          ],
          [
           34
          ]
         ],
         "hovertemplate": "Cluster=Cluster 2<br>PCA1=%{x}<br>PCA2=%{y}<br>Feature=%{customdata[0]}<extra></extra>",
         "legendgroup": "Cluster 2",
         "marker": {
          "color": "#00cc96",
          "opacity": 0.5,
          "symbol": "circle"
         },
         "mode": "markers",
         "name": "Cluster 2",
         "orientation": "v",
         "showlegend": true,
         "textposition": "top center",
         "type": "scatter",
         "x": [
          -0.9670629789192083,
          0.10798190058984115,
          0.3029434706256707,
          -0.04760082731462653,
          -1.292152419372631,
          0.24405114390161767,
          0.42000193438181355,
          0.32955810318343765,
          0.5268484808304673,
          0.07021005310807624,
          0.310979313935163,
          0.1352740078288094,
          -0.13748781978277366,
          0.258706202083352,
          0.16245402588926236,
          0.23575524619151914,
          0.21730435467967088,
          0.152036850026873,
          0.28572228536007344,
          0.1368969591281354,
          0.21406800732462536,
          0.024457822648124964,
          0.06669631899033718,
          0.18176350885902345,
          -1.0392533228066556,
          0.3333764874010481,
          -1.190867339912668,
          0.2283660689101145,
          0.012671787887797633,
          0.47085794658711666,
          -0.15304554008669732,
          -1.3983098956237932,
          -0.015301231419444623,
          0.24079974191433567,
          0.2030776463525925,
          0.3138346481443745,
          -1.0432102831151382,
          0.050987139082399914,
          0.42625934990458125,
          -0.02430615793993106,
          0.24302673025668742,
          0.08619071169016396,
          0.2686542437250962,
          0.295748123375611,
          -0.9675568893676616,
          -0.057304364971380445,
          0.23395699056963137,
          0.2294494766794056,
          0.4196125902321772,
          0.1931329863404986,
          0.2742149626718297,
          0.13276127294357074,
          0.4327565778337946,
          0.23417752734878877,
          -0.9031905384342066,
          0.30712980435331216,
          0.32006464176635135,
          -1.0975612863974602,
          0.07082605153271529,
          0.44920708207115917,
          0.2304675517487187,
          0.014221867438113794,
          0.4086853250530215,
          0.14166261513287362,
          -0.04815845077814456,
          -0.7634175173608082,
          -1.095230165607462,
          0.4099465069480236,
          0.720692527359188,
          -1.1784391467069228,
          0.20455623212017335,
          0.4241268434444539,
          0.10836347318943534,
          0.3752452101139475,
          -1.2481136308096639,
          0.3769089864980645,
          0.38862972859270944,
          0.33795305665586295,
          -1.6249127430069026,
          0.6209177507357927,
          -0.06863316322719969,
          0.3580626040375046,
          0.22843062366547878,
          0.32782639506480277,
          0.39048239891230163,
          0.4899908703924908,
          -1.266620294235917,
          0.14248076866385276,
          0.46704746883449094,
          0.10015091531711098,
          0.4193999411748166,
          0.11017438417753372,
          0.47174666615689503,
          -0.03367814992864128,
          -1.1975955672718572,
          -1.0212922532716064,
          -0.17843249653309715,
          0.47040269632573173,
          -0.1541570919341039,
          -0.95528491411538,
          0.4031938335994745,
          0.18708410242978715,
          0.2534950324161213,
          0.25297563513141974,
          0.18865349208179247,
          0.285317603626975,
          -0.22938322854245655,
          0.3474753519627398,
          0.5747337316828756,
          -1.2098766939416912,
          0.5330680712134553,
          -0.11069420961116054,
          0.10471000129703623,
          0.3460102393617339,
          0.16539832007660377,
          -0.09633291726944974,
          0.22200057828160666,
          0.29052619599120677,
          0.10755108508674988,
          0.036996525955316606,
          0.2528098087690157,
          -0.01918707799608701,
          -1.127798963729686,
          0.32921285258951055,
          -1.1915520132735649,
          0.3833588948858261,
          0.38809548013295486,
          0.3956742879137805,
          0.16150143221687155,
          -0.8348660931609556,
          0.31007183452466375,
          -1.2427853767437975,
          0.23536289651427994,
          0.21584757434291482,
          0.4277487650886825,
          0.5702846658702914,
          0.18989268715206076,
          0.15596871389086986,
          0.1837079506271675,
          -0.017085340409121907,
          0.14987782216455015,
          0.14711323999417839,
          0.18269461957819091,
          0.49505497972764234,
          -1.0903662935204663,
          0.40538312130197085,
          -0.9541647633394388,
          0.28625478847653574,
          -0.18547996102691122,
          -0.08843572500884998,
          0.4088934782100872
         ],
         "xaxis": "x",
         "y": [
          1.070634474384951,
          1.9551017996442484,
          1.5526622411688589,
          1.4687294065128096,
          1.3272071763520186,
          1.9799561174245637,
          1.5791511608334918,
          1.575530212640471,
          1.7074318218407185,
          1.9697400908149028,
          1.557645289834883,
          1.713627379366225,
          1.939326112860188,
          1.6856596698483632,
          1.4691569298801996,
          1.2902314805603048,
          1.3840145228767213,
          1.748243580243543,
          1.870905148418329,
          1.622483629426418,
          1.4915248227159277,
          1.880943469848419,
          1.7356202049003775,
          1.559809746771673,
          1.3135300085049442,
          1.4389177814030152,
          1.2792909148990572,
          1.3946961512091196,
          1.8431367518566442,
          1.7797650239988716,
          1.711780572838822,
          1.3795671604603474,
          1.792300904277756,
          1.7288554287947315,
          1.7269874703999852,
          1.5917902501952992,
          1.5599327855338154,
          1.8996637897019277,
          1.430814588610516,
          1.7425572621420298,
          1.6242223408461083,
          1.6215238023833023,
          1.6683769189727964,
          1.3939503953960741,
          1.4027015503072435,
          1.875357508793214,
          1.6203935255650785,
          1.4856662654007748,
          1.5081257807041495,
          1.6485887470162055,
          1.6670982942623436,
          1.6239621259266774,
          1.6303414494518087,
          1.4609129883083152,
          1.2898572849628354,
          1.5713309270832814,
          1.439632217154848,
          1.258997166389634,
          1.6776867634780122,
          1.8500054307192837,
          1.3890042815995522,
          1.5946021328890443,
          1.974072691697943,
          1.637903764268453,
          1.7782219363645877,
          1.2243905694366009,
          1.1727357480096137,
          1.6457159924518576,
          1.3508523655450224,
          1.319528276480182,
          1.7192415871324918,
          1.6521558450649363,
          1.8203269670337319,
          1.799571119233585,
          1.582262820380452,
          1.6541405384365118,
          1.7142458564436673,
          1.5676659909614301,
          1.5343348210242738,
          1.5672686115149186,
          1.5834939724414425,
          1.5628044213730903,
          1.3602033219527667,
          1.6049146597162673,
          1.3470472053452565,
          1.7492547713999496,
          1.3289766502178686,
          1.7697532350908785,
          1.907339239789903,
          1.69489954045619,
          1.7434933069475482,
          1.7275528425655682,
          1.849558144980757,
          1.5181028187382999,
          1.4958440971752978,
          1.201626652818477,
          1.5557084700763368,
          1.6505084996032595,
          1.629954529466546,
          1.1784851028922099,
          1.670925732287296,
          1.510058709944619,
          1.6210649353601785,
          1.8050070243718765,
          1.6265685160315262,
          1.7974611331867152,
          1.8646990361592328,
          1.6445951084064112,
          1.8315728831631128,
          1.3846394558354997,
          1.5752059572403634,
          1.7989045127992138,
          1.7883368761196343,
          1.5959800051209427,
          1.3074850566242173,
          1.3905682153302208,
          1.8694706303149438,
          1.7901954468386945,
          1.4363191019927866,
          1.598023994245369,
          1.890825018913469,
          1.4381686236979372,
          1.3804689910581285,
          1.6238567077037407,
          1.2071737199030805,
          1.6070736112549682,
          1.4121023143885472,
          1.633262013273499,
          1.1885111312875813,
          1.6633252395563776,
          1.906840074826619,
          1.2472155447246556,
          1.5278631393450814,
          1.709854391862881,
          1.7193222116272975,
          1.6086501902260173,
          1.732971011464919,
          1.5906017955944165,
          1.6274930703498414,
          1.6424215762727299,
          1.6099944737064704,
          1.685223232611324,
          1.6082293763350148,
          1.6722886114391162,
          1.2543911693969436,
          1.7628076139252216,
          0.9893579587027426,
          1.13868631395921,
          1.6505739249517297,
          1.8279336436841278,
          1.4115550115262068
         ],
         "yaxis": "y"
        },
        {
         "customdata": [
          [
           22
          ],
          [
           25
          ],
          [
           26
          ],
          [
           28
          ],
          [
           29
          ],
          [
           22
          ],
          [
           24
          ],
          [
           24
          ],
          [
           26
          ],
          [
           28
          ],
          [
           26
          ],
          [
           23
          ],
          [
           25
          ],
          [
           29
          ],
          [
           17
          ],
          [
           18
          ],
          [
           26
          ],
          [
           18
          ],
          [
           21
          ],
          [
           30
          ],
          [
           17
          ],
          [
           25
          ],
          [
           20
          ],
          [
           20
          ],
          [
           28
          ],
          [
           20
          ],
          [
           28
          ],
          [
           25
          ],
          [
           31
          ],
          [
           27
          ],
          [
           21
          ],
          [
           22
          ],
          [
           24
          ],
          [
           17
          ],
          [
           28
          ],
          [
           23
          ],
          [
           28
          ],
          [
           17
          ],
          [
           26
          ],
          [
           27
          ],
          [
           24
          ],
          [
           25
          ],
          [
           29
          ],
          [
           24
          ],
          [
           23
          ],
          [
           23
          ],
          [
           25
          ],
          [
           24
          ],
          [
           27
          ],
          [
           24
          ]
         ],
         "hovertemplate": "Cluster=Cluster 3<br>PCA1=%{x}<br>PCA2=%{y}<br>Feature=%{customdata[0]}<extra></extra>",
         "legendgroup": "Cluster 3",
         "marker": {
          "color": "#ab63fa",
          "opacity": 0.5,
          "symbol": "circle"
         },
         "mode": "markers",
         "name": "Cluster 3",
         "orientation": "v",
         "showlegend": true,
         "textposition": "top center",
         "type": "scatter",
         "x": [
          2.9790409666935562,
          2.877206380631449,
          3.029682620095989,
          3.1090476869811656,
          2.908192065818578,
          3.2271349453035016,
          3.106051448050941,
          3.128438397098393,
          2.9467083871516686,
          3.0574046817961853,
          3.023341858415377,
          3.0284708963871148,
          2.7441229796228255,
          3.019478668443558,
          3.3186573180598913,
          2.859649576753283,
          2.7615134947467292,
          3.0185007100577717,
          3.1336887066324066,
          2.5824323638950384,
          3.248021412888798,
          2.6834429848989734,
          2.9645299234642795,
          2.910054489537696,
          2.624846877735188,
          3.0222113935352857,
          3.189901760298841,
          3.0625443677337767,
          2.8857013023696734,
          3.1369286222072743,
          3.0184648425877705,
          2.955545709535551,
          3.027670206389646,
          3.606010988942631,
          2.6126329203767797,
          3.289666015438148,
          2.7276907858167183,
          3.2033839588477626,
          2.6580310820936797,
          2.8772200344349894,
          2.9684909174839387,
          2.9946137974454574,
          2.996965682491933,
          2.8360090239087667,
          2.996529406432553,
          2.8210847453949497,
          3.3147831767364186,
          3.0785132765298853,
          2.7928142831949754,
          3.3345886626480663
         ],
         "xaxis": "x",
         "y": [
          -0.17767732357540014,
          0.15353831097127407,
          -0.117818607821675,
          -0.22672837204209745,
          0.014594522448730371,
          0.023558589191053598,
          0.046652904377657387,
          -0.12386302402716805,
          0.07393602233269023,
          -0.3726669924440929,
          -0.27978958147663385,
          -0.005101881786272734,
          0.2284658232356106,
          0.1262019972875543,
          0.18149483272147307,
          0.27202299874642427,
          0.027472412902195358,
          0.26981599359456865,
          0.005365716800778486,
          -0.01183153753131485,
          0.22315486970440734,
          0.038764552849500644,
          0.030777141517696956,
          0.24234808801234164,
          -0.10508688865152684,
          0.12765054813998583,
          -0.3934181193662247,
          -0.02478841991027447,
          -0.2874925781174555,
          -0.33384215742734674,
          0.025679213632870068,
          0.275865994496419,
          0.03958601925244028,
          -0.020802594388019076,
          0.007656281784057347,
          0.05549885010228552,
          0.06575239595018227,
          -0.04759533103028783,
          0.2200058192519541,
          -0.1596120760103217,
          0.09709131313614305,
          0.004345606896141711,
          -0.3238424102940451,
          -0.07559247056152128,
          0.10028255459809914,
          -0.016743632671321354,
          -0.06019128611054037,
          0.11283442639345158,
          -0.13296706908828718,
          -0.023427309652840643
         ],
         "yaxis": "y"
        }
       ],
       "layout": {
        "height": 600,
        "legend": {
         "title": {
          "text": "Cluster"
         },
         "tracegroupgap": 0
        },
        "margin": {
         "t": 60
        },
        "plot_bgcolor": "rgb(240,240,240)",
        "template": {
         "data": {
          "bar": [
           {
            "error_x": {
             "color": "#2a3f5f"
            },
            "error_y": {
             "color": "#2a3f5f"
            },
            "marker": {
             "line": {
              "color": "#E5ECF6",
              "width": 0.5
             }
            },
            "type": "bar"
           }
          ],
          "barpolar": [
           {
            "marker": {
             "line": {
              "color": "#E5ECF6",
              "width": 0.5
             }
            },
            "type": "barpolar"
           }
          ],
          "carpet": [
           {
            "aaxis": {
             "endlinecolor": "#2a3f5f",
             "gridcolor": "white",
             "linecolor": "white",
             "minorgridcolor": "white",
             "startlinecolor": "#2a3f5f"
            },
            "baxis": {
             "endlinecolor": "#2a3f5f",
             "gridcolor": "white",
             "linecolor": "white",
             "minorgridcolor": "white",
             "startlinecolor": "#2a3f5f"
            },
            "type": "carpet"
           }
          ],
          "choropleth": [
           {
            "colorbar": {
             "outlinewidth": 0,
             "ticks": ""
            },
            "type": "choropleth"
           }
          ],
          "contour": [
           {
            "colorbar": {
             "outlinewidth": 0,
             "ticks": ""
            },
            "colorscale": [
             [
              0,
              "#0d0887"
             ],
             [
              0.1111111111111111,
              "#46039f"
             ],
             [
              0.2222222222222222,
              "#7201a8"
             ],
             [
              0.3333333333333333,
              "#9c179e"
             ],
             [
              0.4444444444444444,
              "#bd3786"
             ],
             [
              0.5555555555555556,
              "#d8576b"
             ],
             [
              0.6666666666666666,
              "#ed7953"
             ],
             [
              0.7777777777777778,
              "#fb9f3a"
             ],
             [
              0.8888888888888888,
              "#fdca26"
             ],
             [
              1,
              "#f0f921"
             ]
            ],
            "type": "contour"
           }
          ],
          "contourcarpet": [
           {
            "colorbar": {
             "outlinewidth": 0,
             "ticks": ""
            },
            "type": "contourcarpet"
           }
          ],
          "heatmap": [
           {
            "colorbar": {
             "outlinewidth": 0,
             "ticks": ""
            },
            "colorscale": [
             [
              0,
              "#0d0887"
             ],
             [
              0.1111111111111111,
              "#46039f"
             ],
             [
              0.2222222222222222,
              "#7201a8"
             ],
             [
              0.3333333333333333,
              "#9c179e"
             ],
             [
              0.4444444444444444,
              "#bd3786"
             ],
             [
              0.5555555555555556,
              "#d8576b"
             ],
             [
              0.6666666666666666,
              "#ed7953"
             ],
             [
              0.7777777777777778,
              "#fb9f3a"
             ],
             [
              0.8888888888888888,
              "#fdca26"
             ],
             [
              1,
              "#f0f921"
             ]
            ],
            "type": "heatmap"
           }
          ],
          "heatmapgl": [
           {
            "colorbar": {
             "outlinewidth": 0,
             "ticks": ""
            },
            "colorscale": [
             [
              0,
              "#0d0887"
             ],
             [
              0.1111111111111111,
              "#46039f"
             ],
             [
              0.2222222222222222,
              "#7201a8"
             ],
             [
              0.3333333333333333,
              "#9c179e"
             ],
             [
              0.4444444444444444,
              "#bd3786"
             ],
             [
              0.5555555555555556,
              "#d8576b"
             ],
             [
              0.6666666666666666,
              "#ed7953"
             ],
             [
              0.7777777777777778,
              "#fb9f3a"
             ],
             [
              0.8888888888888888,
              "#fdca26"
             ],
             [
              1,
              "#f0f921"
             ]
            ],
            "type": "heatmapgl"
           }
          ],
          "histogram": [
           {
            "marker": {
             "colorbar": {
              "outlinewidth": 0,
              "ticks": ""
             }
            },
            "type": "histogram"
           }
          ],
          "histogram2d": [
           {
            "colorbar": {
             "outlinewidth": 0,
             "ticks": ""
            },
            "colorscale": [
             [
              0,
              "#0d0887"
             ],
             [
              0.1111111111111111,
              "#46039f"
             ],
             [
              0.2222222222222222,
              "#7201a8"
             ],
             [
              0.3333333333333333,
              "#9c179e"
             ],
             [
              0.4444444444444444,
              "#bd3786"
             ],
             [
              0.5555555555555556,
              "#d8576b"
             ],
             [
              0.6666666666666666,
              "#ed7953"
             ],
             [
              0.7777777777777778,
              "#fb9f3a"
             ],
             [
              0.8888888888888888,
              "#fdca26"
             ],
             [
              1,
              "#f0f921"
             ]
            ],
            "type": "histogram2d"
           }
          ],
          "histogram2dcontour": [
           {
            "colorbar": {
             "outlinewidth": 0,
             "ticks": ""
            },
            "colorscale": [
             [
              0,
              "#0d0887"
             ],
             [
              0.1111111111111111,
              "#46039f"
             ],
             [
              0.2222222222222222,
              "#7201a8"
             ],
             [
              0.3333333333333333,
              "#9c179e"
             ],
             [
              0.4444444444444444,
              "#bd3786"
             ],
             [
              0.5555555555555556,
              "#d8576b"
             ],
             [
              0.6666666666666666,
              "#ed7953"
             ],
             [
              0.7777777777777778,
              "#fb9f3a"
             ],
             [
              0.8888888888888888,
              "#fdca26"
             ],
             [
              1,
              "#f0f921"
             ]
            ],
            "type": "histogram2dcontour"
           }
          ],
          "mesh3d": [
           {
            "colorbar": {
             "outlinewidth": 0,
             "ticks": ""
            },
            "type": "mesh3d"
           }
          ],
          "parcoords": [
           {
            "line": {
             "colorbar": {
              "outlinewidth": 0,
              "ticks": ""
             }
            },
            "type": "parcoords"
           }
          ],
          "pie": [
           {
            "automargin": true,
            "type": "pie"
           }
          ],
          "scatter": [
           {
            "marker": {
             "colorbar": {
              "outlinewidth": 0,
              "ticks": ""
             }
            },
            "type": "scatter"
           }
          ],
          "scatter3d": [
           {
            "line": {
             "colorbar": {
              "outlinewidth": 0,
              "ticks": ""
             }
            },
            "marker": {
             "colorbar": {
              "outlinewidth": 0,
              "ticks": ""
             }
            },
            "type": "scatter3d"
           }
          ],
          "scattercarpet": [
           {
            "marker": {
             "colorbar": {
              "outlinewidth": 0,
              "ticks": ""
             }
            },
            "type": "scattercarpet"
           }
          ],
          "scattergeo": [
           {
            "marker": {
             "colorbar": {
              "outlinewidth": 0,
              "ticks": ""
             }
            },
            "type": "scattergeo"
           }
          ],
          "scattergl": [
           {
            "marker": {
             "colorbar": {
              "outlinewidth": 0,
              "ticks": ""
             }
            },
            "type": "scattergl"
           }
          ],
          "scattermapbox": [
           {
            "marker": {
             "colorbar": {
              "outlinewidth": 0,
              "ticks": ""
             }
            },
            "type": "scattermapbox"
           }
          ],
          "scatterpolar": [
           {
            "marker": {
             "colorbar": {
              "outlinewidth": 0,
              "ticks": ""
             }
            },
            "type": "scatterpolar"
           }
          ],
          "scatterpolargl": [
           {
            "marker": {
             "colorbar": {
              "outlinewidth": 0,
              "ticks": ""
             }
            },
            "type": "scatterpolargl"
           }
          ],
          "scatterternary": [
           {
            "marker": {
             "colorbar": {
              "outlinewidth": 0,
              "ticks": ""
             }
            },
            "type": "scatterternary"
           }
          ],
          "surface": [
           {
            "colorbar": {
             "outlinewidth": 0,
             "ticks": ""
            },
            "colorscale": [
             [
              0,
              "#0d0887"
             ],
             [
              0.1111111111111111,
              "#46039f"
             ],
             [
              0.2222222222222222,
              "#7201a8"
             ],
             [
              0.3333333333333333,
              "#9c179e"
             ],
             [
              0.4444444444444444,
              "#bd3786"
             ],
             [
              0.5555555555555556,
              "#d8576b"
             ],
             [
              0.6666666666666666,
              "#ed7953"
             ],
             [
              0.7777777777777778,
              "#fb9f3a"
             ],
             [
              0.8888888888888888,
              "#fdca26"
             ],
             [
              1,
              "#f0f921"
             ]
            ],
            "type": "surface"
           }
          ],
          "table": [
           {
            "cells": {
             "fill": {
              "color": "#EBF0F8"
             },
             "line": {
              "color": "white"
             }
            },
            "header": {
             "fill": {
              "color": "#C8D4E3"
             },
             "line": {
              "color": "white"
             }
            },
            "type": "table"
           }
          ]
         },
         "layout": {
          "annotationdefaults": {
           "arrowcolor": "#2a3f5f",
           "arrowhead": 0,
           "arrowwidth": 1
          },
          "coloraxis": {
           "colorbar": {
            "outlinewidth": 0,
            "ticks": ""
           }
          },
          "colorscale": {
           "diverging": [
            [
             0,
             "#8e0152"
            ],
            [
             0.1,
             "#c51b7d"
            ],
            [
             0.2,
             "#de77ae"
            ],
            [
             0.3,
             "#f1b6da"
            ],
            [
             0.4,
             "#fde0ef"
            ],
            [
             0.5,
             "#f7f7f7"
            ],
            [
             0.6,
             "#e6f5d0"
            ],
            [
             0.7,
             "#b8e186"
            ],
            [
             0.8,
             "#7fbc41"
            ],
            [
             0.9,
             "#4d9221"
            ],
            [
             1,
             "#276419"
            ]
           ],
           "sequential": [
            [
             0,
             "#0d0887"
            ],
            [
             0.1111111111111111,
             "#46039f"
            ],
            [
             0.2222222222222222,
             "#7201a8"
            ],
            [
             0.3333333333333333,
             "#9c179e"
            ],
            [
             0.4444444444444444,
             "#bd3786"
            ],
            [
             0.5555555555555556,
             "#d8576b"
            ],
            [
             0.6666666666666666,
             "#ed7953"
            ],
            [
             0.7777777777777778,
             "#fb9f3a"
            ],
            [
             0.8888888888888888,
             "#fdca26"
            ],
            [
             1,
             "#f0f921"
            ]
           ],
           "sequentialminus": [
            [
             0,
             "#0d0887"
            ],
            [
             0.1111111111111111,
             "#46039f"
            ],
            [
             0.2222222222222222,
             "#7201a8"
            ],
            [
             0.3333333333333333,
             "#9c179e"
            ],
            [
             0.4444444444444444,
             "#bd3786"
            ],
            [
             0.5555555555555556,
             "#d8576b"
            ],
            [
             0.6666666666666666,
             "#ed7953"
            ],
            [
             0.7777777777777778,
             "#fb9f3a"
            ],
            [
             0.8888888888888888,
             "#fdca26"
            ],
            [
             1,
             "#f0f921"
            ]
           ]
          },
          "colorway": [
           "#636efa",
           "#EF553B",
           "#00cc96",
           "#ab63fa",
           "#FFA15A",
           "#19d3f3",
           "#FF6692",
           "#B6E880",
           "#FF97FF",
           "#FECB52"
          ],
          "font": {
           "color": "#2a3f5f"
          },
          "geo": {
           "bgcolor": "white",
           "lakecolor": "white",
           "landcolor": "#E5ECF6",
           "showlakes": true,
           "showland": true,
           "subunitcolor": "white"
          },
          "hoverlabel": {
           "align": "left"
          },
          "hovermode": "closest",
          "mapbox": {
           "style": "light"
          },
          "paper_bgcolor": "white",
          "plot_bgcolor": "#E5ECF6",
          "polar": {
           "angularaxis": {
            "gridcolor": "white",
            "linecolor": "white",
            "ticks": ""
           },
           "bgcolor": "#E5ECF6",
           "radialaxis": {
            "gridcolor": "white",
            "linecolor": "white",
            "ticks": ""
           }
          },
          "scene": {
           "xaxis": {
            "backgroundcolor": "#E5ECF6",
            "gridcolor": "white",
            "gridwidth": 2,
            "linecolor": "white",
            "showbackground": true,
            "ticks": "",
            "zerolinecolor": "white"
           },
           "yaxis": {
            "backgroundcolor": "#E5ECF6",
            "gridcolor": "white",
            "gridwidth": 2,
            "linecolor": "white",
            "showbackground": true,
            "ticks": "",
            "zerolinecolor": "white"
           },
           "zaxis": {
            "backgroundcolor": "#E5ECF6",
            "gridcolor": "white",
            "gridwidth": 2,
            "linecolor": "white",
            "showbackground": true,
            "ticks": "",
            "zerolinecolor": "white"
           }
          },
          "shapedefaults": {
           "line": {
            "color": "#2a3f5f"
           }
          },
          "ternary": {
           "aaxis": {
            "gridcolor": "white",
            "linecolor": "white",
            "ticks": ""
           },
           "baxis": {
            "gridcolor": "white",
            "linecolor": "white",
            "ticks": ""
           },
           "bgcolor": "#E5ECF6",
           "caxis": {
            "gridcolor": "white",
            "linecolor": "white",
            "ticks": ""
           }
          },
          "title": {
           "x": 0.05
          },
          "xaxis": {
           "automargin": true,
           "gridcolor": "white",
           "linecolor": "white",
           "ticks": "",
           "title": {
            "standoff": 15
           },
           "zerolinecolor": "white",
           "zerolinewidth": 2
          },
          "yaxis": {
           "automargin": true,
           "gridcolor": "white",
           "linecolor": "white",
           "ticks": "",
           "title": {
            "standoff": 15
           },
           "zerolinecolor": "white",
           "zerolinewidth": 2
          }
         }
        },
        "title": {
         "text": "2D Cluster PCA Plot"
        },
        "xaxis": {
         "anchor": "y",
         "domain": [
          0,
          1
         ],
         "title": {
          "text": "PCA1"
         }
        },
        "yaxis": {
         "anchor": "x",
         "domain": [
          0,
          1
         ],
         "title": {
          "text": "PCA2"
         }
        }
       }
      },
      "text/html": [
       "<div>                            <div id=\"d6bd1cbd-a10e-441e-8009-703ff27672d1\" class=\"plotly-graph-div\" style=\"height:600px; width:100%;\"></div>            <script type=\"text/javascript\">                require([\"plotly\"], function(Plotly) {                    window.PLOTLYENV=window.PLOTLYENV || {};                                    if (document.getElementById(\"d6bd1cbd-a10e-441e-8009-703ff27672d1\")) {                    Plotly.newPlot(                        \"d6bd1cbd-a10e-441e-8009-703ff27672d1\",                        [{\"customdata\": [[58], [55], [60], [56], [60], [58], [56], [64], [63], [62], [59], [67], [58], [58], [57], [66], [64], [59], [68], [61], [64], [63], [55], [57], [57], [61], [58], [59], [53], [59], [62], [60], [65], [60], [63], [56], [58], [62], [56], [59], [65], [62], [59], [66], [64], [62], [61], [56], [62], [60], [62], [64], [63], [58], [62], [61], [59], [59], [58], [55], [51], [57], [61], [60], [64], [65], [59], [58], [63], [61], [59], [56], [61], [63], [58], [62], [60], [62], [65], [59], [65], [58], [61], [66], [58], [68], [58], [67], [56], [61], [56], [61], [59], [62], [59], [59], [59], [57], [59], [61], [62], [67], [56], [59], [58], [61], [55], [59], [59], [60], [60], [67], [57], [56], [63], [64], [57], [60], [61], [61], [57], [64], [55], [59], [58], [58], [59], [53], [53], [59], [63], [55], [62], [61], [59], [55], [56], [57], [66], [66], [59], [59], [56], [61], [61], [63], [58], [62], [58], [55], [58], [60], [61], [57], [54], [62], [64]], \"hovertemplate\": \"Cluster=Cluster 0<br>PCA1=%{x}<br>PCA2=%{y}<br>Feature=%{customdata[0]}<extra></extra>\", \"legendgroup\": \"Cluster 0\", \"marker\": {\"color\": \"#636efa\", \"opacity\": 0.5, \"symbol\": \"circle\"}, \"mode\": \"markers\", \"name\": \"Cluster 0\", \"orientation\": \"v\", \"showlegend\": true, \"textposition\": \"top center\", \"type\": \"scatter\", \"x\": [1.1682836952682376, 1.4165248374797486, 1.0276427518256992, 0.791843891870831, 0.655573792594114, 1.285625743072326, 1.0405649089171711, 0.8861290446638924, 0.9146569289484545, 0.9278732748043749, 1.2454279477002406, 0.7728732967285862, 1.1074480842930179, 1.2687191339124437, 0.944953181049823, 0.7622312538155263, 0.9777645610618009, 1.016968437745996, 1.010374347027506, 0.8997248200204974, 1.0437351291207937, 0.5968294407661449, 1.206217019803309, 1.3021698734876512, 0.9384815206365379, 0.7160189011130949, 1.3211848342680665, 1.108073316669426, 0.9983593105480838, 0.8919397398920382, 0.734458813158922, 0.9008413612961548, 0.861209743263974, 0.7821931813367388, 1.204150220753674, 1.2062689497452437, 1.0852610998583692, 0.8459435566343757, 0.8943128181071507, 0.8726422942483532, 0.9041298872560473, 0.9066282307180074, 0.9808089660272762, 1.0636835366613566, 0.9404516999424049, 0.7759052326393503, 0.6643083460223332, 0.8659576049053314, 1.048844682447001, 0.9312354331359779, 0.981971733128292, 1.0590705402473422, 0.7440274435369169, 1.1042747917137972, 0.841770255514007, 0.787478939446823, 0.9425920842727981, 0.8657576810841419, 1.0019402928638472, 0.9594904151707258, 1.2191798209512172, 1.0477726729816619, 1.0077913715380573, 0.904162555420282, 0.5770891570682692, 0.8416809200835695, 0.6350507066641513, 1.1666392930506, 0.8463936116742194, 0.8566260104748822, 0.9119073306227607, 1.086048959435074, 0.9366545674773802, 0.8473239348850597, 0.9030632708475183, 1.247404918999922, 0.7580640338652362, 1.0725421887357214, 0.7059601325843319, 1.211314879402837, 0.6609924399624042, 1.1841091620117858, 0.7954780839040365, 0.8652969623555025, 1.2806117217574298, 0.731024691378334, 0.6935247132809573, 1.110028846056503, 1.1219558937751617, 0.9605009147406065, 1.18514908143577, 0.7065493332712819, 0.8220018797190897, 0.9389336366942206, 1.0372284182819442, 0.8637286786394428, 1.0205116659415403, 0.9352338032415243, 0.8645508446597501, 0.9431474617111347, 0.8598961870636602, 0.7324374019115755, 1.0101209417475774, 1.3029770644549092, 0.9578529290723364, 1.192920131453533, 0.9890446575971695, 1.026201536276119, 1.3206465830820049, 0.8764462552030109, 1.132888247867512, 1.046473865838336, 1.3467047630036348, 1.0574476429917197, 1.1951063868113265, 1.0121035688587785, 1.2175980673594546, 0.9540261060166755, 1.1788965189308613, 0.9680414758663425, 1.154331220204543, 1.0768594303469523, 0.9446702776811146, 1.1276584984477682, 0.9390626169708238, 0.9214394300852422, 0.8854326475001869, 0.8545271008465528, 1.3514664493639816, 0.6491556935907041, 1.1697156964393145, 1.1107919243742, 0.962956832388378, 0.9694492313376489, 0.9863668251962457, 1.2097308387793178, 0.8404752544111018, 1.1695786974840423, 0.9783089030768439, 0.9549237171607513, 1.3253417570495627, 0.9688223571812667, 0.9694486514074109, 0.9128901325524063, 0.9904005881248407, 1.1194004313191623, 0.9700286211087098, 0.5838881567779771, 1.141270322514881, 0.9780919204240467, 0.9415026759594849, 1.3791573620518482, 1.2113994186634618, 0.9951066450213125, 1.187805832981986, 1.168659472824383, 0.6485204612673687], \"xaxis\": \"x\", \"y\": [-1.0001820856171368, -1.1874054711995599, -1.2614198577861806, -1.042846254836757, -0.9506074539298875, -1.049161049954012, -1.0879013804186883, -1.3114515200786812, -1.0457975031508706, -1.3218178340944098, -1.13509390202901, -1.449832485117914, -0.9032411369754084, -1.2877279248601607, -1.0827044040761613, -1.1008297456136784, -1.00543226194784, -1.1019902159434936, -1.2406547778963675, -1.0180186936588627, -1.1407848018775488, -1.2466719961688013, -0.9890970443948693, -1.1317551953661236, -0.9114183410585563, -0.8559836223979526, -1.011211436296977, -1.0491406865936392, -0.7261456137263878, -0.9244827733793154, -1.173938501905717, -1.0551957541596506, -1.30766552870149, -0.9017110432639885, -1.1104901972275874, -0.787329147408152, -1.0005435426275437, -1.025556149900055, -0.8956355018132003, -1.0128644189590958, -1.3387063346994064, -0.8129183784091506, -1.1529580194551647, -1.0687676737545562, -1.0093416719979806, -1.030795224383923, -0.8901299590394512, -0.9501853289012727, -1.03412949154739, -1.1517194616311839, -1.2111098779679832, -0.8907998373596876, -1.017030059471044, -0.9261338838834445, -1.1315541637852446, -1.01857562370028, -1.4138817485017519, -1.0093228737615263, -0.8672710102715024, -1.020795908369343, -0.9339130674309712, -0.9909497647105316, -0.9251206446811973, -0.9268789035839297, -1.1057267042149976, -1.0551123740756219, -0.8444885614543401, -0.9858205041431773, -0.7750478107632965, -1.089910094477933, -1.0921091469780628, -1.1540810359701272, -1.0537811559664194, -1.0958576600458232, -0.957116477220279, -1.3089097380527075, -1.0899601918216397, -1.3410544630128916, -1.0135587140245301, -1.3413428364930238, -1.0233877290925233, -1.2783963581665228, -0.839882745013913, -1.0111196385057326, -1.148785106091435, -1.210618741704202, -0.804818480187004, -1.2312023094915119, -0.9361936520339311, -1.121390777937369, -0.9262420090302054, -1.0071641006873355, -0.7151245952184757, -1.1841016892453557, -1.1311765695507559, -0.6305227798075265, -1.0690001134515035, -1.068948737860819, -0.8363637327185859, -1.2236753943047032, -1.2307738545687552, -1.203321090347453, -0.7192448172061604, -1.0354555954607714, -0.7304668179805254, -1.3237197571024273, -0.746096211897806, -1.0784364494941765, -0.8439511939731805, -0.988193806762761, -1.3481125844605, -1.1669308528476003, -1.0718240817228653, -0.9625591198201093, -1.5360719893942936, -1.2827358496231807, -1.0940498671468712, -1.1050118385370833, -1.1914816105339099, -1.137858398733163, -0.8986911745233584, -0.864627178346605, -0.8512722958346939, -1.1423072812706652, -0.8248210946873341, -0.9607789273306269, -0.9872030331999495, -0.9365448556375331, -0.9684157700140715, -0.7130075134432766, -1.3232677261395924, -0.850467667609997, -1.0563539402301396, -0.9652549553138371, -1.2147598476858887, -1.0174122943432222, -1.008383616762898, -0.994842372750987, -1.2837073567549357, -1.4279651626020695, -1.0537885061046202, -0.9508264849933744, -0.5166516884813351, -1.287788972881837, -1.0986216031201448, -0.9454616857976531, -1.0226848440078242, -0.7095235126984968, -1.1282609655892248, -0.893265072656092, -0.8738517947581393, -1.1911313993639174, -1.3813314590579007, -0.8446993421453307, -0.9010032516632608, -1.3828850833445006, -1.234556769657115], \"yaxis\": \"y\"}, {\"customdata\": [[87], [94], [86], [92], [86], [91], [82], [87], [89], [90], [88], [93], [85], [84], [86], [83], [94], [83], [88], [83], [91], [84], [90], [90], [88], [87], [83], [88], [90], [91], [84], [87], [91], [85], [87], [88], [87], [88], [90], [91], [91], [91], [83], [92], [87], [85], [94], [86], [92], [84], [83], [87], [90], [87], [88], [86], [84], [90], [91], [92], [97], [84], [92], [87], [91], [93], [90], [84], [87], [82], [90], [83], [91], [88], [91], [84], [87], [89], [84], [94], [86], [79], [86], [85], [92], [89], [88], [87], [90], [89], [79], [82], [87], [91], [86], [89], [83], [91], [89], [82], [85], [92], [89], [84], [87], [94], [85], [88], [89], [83], [89], [91], [88], [88], [91], [87], [87], [85], [85], [88], [85], [86], [89], [95], [89], [90], [85], [88], [87], [82], [88], [84], [91], [93], [88], [94], [81], [91], [85], [94], [91], [88], [89], [84], [83], [92], [84]], \"hovertemplate\": \"Cluster=Cluster 1<br>PCA1=%{x}<br>PCA2=%{y}<br>Feature=%{customdata[0]}<extra></extra>\", \"legendgroup\": \"Cluster 1\", \"marker\": {\"color\": \"#EF553B\", \"opacity\": 0.5, \"symbol\": \"circle\"}, \"mode\": \"markers\", \"name\": \"Cluster 1\", \"orientation\": \"v\", \"showlegend\": true, \"textposition\": \"top center\", \"type\": \"scatter\", \"x\": [-2.1869226131682136, -2.404282795281648, -2.0773059062778327, -2.4413576055835273, -2.3022948235827383, -2.287582193010668, -2.0517528473246758, -2.061750671528569, -2.10557676978175, -1.9237706713928528, -1.9803939141158562, -2.5674016692568205, -2.0693762964387403, -2.3168730520857186, -2.311440794393319, -2.048875702149671, -2.0640271102315437, -2.074064253871315, -2.3256650491394484, -2.0660309181406156, -2.1601323784762827, -2.079401575264757, -2.113255041737846, -2.2367450734831027, -2.0257149639838863, -2.100964512392005, -2.1726077654905667, -1.9475645155039583, -2.1246147200397307, -2.198749352915009, -1.8819534226210903, -1.6415100650814398, -2.2095285582649846, -2.2135642651570673, -1.8905345144688739, -2.1966542660576174, -2.2149141760374707, -1.8568485736915792, -2.4957366918256896, -1.9888631833850041, -2.190582493701908, -2.2638313717845637, -2.084895679082327, -2.0072052418036432, -2.015669748035298, -1.8449566204150134, -2.3009029155907292, -2.0904897478361413, -2.309183121939144, -2.0610472590901296, -1.692013628626964, -1.9726821199006939, -2.0348464686363115, -2.1763682340027484, -1.8744645085902425, -2.0325472705689434, -1.8540490620627044, -2.054698745177119, -2.271968787809277, -2.1383706929358315, -2.1665824308323005, -1.8268447244940127, -2.1151354628191026, -2.1694528134423305, -2.0219203394149843, -2.665084658361224, -1.9113850700343138, -2.1374479976242364, -1.9797364990940145, -1.9316929551371966, -2.0875236208819117, -1.8501139685727852, -2.47085566256607, -2.10454801458888, -2.0596222048150743, -2.0392937236687163, -1.9494241538920556, -2.133873375437624, -2.012610070884195, -2.089773059077642, -1.9440772638285448, -1.651896506645377, -2.1279588861954566, -1.7799235192347713, -2.0620186859064216, -1.6899781808562515, -2.3722395446075395, -1.8777106813838267, -2.0057279390592413, -1.9614734056434324, -1.7340496037141735, -2.1423467445619973, -1.920850976297236, -2.1795387106089716, -2.408626064286935, -2.054961187666106, -2.075245169425034, -2.284116990837203, -1.8925095897849644, -1.6872601620843282, -1.8598619693857625, -2.0545284512429567, -2.16015050002124, -1.8555916730543973, -2.1368663938271375, -2.2408627860580768, -2.034198748653999, -1.9635142458032895, -1.9874389571144324, -1.719667129639251, -1.5876424070308883, -2.3963856776111876, -1.7185088708977916, -1.8776591205911966, -2.06067568061509, -1.9122344483825093, -2.0110177139723944, -1.8605670216000896, -2.1063109238772055, -2.2967076393132495, -1.7579711361468453, -1.7605101374801237, -2.2267334938713415, -2.390800039789045, -2.1099740986861013, -1.8108771287321312, -1.9593512363007384, -1.9479418174184346, -2.189494708372396, -1.9126165039691825, -1.8583743926785907, -1.8125975524734323, -2.446140160757746, -2.419934136344304, -2.181045633992149, -2.3241773584583005, -1.9100567056110205, -2.377900105509399, -2.1555299213583954, -2.1219967568300855, -2.3511033696083463, -2.188413745800139, -2.269624656288542, -2.108265099590638, -1.8945486862980765, -1.9876134251003668, -2.3536232207695864], \"xaxis\": \"x\", \"y\": [-0.80679962128407, -0.7173392608021741, -0.6825634482605109, -0.5181762804706677, -0.11431720648490416, -0.8755633773850929, -0.15961900771798793, -0.39991663244026565, -0.5517801808504565, -0.6273745804073415, -0.4501762590044241, -0.5584255957106544, -0.5698596894777446, -0.40881865259866407, -0.057588037298975, -0.29102849721397805, -0.7464151909747625, -0.4538961940373323, -0.5350079457244141, -0.1527021320984242, -0.5893188243316024, -0.5608573280102035, -0.36960815277275016, -0.5264186674622466, -0.5390371901880999, -0.5619385969416542, -0.23068591812322725, -0.5215544921627993, -0.46037208412618186, -0.613838497033093, -0.29422101934924555, -0.3200521589640571, -0.5797517175013486, -0.2550459481432341, -0.5393496345610033, -0.6273116903520713, -0.524127743073059, -0.7054104619627648, -0.36810763747858455, -0.4677241371348222, -0.6014849208442848, -0.45444436189663573, -0.558502717898896, -0.5682785784481221, -0.610217178516325, -0.7365498233237934, -0.6493932039655949, -0.4401749952407428, -0.6093340903885871, -0.41872258026212056, -0.46643970407898705, -0.2091844848119781, -0.572852542157304, -0.6740201072246881, -0.6191144891899748, -0.5563918767716802, -0.5275820942133447, -0.7520088083183665, -0.44915293126871947, -0.8410374693291157, -0.7505233723161505, -0.3671606043681583, -0.4297369317982715, -0.36895591872458533, -0.5746310288907689, -0.3562743971944227, -0.545603014423335, -0.38343942776645956, -0.45659388161346554, -0.30034032915907527, -0.6338688283250097, -0.4274957901672669, -0.24687035895140433, -0.6480071376920645, -0.6563181145633045, -0.40534448658855177, -0.6280532208676102, -0.5696768258353341, -0.6402759030847447, -0.4424074768818486, -0.5298424370124744, -0.2911761213401428, -0.1391105095589207, -0.6441540244084567, -0.5549713663452898, -0.6934908566370716, -0.5161724467895032, -0.620634255054029, -0.4200309087478731, -0.640038958297555, -0.32696547958162325, -0.30471150451590295, -0.9227843227305286, -0.6347763051102633, -0.4487441268603161, -0.7539529667062307, -0.37940311798571175, -0.4958571330657749, -0.604614074364983, -0.795490425078806, -0.4342812096877801, -0.5009904975506838, -0.6676343574450289, -0.5744380394471976, -0.5519564277302006, -0.7895587863902823, -0.40722345775334584, -0.9640476175553682, -0.516998185985439, -0.6422730874122038, -1.0908349743729866, -0.10743758074499007, -0.7034946401142952, -0.7015103278988359, -0.5417891354062114, -0.6857125193728727, -0.5766039501282598, -0.5908679677439628, -0.28449621568852246, -0.19658009534834933, -0.6274956549984144, -0.17396284600895814, -0.4646409718395214, -0.5480995300087262, -0.7826594392051939, -0.6893554007497754, -0.30459477767938137, -0.6458563890675618, -0.5869172822898159, -0.3122007065122711, -0.5353794688999866, -0.19896477134012078, -0.27829581216605676, -0.5971884962338546, -0.47087740213138657, -0.5246607618196137, -0.19150559117938437, -0.5926924289070146, -0.3982907307716279, -0.7167506618303237, -0.6846140012021056, -0.4018652015058657, -0.28863269148648, -0.31381840959720286, -0.30305247632112475, -0.6418532328723238, -0.103205958611997], \"yaxis\": \"y\"}, {\"customdata\": [[87], [30], [36], [39], [89], [31], [30], [31], [29], [33], [37], [37], [37], [29], [36], [33], [38], [28], [27], [34], [44], [31], [36], [33], [88], [31], [86], [36], [35], [32], [36], [85], [31], [31], [33], [33], [82], [32], [30], [33], [34], [35], [31], [35], [82], [35], [28], [30], [28], [32], [38], [28], [31], [30], [84], [30], [37], [88], [35], [28], [34], [34], [22], [36], [34], [86], [92], [31], [31], [93], [35], [32], [28], [33], [86], [29], [30], [38], [88], [29], [36], [31], [33], [29], [33], [31], [84], [26], [24], [36], [33], [31], [29], [36], [83], [85], [40], [31], [37], [83], [31], [29], [33], [30], [34], [30], [34], [31], [29], [90], [30], [37], [30], [33], [37], [38], [35], [25], [42], [33], [29], [39], [83], [32], [84], [34], [37], [35], [43], [77], [34], [91], [36], [33], [31], [28], [29], [35], [37], [32], [37], [29], [35], [31], [84], [25], [90], [34], [39], [32], [34]], \"hovertemplate\": \"Cluster=Cluster 2<br>PCA1=%{x}<br>PCA2=%{y}<br>Feature=%{customdata[0]}<extra></extra>\", \"legendgroup\": \"Cluster 2\", \"marker\": {\"color\": \"#00cc96\", \"opacity\": 0.5, \"symbol\": \"circle\"}, \"mode\": \"markers\", \"name\": \"Cluster 2\", \"orientation\": \"v\", \"showlegend\": true, \"textposition\": \"top center\", \"type\": \"scatter\", \"x\": [-0.9670629789192083, 0.10798190058984115, 0.3029434706256707, -0.04760082731462653, -1.292152419372631, 0.24405114390161767, 0.42000193438181355, 0.32955810318343765, 0.5268484808304673, 0.07021005310807624, 0.310979313935163, 0.1352740078288094, -0.13748781978277366, 0.258706202083352, 0.16245402588926236, 0.23575524619151914, 0.21730435467967088, 0.152036850026873, 0.28572228536007344, 0.1368969591281354, 0.21406800732462536, 0.024457822648124964, 0.06669631899033718, 0.18176350885902345, -1.0392533228066556, 0.3333764874010481, -1.190867339912668, 0.2283660689101145, 0.012671787887797633, 0.47085794658711666, -0.15304554008669732, -1.3983098956237932, -0.015301231419444623, 0.24079974191433567, 0.2030776463525925, 0.3138346481443745, -1.0432102831151382, 0.050987139082399914, 0.42625934990458125, -0.02430615793993106, 0.24302673025668742, 0.08619071169016396, 0.2686542437250962, 0.295748123375611, -0.9675568893676616, -0.057304364971380445, 0.23395699056963137, 0.2294494766794056, 0.4196125902321772, 0.1931329863404986, 0.2742149626718297, 0.13276127294357074, 0.4327565778337946, 0.23417752734878877, -0.9031905384342066, 0.30712980435331216, 0.32006464176635135, -1.0975612863974602, 0.07082605153271529, 0.44920708207115917, 0.2304675517487187, 0.014221867438113794, 0.4086853250530215, 0.14166261513287362, -0.04815845077814456, -0.7634175173608082, -1.095230165607462, 0.4099465069480236, 0.720692527359188, -1.1784391467069228, 0.20455623212017335, 0.4241268434444539, 0.10836347318943534, 0.3752452101139475, -1.2481136308096639, 0.3769089864980645, 0.38862972859270944, 0.33795305665586295, -1.6249127430069026, 0.6209177507357927, -0.06863316322719969, 0.3580626040375046, 0.22843062366547878, 0.32782639506480277, 0.39048239891230163, 0.4899908703924908, -1.266620294235917, 0.14248076866385276, 0.46704746883449094, 0.10015091531711098, 0.4193999411748166, 0.11017438417753372, 0.47174666615689503, -0.03367814992864128, -1.1975955672718572, -1.0212922532716064, -0.17843249653309715, 0.47040269632573173, -0.1541570919341039, -0.95528491411538, 0.4031938335994745, 0.18708410242978715, 0.2534950324161213, 0.25297563513141974, 0.18865349208179247, 0.285317603626975, -0.22938322854245655, 0.3474753519627398, 0.5747337316828756, -1.2098766939416912, 0.5330680712134553, -0.11069420961116054, 0.10471000129703623, 0.3460102393617339, 0.16539832007660377, -0.09633291726944974, 0.22200057828160666, 0.29052619599120677, 0.10755108508674988, 0.036996525955316606, 0.2528098087690157, -0.01918707799608701, -1.127798963729686, 0.32921285258951055, -1.1915520132735649, 0.3833588948858261, 0.38809548013295486, 0.3956742879137805, 0.16150143221687155, -0.8348660931609556, 0.31007183452466375, -1.2427853767437975, 0.23536289651427994, 0.21584757434291482, 0.4277487650886825, 0.5702846658702914, 0.18989268715206076, 0.15596871389086986, 0.1837079506271675, -0.017085340409121907, 0.14987782216455015, 0.14711323999417839, 0.18269461957819091, 0.49505497972764234, -1.0903662935204663, 0.40538312130197085, -0.9541647633394388, 0.28625478847653574, -0.18547996102691122, -0.08843572500884998, 0.4088934782100872], \"xaxis\": \"x\", \"y\": [1.070634474384951, 1.9551017996442484, 1.5526622411688589, 1.4687294065128096, 1.3272071763520186, 1.9799561174245637, 1.5791511608334918, 1.575530212640471, 1.7074318218407185, 1.9697400908149028, 1.557645289834883, 1.713627379366225, 1.939326112860188, 1.6856596698483632, 1.4691569298801996, 1.2902314805603048, 1.3840145228767213, 1.748243580243543, 1.870905148418329, 1.622483629426418, 1.4915248227159277, 1.880943469848419, 1.7356202049003775, 1.559809746771673, 1.3135300085049442, 1.4389177814030152, 1.2792909148990572, 1.3946961512091196, 1.8431367518566442, 1.7797650239988716, 1.711780572838822, 1.3795671604603474, 1.792300904277756, 1.7288554287947315, 1.7269874703999852, 1.5917902501952992, 1.5599327855338154, 1.8996637897019277, 1.430814588610516, 1.7425572621420298, 1.6242223408461083, 1.6215238023833023, 1.6683769189727964, 1.3939503953960741, 1.4027015503072435, 1.875357508793214, 1.6203935255650785, 1.4856662654007748, 1.5081257807041495, 1.6485887470162055, 1.6670982942623436, 1.6239621259266774, 1.6303414494518087, 1.4609129883083152, 1.2898572849628354, 1.5713309270832814, 1.439632217154848, 1.258997166389634, 1.6776867634780122, 1.8500054307192837, 1.3890042815995522, 1.5946021328890443, 1.974072691697943, 1.637903764268453, 1.7782219363645877, 1.2243905694366009, 1.1727357480096137, 1.6457159924518576, 1.3508523655450224, 1.319528276480182, 1.7192415871324918, 1.6521558450649363, 1.8203269670337319, 1.799571119233585, 1.582262820380452, 1.6541405384365118, 1.7142458564436673, 1.5676659909614301, 1.5343348210242738, 1.5672686115149186, 1.5834939724414425, 1.5628044213730903, 1.3602033219527667, 1.6049146597162673, 1.3470472053452565, 1.7492547713999496, 1.3289766502178686, 1.7697532350908785, 1.907339239789903, 1.69489954045619, 1.7434933069475482, 1.7275528425655682, 1.849558144980757, 1.5181028187382999, 1.4958440971752978, 1.201626652818477, 1.5557084700763368, 1.6505084996032595, 1.629954529466546, 1.1784851028922099, 1.670925732287296, 1.510058709944619, 1.6210649353601785, 1.8050070243718765, 1.6265685160315262, 1.7974611331867152, 1.8646990361592328, 1.6445951084064112, 1.8315728831631128, 1.3846394558354997, 1.5752059572403634, 1.7989045127992138, 1.7883368761196343, 1.5959800051209427, 1.3074850566242173, 1.3905682153302208, 1.8694706303149438, 1.7901954468386945, 1.4363191019927866, 1.598023994245369, 1.890825018913469, 1.4381686236979372, 1.3804689910581285, 1.6238567077037407, 1.2071737199030805, 1.6070736112549682, 1.4121023143885472, 1.633262013273499, 1.1885111312875813, 1.6633252395563776, 1.906840074826619, 1.2472155447246556, 1.5278631393450814, 1.709854391862881, 1.7193222116272975, 1.6086501902260173, 1.732971011464919, 1.5906017955944165, 1.6274930703498414, 1.6424215762727299, 1.6099944737064704, 1.685223232611324, 1.6082293763350148, 1.6722886114391162, 1.2543911693969436, 1.7628076139252216, 0.9893579587027426, 1.13868631395921, 1.6505739249517297, 1.8279336436841278, 1.4115550115262068], \"yaxis\": \"y\"}, {\"customdata\": [[22], [25], [26], [28], [29], [22], [24], [24], [26], [28], [26], [23], [25], [29], [17], [18], [26], [18], [21], [30], [17], [25], [20], [20], [28], [20], [28], [25], [31], [27], [21], [22], [24], [17], [28], [23], [28], [17], [26], [27], [24], [25], [29], [24], [23], [23], [25], [24], [27], [24]], \"hovertemplate\": \"Cluster=Cluster 3<br>PCA1=%{x}<br>PCA2=%{y}<br>Feature=%{customdata[0]}<extra></extra>\", \"legendgroup\": \"Cluster 3\", \"marker\": {\"color\": \"#ab63fa\", \"opacity\": 0.5, \"symbol\": \"circle\"}, \"mode\": \"markers\", \"name\": \"Cluster 3\", \"orientation\": \"v\", \"showlegend\": true, \"textposition\": \"top center\", \"type\": \"scatter\", \"x\": [2.9790409666935562, 2.877206380631449, 3.029682620095989, 3.1090476869811656, 2.908192065818578, 3.2271349453035016, 3.106051448050941, 3.128438397098393, 2.9467083871516686, 3.0574046817961853, 3.023341858415377, 3.0284708963871148, 2.7441229796228255, 3.019478668443558, 3.3186573180598913, 2.859649576753283, 2.7615134947467292, 3.0185007100577717, 3.1336887066324066, 2.5824323638950384, 3.248021412888798, 2.6834429848989734, 2.9645299234642795, 2.910054489537696, 2.624846877735188, 3.0222113935352857, 3.189901760298841, 3.0625443677337767, 2.8857013023696734, 3.1369286222072743, 3.0184648425877705, 2.955545709535551, 3.027670206389646, 3.606010988942631, 2.6126329203767797, 3.289666015438148, 2.7276907858167183, 3.2033839588477626, 2.6580310820936797, 2.8772200344349894, 2.9684909174839387, 2.9946137974454574, 2.996965682491933, 2.8360090239087667, 2.996529406432553, 2.8210847453949497, 3.3147831767364186, 3.0785132765298853, 2.7928142831949754, 3.3345886626480663], \"xaxis\": \"x\", \"y\": [-0.17767732357540014, 0.15353831097127407, -0.117818607821675, -0.22672837204209745, 0.014594522448730371, 0.023558589191053598, 0.046652904377657387, -0.12386302402716805, 0.07393602233269023, -0.3726669924440929, -0.27978958147663385, -0.005101881786272734, 0.2284658232356106, 0.1262019972875543, 0.18149483272147307, 0.27202299874642427, 0.027472412902195358, 0.26981599359456865, 0.005365716800778486, -0.01183153753131485, 0.22315486970440734, 0.038764552849500644, 0.030777141517696956, 0.24234808801234164, -0.10508688865152684, 0.12765054813998583, -0.3934181193662247, -0.02478841991027447, -0.2874925781174555, -0.33384215742734674, 0.025679213632870068, 0.275865994496419, 0.03958601925244028, -0.020802594388019076, 0.007656281784057347, 0.05549885010228552, 0.06575239595018227, -0.04759533103028783, 0.2200058192519541, -0.1596120760103217, 0.09709131313614305, 0.004345606896141711, -0.3238424102940451, -0.07559247056152128, 0.10028255459809914, -0.016743632671321354, -0.06019128611054037, 0.11283442639345158, -0.13296706908828718, -0.023427309652840643], \"yaxis\": \"y\"}],                        {\"height\": 600, \"legend\": {\"title\": {\"text\": \"Cluster\"}, \"tracegroupgap\": 0}, \"margin\": {\"t\": 60}, \"plot_bgcolor\": \"rgb(240,240,240)\", \"template\": {\"data\": {\"bar\": [{\"error_x\": {\"color\": \"#2a3f5f\"}, \"error_y\": {\"color\": \"#2a3f5f\"}, \"marker\": {\"line\": {\"color\": \"#E5ECF6\", \"width\": 0.5}}, \"type\": \"bar\"}], \"barpolar\": [{\"marker\": {\"line\": {\"color\": \"#E5ECF6\", \"width\": 0.5}}, \"type\": \"barpolar\"}], \"carpet\": [{\"aaxis\": {\"endlinecolor\": \"#2a3f5f\", \"gridcolor\": \"white\", \"linecolor\": \"white\", \"minorgridcolor\": \"white\", \"startlinecolor\": \"#2a3f5f\"}, \"baxis\": {\"endlinecolor\": \"#2a3f5f\", \"gridcolor\": \"white\", \"linecolor\": \"white\", \"minorgridcolor\": \"white\", \"startlinecolor\": \"#2a3f5f\"}, \"type\": \"carpet\"}], \"choropleth\": [{\"colorbar\": {\"outlinewidth\": 0, \"ticks\": \"\"}, \"type\": \"choropleth\"}], \"contour\": [{\"colorbar\": {\"outlinewidth\": 0, \"ticks\": \"\"}, \"colorscale\": [[0.0, \"#0d0887\"], [0.1111111111111111, \"#46039f\"], [0.2222222222222222, \"#7201a8\"], [0.3333333333333333, \"#9c179e\"], [0.4444444444444444, \"#bd3786\"], [0.5555555555555556, \"#d8576b\"], [0.6666666666666666, \"#ed7953\"], [0.7777777777777778, \"#fb9f3a\"], [0.8888888888888888, \"#fdca26\"], [1.0, \"#f0f921\"]], \"type\": \"contour\"}], \"contourcarpet\": [{\"colorbar\": {\"outlinewidth\": 0, \"ticks\": \"\"}, \"type\": \"contourcarpet\"}], \"heatmap\": [{\"colorbar\": {\"outlinewidth\": 0, \"ticks\": \"\"}, \"colorscale\": [[0.0, \"#0d0887\"], [0.1111111111111111, \"#46039f\"], [0.2222222222222222, \"#7201a8\"], [0.3333333333333333, \"#9c179e\"], [0.4444444444444444, \"#bd3786\"], [0.5555555555555556, \"#d8576b\"], [0.6666666666666666, \"#ed7953\"], [0.7777777777777778, \"#fb9f3a\"], [0.8888888888888888, \"#fdca26\"], [1.0, \"#f0f921\"]], \"type\": \"heatmap\"}], \"heatmapgl\": [{\"colorbar\": {\"outlinewidth\": 0, \"ticks\": \"\"}, \"colorscale\": [[0.0, \"#0d0887\"], [0.1111111111111111, \"#46039f\"], [0.2222222222222222, \"#7201a8\"], [0.3333333333333333, \"#9c179e\"], [0.4444444444444444, \"#bd3786\"], [0.5555555555555556, \"#d8576b\"], [0.6666666666666666, \"#ed7953\"], [0.7777777777777778, \"#fb9f3a\"], [0.8888888888888888, \"#fdca26\"], [1.0, \"#f0f921\"]], \"type\": \"heatmapgl\"}], \"histogram\": [{\"marker\": {\"colorbar\": {\"outlinewidth\": 0, \"ticks\": \"\"}}, \"type\": \"histogram\"}], \"histogram2d\": [{\"colorbar\": {\"outlinewidth\": 0, \"ticks\": \"\"}, \"colorscale\": [[0.0, \"#0d0887\"], [0.1111111111111111, \"#46039f\"], [0.2222222222222222, \"#7201a8\"], [0.3333333333333333, \"#9c179e\"], [0.4444444444444444, \"#bd3786\"], [0.5555555555555556, \"#d8576b\"], [0.6666666666666666, \"#ed7953\"], [0.7777777777777778, \"#fb9f3a\"], [0.8888888888888888, \"#fdca26\"], [1.0, \"#f0f921\"]], \"type\": \"histogram2d\"}], \"histogram2dcontour\": [{\"colorbar\": {\"outlinewidth\": 0, \"ticks\": \"\"}, \"colorscale\": [[0.0, \"#0d0887\"], [0.1111111111111111, \"#46039f\"], [0.2222222222222222, \"#7201a8\"], [0.3333333333333333, \"#9c179e\"], [0.4444444444444444, \"#bd3786\"], [0.5555555555555556, \"#d8576b\"], [0.6666666666666666, \"#ed7953\"], [0.7777777777777778, \"#fb9f3a\"], [0.8888888888888888, \"#fdca26\"], [1.0, \"#f0f921\"]], \"type\": \"histogram2dcontour\"}], \"mesh3d\": [{\"colorbar\": {\"outlinewidth\": 0, \"ticks\": \"\"}, \"type\": \"mesh3d\"}], \"parcoords\": [{\"line\": {\"colorbar\": {\"outlinewidth\": 0, \"ticks\": \"\"}}, \"type\": \"parcoords\"}], \"pie\": [{\"automargin\": true, \"type\": \"pie\"}], \"scatter\": [{\"marker\": {\"colorbar\": {\"outlinewidth\": 0, \"ticks\": \"\"}}, \"type\": \"scatter\"}], \"scatter3d\": [{\"line\": {\"colorbar\": {\"outlinewidth\": 0, \"ticks\": \"\"}}, \"marker\": {\"colorbar\": {\"outlinewidth\": 0, \"ticks\": \"\"}}, \"type\": \"scatter3d\"}], \"scattercarpet\": [{\"marker\": {\"colorbar\": {\"outlinewidth\": 0, \"ticks\": \"\"}}, \"type\": \"scattercarpet\"}], \"scattergeo\": [{\"marker\": {\"colorbar\": {\"outlinewidth\": 0, \"ticks\": \"\"}}, \"type\": \"scattergeo\"}], \"scattergl\": [{\"marker\": {\"colorbar\": {\"outlinewidth\": 0, \"ticks\": \"\"}}, \"type\": \"scattergl\"}], \"scattermapbox\": [{\"marker\": {\"colorbar\": {\"outlinewidth\": 0, \"ticks\": \"\"}}, \"type\": \"scattermapbox\"}], \"scatterpolar\": [{\"marker\": {\"colorbar\": {\"outlinewidth\": 0, \"ticks\": \"\"}}, \"type\": \"scatterpolar\"}], \"scatterpolargl\": [{\"marker\": {\"colorbar\": {\"outlinewidth\": 0, \"ticks\": \"\"}}, \"type\": \"scatterpolargl\"}], \"scatterternary\": [{\"marker\": {\"colorbar\": {\"outlinewidth\": 0, \"ticks\": \"\"}}, \"type\": \"scatterternary\"}], \"surface\": [{\"colorbar\": {\"outlinewidth\": 0, \"ticks\": \"\"}, \"colorscale\": [[0.0, \"#0d0887\"], [0.1111111111111111, \"#46039f\"], [0.2222222222222222, \"#7201a8\"], [0.3333333333333333, \"#9c179e\"], [0.4444444444444444, \"#bd3786\"], [0.5555555555555556, \"#d8576b\"], [0.6666666666666666, \"#ed7953\"], [0.7777777777777778, \"#fb9f3a\"], [0.8888888888888888, \"#fdca26\"], [1.0, \"#f0f921\"]], \"type\": \"surface\"}], \"table\": [{\"cells\": {\"fill\": {\"color\": \"#EBF0F8\"}, \"line\": {\"color\": \"white\"}}, \"header\": {\"fill\": {\"color\": \"#C8D4E3\"}, \"line\": {\"color\": \"white\"}}, \"type\": \"table\"}]}, \"layout\": {\"annotationdefaults\": {\"arrowcolor\": \"#2a3f5f\", \"arrowhead\": 0, \"arrowwidth\": 1}, \"coloraxis\": {\"colorbar\": {\"outlinewidth\": 0, \"ticks\": \"\"}}, \"colorscale\": {\"diverging\": [[0, \"#8e0152\"], [0.1, \"#c51b7d\"], [0.2, \"#de77ae\"], [0.3, \"#f1b6da\"], [0.4, \"#fde0ef\"], [0.5, \"#f7f7f7\"], [0.6, \"#e6f5d0\"], [0.7, \"#b8e186\"], [0.8, \"#7fbc41\"], [0.9, \"#4d9221\"], [1, \"#276419\"]], \"sequential\": [[0.0, \"#0d0887\"], [0.1111111111111111, \"#46039f\"], [0.2222222222222222, \"#7201a8\"], [0.3333333333333333, \"#9c179e\"], [0.4444444444444444, \"#bd3786\"], [0.5555555555555556, \"#d8576b\"], [0.6666666666666666, \"#ed7953\"], [0.7777777777777778, \"#fb9f3a\"], [0.8888888888888888, \"#fdca26\"], [1.0, \"#f0f921\"]], \"sequentialminus\": [[0.0, \"#0d0887\"], [0.1111111111111111, \"#46039f\"], [0.2222222222222222, \"#7201a8\"], [0.3333333333333333, \"#9c179e\"], [0.4444444444444444, \"#bd3786\"], [0.5555555555555556, \"#d8576b\"], [0.6666666666666666, \"#ed7953\"], [0.7777777777777778, \"#fb9f3a\"], [0.8888888888888888, \"#fdca26\"], [1.0, \"#f0f921\"]]}, \"colorway\": [\"#636efa\", \"#EF553B\", \"#00cc96\", \"#ab63fa\", \"#FFA15A\", \"#19d3f3\", \"#FF6692\", \"#B6E880\", \"#FF97FF\", \"#FECB52\"], \"font\": {\"color\": \"#2a3f5f\"}, \"geo\": {\"bgcolor\": \"white\", \"lakecolor\": \"white\", \"landcolor\": \"#E5ECF6\", \"showlakes\": true, \"showland\": true, \"subunitcolor\": \"white\"}, \"hoverlabel\": {\"align\": \"left\"}, \"hovermode\": \"closest\", \"mapbox\": {\"style\": \"light\"}, \"paper_bgcolor\": \"white\", \"plot_bgcolor\": \"#E5ECF6\", \"polar\": {\"angularaxis\": {\"gridcolor\": \"white\", \"linecolor\": \"white\", \"ticks\": \"\"}, \"bgcolor\": \"#E5ECF6\", \"radialaxis\": {\"gridcolor\": \"white\", \"linecolor\": \"white\", \"ticks\": \"\"}}, \"scene\": {\"xaxis\": {\"backgroundcolor\": \"#E5ECF6\", \"gridcolor\": \"white\", \"gridwidth\": 2, \"linecolor\": \"white\", \"showbackground\": true, \"ticks\": \"\", \"zerolinecolor\": \"white\"}, \"yaxis\": {\"backgroundcolor\": \"#E5ECF6\", \"gridcolor\": \"white\", \"gridwidth\": 2, \"linecolor\": \"white\", \"showbackground\": true, \"ticks\": \"\", \"zerolinecolor\": \"white\"}, \"zaxis\": {\"backgroundcolor\": \"#E5ECF6\", \"gridcolor\": \"white\", \"gridwidth\": 2, \"linecolor\": \"white\", \"showbackground\": true, \"ticks\": \"\", \"zerolinecolor\": \"white\"}}, \"shapedefaults\": {\"line\": {\"color\": \"#2a3f5f\"}}, \"ternary\": {\"aaxis\": {\"gridcolor\": \"white\", \"linecolor\": \"white\", \"ticks\": \"\"}, \"baxis\": {\"gridcolor\": \"white\", \"linecolor\": \"white\", \"ticks\": \"\"}, \"bgcolor\": \"#E5ECF6\", \"caxis\": {\"gridcolor\": \"white\", \"linecolor\": \"white\", \"ticks\": \"\"}}, \"title\": {\"x\": 0.05}, \"xaxis\": {\"automargin\": true, \"gridcolor\": \"white\", \"linecolor\": \"white\", \"ticks\": \"\", \"title\": {\"standoff\": 15}, \"zerolinecolor\": \"white\", \"zerolinewidth\": 2}, \"yaxis\": {\"automargin\": true, \"gridcolor\": \"white\", \"linecolor\": \"white\", \"ticks\": \"\", \"title\": {\"standoff\": 15}, \"zerolinecolor\": \"white\", \"zerolinewidth\": 2}}}, \"title\": {\"text\": \"2D Cluster PCA Plot\"}, \"xaxis\": {\"anchor\": \"y\", \"domain\": [0.0, 1.0], \"title\": {\"text\": \"PCA1\"}}, \"yaxis\": {\"anchor\": \"x\", \"domain\": [0.0, 1.0], \"title\": {\"text\": \"PCA2\"}}},                        {\"responsive\": true}                    ).then(function(){\n",
       "                            \n",
       "var gd = document.getElementById('d6bd1cbd-a10e-441e-8009-703ff27672d1');\n",
       "var x = new MutationObserver(function (mutations, observer) {{\n",
       "        var display = window.getComputedStyle(gd).display;\n",
       "        if (!display || display === 'none') {{\n",
       "            console.log([gd, 'removed!']);\n",
       "            Plotly.purge(gd);\n",
       "            observer.disconnect();\n",
       "        }}\n",
       "}});\n",
       "\n",
       "// Listen for the removal of the full notebook cells\n",
       "var notebookContainer = gd.closest('#notebook-container');\n",
       "if (notebookContainer) {{\n",
       "    x.observe(notebookContainer, {childList: true});\n",
       "}}\n",
       "\n",
       "// Listen for the clearing of the current output cell\n",
       "var outputEl = gd.closest('.output');\n",
       "if (outputEl) {{\n",
       "    x.observe(outputEl, {childList: true});\n",
       "}}\n",
       "\n",
       "                        })                };                });            </script>        </div>"
      ]
     },
     "metadata": {},
     "output_type": "display_data"
    }
   ],
   "source": [
    "plot_model(km)"
   ]
  },
  {
   "cell_type": "code",
   "execution_count": 80,
   "metadata": {},
   "outputs": [
    {
     "data": {
      "text/plain": [
       "<function pycaret.clustering.save_model(model, model_name, model_only=False, verbose=True)>"
      ]
     },
     "execution_count": 80,
     "metadata": {},
     "output_type": "execute_result"
    }
   ],
   "source": [
    "save_model"
   ]
  },
  {
   "cell_type": "code",
   "execution_count": 81,
   "metadata": {},
   "outputs": [
    {
     "data": {
      "text/plain": [
       "<function pycaret.clustering.load_model(model_name, platform=None, authentication=None, verbose=True)>"
      ]
     },
     "execution_count": 81,
     "metadata": {},
     "output_type": "execute_result"
    }
   ],
   "source": [
    "load_model"
   ]
  },
  {
   "cell_type": "code",
   "execution_count": 82,
   "metadata": {},
   "outputs": [
    {
     "ename": "TypeError",
     "evalue": "predict_model() missing 2 required positional arguments: 'model' and 'data'",
     "output_type": "error",
     "traceback": [
      "\u001b[1;31m---------------------------------------------------------------------------\u001b[0m",
      "\u001b[1;31mTypeError\u001b[0m                                 Traceback (most recent call last)",
      "\u001b[1;32m<ipython-input-82-9666536b9092>\u001b[0m in \u001b[0;36m<module>\u001b[1;34m\u001b[0m\n\u001b[1;32m----> 1\u001b[1;33m \u001b[0mpredict_model\u001b[0m\u001b[1;33m(\u001b[0m\u001b[1;33m)\u001b[0m\u001b[1;33m\u001b[0m\u001b[1;33m\u001b[0m\u001b[0m\n\u001b[0m",
      "\u001b[1;31mTypeError\u001b[0m: predict_model() missing 2 required positional arguments: 'model' and 'data'"
     ]
    }
   ],
   "source": [
    "predict_model()"
   ]
  },
  {
   "cell_type": "code",
   "execution_count": null,
   "metadata": {},
   "outputs": [],
   "source": []
  }
 ],
 "metadata": {
  "kernelspec": {
   "display_name": "Python 3",
   "language": "python",
   "name": "python3"
  },
  "language_info": {
   "codemirror_mode": {
    "name": "ipython",
    "version": 3
   },
   "file_extension": ".py",
   "mimetype": "text/x-python",
   "name": "python",
   "nbconvert_exporter": "python",
   "pygments_lexer": "ipython3",
   "version": "3.7.8"
  }
 },
 "nbformat": 4,
 "nbformat_minor": 4
}
